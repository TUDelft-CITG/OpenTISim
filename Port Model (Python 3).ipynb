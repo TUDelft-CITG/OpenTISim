{
 "cells": [
  {
   "cell_type": "markdown",
   "metadata": {},
   "source": [
    "# Table of Contents\n",
    "\n",
    "## 1 Data Import\n",
    "#### 1.1 Importing Python Libraries\n",
    "#### 1.2 Importing Excel Data <br>\n",
    "\n",
    "## 2 Defining Global Parameters\n",
    "#### 2.1 Time Related Parameters\n",
    "#### 2.2 Finance Related Parameters\n",
    "#### 2.3 Traffic Projections \n",
    "#### 2.4 Port Element Specification\n",
    "#### 2.5 Existing Port Infrastructure<br>\n",
    "\n",
    "## 3 Cash Flows\n",
    "#### 3.1 Revenue Calculations\n",
    "#### 3.2 Capex Calculations\n",
    "#### 3.3 Opex Calclulations\n",
    "#### 3.4 Demurrage Cost Calculations\n",
    "#### 3.5 Residual Asset Calculations <br>\n",
    "\n",
    "## 4 Port Optimization\n",
    "<br>"
   ]
  },
  {
   "cell_type": "markdown",
   "metadata": {},
   "source": [
    "# 1 Data Import\n",
    "- 1.1 Importing Python Libraries\n",
    "- 1.2 Importing Excel Data"
   ]
  },
  {
   "cell_type": "code",
   "execution_count": 1,
   "metadata": {},
   "outputs": [
    {
     "name": "stdout",
     "output_type": "stream",
     "text": [
      "Once deleted, variables cannot be recovered. Proceed (y/[n])? y\n"
     ]
    }
   ],
   "source": [
    "%reset"
   ]
  },
  {
   "cell_type": "markdown",
   "metadata": {},
   "source": [
    "## 1.1 Importing Python Libraries"
   ]
  },
  {
   "cell_type": "code",
   "execution_count": 2,
   "metadata": {},
   "outputs": [],
   "source": [
    "import numpy as np\n",
    "import matplotlib.pyplot as plt\n",
    "import pandas as pd\n",
    "import sys\n",
    "import os\n",
    "import itertools\n",
    "from sys import getsizeof\n",
    "import timeit"
   ]
  },
  {
   "cell_type": "markdown",
   "metadata": {},
   "source": [
    "## 1.2 Importing Excel Data "
   ]
  },
  {
   "cell_type": "code",
   "execution_count": 3,
   "metadata": {},
   "outputs": [],
   "source": [
    "################################################################################\n",
    "\n",
    "# Read excel data\n",
    "\n",
    "df_tf                = pd.read_excel ('Excel_input.xlsx', 'TF')\n",
    "df_vs                = pd.read_excel ('Excel_input.xlsx', 'Vessel specs')\n",
    "df_vd                = pd.read_excel ('Excel_input.xlsx', 'Vessel distribution')\n",
    "df_single_parameters = pd.read_excel ('Excel_input.xlsx', 'Single parameters')\n",
    "df_equipment_specs   = pd.read_excel ('Excel_input.xlsx', 'Equip specs')\n",
    "df_handling_fees     = pd.read_excel ('Excel_input.xlsx', 'Handling fees')\n",
    "df_equipment_input   = pd.read_excel ('Excel_input.xlsx', 'Handling fees')\n",
    "df_ownership         = pd.read_excel ('Excel_input.xlsx', 'Ownership')\n",
    "df_existing_port     = pd.read_excel ('Excel_input.xlsx', 'Existing port')\n",
    "df_unloaders         = pd.read_excel ('Excel_input.xlsx', 'Unloaders')\n",
    "df_depreciation      = pd.read_excel ('Excel_input.xlsx', 'Depreciation')\n",
    "\n",
    "################################################################################\n",
    "\n",
    "# Dataframe lookup function\n",
    "\n",
    "def lookup(aspect,dataframe,jumps):  \n",
    "    for i in range (len(dataframe)):\n",
    "        if dataframe.iloc [i,0] == aspect:\n",
    "            return dataframe.iloc[i,jumps]\n",
    "        \n",
    "################################################################################"
   ]
  },
  {
   "cell_type": "markdown",
   "metadata": {},
   "source": [
    "# 2 Defining Global Parameters\n",
    "- 2.1 Time Related Parameters\n",
    "- 2.2 Traffic Projections\n",
    "- 2.3 Finance Related Parameters\n",
    "- 2.4 Port Element Specifications"
   ]
  },
  {
   "cell_type": "markdown",
   "metadata": {},
   "source": [
    "## 2.1 Time Related Parameters"
   ]
  },
  {
   "cell_type": "code",
   "execution_count": 4,
   "metadata": {},
   "outputs": [],
   "source": [
    "################################################################################################################################\n",
    "\n",
    "# Time related parameters\n",
    "\n",
    "start_year = df_tf.iloc [0,0]\n",
    "end_year   = 2025 #df_tf.iloc [(len(df_tf)-1),0]\n",
    "n_years    = int(end_year - start_year + 1)\n",
    "n_a        = int(df_single_parameters.iloc [0,1]) \n",
    "\n",
    "################################################################################################################################"
   ]
  },
  {
   "cell_type": "markdown",
   "metadata": {},
   "source": [
    "## 2.2 Traffic Projections\n",
    "- 2.2.1 Traffic Forecast\n",
    "- 2.2.2 Traffic Throughput"
   ]
  },
  {
   "cell_type": "markdown",
   "metadata": {},
   "source": [
    "### 2.2.1 Traffic forecast "
   ]
  },
  {
   "cell_type": "code",
   "execution_count": 5,
   "metadata": {},
   "outputs": [],
   "source": [
    "# Traffic forecast (Excel input)\n",
    "\n",
    "tf_maize    = np.zeros(n_years)\n",
    "tf_soybeans = np.zeros(n_years)\n",
    "tf_wheat    = np.zeros(n_years)\n",
    "tf_total    = np.zeros(n_years)\n",
    "\n",
    "for i in range(n_years):\n",
    "    tf_maize[i]    = df_tf.iloc[i,1]\n",
    "    tf_soybeans[i] = df_tf.iloc[i,2]\n",
    "    tf_wheat[i]    = df_tf.iloc[i,3]\n",
    "\n",
    "# Throughput per commodity in vector form\n",
    "tf_maize_vector    = tf_maize.reshape((-1, 1)) \n",
    "tf_soybeans_vector = tf_soybeans.reshape((-1, 1))\n",
    "tf_wheat_vector    = tf_wheat.reshape((-1, 1))\n",
    "tf_total_vector    = tf_maize + tf_soybeans + tf_wheat\n",
    "\n",
    "def tf_maize(t):\n",
    "    return tf_maize_vector[t]\n",
    "\n",
    "def tf_soybeans(t):\n",
    "    return tf_soybeans_vector[t]\n",
    "\n",
    "def tf_wheat(t):\n",
    "    return tf_wheat_vector[t]\n",
    "\n",
    "def tf_total(t):\n",
    "    return tf_total_vector[t]"
   ]
  },
  {
   "cell_type": "markdown",
   "metadata": {},
   "source": [
    "### 2.2.2 Traffic throughput "
   ]
  },
  {
   "cell_type": "code",
   "execution_count": 6,
   "metadata": {},
   "outputs": [],
   "source": [
    "# Traffic throughput\n",
    "\n",
    "def throughput_maize(t):\n",
    "    return tf_maize(t)    * cdr\n",
    "\n",
    "def throughput_soybeans(t):\n",
    "    return tf_soybeans(t) * cdr\n",
    "\n",
    "def throughput_wheat(t):\n",
    "    return tf_wheat(t)    * cdr\n",
    "\n",
    "def throughput(t):\n",
    "    return tf_maize(t) + tf_soybeans(t) + tf_wheat(t)"
   ]
  },
  {
   "cell_type": "markdown",
   "metadata": {},
   "source": [
    "## 2.3 Finance Related Parameters\n",
    "- 2.3.1 WACC calc (linked to ownership)\n",
    "- 2.3.2 Depreciation calc \n",
    "- 2.3.3 Escalation calc\n",
    "- 2.3.4 Inflation correction (for historic prices) \n",
    "- 2.3.5 Currency exchange rate (€ : $)"
   ]
  },
  {
   "cell_type": "markdown",
   "metadata": {},
   "source": [
    "### 2.3.1 WACC calculation"
   ]
  },
  {
   "cell_type": "code",
   "execution_count": 7,
   "metadata": {},
   "outputs": [],
   "source": [
    "################################################################################\n",
    "\n",
    "# Ownership of the different terminal elements\n",
    "\n",
    "def ownership (aspect):\n",
    "    \n",
    "    for i in range (len(df_ownership)):\n",
    "        if df_ownership.iloc [i,0] == aspect:\n",
    "            return df_ownership.iloc[i,1]\n",
    "\n",
    "################################################################################\n",
    "\n",
    "# The nominal WACC of both entities (Port Authority and Terminal Operator)\n",
    "\n",
    "real_WACC_PA   = df_single_parameters.iloc [1,1]\n",
    "real_WACC_TO   = df_single_parameters.iloc [10,1]\n",
    "inflation_rate = df_single_parameters.iloc [2,1]\n",
    "PA_WACC        = np.zeros (n_years)\n",
    "TO_WACC        = np.zeros (n_years)\n",
    "\n",
    "for i in range (n_years):\n",
    "    PA_WACC[i] = 1 / ((1 + real_WACC_PA + inflation_rate)**(i))\n",
    "    TO_WACC[i] = 1 / ((1 + real_WACC_TO + inflation_rate)**(i))\n",
    "\n",
    "PA_WACC = PA_WACC.reshape((-1, 1))\n",
    "TO_WACC = TO_WACC.reshape((-1, 1))\n",
    "        \n",
    "################################################################################\n",
    "\n",
    "# Determining the applicable WACC in a specific year\n",
    "\n",
    "def WACC(aspect):\n",
    "    \n",
    "    if ownership(aspect) == 'Port authority':\n",
    "        return PA_WACC\n",
    "    if ownership(aspect) == 'Terminal operator':\n",
    "        return TO_WACC\n",
    "    \n",
    "################################################################################"
   ]
  },
  {
   "cell_type": "markdown",
   "metadata": {},
   "source": [
    "### 2.3.2 Depreciation calculation"
   ]
  },
  {
   "cell_type": "code",
   "execution_count": 8,
   "metadata": {},
   "outputs": [],
   "source": [
    "################################################################################################################################\n",
    "\n",
    "# Annual depreciation\n",
    "\n",
    "def depreciation(aspect):\n",
    "    rate = lookup(aspect,df_depreciation,1)\n",
    "    depreciation_vector = np.zeros(t+1)\n",
    "    for i_1 in range (t+1):\n",
    "        depreciation_vector[i_1] = 1 - (t-i_1) * rate\n",
    "    return depreciation_vector\n",
    "\n",
    "################################################################################################################################\n",
    "\n",
    "# Selling penalty\n",
    "\n",
    "def selling_penalty(aspect):\n",
    "    penalty = lookup(aspect,df_depreciation,2)\n",
    "    return penalty\n",
    "\n",
    "################################################################################################################################"
   ]
  },
  {
   "cell_type": "markdown",
   "metadata": {},
   "source": [
    "### 2.3.3 Escalation calculation"
   ]
  },
  {
   "cell_type": "code",
   "execution_count": 9,
   "metadata": {},
   "outputs": [],
   "source": [
    "# Defining all escalation factors\n",
    "\n",
    "def escalation_rate(aspect):\n",
    "    \n",
    "    for i in range (len(df_single_parameters)):\n",
    "        if df_single_parameters.iloc [i,0] == aspect:\n",
    "            return df_single_parameters.iloc[i,1]\n",
    "        \n",
    "def escalation(aspect):\n",
    "    \n",
    "    escalation_factor = np.zeros (n_years)\n",
    "    for i in range (n_years):\n",
    "        escalation_factor[i] = (1 + escalation_rate(aspect))**(i)  \n",
    "    return escalation_factor.reshape(-1,1)"
   ]
  },
  {
   "cell_type": "markdown",
   "metadata": {},
   "source": [
    "### 2.3.4 Inflation correction for historic prices"
   ]
  },
  {
   "cell_type": "code",
   "execution_count": 10,
   "metadata": {},
   "outputs": [],
   "source": [
    "################################################################################################################################\n",
    "\n",
    "# Euro inflation adjustment (source: ECB)\n",
    "\n",
    "def adjustment_factor_euro(year):\n",
    "    inflation_data = [1.20, 1.54, 0.24, 0.01, 0.44, 1.35, 2.50, 2.71, 1.62, 0.29, 3.29, 2.13, 2.19, 2.18, 2.14, 2.08, 2.27, 2.36, 2.11, 1.08, 1.09, 1.58]\n",
    "    data = np.zeros(2018 - year + 1)\n",
    "    for i in range (2018 - year + 1):\n",
    "        data[i] = 1+(inflation_data[i]/100)\n",
    "    return np.prod(data)\n",
    "\n",
    "################################################################################################################################\n",
    "\n",
    "# Dollar inflation adjustment (source: IMF)\n",
    "\n",
    "def adjustment_factor_dollar(year):\n",
    "    inflation_data = [2.34, 1.78, 0.45, 0.06, 0.45, 1.35, 2.45, 2.74, 1.62, 0.42, 3.09, 2.28, 2.19, 2.30, 2.22, 2.07, 2.29, 2.30, 2.21, 1.23, 1.13, 1.58]\n",
    "    data = np.zeros(2018 - year + 1)\n",
    "    for i in range (2018 - year + 1):\n",
    "        data[i] = 1+(inflation_data[i]/100)\n",
    "    return np.prod(data)\n",
    "\n",
    "################################################################################################################################"
   ]
  },
  {
   "cell_type": "markdown",
   "metadata": {},
   "source": [
    "### 2.3.5 Currency exchange rate (€ : $)"
   ]
  },
  {
   "cell_type": "code",
   "execution_count": 11,
   "metadata": {},
   "outputs": [],
   "source": [
    "# Euro to dollar exchange (source: ECB and averaged over 2018)\n",
    "\n",
    "def Euro_to_dollars(euros):\n",
    "    exchange_rate = 1.1924\n",
    "    return euros * exchange_rate"
   ]
  },
  {
   "cell_type": "markdown",
   "metadata": {},
   "source": [
    "## 2.4 Port Element Specifications\n",
    "- 2.4.1 Vessel specifications\n",
    "- 2.4.2 Quay wall specifications\n",
    "- 2.4.3 Unloader specifications\n",
    "- 2.4.4 Bunker specifications\n",
    "- 2.4.5 Conveyor specifications \n",
    "- 2.4.6 Storage specifications \n",
    "- 2.4.7 Loading station specifications"
   ]
  },
  {
   "cell_type": "markdown",
   "metadata": {},
   "source": [
    "### 2.4.1 Vessel Specifications\n",
    "- 2.4.1.1 Vessel specs\n",
    "- 2.4.1.2 Throughput distibution over vessel types"
   ]
  },
  {
   "cell_type": "markdown",
   "metadata": {},
   "source": [
    "###### 2.4.1.1 Vessel specs"
   ]
  },
  {
   "cell_type": "code",
   "execution_count": 12,
   "metadata": {},
   "outputs": [],
   "source": [
    "################################################################################################################################\n",
    "\n",
    "# Handysize specifications\n",
    "\n",
    "handysize_call_size    = df_vs.iloc [0,1]\n",
    "handysize_LOA          = df_vs.iloc [1,1]\n",
    "handysize_draft        = df_vs.iloc [2,1]\n",
    "handysize_beam         = df_vs.iloc [3,1]\n",
    "handysize_turn_time    = df_vs.iloc [5,1]\n",
    "handysize_mooring_time = df_vs.iloc [6,1]\n",
    "handysize_demurrage    = df_vs.iloc [7,1]\n",
    "\n",
    "################################################################################################################################\n",
    "\n",
    "# Handymax specifications\n",
    "\n",
    "handymax_call_size     = df_vs.iloc [0,2]\n",
    "handymax_LOA           = df_vs.iloc [1,2]\n",
    "handymax_draft         = df_vs.iloc [2,2]\n",
    "handymax_beam          = df_vs.iloc [3,2]\n",
    "handymax_turn_time     = df_vs.iloc [5,2]\n",
    "handymax_mooring_time  = df_vs.iloc [6,2]\n",
    "handymax_demurrage     = df_vs.iloc [7,2]\n",
    "\n",
    "################################################################################################################################\n",
    "\n",
    "# Panamax specifications\n",
    "\n",
    "panamax_call_size      = df_vs.iloc [0,3]\n",
    "panamax_LOA            = df_vs.iloc [1,3]\n",
    "panamax_draft          = df_vs.iloc [2,3]\n",
    "panamax_beam           = df_vs.iloc [3,3]\n",
    "panamax_turn_time      = df_vs.iloc [5,3]\n",
    "panamax_mooring_time   = df_vs.iloc [6,3]\n",
    "panamax_demurrage      = df_vs.iloc [7,3]\n",
    "\n",
    "################################################################################################################################"
   ]
  },
  {
   "cell_type": "markdown",
   "metadata": {},
   "source": [
    "###### 2.4.1.2 Throughput distribution over vessel types"
   ]
  },
  {
   "cell_type": "code",
   "execution_count": 13,
   "metadata": {},
   "outputs": [],
   "source": [
    "# Vessel modal split per vesseltype per commodity\n",
    "\n",
    "distribution_maize_handysize    = np.zeros(n_years)\n",
    "distribution_maize_handymax     = np.zeros(n_years)\n",
    "distribution_maize_panamax      = np.zeros(n_years)\n",
    "distribution_soybeans_handysize = np.zeros(n_years)\n",
    "distribution_soybeans_handymax  = np.zeros(n_years)\n",
    "distribution_soybeans_panamax   = np.zeros(n_years)\n",
    "distribution_wheat_handysize    = np.zeros(n_years)\n",
    "distribution_wheat_handymax     = np.zeros(n_years)\n",
    "distribution_wheat_panamax      = np.zeros(n_years)\n",
    "\n",
    "for i in range(n_years):\n",
    "    distribution_maize_handysize[i]    = df_vd.iloc [i,2]\n",
    "    distribution_maize_handymax[i]     = df_vd.iloc [i,3]\n",
    "    distribution_maize_panamax[i]      = df_vd.iloc [i,4]\n",
    "\n",
    "    distribution_soybeans_handysize[i] = df_vd.iloc [i,6]\n",
    "    distribution_soybeans_handymax[i]  = df_vd.iloc [i,7]\n",
    "    distribution_soybeans_panamax[i]   = df_vd.iloc [i,8]\n",
    "    \n",
    "    distribution_wheat_handysize[i]    = df_vd.iloc [i,10]\n",
    "    distribution_wheat_handymax[i]     = df_vd.iloc [i,11]\n",
    "    distribution_wheat_panamax[i]      = df_vd.iloc [i,12]\n",
    "\n",
    "def percentage_maize_handysize(t):\n",
    "    return distribution_maize_handysize[t]  \n",
    "def percentage_maize_handymax(t):\n",
    "    return distribution_maize_handymax[t]\n",
    "def percentage_maize_panamax(t):\n",
    "    return distribution_maize_panamax[t]    \n",
    "def percentage_soybeans_handysize(t):\n",
    "    return distribution_soybeans_handysize[t]    \n",
    "def percentage_soybeans_handymax(t):\n",
    "    return distribution_soybeans_handymax[t]   \n",
    "def percentage_soybeans_panamax(t):\n",
    "    return distribution_soybeans_panamax[t]    \n",
    "def percentage_wheat_handysize(t):\n",
    "    return distribution_wheat_handysize[t]    \n",
    "def percentage_wheat_handymax(t):\n",
    "    return distribution_wheat_handymax[t]    \n",
    "def percentage_wheat_panamax(t):\n",
    "    return distribution_wheat_panamax[t]    \n",
    "\n",
    "################################################################################################################################"
   ]
  },
  {
   "cell_type": "markdown",
   "metadata": {},
   "source": [
    "### 2.4.2 Quay Wall Specifications\n",
    "- 2.4.2.1 Unit price \n",
    "- 2.4.2.2 Mobilisations costs"
   ]
  },
  {
   "cell_type": "markdown",
   "metadata": {},
   "source": [
    "###### 2.4.2.1 Quay wall unit price"
   ]
  },
  {
   "cell_type": "code",
   "execution_count": null,
   "metadata": {},
   "outputs": [],
   "source": []
  },
  {
   "cell_type": "markdown",
   "metadata": {},
   "source": [
    "###### 2.4.2.2 Quay wall mobilisation costs"
   ]
  },
  {
   "cell_type": "code",
   "execution_count": null,
   "metadata": {},
   "outputs": [],
   "source": []
  },
  {
   "cell_type": "markdown",
   "metadata": {},
   "source": [
    "### 2.4.3 Unloader Specifications\n",
    "- 2.4.3.1 Capacity\n",
    "- 2.4.3.2 Unit price\n",
    "- 2.4.3.3 Mobilisations costs\n",
    "- 2.4.3.4 Operational costs"
   ]
  },
  {
   "cell_type": "markdown",
   "metadata": {},
   "source": [
    "###### 2.4.3.1 Unloader capacity"
   ]
  },
  {
   "cell_type": "code",
   "execution_count": 14,
   "metadata": {},
   "outputs": [],
   "source": [
    "# Unloader capacity\n",
    "\n",
    "def capacity_unloaders():\n",
    "    \n",
    "    unloader_type = lookup('Unloader type',df_unloaders,1)\n",
    "  \n",
    "    if unloader_type == 'Gantry crane':\n",
    "        lifting_capacity   = 50\n",
    "        payload            = 0.70 * lifting_capacity    #Source: Nemag\n",
    "        hourly_cycles      = 60                         #Source: Nemag\n",
    "        peak_capacity      = payload * hourly_cycles    #Or as direct input \n",
    "        effective_capacity = 0.60 * peak_capacity       #Source: TATA steel\n",
    "        #weight            = KN / m2\n",
    "        #annual_maintenance=\n",
    "        return effective_capacity\n",
    "\n",
    "    if unloader_type == 'Harbour crane':\n",
    "        lifting_capacity   = 40\n",
    "        payload            = 0.70 * lifting_capacity    #Source: Nemag\n",
    "        hourly_cycles      = 40                         #Source: IGMA\n",
    "        peak_capacity      = payload * hourly_cycles    #Or as direct input \n",
    "        effective_capacity = 0.60 * peak_capacity\n",
    "        #weight            =    \n",
    "        #annual_maintenance=\n",
    "        return effective_capacity\n",
    "\n",
    "    if unloader_type == 'Mobile crane':\n",
    "        lifting_capacity   = 40\n",
    "        payload            = 0.70 * lifting_capacity\n",
    "        hourly_cycles      = 30\n",
    "        peak_capacity      = payload * hourly_cycles    #Or as direct input\n",
    "        effective_capacity = 0.50 * peak_capacity\n",
    "        #weight            =\n",
    "        #annual_maintenance=\n",
    "        return effective_capacity\n",
    "\n",
    "    if unloader_type == 'Screw unloader':\n",
    "        peak_capacity          = 1400\n",
    "        rated_capacity         = 0.70 * peak_capacity        #Source: Bunge\n",
    "        effective_capacity     = 0.55 * peak_capacity        #Source: Bunge\n",
    "        #weight                = KN / m2\n",
    "        #annual_maintenance    = 2% of investment costs\n",
    "        return effective_capacity"
   ]
  },
  {
   "cell_type": "markdown",
   "metadata": {},
   "source": [
    "###### 2.4.3.2 Unloader unit price"
   ]
  },
  {
   "cell_type": "markdown",
   "metadata": {},
   "source": [
    "###### 2.4.3.3 Unloader mobilisations costs"
   ]
  },
  {
   "cell_type": "markdown",
   "metadata": {},
   "source": [
    "###### 2.4.3.4 Unloader operational costs"
   ]
  },
  {
   "cell_type": "markdown",
   "metadata": {},
   "source": [
    "### 2.4.4 Bunker Specifications\n",
    "- 2.4.4.1 Capacity\n",
    "- 2.4.4.2 Unit price\n",
    "- 2.4.4.3 Mobilisations costs\n",
    "- 2.4.4.4 Operational costs"
   ]
  },
  {
   "cell_type": "markdown",
   "metadata": {},
   "source": [
    "###### 2.4.4.1 Bunker capacity"
   ]
  },
  {
   "cell_type": "code",
   "execution_count": null,
   "metadata": {},
   "outputs": [],
   "source": []
  },
  {
   "cell_type": "markdown",
   "metadata": {},
   "source": [
    "###### 2.4.4.2 Bunker unit price"
   ]
  },
  {
   "cell_type": "code",
   "execution_count": null,
   "metadata": {},
   "outputs": [],
   "source": []
  },
  {
   "cell_type": "markdown",
   "metadata": {},
   "source": [
    "###### 2.4.4.3 Bunker mobilisations costs"
   ]
  },
  {
   "cell_type": "code",
   "execution_count": null,
   "metadata": {},
   "outputs": [],
   "source": []
  },
  {
   "cell_type": "markdown",
   "metadata": {},
   "source": [
    "###### 2.4.4.4 Bunker operational costs"
   ]
  },
  {
   "cell_type": "code",
   "execution_count": null,
   "metadata": {},
   "outputs": [],
   "source": []
  },
  {
   "cell_type": "markdown",
   "metadata": {},
   "source": [
    "### 2.4.5 Conveyor Specifications\n",
    "- 2.4.5.1 Conveyor length\n",
    "- 2.4.5.2 Capacity\n",
    "- 2.4.5.3 Unit price\n",
    "- 2.4.5.4 Mobilisations costs\n",
    "- 2.4.5.5 Operational costs"
   ]
  },
  {
   "cell_type": "markdown",
   "metadata": {},
   "source": [
    "###### 2.4.5.1 Conveyor length"
   ]
  },
  {
   "cell_type": "code",
   "execution_count": null,
   "metadata": {},
   "outputs": [],
   "source": []
  },
  {
   "cell_type": "markdown",
   "metadata": {},
   "source": [
    "###### 2.4.5.2 Conveyor capacity"
   ]
  },
  {
   "cell_type": "code",
   "execution_count": null,
   "metadata": {},
   "outputs": [],
   "source": []
  },
  {
   "cell_type": "markdown",
   "metadata": {},
   "source": [
    "###### 2.4.5.3 Conveyor unit price"
   ]
  },
  {
   "cell_type": "code",
   "execution_count": null,
   "metadata": {},
   "outputs": [],
   "source": []
  },
  {
   "cell_type": "markdown",
   "metadata": {},
   "source": [
    "###### 2.4.5.4 Conveyor mobilisations costs"
   ]
  },
  {
   "cell_type": "code",
   "execution_count": null,
   "metadata": {},
   "outputs": [],
   "source": []
  },
  {
   "cell_type": "markdown",
   "metadata": {},
   "source": [
    "###### 2.4.5.5 Conveyor operational costs"
   ]
  },
  {
   "cell_type": "code",
   "execution_count": null,
   "metadata": {},
   "outputs": [],
   "source": []
  },
  {
   "cell_type": "markdown",
   "metadata": {},
   "source": [
    "### 2.4.6 Storage Specifications\n",
    "- 2.4.6.1 Capacity\n",
    "- 2.4.6.2 Unit price\n",
    "- 2.4.6.3 Mobilisations costs\n",
    "- 2.4.6.4 Operational costs"
   ]
  },
  {
   "cell_type": "markdown",
   "metadata": {},
   "source": [
    "###### 2.4.6.1 Storage capacity"
   ]
  },
  {
   "cell_type": "code",
   "execution_count": null,
   "metadata": {},
   "outputs": [],
   "source": []
  },
  {
   "cell_type": "markdown",
   "metadata": {},
   "source": [
    "###### 2.4.6.2 Storage unit price"
   ]
  },
  {
   "cell_type": "code",
   "execution_count": null,
   "metadata": {},
   "outputs": [],
   "source": []
  },
  {
   "cell_type": "markdown",
   "metadata": {},
   "source": [
    "###### 2.4.6.3 Stoage mobilisations costs"
   ]
  },
  {
   "cell_type": "code",
   "execution_count": null,
   "metadata": {},
   "outputs": [],
   "source": []
  },
  {
   "cell_type": "markdown",
   "metadata": {},
   "source": [
    "###### 2.4.6.4 Storage operational costs"
   ]
  },
  {
   "cell_type": "code",
   "execution_count": null,
   "metadata": {},
   "outputs": [],
   "source": []
  },
  {
   "cell_type": "markdown",
   "metadata": {},
   "source": [
    "### 2.4.7 Loading Station Specifications\n",
    "- 2.4.7.1 Capacity\n",
    "- 2.4.7.2 Unit price\n",
    "- 2.4.7.3 Mobilisations costs\n",
    "- 2.4.7.4 Operational costs"
   ]
  },
  {
   "cell_type": "markdown",
   "metadata": {},
   "source": [
    "###### 2.4.7.1 Loading station capacity"
   ]
  },
  {
   "cell_type": "code",
   "execution_count": null,
   "metadata": {},
   "outputs": [],
   "source": []
  },
  {
   "cell_type": "markdown",
   "metadata": {},
   "source": [
    "###### 2.4.7.2 Loading station unit price"
   ]
  },
  {
   "cell_type": "code",
   "execution_count": null,
   "metadata": {},
   "outputs": [],
   "source": []
  },
  {
   "cell_type": "markdown",
   "metadata": {},
   "source": [
    "###### 2.4.7.3 Loading station mobilisations costs"
   ]
  },
  {
   "cell_type": "code",
   "execution_count": null,
   "metadata": {},
   "outputs": [],
   "source": []
  },
  {
   "cell_type": "markdown",
   "metadata": {},
   "source": [
    "###### 2.4.7.4 Loading station operational costs"
   ]
  },
  {
   "cell_type": "code",
   "execution_count": null,
   "metadata": {},
   "outputs": [],
   "source": []
  },
  {
   "cell_type": "markdown",
   "metadata": {},
   "source": [
    "## 2.5 Existing Port Infrastructure"
   ]
  },
  {
   "cell_type": "code",
   "execution_count": 15,
   "metadata": {},
   "outputs": [],
   "source": [
    "# Loads existing port infrastructure into the model (Excel input)\n",
    "\n",
    "existing_quay_length = lookup('Quay length', df_existing_port,1)\n",
    "existing_n_unloaders = lookup('Number of unloaders', df_existing_port,1)"
   ]
  },
  {
   "cell_type": "markdown",
   "metadata": {},
   "source": [
    "# 3 Cash Flows\n",
    "- 3.1 Revenue Calculations\n",
    "- 3.2 Capex Calculations\n",
    "- 3.3 Opex Calclulations\n",
    "- 3.4 Demurrage Cost Calculations\n",
    "- 3.5 Residual Asset Calculations <br>"
   ]
  },
  {
   "cell_type": "markdown",
   "metadata": {},
   "source": [
    "## 3.1 Revenue Calculations\n",
    "- 3.1.1 Handling fees\n",
    "- 3.1.2 Revenue calc"
   ]
  },
  {
   "cell_type": "markdown",
   "metadata": {},
   "source": [
    "### 3.1.1 Handling fees"
   ]
  },
  {
   "cell_type": "code",
   "execution_count": 16,
   "metadata": {},
   "outputs": [],
   "source": [
    "# Handling fees (Excel input)\n",
    "\n",
    "handling_fee_maize    = np.zeros(n_years)\n",
    "handling_fee_soybeans = np.zeros(n_years)\n",
    "handling_fee_wheat    = np.zeros(n_years)\n",
    "\n",
    "for i in range(n_years):\n",
    "    handling_fee_maize[i]    = df_handling_fees.iloc [i,1]\n",
    "    handling_fee_soybeans[i] = df_handling_fees.iloc [i,2]\n",
    "    handling_fee_wheat[i]    = df_handling_fees.iloc [i,3]\n",
    "\n",
    "def fees_maize(t):\n",
    "    return handling_fee_maize[t]\n",
    "\n",
    "def fees_soybeans(t):\n",
    "    return handling_fee_soybeans[t]\n",
    "\n",
    "def fees_wheat(t):\n",
    "    return handling_fee_wheat[t]"
   ]
  },
  {
   "cell_type": "markdown",
   "metadata": {},
   "source": [
    "### 3.1.2 Revenue calc"
   ]
  },
  {
   "cell_type": "code",
   "execution_count": 17,
   "metadata": {},
   "outputs": [],
   "source": [
    "################################################################################################################################\n",
    "\n",
    "# Nominal revenues \n",
    "\n",
    "def nominal_revenues(t):    \n",
    "    return((min(cdr, 1.0) * tf_maize(t)    * fees_maize(t)    +\\\n",
    "            min(cdr, 1.0) * tf_soybeans(t) * fees_soybeans(t) +\\\n",
    "            min(cdr, 1.0) * tf_wheat(t)    * fees_wheat(t))    )\n",
    "\n",
    "################################################################################################################################\n",
    "\n",
    "# Nominal WACC factor \n",
    "\n",
    "def WACC_revenues(t):\n",
    "    return WACC('Revenues')[t]\n",
    "\n",
    "################################################################################################################################\n",
    "\n",
    "# Handeling fees escalation\n",
    "\n",
    "def escalation_fees(t):\n",
    "    return escalation('Handling fee escalation')[t]\n",
    "\n",
    "################################################################################################################################\n",
    "\n",
    "# Revenue calc \n",
    "\n",
    "def revenues_calc(t): \n",
    "    return nominal_revenues(t) * WACC_revenues(t) * escalation_fees(t)\n",
    "\n",
    "################################################################################################################################"
   ]
  },
  {
   "cell_type": "markdown",
   "metadata": {},
   "source": [
    "## 3.2 Capex Calculations\n",
    "- 3.2.1 Quay wall capex calc\n",
    "- 3.2.2 Unloaders capex calc"
   ]
  },
  {
   "cell_type": "code",
   "execution_count": 18,
   "metadata": {},
   "outputs": [],
   "source": [
    "def capex_calc(t):\n",
    "    return capex_quay(t) + capex_unloaders(t)"
   ]
  },
  {
   "cell_type": "markdown",
   "metadata": {},
   "source": [
    "### 3.2.1 Quay wall capex calc\n",
    "- 3.2.1.1 Applicable vessel length\n",
    "- 3.2.1.2 Quay length\n",
    "- 3.2.1.3 Berthing depth\n",
    "- 3.2.1.4 Quay mobilisation costs\n",
    "- 3.2.1.5 Quay capex calc"
   ]
  },
  {
   "cell_type": "markdown",
   "metadata": {},
   "source": [
    "###### 3.2.1.1 Applicable vessel length"
   ]
  },
  {
   "cell_type": "code",
   "execution_count": 19,
   "metadata": {},
   "outputs": [],
   "source": [
    "################################################################################################################################\n",
    "\n",
    "# Maximum vessel LOA \n",
    "\n",
    "def vessel_length_max(t):\n",
    "    global temp\n",
    "    \n",
    "    if n_calls_panamax(t) != 0:\n",
    "        return panamax_LOA\n",
    "    \n",
    "    else:\n",
    "        temp = np.zeros(shape=(y,3))\n",
    "        for i in range (y):\n",
    "                temp[i,0] = n_calls_handysize(t)\n",
    "                temp[i,1] = n_calls_handymax(t)\n",
    "                temp[i,2] = n_calls_panamax(t)\n",
    "\n",
    "        if np.sum(temp[:,2],axis=0) == 0 and np.sum(temp[:,1],axis=0) == 0:\n",
    "            return handysize_LOA\n",
    "\n",
    "        if np.sum(temp[:,2],axis=0) == 0 and np.sum(temp[:,1],axis=0) != 0:\n",
    "            return handymax_LOA\n",
    "\n",
    "        if np.sum(temp[:,2],axis=0) != 0:\n",
    "            return panamax_LOA                    \n",
    "\n",
    "################################################################################################################################\n",
    "\n",
    "# Average vessel LOA\n",
    "\n",
    "def vessel_length_average(t):\n",
    "    return (n_calls_handysize(t)*handysize_LOA + \\\n",
    "            n_calls_handymax(t)*handymax_LOA   + \\\n",
    "            n_calls_panamax(t)*panamax_LOA)    / \\\n",
    "            n_calls(t)\n",
    "\n",
    "################################################################################################################################"
   ]
  },
  {
   "cell_type": "markdown",
   "metadata": {},
   "source": [
    "###### 3.2.1.2 Quay length"
   ]
  },
  {
   "cell_type": "code",
   "execution_count": 20,
   "metadata": {},
   "outputs": [],
   "source": [
    "################################################################################################################################\n",
    "\n",
    "# Quay length requirement\n",
    "\n",
    "def quay_length(t):\n",
    "    if delta_n_berths == 0:\n",
    "        return 0\n",
    "    \n",
    "    else: \n",
    "        if t == 0 and delta_n_berths == 1:\n",
    "            return max(((vessel_length_max(t) + 2 * 15) - existing_quay_length),0)\n",
    "\n",
    "        if t == 0 and delta_n_berths != 1:\n",
    "            return max((1.1 * delta_n_berths * (vessel_length_average(t) + 15) + 15) - existing_quay_length,0)\n",
    "\n",
    "        if t > 0 and delta_n_berths != 0:\n",
    "            return 1.1 * delta_n_berths * (vessel_length_average(t) + 15) + 15 \n",
    "\n",
    "################################################################################################################################        \n",
    "\n",
    "# Temporal evolution of quay length\n",
    "\n",
    "def berths_to_quay_length():\n",
    "    global optimal_quay_length\n",
    "    optimal_quay_length = np.zeros(n_years)\n",
    "    \n",
    "    for i in range (n_years):\n",
    "        n_berth = optimal_n_berths[i]\n",
    "        if n_berth == 1:\n",
    "            optimal_quay_length[i] = max(((vessel_length_max(i) + 2 * 15) - existing_quay_length),0)\n",
    "        else:\n",
    "            optimal_quay_length[i] = 1.1 * n_berth * (vessel_length_average(i) + 15) + 15 \n",
    "    \n",
    "    return optimal_quay_length\n",
    "\n",
    "################################################################################################################################"
   ]
  },
  {
   "cell_type": "markdown",
   "metadata": {},
   "source": [
    "###### 3.2.1.3 Berthing depth"
   ]
  },
  {
   "cell_type": "code",
   "execution_count": 21,
   "metadata": {},
   "outputs": [],
   "source": [
    "################################################################################################################################\n",
    "\n",
    "# Vessel draft\n",
    "\n",
    "def vessel_draft(t):\n",
    "    if n_calls_panamax(t) == 0 and n_calls_handymax(t) == 0:\n",
    "        return handysize_draft\n",
    "    \n",
    "    if n_calls_panamax(t) == 0:\n",
    "        return handymax_draft\n",
    "    \n",
    "    if n_calls_panamax(t) != 0:\n",
    "        return panamax_draft\n",
    "    \n",
    "################################################################################################################################\n",
    "\n",
    "# Berthing depth\n",
    "\n",
    "def berthing_depth(t):\n",
    "    return vessel_draft(t) + 1\n",
    "\n",
    "################################################################################################################################"
   ]
  },
  {
   "cell_type": "markdown",
   "metadata": {},
   "source": [
    "###### 3.2.1.4 Quay mobilisation costs"
   ]
  },
  {
   "cell_type": "code",
   "execution_count": 22,
   "metadata": {},
   "outputs": [],
   "source": [
    "# Quay mobilisation costs\n",
    "\n",
    "def mobilisation_quay():\n",
    "    minimum_mobilisation_cost = 1500000\n",
    "    capex_pre_mobilisation    = quay_length(t) * nominal_price_quay()\n",
    "    mobilisation_costs        = max(0.02 * capex_pre_mobilisation, minimum_mobilisation_cost)\n",
    "    real_mobilisation_costs   = mobilisation_costs * WACC_quay(t) * capex_escalation(t)\n",
    "    return real_mobilisation_costs"
   ]
  },
  {
   "cell_type": "markdown",
   "metadata": {},
   "source": [
    "###### 3.2.1.5 Quay capex calc"
   ]
  },
  {
   "cell_type": "code",
   "execution_count": 23,
   "metadata": {},
   "outputs": [],
   "source": [
    "################################################################################################################################\n",
    "\n",
    "# Nominal unit price quay\n",
    "\n",
    "def nominal_price_quay():\n",
    "    price_euro_2008   = 627.05 * berthing_depth(t)**1.2878\n",
    "    price_euro_2018   = adjustment_factor_euro(2008) * price_euro_2008 \n",
    "    price_dollar_2018 = Euro_to_dollars(price_euro_2008)\n",
    "    return int(price_dollar_2018)\n",
    "\n",
    "################################################################################################################################\n",
    "\n",
    "# Nominal WACC factor\n",
    "\n",
    "def WACC_quay(t):\n",
    "    return WACC('Quay wall')[t]\n",
    "\n",
    "################################################################################################################################\n",
    "\n",
    "# Capex escalation factor\n",
    "\n",
    "def capex_escalation(t):\n",
    "    return escalation('Capex escalation')[t]\n",
    "\n",
    "################################################################################################################################\n",
    "\n",
    "# Real unit price quay\n",
    "\n",
    "def real_price_quay(t):\n",
    "    return nominal_price_quay() * WACC_quay(t) * capex_escalation(t)\n",
    "    \n",
    "################################################################################################################################\n",
    "\n",
    "# Quay capex calc\n",
    "\n",
    "def capex_quay(t):\n",
    "    if delta_n_berths == 0:\n",
    "        return 0\n",
    "    else:\n",
    "        return quay_length(t) * real_price_quay(t) + mobilisation_quay()\n",
    "\n",
    "################################################################################################################################"
   ]
  },
  {
   "cell_type": "markdown",
   "metadata": {},
   "source": [
    "### 3.2.2 Unloader capex calc\n",
    "- 3.2.1.1 Unloader mobilisation costs\n",
    "- 3.2.1.2 Unloader capex calc"
   ]
  },
  {
   "cell_type": "markdown",
   "metadata": {},
   "source": [
    "###### 3.2.1.1 Unloader mobilisation costs"
   ]
  },
  {
   "cell_type": "code",
   "execution_count": 24,
   "metadata": {},
   "outputs": [],
   "source": [
    "# Unloader mobilisation costs\n",
    "\n",
    "def mobilisation_unloaders():\n",
    "    mobilisation_costs        = 1000000\n",
    "    real_mobilisation_costs   = mobilisation_costs * WACC_quay(t) * capex_escalation(t)\n",
    "    return real_mobilisation_costs"
   ]
  },
  {
   "cell_type": "markdown",
   "metadata": {},
   "source": [
    "###### 3.2.1.2 Unloader capex calc"
   ]
  },
  {
   "cell_type": "code",
   "execution_count": 25,
   "metadata": {},
   "outputs": [],
   "source": [
    "################################################################################################################################\n",
    "\n",
    "# Nominal unloader unit price\n",
    "\n",
    "def nominal_price_unloader():\n",
    "    price_unloader_euro_2013   = 11000000\n",
    "    price_unloader_euro_2018   = adjustment_factor_euro(2013) * price_unloader_euro_2013\n",
    "    price_grab_euro_2018       = 250000\n",
    "    price_euro_2018            = price_unloader_euro_2018 + price_grab_euro_2018\n",
    "    price_dollar_2018          = Euro_to_dollars(price_euro_2018)\n",
    "    return int(price_dollar_2018)\n",
    "\n",
    "################################################################################################################################\n",
    "\n",
    "# Nominal WACC factor (based on ownership)\n",
    "\n",
    "def WACC_equipment(t):\n",
    "    return WACC('Equipment')[t]\n",
    "\n",
    "################################################################################################################################\n",
    "\n",
    "# Capex escalation factor\n",
    "\n",
    "# capex_escalation(t) has already been defined under quay wall section\n",
    "\n",
    "################################################################################################################################\n",
    "\n",
    "# Real unloader unit price\n",
    "\n",
    "def real_price_unloader(t):\n",
    "    return nominal_price_unloader() * WACC_equipment(t) * capex_escalation(t)\n",
    "    \n",
    "################################################################################################################################\n",
    "\n",
    "# Selling penalty \n",
    "\n",
    "def sell_price_unloader(t):\n",
    "    selling_penalty = 0.50\n",
    "    return real_price_unloader(t) * selling_penalty\n",
    "\n",
    "################################################################################################################################\n",
    "\n",
    "# Unloader capex \n",
    "\n",
    "def capex_unloaders(t):\n",
    "    if delta_n_unloaders == 0: \n",
    "        return 0\n",
    "    if delta_n_unloaders > 0: \n",
    "        return delta_n_unloaders * real_price_unloader(t) + mobilisation_unloaders()\n",
    "    if delta_n_unloaders < 0: \n",
    "        return delta_n_unloaders * sell_price_unloader(t)\n",
    "\n",
    "################################################################################################################################"
   ]
  },
  {
   "cell_type": "markdown",
   "metadata": {},
   "source": [
    "## 3.3 Opex Calculations\n",
    "- 3.3.1 Quay wall opex calc\n",
    "- 3.3.2 Unloaders opex calc"
   ]
  },
  {
   "cell_type": "code",
   "execution_count": 26,
   "metadata": {},
   "outputs": [],
   "source": [
    "def opex_calc(t):\n",
    "    return opex_unloaders(t)"
   ]
  },
  {
   "cell_type": "markdown",
   "metadata": {},
   "source": [
    "### 3.3.1 Quay wall opex calc\n",
    "- 3.3.1.1 Maintenance costs"
   ]
  },
  {
   "cell_type": "markdown",
   "metadata": {},
   "source": [
    "### 3.3.2 Unloader opex calc\n",
    "- 3.3.2.1 Maintenance costs\n",
    "- 3.3.2.2 Labour costs\n",
    "- 3.3.2.3 Energy costs"
   ]
  },
  {
   "cell_type": "code",
   "execution_count": 27,
   "metadata": {},
   "outputs": [],
   "source": [
    "def opex_unloaders(i,t):\n",
    "    total_n_unloaders = np.sum(mutations_n_unloaders[i,0:t+1], axis=0)\n",
    "    opex_unloader     = total_n_unloaders * real_price_unloader(t) * 0.02\n",
    "    return opex_unloader"
   ]
  },
  {
   "cell_type": "markdown",
   "metadata": {},
   "source": [
    "## 3.4 Demurrage Cost Calculations\n",
    "- 3.4.1 Number of calls\n",
    "- 3.4.2 Berth occupancy\n",
    "- 3.4.3 Waiting time\n",
    "- 3.4.4 Demurrage cost calc"
   ]
  },
  {
   "cell_type": "markdown",
   "metadata": {},
   "source": [
    "### 3.4.1 Number of calls"
   ]
  },
  {
   "cell_type": "code",
   "execution_count": 28,
   "metadata": {},
   "outputs": [],
   "source": [
    "################################################################################################################################\n",
    "\n",
    "# Number of calls per commodity\n",
    "\n",
    "def n_calls_handysize_maize(t):\n",
    "    return np.ceil (throughput_maize(t)   * percentage_maize_handysize(t)    /handysize_call_size)\n",
    "\n",
    "def n_calls_handysize_soybeans(t):\n",
    "    return np.ceil (throughput_soybeans(t)* percentage_soybeans_handysize(t) /handysize_call_size)\n",
    "\n",
    "def n_calls_handysize_wheat(t):\n",
    "    return np.ceil (throughput_wheat(t)   * percentage_wheat_handysize(t)    /handysize_call_size)\n",
    "\n",
    "def n_calls_handymax_maize(t):\n",
    "    return np.ceil (throughput_maize(t)   * percentage_maize_handymax(t)     /handymax_call_size)\n",
    "\n",
    "def n_calls_handymax_soybeans(t):\n",
    "    return np.ceil (throughput_soybeans(t)* percentage_soybeans_handymax(t)  /handymax_call_size)\n",
    "\n",
    "def n_calls_handymax_wheat(t):\n",
    "    return np.ceil (throughput_wheat(t)   * percentage_wheat_handymax(t)     /handymax_call_size)\n",
    "\n",
    "def n_calls_panamax_maize(t):\n",
    "    return np.ceil (throughput_maize(t)   * percentage_maize_panamax(t)      /panamax_call_size)\n",
    "\n",
    "def n_calls_panamax_soybeans(t):\n",
    "    return np.ceil (throughput_soybeans(t)* percentage_soybeans_panamax(t)   /panamax_call_size)\n",
    "\n",
    "def n_calls_panamax_wheat(t):\n",
    "    return np.ceil (throughput_wheat(t)   * percentage_wheat_panamax(t)      /panamax_call_size)\n",
    "\n",
    "################################################################################################################################\n",
    "\n",
    "# Number of calls per vessel type \n",
    "\n",
    "def n_calls_handysize(t):\n",
    "    return n_calls_handysize_maize(t) + n_calls_handysize_soybeans(t) + n_calls_handysize_wheat(t)\n",
    "\n",
    "def n_calls_handymax(t):\n",
    "    return n_calls_handymax_maize(t)  + n_calls_handymax_soybeans(t)  + n_calls_handymax_wheat(t)    \n",
    "\n",
    "def n_calls_panamax(t):\n",
    "    return n_calls_panamax_maize(t)   + n_calls_panamax_soybeans(t)   + n_calls_panamax_wheat(t)    \n",
    "\n",
    "################################################################################################################################\n",
    "\n",
    " # Number of annual calls to port\n",
    "\n",
    "def n_calls(t):\n",
    "    return n_calls_handysize(t) + n_calls_handymax(t) + n_calls_panamax(t)\n",
    "\n",
    "################################################################################################################################"
   ]
  },
  {
   "cell_type": "markdown",
   "metadata": {},
   "source": [
    "### 3.4.2 Berth occupancy"
   ]
  },
  {
   "cell_type": "code",
   "execution_count": 29,
   "metadata": {},
   "outputs": [],
   "source": [
    "################################################################################################################################\n",
    "\n",
    "# Arrival rate (throughput per vessel type per hour)\n",
    "\n",
    "def arrival_rate_handysize(t):\n",
    "    return n_calls_handysize(t) * handysize_call_size / n_a\n",
    "\n",
    "def arrival_rate_handymax(t):\n",
    "    return n_calls_handymax(t)  * handymax_call_size  / n_a\n",
    "\n",
    "def arrival_rate_panamax(t):\n",
    "    return n_calls_panamax(t)   * panamax_call_size   / n_a\n",
    "\n",
    "################################################################################################################################\n",
    "\n",
    "# Service rate\n",
    "\n",
    "def service_rate():\n",
    "    return n_unloaders * capacity_unloaders()\n",
    "\n",
    "################################################################################################################################\n",
    "\n",
    "# Service time (call size / service rate)\n",
    "\n",
    "def service_time_handysize(t):\n",
    "    return handysize_call_size / service_rate()\n",
    "\n",
    "def service_time_handymax(t):\n",
    "    return handymax_call_size  / service_rate()\n",
    "\n",
    "def service_time_panamax(t):\n",
    "    return panamax_call_size   / service_rate()\n",
    "\n",
    "################################################################################################################################\n",
    "\n",
    "# Berth occupancy\n",
    "\n",
    "def berth_occupancy(t):\n",
    "    return(time_at_berth_handysize(t)  + \\\n",
    "           time_at_berth_handymax (t)  + \\\n",
    "           time_at_berth_panamax  (t)) / \\\n",
    "           (n_berths * n_a)\n",
    "\n",
    "################################################################################################################################"
   ]
  },
  {
   "cell_type": "markdown",
   "metadata": {},
   "source": [
    "### 3.4.3 Waiting time"
   ]
  },
  {
   "cell_type": "code",
   "execution_count": 30,
   "metadata": {},
   "outputs": [],
   "source": [
    "################################################################################################################################\n",
    "\n",
    "# Vessel waiting time (E2/E/n quing theory using 4th order polynomial regression)\n",
    "\n",
    "def waiting_time_factor(t):\n",
    "    if n_berths == 1:\n",
    "        return max( 0, 79.726* berth_occupancy(t) **4 - 126.47* berth_occupancy(t) **3 + 70.660* berth_occupancy(t) **2 - 14.651* berth_occupancy(t) + 0.9218)\n",
    "\n",
    "    if n_berths == 2:\n",
    "        return max( 0, 29.825* berth_occupancy(t) **4 - 46.489* berth_occupancy(t) **3 + 25.656* berth_occupancy(t) **2 - 5.3517* berth_occupancy(t) + 0.3376)\n",
    "\n",
    "    if n_berths == 3:\n",
    "        return max( 0, 19.362* berth_occupancy(t) **4 - 30.388* berth_occupancy(t) **3 + 16.791* berth_occupancy(t) **2 - 3.5457* berth_occupancy(t) + 0.2253)\n",
    "\n",
    "    if n_berths == 4:\n",
    "        return max( 0, 17.334* berth_occupancy(t) **4 - 27.745* berth_occupancy(t) **3 + 15.432* berth_occupancy(t) **2 - 3.2725* berth_occupancy(t) + 0.2080)\n",
    "\n",
    "    if n_berths == 5:\n",
    "        return max( 0, 11.149* berth_occupancy(t) **4 - 17.339* berth_occupancy(t) **3 + 9.4010* berth_occupancy(t) **2 - 1.9687* berth_occupancy(t) + 0.1247)\n",
    "\n",
    "    if n_berths == 6:\n",
    "        return max( 0, 10.512* berth_occupancy(t) **4 - 16.390* berth_occupancy(t) **3 + 8.8292* berth_occupancy(t) **2 - 1.8368* berth_occupancy(t) + 0.1158)\n",
    "\n",
    "    if n_berths == 7:\n",
    "        return max( 0, 8.4371* berth_occupancy(t) **4 - 13.226* berth_occupancy(t) **3 + 7.1446* berth_occupancy(t) **2 - 1.4902* berth_occupancy(t) + 0.0941)\n",
    "\n",
    "def waiting_time_handysize(t):\n",
    "    return service_time_handysize(t) * waiting_time_factor(t)\n",
    "\n",
    "def waiting_time_handymax(t):\n",
    "    return service_time_handymax(t)  * waiting_time_factor(t)\n",
    "\n",
    "def waiting_time_panamax(t):\n",
    "    return service_time_panamax(t)   * waiting_time_factor(t)\n",
    "\n",
    "################################################################################################################################"
   ]
  },
  {
   "cell_type": "markdown",
   "metadata": {},
   "source": [
    "### 3.4.4 Demurrage cost calc"
   ]
  },
  {
   "cell_type": "code",
   "execution_count": 31,
   "metadata": {},
   "outputs": [],
   "source": [
    "################################################################################################################################\n",
    "\n",
    "# Time at berth\n",
    "\n",
    "def time_at_berth_handysize(t):\n",
    "    return n_calls_handysize(t)* (service_time_handysize(t) + handysize_mooring_time)\n",
    "\n",
    "def time_at_berth_handymax(t):\n",
    "    return n_calls_handymax(t) * (service_time_handymax(t)  + handymax_mooring_time)\n",
    "\n",
    "def time_at_berth_panamax(t):\n",
    "    return n_calls_panamax(t)  * (service_time_panamax(t)   + panamax_mooring_time)\n",
    "\n",
    "################################################################################################################################\n",
    "\n",
    "# Time at port\n",
    "\n",
    "def time_at_port_handysize(t):\n",
    "    return service_time_handysize(t) + handysize_mooring_time + waiting_time_handysize(t)\n",
    "\n",
    "def time_at_port_handymax(t):\n",
    "    return service_time_handymax(t)  + handymax_mooring_time  + waiting_time_handymax(t)\n",
    "\n",
    "def time_at_port_panamax(t):\n",
    "    return service_time_panamax(t)   + panamax_mooring_time   + waiting_time_panamax(t)\n",
    "\n",
    "################################################################################################################################\n",
    "\n",
    "# Nominal demurrage costs per vessel type \n",
    "\n",
    "def demurrage_costs_handysize(t):\n",
    "    return max((time_at_port_handysize(t) - handysize_turn_time), 0) * handysize_demurrage * n_calls_handysize(t)\n",
    "\n",
    "def demurrage_costs_handymax(t):\n",
    "    return max((time_at_port_handymax(t)  - handymax_turn_time), 0)  * handymax_demurrage  * n_calls_handymax(t)\n",
    "\n",
    "def demurrage_costs_panamax(t):\n",
    "    return max((time_at_port_panamax(t)   - panamax_turn_time), 0)   * panamax_demurrage   * n_calls_panamax(t)\n",
    "\n",
    "def nominal_demurrage_costs(t):\n",
    "    return demurrage_costs_handysize(t) + demurrage_costs_handymax(t) + demurrage_costs_panamax(t)\n",
    "\n",
    "################################################################################################################################\n",
    "\n",
    "# Nominal WACC\n",
    "\n",
    "def WACC_demurrage(t):\n",
    "    return WACC('Demurrage costs')[t]\n",
    "\n",
    "################################################################################################################################\n",
    "\n",
    "# Escalation\n",
    "\n",
    "def escalation_demurrage(t):\n",
    "    return escalation('Demurrage escalation')[t]\n",
    "\n",
    "################################################################################################################################\n",
    "\n",
    "# Real demurrage costs\n",
    "\n",
    "def real_demurrage_costs(t):\n",
    "    return nominal_demurrage_costs(t) * WACC_demurrage(t) * escalation_demurrage(t)\n",
    "\n",
    "################################################################################################################################\n",
    "\n",
    "# Demurrage cost calc\n",
    "\n",
    "def demurrage_calc(t): \n",
    "    return real_demurrage_costs(t)\n",
    "\n",
    "################################################################################################################################"
   ]
  },
  {
   "cell_type": "markdown",
   "metadata": {},
   "source": [
    "## 3.5 Residual Asset Calculations\n",
    "- 3.5.1 Quay wall depreciation calc\n",
    "- 3.5.2 Unloader depreciation calc"
   ]
  },
  {
   "cell_type": "code",
   "execution_count": 32,
   "metadata": {},
   "outputs": [],
   "source": [
    "def residual_assets_calc(i):\n",
    "    return residual_quay_asset(i) + residual_unloader_asset(i)"
   ]
  },
  {
   "cell_type": "markdown",
   "metadata": {},
   "source": [
    "### 3.5.1 Quay wall depreciation calc"
   ]
  },
  {
   "cell_type": "code",
   "execution_count": 33,
   "metadata": {},
   "outputs": [],
   "source": [
    "################################################################################################################################\n",
    "\n",
    "# Quay wall depreciation\n",
    "\n",
    "def depreciated_quay_length(i):\n",
    "    total_n_berths                = mutations_n_berths[i,0:t+1]\n",
    "    total_n_berths_depreciated    = np.sum(total_n_berths * depreciation('Quay'),axis=0)\n",
    "    quay_length_depreciated       = 1.1 * total_n_berths_depreciated * (vessel_length_average(t) + 15) + 15\n",
    "    return int(quay_length_depreciated)\n",
    "\n",
    "################################################################################################################################\n",
    "\n",
    "# Nominal residual quay asset\n",
    "\n",
    "def nominal_residual_quay_asset(i):\n",
    "    return int(depreciated_quay_length(i) * real_price_quay(t) * (1-selling_penalty('Quay')))\n",
    "\n",
    "################################################################################################################################\n",
    "\n",
    "# Real residual quay asset\n",
    "\n",
    "def real_residual_quay_asset(i):\n",
    "    return nominal_residual_quay_asset(i) * WACC_quay(t) * capex_escalation(t)\n",
    "\n",
    "def residual_quay_asset(i):\n",
    "    return real_residual_quay_asset(i)\n",
    "\n",
    "################################################################################################################################"
   ]
  },
  {
   "cell_type": "markdown",
   "metadata": {},
   "source": [
    "### 3.5.2 Unloader depreciation calc"
   ]
  },
  {
   "cell_type": "code",
   "execution_count": 34,
   "metadata": {},
   "outputs": [],
   "source": [
    "################################################################################################################################\n",
    "\n",
    "# Unloader depreciation    \n",
    "\n",
    "def depreciated_unloaders(i):\n",
    "    total_n_unloaders             = mutations_n_unloaders[i,0:t+1]\n",
    "    total_n_unloaders_depreciated = np.sum(total_n_unloaders * depreciation('Unloaders'),axis=0)\n",
    "    return int(total_n_unloaders_depreciated)\n",
    "\n",
    "################################################################################################################################\n",
    "\n",
    "# Nominal unloader asset\n",
    "\n",
    "def nominal_residual_unloader_asset(i):\n",
    "    return int(depreciated_unloaders(i) * real_price_unloader(t) * (1-selling_penalty('Unloaders')))\n",
    "\n",
    "################################################################################################################################\n",
    "\n",
    "# Real unloader asset\n",
    "\n",
    "def real_residual_unloader_asset(i):\n",
    "    return nominal_residual_unloader_asset(i) * WACC_equipment(t) * capex_escalation(t)\n",
    "\n",
    "def residual_unloader_asset(i):\n",
    "    return real_residual_unloader_asset(i)\n",
    "\n",
    "################################################################################################################################"
   ]
  },
  {
   "cell_type": "markdown",
   "metadata": {},
   "source": [
    "# 4 Port Optimization\n",
    "- 4.1 Subdividing project timeline\n",
    "- 4.2 Optimization variables \n",
    "- 4.3 Applied constraints\n",
    "- 4.4 Cash flow calculations\n",
    "- 4.5 Localizing optimal solution\n",
    "- 4.6 Plot function\n",
    "- 4.7 Executable function"
   ]
  },
  {
   "cell_type": "markdown",
   "metadata": {},
   "source": [
    "## 4.1 Subdividing project timeline"
   ]
  },
  {
   "cell_type": "code",
   "execution_count": 35,
   "metadata": {},
   "outputs": [],
   "source": [
    "##############################################################################################################################\n",
    "\n",
    "# Dividing the project time line into sub intervals in order to decrease required number of computations\n",
    "\n",
    "def optimization_intervals(interval_years):\n",
    "    global n_intervals\n",
    "    global interval\n",
    "    global interval_residual\n",
    "    \n",
    "    interval = int(interval_years)\n",
    "        \n",
    "    if n_years - (n_years // interval)*interval == 0:\n",
    "        n_intervals       = (n_years // interval)\n",
    "        interval_residual = 0\n",
    "        \n",
    "    else: \n",
    "        n_intervals = int((n_years // interval)+1)\n",
    "        interval_residual = int(n_years - interval * (n_intervals-1))\n",
    "        \n",
    "    print ('Total project timeline:      ', n_years, 'years')\n",
    "    print ('Number of intervals:         ', n_intervals)\n",
    "    print ('Interval  time line:         ', interval, 'years') \n",
    "    print ('Residual interval timeline:  ', interval_residual, 'years') \n",
    "    print ('Total number of results:     ', n_combinations())\n",
    "    print ()\n",
    "    \n",
    "    return\n",
    "\n",
    "##############################################################################################################################\n",
    "\n",
    "# Total number of possible variable combinations\n",
    "\n",
    "def n_combinations():\n",
    "    \n",
    "    return ((len(cdr_vector)*len(n_unloaders_vector)*len(n_berths_vector))**interval)*n_intervals\n",
    "\n",
    "##############################################################################################################################"
   ]
  },
  {
   "cell_type": "markdown",
   "metadata": {},
   "source": [
    "## 4.2 Optimization variables\n",
    "- 4.2.1 Defining optimization variables\n",
    "- 4.2.2 Registering possible combinations\n",
    "- 4.2.3 Variable mutation documentation "
   ]
  },
  {
   "cell_type": "markdown",
   "metadata": {},
   "source": [
    "### 4.2.1 Defining optimization variables"
   ]
  },
  {
   "cell_type": "code",
   "execution_count": 36,
   "metadata": {},
   "outputs": [],
   "source": [
    "##############################################################################################################################\n",
    "\n",
    "# Defining optimizations variables\n",
    "\n",
    "def steps (start, end, increment):\n",
    "    return int(np.round(((end-start)/increment),0)+1)\n",
    "\n",
    "def variable_vector(start, end, increment):\n",
    "    n_steps = steps(start, end, increment)\n",
    "    vector  = np.linspace(start, end, n_steps)\n",
    "    if type(increment) == int:\n",
    "        vector  = vector.astype(int)\n",
    "    return vector\n",
    "\n",
    "######################################################\n",
    "\n",
    "# cdr\n",
    "cdr_start             = 0.9\n",
    "cdr_end               = 1.1\n",
    "cdr_increment         = 0.10\n",
    "cdr_index             = 0\n",
    "cdr_vector            = variable_vector(cdr_start, cdr_end, cdr_increment)\n",
    "\n",
    "######################################################\n",
    "\n",
    "# n_unloaders \n",
    "n_unloaders_start     = 1     # als fractie van throughput ?\n",
    "n_unloaders_end       = 3     # als fractie van throughput ?\n",
    "n_unloaders_increment = 1     # deze blijft vast \n",
    "n_unloaders_index     = 1 \n",
    "n_unloaders_vector    = variable_vector(n_unloaders_start, n_unloaders_end, n_unloaders_increment)\n",
    "\n",
    "######################################################\n",
    "\n",
    "# n_berths \n",
    "n_berths_start        = 1     # als fractie van throughput ?\n",
    "n_berths_end          = 1     # als fractie van throughput ?\n",
    "n_berths_increment    = 1     # deze blijft vast\n",
    "n_berths_index        = 2\n",
    "n_berths_vector       = variable_vector(n_berths_start, n_berths_end, n_berths_increment)\n",
    "\n",
    "##############################################################################################################################"
   ]
  },
  {
   "cell_type": "markdown",
   "metadata": {},
   "source": [
    "### 4.2.2 Spectrum of variable combinations"
   ]
  },
  {
   "cell_type": "code",
   "execution_count": 37,
   "metadata": {},
   "outputs": [],
   "source": [
    "# Determining all possible variable combinations within a single interval \n",
    "\n",
    "def variable_combinations():\n",
    "    global solutions\n",
    "    global variable_vectors\n",
    "    global annual_varieties\n",
    "    \n",
    "    start = timeit.default_timer()\n",
    "    \n",
    "    variable_vectors = [cdr_vector,        \\\n",
    "                        n_unloaders_vector,\\\n",
    "                        n_berths_vector    ]\n",
    "    \n",
    "    annual_variety = np.asarray(list(itertools.product(*variable_vectors)))\n",
    "    \n",
    "    if z == 0 and n_intervals == 1:\n",
    "        annual_varieties = np.asarray([annual_variety]*interval)\n",
    "    \n",
    "    if z != n_intervals-1 and n_intervals != 1:\n",
    "        annual_varieties = np.asarray([annual_variety]*interval)\n",
    "    \n",
    "    if z == n_intervals-1 and n_intervals != 1 and interval_residual == 0:\n",
    "        annual_varieties = np.asarray([annual_variety]*interval)\n",
    "    \n",
    "    if z == n_intervals-1 and n_intervals != 1 and interval_residual != 0:\n",
    "        annual_varieties = np.asarray([annual_variety]*interval_residual)\n",
    "    \n",
    "    solutions = np.asarray(list(itertools.product(*annual_varieties)))\n",
    "        \n",
    "    stop = timeit.default_timer()\n",
    "    computation_time = (stop - start)\n",
    "    computation_time_total = n_intervals * (stop - start)\n",
    "    \n",
    "    if z == 0:\n",
    "        print ('Complete:                    ', 'Defining variable combinations within one interval')\n",
    "        print ('Total memory usage (GB):     ', n_intervals*round(getsizeof(solutions)/(10.0**9.0),2))\n",
    "        print ('Results in a single interval:', '{:,}'.format(len(solutions)))\n",
    "        print ('Total computation time (m:s):', int(computation_time_total//60), 'min', int(computation_time_total-(computation_time_total//60)*60),'sec' )\n",
    "        print ('Results per second:          ', '{:,}'.format(int(len(solutions)/computation_time)))\n",
    "        print ()\n",
    "    \n",
    "    return"
   ]
  },
  {
   "cell_type": "markdown",
   "metadata": {},
   "source": [
    "### 4.2.3 Variable mutation documentation"
   ]
  },
  {
   "cell_type": "code",
   "execution_count": 38,
   "metadata": {},
   "outputs": [],
   "source": [
    "#############################################################################################################################   \n",
    "\n",
    "# Registering mutations of the various variables over entire project timeline\n",
    "\n",
    "def mutations_variables(i,j,t):\n",
    "    global mutations_n_unloaders\n",
    "    global mutations_n_berths\n",
    "    \n",
    "    global delta_n_unloaders\n",
    "    global delta_n_berths\n",
    "       \n",
    "    if z == 0 and i == 0 and j == 0:\n",
    "        mutations_n_unloaders = np.zeros(shape=(x,n_years))\n",
    "        mutations_n_berths    = np.zeros(shape=(x,n_years))\n",
    "    \n",
    "    mutations_n_unloaders[i,t] = int(delta_variable(i,j,n_unloaders_index)[i,j])\n",
    "    mutations_n_berths   [i,t] = int(delta_variable(i,j,n_berths_index)   [i,j])\n",
    "\n",
    "    delta_n_unloaders = mutations_n_unloaders[i,t]\n",
    "    delta_n_berths    = mutations_n_berths   [i,t]\n",
    "    \n",
    "    return\n",
    "\n",
    "############################################################################################################################# \n",
    "\n",
    "# Mutations of the various variables within an interval\n",
    "\n",
    "def delta_variable(i,j,index):\n",
    "    \n",
    "    mutations = np.zeros(shape=(x,y))\n",
    "    \n",
    "    if z == 0 and j == 0:\n",
    "        mutations[i,0] = solutions[i,:][0,index]\n",
    "        \n",
    "    if z != 0 and j == 0:\n",
    "        mutations[i,0] = solutions[i,:][0,index] - end_of_interval_variables[index]\n",
    "    \n",
    "    if j !=0:\n",
    "        mutations[i,j] = solutions[i,:][j,index] - solutions[i,:][(j-1),index]\n",
    "                \n",
    "    return mutations\n",
    "\n",
    "#############################################################################################################################    "
   ]
  },
  {
   "cell_type": "markdown",
   "metadata": {},
   "source": [
    "## 4.3 Applied constraints"
   ]
  },
  {
   "cell_type": "code",
   "execution_count": 39,
   "metadata": {},
   "outputs": [],
   "source": [
    "# Applied constraints in order to increase efficiency\n",
    "\n",
    "def constraints():\n",
    "   \n",
    "    # each year must have a berth occupancy > 40%\n",
    "    if berth_occupancy(t) < 0.20:      \n",
    "        return False\n",
    "    \n",
    "    # the number of berths can never be reduced\n",
    "    if delta_n_unloaders < 0:             \n",
    "        return False\n",
    "    \n",
    "    # the number of berths cannot be increased for two consecutive years \n",
    "    #if t != 0 and changelog_n_berths[i,t] != 0 and changelog_n_berths[i,t] != 0:\n",
    "        return False\n",
    "    \n",
    "    # the number of unloaders cannot be increased for two consecutive years \n",
    "    #if t != 0 and changelog_n_unloaders[i,t] != 0 and changelog_n_unloaders[i,(t-1)]:\n",
    "        return False\n",
    "        \n",
    "    #if n_unloaders(t) < max_unloader_per_ship(t) * n_berths:\n",
    "        #return false\n",
    "        \n",
    "    return True"
   ]
  },
  {
   "cell_type": "markdown",
   "metadata": {},
   "source": [
    "## 4.4 Cash flow calculations\n",
    "- 4.4.1 Annual profit calc\n",
    "- 4.4.2 NPV calc"
   ]
  },
  {
   "cell_type": "markdown",
   "metadata": {},
   "source": [
    "### 4.4.1 Annual profit calc"
   ]
  },
  {
   "cell_type": "code",
   "execution_count": 40,
   "metadata": {},
   "outputs": [],
   "source": [
    "# Annual profits for each solution\n",
    "\n",
    "def annual_profit():\n",
    "    \n",
    "    ############################\n",
    "    \n",
    "    # Variables\n",
    "    \n",
    "    global t\n",
    "    global x\n",
    "    global y\n",
    "    global cdr\n",
    "    global n_unloaders\n",
    "    global n_berths   \n",
    "    \n",
    "    ############################\n",
    "    \n",
    "    # Cash flows\n",
    "    \n",
    "    global revenues\n",
    "    global capex\n",
    "    global opex\n",
    "    global demurrage\n",
    "    global residual_assets\n",
    "    global profits\n",
    "    \n",
    "    ############################\n",
    "    \n",
    "    start = timeit.default_timer()\n",
    "    \n",
    "    x = int(len(solutions))\n",
    "    \n",
    "    if z == n_intervals-1 and n_intervals != 1 and interval_residual != 0:\n",
    "        y = interval_residual\n",
    "    else:\n",
    "        y = interval\n",
    "        \n",
    "    revenues           = np.zeros(shape=(x,y))\n",
    "    capex              = np.zeros(shape=(x,y))\n",
    "    opex               = np.zeros(shape=(x,y))\n",
    "    demurrage          = np.zeros(shape=(x,y))\n",
    "    residual_assets    = np.zeros(shape=(x,y))\n",
    "    profits            = np.zeros(shape=(x,y))\n",
    "    \n",
    "    for i in range (x):\n",
    "        for j in range (y):\n",
    "\n",
    "            ############################################\n",
    "\n",
    "            # Defining global variables\n",
    "\n",
    "            t = j + z*interval\n",
    "            \n",
    "            cdr          = solutions[i,:][j,cdr_index]\n",
    "            n_unloaders  = solutions[i,:][j,n_unloaders_index]\n",
    "            n_berths     = solutions[i,:][j,n_berths_index]\n",
    "            \n",
    "            mutations_variables(i,j,t)\n",
    "\n",
    "           ############################################  \n",
    "\n",
    "            # Increasing efficiency through constraints\n",
    "\n",
    "            #if constraints() == False:\n",
    "            #    break\n",
    "\n",
    "            ############################################\n",
    "\n",
    "            # Computing cash flows\n",
    "\n",
    "            revenues [i,j] = int(revenues_calc(t))\n",
    "            capex    [i,j] = int(capex_calc(t))\n",
    "            opex     [i,j] = int(opex_unloaders(i,t))\n",
    "            demurrage[i,j] = int(demurrage_calc(t))\n",
    "            if j == y-1:\n",
    "                residual_assets[i,j] = residual_assets_calc(i)\n",
    "        \n",
    "    profits = revenues - capex - opex - demurrage\n",
    "    \n",
    "    stop = timeit.default_timer()\n",
    "    computation_time = (stop - start)\n",
    "    computation_time_total = n_intervals*(stop - start)\n",
    "    \n",
    "    if z == 0:\n",
    "        print ('Complete:                    ', 'First interval cash flow computation')\n",
    "        print ('Total memory usage (GB):     ', n_intervals*round(getsizeof(profits)/(10.0**9.0),2))\n",
    "        print ('Computation time (m:s):      ', int(computation_time//60), 'min', int(computation_time-(computation_time//60)*60),'sec' )\n",
    "        print ('Total computation time (m:s):', int(computation_time_total//60), 'min', int(computation_time_total-(computation_time_total//60)*60),'sec' )\n",
    "        print ('Results per second:          ', '{:,}'.format(int(len(solutions)/computation_time)))\n",
    "        print ()\n",
    "        \n",
    "    return "
   ]
  },
  {
   "cell_type": "markdown",
   "metadata": {},
   "source": [
    "### 4.4.2 NPV calc (within single interval)"
   ]
  },
  {
   "cell_type": "code",
   "execution_count": 41,
   "metadata": {},
   "outputs": [],
   "source": [
    "# Project NPV within a single interval\n",
    "\n",
    "def NPV_calc():\n",
    "    global NPV\n",
    "    \n",
    "    NPV = np.zeros(x)\n",
    "    \n",
    "    for i in range (x):\n",
    "        NPV[i] = int(np.sum(profits[i],axis=0) + residual_assets[i, y-1])\n",
    "\n",
    "    return "
   ]
  },
  {
   "cell_type": "markdown",
   "metadata": {},
   "source": [
    "## 4.5 Optimal solution"
   ]
  },
  {
   "cell_type": "code",
   "execution_count": 42,
   "metadata": {},
   "outputs": [],
   "source": [
    "#############################################################################################################################\n",
    "\n",
    "# Optimal variable combination\n",
    "\n",
    "def optimal_variables():\n",
    "    global optimal_cdr\n",
    "    global optimal_n_unloaders\n",
    "    global optimal_n_berths\n",
    "    global optimal_variables_matrix\n",
    "    \n",
    "    optimal_variables_matrix = solutions[optimal_row_num,:]\n",
    "\n",
    "    if z == 0:          \n",
    "        optimal_cdr         = optimal_variables_matrix[:,cdr_index]\n",
    "        optimal_n_unloaders = optimal_variables_matrix[:,n_unloaders_index]\n",
    "        optimal_n_berths    = optimal_variables_matrix[:,n_berths_index]\n",
    "\n",
    "    if z != 0:        \n",
    "        optimal_cdr         = np.append(optimal_cdr        , optimal_variables_matrix[:,cdr_index])\n",
    "        optimal_n_unloaders = np.append(optimal_n_unloaders, optimal_variables_matrix[:,n_unloaders_index])\n",
    "        optimal_n_berths    = np.append(optimal_n_berths   , optimal_variables_matrix[:,n_berths_index])\n",
    "    \n",
    "    return\n",
    "\n",
    "#############################################################################################################################\n",
    "\n",
    "# Optimal cash flows\n",
    "\n",
    "def optimal_cashflows():\n",
    "    global optimal_NPV\n",
    "    global optimal_profits\n",
    "    global optimal_capex\n",
    "    global optimal_opex\n",
    "    global optimal_demurrage\n",
    "    global optimal_residual_assets\n",
    "    global NPV_final\n",
    "    global NPV_profits\n",
    "    global residual_assets_final\n",
    "    \n",
    "    if z == 0:   \n",
    "        optimal_NPV             = np.zeros(y)\n",
    "        optimal_NPV[interval-1] = NPV            [optimal_row_num]\n",
    "        optimal_profits         = profits        [optimal_row_num,:]\n",
    "        optimal_capex           = capex          [optimal_row_num,:]\n",
    "        optimal_opex            = opex           [optimal_row_num,:]\n",
    "        optimal_demurrage       = demurrage      [optimal_row_num,:]\n",
    "        optimal_residual_assets = residual_assets[optimal_row_num,:]\n",
    "\n",
    "    if z != 0:\n",
    "\n",
    "        interval_zeros          = [0]*(y-1) \n",
    "        interval_NPV            = np.append(optimal_NPV, interval_zeros)\n",
    "        \n",
    "        optimal_NPV             = np.append(interval_NPV           , NPV            [optimal_row_num])\n",
    "        optimal_profits         = np.append(optimal_profits        , profits        [optimal_row_num,:])\n",
    "        optimal_capex           = np.append(optimal_capex          , capex          [optimal_row_num,:])\n",
    "        optimal_opex            = np.append(optimal_opex           , opex           [optimal_row_num,:])\n",
    "        optimal_demurrage       = np.append(optimal_demurrage      , demurrage      [optimal_row_num,:])\n",
    "        optimal_residual_assets = np.append(optimal_residual_assets, residual_assets[optimal_row_num,:])\n",
    "    \n",
    "    if z == n_intervals-1:\n",
    "        NPV_final                        = int(np.sum(optimal_profits,axis=0) + optimal_NPV[n_years-1])\n",
    "        NPV_profits                      = int(np.sum(optimal_profits,axis=0))\n",
    "        residual_assets_final            = np.zeros(n_years)\n",
    "        residual_assets_final[n_years-1] = int(optimal_residual_assets[n_years-1])\n",
    "    \n",
    "    return  \n",
    "\n",
    "#############################################################################################################################\n",
    "\n",
    "# Registering optimal port configuration at the end of each interval\n",
    "\n",
    "def end_of_interval():\n",
    "    global end_of_interval_variables\n",
    "    \n",
    "    ##############################################################################\n",
    "    \n",
    "    # End of interval variables\n",
    "    \n",
    "    end_of_interval_variables  = solutions[optimal_row_num,:][y-1]\n",
    "\n",
    "    ##############################################################################\n",
    "    \n",
    "    # Rewriting the columns in the mutation matrix to equal the optimal variables\n",
    "    \n",
    "    for i in range (x):\n",
    "        mutations_n_unloaders[i,z*interval:(t+1)] = mutations_n_unloaders[optimal_row_num,z*interval:(t+1)]\n",
    "        mutations_n_berths   [i,z*interval:(t+1)] = mutations_n_berths   [optimal_row_num,z*interval:(t+1)]\n",
    "    \n",
    "    return\n",
    "    \n",
    "#############################################################################################################################"
   ]
  },
  {
   "cell_type": "markdown",
   "metadata": {},
   "source": [
    "## 4.6 Plot function"
   ]
  },
  {
   "cell_type": "code",
   "execution_count": 43,
   "metadata": {},
   "outputs": [],
   "source": [
    "#############################################################################################################################\n",
    "\n",
    "# Plotting results\n",
    "\n",
    "def plot_results():\n",
    "    \n",
    "    # Variables\n",
    "    \n",
    "    var1  = optimal_cdr\n",
    "    var2  = optimal_n_unloaders\n",
    "    var3  = optimal_n_berths \n",
    "    var4  = berths_to_quay_length()\n",
    "    \n",
    "    #######################################\n",
    "    \n",
    "    # Cash flows\n",
    "    \n",
    "    cash1 = optimal_profits\n",
    "    cash2 = optimal_capex\n",
    "    cash3 = optimal_opex\n",
    "    cash4 = optimal_demurrage\n",
    "    cash5 = optimal_residual_assets   \n",
    "    cash6 = residual_assets_final\n",
    "    cash7 = NPV_final\n",
    "    \n",
    "    #######################################\n",
    "    \n",
    "    # Traffic forecast\n",
    "    \n",
    "    traffic1  = tf_total_vector\n",
    "    traffic2  = tf_maize_vector\n",
    "    traffic3  = tf_soybeans_vector\n",
    "    traffic4  = tf_wheat_vector\n",
    "    \n",
    "    #######################################\n",
    "    \n",
    "    # Port throughput\n",
    "    \n",
    "    cdr_throughput = np.zeros(n_years)\n",
    "    for i in range (n_years):\n",
    "        cdr_throughput[i] = min(1, optimal_cdr[i])\n",
    "    \n",
    "    capacity1 = cdr_throughput * traffic1\n",
    "    \n",
    "    #######################################\n",
    "    \n",
    "    # Plot configuration\n",
    "    \n",
    "    x                  = np.linspace(start_year,end_year,n_years)\n",
    "    fig_results        = plt.figure(figsize=(15,40))\n",
    "    grid               = plt.GridSpec(12, 2, wspace=0.4, hspace=0.5)\n",
    "    \n",
    "    fig_tp1   = fig_results.add_subplot(grid[0, 0])\n",
    "    fig_tp2   = fig_results.add_subplot(grid[0, 1])\n",
    "    \n",
    "    fig_var1  = fig_results.add_subplot(grid[1, 0])\n",
    "    fig_var2  = fig_results.add_subplot(grid[2, 0])\n",
    "    fig_var3  = fig_results.add_subplot(grid[1, 1])\n",
    "    fig_var4  = fig_results.add_subplot(grid[2, 1])\n",
    "    \n",
    "    fig_cash1 = fig_results.add_subplot(grid[3, 0])\n",
    "    fig_cash2 = fig_results.add_subplot(grid[3, 1])\n",
    "    fig_cash3 = fig_results.add_subplot(grid[4, 0])\n",
    "    fig_cash4 = fig_results.add_subplot(grid[4, 1])\n",
    "    fig_cash5 = fig_results.add_subplot(grid[5, 0])\n",
    "    fig_cash6 = fig_results.add_subplot(grid[8:11,:2])\n",
    "    \n",
    "    fig_fc1   = fig_results.add_subplot(grid[6:8,:2])\n",
    "\n",
    "    #######################################\n",
    "    \n",
    "    # Plotting variable results\n",
    "    \n",
    "    fig_var1.step(x, var1, where='mid')\n",
    "    fig_var1.set_title ('Capacity:Demand ratio')\n",
    "    fig_var1.set_xlabel('Year')\n",
    "    fig_var1.set_ylabel('Value')\n",
    "\n",
    "    fig_var2.step(x, var2, where='mid')\n",
    "    fig_var2.set_title ('Total number of unloaders')\n",
    "    fig_var2.set_xlabel('Year')\n",
    "    fig_var2.set_ylabel('Value')\n",
    "\n",
    "    fig_var3.step(x, var3, where='mid')\n",
    "    fig_var3.set_title ('Number of berths')\n",
    "    fig_var3.set_xlabel('Year')\n",
    "    fig_var3.set_ylabel('Value')\n",
    "\n",
    "    fig_var4.step(x, var4, where='mid')\n",
    "    fig_var4.set_title ('Quay length')\n",
    "    fig_var4.set_xlabel('Year')\n",
    "    fig_var4.set_ylabel('Length (m)')    \n",
    "    \n",
    "    #######################################\n",
    "    \n",
    "    # Plotting cash flow results\n",
    "    \n",
    "    xint  = np.linspace(start_year,end_year,n_years)\n",
    "    fig_cash1.step(x, cash1, where='mid')\n",
    "    fig_cash1.fill_between(xint, cash1, 0, step='mid', facecolor='gray', alpha=0.4)\n",
    "    fig_cash1.text((start_year+end_year)/2, 0.25*max(cash1), r\"$PV\\, \\int\\, Profits=$\"'{:,}'.format(NPV_profits), horizontalalignment='center', fontsize=16)\n",
    "    fig_cash1.set_title ('Annualised profits')\n",
    "    fig_cash1.set_xlabel('Year')\n",
    "    fig_cash1.set_ylabel('Profits (PV $s)')\n",
    "    \n",
    "    fig_cash2.step(x, cash2, where='mid')\n",
    "    fig_cash2.fill_between(xint, cash2, 0, step='mid', facecolor='red', alpha=0.4)\n",
    "    fig_cash2.set_title ('Annualised capex')\n",
    "    fig_cash2.set_xlabel('Year')\n",
    "    fig_cash2.set_ylabel('Costs (PV $s)')\n",
    "\n",
    "    fig_cash3.step(x, cash3, where='mid')\n",
    "    fig_cash3.set_title ('Annualised opex')\n",
    "    fig_cash3.set_xlabel('Year')\n",
    "    fig_cash3.set_ylabel('Costs (PV $s)')\n",
    "    \n",
    "    fig_cash4.step(x, cash4, where='mid')\n",
    "    fig_cash4.set_title ('Demurrage costs')\n",
    "    fig_cash4.set_xlabel('Year')\n",
    "    fig_cash4.set_ylabel('Costs (PV $s)')\n",
    "\n",
    "    fig_cash5.step(x, cash5, where='mid')\n",
    "    fig_cash5.set_title ('Residual value (not a cashflow)')\n",
    "    fig_cash5.set_xlabel('Year')\n",
    "    fig_cash5.set_ylabel('Value (PV $s)')\n",
    "    \n",
    "    fig_cash6.step(x, cash1, where='mid', label='Profits')\n",
    "    fig_cash6.step(x, cash2, where='mid', label='Capex')\n",
    "    fig_cash6.step(x, cash3, where='mid', label='Opex')\n",
    "    fig_cash6.step(x, cash4, where='mid', label='Demurrage costs')\n",
    "    fig_cash6.step(x, cash6, where='mid', label='Residual value')\n",
    "    fig_cash6.set_title ('Total cash flows')\n",
    "    fig_cash6.set_xlabel('Year')\n",
    "    fig_cash6.set_ylabel('Value (PV $s)')\n",
    "    fig_cash6.legend()\n",
    "    \n",
    "    #######################################\n",
    "    \n",
    "    # Plotting traffic forecast\n",
    "\n",
    "    fig_fc1.step(x, traffic1,  where='mid', label='Total forecast')\n",
    "    fig_fc1.step(x, capacity1, where='mid', label='Total throughput')\n",
    "    fig_fc1.step(x, traffic2,  where='mid', label='Maize')\n",
    "    fig_fc1.step(x, traffic3,  where='mid', label='Soybeans')\n",
    "    fig_fc1.step(x, traffic4,  where='mid', label='Wheat')\n",
    "    fig_fc1.set_title ('Commodity traffic')\n",
    "    fig_fc1.set_xlabel('Year')\n",
    "    fig_fc1.set_ylabel('Annual tonnage')\n",
    "    fig_fc1.legend()\n",
    "   \n",
    "    #######################################\n",
    "    \n",
    "    # Plotting port throughput\n",
    "    \n",
    "    def plotting_throughput(figure):\n",
    "        figure.step(x, traffic1, where='mid', label='Traffic projection')\n",
    "        figure.step(x, capacity1, where='mid', label='Port throughput')\n",
    "        figure.set_title ('Port throughput')\n",
    "        figure.set_xlabel('Year')\n",
    "        figure.set_ylabel('Annual tonnage')\n",
    "        figure.legend()\n",
    "        return\n",
    "    \n",
    "    plotting_throughput(fig_tp1)\n",
    "    plotting_throughput(fig_tp2)\n",
    "    \n",
    "    fig_results.savefig('multipleplots.png')\n",
    "    \n",
    "    return\n",
    "\n",
    "#############################################################################################################################"
   ]
  },
  {
   "cell_type": "markdown",
   "metadata": {},
   "source": [
    "## 4.7 Executable function"
   ]
  },
  {
   "cell_type": "code",
   "execution_count": 44,
   "metadata": {},
   "outputs": [],
   "source": [
    "#############################################################################################################################\n",
    "\n",
    "# Defining all possible combinations, resulting profits, resulting NPV and selecting the option with the highest value\n",
    "\n",
    "def optimal_configuration(interval_years):\n",
    "    global z\n",
    "    global optimal_row_num\n",
    "    \n",
    "    optimization_intervals(interval_years)\n",
    "    \n",
    "    if n_combinations() > 10000000:\n",
    "        return 'Warning! More than 10 million combinations possible'\n",
    "\n",
    "    ######################################################################\n",
    "    \n",
    "    # Execute over each interval\n",
    "        \n",
    "    for interval_iterator in range (n_intervals):\n",
    "\n",
    "        z = interval_iterator\n",
    "        \n",
    "        variable_combinations()\n",
    "        annual_profit()    \n",
    "        NPV_calc()\n",
    "    \n",
    "    ######################################################################\n",
    "\n",
    "        # Locate optimal variable combination \n",
    "\n",
    "        optimal_row_num = np.argmax(NPV[:], axis=None, out=None)\n",
    "\n",
    "    ######################################################################\n",
    "\n",
    "        # Determine the optimal variable combination and the resulting cashflows\n",
    "        \n",
    "        optimal_variables()\n",
    "        optimal_cashflows()\n",
    "\n",
    "    ######################################################################\n",
    "        \n",
    "        # End of interval variable configuration\n",
    "        \n",
    "        end_of_interval()\n",
    "    \n",
    "    ######################################################################\n",
    "    \n",
    "    # Plotting results\n",
    "        \n",
    "    plot_results()\n",
    "    \n",
    "    ######################################################################\n",
    "    \n",
    "    return\n",
    "    \n",
    "#############################################################################################################################"
   ]
  },
  {
   "cell_type": "code",
   "execution_count": 45,
   "metadata": {
    "scrolled": false
   },
   "outputs": [
    {
     "name": "stdout",
     "output_type": "stream",
     "text": [
      "Total project timeline:       10 years\n",
      "Number of intervals:          5\n",
      "Interval  time line:          2 years\n",
      "Residual interval timeline:   0 years\n",
      "Total number of results:      405\n",
      "\n",
      "Complete:                     Defining variable combinations within one interval\n",
      "Total memory usage (GB):      0.0\n",
      "Results in a single interval: 81\n",
      "Total computation time (m:s): 0 min 0 sec\n",
      "Results per second:           98,308\n",
      "\n",
      "Complete:                     First interval cash flow computation\n",
      "Total memory usage (GB):      0.0\n",
      "Computation time (m:s):       0 min 1 sec\n",
      "Total computation time (m:s): 0 min 6 sec\n",
      "Results per second:           62\n",
      "\n"
     ]
    },
    {
     "data": {
      "image/png": "[encoded data removed]",
      "text/plain": [
       "<Figure size 1080x2880 with 13 Axes>"
      ]
     },
     "metadata": {},
     "output_type": "display_data"
    }
   ],
   "source": [
    "optimal_configuration(2)"
   ]
  }
 ],
 "metadata": {
  "kernelspec": {
   "display_name": "Python 3",
   "language": "python",
   "name": "python3"
  },
  "language_info": {
   "codemirror_mode": {
    "name": "ipython",
    "version": 3
   },
   "file_extension": ".py",
   "mimetype": "text/x-python",
   "name": "python",
   "nbconvert_exporter": "python",
   "pygments_lexer": "ipython3",
   "version": "3.6.6"
  }
 },
 "nbformat": 4,
 "nbformat_minor": 2
}
