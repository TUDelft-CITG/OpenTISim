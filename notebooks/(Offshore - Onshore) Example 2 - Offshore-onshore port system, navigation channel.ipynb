{
 "cells": [
  {
   "cell_type": "markdown",
   "metadata": {
    "slideshow": {
     "slide_type": "-"
    }
   },
   "source": [
    "# MSc Thesis - Hugo Stam"
   ]
  },
  {
   "cell_type": "markdown",
   "metadata": {},
   "source": [
    "#### Investment Strategy Simulation - Adaptive terminal planning in the light of an uncertain future\n",
    "\n",
    "##### Example 2 - Offshore-onshore port system development. \n",
    "The offshore and onshore facilities are connected by barge link, therefore a navigation channel has to be dredged."
   ]
  },
  {
   "cell_type": "markdown",
   "metadata": {},
   "source": [
    "* [**0. Prepare inputs:**](#0.-Prepare-inputs)<br>\n",
    "   * [**0.1 Generate demand forecast scenario:**](#0.1-Generate-demand-forecast-scenario)<br>\n",
    "   * [**0.2 Generate vessels:**](#0.2-Generate-vessels)<br>\n",
    "   * [**0.3 Generate site specific conditions:**](#0.3-Generate-site-specific-conditions)<br>\n",
    "* [**1. Instatiate system components:**](#1.-Instatiate-system-components)<br>\n",
    "* [**2. Start simulation:**](#2.-Strart-simulation)<br>\n",
    "* [**3. Report all elements:**](#3.-Report-all-elements)<br>"
   ]
  },
  {
   "cell_type": "markdown",
   "metadata": {},
   "source": [
    "#### notes:\n",
    "\n",
    "- add navigation channel in front of offshore terminal (capex and opex)\n",
    "- add bridge/causeway between offshore-onshore terminal (capex and opex)\n",
    "- add overseas transport costs (opex)"
   ]
  },
  {
   "cell_type": "code",
   "execution_count": 1,
   "metadata": {},
   "outputs": [],
   "source": [
    "import numpy as np\n",
    "import pandas as pd\n",
    "import statistics as st\n",
    "\n",
    "import matplotlib.pyplot as plt\n",
    "import matplotlib as mpl\n",
    "\n",
    "from opentisim import container_objects\n",
    "from opentisim import container_defaults\n",
    "from opentisim import container_system"
   ]
  },
  {
   "cell_type": "markdown",
   "metadata": {},
   "source": [
    "# 0. Prepare inputs"
   ]
  },
  {
   "cell_type": "code",
   "execution_count": 2,
   "metadata": {},
   "outputs": [],
   "source": [
    "startyear = 2020\n",
    "lifecycle = 15"
   ]
  },
  {
   "cell_type": "markdown",
   "metadata": {},
   "source": [
    "## 0.1 Generate demand forecast scenario"
   ]
  },
  {
   "cell_type": "code",
   "execution_count": 3,
   "metadata": {
    "slideshow": {
     "slide_type": "-"
    }
   },
   "outputs": [],
   "source": [
    "years = list(range(startyear, startyear+lifecycle))\n",
    "\n",
    "demand = []\n",
    "for year in years:\n",
    "    if year <= 2025:\n",
    "        demand.append(1_000_000)\n",
    "    elif year <= 2030:\n",
    "        demand.append(1_500_000)\n",
    "    else:\n",
    "        demand.append(2_000_000)\n",
    "\n",
    "scenario_data={'year': years, 'volume': demand}\n",
    "\n",
    "# ladens\n",
    "container_defaults.container_data['historic_data'] = []\n",
    "container = container_objects.Commodity(**container_defaults.container_data)\n",
    "container.scenario_data = pd.DataFrame(data=scenario_data)\n",
    "\n",
    "# combine\n",
    "demand = [container]\n",
    "\n",
    "# plot scenarios \n",
    "if False:\n",
    "    laden.plot_demand()"
   ]
  },
  {
   "cell_type": "markdown",
   "metadata": {},
   "source": [
    "## 0.2 Generate vessels"
   ]
  },
  {
   "cell_type": "code",
   "execution_count": 4,
   "metadata": {},
   "outputs": [
    {
     "ename": "AttributeError",
     "evalue": "module 'opentisim.container_defaults' has no attribute 'fully_cellular_data'",
     "output_type": "error",
     "traceback": [
      "\u001b[1;31m---------------------------------------------------------------------------\u001b[0m",
      "\u001b[1;31mAttributeError\u001b[0m                            Traceback (most recent call last)",
      "\u001b[1;32m<ipython-input-4-332a14ff5c36>\u001b[0m in \u001b[0;36m<module>\u001b[1;34m\u001b[0m\n\u001b[0;32m      1\u001b[0m \u001b[1;31m# instantiate vessels\u001b[0m\u001b[1;33m\u001b[0m\u001b[1;33m\u001b[0m\u001b[1;33m\u001b[0m\u001b[0m\n\u001b[1;32m----> 2\u001b[1;33m \u001b[0mfully_cellular\u001b[0m \u001b[1;33m=\u001b[0m \u001b[0mcontainer_objects\u001b[0m\u001b[1;33m.\u001b[0m\u001b[0mVessel\u001b[0m\u001b[1;33m(\u001b[0m\u001b[1;33m**\u001b[0m\u001b[0mcontainer_defaults\u001b[0m\u001b[1;33m.\u001b[0m\u001b[0mfully_cellular_data\u001b[0m\u001b[1;33m)\u001b[0m\u001b[1;33m\u001b[0m\u001b[1;33m\u001b[0m\u001b[0m\n\u001b[0m\u001b[0;32m      3\u001b[0m \u001b[0mpanamax\u001b[0m \u001b[1;33m=\u001b[0m \u001b[0mcontainer_objects\u001b[0m\u001b[1;33m.\u001b[0m\u001b[0mVessel\u001b[0m\u001b[1;33m(\u001b[0m\u001b[1;33m**\u001b[0m\u001b[0mcontainer_defaults\u001b[0m\u001b[1;33m.\u001b[0m\u001b[0mpanamax_data\u001b[0m\u001b[1;33m)\u001b[0m\u001b[1;33m\u001b[0m\u001b[1;33m\u001b[0m\u001b[0m\n\u001b[0;32m      4\u001b[0m \u001b[0mpanamax_max\u001b[0m \u001b[1;33m=\u001b[0m \u001b[0mcontainer_objects\u001b[0m\u001b[1;33m.\u001b[0m\u001b[0mVessel\u001b[0m\u001b[1;33m(\u001b[0m\u001b[1;33m**\u001b[0m\u001b[0mcontainer_defaults\u001b[0m\u001b[1;33m.\u001b[0m\u001b[0mpanamax_max_data\u001b[0m\u001b[1;33m)\u001b[0m\u001b[1;33m\u001b[0m\u001b[1;33m\u001b[0m\u001b[0m\n\u001b[0;32m      5\u001b[0m \u001b[0mpost_panamax_I\u001b[0m \u001b[1;33m=\u001b[0m \u001b[0mcontainer_objects\u001b[0m\u001b[1;33m.\u001b[0m\u001b[0mVessel\u001b[0m\u001b[1;33m(\u001b[0m\u001b[1;33m**\u001b[0m\u001b[0mcontainer_defaults\u001b[0m\u001b[1;33m.\u001b[0m\u001b[0mpost_panamax_I_data\u001b[0m\u001b[1;33m)\u001b[0m\u001b[1;33m\u001b[0m\u001b[1;33m\u001b[0m\u001b[0m\n",
      "\u001b[1;31mAttributeError\u001b[0m: module 'opentisim.container_defaults' has no attribute 'fully_cellular_data'"
     ]
    }
   ],
   "source": [
    "# instantiate vessels\n",
    "fully_cellular = container_objects.Vessel(**container_defaults.fully_cellular_data)\n",
    "panamax = container_objects.Vessel(**container_defaults.panamax_data)\n",
    "panamax_max = container_objects.Vessel(**container_defaults.panamax_max_data)\n",
    "post_panamax_I = container_objects.Vessel(**container_defaults.post_panamax_I_data)\n",
    "post_panamax_II = container_objects.Vessel(**container_defaults.post_panamax_II_data)\n",
    "new_panamax = container_objects.Vessel(**container_defaults.new_panamax_data)\n",
    "VLCS = container_objects.Vessel(**container_defaults.VLCS_data)\n",
    "ULCS = container_objects.Vessel(**container_defaults.ULCS_data)\n",
    "\n",
    "vessels = [fully_cellular, panamax, panamax_max, post_panamax_I, post_panamax_II, new_panamax, VLCS, ULCS] "
   ]
  },
  {
   "cell_type": "markdown",
   "metadata": {},
   "source": [
    "## 0.3 Generate site specific conditions"
   ]
  },
  {
   "cell_type": "code",
   "execution_count": null,
   "metadata": {},
   "outputs": [],
   "source": [
    "# bathymetry & soil type\n",
    "slope = 2.0  # km/m\n",
    "soil_type = 'sandy'\n",
    "\n",
    "# environmental conditons (according to Table 3.5 PIANC)\n",
    "wave_height = 3.0 # m\n",
    "wave_climate = 'strong'\n",
    "wind_climate = 'moderate'\n",
    "cross_currents = 'moderate'\n",
    "long_currents = 'mild'"
   ]
  },
  {
   "cell_type": "markdown",
   "metadata": {},
   "source": [
    "# 1. Instatiate system components"
   ]
  },
  {
   "cell_type": "markdown",
   "metadata": {},
   "source": [
    "## 1.1 Terminal system"
   ]
  },
  {
   "cell_type": "code",
   "execution_count": null,
   "metadata": {},
   "outputs": [],
   "source": [
    "Terminal = container_system.System(startyear = startyear, \n",
    "                        lifecycle = lifecycle, \n",
    "                        elements = demand + vessels, \n",
    "                        operational_hours = 7500,\n",
    "                        debug=True)"
   ]
  },
  {
   "cell_type": "markdown",
   "metadata": {},
   "source": [
    "# 2. Start simulation"
   ]
  },
  {
   "cell_type": "markdown",
   "metadata": {},
   "source": [
    "This method automatically generates investment decisions, parametrically derived from overall demand trends and a number of investment triggers.\n",
    "\n",
    "Apply frame of reference style decisions while stepping through each year of the terminal lifecycle and check if investment is needed (in light of strategic objective, operational objective, QSC, decision recipe, intervention method):\n",
    "    1. for each year evaluate the demand of each commodity\n",
    "    2. for each year evaluate the various investment decisions\n",
    "    3. for each year calculate the energy costs (requires insight in realized demands)\n",
    "    4. for each year calculate the demurrage costs (requires insight in realized demands)\n",
    "    5. for each year calculate terminal revenues\n",
    "    6. collect all cash flows (capex, opex, revenues)\n",
    "    7. calculate PV's and aggregate to NPV"
   ]
  },
  {
   "cell_type": "code",
   "execution_count": null,
   "metadata": {
    "scrolled": true
   },
   "outputs": [],
   "source": [
    "Terminal.simulate()"
   ]
  },
  {
   "cell_type": "markdown",
   "metadata": {},
   "source": [
    "## 3. Report all elements"
   ]
  },
  {
   "cell_type": "code",
   "execution_count": null,
   "metadata": {
    "scrolled": true
   },
   "outputs": [],
   "source": [
    "if True: \n",
    "    for element in Terminal.elements:\n",
    "        print(\"\")\n",
    "        print(element.name)\n",
    "        print(\"\")\n",
    "        print(element.__dict__) # This is the dictionary containing the module's symbol table. \n",
    "        # object.__dict__ A dictionary or other mapping object used to store an object's (writable) attributes."
   ]
  },
  {
   "cell_type": "code",
   "execution_count": null,
   "metadata": {},
   "outputs": [],
   "source": [
    "Terminal.terminal_elements_plot()"
   ]
  },
  {
   "cell_type": "code",
   "execution_count": null,
   "metadata": {},
   "outputs": [],
   "source": [
    "Terminal.terminal_capacity_plot()"
   ]
  },
  {
   "cell_type": "code",
   "execution_count": null,
   "metadata": {
    "scrolled": false
   },
   "outputs": [],
   "source": [
    "Terminal.land_use_plot()"
   ]
  },
  {
   "cell_type": "markdown",
   "metadata": {},
   "source": [
    "#### Add cash flow information for each of the terminal elements."
   ]
  },
  {
   "cell_type": "code",
   "execution_count": null,
   "metadata": {},
   "outputs": [],
   "source": [
    "cash_flows, cash_flows_WACC_real = Terminal.add_cashflow_elements()"
   ]
  },
  {
   "cell_type": "code",
   "execution_count": null,
   "metadata": {
    "scrolled": false
   },
   "outputs": [],
   "source": [
    "Terminal.opex_plot(cash_flows)"
   ]
  },
  {
   "cell_type": "code",
   "execution_count": null,
   "metadata": {
    "scrolled": false
   },
   "outputs": [],
   "source": [
    "Terminal.cashflow_plot(cash_flows)\n",
    "Terminal.cashflow_plot(cash_flows_WACC_real)"
   ]
  },
  {
   "cell_type": "code",
   "execution_count": null,
   "metadata": {},
   "outputs": [],
   "source": [
    "Terminal.NPV()"
   ]
  },
  {
   "cell_type": "code",
   "execution_count": null,
   "metadata": {},
   "outputs": [],
   "source": []
  }
 ],
 "metadata": {
  "kernelspec": {
   "display_name": "Python 3",
   "language": "python",
   "name": "python3"
  },
  "language_info": {
   "codemirror_mode": {
    "name": "ipython",
    "version": 3
   },
   "file_extension": ".py",
   "mimetype": "text/x-python",
   "name": "python",
   "nbconvert_exporter": "python",
   "pygments_lexer": "ipython3",
   "version": "3.7.3"
  }
 },
 "nbformat": 4,
 "nbformat_minor": 2
}
