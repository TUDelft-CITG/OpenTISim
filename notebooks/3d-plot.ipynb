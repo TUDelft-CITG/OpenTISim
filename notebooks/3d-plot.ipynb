{
 "cells": [
  {
   "cell_type": "code",
   "execution_count": null,
   "metadata": {},
   "outputs": [],
   "source": [
    "# from mpl_toolkits.mplot3d import Axes3D\n",
    "\n",
    "# def f1(x1, y1):\n",
    "#     return ((30 - x1) * y1**2)\n",
    "\n",
    "# def f2(x2, y2):\n",
    "#     return ((25 - x2) * 1.4 * y2**2)\n",
    "\n",
    "# def f3(x3, y3):\n",
    "#     return ((20 - x3) * 1.8 * y3**2)\n",
    "\n",
    "# x1 = [10,12,14]\n",
    "# y1 = [20,40,60]\n",
    "\n",
    "# x2 = [10,12,14]\n",
    "# y2 = [20,40,60]\n",
    "\n",
    "# x3 = [10,12,14]\n",
    "# y3 = [20,40,60]\n",
    "\n",
    "# X1, Y1 = np.meshgrid(x1, y1)\n",
    "# Z1 = f1(X1, Y1)\n",
    "# X2, Y2 = np.meshgrid(x2, y2)\n",
    "# Z2 = f2(X2, Y2)\n",
    "# X3, Y3 = np.meshgrid(x3, y3)\n",
    "# Z3 = f3(X3, Y3)\n",
    "\n",
    "# fig = plt.figure(figsize=(10,10))\n",
    "# ax = plt.axes(projection='3d')\n",
    "# ax.scatter3D(xs = X1, ys = Y1, zs=Z1,zdir=Z1,cmap='viridis')\n",
    "# ax.scatter3D(xs = X2, ys = Y2, zs=Z2,zdir=Z2,cmap='viridis')\n",
    "\n",
    "# ax.scatter3D(xs = X3, ys = Y3, zs=Z3,zdir=Z3,cmap='viridis')\n",
    "# ax.plot_wireframe(X1, Y1, Z1, rstride = 1, cstride = 1, color = 'blue')\n",
    "# ax.plot_wireframe(X2, Y2, Z2, rstride = 1, cstride = 1, color = 'orange')\n",
    "# ax.plot_wireframe(X3, Y3, Z3, rstride = 1, cstride = 1, color = 'green')\n",
    "\n",
    "# ax.plot_surface(X1, Y1, Z1, alpha=0.4, color = 'blue')\n",
    "# ax.plot_surface(X2, Y2, Z2, alpha=0.4, color = 'orange')\n",
    "# ax.plot_surface(X3, Y3, Z3, alpha=0.4, color = 'green')\n",
    "\n",
    "# ax.set_xlabel('Design Vessel Draught [m]')\n",
    "# ax.set_ylabel('Offshore - Onshore Distance [km]')\n",
    "# ax.set_zlabel('NPV')"
   ]
  }
 ],
 "metadata": {
  "kernelspec": {
   "display_name": "Python 3",
   "language": "python",
   "name": "python3"
  },
  "language_info": {
   "codemirror_mode": {
    "name": "ipython",
    "version": 3
   },
   "file_extension": ".py",
   "mimetype": "text/x-python",
   "name": "python",
   "nbconvert_exporter": "python",
   "pygments_lexer": "ipython3",
   "version": "3.7.3"
  }
 },
 "nbformat": 4,
 "nbformat_minor": 2
}
