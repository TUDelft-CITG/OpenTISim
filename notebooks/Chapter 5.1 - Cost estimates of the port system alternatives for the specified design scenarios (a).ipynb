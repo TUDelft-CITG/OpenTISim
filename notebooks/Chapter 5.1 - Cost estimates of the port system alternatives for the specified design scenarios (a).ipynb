{
 "cells": [
  {
   "cell_type": "markdown",
   "metadata": {
    "slideshow": {
     "slide_type": "-"
    }
   },
   "source": [
    "# MSc Thesis - Hugo Stam"
   ]
  },
  {
   "cell_type": "markdown",
   "metadata": {},
   "source": [
    "### Chapter 5.1 - Cost estimates of the port system alternatives for the specified design scenarios (a)"
   ]
  },
  {
   "cell_type": "markdown",
   "metadata": {},
   "source": [
    "<img src=\"Figures/alternative_1.png\"  style=\"width:500px\">\n",
    "<img src=\"Figures/alternative_2A.png\" style=\"width:600px\">\n",
    "<img src=\"Figures/alternative_3.png\"  style=\"width:600px\">"
   ]
  },
  {
   "cell_type": "code",
   "execution_count": 1,
   "metadata": {
    "hide_input": true
   },
   "outputs": [],
   "source": [
    "# packages for data handling\n",
    "import numpy as np\n",
    "import pandas as pd\n",
    "\n",
    "# packages for figures\n",
    "import matplotlib.pyplot as plt\n",
    "%matplotlib inline\n",
    "\n",
    "import seaborn as sns\n",
    "\n",
    "# Jupyter Widgets\n",
    "from IPython.display import Javascript, display\n",
    "from ipywidgets import widgets\n",
    "\n",
    "# Scroll to specific cell\n",
    "from jupyter_helpers.utilities import scroll_to_current_cell\n",
    "\n",
    "# no warnings\n",
    "import warnings\n",
    "warnings.filterwarnings('ignore')\n",
    "\n",
    "#display dfs side by side\n",
    "from IPython.core.display import HTML\n",
    "\n",
    "def multi_table(table_list):\n",
    "    return HTML('<table><tr style=\"background-color:white;\">' + \n",
    "                ''.join(['<td>' + table._repr_html_() + '</td>' for table in table_list]) + '</tr></table>')"
   ]
  },
  {
   "cell_type": "code",
   "execution_count": 2,
   "metadata": {
    "hide_input": true
   },
   "outputs": [],
   "source": [
    "cmap_tab20c = plt.get_cmap(\"tab20c\")\n",
    "cmap_tab20 = plt.get_cmap(\"tab20\")\n",
    "cmap_tab10 = plt.get_cmap(\"tab10\")\n",
    "\n",
    "pal_sens = cmap_tab10(np.array([0, 1, 2]))\n",
    "\n",
    "pal_0 = cmap_tab20c(np.array([1, 5, 9]))\n",
    "\n",
    "pal_1a = cmap_tab20c(np.array([2, 1, 0]))\n",
    "pal_2a = cmap_tab20c(np.array([6, 5, 4]))\n",
    "pal_3a = cmap_tab20c(np.array([10, 9, 8]))\n",
    "\n",
    "pal_1b = cmap_tab20c(np.array([0, 1, 3]))\n",
    "pal_2b = cmap_tab20c(np.array([4, 5, 7]))\n",
    "pal_3b = cmap_tab20c(np.array([8, 9, 11]))"
   ]
  },
  {
   "cell_type": "code",
   "execution_count": 3,
   "metadata": {
    "hide_input": true
   },
   "outputs": [],
   "source": [
    "# Alt 1\n",
    "%store -r PV_alt1_6000_1000000\n",
    "%store -r PV_alt1_12500_1000000\n",
    "%store -r PV_alt1_21000_1000000\n",
    "\n",
    "# Alt 2\n",
    "%store -r PV_alt2_20_6000_1000000\n",
    "%store -r PV_alt2_20_12500_1000000\n",
    "%store -r PV_alt2_20_21000_1000000\n",
    "\n",
    "%store -r PV_alt2_40_6000_1000000\n",
    "%store -r PV_alt2_40_12500_1000000\n",
    "%store -r PV_alt2_40_21000_1000000\n",
    "\n",
    "%store -r PV_alt2_60_6000_1000000\n",
    "%store -r PV_alt2_60_12500_1000000\n",
    "%store -r PV_alt2_60_21000_1000000\n",
    "\n",
    "# Alt 3\n",
    "%store -r PV_alt3_20_6000_1000000\n",
    "%store -r PV_alt3_20_12500_1000000\n",
    "%store -r PV_alt3_20_21000_1000000\n",
    "\n",
    "%store -r PV_alt3_40_6000_1000000\n",
    "%store -r PV_alt3_40_12500_1000000\n",
    "%store -r PV_alt3_40_21000_1000000\n",
    "\n",
    "%store -r PV_alt3_60_6000_1000000\n",
    "%store -r PV_alt3_60_12500_1000000\n",
    "%store -r PV_alt3_60_21000_1000000"
   ]
  },
  {
   "cell_type": "markdown",
   "metadata": {},
   "source": [
    "## Create DataFrames"
   ]
  },
  {
   "cell_type": "code",
   "execution_count": 4,
   "metadata": {
    "hide_input": false,
    "scrolled": false
   },
   "outputs": [
    {
     "data": {
      "text/html": [
       "<table><tr style=\"background-color:white;\"><td><div>\n",
       "<style scoped>\n",
       "    .dataframe tbody tr th:only-of-type {\n",
       "        vertical-align: middle;\n",
       "    }\n",
       "\n",
       "    .dataframe tbody tr th {\n",
       "        vertical-align: top;\n",
       "    }\n",
       "\n",
       "    .dataframe thead th {\n",
       "        text-align: right;\n",
       "    }\n",
       "</style>\n",
       "<table border=\"1\" class=\"dataframe\">\n",
       "  <thead>\n",
       "    <tr style=\"text-align: right;\">\n",
       "      <th>Offshore Distance</th>\n",
       "      <th>20 km</th>\n",
       "      <th>40 km</th>\n",
       "      <th>60 km</th>\n",
       "    </tr>\n",
       "    <tr>\n",
       "      <th>Design Vessel</th>\n",
       "      <th></th>\n",
       "      <th></th>\n",
       "      <th></th>\n",
       "    </tr>\n",
       "  </thead>\n",
       "  <tbody>\n",
       "    <tr>\n",
       "      <th>6,000 TEU</th>\n",
       "      <td>$ 3,888</td>\n",
       "      <td>$ 3,888</td>\n",
       "      <td>$ 3,888</td>\n",
       "    </tr>\n",
       "    <tr>\n",
       "      <th>12,500 TEU</th>\n",
       "      <td>$ 4,850</td>\n",
       "      <td>$ 4,850</td>\n",
       "      <td>$ 4,850</td>\n",
       "    </tr>\n",
       "    <tr>\n",
       "      <th>21,000 TEU</th>\n",
       "      <td>$ 5,672</td>\n",
       "      <td>$ 5,672</td>\n",
       "      <td>$ 5,672</td>\n",
       "    </tr>\n",
       "  </tbody>\n",
       "</table>\n",
       "</div></td><td><div>\n",
       "<style scoped>\n",
       "    .dataframe tbody tr th:only-of-type {\n",
       "        vertical-align: middle;\n",
       "    }\n",
       "\n",
       "    .dataframe tbody tr th {\n",
       "        vertical-align: top;\n",
       "    }\n",
       "\n",
       "    .dataframe thead th {\n",
       "        text-align: right;\n",
       "    }\n",
       "</style>\n",
       "<table border=\"1\" class=\"dataframe\">\n",
       "  <thead>\n",
       "    <tr style=\"text-align: right;\">\n",
       "      <th>Offshore Distance</th>\n",
       "      <th>20 km</th>\n",
       "      <th>40 km</th>\n",
       "      <th>60 km</th>\n",
       "    </tr>\n",
       "    <tr>\n",
       "      <th>Design Vessel</th>\n",
       "      <th></th>\n",
       "      <th></th>\n",
       "      <th></th>\n",
       "    </tr>\n",
       "  </thead>\n",
       "  <tbody>\n",
       "    <tr>\n",
       "      <th>6,000 TEU</th>\n",
       "      <td>$ 4,367</td>\n",
       "      <td>$ 4,287</td>\n",
       "      <td>$ 4,533</td>\n",
       "    </tr>\n",
       "    <tr>\n",
       "      <th>12,500 TEU</th>\n",
       "      <td>$ 4,566</td>\n",
       "      <td>$ 4,147</td>\n",
       "      <td>$ 4,411</td>\n",
       "    </tr>\n",
       "    <tr>\n",
       "      <th>21,000 TEU</th>\n",
       "      <td>$ 4,728</td>\n",
       "      <td>$ 4,051</td>\n",
       "      <td>$ 4,320</td>\n",
       "    </tr>\n",
       "  </tbody>\n",
       "</table>\n",
       "</div></td><td><div>\n",
       "<style scoped>\n",
       "    .dataframe tbody tr th:only-of-type {\n",
       "        vertical-align: middle;\n",
       "    }\n",
       "\n",
       "    .dataframe tbody tr th {\n",
       "        vertical-align: top;\n",
       "    }\n",
       "\n",
       "    .dataframe thead th {\n",
       "        text-align: right;\n",
       "    }\n",
       "</style>\n",
       "<table border=\"1\" class=\"dataframe\">\n",
       "  <thead>\n",
       "    <tr style=\"text-align: right;\">\n",
       "      <th>Offshore Distance</th>\n",
       "      <th>20 km</th>\n",
       "      <th>40 km</th>\n",
       "      <th>60 km</th>\n",
       "    </tr>\n",
       "    <tr>\n",
       "      <th>Design Vessel</th>\n",
       "      <th></th>\n",
       "      <th></th>\n",
       "      <th></th>\n",
       "    </tr>\n",
       "  </thead>\n",
       "  <tbody>\n",
       "    <tr>\n",
       "      <th>6,000 TEU</th>\n",
       "      <td>$ 5,125</td>\n",
       "      <td>$ 5,764</td>\n",
       "      <td>$ 6,662</td>\n",
       "    </tr>\n",
       "    <tr>\n",
       "      <th>12,500 TEU</th>\n",
       "      <td>$ 5,353</td>\n",
       "      <td>$ 5,624</td>\n",
       "      <td>$ 6,540</td>\n",
       "    </tr>\n",
       "    <tr>\n",
       "      <th>21,000 TEU</th>\n",
       "      <td>$ 5,539</td>\n",
       "      <td>$ 5,529</td>\n",
       "      <td>$ 6,450</td>\n",
       "    </tr>\n",
       "  </tbody>\n",
       "</table>\n",
       "</div></td></tr></table>"
      ],
      "text/plain": [
       "<IPython.core.display.HTML object>"
      ]
     },
     "metadata": {},
     "output_type": "display_data"
    }
   ],
   "source": [
    "PVs_1 = [[\"Panamax\",     20, PV_alt1_6000_1000000,  'Alt1'], \n",
    "         [\"New-Panamax\", 20, PV_alt1_12500_1000000, 'Alt1'], \n",
    "         [\"ULCS\",        20, PV_alt1_21000_1000000, 'Alt1'],\n",
    "         [\"Panamax\",     40, PV_alt1_6000_1000000,  'Alt1'], \n",
    "         [\"New-Panamax\", 40, PV_alt1_12500_1000000, 'Alt1'], \n",
    "         [\"ULCS\",        40, PV_alt1_21000_1000000, 'Alt1'],\n",
    "         [\"Panamax\",     60, PV_alt1_6000_1000000,  'Alt1'], \n",
    "         [\"New-Panamax\", 60, PV_alt1_12500_1000000, 'Alt1'], \n",
    "         [\"ULCS\",        60, PV_alt1_21000_1000000, 'Alt1']]\n",
    "\n",
    "PVs_2 = [[\"Panamax\",     20, PV_alt2_20_6000_1000000,  'Alt2'], \n",
    "         [\"New-Panamax\", 20, PV_alt2_20_12500_1000000, 'Alt2'], \n",
    "         [\"ULCS\",        20, PV_alt2_20_21000_1000000, 'Alt2'],\n",
    "         [\"Panamax\",     40, PV_alt2_40_6000_1000000,  'Alt2'], \n",
    "         [\"New-Panamax\", 40, PV_alt2_40_12500_1000000, 'Alt2'], \n",
    "         [\"ULCS\",        40, PV_alt2_40_21000_1000000, 'Alt2'],\n",
    "         [\"Panamax\",     60, PV_alt2_60_6000_1000000,  'Alt2'], \n",
    "         [\"New-Panamax\", 60, PV_alt2_60_12500_1000000, 'Alt2'], \n",
    "         [\"ULCS\",        60, PV_alt2_60_21000_1000000, 'Alt2']]\n",
    "\n",
    "PVs_3 = [[\"Panamax\",     20, PV_alt3_20_6000_1000000,  'Alt3'], \n",
    "         [\"New-Panamax\", 20, PV_alt3_20_12500_1000000, 'Alt3'], \n",
    "         [\"ULCS\",        20, PV_alt3_20_21000_1000000, 'Alt3'],\n",
    "         [\"Panamax\",     40, PV_alt3_40_6000_1000000,  'Alt3'], \n",
    "         [\"New-Panamax\", 40, PV_alt3_40_12500_1000000, 'Alt3'], \n",
    "         [\"ULCS\",        40, PV_alt3_40_21000_1000000, 'Alt3'],\n",
    "         [\"Panamax\",     60, PV_alt3_60_6000_1000000,  'Alt3'], \n",
    "         [\"New-Panamax\", 60, PV_alt3_60_12500_1000000, 'Alt3'], \n",
    "         [\"ULCS\",        60, PV_alt3_60_21000_1000000, 'Alt3']]\n",
    "\n",
    "df_1 = pd.DataFrame(PVs_1,columns=['vessel','distance','PV','Alternative'])\n",
    "df_1['distance'] = df_1['distance'].astype(float)\n",
    "\n",
    "df_2 = pd.DataFrame(PVs_2,columns=['vessel','distance','PV','Alternative'])\n",
    "df_2['distance'] = df_2['distance'].astype(float)\n",
    "\n",
    "df_3 = pd.DataFrame(PVs_3,columns=['vessel','distance','PV','Alternative'])\n",
    "df_3['distance'] = df_3['distance'].astype(float)\n",
    "\n",
    "table_list = [df_1, df_2, df_3]\n",
    "# display(multi_table(table_list))\n",
    "\n",
    "total_df = pd.concat(table_list)\n",
    "\n",
    "def scenario_table(df_):\n",
    "    df = pd.DataFrame(index=['6,000 TEU','12,500 TEU','21,000 TEU'],columns=['20 km', '40 km', '60 km'])\n",
    "    df.index.name = \"Design Vessel\"\n",
    "    df.columns.name = \"Offshore Distance\"\n",
    "    df['20 km'] = list(df_.PV[0:3]/10**6)\n",
    "    df['40 km'] = list(df_.PV[3:6]/10**6)\n",
    "    df['60 km'] = list(df_.PV[6:9]/10**6)\n",
    "    df['20 km'] = df['20 km'].map('$ {:,.0f}'.format)\n",
    "    df['40 km'] = df['40 km'].map('$ {:,.0f}'.format)\n",
    "    df['60 km'] = df['60 km'].map('$ {:,.0f}'.format)\n",
    "    return df\n",
    "\n",
    "df_alt1 = scenario_table(df_1)\n",
    "df_alt2 = scenario_table(df_2)\n",
    "df_alt3 = scenario_table(df_3)\n",
    "\n",
    "table_list = [df_alt1, df_alt2, df_alt3]\n",
    "display(multi_table(table_list))"
   ]
  },
  {
   "cell_type": "code",
   "execution_count": 51,
   "metadata": {},
   "outputs": [],
   "source": [
    "def grouped_barplot(alt, alt_name, data, palette, edge, legend, fontsize, hline):\n",
    "    plt.figure(figsize=[5,5]);\n",
    "    sns.factorplot(x=\"distance\", y=\"PV\", hue=\"vessel\", edgecolor=edge, data=data, kind=\"bar\", legend=False, palette=palette);\n",
    "    \n",
    "#     if hline == 'New-Panamax':\n",
    "#         plt.axhline(4_850_000_000, linestyle='--', color = pal_1b[0])\n",
    "#         plt.text(0, 4_950_000_000, 'Onshore\\nNew-Panamax', fontsize=fontsize,\n",
    "#                  horizontalalignment='center', verticalalignment='bottom', color=pal_1b[0])\n",
    "\n",
    "#     if hline == 'ULCS':\n",
    "#         plt.axhline(5_672_000_000, linestyle='--', color = pal_1b[0])\n",
    "#         plt.text(0, 5_772_000_000, 'Onshore\\nULCS', fontsize=fontsize, \n",
    "#                  horizontalalignment='center', verticalalignment='bottom', color=pal_1b[0])\n",
    "    \n",
    "    sns.despine(right=True, top=True)\n",
    "    plt.title('Cost estimates: {}'.format(alt_name), fontsize=fontsize)\n",
    "    plt.ylabel('PV of the costs', fontsize=fontsize)\n",
    "    if len(data) == 3:\n",
    "        plt.xlabel('blanco', color='white', fontsize=fontsize)\n",
    "        plt.xticks([0], [\"Onshore\"])\n",
    "    else: \n",
    "        plt.xlabel('Offshore distance', fontsize=fontsize)\n",
    "        plt.xticks([0, 1, 2], [\"20 km\", \"40 km\", \"60 km\"])\n",
    "    plt.yticks(np.arange(0, 8*10**9, step = 10**9), [\"\",\"$ 1B\",\"$ 2B\",\"$ 3B\",\"$ 4B\", \"$ 5B\", \"$ 6B\", \"$ 7B\"])\n",
    "    \n",
    "    if edge == \"white\" and legend == \"inside\":\n",
    "        plt.legend(fontsize='large', loc='lower right', framealpha=0.9, frameon=True)\n",
    "        plt.savefig(\"SaveFigures/PV_bar_plot_inlegend_{}.png\".format(alt), bbox_inches = 'tight')\n",
    "    if edge == \"white\" and legend == \"outside\":\n",
    "        plt.legend(title='Design vessel', fontsize=fontsize, title_fontsize=fontsize,\n",
    "                   bbox_to_anchor=(1., 0.6), frameon=False)\n",
    "        plt.savefig(\"SaveFigures/PV_bar_plot_outlegend_{}.png\".format(alt), bbox_inches = 'tight')"
   ]
  },
  {
   "cell_type": "code",
   "execution_count": 52,
   "metadata": {},
   "outputs": [
    {
     "data": {
      "text/plain": [
       "<Figure size 360x360 with 0 Axes>"
      ]
     },
     "metadata": {},
     "output_type": "display_data"
    },
    {
     "data": {
      "image/png": "[encoded data removed]",
      "text/plain": [
       "<Figure size 360x360 with 1 Axes>"
      ]
     },
     "metadata": {
      "needs_background": "light"
     },
     "output_type": "display_data"
    },
    {
     "data": {
      "text/plain": [
       "<Figure size 360x360 with 0 Axes>"
      ]
     },
     "metadata": {},
     "output_type": "display_data"
    },
    {
     "data": {
      "image/png": "[encoded data removed]",
      "text/plain": [
       "<Figure size 360x360 with 1 Axes>"
      ]
     },
     "metadata": {
      "needs_background": "light"
     },
     "output_type": "display_data"
    },
    {
     "data": {
      "text/plain": [
       "<Figure size 360x360 with 0 Axes>"
      ]
     },
     "metadata": {},
     "output_type": "display_data"
    },
    {
     "data": {
      "image/png": "[encoded data removed]",
      "text/plain": [
       "<Figure size 360x360 with 1 Axes>"
      ]
     },
     "metadata": {
      "needs_background": "light"
     },
     "output_type": "display_data"
    }
   ],
   "source": [
    "grouped_barplot(1, 'Alternative Onshore', df_1[0:3], pal_1b, 'white', \"inside\", 13, None)\n",
    "grouped_barplot(2, 'Alternative Barge',   df_2,      pal_2b, 'white', \"inside\", 13, \"New-Panamax\")\n",
    "grouped_barplot(3, 'Alternative Bridge',  df_3,      pal_3b, 'white', \"inside\", 13, \"ULCS\")"
   ]
  },
  {
   "cell_type": "code",
   "execution_count": null,
   "metadata": {},
   "outputs": [],
   "source": []
  },
  {
   "cell_type": "code",
   "execution_count": null,
   "metadata": {},
   "outputs": [],
   "source": []
  }
 ],
 "metadata": {
  "hide_input": false,
  "kernelspec": {
   "display_name": "Python 3",
   "language": "python",
   "name": "python3"
  },
  "language_info": {
   "codemirror_mode": {
    "name": "ipython",
    "version": 3
   },
   "file_extension": ".py",
   "mimetype": "text/x-python",
   "name": "python",
   "nbconvert_exporter": "python",
   "pygments_lexer": "ipython3",
   "version": "3.7.3"
  },
  "varInspector": {
   "cols": {
    "lenName": 16,
    "lenType": 16,
    "lenVar": 40
   },
   "kernels_config": {
    "python": {
     "delete_cmd_postfix": "",
     "delete_cmd_prefix": "del ",
     "library": "var_list.py",
     "varRefreshCmd": "print(var_dic_list())"
    },
    "r": {
     "delete_cmd_postfix": ") ",
     "delete_cmd_prefix": "rm(",
     "library": "var_list.r",
     "varRefreshCmd": "cat(var_dic_list()) "
    }
   },
   "oldHeight": 394.79999999999995,
   "position": {
    "height": "416.4px",
    "left": "1080px",
    "right": "20px",
    "top": "122px",
    "width": "350px"
   },
   "types_to_exclude": [
    "module",
    "function",
    "builtin_function_or_method",
    "instance",
    "_Feature"
   ],
   "varInspector_section_display": "block",
   "window_display": false
  }
 },
 "nbformat": 4,
 "nbformat_minor": 2
}
