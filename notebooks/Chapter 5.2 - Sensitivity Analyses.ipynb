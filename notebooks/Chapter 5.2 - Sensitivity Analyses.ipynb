{
 "cells": [
  {
   "cell_type": "markdown",
   "metadata": {
    "slideshow": {
     "slide_type": "-"
    }
   },
   "source": [
    "# MSc Thesis - Hugo Stam"
   ]
  },
  {
   "cell_type": "markdown",
   "metadata": {},
   "source": [
    "### Chapter 5.2 - Sensitivity Analyses"
   ]
  },
  {
   "cell_type": "markdown",
   "metadata": {},
   "source": [
    "<img src=\"Figures/alternative_1.png\"  style=\"width:500px\">\n",
    "<img src=\"Figures/alternative_2A.png\" style=\"width:600px\">\n",
    "<img src=\"Figures/alternative_3.png\"  style=\"width:600px\">"
   ]
  },
  {
   "cell_type": "code",
   "execution_count": 1,
   "metadata": {
    "hide_input": true
   },
   "outputs": [],
   "source": [
    "# packages for data handling\n",
    "import numpy as np\n",
    "import pandas as pd\n",
    "\n",
    "# packages for figures\n",
    "import matplotlib.pyplot as plt\n",
    "%matplotlib inline\n",
    "\n",
    "import seaborn as sns\n",
    "\n",
    "# Jupyter Widgets\n",
    "from IPython.display import Javascript, display\n",
    "from ipywidgets import widgets\n",
    "\n",
    "# Scroll to specific cell\n",
    "from jupyter_helpers.utilities import scroll_to_current_cell\n",
    "\n",
    "# no warnings\n",
    "import warnings\n",
    "warnings.filterwarnings('ignore')\n",
    "\n",
    "#display dfs side by side\n",
    "from IPython.core.display import HTML\n",
    "\n",
    "def multi_table(table_list):\n",
    "    return HTML('<table><tr style=\"background-color:white;\">' + \n",
    "                ''.join(['<td>' + table._repr_html_() + '</td>' for table in table_list]) + '</tr></table>')"
   ]
  },
  {
   "cell_type": "code",
   "execution_count": 2,
   "metadata": {
    "hide_input": true
   },
   "outputs": [],
   "source": [
    "cmap_tab20c = plt.get_cmap(\"tab20c\")\n",
    "cmap_tab20 = plt.get_cmap(\"tab20\")\n",
    "cmap_tab10 = plt.get_cmap(\"tab10\")\n",
    "\n",
    "pal_0 = cmap_tab20c(np.array([0, 4, 8]))\n",
    "pal_1 = cmap_tab20c(np.array([1, 5, 9]))\n",
    "pal_2 = cmap_tab20c(np.array([2, 6, 10]))\n",
    "\n",
    "pal_1a = cmap_tab20c(np.array([2, 1, 0]))\n",
    "pal_2a = cmap_tab20c(np.array([6, 5, 4]))\n",
    "pal_3a = cmap_tab20c(np.array([10, 9, 8]))\n",
    "\n",
    "pal_1b = cmap_tab20c(np.array([0, 1, 3]))\n",
    "pal_2b = cmap_tab20c(np.array([4, 5, 7]))\n",
    "pal_3b = cmap_tab20c(np.array([8, 9, 11]))"
   ]
  },
  {
   "cell_type": "markdown",
   "metadata": {},
   "source": [
    "## Sensitivity: Demand"
   ]
  },
  {
   "cell_type": "code",
   "execution_count": 3,
   "metadata": {
    "hide_input": true
   },
   "outputs": [],
   "source": [
    "%store -r PV_alt1_12500_250000\n",
    "%store -r PV_alt1_12500_500000\n",
    "%store -r PV_alt1_12500_1000000\n",
    "%store -r PV_alt1_12500_1500000\n",
    "%store -r PV_alt1_12500_2000000\n",
    "%store -r PV_alt1_12500_2500000\n",
    "\n",
    "%store -r PV_alt2_40_12500_250000\n",
    "%store -r PV_alt2_40_12500_500000\n",
    "%store -r PV_alt2_40_12500_1000000\n",
    "%store -r PV_alt2_40_12500_1500000\n",
    "%store -r PV_alt2_40_12500_2000000\n",
    "%store -r PV_alt2_40_12500_2500000\n",
    "\n",
    "%store -r PV_alt3_40_12500_250000\n",
    "%store -r PV_alt3_40_12500_500000\n",
    "%store -r PV_alt3_40_12500_1000000\n",
    "%store -r PV_alt3_40_12500_1500000\n",
    "%store -r PV_alt3_40_12500_2000000\n",
    "%store -r PV_alt3_40_12500_2500000"
   ]
  },
  {
   "cell_type": "code",
   "execution_count": 4,
   "metadata": {},
   "outputs": [
    {
     "data": {
      "text/html": [
       "<div>\n",
       "<style scoped>\n",
       "    .dataframe tbody tr th:only-of-type {\n",
       "        vertical-align: middle;\n",
       "    }\n",
       "\n",
       "    .dataframe tbody tr th {\n",
       "        vertical-align: top;\n",
       "    }\n",
       "\n",
       "    .dataframe thead th {\n",
       "        text-align: right;\n",
       "    }\n",
       "</style>\n",
       "<table border=\"1\" class=\"dataframe\">\n",
       "  <thead>\n",
       "    <tr style=\"text-align: right;\">\n",
       "      <th>PV [M USD]</th>\n",
       "      <th>Alt 1</th>\n",
       "      <th>Alt 2</th>\n",
       "      <th>Alt 3</th>\n",
       "    </tr>\n",
       "    <tr>\n",
       "      <th>Demand</th>\n",
       "      <th></th>\n",
       "      <th></th>\n",
       "      <th></th>\n",
       "    </tr>\n",
       "  </thead>\n",
       "  <tbody>\n",
       "    <tr>\n",
       "      <th>-50%</th>\n",
       "      <td>$ 4,022</td>\n",
       "      <td>$ 2,356</td>\n",
       "      <td>$ 4,164</td>\n",
       "    </tr>\n",
       "    <tr>\n",
       "      <th>base</th>\n",
       "      <td>$ 4,850</td>\n",
       "      <td>$ 4,147</td>\n",
       "      <td>$ 5,624</td>\n",
       "    </tr>\n",
       "    <tr>\n",
       "      <th>+50%</th>\n",
       "      <td>$ 5,758</td>\n",
       "      <td>$ 6,062</td>\n",
       "      <td>$ 7,328</td>\n",
       "    </tr>\n",
       "    <tr>\n",
       "      <th>+100%</th>\n",
       "      <td>$ 6,584</td>\n",
       "      <td>$ 7,813</td>\n",
       "      <td>$ 8,916</td>\n",
       "    </tr>\n",
       "  </tbody>\n",
       "</table>\n",
       "</div>"
      ],
      "text/plain": [
       "PV [M USD]    Alt 1    Alt 2    Alt 3\n",
       "Demand                               \n",
       "-50%        $ 4,022  $ 2,356  $ 4,164\n",
       "base        $ 4,850  $ 4,147  $ 5,624\n",
       "+50%        $ 5,758  $ 6,062  $ 7,328\n",
       "+100%       $ 6,584  $ 7,813  $ 8,916"
      ]
     },
     "metadata": {},
     "output_type": "display_data"
    }
   ],
   "source": [
    "PVs = [['Onshore',  500000, PV_alt1_12500_500000],\n",
    "       ['Onshore', 1000000, PV_alt1_12500_1000000],\n",
    "       ['Onshore', 1500000, PV_alt1_12500_1500000],\n",
    "       ['Onshore', 2000000, PV_alt1_12500_2000000],\n",
    "       ['Barge',    500000, PV_alt2_40_12500_500000],\n",
    "       ['Barge',   1000000, PV_alt2_40_12500_1000000],\n",
    "       ['Barge',   1500000, PV_alt2_40_12500_1500000],\n",
    "       ['Barge',   2000000, PV_alt2_40_12500_2000000],\n",
    "       ['Bridge',   500000, PV_alt3_40_12500_500000],\n",
    "       ['Bridge',  1000000, PV_alt3_40_12500_1000000], \n",
    "       ['Bridge',  1500000, PV_alt3_40_12500_1500000], \n",
    "       ['Bridge',  2000000, PV_alt3_40_12500_2000000]]\n",
    "\n",
    "PV_df = pd.DataFrame(PVs, columns = ['Alternative', 'Demand', 'PV']) \n",
    "PV_df['Demand'] = PV_df['Demand'].astype(float)\n",
    "\n",
    "def demand_scenario_table(df_):\n",
    "    df = pd.DataFrame(index=[\"-50%\",\"base\",\"+50%\",\"+100%\"], columns=['Alt 1','Alt 2','Alt 3'])\n",
    "    df.index.name = \"Demand\"\n",
    "    df.columns.name = \"PV [M USD]\"\n",
    "    df['Alt 1'] = list(df_.PV[0:4]/10**6)\n",
    "    df['Alt 2'] = list(df_.PV[4:8]/10**6)\n",
    "    df['Alt 3'] = list(df_.PV[8:12]/10**6)\n",
    "    df['Alt 1'] = df['Alt 1'].map('$ {:,.0f}'.format)\n",
    "    df['Alt 2'] = df['Alt 2'].map('$ {:,.0f}'.format)\n",
    "    df['Alt 3'] = df['Alt 3'].map('$ {:,.0f}'.format)\n",
    "    \n",
    "    return df\n",
    "\n",
    "df_demand = demand_scenario_table(PV_df)\n",
    "display(df_demand)"
   ]
  },
  {
   "cell_type": "code",
   "execution_count": 5,
   "metadata": {},
   "outputs": [
    {
     "data": {
      "image/png": "[encoded data removed]",
      "text/plain": [
       "<Figure size 360x360 with 1 Axes>"
      ]
     },
     "metadata": {
      "needs_background": "light"
     },
     "output_type": "display_data"
    }
   ],
   "source": [
    "sns.factorplot(x=\"Demand\", y=\"PV\", hue=\"Alternative\", data=PV_df, \n",
    "               kind=\"bar\", edgecolor=\"white\", palette=pal_1, legend=False)\n",
    "sns.despine(right=True, top=True)\n",
    "\n",
    "plt.title('Sensitivity - fixed volumes over time', fontsize='large')\n",
    "\n",
    "plt.xlabel('Annual demand scenarios', fontsize='large')\n",
    "plt.ylabel('PV of the costs', fontsize='large')\n",
    "\n",
    "plt.xticks([0, 1, 2, 3], [\"-50%\",\"base\",\"+50%\",\"+100%\"], fontsize='large')\n",
    "plt.yticks(np.arange(0, 10*10**9, step = 2*10**9), [\"\",\"$ 2B\",\"$ 4B\",\"$ 6B\",\"$ 8B\"], fontsize='large')\n",
    "\n",
    "plt.legend(title='Alternatives  ', title_fontsize='large', fontsize='large', loc='upper left', \n",
    "           framealpha=0.9, frameon=False)\n",
    "\n",
    "plt.savefig(\"SaveFigures/bar_demand_1a.png\", bbox_inches = 'tight')"
   ]
  },
  {
   "cell_type": "code",
   "execution_count": 6,
   "metadata": {},
   "outputs": [],
   "source": [
    "PVs = [['Onshore',  500000, PV_alt1_12500_500000    / 500000/20],\n",
    "       ['Onshore', 1000000, PV_alt1_12500_1000000   /1000000/20],\n",
    "       ['Onshore', 1500000, PV_alt1_12500_1500000   /1500000/20],\n",
    "       ['Onshore', 2000000, PV_alt1_12500_2000000   /2000000/20],\n",
    "       ['Barge',    500000, PV_alt2_40_12500_500000 / 500000/20],\n",
    "       ['Barge',   1000000, PV_alt2_40_12500_1000000/1000000/20],\n",
    "       ['Barge',   1500000, PV_alt2_40_12500_1500000/1500000/20],\n",
    "       ['Barge',   2000000, PV_alt2_40_12500_2000000/2000000/20],\n",
    "       ['Bridge',   500000, PV_alt3_40_12500_500000 / 500000/20],\n",
    "       ['Bridge',  1000000, PV_alt3_40_12500_1000000/1000000/20], \n",
    "       ['Bridge',  1500000, PV_alt3_40_12500_1500000/1500000/20], \n",
    "       ['Bridge',  2000000, PV_alt3_40_12500_2000000/2000000/20]]\n",
    "\n",
    "# Create the pandas DataFrame \n",
    "PV_df = pd.DataFrame(PVs, columns = ['Alternative', 'Demand', 'PV per TEU']) \n",
    "PV_df['Demand'] = PV_df['Demand'].astype(float)"
   ]
  },
  {
   "cell_type": "code",
   "execution_count": 7,
   "metadata": {},
   "outputs": [
    {
     "data": {
      "image/png": "[encoded data removed]",
      "text/plain": [
       "<Figure size 360x360 with 1 Axes>"
      ]
     },
     "metadata": {
      "needs_background": "light"
     },
     "output_type": "display_data"
    }
   ],
   "source": [
    "sns.factorplot(x=\"Demand\", y=\"PV per TEU\", hue=\"Alternative\", data=PV_df, \n",
    "               kind=\"bar\", edgecolor=\"white\", palette=pal_1, legend=False)\n",
    "sns.despine(right=True, top=True)\n",
    "\n",
    "plt.title('Sensitivity - fixed volumes over time', fontsize='large')\n",
    "plt.xlabel('Annual demand scenarios', fontsize='large')\n",
    "plt.ylabel('PV of the costs per TEU', fontsize='large')\n",
    "\n",
    "plt.xticks([0, 1, 2, 3], [\"-50%\",\"base\",\"+50%\",\"+100%\"], fontsize='large')\n",
    "plt.yticks(np.arange(0, 500, step = 100), [\"\",\"$ 100\",\"$ 200\",\"$ 300\",\"$ 400\"], fontsize='large')\n",
    "\n",
    "plt.legend(title='Alternatives  ', title_fontsize='large', fontsize='large', loc='upper right', \n",
    "           framealpha=0.9, frameon=False)\n",
    "\n",
    "plt.savefig(\"SaveFigures/bar_demand_1b.png\", bbox_inches = 'tight')"
   ]
  },
  {
   "cell_type": "markdown",
   "metadata": {},
   "source": [
    "## Sensitivity: Growing demand"
   ]
  },
  {
   "cell_type": "code",
   "execution_count": 8,
   "metadata": {
    "hide_input": true
   },
   "outputs": [],
   "source": [
    "%store -r PV_alt1_12500_1000000_growth0\n",
    "%store -r PV_alt1_12500_1000000_growth1\n",
    "%store -r PV_alt1_12500_1000000_growth2\n",
    "%store -r PV_alt1_12500_1000000_growth3\n",
    "\n",
    "%store -r PV_alt2_40_12500_1000000_growth0\n",
    "%store -r PV_alt2_40_12500_1000000_growth1\n",
    "%store -r PV_alt2_40_12500_1000000_growth2\n",
    "%store -r PV_alt2_40_12500_1000000_growth3\n",
    "\n",
    "%store -r PV_alt3_40_12500_1000000_growth0\n",
    "%store -r PV_alt3_40_12500_1000000_growth1\n",
    "%store -r PV_alt3_40_12500_1000000_growth2\n",
    "%store -r PV_alt3_40_12500_1000000_growth3"
   ]
  },
  {
   "cell_type": "code",
   "execution_count": 9,
   "metadata": {},
   "outputs": [
    {
     "data": {
      "text/html": [
       "<div>\n",
       "<style scoped>\n",
       "    .dataframe tbody tr th:only-of-type {\n",
       "        vertical-align: middle;\n",
       "    }\n",
       "\n",
       "    .dataframe tbody tr th {\n",
       "        vertical-align: top;\n",
       "    }\n",
       "\n",
       "    .dataframe thead th {\n",
       "        text-align: right;\n",
       "    }\n",
       "</style>\n",
       "<table border=\"1\" class=\"dataframe\">\n",
       "  <thead>\n",
       "    <tr style=\"text-align: right;\">\n",
       "      <th>PV [M USD]</th>\n",
       "      <th>Alt 1</th>\n",
       "      <th>Alt 2</th>\n",
       "      <th>Alt 3</th>\n",
       "    </tr>\n",
       "    <tr>\n",
       "      <th>Scenario</th>\n",
       "      <th></th>\n",
       "      <th></th>\n",
       "      <th></th>\n",
       "    </tr>\n",
       "  </thead>\n",
       "  <tbody>\n",
       "    <tr>\n",
       "      <th>--</th>\n",
       "      <td>$ 4,850</td>\n",
       "      <td>$ 4,147</td>\n",
       "      <td>$ 5,624</td>\n",
       "    </tr>\n",
       "    <tr>\n",
       "      <th>low</th>\n",
       "      <td>$ 5,274</td>\n",
       "      <td>$ 5,142</td>\n",
       "      <td>$ 6,387</td>\n",
       "    </tr>\n",
       "    <tr>\n",
       "      <th>base</th>\n",
       "      <td>$ 5,675</td>\n",
       "      <td>$ 6,056</td>\n",
       "      <td>$ 7,151</td>\n",
       "    </tr>\n",
       "    <tr>\n",
       "      <th>high</th>\n",
       "      <td>$ 6,059</td>\n",
       "      <td>$ 6,935</td>\n",
       "      <td>$ 7,913</td>\n",
       "    </tr>\n",
       "  </tbody>\n",
       "</table>\n",
       "</div>"
      ],
      "text/plain": [
       "PV [M USD]    Alt 1    Alt 2    Alt 3\n",
       "Scenario                             \n",
       "--          $ 4,850  $ 4,147  $ 5,624\n",
       "low         $ 5,274  $ 5,142  $ 6,387\n",
       "base        $ 5,675  $ 6,056  $ 7,151\n",
       "high        $ 6,059  $ 6,935  $ 7,913"
      ]
     },
     "metadata": {},
     "output_type": "display_data"
    }
   ],
   "source": [
    "PVs = [['Onshore', 1000000, PV_alt1_12500_1000000_growth0], \n",
    "       ['Onshore', 1500000, PV_alt1_12500_1000000_growth1], \n",
    "       ['Onshore', 2000000, PV_alt1_12500_1000000_growth2],\n",
    "       ['Onshore', 2500000, PV_alt1_12500_1000000_growth3],\n",
    "       ['Barge',   1000000, PV_alt2_40_12500_1000000_growth0], \n",
    "       ['Barge',   1500000, PV_alt2_40_12500_1000000_growth1], \n",
    "       ['Barge',   2000000, PV_alt2_40_12500_1000000_growth2],\n",
    "       ['Barge',   2500000, PV_alt2_40_12500_1000000_growth3],\n",
    "       ['Bridge',  1000000, PV_alt3_40_12500_1000000_growth0], \n",
    "       ['Bridge',  1500000, PV_alt3_40_12500_1000000_growth1], \n",
    "       ['Bridge',  2000000, PV_alt3_40_12500_1000000_growth2],\n",
    "       ['Bridge',  2500000, PV_alt3_40_12500_1000000_growth3]]\n",
    "\n",
    "# Create the pandas DataFrame \n",
    "PV_df = pd.DataFrame(PVs, columns = ['Alternative','Demand', 'PV']) \n",
    "PV_df['Demand'] = PV_df['Demand'].astype(float)\n",
    "\n",
    "def growth_scenario_table(df_):\n",
    "    df = pd.DataFrame(index=['--', 'low', 'base', 'high'], columns=['Alt 1','Alt 2','Alt 3'])\n",
    "    df.index.name = \"Scenario\"\n",
    "    df.columns.name = \"PV [M USD]\"\n",
    "    df['Alt 1'] = list(df_.PV[0:4]/10**6)\n",
    "    df['Alt 2'] = list(df_.PV[4:8]/10**6)\n",
    "    df['Alt 3'] = list(df_.PV[8:12]/10**6)\n",
    "    df['Alt 1'] = df['Alt 1'].map('$ {:,.0f}'.format)\n",
    "    df['Alt 2'] = df['Alt 2'].map('$ {:,.0f}'.format)\n",
    "    df['Alt 3'] = df['Alt 3'].map('$ {:,.0f}'.format)\n",
    "    return df\n",
    "\n",
    "df_growth_demand = growth_scenario_table(PV_df)\n",
    "display(df_growth_demand)"
   ]
  },
  {
   "cell_type": "code",
   "execution_count": 10,
   "metadata": {},
   "outputs": [
    {
     "data": {
      "image/png": "[encoded data removed]",
      "text/plain": [
       "<Figure size 360x360 with 1 Axes>"
      ]
     },
     "metadata": {
      "needs_background": "light"
     },
     "output_type": "display_data"
    }
   ],
   "source": [
    "sns.factorplot(x=\"Demand\", y=\"PV\", hue=\"Alternative\", data=PV_df, \n",
    "               kind=\"bar\", edgecolor=\"white\", palette=pal_1, legend=False)\n",
    "sns.despine(right=True, top=True)\n",
    "\n",
    "plt.title('Sensitivity - growth in demand over time', fontsize='large')\n",
    "plt.xlabel('Growth over time scenarios (annual rate)', fontsize='large')\n",
    "plt.ylabel('PV of the costs', fontsize='large')\n",
    "\n",
    "plt.xticks([0, 1, 2, 3], [\"no growth\", \"low (3.3%)\", \"base (6.7%)\", \"high (10.0%)\"], size='large')\n",
    "plt.yticks(np.arange(0, 10*10**9, step = 2*10**9), [\"\",\"$ 2B\",\"$ 4B\",\"$ 6B\",\"$ 8B\"], fontsize='large')\n",
    "\n",
    "plt.ylim(0,9*10**9)\n",
    "plt.legend(title='Alternatives  ', title_fontsize='large', fontsize='large', loc='upper left', \n",
    "           framealpha=0.9, frameon=False)\n",
    "\n",
    "plt.savefig(\"SaveFigures/bar_demand_2a.png\", bbox_inches = 'tight')"
   ]
  },
  {
   "cell_type": "code",
   "execution_count": 11,
   "metadata": {},
   "outputs": [],
   "source": [
    "PVs = [['Onshore',                 1000000, PV_alt1_12500_1000000_growth0    / 1000000 / 20], \n",
    "       ['Onshore',                 1500000, PV_alt1_12500_1000000_growth1    / 1500000 / 20], \n",
    "       ['Onshore',                 2000000, PV_alt1_12500_1000000_growth2    / 2000000 / 20],\n",
    "       ['Onshore',                 2500000, PV_alt1_12500_1000000_growth3    / 2500000 / 20],\n",
    "       ['Barge',  1000000, PV_alt2_40_12500_1000000_growth0 / 1000000 / 20], \n",
    "       ['Barge',  1500000, PV_alt2_40_12500_1000000_growth1 / 1500000 / 20], \n",
    "       ['Barge',  2000000, PV_alt2_40_12500_1000000_growth2 / 2000000 / 20],\n",
    "       ['Barge',  2500000, PV_alt2_40_12500_1000000_growth3 / 2500000 / 20],\n",
    "       ['Bridge', 1000000, PV_alt3_40_12500_1000000_growth0 / 1000000 / 20], \n",
    "       ['Bridge', 1500000, PV_alt3_40_12500_1000000_growth1 / 1500000 / 20], \n",
    "       ['Bridge', 2000000, PV_alt3_40_12500_1000000_growth2 / 2000000 / 20],\n",
    "       ['Bridge', 2500000, PV_alt3_40_12500_1000000_growth3 / 2500000 / 20]]\n",
    "\n",
    "# Create the pandas DataFrame \n",
    "PV_df = pd.DataFrame(PVs, columns = ['Alternative','Demand', 'PV per TEU']) \n",
    "PV_df['Demand'] = PV_df['Demand'].astype(float)"
   ]
  },
  {
   "cell_type": "code",
   "execution_count": 12,
   "metadata": {},
   "outputs": [
    {
     "data": {
      "image/png": "[encoded data removed]",
      "text/plain": [
       "<Figure size 360x360 with 1 Axes>"
      ]
     },
     "metadata": {
      "needs_background": "light"
     },
     "output_type": "display_data"
    }
   ],
   "source": [
    "sns.factorplot(x=\"Demand\", y=\"PV per TEU\", hue=\"Alternative\", data=PV_df, \n",
    "               kind=\"bar\", edgecolor=\"white\", palette=pal_1, legend=False)\n",
    "sns.despine(right=True, top=True)\n",
    "\n",
    "plt.title('Sensitivity - growth in demand over time', fontsize='large')\n",
    "plt.xlabel('Growth over time scenarios (annual rate)', fontsize='large')\n",
    "plt.ylabel('PV of the costs per TEU', fontsize='large')\n",
    "\n",
    "plt.xticks([0, 1, 2, 3], [\"no growth\", \"low (3.3%)\", \"base (6.7%)\", \"high (10.0%)\"], size='large')\n",
    "plt.yticks(np.arange(0, 500, step = 100), [\"\",\"$ 100\",\"$ 200\",\"$ 300\",\"$ 400\"], fontsize='large')\n",
    "\n",
    "plt.legend(title='Alternatives  ', title_fontsize='large', fontsize='large', loc='upper right', \n",
    "           framealpha=0.9, frameon=False)\n",
    "\n",
    "# save fig\n",
    "plt.savefig(\"SaveFigures/bar_demand_2b.png\", bbox_inches = 'tight')"
   ]
  },
  {
   "cell_type": "markdown",
   "metadata": {},
   "source": [
    "## Sensitivity: Bathymetry"
   ]
  },
  {
   "cell_type": "code",
   "execution_count": 13,
   "metadata": {
    "hide_input": true
   },
   "outputs": [],
   "source": [
    "%store -r PV_alt1_12500_1000000_slope1\n",
    "%store -r PV_alt1_12500_1000000_slope2\n",
    "%store -r PV_alt1_12500_1000000_slope3\n",
    "\n",
    "%store -r PV_alt2_40_12500_1000000_slope1\n",
    "%store -r PV_alt2_40_12500_1000000_slope2\n",
    "%store -r PV_alt2_40_12500_1000000_slope3\n",
    "\n",
    "%store -r PV_alt3_40_12500_1000000_slope1\n",
    "%store -r PV_alt3_40_12500_1000000_slope2\n",
    "%store -r PV_alt3_40_12500_1000000_slope3"
   ]
  },
  {
   "cell_type": "code",
   "execution_count": 14,
   "metadata": {},
   "outputs": [],
   "source": [
    "PVs = [['Onshore', 1.0, PV_alt1_12500_1000000_slope1],\n",
    "       ['Onshore', 2.0, PV_alt1_12500_1000000_slope2],\n",
    "       ['Onshore', 3.0, PV_alt1_12500_1000000_slope3],\n",
    "       ['Barge',   1.0, PV_alt2_40_12500_1000000_slope1],\n",
    "       ['Barge',   2.0, PV_alt2_40_12500_1000000_slope2],\n",
    "       ['Barge',   3.0, PV_alt2_40_12500_1000000_slope3],\n",
    "       ['Bridge',  1.0, PV_alt3_40_12500_1000000_slope1],\n",
    "       ['Bridge',  2.0, PV_alt3_40_12500_1000000_slope2],\n",
    "       ['Bridge',  3.0, PV_alt3_40_12500_1000000_slope3]]\n",
    "\n",
    "PV_df = pd.DataFrame(PVs, columns = ['Alternative', 'Slope', 'PV']) "
   ]
  },
  {
   "cell_type": "code",
   "execution_count": 15,
   "metadata": {},
   "outputs": [
    {
     "data": {
      "text/html": [
       "<div>\n",
       "<style scoped>\n",
       "    .dataframe tbody tr th:only-of-type {\n",
       "        vertical-align: middle;\n",
       "    }\n",
       "\n",
       "    .dataframe tbody tr th {\n",
       "        vertical-align: top;\n",
       "    }\n",
       "\n",
       "    .dataframe thead th {\n",
       "        text-align: right;\n",
       "    }\n",
       "</style>\n",
       "<table border=\"1\" class=\"dataframe\">\n",
       "  <thead>\n",
       "    <tr style=\"text-align: right;\">\n",
       "      <th>PV [M USD]</th>\n",
       "      <th>Alt 1</th>\n",
       "      <th>Alt 2</th>\n",
       "      <th>Alt 3</th>\n",
       "    </tr>\n",
       "    <tr>\n",
       "      <th>Scenario</th>\n",
       "      <th></th>\n",
       "      <th></th>\n",
       "      <th></th>\n",
       "    </tr>\n",
       "  </thead>\n",
       "  <tbody>\n",
       "    <tr>\n",
       "      <th>gentle</th>\n",
       "      <td>$ 6,266</td>\n",
       "      <td>$ 4,361</td>\n",
       "      <td>$ 5,947</td>\n",
       "    </tr>\n",
       "    <tr>\n",
       "      <th>average</th>\n",
       "      <td>$ 4,850</td>\n",
       "      <td>$ 4,147</td>\n",
       "      <td>$ 5,624</td>\n",
       "    </tr>\n",
       "    <tr>\n",
       "      <th>steep</th>\n",
       "      <td>$ 3,435</td>\n",
       "      <td>$ 4,611</td>\n",
       "      <td>$ 5,869</td>\n",
       "    </tr>\n",
       "  </tbody>\n",
       "</table>\n",
       "</div>"
      ],
      "text/plain": [
       "PV [M USD]    Alt 1    Alt 2    Alt 3\n",
       "Scenario                             \n",
       "gentle      $ 6,266  $ 4,361  $ 5,947\n",
       "average     $ 4,850  $ 4,147  $ 5,624\n",
       "steep       $ 3,435  $ 4,611  $ 5,869"
      ]
     },
     "metadata": {},
     "output_type": "display_data"
    }
   ],
   "source": [
    "def slope_scenario_table(df_):\n",
    "    df = pd.DataFrame(index=['gentle', 'average', 'steep'], columns=['Alt 1','Alt 2','Alt 3'])\n",
    "    df.index.name = \"Scenario\"\n",
    "    df.columns.name = \"PV [M USD]\"\n",
    "    df['Alt 1'] = list(df_.PV[0:3]/10**6)\n",
    "    df['Alt 2'] = list(df_.PV[3:6]/10**6)\n",
    "    df['Alt 3'] = list(df_.PV[6:9]/10**6)\n",
    "    df['Alt 1'] = df['Alt 1'].map('$ {:,.0f}'.format)\n",
    "    df['Alt 2'] = df['Alt 2'].map('$ {:,.0f}'.format)\n",
    "    df['Alt 3'] = df['Alt 3'].map('$ {:,.0f}'.format)\n",
    "    return df\n",
    "\n",
    "df_slope = slope_scenario_table(PV_df)\n",
    "display(df_slope)"
   ]
  },
  {
   "cell_type": "code",
   "execution_count": 16,
   "metadata": {},
   "outputs": [
    {
     "data": {
      "image/png": "[encoded data removed]",
      "text/plain": [
       "<Figure size 360x360 with 1 Axes>"
      ]
     },
     "metadata": {
      "needs_background": "light"
     },
     "output_type": "display_data"
    }
   ],
   "source": [
    "sns.factorplot(x=\"Slope\", y=\"PV\", hue=\"Alternative\", data=PV_df, \n",
    "               kind=\"bar\", edgecolor=\"white\", palette=pal_1, legend=False)\n",
    "sns.despine(right=True, top=True)\n",
    "\n",
    "plt.title('Sensitivitiy - slope of the foreshore', fontsize='large')\n",
    "plt.xlabel('Slope of foreshore', fontsize='large')\n",
    "plt.ylabel('PV of the costs', fontsize='large')\n",
    "\n",
    "plt.yticks(np.arange(0, 10*10**9, step = 2*10**9), [\"\",\"$ 2B\",\"$ 4B\",\"$ 6B\",\"$ 8B\"], fontsize='large')\n",
    "plt.xticks([0, 1, 2], [\"Gentle (3.0 km/m)\",\"Average (2.0 km/m)\",\"Steep (1.0 km/m)\"])\n",
    "\n",
    "plt.ylim(0,8.25*10**9)\n",
    "\n",
    "plt.legend(title='Alternatives  ', title_fontsize='large', fontsize='large', loc='upper right', \n",
    "           framealpha=0.9, frameon=False)\n",
    "\n",
    "# save fig\n",
    "plt.savefig(\"SaveFigures/bar_bathymetry_1.png\", bbox_inches = 'tight')"
   ]
  },
  {
   "cell_type": "code",
   "execution_count": 17,
   "metadata": {
    "hide_input": true
   },
   "outputs": [],
   "source": [
    "%store -r PV_alt1_12500_1000000_bathymetry50\n",
    "%store -r PV_alt1_12500_1000000_bathymetry70\n",
    "%store -r PV_alt1_12500_1000000_bathymetry90\n",
    "\n",
    "%store -r PV_alt2_12500_1000000_bathymetry50\n",
    "%store -r PV_alt2_12500_1000000_bathymetry70\n",
    "%store -r PV_alt2_12500_1000000_bathymetry90\n",
    "\n",
    "%store -r PV_alt3_12500_1000000_bathymetry50\n",
    "%store -r PV_alt3_12500_1000000_bathymetry70\n",
    "%store -r PV_alt3_12500_1000000_bathymetry90"
   ]
  },
  {
   "cell_type": "code",
   "execution_count": 18,
   "metadata": {},
   "outputs": [],
   "source": [
    "PVs = [['Onshore', 1.0, PV_alt1_12500_1000000_bathymetry50],\n",
    "       ['Onshore', 2.0, PV_alt1_12500_1000000_bathymetry70],\n",
    "       ['Onshore', 3.0, PV_alt1_12500_1000000_bathymetry90],\n",
    "       ['Barge',   1.0, PV_alt2_12500_1000000_bathymetry50],\n",
    "       ['Barge',   2.0, PV_alt2_12500_1000000_bathymetry70],\n",
    "       ['Barge',   3.0, PV_alt2_12500_1000000_bathymetry90],\n",
    "       ['Bridge',  1.0, PV_alt3_12500_1000000_bathymetry50],\n",
    "       ['Bridge',  2.0, PV_alt3_12500_1000000_bathymetry70],\n",
    "       ['Bridge',  3.0, PV_alt3_12500_1000000_bathymetry90]]\n",
    "\n",
    "# Create the pandas DataFrame \n",
    "PV_df = pd.DataFrame(PVs, columns = ['Alternative', 'Bathymetry', 'PV']) "
   ]
  },
  {
   "cell_type": "code",
   "execution_count": 19,
   "metadata": {},
   "outputs": [
    {
     "data": {
      "text/html": [
       "<div>\n",
       "<style scoped>\n",
       "    .dataframe tbody tr th:only-of-type {\n",
       "        vertical-align: middle;\n",
       "    }\n",
       "\n",
       "    .dataframe tbody tr th {\n",
       "        vertical-align: top;\n",
       "    }\n",
       "\n",
       "    .dataframe thead th {\n",
       "        text-align: right;\n",
       "    }\n",
       "</style>\n",
       "<table border=\"1\" class=\"dataframe\">\n",
       "  <thead>\n",
       "    <tr style=\"text-align: right;\">\n",
       "      <th>PV [M USD]</th>\n",
       "      <th>Alt 1</th>\n",
       "      <th>Alt 2</th>\n",
       "      <th>Alt 3</th>\n",
       "    </tr>\n",
       "    <tr>\n",
       "      <th>Scenario</th>\n",
       "      <th></th>\n",
       "      <th></th>\n",
       "      <th></th>\n",
       "    </tr>\n",
       "  </thead>\n",
       "  <tbody>\n",
       "    <tr>\n",
       "      <th>0.50</th>\n",
       "      <td>$ 4,850</td>\n",
       "      <td>$ 4,147</td>\n",
       "      <td>$ 5,624</td>\n",
       "    </tr>\n",
       "    <tr>\n",
       "      <th>0.70</th>\n",
       "      <td>$ 5,983</td>\n",
       "      <td>$ 4,169</td>\n",
       "      <td>$ 5,624</td>\n",
       "    </tr>\n",
       "    <tr>\n",
       "      <th>0.90</th>\n",
       "      <td>$ 7,115</td>\n",
       "      <td>$ 4,191</td>\n",
       "      <td>$ 5,624</td>\n",
       "    </tr>\n",
       "  </tbody>\n",
       "</table>\n",
       "</div>"
      ],
      "text/plain": [
       "PV [M USD]    Alt 1    Alt 2    Alt 3\n",
       "Scenario                             \n",
       "0.50        $ 4,850  $ 4,147  $ 5,624\n",
       "0.70        $ 5,983  $ 4,169  $ 5,624\n",
       "0.90        $ 7,115  $ 4,191  $ 5,624"
      ]
     },
     "metadata": {},
     "output_type": "display_data"
    }
   ],
   "source": [
    "def shape_scenario_table(df_):\n",
    "    df = pd.DataFrame(index=['0.50', '0.70', '0.90'], columns=['Alt 1','Alt 2','Alt 3'])\n",
    "    df.index.name = \"Scenario\"\n",
    "    df.columns.name = \"PV [M USD]\"\n",
    "    df['Alt 1'] = list(df_.PV[0:3]/10**6)\n",
    "    df['Alt 2'] = list(df_.PV[3:6]/10**6)\n",
    "    df['Alt 3'] = list(df_.PV[6:9]/10**6)\n",
    "    df['Alt 1'] = df['Alt 1'].map('$ {:,.0f}'.format)\n",
    "    df['Alt 2'] = df['Alt 2'].map('$ {:,.0f}'.format)\n",
    "    df['Alt 3'] = df['Alt 3'].map('$ {:,.0f}'.format)\n",
    "    return df\n",
    "\n",
    "df_shape = shape_scenario_table(PV_df)\n",
    "display(df_shape)"
   ]
  },
  {
   "cell_type": "code",
   "execution_count": 20,
   "metadata": {},
   "outputs": [
    {
     "data": {
      "image/png": "[encoded data removed]",
      "text/plain": [
       "<Figure size 360x360 with 1 Axes>"
      ]
     },
     "metadata": {
      "needs_background": "light"
     },
     "output_type": "display_data"
    }
   ],
   "source": [
    "sns.factorplot(x=\"Bathymetry\", y=\"PV\", hue=\"Alternative\", data=PV_df, \n",
    "               kind=\"bar\", edgecolor=\"white\", palette=pal_1, legend=False)\n",
    "sns.despine(right=True, top=True)\n",
    "\n",
    "\n",
    "plt.title('Sensitivity plot - shape of the foreshore', fontsize='large')\n",
    "plt.xlabel('Shape of the foreshore (bathymetry factor)', fontsize='large')\n",
    "plt.ylabel('PV of the costs', fontsize='large')\n",
    "\n",
    "plt.yticks(np.arange(0, 10*10**9, step = 2*10**9), [\"\",\"$ 2B\",\"$ 4B\",\"$ 6B\",\"$ 8B\"], fontsize='large')\n",
    "plt.xticks([0, 1, 2], [\"0.50\",\"0.70\",\"0.90\"])\n",
    "\n",
    "plt.ylim(0,8.5*10**9)\n",
    "plt.legend(title='Alternatives  ', title_fontsize='large', fontsize='large', loc='upper left', \n",
    "           framealpha=0.9, frameon=False)\n",
    "\n",
    "# save fig\n",
    "plt.savefig(\"SaveFigures/bar_bathymetry_2.png\", bbox_inches = 'tight')"
   ]
  },
  {
   "cell_type": "code",
   "execution_count": null,
   "metadata": {},
   "outputs": [],
   "source": []
  },
  {
   "cell_type": "code",
   "execution_count": null,
   "metadata": {},
   "outputs": [],
   "source": []
  }
 ],
 "metadata": {
  "hide_input": false,
  "kernelspec": {
   "display_name": "Python 3",
   "language": "python",
   "name": "python3"
  },
  "language_info": {
   "codemirror_mode": {
    "name": "ipython",
    "version": 3
   },
   "file_extension": ".py",
   "mimetype": "text/x-python",
   "name": "python",
   "nbconvert_exporter": "python",
   "pygments_lexer": "ipython3",
   "version": "3.7.3"
  },
  "varInspector": {
   "cols": {
    "lenName": 16,
    "lenType": 16,
    "lenVar": 40
   },
   "kernels_config": {
    "python": {
     "delete_cmd_postfix": "",
     "delete_cmd_prefix": "del ",
     "library": "var_list.py",
     "varRefreshCmd": "print(var_dic_list())"
    },
    "r": {
     "delete_cmd_postfix": ") ",
     "delete_cmd_prefix": "rm(",
     "library": "var_list.r",
     "varRefreshCmd": "cat(var_dic_list()) "
    }
   },
   "oldHeight": 394.79999999999995,
   "position": {
    "height": "416.4px",
    "left": "1080px",
    "right": "20px",
    "top": "122px",
    "width": "350px"
   },
   "types_to_exclude": [
    "module",
    "function",
    "builtin_function_or_method",
    "instance",
    "_Feature"
   ],
   "varInspector_section_display": "block",
   "window_display": false
  }
 },
 "nbformat": 4,
 "nbformat_minor": 2
}
