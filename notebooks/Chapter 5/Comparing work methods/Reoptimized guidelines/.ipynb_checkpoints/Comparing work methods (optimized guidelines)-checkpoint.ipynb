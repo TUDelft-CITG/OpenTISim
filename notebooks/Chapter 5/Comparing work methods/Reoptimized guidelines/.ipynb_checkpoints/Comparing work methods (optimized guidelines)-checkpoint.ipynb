{
 "cells": [
  {
   "cell_type": "markdown",
   "metadata": {},
   "source": [
    "# Comparing work methods\n",
    "### 1 Traffic generator\n",
    "### 2 Terminal design\n",
    "### 3 Simulation parameters\n",
    "### 4 Estimating project value \n",
    "### 5 Simulating project value \n",
    "### 6 Evaluating accuracy"
   ]
  },
  {
   "cell_type": "code",
   "execution_count": 1,
   "metadata": {},
   "outputs": [],
   "source": [
    "import copy\n",
    "import plotly\n",
    "import numpy as np\n",
    "import pandas as pd\n",
    "\n",
    "import plotly.tools as tls \n",
    "import plotly.plotly as py  \n",
    "import plotly.graph_objs as go\n",
    "from plotly.graph_objs import *\n",
    "import matplotlib.pyplot as plt\n",
    "import plotly.figure_factory as ff\n",
    "%matplotlib inline\n",
    "\n",
    "import terminal_optimization.visualisation               as visualisation\n",
    "import terminal_optimization.forecast                    as forecast\n",
    "import terminal_optimization.investment_decisions        as invest\n",
    "import terminal_optimization.infrastructure              as infra\n",
    "import terminal_optimization.financial_analysis          as financial\n",
    "import terminal_optimization.initial_terminal            as initial\n",
    "import terminal_optimization.investment_decisions_future as future_invest\n",
    "\n",
    "# Log in to Plotly servers\n",
    "#plotly.tools.set_credentials_file(username='jorisneuman', api_key='zButeTrlr5xVETcyvazd')\n",
    "#plotly.tools.set_credentials_file(username='wijzermans', api_key='FKGDvSah3z5WCNREBZEq')\n",
    "plotly.tools.set_credentials_file(username='wijnandijzermans', api_key='xeDEwwpCK3aLLR4TIrM9')\n",
    "#plotly.tools.set_credentials_file(username='evaijzermans', api_key='Aidg8GbABtpEm80ek2Zz')"
   ]
  },
  {
   "cell_type": "markdown",
   "metadata": {},
   "source": [
    "## 1 Traffic Generator"
   ]
  },
  {
   "cell_type": "code",
   "execution_count": 2,
   "metadata": {},
   "outputs": [],
   "source": [
    "def traffic_generator(nr_generations, start_year, simulation_window):\n",
    "    \n",
    "    ###################################################################################################\n",
    "    # Traffic projections on which estimate is based\n",
    "    ###################################################################################################\n",
    "\n",
    "    # Import commodities from package\n",
    "    maize   = forecast.bulk_commodities(**forecast.maize_data)\n",
    "    soybean = forecast.bulk_commodities(**forecast.maize_data)\n",
    "    wheat   = forecast.bulk_commodities(**forecast.wheat_data)\n",
    "\n",
    "    # Maize - demand\n",
    "    maize.historic = [1100000,1200000,1250000,1320000,1400000]\n",
    "    maize.rate     = 1.0586 \n",
    "    maize.sigma    = 0.0374\n",
    "\n",
    "    # If defined number of traffic generations is even, one iteration is added in order to be able to identify the median\n",
    "    if nr_generations % 2 == 0:\n",
    "        nr_generations = nr_generations + 1 \n",
    "\n",
    "    # Create traffic projections\n",
    "    traffic_projections = []\n",
    "    for iterations in range(nr_generations):\n",
    "        maize.random_scenario(start_year, simulation_window, maize.historic, maize.rate, maize.sigma)\n",
    "        traffic_projections.append(maize.demand)\n",
    "    \n",
    "    # Calculate the median traffic projection (i.e. traffic scenario)\n",
    "    traffic_scenario = []\n",
    "    \n",
    "    for i in range (len(maize.historic)):\n",
    "        traffic_scenario.append(\n",
    "            maize.historic[i])\n",
    "        \n",
    "    for year in range (len(maize.historic), len(maize.historic) + simulation_window):\n",
    "        throughputs = []\n",
    "        for i in range (len(traffic_projections)):\n",
    "            throughputs.append(\n",
    "                traffic_projections[i][year])\n",
    "        traffic_scenario.append(\n",
    "            np.median(throughputs))\n",
    "        \n",
    "    # Define commodity demand     \n",
    "    maize.demand   = traffic_scenario \n",
    "    soybean.demand = [0]*len(maize.demand)\n",
    "    wheat.demand   = [0]*len(maize.demand)\n",
    "    commodities    = [maize, soybean, wheat]\n",
    "    \n",
    "    # Import vessels from package\n",
    "    handysize = forecast.vessel(**forecast.handysize_data)\n",
    "    handymax  = forecast.vessel(**forecast.handymax_data)\n",
    "    panamax   = forecast.vessel(**forecast.panamax_data)\n",
    "    vessels = [handysize, handymax, panamax]\n",
    "    \n",
    "    # Calculate yearly calls\n",
    "    vessels = forecast.vessel_call_calc(vessels, commodities, simulation_window)\n",
    "\n",
    "    # Plot forecast\n",
    "    fig = visualisation.scenario(traffic_projections, commodities)\n",
    "    \n",
    "    return vessels, commodities, fig, traffic_projections, traffic_scenario"
   ]
  },
  {
   "cell_type": "markdown",
   "metadata": {},
   "source": [
    "## 2 Terminal Design\n",
    "- Perfect foresight method\n",
    "- Current performance method \n",
    "- Forecast method"
   ]
  },
  {
   "cell_type": "code",
   "execution_count": 3,
   "metadata": {},
   "outputs": [],
   "source": [
    "def design(chosen_method, terminal, vessels, commodities, start_year, simulation_window):\n",
    "    \n",
    "    for i in range (start_year, start_year + simulation_window): \n",
    "        \n",
    "        year = i \n",
    "        timestep = year - start_year\n",
    "\n",
    "        ##################################################################\n",
    "        # Investment Decisions (current performance method)\n",
    "        ##################################################################     \n",
    "        \n",
    "        if chosen_method == 'Current performance method':\n",
    "            \n",
    "            # Berths and cranes\n",
    "            terminal.berths, terminal.cranes = invest.berth_invest_decision(terminal.berths, terminal.cranes, commodities, vessels, terminal.allowable_vessel_waiting_time, year, timestep, operational_hours)\n",
    "\n",
    "            # Quay\n",
    "            terminal.quays = invest.quay_invest_decision(terminal.quays, terminal.berths, vessels, year, timestep)\n",
    "\n",
    "            # Storage\n",
    "            storage_type = 'Silos'\n",
    "            terminal.storage = invest.storage_invest_decision(terminal.storage, terminal.dwell_time, vessels, storage_type, commodities, year, timestep, operational_hours)\n",
    "\n",
    "            # Loading stations\n",
    "            terminal.stations, terminal.trains = invest.station_invest_decision(terminal.stations, forecast.train(**forecast.train_data), terminal.allowable_train_waiting_time, commodities, timestep, year, operational_hours)\n",
    "\n",
    "            # Conveyors\n",
    "            terminal.quay_conveyors = invest.quay_conveyor_invest_decision(terminal.quay_conveyors, terminal.berths, terminal.cranes, commodities, year, timestep, operational_hours)\n",
    "            terminal.hinterland_conveyors = invest.hinterland_conveyor_invest_decision(terminal.hinterland_conveyors, terminal.stations, commodities,  year, timestep, operational_hours)\n",
    "\n",
    "        ##################################################################\n",
    "        # Investment Decisions (Perfect foresight and forecast method)\n",
    "        ################################################################## \n",
    "        \n",
    "        if chosen_method == 'Perfect foresight method' or chosen_method == 'Forecast based method':\n",
    "            \n",
    "            # Create forecast and accompanying vessel calcs\n",
    "            commodities = forecast.forecaster(chosen_method, 'Linear', commodities, forecast_window, hindcast_window, timestep)\n",
    "            vessels = forecast.forecast_call_calc(vessels, commodities, simulation_window)\n",
    "            \n",
    "            # Berths and cranes\n",
    "            terminal.berths, terminal.cranes = future_invest.berth_invest_decision(terminal.berths, terminal.cranes, commodities, vessels, terminal.allowable_vessel_waiting_time, year, timestep, operational_hours)\n",
    "\n",
    "            # Quay\n",
    "            terminal.quays = future_invest.quay_invest_decision(terminal.quays, terminal.berths, vessels, year, timestep)\n",
    "\n",
    "            # Storage\n",
    "            storage_type = 'Silos'\n",
    "            terminal.storage = future_invest.storage_invest_decision(terminal.storage, terminal.dwell_time, vessels, storage_type, commodities, year, timestep, operational_hours)\n",
    "\n",
    "            # Loading stations\n",
    "            terminal.stations, terminal.trains = future_invest.station_invest_decision(terminal.stations, forecast.train(**forecast.train_data), terminal.allowable_train_waiting_time, commodities, timestep, year, operational_hours)\n",
    "\n",
    "            # Conveyors\n",
    "            terminal.quay_conveyors = future_invest.quay_conveyor_invest_decision(terminal.quay_conveyors, terminal.berths, terminal.cranes, commodities, year, timestep, operational_hours)\n",
    "            terminal.hinterland_conveyors = future_invest.hinterland_conveyor_invest_decision(terminal.hinterland_conveyors, terminal.stations, commodities, year, timestep, operational_hours)      \n",
    "        \n",
    "        ##################################################################\n",
    "        # Business logic\n",
    "        ################################################################## \n",
    "        \n",
    "        # Terminal throughput\n",
    "        terminal = financial.throughput_calc(terminal, commodities, vessels, terminal.trains, operational_hours, timestep, year)\n",
    "        # Revenue\n",
    "        terminal.revenues = financial.revenue_calc(terminal.revenues, terminal.throughputs, commodities, year, timestep)       \n",
    "        # Capex\n",
    "        terminal.capex = financial.capex_calc(terminal, year, timestep)\n",
    "        # Labour costs\n",
    "        terminal.labour = financial.labour_calc(terminal, year, timestep, operational_hours)\n",
    "        # Maintenance costs\n",
    "        terminal.maintenance = financial.maintenance_calc(terminal, year, timestep)\n",
    "        # Energy costs\n",
    "        terminal.energy = financial.energy_calc(terminal, year, operational_hours, timestep)\n",
    "        # Insurance costs\n",
    "        terminal.insurance = financial.insurance_calc(terminal, year, timestep)\n",
    "        # Lease costs \n",
    "        terminal.lease = financial.lease_calc(terminal, year,timestep)\n",
    "        # Demurrage costs\n",
    "        terminal.demurrage = financial.demurrage_calc(terminal.demurrage, terminal.berths, terminal.cranes, commodities, vessels, operational_hours, timestep, year)\n",
    "        # Residual value calculations \n",
    "        terminal.residuals = financial.residual_calc(terminal, year, timestep)\n",
    "        # Profits\n",
    "        terminal.profits = financial.profit_calc(terminal, simulation_window, timestep, year, start_year)\n",
    "        # Opex\n",
    "        terminal.opex = financial.opex_calc(terminal, year, timestep)  \n",
    "        \n",
    "    #WACC depreciated profits\n",
    "    terminal.WACC_cashflows = financial.WACC_calc(terminal.project_WACC, terminal.profits, terminal.revenues, terminal.capex, terminal.opex, simulation_window, start_year)\n",
    "    \n",
    "    # Combine all cashflows\n",
    "    terminal.cashflows = financial.cashflow_calc(terminal, simulation_window, start_year) \n",
    "    \n",
    "    #NPV \n",
    "    terminal.NPV = financial.NPV_calc(terminal.WACC_cashflows)\n",
    "        \n",
    "    return terminal"
   ]
  },
  {
   "cell_type": "markdown",
   "metadata": {},
   "source": [
    "# 3 Simulation parameters"
   ]
  },
  {
   "cell_type": "code",
   "execution_count": 4,
   "metadata": {},
   "outputs": [
    {
     "data": {
      "text/html": [
       "<iframe id=\"igraph\" scrolling=\"no\" style=\"border:none;\" seamless=\"seamless\" src=\"https://plot.ly/~wijnandijzermans/176.embed\" height=\"525px\" width=\"100%\"></iframe>"
      ],
      "text/plain": [
       "<plotly.tools.PlotlyDisplay object>"
      ]
     },
     "execution_count": 4,
     "metadata": {},
     "output_type": "execute_result"
    }
   ],
   "source": [
    "# Simulation parameters\n",
    "start_year        = 2018   # start year of simulation\n",
    "simulation_window = 20     # forecast 20 years\n",
    "end_year          = start_year + simulation_window - 1\n",
    "operational_hours = 5840   # operational hours per year (16 hours per day 365 days a year)\n",
    "project_WACC      = 0.095 # Applied project weighted average cost of capital\n",
    "nr_generations    = 301   # Number of traffic projections generated\n",
    "\n",
    "# In case of future based methods:\n",
    "hindcast_window = 5  # Number of years of materialized traffic volumes that are included in assessment\n",
    "forecast_window = 2  # Number of years of forecasted traffic volumes\n",
    "\n",
    "# Make traffic projections\n",
    "vessels, commodities, fig, traffic_projections, traffic_scenario = traffic_generator(nr_generations, start_year, simulation_window)\n",
    "maize = commodities[0]\n",
    "\n",
    "# Visualize traffic projections\n",
    "fig = visualisation.scenario(traffic_projections, commodities)\n",
    "py.iplot(fig, filename='Traffic projections')"
   ]
  },
  {
   "cell_type": "markdown",
   "metadata": {},
   "source": [
    "# 4 Estimating project value "
   ]
  },
  {
   "cell_type": "code",
   "execution_count": 5,
   "metadata": {},
   "outputs": [],
   "source": [
    "estimations = []\n",
    "simulations = []\n",
    "evaluations = []"
   ]
  },
  {
   "cell_type": "markdown",
   "metadata": {},
   "source": [
    "### 4.1 Estimate - Perfect foresight method"
   ]
  },
  {
   "cell_type": "code",
   "execution_count": 6,
   "metadata": {},
   "outputs": [],
   "source": [
    "estimate_designs = []\n",
    "chosen_method = 'Perfect foresight method'\n",
    "    \n",
    "# Commodity demand \n",
    "commodities[0].demand = traffic_scenario\n",
    "\n",
    "# Performance triggers (static values)\n",
    "triggers = []\n",
    "triggers.append([0.70, 'Acceptable waiting vessel time as factor of service time'])\n",
    "triggers.append([18  , 'Dwell time of cargo in storage, presented in days'])        \n",
    "triggers.append([0.50, 'Acceptable waiting train time as factor of service time'])\n",
    "\n",
    "# Terminal design\n",
    "terminal  = initial.terminal(project_WACC, triggers)\n",
    "terminal  = design(chosen_method, terminal, vessels, commodities, start_year, simulation_window)\n",
    "estimate_designs.append(copy.deepcopy(terminal))\n",
    "\n",
    "# Register terminal for simulation step\n",
    "estimated_terminal = copy.deepcopy(terminal)\n",
    "\n",
    "# Log estimate\n",
    "estimations.append(copy.deepcopy(estimate_designs))"
   ]
  },
  {
   "cell_type": "markdown",
   "metadata": {},
   "source": [
    "### 4.2 Estimate - Current performance method"
   ]
  },
  {
   "cell_type": "code",
   "execution_count": 7,
   "metadata": {},
   "outputs": [],
   "source": [
    "estimate_designs = []\n",
    "chosen_method = 'Current performance method'\n",
    "\n",
    "# Performance triggers (static values)\n",
    "triggers = []\n",
    "triggers.append([0.63, 'Acceptable waiting vessel time as factor of service time'])\n",
    "triggers.append([18  , 'Dwell time of cargo in storage, presented in days'])        \n",
    "triggers.append([0.50, 'Acceptable waiting train time as factor of service time'])\n",
    "\n",
    "for i in range(len(traffic_projections)):\n",
    "    \n",
    "    # Commodity demand \n",
    "    commodities[0].demand = traffic_projections[i]\n",
    "    commodities[0].utilization = 1.00\n",
    "    vessels = forecast.vessel_call_calc(vessels, commodities, simulation_window)\n",
    "\n",
    "    # Terminal designs\n",
    "    terminal  = initial.terminal(project_WACC, triggers)\n",
    "    terminal  = design(chosen_method, terminal, vessels, commodities, start_year, simulation_window)\n",
    "    estimate_designs.append(copy.deepcopy(terminal))\n",
    "\n",
    "# Log estimate\n",
    "estimations.append(copy.deepcopy(estimate_designs))"
   ]
  },
  {
   "cell_type": "markdown",
   "metadata": {},
   "source": [
    "### 4.3 Estimate - Forecast method"
   ]
  },
  {
   "cell_type": "code",
   "execution_count": 8,
   "metadata": {},
   "outputs": [],
   "source": [
    "estimate_designs = []\n",
    "chosen_method = 'Forecast based method'\n",
    "\n",
    "# Performance triggers (static values)\n",
    "triggers = []\n",
    "triggers.append([0.77, 'Acceptable waiting vessel time as factor of service time'])\n",
    "triggers.append([18  , 'Dwell time of cargo in storage, presented in days'])        \n",
    "triggers.append([0.50, 'Acceptable waiting train time as factor of service time'])\n",
    "\n",
    "for i in range(len(traffic_projections)):\n",
    "    \n",
    "    # Commodity demand \n",
    "    commodities[0].demand = traffic_projections[i]\n",
    "    commodities[0].utilization = 0.85\n",
    "    vessels = forecast.vessel_call_calc(vessels, commodities, simulation_window)\n",
    "\n",
    "    # Terminal designs\n",
    "    terminal  = initial.terminal(project_WACC, triggers)\n",
    "    terminal  = design(chosen_method, terminal, vessels, commodities, start_year, simulation_window)\n",
    "    estimate_designs.append(copy.deepcopy(terminal))\n",
    "\n",
    "# Log estimate\n",
    "estimations.append(copy.deepcopy(estimate_designs))"
   ]
  },
  {
   "cell_type": "markdown",
   "metadata": {},
   "source": [
    "# 5 Simulating project value"
   ]
  },
  {
   "cell_type": "code",
   "execution_count": 9,
   "metadata": {},
   "outputs": [],
   "source": [
    "# Create traffic simulations\n",
    "vessels, commodities, fig, traffic_simulations, traffic_scenario = traffic_generator(nr_generations, start_year, simulation_window)"
   ]
  },
  {
   "cell_type": "markdown",
   "metadata": {},
   "source": [
    "### 5.1 Simulate - Perfect foresight method"
   ]
  },
  {
   "cell_type": "code",
   "execution_count": 10,
   "metadata": {},
   "outputs": [],
   "source": [
    "simulate_designs = []\n",
    "chosen_method = 'Perfect foresight method'\n",
    "\n",
    "# Performance triggers (static values)\n",
    "triggers = []\n",
    "triggers.append([0.70, 'Acceptable waiting vessel time as factor of service time'])\n",
    "triggers.append([18  , 'Dwell time of cargo in storage, presented in days'])        \n",
    "triggers.append([0.50, 'Acceptable waiting train time as factor of service time'])\n",
    "    \n",
    "for i in range(len(traffic_simulations)):\n",
    "\n",
    "    # Commodity demand\n",
    "    commodities[0].demand = traffic_simulations[i]\n",
    "\n",
    "    # Design is kept static and fed with the various traffic volumes\n",
    "    terminal = financial.evaluate_perfect_foresight(estimated_terminal, commodities, vessels, simulation_window, start_year, operational_hours)\n",
    "    simulate_designs.append(copy.deepcopy(terminal)) \n",
    "\n",
    "simulations.append(copy.deepcopy(simulate_designs))"
   ]
  },
  {
   "cell_type": "markdown",
   "metadata": {},
   "source": [
    "### 5.2 Simulate - Current performance method"
   ]
  },
  {
   "cell_type": "code",
   "execution_count": 11,
   "metadata": {},
   "outputs": [],
   "source": [
    "simulate_designs = []\n",
    "chosen_method = 'Current performance method'\n",
    "\n",
    "# Performance triggers (static values)\n",
    "triggers = []\n",
    "triggers.append([0.63, 'Acceptable waiting vessel time as factor of service time'])\n",
    "triggers.append([18  , 'Dwell time of cargo in storage, presented in days'])        \n",
    "triggers.append([0.50, 'Acceptable waiting train time as factor of service time'])\n",
    "    \n",
    "for i in range(len(traffic_simulations)):\n",
    "    \n",
    "    # Commodity demand\n",
    "    commodities[0].demand = traffic_simulations[i]\n",
    "    commodities[0].utilization = 1.00\n",
    "    \n",
    "    # Terminal design\n",
    "    terminal = initial.terminal(project_WACC, triggers)\n",
    "    terminal = design(chosen_method, terminal, vessels, commodities, start_year, simulation_window)\n",
    "    simulate_designs.append(copy.deepcopy(terminal)) \n",
    "    \n",
    "simulations.append(copy.deepcopy(simulate_designs))"
   ]
  },
  {
   "cell_type": "markdown",
   "metadata": {},
   "source": [
    "### 5.3 Simulate - Forecast method"
   ]
  },
  {
   "cell_type": "code",
   "execution_count": 12,
   "metadata": {},
   "outputs": [],
   "source": [
    "simulate_designs = []\n",
    "chosen_method = 'Forecast based method'\n",
    "\n",
    "# Performance triggers (static values)\n",
    "triggers = []\n",
    "triggers.append([0.77, 'Acceptable waiting vessel time as factor of service time'])\n",
    "triggers.append([18  , 'Dwell time of cargo in storage, presented in days'])        \n",
    "triggers.append([0.50, 'Acceptable waiting train time as factor of service time'])\n",
    "    \n",
    "for i in range(len(traffic_simulations)):\n",
    "    \n",
    "    # Commodity demand\n",
    "    commodities[0].demand = traffic_simulations[i]\n",
    "    commodities[0].utilization = 0.85\n",
    "    \n",
    "    # Terminal design\n",
    "    terminal = initial.terminal(project_WACC, triggers)\n",
    "    terminal = design(chosen_method, terminal, vessels, commodities, start_year, simulation_window)\n",
    "    simulate_designs.append(copy.deepcopy(terminal)) \n",
    "    \n",
    "simulations.append(copy.deepcopy(simulate_designs))"
   ]
  },
  {
   "cell_type": "markdown",
   "metadata": {},
   "source": [
    "# 6 Evaluating accuracy"
   ]
  },
  {
   "cell_type": "markdown",
   "metadata": {},
   "source": [
    "### 6.1 Evaluate - Perfect foresight method"
   ]
  },
  {
   "cell_type": "code",
   "execution_count": 22,
   "metadata": {},
   "outputs": [
    {
     "data": {
      "text/html": [
       "<iframe id=\"igraph\" scrolling=\"no\" style=\"border:none;\" seamless=\"seamless\" src=\"https://plot.ly/~wijnandijzermans/186.embed\" height=\"525px\" width=\"100%\"></iframe>"
      ],
      "text/plain": [
       "<plotly.tools.PlotlyDisplay object>"
      ]
     },
     "execution_count": 22,
     "metadata": {},
     "output_type": "execute_result"
    }
   ],
   "source": [
    "fig = visualisation.method_evaluation('Perfect foresight method', estimations[0], simulations[0])\n",
    "fig['layout'].update(\n",
    "    title='Evaluation of the method based on perfect foresight',\n",
    "    xaxis =dict(\n",
    "            title='Project NPV',\n",
    "            tickprefix='$',\n",
    "            range=[20000000, 70000000]\n",
    "        ))\n",
    "py.iplot(fig, filename='Design method evaluation')"
   ]
  },
  {
   "cell_type": "markdown",
   "metadata": {},
   "source": [
    "### 6.2 Evaluate - Current performance method"
   ]
  },
  {
   "cell_type": "code",
   "execution_count": 14,
   "metadata": {},
   "outputs": [
    {
     "data": {
      "text/html": [
       "<iframe id=\"igraph\" scrolling=\"no\" style=\"border:none;\" seamless=\"seamless\" src=\"https://plot.ly/~wijnandijzermans/186.embed\" height=\"525px\" width=\"100%\"></iframe>"
      ],
      "text/plain": [
       "<plotly.tools.PlotlyDisplay object>"
      ]
     },
     "execution_count": 14,
     "metadata": {},
     "output_type": "execute_result"
    }
   ],
   "source": [
    "fig = visualisation.method_evaluation('Current performance method', estimations[1], simulations[1])\n",
    "fig['layout'].update(\n",
    "    title='Evaluation of the method based on current performance',\n",
    "    xaxis =dict(\n",
    "            title='Project NPV',\n",
    "            tickprefix='$',\n",
    "            range=[30000000, 60000000]\n",
    "        ))\n",
    "py.iplot(fig, filename='Design method evaluation')"
   ]
  },
  {
   "cell_type": "markdown",
   "metadata": {},
   "source": [
    "### 6.3 Evaluate - Forecast method"
   ]
  },
  {
   "cell_type": "code",
   "execution_count": 15,
   "metadata": {},
   "outputs": [
    {
     "data": {
      "text/html": [
       "<iframe id=\"igraph\" scrolling=\"no\" style=\"border:none;\" seamless=\"seamless\" src=\"https://plot.ly/~wijnandijzermans/186.embed\" height=\"525px\" width=\"100%\"></iframe>"
      ],
      "text/plain": [
       "<plotly.tools.PlotlyDisplay object>"
      ]
     },
     "execution_count": 15,
     "metadata": {},
     "output_type": "execute_result"
    }
   ],
   "source": [
    "fig = visualisation.method_evaluation('Forecast based method', estimations[2], simulations[2])\n",
    "fig['layout'].update(\n",
    "    title='Evaluation of the method based on forecasts',\n",
    "    xaxis =dict(\n",
    "            title='Project NPV',\n",
    "            tickprefix='$',\n",
    "            range=[20000000, 70000000]\n",
    "        ))\n",
    "py.iplot(fig, filename='Design method evaluation')"
   ]
  },
  {
   "cell_type": "code",
   "execution_count": 16,
   "metadata": {},
   "outputs": [
    {
     "data": {
      "text/plain": [
       "3642052.03785127"
      ]
     },
     "execution_count": 16,
     "metadata": {},
     "output_type": "execute_result"
    }
   ],
   "source": [
    "NPVs = []\n",
    "for i in range(len(simulations[2])):\n",
    "    NPVs.append(simulations[2][i].NPV)\n",
    "np.std(NPVs)"
   ]
  }
 ],
 "metadata": {
  "kernelspec": {
   "display_name": "Python 3",
   "language": "python",
   "name": "python3"
  },
  "language_info": {
   "codemirror_mode": {
    "name": "ipython",
    "version": 3
   },
   "file_extension": ".py",
   "mimetype": "text/x-python",
   "name": "python",
   "nbconvert_exporter": "python",
   "pygments_lexer": "ipython3",
   "version": "3.6.5"
  }
 },
 "nbformat": 4,
 "nbformat_minor": 2
}
