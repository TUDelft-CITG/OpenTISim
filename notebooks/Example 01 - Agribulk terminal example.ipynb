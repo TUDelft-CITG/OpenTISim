{
 "cells": [
  {
   "cell_type": "code",
   "execution_count": 1,
   "metadata": {},
   "outputs": [],
   "source": [
    "import numpy as np\n",
    "import pandas as pd\n",
    "\n",
    "import matplotlib.pyplot as plt\n",
    "\n",
    "from opentisim import agribulk_objects\n",
    "from opentisim import agribulk_defaults\n",
    "from opentisim import agribulk_system"
   ]
  },
  {
   "cell_type": "markdown",
   "metadata": {},
   "source": [
    "# 0. Prepare inputs"
   ]
  },
  {
   "cell_type": "code",
   "execution_count": 2,
   "metadata": {},
   "outputs": [],
   "source": [
    "startyear = 2018\n",
    "lifecycle = 10"
   ]
  },
  {
   "cell_type": "markdown",
   "metadata": {},
   "source": [
    "## 0.1 Generate demand forecast scenario"
   ]
  },
  {
   "cell_type": "code",
   "execution_count": 3,
   "metadata": {},
   "outputs": [],
   "source": [
    "years = list(range(startyear, startyear+lifecycle))\n",
    "\n",
    "demand = []\n",
    "for year in years:\n",
    "    if year < 2023:\n",
    "        demand.append(750_000)\n",
    "    else:\n",
    "        demand.append(1_600_000)\n",
    "\n",
    "scenario_data={'year': years, 'volume': demand}\n",
    "\n",
    "# instantiate a commodity objects\n",
    "# maize\n",
    "agribulk_defaults.maize_data['handysize_perc'] = 0\n",
    "agribulk_defaults.maize_data['handymax_perc'] = 100\n",
    "agribulk_defaults.maize_data['panamax_perc'] = 0\n",
    "agribulk_defaults.maize_data['handling_fee'] = 9.8 # example Wijnand\n",
    "agribulk_defaults.maize_data['historic_data'] = []\n",
    "maize = agribulk_objects.Commodity(**agribulk_defaults.maize_data)\n",
    "maize.scenario_data = pd.DataFrame(data=scenario_data)\n",
    "\n",
    "# wheat\n",
    "agribulk_defaults.wheat_data['historic_data'] = []\n",
    "agribulk_defaults.wheat_data['scenario_data'] = []\n",
    "wheat = agribulk_objects.Commodity(**agribulk_defaults.wheat_data)\n",
    "\n",
    "# soybeans\n",
    "agribulk_defaults.soybean_data['historic_data'] = []\n",
    "agribulk_defaults.soybean_data['scenario_data'] = []\n",
    "soybeans = agribulk_objects.Commodity(**agribulk_defaults.soybean_data)\n",
    "\n",
    "# combine\n",
    "demand = [maize, wheat, soybeans]\n",
    "\n",
    "# plot scenarios \n",
    "if False:\n",
    "    maize.plot_demand()\n",
    "    wheat.plot_demand()\n",
    "    soybeans.plot_demand()"
   ]
  },
  {
   "cell_type": "markdown",
   "metadata": {},
   "source": [
    "## 0.2 Generate vessels"
   ]
  },
  {
   "cell_type": "code",
   "execution_count": 4,
   "metadata": {},
   "outputs": [],
   "source": [
    "# instantiate vessels\n",
    "handysize = agribulk_objects.Vessel(**agribulk_defaults.handysize_data)\n",
    "agribulk_defaults.handymax_data['call_size'] = 50000\n",
    "handymax = agribulk_objects.Vessel(**agribulk_defaults.handymax_data)\n",
    "panamax = agribulk_objects.Vessel(**agribulk_defaults.panamax_data)\n",
    "\n",
    "\n",
    "vessels = [handysize, handymax, panamax] "
   ]
  },
  {
   "cell_type": "markdown",
   "metadata": {},
   "source": [
    "# 1. Instatiate terminal system"
   ]
  },
  {
   "cell_type": "code",
   "execution_count": 5,
   "metadata": {},
   "outputs": [],
   "source": [
    "Terminal = agribulk_system.System(startyear = startyear, \n",
    "                         lifecycle = lifecycle, \n",
    "                         elements = demand + vessels, \n",
    "                         operational_hours = 5840,   # example Wijnand\n",
    "                         debug=True,\n",
    "                         crane_type_defaults=agribulk_defaults.mobile_crane_data, \n",
    "                         storage_type_defaults=agribulk_defaults.silo_data)"
   ]
  },
  {
   "cell_type": "markdown",
   "metadata": {},
   "source": [
    "# 2. Start simulation\n",
    "Develop terminal given the throughput scenario and investment triggers implemented"
   ]
  },
  {
   "cell_type": "code",
   "execution_count": 6,
   "metadata": {
    "scrolled": false
   },
   "outputs": [
    {
     "name": "stdout",
     "output_type": "stream",
     "text": [
      "\n",
      "### Simulate year: 2018 ############################\n",
      "--- Cargo volume and vessel calls for 2018 ---------\n",
      "  Total cargo volume: 750000\n",
      "  Total vessel calls: 15\n",
      "     Handysize calls: 0\n",
      "     Handymax calls: 15\n",
      "     Panamax calls: 0\n",
      "----------------------------------------------------\n",
      "\n",
      "--- Status terminal @ start of year ----------------\n",
      "     Berth occupancy online (@ start of year): inf (trigger level: 0.40)\n",
      "     Berth occupancy planned (@ start of year): inf (trigger level: 0.40)\n",
      "     Planned waiting time service time factor (@ start of year): inf (trigger level: 0.30)\n",
      "\n",
      "--- Start investment analysis ----------------------\n",
      "\n",
      "$$$ Check berth elements (coupled with berth occupancy) ---------------\n",
      "  *** add Berth to elements\n",
      "     Berth occupancy planned (after adding berth): inf (trigger level: 0.40)\n",
      "     Planned waiting time service time factor : 4.36 (trigger level: 0.30)\n",
      "  *** add Quay to elements\n",
      "     Berth occupancy planned (after adding berth): inf (trigger level: 0.40)\n",
      "     Planned waiting time service time factor : 4.36 (trigger level: 0.30)\n",
      "  *** add Harbour crane to elements\n",
      "     Berth occupancy planned (after adding berth): 0.71 (trigger level: 0.40)\n",
      "     Planned waiting time service time factor : 1.12 (trigger level: 0.30)\n",
      "  *** add Harbour crane to elements\n",
      "     Berth occupancy planned (after adding berth): 0.36 (trigger level: 0.40)\n",
      "     Planned waiting time service time factor : 0.19 (trigger level: 0.30)\n",
      "\n",
      "$$$ Check quay conveyors (coupled with quay crane capacity) -----------\n",
      "     a total of 0 ton of quay conveyor service capacity is online; 0 ton still pending\n",
      "  *** add Quay Conveyor to elements\n",
      "     a total of 0 ton of conveyor quay service capacity is online; 400 ton still pending\n",
      "  *** add Quay Conveyor to elements\n",
      "     a total of 0 ton of conveyor quay service capacity is online; 800 ton still pending\n",
      "  *** add Quay Conveyor to elements\n",
      "     a total of 0 ton of conveyor quay service capacity is online; 1200 ton still pending\n",
      "\n",
      "$$$ Check storage (coupled with max call size and dwell time) ---------\n",
      "     a total of 0 ton of silo storage capacity is online; 0 ton still pending\n"
     ]
    },
    {
     "ename": "AttributeError",
     "evalue": "'list' object has no attribute 'loc'",
     "output_type": "error",
     "traceback": [
      "\u001b[1;31m---------------------------------------------------------------------------\u001b[0m",
      "\u001b[1;31mAttributeError\u001b[0m                            Traceback (most recent call last)",
      "\u001b[1;32m<ipython-input-6-6df989aa56ef>\u001b[0m in \u001b[0;36m<module>\u001b[1;34m\u001b[0m\n\u001b[1;32m----> 1\u001b[1;33m \u001b[0mTerminal\u001b[0m\u001b[1;33m.\u001b[0m\u001b[0msimulate\u001b[0m\u001b[1;33m(\u001b[0m\u001b[1;33m)\u001b[0m\u001b[1;33m\u001b[0m\u001b[1;33m\u001b[0m\u001b[0m\n\u001b[0m",
      "\u001b[1;32mc:\\users\\mrv\\onedrive - van oord\\software\\github\\opentisim\\opentisim\\agribulk_system.py\u001b[0m in \u001b[0;36msimulate\u001b[1;34m(self)\u001b[0m\n\u001b[0;32m    119\u001b[0m                 \u001b[0mprint\u001b[0m\u001b[1;33m(\u001b[0m\u001b[1;34m''\u001b[0m\u001b[1;33m)\u001b[0m\u001b[1;33m\u001b[0m\u001b[1;33m\u001b[0m\u001b[0m\n\u001b[0;32m    120\u001b[0m                 \u001b[0mprint\u001b[0m\u001b[1;33m(\u001b[0m\u001b[1;34m'$$$ Check storage (coupled with max call size and dwell time) ---------'\u001b[0m\u001b[1;33m)\u001b[0m\u001b[1;33m\u001b[0m\u001b[1;33m\u001b[0m\u001b[0m\n\u001b[1;32m--> 121\u001b[1;33m             \u001b[0mself\u001b[0m\u001b[1;33m.\u001b[0m\u001b[0mstorage_invest\u001b[0m\u001b[1;33m(\u001b[0m\u001b[0myear\u001b[0m\u001b[1;33m,\u001b[0m \u001b[0mself\u001b[0m\u001b[1;33m.\u001b[0m\u001b[0mstorage_type_defaults\u001b[0m\u001b[1;33m)\u001b[0m\u001b[1;33m\u001b[0m\u001b[1;33m\u001b[0m\u001b[0m\n\u001b[0m\u001b[0;32m    122\u001b[0m \u001b[1;33m\u001b[0m\u001b[0m\n\u001b[0;32m    123\u001b[0m             \u001b[1;32mif\u001b[0m \u001b[0mself\u001b[0m\u001b[1;33m.\u001b[0m\u001b[0mdebug\u001b[0m\u001b[1;33m:\u001b[0m\u001b[1;33m\u001b[0m\u001b[1;33m\u001b[0m\u001b[0m\n",
      "\u001b[1;32mc:\\users\\mrv\\onedrive - van oord\\software\\github\\opentisim\\opentisim\\agribulk_system.py\u001b[0m in \u001b[0;36mstorage_invest\u001b[1;34m(self, year, agribulk_defaults_storage_data)\u001b[0m\n\u001b[0;32m    546\u001b[0m         \u001b[1;32mif\u001b[0m \u001b[0mcommodities\u001b[0m \u001b[1;33m!=\u001b[0m \u001b[1;33m[\u001b[0m\u001b[1;33m]\u001b[0m\u001b[1;33m:\u001b[0m\u001b[1;33m\u001b[0m\u001b[1;33m\u001b[0m\u001b[0m\n\u001b[0;32m    547\u001b[0m             \u001b[1;32mfor\u001b[0m \u001b[0mcommodity\u001b[0m \u001b[1;32min\u001b[0m \u001b[0mcommodities\u001b[0m\u001b[1;33m:\u001b[0m\u001b[1;33m\u001b[0m\u001b[1;33m\u001b[0m\u001b[0m\n\u001b[1;32m--> 548\u001b[1;33m                 \u001b[0mvolume\u001b[0m \u001b[1;33m=\u001b[0m \u001b[0mcommodity\u001b[0m\u001b[1;33m.\u001b[0m\u001b[0mscenario_data\u001b[0m\u001b[1;33m.\u001b[0m\u001b[0mloc\u001b[0m\u001b[1;33m[\u001b[0m\u001b[0mcommodity\u001b[0m\u001b[1;33m.\u001b[0m\u001b[0mscenario_data\u001b[0m\u001b[1;33m[\u001b[0m\u001b[1;34m'year'\u001b[0m\u001b[1;33m]\u001b[0m \u001b[1;33m==\u001b[0m \u001b[0myear\u001b[0m\u001b[1;33m]\u001b[0m\u001b[1;33m[\u001b[0m\u001b[1;34m'volume'\u001b[0m\u001b[1;33m]\u001b[0m\u001b[1;33m.\u001b[0m\u001b[0mitem\u001b[0m\u001b[1;33m(\u001b[0m\u001b[1;33m)\u001b[0m\u001b[1;33m\u001b[0m\u001b[1;33m\u001b[0m\u001b[0m\n\u001b[0m\u001b[0;32m    549\u001b[0m                 \u001b[0mstorage_capacity_dwelltime\u001b[0m \u001b[1;33m=\u001b[0m \u001b[0mround\u001b[0m\u001b[1;33m(\u001b[0m\u001b[1;33m(\u001b[0m\u001b[0mvolume\u001b[0m \u001b[1;33m*\u001b[0m \u001b[1;36m0.05\u001b[0m\u001b[1;33m)\u001b[0m \u001b[1;33m*\u001b[0m \u001b[1;36m1.1\u001b[0m\u001b[1;33m)\u001b[0m  \u001b[1;31m# see IJzermans (2019) p.26 & PIANC (2014) p.148\u001b[0m\u001b[1;33m\u001b[0m\u001b[1;33m\u001b[0m\u001b[0m\n\u001b[0;32m    550\u001b[0m \u001b[1;33m\u001b[0m\u001b[0m\n",
      "\u001b[1;31mAttributeError\u001b[0m: 'list' object has no attribute 'loc'"
     ]
    }
   ],
   "source": [
    "Terminal.simulate()"
   ]
  },
  {
   "cell_type": "code",
   "execution_count": 7,
   "metadata": {},
   "outputs": [
    {
     "ename": "NameError",
     "evalue": "name 'commodity' is not defined",
     "output_type": "error",
     "traceback": [
      "\u001b[1;31m---------------------------------------------------------------------------\u001b[0m",
      "\u001b[1;31mNameError\u001b[0m                                 Traceback (most recent call last)",
      "\u001b[1;32m<ipython-input-7-e01fd771f2ff>\u001b[0m in \u001b[0;36m<module>\u001b[1;34m\u001b[0m\n\u001b[1;32m----> 1\u001b[1;33m \u001b[0mcommodity\u001b[0m\u001b[1;33m.\u001b[0m\u001b[0mscenario_data\u001b[0m\u001b[1;33m\u001b[0m\u001b[1;33m\u001b[0m\u001b[0m\n\u001b[0m",
      "\u001b[1;31mNameError\u001b[0m: name 'commodity' is not defined"
     ]
    }
   ],
   "source": []
  },
  {
   "cell_type": "markdown",
   "metadata": {},
   "source": [
    "## Report all elements"
   ]
  },
  {
   "cell_type": "code",
   "execution_count": null,
   "metadata": {
    "scrolled": false
   },
   "outputs": [],
   "source": [
    "# if False: \n",
    "for element in Terminal.elements:\n",
    "    print(\"\")\n",
    "    print(element.name)\n",
    "    print(\"\")\n",
    "    print(element.__dict__)"
   ]
  },
  {
   "cell_type": "code",
   "execution_count": null,
   "metadata": {},
   "outputs": [],
   "source": [
    "Terminal.terminal_elements_plot()"
   ]
  },
  {
   "cell_type": "code",
   "execution_count": null,
   "metadata": {
    "scrolled": false
   },
   "outputs": [],
   "source": [
    "Terminal.terminal_capacity_plot()"
   ]
  },
  {
   "cell_type": "code",
   "execution_count": null,
   "metadata": {},
   "outputs": [],
   "source": [
    "# add cash flow information for each of the Terminal elements\n",
    "cash_flows, cash_flows_WACC_real = Terminal.add_cashflow_elements()"
   ]
  },
  {
   "cell_type": "code",
   "execution_count": null,
   "metadata": {},
   "outputs": [],
   "source": [
    "Terminal.cashflow_plot(cash_flows)"
   ]
  },
  {
   "cell_type": "code",
   "execution_count": null,
   "metadata": {},
   "outputs": [],
   "source": [
    "Terminal.cashflow_plot(cash_flows_WACC_real)"
   ]
  },
  {
   "cell_type": "markdown",
   "metadata": {},
   "source": [
    "## SandBox"
   ]
  },
  {
   "cell_type": "code",
   "execution_count": null,
   "metadata": {},
   "outputs": [],
   "source": [
    "Terminal.NPV()"
   ]
  }
 ],
 "metadata": {
  "kernelspec": {
   "display_name": "Python 3",
   "language": "python",
   "name": "python3"
  },
  "language_info": {
   "codemirror_mode": {
    "name": "ipython",
    "version": 3
   },
   "file_extension": ".py",
   "mimetype": "text/x-python",
   "name": "python",
   "nbconvert_exporter": "python",
   "pygments_lexer": "ipython3",
   "version": "3.8.5"
  }
 },
 "nbformat": 4,
 "nbformat_minor": 2
}
