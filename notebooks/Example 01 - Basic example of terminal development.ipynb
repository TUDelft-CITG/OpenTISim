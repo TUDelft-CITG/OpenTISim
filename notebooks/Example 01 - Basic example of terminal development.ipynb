{
 "cells": [
  {
   "cell_type": "code",
   "execution_count": null,
   "metadata": {},
   "outputs": [],
   "source": [
    "from terminal_optimization import objects\n",
    "from terminal_optimization import defaults\n",
    "from terminal_optimization import system"
   ]
  },
  {
   "cell_type": "markdown",
   "metadata": {},
   "source": [
    "# 0. Prepare inputs"
   ]
  },
  {
   "cell_type": "markdown",
   "metadata": {},
   "source": [
    "## 0.1 Generate demand forecast scenario"
   ]
  },
  {
   "cell_type": "code",
   "execution_count": null,
   "metadata": {
    "scrolled": false
   },
   "outputs": [],
   "source": [
    "# instantiate a commodity object\n",
    "maize = objects.Commodity(**defaults.maize_data)\n",
    "wheat = objects.Commodity(**defaults.wheat_data)\n",
    "soybeans = objects.Commodity(**defaults.soybean_data)\n",
    "\n",
    "# create a future througput scenario\n",
    "maize.scenario_random()\n",
    "wheat.scenario_random()\n",
    "soybeans.scenario_random()\n",
    "\n",
    "demand = [maize, wheat, soybeans]\n",
    "\n",
    "# plot scenarios \n",
    "if True:\n",
    "    maize.plot_demand()\n",
    "    wheat.plot_demand()\n",
    "    soybeans.plot_demand()"
   ]
  },
  {
   "cell_type": "markdown",
   "metadata": {},
   "source": [
    "## 0.2 Generate vessels"
   ]
  },
  {
   "cell_type": "code",
   "execution_count": null,
   "metadata": {},
   "outputs": [],
   "source": [
    "# instantiate vessels\n",
    "handysize = objects.Vessel(**defaults.handysize_data)\n",
    "handymax = objects.Vessel(**defaults.handymax_data)\n",
    "panamax = objects.Vessel(**defaults.panamax_data)\n",
    "\n",
    "vessels = [handysize, handymax, panamax]"
   ]
  },
  {
   "cell_type": "markdown",
   "metadata": {},
   "source": [
    "# 1. Instatiate terminal system"
   ]
  },
  {
   "cell_type": "code",
   "execution_count": null,
   "metadata": {},
   "outputs": [],
   "source": [
    "# instantiate System object\n",
    "Terminal = system.System(elements = demand + vessels)"
   ]
  },
  {
   "cell_type": "markdown",
   "metadata": {},
   "source": [
    "# 2. Start simulation\n",
    "Develop terminal given the throughput scenario and investment triggers implemented"
   ]
  },
  {
   "cell_type": "code",
   "execution_count": null,
   "metadata": {
    "scrolled": false
   },
   "outputs": [],
   "source": [
    "Terminal.simulate()"
   ]
  },
  {
   "cell_type": "markdown",
   "metadata": {},
   "source": [
    "## Report all elements"
   ]
  },
  {
   "cell_type": "code",
   "execution_count": null,
   "metadata": {
    "scrolled": false
   },
   "outputs": [],
   "source": [
    "for element in Terminal.elements:\n",
    "    print(\"\")\n",
    "    print(element.name)\n",
    "    print(\"\")\n",
    "    print(element.__dict__)"
   ]
  },
  {
   "cell_type": "code",
   "execution_count": null,
   "metadata": {},
   "outputs": [],
   "source": [
    "cash_flows = Terminal.add_cashflow_elements()"
   ]
  },
  {
   "cell_type": "code",
   "execution_count": null,
   "metadata": {},
   "outputs": [],
   "source": [
    "Terminal.terminal_elements_plot()"
   ]
  },
  {
   "cell_type": "code",
   "execution_count": null,
   "metadata": {},
   "outputs": [],
   "source": [
    "Terminal.cashflow_plot(cash_flows)"
   ]
  },
  {
   "cell_type": "markdown",
   "metadata": {},
   "source": [
    "## Add a supply chain graph\n",
    "The graph should be useable to detect if all elements of the supplychain are in place. \n",
    "Only when a path through the supply chain is available can revenue be obtained. \n",
    "This is still an experimental functionality and not yet fully implemented. "
   ]
  },
  {
   "cell_type": "code",
   "execution_count": null,
   "metadata": {},
   "outputs": [],
   "source": [
    "# *** specify supply chain logic\n",
    "# 1. create object types\n",
    "quay = objects.Quay_wall(**defaults.quay_wall_data)\n",
    "berth = objects.Berth(**defaults.berth_data)\n",
    "crane = objects.Cyclic_Unloader(**defaults.gantry_crane_data)\n",
    "screw = objects.Continuous_Unloader(**defaults.continuous_screw_data)\n",
    "conveyor1 = objects.Conveyor(**defaults.quay_conveyor_data)\n",
    "storage = objects.Storage(**defaults.silo_data)\n",
    "conveyor2 = objects.Conveyor(**defaults.hinterland_conveyor_data)\n",
    "unloading_station = objects.Unloading_station(**defaults.hinterland_station_data)\n",
    "\n",
    "# 2. specify nodes and edges\n",
    "nodes = [quay, berth, crane, screw, conveyor1, storage, conveyor2, unloading_station]\n",
    "edges = [[quay, berth],\n",
    "         [berth, crane],\n",
    "         [crane, screw],\n",
    "         [screw, conveyor1],\n",
    "         [conveyor1, storage],\n",
    "         [storage, conveyor2],\n",
    "         [conveyor2, unloading_station]]\n",
    "\n",
    "# 3. invoke the supply_chain method\n",
    "Terminal.supply_chain(nodes, edges)"
   ]
  },
  {
   "cell_type": "code",
   "execution_count": null,
   "metadata": {},
   "outputs": [],
   "source": [
    "Terminal.plot_system()"
   ]
  }
 ],
 "metadata": {
  "kernelspec": {
   "display_name": "Python 3",
   "language": "python",
   "name": "python3"
  },
  "language_info": {
   "codemirror_mode": {
    "name": "ipython",
    "version": 3
   },
   "file_extension": ".py",
   "mimetype": "text/x-python",
   "name": "python",
   "nbconvert_exporter": "python",
   "pygments_lexer": "ipython3",
   "version": "3.6.3"
  }
 },
 "nbformat": 4,
 "nbformat_minor": 2
}
