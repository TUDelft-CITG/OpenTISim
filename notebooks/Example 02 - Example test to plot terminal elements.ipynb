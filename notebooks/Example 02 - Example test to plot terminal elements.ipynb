{
 "cells": [
  {
   "cell_type": "code",
   "execution_count": 2,
   "metadata": {},
   "outputs": [],
   "source": [
    "import numpy as np\n",
    "import pandas as pd\n",
    "\n",
    "import matplotlib.pyplot as plt\n",
    "\n",
    "from terminal_optimization import objects\n",
    "from terminal_optimization import defaults\n",
    "from terminal_optimization import system"
   ]
  },
  {
   "cell_type": "markdown",
   "metadata": {},
   "source": [
    "# 0. Prepare inputs"
   ]
  },
  {
   "cell_type": "code",
   "execution_count": 3,
   "metadata": {},
   "outputs": [],
   "source": [
    "startyear = 2019\n",
    "lifecycle = 7"
   ]
  },
  {
   "cell_type": "markdown",
   "metadata": {},
   "source": [
    "## 0.1 Generate demand forecast scenario"
   ]
  },
  {
   "cell_type": "code",
   "execution_count": 4,
   "metadata": {},
   "outputs": [],
   "source": [
    "years = list(range(startyear, startyear+lifecycle))\n",
    "\n",
    "demand = []\n",
    "for year in years:\n",
    "    if year < 2023:\n",
    "        demand.append(250_000)\n",
    "    else:\n",
    "        demand.append(500_000)\n",
    "\n",
    "scenario_data={'year': years, 'volume': demand}\n",
    "\n",
    "# instantiate a commodity object\n",
    "maize = objects.Commodity(**defaults.maize_data)\n",
    "maize.handysize_perc = 100\n",
    "maize.handymax_perc = 0\n",
    "maize.panamax_perc = 0\n",
    "wheat = objects.Commodity(**defaults.wheat_data)\n",
    "soybeans = objects.Commodity(**defaults.soybean_data)\n",
    "\n",
    "maize.scenario_data = pd.DataFrame(data=scenario_data)\n",
    "maize.historic_data = []\n",
    "wheat.scenario_data = pd.DataFrame(data=scenario_data)\n",
    "wheat.historic_data = []\n",
    "soybeans.scenario_data = pd.DataFrame(data=scenario_data)\n",
    "soybeans.historic_data = []\n",
    "\n",
    "demand = [maize, wheat, soybeans]\n",
    "\n",
    "# plot scenarios \n",
    "if False:\n",
    "    maize.plot_demand()\n",
    "    wheat.plot_demand()\n",
    "    soybeans.plot_demand()"
   ]
  },
  {
   "cell_type": "markdown",
   "metadata": {},
   "source": [
    "## 0.2 Generate vessels"
   ]
  },
  {
   "cell_type": "code",
   "execution_count": 5,
   "metadata": {},
   "outputs": [],
   "source": [
    "# instantiate vessels\n",
    "handysize = objects.Vessel(**defaults.handysize_data)\n",
    "handymax = objects.Vessel(**defaults.handymax_data)\n",
    "panamax = objects.Vessel(**defaults.panamax_data)\n",
    "\n",
    "vessels = [handysize, handymax, panamax] "
   ]
  },
  {
   "cell_type": "markdown",
   "metadata": {},
   "source": [
    "# 1. Instatiate terminal system"
   ]
  },
  {
   "cell_type": "code",
   "execution_count": 6,
   "metadata": {},
   "outputs": [],
   "source": [
    "Terminal = system.System(startyear = startyear, lifecycle = lifecycle, elements = demand + vessels, debug=False,\n",
    "                         crane_type_defaults=defaults.mobile_crane_data, storage_type_defaults=defaults.silo_data)"
   ]
  },
  {
   "cell_type": "markdown",
   "metadata": {},
   "source": [
    "# 2. Start simulation\n",
    "Develop terminal given the throughput scenario and investment triggers implemented"
   ]
  },
  {
   "cell_type": "code",
   "execution_count": 7,
   "metadata": {
    "scrolled": false
   },
   "outputs": [
    {
     "name": "stdout",
     "output_type": "stream",
     "text": [
      "quay_conveyor\n",
      "hinterland_conveyor\n",
      "quay_conveyor\n",
      "hinterland_conveyor\n",
      "quay_conveyor\n",
      "hinterland_conveyor\n",
      "quay_conveyor\n",
      "quay_conveyor\n",
      "quay_conveyor\n",
      "quay_conveyor\n",
      "quay_conveyor\n",
      "quay_conveyor\n",
      "hinterland_conveyor\n",
      "quay_conveyor\n",
      "hinterland_conveyor\n",
      "quay_conveyor\n",
      "hinterland_conveyor\n",
      "quay_conveyor\n",
      "silo\n",
      "silo\n",
      "quay_conveyor\n",
      "hinterland_conveyor\n",
      "quay_conveyor\n",
      "hinterland_conveyor\n",
      "quay_conveyor\n",
      "hinterland_conveyor\n",
      "hinterland_conveyor\n",
      "hinterland_conveyor\n",
      "hinterland_conveyor\n",
      "hinterland_conveyor\n",
      "hinterland_conveyor\n",
      "hinterland_conveyor\n",
      "quay_conveyor\n",
      "quay_conveyor\n",
      "quay_conveyor\n",
      "quay_conveyor\n",
      "quay_conveyor\n",
      "quay_conveyor\n",
      "hinterland_conveyor\n",
      "quay_conveyor\n",
      "hinterland_conveyor\n",
      "quay_conveyor\n",
      "hinterland_conveyor\n",
      "quay_conveyor\n",
      "silo\n",
      "silo\n",
      "quay_conveyor\n",
      "hinterland_conveyor\n",
      "quay_conveyor\n",
      "hinterland_conveyor\n",
      "quay_conveyor\n",
      "hinterland_conveyor\n",
      "hinterland_conveyor\n",
      "hinterland_conveyor\n",
      "hinterland_conveyor\n",
      "hinterland_conveyor\n",
      "hinterland_conveyor\n",
      "hinterland_conveyor\n",
      "quay_conveyor\n",
      "quay_conveyor\n",
      "quay_conveyor\n",
      "quay_conveyor\n",
      "quay_conveyor\n",
      "quay_conveyor\n",
      "hinterland_conveyor\n",
      "quay_conveyor\n",
      "hinterland_conveyor\n",
      "quay_conveyor\n",
      "hinterland_conveyor\n",
      "quay_conveyor\n",
      "silo\n",
      "silo\n",
      "quay_conveyor\n",
      "hinterland_conveyor\n",
      "quay_conveyor\n",
      "hinterland_conveyor\n",
      "quay_conveyor\n",
      "hinterland_conveyor\n",
      "hinterland_conveyor\n",
      "hinterland_conveyor\n",
      "hinterland_conveyor\n",
      "hinterland_conveyor\n",
      "hinterland_conveyor\n",
      "hinterland_conveyor\n",
      "quay_conveyor\n",
      "quay_conveyor\n",
      "quay_conveyor\n",
      "quay_conveyor\n",
      "quay_conveyor\n",
      "quay_conveyor\n",
      "hinterland_conveyor\n",
      "quay_conveyor\n",
      "hinterland_conveyor\n",
      "quay_conveyor\n",
      "hinterland_conveyor\n",
      "quay_conveyor\n",
      "silo\n",
      "silo\n",
      "quay_conveyor\n",
      "hinterland_conveyor\n",
      "quay_conveyor\n",
      "hinterland_conveyor\n",
      "quay_conveyor\n",
      "hinterland_conveyor\n",
      "hinterland_conveyor\n",
      "hinterland_conveyor\n",
      "hinterland_conveyor\n",
      "hinterland_conveyor\n",
      "hinterland_conveyor\n",
      "hinterland_conveyor\n",
      "quay_conveyor\n",
      "quay_conveyor\n",
      "quay_conveyor\n",
      "quay_conveyor\n",
      "quay_conveyor\n",
      "quay_conveyor\n",
      "hinterland_conveyor\n",
      "quay_conveyor\n",
      "hinterland_conveyor\n",
      "quay_conveyor\n",
      "hinterland_conveyor\n",
      "quay_conveyor\n",
      "silo\n",
      "silo\n",
      "quay_conveyor\n",
      "hinterland_conveyor\n",
      "quay_conveyor\n",
      "hinterland_conveyor\n",
      "quay_conveyor\n",
      "hinterland_conveyor\n",
      "hinterland_conveyor\n",
      "hinterland_conveyor\n",
      "hinterland_conveyor\n",
      "hinterland_conveyor\n",
      "hinterland_conveyor\n",
      "hinterland_conveyor\n",
      "quay_conveyor\n",
      "quay_conveyor\n",
      "quay_conveyor\n",
      "quay_conveyor\n",
      "quay_conveyor\n",
      "quay_conveyor\n",
      "hinterland_conveyor\n",
      "quay_conveyor\n",
      "hinterland_conveyor\n",
      "quay_conveyor\n",
      "hinterland_conveyor\n",
      "quay_conveyor\n",
      "silo\n",
      "silo\n",
      "quay_conveyor\n",
      "hinterland_conveyor\n",
      "quay_conveyor\n",
      "hinterland_conveyor\n",
      "quay_conveyor\n",
      "hinterland_conveyor\n",
      "hinterland_conveyor\n",
      "hinterland_conveyor\n",
      "hinterland_conveyor\n",
      "hinterland_conveyor\n",
      "hinterland_conveyor\n",
      "hinterland_conveyor\n"
     ]
    }
   ],
   "source": [
    "Terminal.simulate()"
   ]
  },
  {
   "cell_type": "markdown",
   "metadata": {},
   "source": [
    "## Report all elements"
   ]
  },
  {
   "cell_type": "code",
   "execution_count": 8,
   "metadata": {
    "scrolled": false
   },
   "outputs": [],
   "source": [
    "if False: \n",
    "    for element in Terminal.elements:\n",
    "        print(\"\")\n",
    "        print(element.name)\n",
    "        print(\"\")\n",
    "        print(element.__dict__)"
   ]
  },
  {
   "cell_type": "code",
   "execution_count": 9,
   "metadata": {},
   "outputs": [
    {
     "data": {
      "image/png": "[encoded data removed]",
      "text/plain": [
       "<Figure size 1440x720 with 1 Axes>"
      ]
     },
     "metadata": {},
     "output_type": "display_data"
    }
   ],
   "source": [
    "Terminal.terminal_elements_plot()"
   ]
  },
  {
   "cell_type": "code",
   "execution_count": 10,
   "metadata": {},
   "outputs": [
    {
     "data": {
      "image/png": "[encoded data removed]",
      "text/plain": [
       "<Figure size 1152x504 with 1 Axes>"
      ]
     },
     "metadata": {},
     "output_type": "display_data"
    }
   ],
   "source": [
    "Terminal.cashflow_plot()"
   ]
  },
  {
   "cell_type": "markdown",
   "metadata": {},
   "source": [
    "## SandBox"
   ]
  },
  {
   "cell_type": "code",
   "execution_count": null,
   "metadata": {},
   "outputs": [],
   "source": [
    "Terminal.NPV()"
   ]
  }
 ],
 "metadata": {
  "kernelspec": {
   "display_name": "Python 3",
   "language": "python",
   "name": "python3"
  },
  "language_info": {
   "codemirror_mode": {
    "name": "ipython",
    "version": 3
   },
   "file_extension": ".py",
   "mimetype": "text/x-python",
   "name": "python",
   "nbconvert_exporter": "python",
   "pygments_lexer": "ipython3",
   "version": "3.6.3"
  }
 },
 "nbformat": 4,
 "nbformat_minor": 2
}
