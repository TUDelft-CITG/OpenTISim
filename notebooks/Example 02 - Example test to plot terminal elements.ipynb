{
 "cells": [
  {
   "cell_type": "code",
   "execution_count": 1,
   "metadata": {},
   "outputs": [],
   "source": [
    "import numpy as np\n",
    "import pandas as pd\n",
    "\n",
    "import matplotlib.pyplot as plt\n",
    "\n",
    "from terminal_optimization import objects\n",
    "from terminal_optimization import defaults\n",
    "from terminal_optimization import system"
   ]
  },
  {
   "cell_type": "markdown",
   "metadata": {},
   "source": [
    "# 0. Prepare inputs"
   ]
  },
  {
   "cell_type": "markdown",
   "metadata": {},
   "source": [
    "## 0.1 Generate demand forecast scenario"
   ]
  },
  {
   "cell_type": "code",
   "execution_count": 2,
   "metadata": {},
   "outputs": [],
   "source": [
    "years = list(range(2019, 2020+8))\n",
    "\n",
    "demand = []\n",
    "for year in years:\n",
    "    if year < 2023:\n",
    "        demand.append(250_000)\n",
    "    else:\n",
    "        demand.append(500_000)\n",
    "\n",
    "scenario_data={'year': years, 'volume': demand}\n",
    "\n",
    "# instantiate a commodity object\n",
    "maize = objects.Commodity(**defaults.maize_data)\n",
    "maize.handysize_perc = 100\n",
    "maize.handymax_perc = 0\n",
    "maize.panamax_perc = 0\n",
    "wheat = objects.Commodity(**defaults.wheat_data)\n",
    "soybeans = objects.Commodity(**defaults.soybean_data)\n",
    "\n",
    "maize.scenario_data = pd.DataFrame(data=scenario_data)\n",
    "wheat.scenario_data = pd.DataFrame(data=scenario_data)\n",
    "soybeans.scenario_data = pd.DataFrame(data=scenario_data)\n",
    "\n",
    "demand = [maize, wheat, soybeans]\n",
    "\n",
    "# plot scenarios \n",
    "if False:\n",
    "    maize.plot_demand()\n",
    "    wheat.plot_demand()\n",
    "    soybeans.plot_demand()"
   ]
  },
  {
   "cell_type": "markdown",
   "metadata": {},
   "source": [
    "## 0.2 Generate vessels"
   ]
  },
  {
   "cell_type": "code",
   "execution_count": 3,
   "metadata": {},
   "outputs": [],
   "source": [
    "# instantiate vessels\n",
    "handysize = objects.Vessel(**defaults.handysize_data)\n",
    "handymax = objects.Vessel(**defaults.handymax_data)\n",
    "panamax = objects.Vessel(**defaults.panamax_data)\n",
    "\n",
    "vessels = [handysize, handymax, panamax] "
   ]
  },
  {
   "cell_type": "markdown",
   "metadata": {},
   "source": [
    "# 1. Instatiate terminal system"
   ]
  },
  {
   "cell_type": "code",
   "execution_count": 4,
   "metadata": {},
   "outputs": [],
   "source": [
    "# instantiate System object\n",
    "Terminal = system.System(startyear = 2020, lifecycle = 7, elements = demand + vessels, \n",
    "                         crane_type_defaults=defaults.mobile_crane_data)"
   ]
  },
  {
   "cell_type": "markdown",
   "metadata": {},
   "source": [
    "# 2. Start simulation\n",
    "Develop terminal given the throughput scenario and investment triggers implemented"
   ]
  },
  {
   "cell_type": "code",
   "execution_count": 5,
   "metadata": {
    "scrolled": false
   },
   "outputs": [
    {
     "name": "stdout",
     "output_type": "stream",
     "text": [
      "\n",
      "Simulate year: 2020\n",
      "  Total vessel calls: 18\n",
      "     Handysize calls: 11\n",
      "     Handymax calls: 3\n",
      "     Panamax calls: 4\n",
      "  Total cargo volume: 750000\n",
      "     a total of 0 [] is online; 0 total planned\n",
      "     a total of 0 [] is online; 0 total planned\n",
      "     a total of 0 [] is online; 0 total planned\n",
      "     a total of 0 [] is online; 0 total planned\n",
      "\n",
      "  Start analysis:\n",
      "     Berth occupancy (@ start of year): inf\n",
      "  *** add Berth to elements\n",
      "     Berth occupancy (after adding berth): inf\n",
      "  *** add Quay to elements\n",
      "     Berth occupancy (after adding quay): inf\n",
      "  *** add Harbour crane to elements\n",
      "     Berth occupancy (after adding crane): 0.9397996357012751\n",
      "  *** add Harbour crane to elements\n",
      "     Berth occupancy (after adding crane): 0.47566904861986836\n",
      "  *** add Harbour crane to elements\n",
      "     Berth occupancy (after adding crane): 0.320958852926066\n",
      "\n",
      "Simulate year: 2021\n",
      "  Total vessel calls: 18\n",
      "     Handysize calls: 11\n",
      "     Handymax calls: 3\n",
      "     Panamax calls: 4\n",
      "  Total cargo volume: 750000\n",
      "     a total of 1 Berth_01 is online; 1 total planned\n",
      "     a total of 0 Quay_01 is online; 1 total planned\n",
      "     a total of 0 Mobile_crane_01 is online; 3 total planned\n",
      "     a total of 0 [] is online; 0 total planned\n",
      "\n",
      "  Start analysis:\n",
      "     Berth occupancy (@ start of year): 0.320958852926066\n",
      "\n",
      "Simulate year: 2022\n",
      "  Total vessel calls: 18\n",
      "     Handysize calls: 11\n",
      "     Handymax calls: 3\n",
      "     Panamax calls: 4\n",
      "  Total cargo volume: 750000\n",
      "     a total of 1 Berth_01 is online; 1 total planned\n",
      "     a total of 1 Quay_01 is online; 1 total planned\n",
      "     a total of 3 Mobile_crane_01 is online; 3 total planned\n",
      "     a total of 0 [] is online; 0 total planned\n",
      "\n",
      "  Start analysis:\n",
      "     Berth occupancy (@ start of year): 0.320958852926066\n",
      "\n",
      "Simulate year: 2023\n",
      "  Total vessel calls: 35\n",
      "     Handysize calls: 22\n",
      "     Handymax calls: 5\n",
      "     Panamax calls: 8\n",
      "  Total cargo volume: 1500000\n",
      "     a total of 1 Berth_01 is online; 1 total planned\n",
      "     a total of 1 Quay_01 is online; 1 total planned\n",
      "     a total of 3 Mobile_crane_01 is online; 3 total planned\n",
      "     a total of 0 [] is online; 0 total planned\n",
      "\n",
      "  Start analysis:\n",
      "     Berth occupancy (@ start of year): 0.6218162782370432\n",
      "  *** add Berth to elements\n",
      "     Berth occupancy (after adding berth): 0.6218162782370432\n",
      "  *** add Quay to elements\n",
      "     Berth occupancy (after adding quay): 0.6218162782370432\n",
      "  *** add Harbour crane to elements\n",
      "     Berth occupancy (after adding crane): 0.47197118303675684\n",
      "  *** add Harbour crane to elements\n",
      "     Berth occupancy (after adding crane): 0.38206412591658495\n",
      "\n",
      "Simulate year: 2024\n",
      "  Total vessel calls: 35\n",
      "     Handysize calls: 22\n",
      "     Handymax calls: 5\n",
      "     Panamax calls: 8\n",
      "  Total cargo volume: 1500000\n",
      "     a total of 2 Berth_01 is online; 2 total planned\n",
      "     a total of 1 Quay_01 is online; 2 total planned\n",
      "     a total of 3 Mobile_crane_01 is online; 5 total planned\n",
      "     a total of 0 [] is online; 0 total planned\n",
      "\n",
      "  Start analysis:\n",
      "     Berth occupancy (@ start of year): 0.38206412591658495\n",
      "\n",
      "Simulate year: 2025\n",
      "  Total vessel calls: 35\n",
      "     Handysize calls: 22\n",
      "     Handymax calls: 5\n",
      "     Panamax calls: 8\n",
      "  Total cargo volume: 1500000\n",
      "     a total of 2 Berth_01 is online; 2 total planned\n",
      "     a total of 2 Quay_01 is online; 2 total planned\n",
      "     a total of 5 Mobile_crane_01 is online; 5 total planned\n",
      "     a total of 0 [] is online; 0 total planned\n",
      "\n",
      "  Start analysis:\n",
      "     Berth occupancy (@ start of year): 0.38206412591658495\n",
      "\n",
      "Simulate year: 2026\n",
      "  Total vessel calls: 35\n",
      "     Handysize calls: 22\n",
      "     Handymax calls: 5\n",
      "     Panamax calls: 8\n",
      "  Total cargo volume: 1500000\n",
      "     a total of 2 Berth_01 is online; 2 total planned\n",
      "     a total of 2 Quay_01 is online; 2 total planned\n",
      "     a total of 5 Mobile_crane_01 is online; 5 total planned\n",
      "     a total of 0 [] is online; 0 total planned\n",
      "\n",
      "  Start analysis:\n",
      "     Berth occupancy (@ start of year): 0.38206412591658495\n"
     ]
    }
   ],
   "source": [
    "Terminal.simulate()"
   ]
  },
  {
   "cell_type": "markdown",
   "metadata": {},
   "source": [
    "## Report all elements"
   ]
  },
  {
   "cell_type": "code",
   "execution_count": 6,
   "metadata": {
    "scrolled": false
   },
   "outputs": [],
   "source": [
    "if False:\n",
    "    for element in Terminal.elements:\n",
    "        print(\"\")\n",
    "        print(element.name)\n",
    "        print(\"\")\n",
    "        print(element.__dict__)"
   ]
  },
  {
   "cell_type": "code",
   "execution_count": 7,
   "metadata": {},
   "outputs": [
    {
     "data": {
      "image/png": "[encoded data removed]",
      "text/plain": [
       "<Figure size 432x288 with 1 Axes>"
      ]
     },
     "metadata": {},
     "output_type": "display_data"
    }
   ],
   "source": [
    "Terminal.terminal_elements_plot()"
   ]
  },
  {
   "cell_type": "markdown",
   "metadata": {},
   "source": [
    "## Example of a cash flow plot (NB: dummy values for now)"
   ]
  },
  {
   "cell_type": "code",
   "execution_count": 8,
   "metadata": {
    "scrolled": false
   },
   "outputs": [
    {
     "data": {
      "image/png": "[encoded data removed]",
      "text/plain": [
       "<Figure size 432x288 with 1 Axes>"
      ]
     },
     "metadata": {},
     "output_type": "display_data"
    }
   ],
   "source": [
    "# to plot the cashflow the following command should then work\n",
    "Terminal.cashflow_plot()"
   ]
  }
 ],
 "metadata": {
  "kernelspec": {
   "display_name": "Python 3",
   "language": "python",
   "name": "python3"
  },
  "language_info": {
   "codemirror_mode": {
    "name": "ipython",
    "version": 3
   },
   "file_extension": ".py",
   "mimetype": "text/x-python",
   "name": "python",
   "nbconvert_exporter": "python",
   "pygments_lexer": "ipython3",
   "version": "3.6.3"
  }
 },
 "nbformat": 4,
 "nbformat_minor": 2
}
