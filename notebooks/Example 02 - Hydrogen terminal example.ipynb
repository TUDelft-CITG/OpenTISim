{
 "cells": [
  {
   "cell_type": "code",
   "execution_count": 1,
   "metadata": {},
   "outputs": [],
   "source": [
    "import numpy as np\n",
    "import pandas as pd\n",
    "\n",
    "import matplotlib.pyplot as plt\n",
    "\n",
    "from terminal_optimization import hydrogen_objects\n",
    "from terminal_optimization import hydrogen_defaults\n",
    "from terminal_optimization import hydrogen_system"
   ]
  },
  {
   "cell_type": "markdown",
   "metadata": {},
   "source": [
    "# 0. Prepare inputs"
   ]
  },
  {
   "cell_type": "code",
   "execution_count": 2,
   "metadata": {},
   "outputs": [],
   "source": [
    "startyear = 2018\n",
    "lifecycle = 10"
   ]
  },
  {
   "cell_type": "markdown",
   "metadata": {},
   "source": [
    "## 0.1 Generate demand forecast scenario"
   ]
  },
  {
   "cell_type": "code",
   "execution_count": 3,
   "metadata": {},
   "outputs": [],
   "source": [
    "years = list(range(startyear, startyear+lifecycle))\n",
    "\n",
    "demand = []\n",
    "for year in years:\n",
    "    if year < 2023:\n",
    "        demand.append(750_000)\n",
    "    else:\n",
    "        demand.append(1_600_000)\n",
    "\n",
    "scenario_data={'year': years, 'volume': demand}\n",
    "\n",
    "# instantiate a commodity objects\n",
    "# maize\n",
    "# hydrogen_defaults.lhydrogen_data['smallhydrogen_perc'] = 50\n",
    "# hydrogen_defaults.lhydrogen_data['largehydrogen_perc'] = 50\n",
    "# hydrogen_defaults.lhydrogen_data['smallammonia_perc'] = 0\n",
    "# hydrogen_defaults.lhydrogen_data['largeammonia_perc'] = 0\n",
    "# hydrogen_defaults.lhydrogen_data['handysize_perc'] = 0\n",
    "# hydrogen_defaults.lhydrogen_data['panamax_perc'] = 0\n",
    "# hydrogen_defaults.lhydrogen_data['vlcc_perc'] = 0\n",
    "# hydrogen_defaults.lhydrogen_data['handling_fee'] = 9.8 # example Wijnand\n",
    "# hydrogen_defaults.lhydrogen_data['historic_data'] = []\n",
    "lhydrogen = hydrogen_objects.Commodity(**hydrogen_defaults.lhydrogen_data)\n",
    "lhydrogen.scenario_data = pd.DataFrame(data=scenario_data)\n",
    "\n",
    "# wheat\n",
    "hydrogen_defaults.ammonia_data['historic_data'] = []\n",
    "hydrogen_defaults.ammonia_data['scenario_data'] = []\n",
    "ammonia = hydrogen_objects.Commodity(**hydrogen_defaults.ammonia_data)\n",
    "\n",
    "# soybeans\n",
    "hydrogen_defaults.MCH_data['historic_data'] = []\n",
    "hydrogen_defaults.MCH_data['scenario_data'] = []\n",
    "MCH = hydrogen_objects.Commodity(**hydrogen_defaults.MCH_data)\n",
    "\n",
    "# combine\n",
    "demand = [lhydrogen, ammonia, MCH]\n",
    "\n",
    "# plot scenarios \n",
    "if False:\n",
    "    lhydrogen.plot_demand()\n",
    "    ammonia.plot_demand()\n",
    "    MCH.plot_demand()"
   ]
  },
  {
   "cell_type": "markdown",
   "metadata": {},
   "source": [
    "## 0.2 Generate vessels"
   ]
  },
  {
   "cell_type": "code",
   "execution_count": 4,
   "metadata": {},
   "outputs": [],
   "source": [
    "# instantiate vessels\n",
    "Smallhydrogen = hydrogen_objects.Vessel(**hydrogen_defaults.smallhydrogen_data)\n",
    "Largehydrogen = hydrogen_objects.Vessel(**hydrogen_defaults.largehydrogen_data)\n",
    "Smallammonia = hydrogen_objects.Vessel(**hydrogen_defaults.smallammonia_data)\n",
    "Largeammonia = hydrogen_objects.Vessel(**hydrogen_defaults.largeammonia_data)\n",
    "Handysize = hydrogen_objects.Vessel(**hydrogen_defaults.handysize_data)\n",
    "Panamax = hydrogen_objects.Vessel(**hydrogen_defaults.panamax_data)\n",
    "VLCC = hydrogen_objects.Vessel(**hydrogen_defaults.vlcc_data)\n",
    "\n",
    "\n",
    "vessels = [Smallhydrogen, Largehydrogen, Smallammonia, Largeammonia, Handysize, Panamax, VLCC] "
   ]
  },
  {
   "cell_type": "markdown",
   "metadata": {},
   "source": [
    "# 1. Instatiate terminal system"
   ]
  },
  {
   "cell_type": "code",
   "execution_count": 5,
   "metadata": {},
   "outputs": [],
   "source": [
    "Terminal = hydrogen_system.System(startyear = startyear, \n",
    "                         lifecycle = lifecycle, \n",
    "                         elements = demand + vessels, \n",
    "                         operational_hours = 5840,   # example Wijnand\n",
    "                         debug=True,\n",
    "                         crane_type_defaults=hydrogen_defaults.mobile_crane_data, \n",
    "                         storage_type_defaults=hydrogen_defaults.storage_lh2_data)"
   ]
  },
  {
   "cell_type": "markdown",
   "metadata": {},
   "source": [
    "# 2. Start simulation\n",
    "Develop terminal given the throughput scenario and investment triggers implemented"
   ]
  },
  {
   "cell_type": "code",
   "execution_count": 6,
   "metadata": {
    "scrolled": false
   },
   "outputs": [
    {
     "name": "stdout",
     "output_type": "stream",
     "text": [
      "\n",
      "Simulate year: 2018\n",
      "  Total vessel calls: 41\n",
      "     Small Hydrogen  calls: 23\n",
      "     Large Hydrogen calls: 18\n",
      "     Small ammonia calls: 0\n",
      "     Large ammonia calls: 0\n",
      "     Handysize calls: 0\n",
      "     Panamax calls: 0\n",
      "     VLCC calls: 0\n",
      "  Total cargo volume: 750000\n",
      "     a total of 0 [] is online; 0 total planned\n",
      "     a total of 0 [] is online; 0 total planned\n",
      "     a total of 0 [] is online; 0 total planned\n",
      "     a total of 0 [] is online; 0 total planned\n",
      "     a total of 0 [] is online; 0 total planned\n",
      "     a total of 0 [] is online; 0 total planned\n",
      "     a total of 0 [] is online; 0 total planned\n",
      "     a total of 0 [] is online; 0 total planned\n",
      "\n",
      "  Start analysis:\n",
      "     Berth occupancy planned (@ start of year): inf\n",
      "     Berth occupancy online (@ start of year): inf\n",
      "     Crane occupancy planned (@ start of year): inf\n",
      "     Crane occupancy online (@ start of year): inf\n",
      "     waiting time factor (@ start of year): inf\n",
      "     waiting time occupancy (@ start of year): inf\n",
      "  *** add Berth to elements\n",
      "     Berth occupancy planned (after adding berth): inf\n",
      "     Berth occupancy online (after adding berth): inf\n",
      "  *** add jetty to elements\n",
      "     Berth occupancy planned (after adding jetty): inf\n",
      "     Berth occupancy online (after adding jetty): inf\n",
      "  *** add Harbour crane to elements\n",
      "     Berth occupancy planned (after adding crane): 0.7415497043191857\n",
      "     Berth occupancy online (after adding crane): inf\n",
      "  *** add Harbour crane to elements\n",
      "     Berth occupancy planned (after adding crane): 0.38130567407740107\n",
      "     Berth occupancy online (after adding crane): inf\n",
      "     a total of 0 ton of jetty pipeline service capacity is online; 0 ton total planned\n",
      "  *** add jetty pipeline to elements\n",
      "  *** add jetty pipeline to elements\n",
      "  *** add jetty pipeline to elements\n",
      "     a total of 0 ton of pipeline_jetty service capacity is online; 1200 ton total planned\n",
      "     a total of 0 ton of HydrogenTank storage capacity is online; 0 ton total planned\n",
      "  *** add storage to elements\n",
      "     a total of 0 ton of storage capacity is online; 60000 ton total planned\n",
      "  *** add storage to elements\n",
      "     a total of 0 ton of storage capacity is online; 120000 ton total planned\n",
      "  *** add storage to elements\n",
      "     a total of 0 ton of storage capacity is online; 180000 ton total planned\n",
      "  *** add storage to elements\n",
      "     a total of 0 ton of storage capacity is online; 240000 ton total planned\n",
      "     a total of 0 ton of pipeline hinterland service capacity is online; 0 ton total planned\n",
      "     a total of 0 ton of pipeline hinterland service capacity is online; 0 ton total planned\n",
      "     Station occupancy planned (@ start of year): inf\n",
      "     Station occupancy online (@ start of year): inf\n",
      "     Number of trains (@start of year): 0.0\n",
      "  *** add station to elements\n",
      "\n",
      "Simulate year: 2019\n",
      "  Total vessel calls: 41\n",
      "     Small Hydrogen  calls: 23\n",
      "     Large Hydrogen calls: 18\n",
      "     Small ammonia calls: 0\n",
      "     Large ammonia calls: 0\n",
      "     Handysize calls: 0\n",
      "     Panamax calls: 0\n",
      "     VLCC calls: 0\n",
      "  Total cargo volume: 750000\n",
      "     a total of 1 Berth_01 is online; 1 total planned\n",
      "     a total of 0 Quay_01 is online; 1 total planned\n",
      "     a total of 0 Mobile_crane_01 is online; 2 total planned\n",
      "     a total of 0 [] is online; 0 total planned\n",
      "     a total of 0 jetty_pipeline_01 is online; 3 total planned\n",
      "     a total of 0 HTank_01 is online; 4 total planned\n",
      "     a total of 0 [] is online; 0 total planned\n",
      "     a total of 0 Hinterland_station_01 is online; 1 total planned\n",
      "\n",
      "  Start analysis:\n",
      "     Berth occupancy planned (@ start of year): 0.38130567407740107\n",
      "     Berth occupancy online (@ start of year): inf\n",
      "     Crane occupancy planned (@ start of year): 0.3602440302417846\n",
      "     Crane occupancy online (@ start of year): inf\n",
      "     waiting time factor (@ start of year): 0\n",
      "     waiting time occupancy (@ start of year): nan\n",
      "     a total of 0 ton of jetty pipeline service capacity is online; 1200 ton total planned\n",
      "     a total of 0 ton of pipeline_jetty service capacity is online; 1200 ton total planned\n",
      "     a total of 0 ton of HydrogenTank storage capacity is online; 240000 ton total planned\n",
      "     a total of 0 ton of pipeline hinterland service capacity is online; 0 ton total planned\n",
      "  *** add Hinter Pipeline to elements\n",
      "  *** add Hinter Pipeline to elements\n",
      "     a total of 0 ton of pipeline hinterland service capacity is online; 800 ton total planned\n",
      "     Station occupancy planned (@ start of year): 0.0\n",
      "     Station occupancy online (@ start of year): inf\n",
      "     Number of trains (@start of year): 0.0\n",
      "\n",
      "Simulate year: 2020\n",
      "  Total vessel calls: 41\n",
      "     Small Hydrogen  calls: 23\n",
      "     Large Hydrogen calls: 18\n",
      "     Small ammonia calls: 0\n",
      "     Large ammonia calls: 0\n",
      "     Handysize calls: 0\n",
      "     Panamax calls: 0\n",
      "     VLCC calls: 0\n",
      "  Total cargo volume: 750000\n",
      "     a total of 1 Berth_01 is online; 1 total planned\n",
      "     a total of 1 Quay_01 is online; 1 total planned\n",
      "     a total of 2 Mobile_crane_01 is online; 2 total planned\n",
      "     a total of 0 [] is online; 0 total planned\n",
      "     a total of 3 jetty_pipeline_01 is online; 3 total planned\n",
      "     a total of 4 HTank_01 is online; 4 total planned\n",
      "     a total of 2 hinterland_pipeline_01 is online; 2 total planned\n",
      "     a total of 1 Hinterland_station_01 is online; 1 total planned\n",
      "\n",
      "  Start analysis:\n",
      "     Berth occupancy planned (@ start of year): 0.38130567407740107\n",
      "     Berth occupancy online (@ start of year): 0.38130567407740107\n",
      "     Crane occupancy planned (@ start of year): 0.3602440302417846\n",
      "     Crane occupancy online (@ start of year): 0.3602440302417846\n",
      "     waiting time factor (@ start of year): 0.2827516113948121\n",
      "     waiting time occupancy (@ start of year): 0.10185958004622601\n",
      "     a total of 1200 ton of jetty pipeline service capacity is online; 1200 ton total planned\n",
      "     a total of 1200 ton of pipeline_jetty service capacity is online; 1200 ton total planned\n",
      "     a total of 240000 ton of HydrogenTank storage capacity is online; 240000 ton total planned\n",
      "     a total of 800 ton of pipeline hinterland service capacity is online; 800 ton total planned\n",
      "     a total of 800 ton of pipeline hinterland service capacity is online; 800 ton total planned\n",
      "     Station occupancy planned (@ start of year): 0.23842552453615398\n",
      "     Station occupancy online (@ start of year): 0.23842552453615398\n",
      "     Number of trains (@start of year): 213.88888888888889\n",
      "\n",
      "Simulate year: 2021\n",
      "  Total vessel calls: 41\n",
      "     Small Hydrogen  calls: 23\n",
      "     Large Hydrogen calls: 18\n",
      "     Small ammonia calls: 0\n",
      "     Large ammonia calls: 0\n",
      "     Handysize calls: 0\n",
      "     Panamax calls: 0\n",
      "     VLCC calls: 0\n",
      "  Total cargo volume: 750000\n",
      "     a total of 1 Berth_01 is online; 1 total planned\n",
      "     a total of 1 Quay_01 is online; 1 total planned\n",
      "     a total of 2 Mobile_crane_01 is online; 2 total planned\n",
      "     a total of 0 [] is online; 0 total planned\n",
      "     a total of 3 jetty_pipeline_01 is online; 3 total planned\n",
      "     a total of 4 HTank_01 is online; 4 total planned\n",
      "     a total of 2 hinterland_pipeline_01 is online; 2 total planned\n",
      "     a total of 1 Hinterland_station_01 is online; 1 total planned\n",
      "\n",
      "  Start analysis:\n",
      "     Berth occupancy planned (@ start of year): 0.38130567407740107\n",
      "     Berth occupancy online (@ start of year): 0.38130567407740107\n",
      "     Crane occupancy planned (@ start of year): 0.3602440302417846\n",
      "     Crane occupancy online (@ start of year): 0.3602440302417846\n",
      "     waiting time factor (@ start of year): 0.2827516113948121\n",
      "     waiting time occupancy (@ start of year): 0.10185958004622601\n",
      "     a total of 1200 ton of jetty pipeline service capacity is online; 1200 ton total planned\n",
      "     a total of 1200 ton of pipeline_jetty service capacity is online; 1200 ton total planned\n",
      "     a total of 240000 ton of HydrogenTank storage capacity is online; 240000 ton total planned\n",
      "     a total of 800 ton of pipeline hinterland service capacity is online; 800 ton total planned\n",
      "     a total of 800 ton of pipeline hinterland service capacity is online; 800 ton total planned\n",
      "     Station occupancy planned (@ start of year): 0.23842552453615398\n",
      "     Station occupancy online (@ start of year): 0.23842552453615398\n",
      "     Number of trains (@start of year): 213.88888888888889\n",
      "\n",
      "Simulate year: 2022\n",
      "  Total vessel calls: 41\n",
      "     Small Hydrogen  calls: 23\n",
      "     Large Hydrogen calls: 18\n",
      "     Small ammonia calls: 0\n",
      "     Large ammonia calls: 0\n",
      "     Handysize calls: 0\n",
      "     Panamax calls: 0\n",
      "     VLCC calls: 0\n",
      "  Total cargo volume: 750000\n",
      "     a total of 1 Berth_01 is online; 1 total planned\n",
      "     a total of 1 Quay_01 is online; 1 total planned\n",
      "     a total of 2 Mobile_crane_01 is online; 2 total planned\n",
      "     a total of 0 [] is online; 0 total planned\n",
      "     a total of 3 jetty_pipeline_01 is online; 3 total planned\n",
      "     a total of 4 HTank_01 is online; 4 total planned\n",
      "     a total of 2 hinterland_pipeline_01 is online; 2 total planned\n",
      "     a total of 1 Hinterland_station_01 is online; 1 total planned\n",
      "\n",
      "  Start analysis:\n",
      "     Berth occupancy planned (@ start of year): 0.38130567407740107\n",
      "     Berth occupancy online (@ start of year): 0.38130567407740107\n",
      "     Crane occupancy planned (@ start of year): 0.3602440302417846\n",
      "     Crane occupancy online (@ start of year): 0.3602440302417846\n",
      "     waiting time factor (@ start of year): 0.2827516113948121\n",
      "     waiting time occupancy (@ start of year): 0.10185958004622601\n",
      "     a total of 1200 ton of jetty pipeline service capacity is online; 1200 ton total planned\n",
      "     a total of 1200 ton of pipeline_jetty service capacity is online; 1200 ton total planned\n",
      "     a total of 240000 ton of HydrogenTank storage capacity is online; 240000 ton total planned\n",
      "     a total of 800 ton of pipeline hinterland service capacity is online; 800 ton total planned\n",
      "     a total of 800 ton of pipeline hinterland service capacity is online; 800 ton total planned\n",
      "     Station occupancy planned (@ start of year): 0.23842552453615398\n",
      "     Station occupancy online (@ start of year): 0.23842552453615398\n",
      "     Number of trains (@start of year): 213.88888888888889\n",
      "\n",
      "Simulate year: 2023\n",
      "  Total vessel calls: 86\n",
      "     Small Hydrogen  calls: 48\n",
      "     Large Hydrogen calls: 38\n",
      "     Small ammonia calls: 0\n",
      "     Large ammonia calls: 0\n",
      "     Handysize calls: 0\n",
      "     Panamax calls: 0\n",
      "     VLCC calls: 0\n",
      "  Total cargo volume: 1600000\n",
      "     a total of 1 Berth_01 is online; 1 total planned\n",
      "     a total of 1 Quay_01 is online; 1 total planned\n",
      "     a total of 2 Mobile_crane_01 is online; 2 total planned\n",
      "     a total of 0 [] is online; 0 total planned\n",
      "     a total of 3 jetty_pipeline_01 is online; 3 total planned\n",
      "     a total of 4 HTank_01 is online; 4 total planned\n",
      "     a total of 2 hinterland_pipeline_01 is online; 2 total planned\n",
      "     a total of 1 Hinterland_station_01 is online; 1 total planned\n",
      "\n",
      "  Start analysis:\n",
      "     Berth occupancy planned (@ start of year): 0.8020940938693016\n",
      "     Berth occupancy online (@ start of year): 0.8020940938693016\n",
      "     Crane occupancy planned (@ start of year): 0.7579160116775208\n",
      "     Crane occupancy online (@ start of year): 0.7579160116775208\n",
      "     waiting time factor (@ start of year): 2.3663497744781834\n",
      "     waiting time occupancy (@ start of year): 1.7934943833065056\n",
      "  *** add Harbour crane to elements\n",
      "     Berth occupancy planned (after adding crane): 0.5494554233101281\n",
      "     Berth occupancy online (after adding crane): 0.8020940938693016\n",
      "  *** add Berth to elements\n",
      "     Berth occupancy planned (after adding berth): 0.5494554233101281\n",
      "     Berth occupancy online (after adding berth): 0.8020940938693016\n",
      "  *** add jetty to elements\n",
      "     Berth occupancy planned (after adding jetty): 0.5494554233101281\n",
      "     Berth occupancy online (after adding jetty): 0.8020940938693016\n",
      "  *** add Harbour crane to elements\n",
      "     Berth occupancy planned (after adding crane): 0.4231360880305412\n",
      "     Berth occupancy online (after adding crane): 0.8020940938693016\n",
      "  *** add Harbour crane to elements\n",
      "     Berth occupancy planned (after adding crane): 0.34734448686278907\n",
      "     Berth occupancy online (after adding crane): 0.8020940938693016\n",
      "     a total of 1200 ton of jetty pipeline service capacity is online; 1200 ton total planned\n",
      "  *** add jetty pipeline to elements\n",
      "  *** add jetty pipeline to elements\n",
      "  *** add jetty pipeline to elements\n"
     ]
    },
    {
     "name": "stdout",
     "output_type": "stream",
     "text": [
      "  *** add jetty pipeline to elements\n",
      "     a total of 1200 ton of pipeline_jetty service capacity is online; 2800 ton total planned\n",
      "     a total of 240000 ton of HydrogenTank storage capacity is online; 240000 ton total planned\n",
      "     a total of 800 ton of pipeline hinterland service capacity is online; 800 ton total planned\n",
      "     a total of 800 ton of pipeline hinterland service capacity is online; 800 ton total planned\n",
      "     Station occupancy planned (@ start of year): 0.5016225321409993\n",
      "     Station occupancy online (@ start of year): 0.5016225321409993\n",
      "     Number of trains (@start of year): 450.0\n",
      "  *** add station to elements\n",
      "\n",
      "Simulate year: 2024\n",
      "  Total vessel calls: 86\n",
      "     Small Hydrogen  calls: 48\n",
      "     Large Hydrogen calls: 38\n",
      "     Small ammonia calls: 0\n",
      "     Large ammonia calls: 0\n",
      "     Handysize calls: 0\n",
      "     Panamax calls: 0\n",
      "     VLCC calls: 0\n",
      "  Total cargo volume: 1600000\n",
      "     a total of 2 Berth_01 is online; 2 total planned\n",
      "     a total of 1 Quay_01 is online; 2 total planned\n",
      "     a total of 3 Mobile_crane_01 is online; 5 total planned\n",
      "     a total of 0 [] is online; 0 total planned\n",
      "     a total of 4 jetty_pipeline_01 is online; 7 total planned\n",
      "     a total of 4 HTank_01 is online; 4 total planned\n",
      "     a total of 2 hinterland_pipeline_01 is online; 2 total planned\n",
      "     a total of 2 Hinterland_station_01 is online; 2 total planned\n",
      "\n",
      "  Start analysis:\n",
      "     Berth occupancy planned (@ start of year): 0.34734448686278907\n",
      "     Berth occupancy online (@ start of year): 0.5494554233101281\n",
      "     Crane occupancy planned (@ start of year): 0.30316640467100825\n",
      "     Crane occupancy online (@ start of year): 0.5052773411183472\n",
      "     waiting time factor (@ start of year): 0.14938399609709208\n",
      "     waiting time occupancy (@ start of year): 0.07548034835357224\n",
      "     a total of 1600 ton of jetty pipeline service capacity is online; 2800 ton total planned\n",
      "     a total of 1600 ton of pipeline_jetty service capacity is online; 2800 ton total planned\n",
      "     a total of 240000 ton of HydrogenTank storage capacity is online; 240000 ton total planned\n",
      "     a total of 800 ton of pipeline hinterland service capacity is online; 800 ton total planned\n",
      "  *** add Hinter Pipeline to elements\n",
      "  *** add Hinter Pipeline to elements\n",
      "     a total of 800 ton of pipeline hinterland service capacity is online; 1600 ton total planned\n",
      "     Station occupancy planned (@ start of year): 0.25081126607049964\n",
      "     Station occupancy online (@ start of year): 0.25081126607049964\n",
      "     Number of trains (@start of year): 450.0\n",
      "\n",
      "Simulate year: 2025\n",
      "  Total vessel calls: 86\n",
      "     Small Hydrogen  calls: 48\n",
      "     Large Hydrogen calls: 38\n",
      "     Small ammonia calls: 0\n",
      "     Large ammonia calls: 0\n",
      "     Handysize calls: 0\n",
      "     Panamax calls: 0\n",
      "     VLCC calls: 0\n",
      "  Total cargo volume: 1600000\n",
      "     a total of 2 Berth_01 is online; 2 total planned\n",
      "     a total of 2 Quay_01 is online; 2 total planned\n",
      "     a total of 5 Mobile_crane_01 is online; 5 total planned\n",
      "     a total of 0 [] is online; 0 total planned\n",
      "     a total of 7 jetty_pipeline_01 is online; 7 total planned\n",
      "     a total of 4 HTank_01 is online; 4 total planned\n",
      "     a total of 4 hinterland_pipeline_01 is online; 4 total planned\n",
      "     a total of 2 Hinterland_station_01 is online; 2 total planned\n",
      "\n",
      "  Start analysis:\n",
      "     Berth occupancy planned (@ start of year): 0.34734448686278907\n",
      "     Berth occupancy online (@ start of year): 0.34734448686278907\n",
      "     Crane occupancy planned (@ start of year): 0.30316640467100825\n",
      "     Crane occupancy online (@ start of year): 0.30316640467100825\n",
      "     waiting time factor (@ start of year): 0.06000827172150858\n",
      "     waiting time occupancy (@ start of year): 0.01819249198833069\n",
      "     a total of 2800 ton of jetty pipeline service capacity is online; 2800 ton total planned\n",
      "     a total of 2800 ton of pipeline_jetty service capacity is online; 2800 ton total planned\n",
      "     a total of 240000 ton of HydrogenTank storage capacity is online; 240000 ton total planned\n",
      "     a total of 1600 ton of pipeline hinterland service capacity is online; 1600 ton total planned\n",
      "     a total of 1600 ton of pipeline hinterland service capacity is online; 1600 ton total planned\n",
      "     Station occupancy planned (@ start of year): 0.2508112660704996\n",
      "     Station occupancy online (@ start of year): 0.2508112660704996\n",
      "     Number of trains (@start of year): 449.9999999999999\n",
      "\n",
      "Simulate year: 2026\n",
      "  Total vessel calls: 86\n",
      "     Small Hydrogen  calls: 48\n",
      "     Large Hydrogen calls: 38\n",
      "     Small ammonia calls: 0\n",
      "     Large ammonia calls: 0\n",
      "     Handysize calls: 0\n",
      "     Panamax calls: 0\n",
      "     VLCC calls: 0\n",
      "  Total cargo volume: 1600000\n",
      "     a total of 2 Berth_01 is online; 2 total planned\n",
      "     a total of 2 Quay_01 is online; 2 total planned\n",
      "     a total of 5 Mobile_crane_01 is online; 5 total planned\n",
      "     a total of 0 [] is online; 0 total planned\n",
      "     a total of 7 jetty_pipeline_01 is online; 7 total planned\n",
      "     a total of 4 HTank_01 is online; 4 total planned\n",
      "     a total of 4 hinterland_pipeline_01 is online; 4 total planned\n",
      "     a total of 2 Hinterland_station_01 is online; 2 total planned\n",
      "\n",
      "  Start analysis:\n",
      "     Berth occupancy planned (@ start of year): 0.34734448686278907\n",
      "     Berth occupancy online (@ start of year): 0.34734448686278907\n",
      "     Crane occupancy planned (@ start of year): 0.30316640467100825\n",
      "     Crane occupancy online (@ start of year): 0.30316640467100825\n",
      "     waiting time factor (@ start of year): 0.06000827172150858\n",
      "     waiting time occupancy (@ start of year): 0.01819249198833069\n",
      "     a total of 2800 ton of jetty pipeline service capacity is online; 2800 ton total planned\n",
      "     a total of 2800 ton of pipeline_jetty service capacity is online; 2800 ton total planned\n",
      "     a total of 240000 ton of HydrogenTank storage capacity is online; 240000 ton total planned\n",
      "     a total of 1600 ton of pipeline hinterland service capacity is online; 1600 ton total planned\n",
      "     a total of 1600 ton of pipeline hinterland service capacity is online; 1600 ton total planned\n",
      "     Station occupancy planned (@ start of year): 0.2508112660704996\n",
      "     Station occupancy online (@ start of year): 0.2508112660704996\n",
      "     Number of trains (@start of year): 449.9999999999999\n",
      "\n",
      "Simulate year: 2027\n",
      "  Total vessel calls: 86\n",
      "     Small Hydrogen  calls: 48\n",
      "     Large Hydrogen calls: 38\n",
      "     Small ammonia calls: 0\n",
      "     Large ammonia calls: 0\n",
      "     Handysize calls: 0\n",
      "     Panamax calls: 0\n",
      "     VLCC calls: 0\n",
      "  Total cargo volume: 1600000\n",
      "     a total of 2 Berth_01 is online; 2 total planned\n",
      "     a total of 2 Quay_01 is online; 2 total planned\n",
      "     a total of 5 Mobile_crane_01 is online; 5 total planned\n",
      "     a total of 0 [] is online; 0 total planned\n",
      "     a total of 7 jetty_pipeline_01 is online; 7 total planned\n",
      "     a total of 4 HTank_01 is online; 4 total planned\n",
      "     a total of 4 hinterland_pipeline_01 is online; 4 total planned\n",
      "     a total of 2 Hinterland_station_01 is online; 2 total planned\n",
      "\n",
      "  Start analysis:\n",
      "     Berth occupancy planned (@ start of year): 0.34734448686278907\n",
      "     Berth occupancy online (@ start of year): 0.34734448686278907\n",
      "     Crane occupancy planned (@ start of year): 0.30316640467100825\n",
      "     Crane occupancy online (@ start of year): 0.30316640467100825\n",
      "     waiting time factor (@ start of year): 0.06000827172150858\n",
      "     waiting time occupancy (@ start of year): 0.01819249198833069\n",
      "     a total of 2800 ton of jetty pipeline service capacity is online; 2800 ton total planned\n",
      "     a total of 2800 ton of pipeline_jetty service capacity is online; 2800 ton total planned\n",
      "     a total of 240000 ton of HydrogenTank storage capacity is online; 240000 ton total planned\n",
      "     a total of 1600 ton of pipeline hinterland service capacity is online; 1600 ton total planned\n",
      "     a total of 1600 ton of pipeline hinterland service capacity is online; 1600 ton total planned\n",
      "     Station occupancy planned (@ start of year): 0.2508112660704996\n",
      "     Station occupancy online (@ start of year): 0.2508112660704996\n",
      "     Number of trains (@start of year): 449.9999999999999\n",
      "     Revenues (demand): 7350000.000000001\n",
      "     Revenues (throughput): 0\n",
      "     Revenues (demand): 7350000.000000001\n",
      "     Revenues (throughput): 0\n",
      "     Revenues (demand): 7350000.000000001\n",
      "     Revenues (throughput): 7546000\n",
      "     Revenues (demand): 7350000.000000001\n",
      "     Revenues (throughput): 7546000\n",
      "     Revenues (demand): 7350000.000000001\n",
      "     Revenues (throughput): 7546000\n",
      "     Revenues (demand): 15680000.000000002\n",
      "     Revenues (throughput): 15876000\n",
      "     Revenues (demand): 15680000.000000002\n",
      "     Revenues (throughput): 15876000\n",
      "     Revenues (demand): 15680000.000000002\n",
      "     Revenues (throughput): 15875999\n",
      "     Revenues (demand): 15680000.000000002\n",
      "     Revenues (throughput): 15875999\n",
      "     Revenues (demand): 15680000.000000002\n",
      "     Revenues (throughput): 15875999\n"
     ]
    },
    {
     "name": "stdout",
     "output_type": "stream",
     "text": [
      "PV: [-1.57563600e+07 -1.69060794e+14 -2.97725034e+12 -2.62154207e+12\n",
      " -2.30833209e+12 -2.03254978e+12 -1.78970555e+12 -1.57587057e+12\n",
      " -1.38759135e+12 -1.22180680e+12]\n",
      "NPV: -184975458450848.4\n"
     ]
    }
   ],
   "source": [
    "Terminal.simulate()"
   ]
  },
  {
   "cell_type": "markdown",
   "metadata": {},
   "source": [
    "## Report all elements"
   ]
  },
  {
   "cell_type": "code",
   "execution_count": 7,
   "metadata": {
    "scrolled": false
   },
   "outputs": [],
   "source": [
    "if False: \n",
    "    for element in Terminal.elements:\n",
    "        print(\"\")\n",
    "        print(element.name)\n",
    "        print(\"\")\n",
    "        print(element.__dict__)"
   ]
  },
  {
   "cell_type": "code",
   "execution_count": 8,
   "metadata": {},
   "outputs": [
    {
     "data": {
      "image/png": "[encoded data removed]",
      "text/plain": [
       "<Figure size 1440x720 with 1 Axes>"
      ]
     },
     "metadata": {
      "needs_background": "light"
     },
     "output_type": "display_data"
    }
   ],
   "source": [
    "Terminal.terminal_elements_plot()"
   ]
  },
  {
   "cell_type": "code",
   "execution_count": 9,
   "metadata": {
    "scrolled": false
   },
   "outputs": [
    {
     "data": {
      "image/png": "[encoded data removed]",
      "text/plain": [
       "<Figure size 1440x720 with 1 Axes>"
      ]
     },
     "metadata": {
      "needs_background": "light"
     },
     "output_type": "display_data"
    }
   ],
   "source": [
    "Terminal.terminal_capacity_plot()"
   ]
  },
  {
   "cell_type": "code",
   "execution_count": 10,
   "metadata": {},
   "outputs": [],
   "source": [
    "# add cash flow information for each of the Terminal elements\n",
    "cash_flows, cash_flows_WACC_real = Terminal.add_cashflow_elements()"
   ]
  },
  {
   "cell_type": "code",
   "execution_count": 11,
   "metadata": {},
   "outputs": [
    {
     "data": {
      "image/png": "[encoded data removed]",
      "text/plain": [
       "<Figure size 1152x504 with 1 Axes>"
      ]
     },
     "metadata": {
      "needs_background": "light"
     },
     "output_type": "display_data"
    }
   ],
   "source": [
    "Terminal.cashflow_plot(cash_flows)"
   ]
  },
  {
   "cell_type": "code",
   "execution_count": 12,
   "metadata": {},
   "outputs": [
    {
     "data": {
      "image/png": "[encoded data removed]",
      "text/plain": [
       "<Figure size 1152x504 with 1 Axes>"
      ]
     },
     "metadata": {
      "needs_background": "light"
     },
     "output_type": "display_data"
    }
   ],
   "source": [
    "Terminal.cashflow_plot(cash_flows_WACC_real)"
   ]
  },
  {
   "cell_type": "markdown",
   "metadata": {},
   "source": [
    "## SandBox"
   ]
  },
  {
   "cell_type": "code",
   "execution_count": 13,
   "metadata": {},
   "outputs": [
    {
     "name": "stdout",
     "output_type": "stream",
     "text": [
      "PV: [-1.57563600e+07 -1.69060794e+14 -2.97725034e+12 -2.62154207e+12\n",
      " -2.30833209e+12 -2.03254978e+12 -1.78970555e+12 -1.57587057e+12\n",
      " -1.38759135e+12 -1.22180680e+12]\n",
      "NPV: -184975458450848.4\n"
     ]
    }
   ],
   "source": [
    "Terminal.NPV()"
   ]
  }
 ],
 "metadata": {
  "kernelspec": {
   "display_name": "Python 3",
   "language": "python",
   "name": "python3"
  },
  "language_info": {
   "codemirror_mode": {
    "name": "ipython",
    "version": 3
   },
   "file_extension": ".py",
   "mimetype": "text/x-python",
   "name": "python",
   "nbconvert_exporter": "python",
   "pygments_lexer": "ipython3",
   "version": "3.7.0"
  }
 },
 "nbformat": 4,
 "nbformat_minor": 2
}
