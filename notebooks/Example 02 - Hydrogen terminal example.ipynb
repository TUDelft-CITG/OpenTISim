{
 "cells": [
  {
   "cell_type": "code",
   "execution_count": 1,
   "metadata": {},
   "outputs": [],
   "source": [
    "import numpy as np\n",
    "import pandas as pd\n",
    "\n",
    "import matplotlib.pyplot as plt\n",
    "\n",
    "from terminal_optimization import hydrogen_objects\n",
    "from terminal_optimization import hydrogen_defaults\n",
    "from terminal_optimization import hydrogen_system"
   ]
  },
  {
   "cell_type": "markdown",
   "metadata": {},
   "source": [
    "# 0. Prepare inputs"
   ]
  },
  {
   "cell_type": "code",
   "execution_count": 2,
   "metadata": {},
   "outputs": [],
   "source": [
    "startyear = 2018\n",
    "lifecycle = 10"
   ]
  },
  {
   "cell_type": "markdown",
   "metadata": {},
   "source": [
    "## 0.1 Generate demand forecast scenario"
   ]
  },
  {
   "cell_type": "code",
   "execution_count": 3,
   "metadata": {},
   "outputs": [],
   "source": [
    "years = list(range(startyear, startyear+lifecycle))\n",
    "\n",
    "demand = []\n",
    "for year in years:\n",
    "    if year < 2023:\n",
    "        demand.append(750_000)\n",
    "    else:\n",
    "        demand.append(1_600_000)\n",
    "\n",
    "scenario_data={'year': years, 'volume': demand}\n",
    "\n",
    "# instantiate a commodity objects\n",
    "# maize\n",
    "hydrogen_defaults.maize_data['handysize_perc'] = 0\n",
    "hydrogen_defaults.maize_data['handymax_perc'] = 100\n",
    "hydrogen_defaults.maize_data['panamax_perc'] = 0\n",
    "hydrogen_defaults.maize_data['handling_fee'] = 9.8 # example Wijnand\n",
    "hydrogen_defaults.maize_data['historic_data'] = []\n",
    "maize = hydrogen_objects.Commodity(**hydrogen_defaults.maize_data)\n",
    "maize.scenario_data = pd.DataFrame(data=scenario_data)\n",
    "\n",
    "# wheat\n",
    "hydrogen_defaults.wheat_data['historic_data'] = []\n",
    "hydrogen_defaults.wheat_data['scenario_data'] = []\n",
    "wheat = hydrogen_objects.Commodity(**hydrogen_defaults.wheat_data)\n",
    "\n",
    "# soybeans\n",
    "hydrogen_defaults.soybean_data['historic_data'] = []\n",
    "hydrogen_defaults.soybean_data['scenario_data'] = []\n",
    "soybeans = hydrogen_objects.Commodity(**hydrogen_defaults.soybean_data)\n",
    "\n",
    "# combine\n",
    "demand = [maize, wheat, soybeans]\n",
    "\n",
    "# plot scenarios \n",
    "if False:\n",
    "    maize.plot_demand()\n",
    "    wheat.plot_demand()\n",
    "    soybeans.plot_demand()"
   ]
  },
  {
   "cell_type": "markdown",
   "metadata": {},
   "source": [
    "## 0.2 Generate vessels"
   ]
  },
  {
   "cell_type": "code",
   "execution_count": 4,
   "metadata": {},
   "outputs": [],
   "source": [
    "# instantiate vessels\n",
    "handysize = hydrogen_objects.Vessel(**hydrogen_defaults.handysize_data)\n",
    "hydrogen_defaults.handymax_data['call_size'] = 50000\n",
    "handymax = hydrogen_objects.Vessel(**hydrogen_defaults.handymax_data)\n",
    "panamax = hydrogen_objects.Vessel(**hydrogen_defaults.panamax_data)\n",
    "\n",
    "\n",
    "vessels = [handysize, handymax, panamax] "
   ]
  },
  {
   "cell_type": "markdown",
   "metadata": {},
   "source": [
    "# 1. Instatiate terminal system"
   ]
  },
  {
   "cell_type": "code",
   "execution_count": 5,
   "metadata": {},
   "outputs": [],
   "source": [
    "Terminal = hydrogen_system.System(startyear = startyear, \n",
    "                         lifecycle = lifecycle, \n",
    "                         elements = demand + vessels, \n",
    "                         operational_hours = 5840,   # example Wijnand\n",
    "                         debug=True,\n",
    "                         crane_type_defaults=hydrogen_defaults.mobile_crane_data, \n",
    "                         storage_type_defaults=hydrogen_defaults.silo_data)"
   ]
  },
  {
   "cell_type": "markdown",
   "metadata": {},
   "source": [
    "# 2. Start simulation\n",
    "Develop terminal given the throughput scenario and investment triggers implemented"
   ]
  },
  {
   "cell_type": "code",
   "execution_count": 6,
   "metadata": {
    "scrolled": false
   },
   "outputs": [
    {
     "name": "stdout",
     "output_type": "stream",
     "text": [
      "\n",
      "Simulate year: 2018\n",
      "  Total vessel calls: 15\n",
      "     Handysize calls: 0\n",
      "     Handymax calls: 15\n",
      "     Panamax calls: 0\n",
      "  Total cargo volume: 750000\n",
      "     a total of 0 [] is online; 0 total planned\n",
      "     a total of 0 [] is online; 0 total planned\n",
      "     a total of 0 [] is online; 0 total planned\n",
      "     a total of 0 [] is online; 0 total planned\n",
      "     a total of 0 [] is online; 0 total planned\n",
      "     a total of 0 [] is online; 0 total planned\n",
      "     a total of 0 [] is online; 0 total planned\n",
      "     a total of 0 [] is online; 0 total planned\n",
      "\n",
      "  Start analysis:\n",
      "     Berth occupancy planned (@ start of year): inf\n",
      "     Berth occupancy online (@ start of year): inf\n",
      "     Crane occupancy planned (@ start of year): inf\n",
      "     Crane occupancy online (@ start of year): inf\n",
      "     waiting time factor (@ start of year): inf\n",
      "     waiting time occupancy (@ start of year): inf\n",
      "  *** add Berth to elements\n",
      "     Berth occupancy planned (after adding berth): inf\n",
      "     Berth occupancy online (after adding berth): inf\n",
      "  *** add Quay to elements\n",
      "     Berth occupancy planned (after adding quay): inf\n",
      "     Berth occupancy online (after adding quay): inf\n",
      "  *** add Harbour crane to elements\n",
      "     Berth occupancy planned (after adding crane): 0.7094795643386481\n",
      "     Berth occupancy online (after adding crane): inf\n",
      "  *** add Harbour crane to elements\n",
      "     Berth occupancy planned (after adding crane): 0.35859252189535146\n",
      "     Berth occupancy online (after adding crane): inf\n",
      "     a total of 0 ton of quay conveyor service capacity is online; 0 ton total planned\n",
      "  *** add Quay Conveyor to elements\n",
      "  *** add Quay Conveyor to elements\n",
      "  *** add Quay Conveyor to elements\n",
      "     a total of 0 ton of conveyor quay service capacity is online; 1200 ton total planned\n",
      "     a total of 0 ton of silo storage capacity is online; 0 ton total planned\n",
      "  *** add storage to elements\n",
      "     a total of 0 ton of storage capacity is online; 6000 ton total planned\n",
      "  *** add storage to elements\n",
      "     a total of 0 ton of storage capacity is online; 12000 ton total planned\n",
      "  *** add storage to elements\n",
      "     a total of 0 ton of storage capacity is online; 18000 ton total planned\n",
      "  *** add storage to elements\n",
      "     a total of 0 ton of storage capacity is online; 24000 ton total planned\n",
      "  *** add storage to elements\n",
      "     a total of 0 ton of storage capacity is online; 30000 ton total planned\n",
      "  *** add storage to elements\n",
      "     a total of 0 ton of storage capacity is online; 36000 ton total planned\n",
      "  *** add storage to elements\n",
      "     a total of 0 ton of storage capacity is online; 42000 ton total planned\n",
      "  *** add storage to elements\n",
      "     a total of 0 ton of storage capacity is online; 48000 ton total planned\n",
      "  *** add storage to elements\n",
      "     a total of 0 ton of storage capacity is online; 54000 ton total planned\n",
      "  *** add storage to elements\n",
      "     a total of 0 ton of storage capacity is online; 60000 ton total planned\n",
      "  *** add storage to elements\n",
      "     a total of 0 ton of storage capacity is online; 66000 ton total planned\n",
      "     a total of 0 ton of conveyor hinterland service capacity is online; 0 ton total planned\n",
      "     a total of 0 ton of conveyor hinterland service capacity is online; 0 ton total planned\n",
      "     Station occupancy planned (@ start of year): inf\n",
      "     Station occupancy online (@ start of year): inf\n",
      "     Number of trains (@start of year): 0.0\n",
      "  *** add station to elements\n",
      "\n",
      "Simulate year: 2019\n",
      "  Total vessel calls: 15\n",
      "     Handysize calls: 0\n",
      "     Handymax calls: 15\n",
      "     Panamax calls: 0\n",
      "  Total cargo volume: 750000\n",
      "     a total of 1 Berth_01 is online; 1 total planned\n",
      "     a total of 0 Quay_01 is online; 1 total planned\n",
      "     a total of 0 Mobile_crane_01 is online; 2 total planned\n",
      "     a total of 0 [] is online; 0 total planned\n",
      "     a total of 0 Quay_conveyor_01 is online; 3 total planned\n",
      "     a total of 0 Silo_01 is online; 11 total planned\n",
      "     a total of 0 [] is online; 0 total planned\n",
      "     a total of 0 Hinterland_station_01 is online; 1 total planned\n",
      "\n",
      "  Start analysis:\n",
      "     Berth occupancy planned (@ start of year): 0.35859252189535146\n",
      "     Berth occupancy online (@ start of year): inf\n",
      "     Crane occupancy planned (@ start of year): 0.35088704244329666\n",
      "     Crane occupancy online (@ start of year): inf\n",
      "     waiting time factor (@ start of year): 0\n",
      "     waiting time occupancy (@ start of year): nan\n",
      "     a total of 0 ton of quay conveyor service capacity is online; 1200 ton total planned\n",
      "     a total of 0 ton of conveyor quay service capacity is online; 1200 ton total planned\n",
      "     a total of 0 ton of silo storage capacity is online; 66000 ton total planned\n",
      "     a total of 0 ton of conveyor hinterland service capacity is online; 0 ton total planned\n",
      "  *** add Hinter Conveyor to elements\n",
      "  *** add Hinter Conveyor to elements\n",
      "     a total of 0 ton of conveyor hinterland service capacity is online; 800 ton total planned\n",
      "     Station occupancy planned (@ start of year): 0.0\n",
      "     Station occupancy online (@ start of year): inf\n",
      "     Number of trains (@start of year): 0.0\n",
      "\n",
      "Simulate year: 2020\n",
      "  Total vessel calls: 15\n",
      "     Handysize calls: 0\n",
      "     Handymax calls: 15\n",
      "     Panamax calls: 0\n",
      "  Total cargo volume: 750000\n",
      "     a total of 1 Berth_01 is online; 1 total planned\n",
      "     a total of 1 Quay_01 is online; 1 total planned\n",
      "     a total of 2 Mobile_crane_01 is online; 2 total planned\n",
      "     a total of 0 [] is online; 0 total planned\n",
      "     a total of 3 Quay_conveyor_01 is online; 3 total planned\n",
      "     a total of 11 Silo_01 is online; 11 total planned\n",
      "     a total of 2 Hinterland_conveyor_01 is online; 2 total planned\n",
      "     a total of 1 Hinterland_station_01 is online; 1 total planned\n",
      "\n",
      "  Start analysis:\n",
      "     Berth occupancy planned (@ start of year): 0.35859252189535146\n",
      "     Berth occupancy online (@ start of year): 0.35859252189535146\n",
      "     Crane occupancy planned (@ start of year): 0.35088704244329666\n",
      "     Crane occupancy online (@ start of year): 0.35088704244329666\n",
      "     waiting time factor (@ start of year): 0.2407561022015139\n",
      "     waiting time occupancy (@ start of year): 0.08447819665166528\n",
      "     a total of 1200 ton of quay conveyor service capacity is online; 1200 ton total planned\n",
      "     a total of 1200 ton of conveyor quay service capacity is online; 1200 ton total planned\n",
      "     a total of 66000 ton of silo storage capacity is online; 66000 ton total planned\n",
      "     a total of 800 ton of conveyor hinterland service capacity is online; 800 ton total planned\n",
      "     a total of 800 ton of conveyor hinterland service capacity is online; 800 ton total planned\n",
      "     Station occupancy planned (@ start of year): 0.2322326537689811\n",
      "     Station occupancy online (@ start of year): 0.2322326537689811\n",
      "     Number of trains (@start of year): 208.33333333333331\n",
      "\n",
      "Simulate year: 2021\n",
      "  Total vessel calls: 15\n",
      "     Handysize calls: 0\n",
      "     Handymax calls: 15\n",
      "     Panamax calls: 0\n",
      "  Total cargo volume: 750000\n",
      "     a total of 1 Berth_01 is online; 1 total planned\n",
      "     a total of 1 Quay_01 is online; 1 total planned\n",
      "     a total of 2 Mobile_crane_01 is online; 2 total planned\n",
      "     a total of 0 [] is online; 0 total planned\n",
      "     a total of 3 Quay_conveyor_01 is online; 3 total planned\n",
      "     a total of 11 Silo_01 is online; 11 total planned\n",
      "     a total of 2 Hinterland_conveyor_01 is online; 2 total planned\n",
      "     a total of 1 Hinterland_station_01 is online; 1 total planned\n",
      "\n",
      "  Start analysis:\n",
      "     Berth occupancy planned (@ start of year): 0.35859252189535146\n",
      "     Berth occupancy online (@ start of year): 0.35859252189535146\n",
      "     Crane occupancy planned (@ start of year): 0.35088704244329666\n",
      "     Crane occupancy online (@ start of year): 0.35088704244329666\n",
      "     waiting time factor (@ start of year): 0.2407561022015139\n",
      "     waiting time occupancy (@ start of year): 0.08447819665166528\n",
      "     a total of 1200 ton of quay conveyor service capacity is online; 1200 ton total planned\n",
      "     a total of 1200 ton of conveyor quay service capacity is online; 1200 ton total planned\n",
      "     a total of 66000 ton of silo storage capacity is online; 66000 ton total planned\n",
      "     a total of 800 ton of conveyor hinterland service capacity is online; 800 ton total planned\n",
      "     a total of 800 ton of conveyor hinterland service capacity is online; 800 ton total planned\n",
      "     Station occupancy planned (@ start of year): 0.2322326537689811\n",
      "     Station occupancy online (@ start of year): 0.2322326537689811\n",
      "     Number of trains (@start of year): 208.33333333333331\n",
      "\n",
      "Simulate year: 2022\n",
      "  Total vessel calls: 15\n",
      "     Handysize calls: 0\n",
      "     Handymax calls: 15\n",
      "     Panamax calls: 0\n",
      "  Total cargo volume: 750000\n",
      "     a total of 1 Berth_01 is online; 1 total planned\n",
      "     a total of 1 Quay_01 is online; 1 total planned\n",
      "     a total of 2 Mobile_crane_01 is online; 2 total planned\n",
      "     a total of 0 [] is online; 0 total planned\n",
      "     a total of 3 Quay_conveyor_01 is online; 3 total planned\n",
      "     a total of 11 Silo_01 is online; 11 total planned\n",
      "     a total of 2 Hinterland_conveyor_01 is online; 2 total planned\n",
      "     a total of 1 Hinterland_station_01 is online; 1 total planned\n",
      "\n",
      "  Start analysis:\n",
      "     Berth occupancy planned (@ start of year): 0.35859252189535146\n",
      "     Berth occupancy online (@ start of year): 0.35859252189535146\n",
      "     Crane occupancy planned (@ start of year): 0.35088704244329666\n",
      "     Crane occupancy online (@ start of year): 0.35088704244329666\n",
      "     waiting time factor (@ start of year): 0.2407561022015139\n",
      "     waiting time occupancy (@ start of year): 0.08447819665166528\n",
      "     a total of 1200 ton of quay conveyor service capacity is online; 1200 ton total planned\n",
      "     a total of 1200 ton of conveyor quay service capacity is online; 1200 ton total planned\n",
      "     a total of 66000 ton of silo storage capacity is online; 66000 ton total planned\n",
      "     a total of 800 ton of conveyor hinterland service capacity is online; 800 ton total planned\n",
      "     a total of 800 ton of conveyor hinterland service capacity is online; 800 ton total planned\n",
      "     Station occupancy planned (@ start of year): 0.2322326537689811\n",
      "     Station occupancy online (@ start of year): 0.2322326537689811\n",
      "     Number of trains (@start of year): 208.33333333333331\n",
      "\n",
      "Simulate year: 2023\n",
      "  Total vessel calls: 32\n",
      "     Handysize calls: 0\n",
      "     Handymax calls: 32\n",
      "     Panamax calls: 0\n",
      "  Total cargo volume: 1600000\n",
      "     a total of 1 Berth_01 is online; 1 total planned\n",
      "     a total of 1 Quay_01 is online; 1 total planned\n",
      "     a total of 2 Mobile_crane_01 is online; 2 total planned\n",
      "     a total of 0 [] is online; 0 total planned\n",
      "     a total of 3 Quay_conveyor_01 is online; 3 total planned\n",
      "     a total of 11 Silo_01 is online; 11 total planned\n",
      "     a total of 2 Hinterland_conveyor_01 is online; 2 total planned\n",
      "     a total of 1 Hinterland_station_01 is online; 1 total planned\n",
      "\n",
      "  Start analysis:\n",
      "     Berth occupancy planned (@ start of year): 0.7649973800434164\n",
      "     Berth occupancy online (@ start of year): 0.7649973800434164\n",
      "     Crane occupancy planned (@ start of year): 0.748559023879033\n",
      "     Crane occupancy online (@ start of year): 0.748559023879033\n",
      "     waiting time factor (@ start of year): 1.7507131775240115\n",
      "     waiting time occupancy (@ start of year): 1.3105121472595342\n",
      "  *** add Harbour crane to elements\n",
      "     Berth occupancy planned (after adding crane): 0.5154777054170722\n",
      "     Berth occupancy online (after adding crane): 0.7649973800434164\n",
      "  *** add Berth to elements\n",
      "     Berth occupancy planned (after adding berth): 0.5154777054170722\n",
      "     Berth occupancy online (after adding berth): 0.7649973800434164\n",
      "  *** add Quay to elements\n",
      "     Berth occupancy planned (after adding quay): 0.5154777054170722\n",
      "     Berth occupancy online (after adding quay): 0.7649973800434164\n",
      "  *** add Harbour crane to elements\n",
      "     Berth occupancy planned (after adding crane): 0.3907178681039\n",
      "     Berth occupancy online (after adding crane): 0.7649973800434164\n",
      "     a total of 1200 ton of quay conveyor service capacity is online; 1200 ton total planned\n",
      "  *** add Quay Conveyor to elements\n",
      "  *** add Quay Conveyor to elements\n",
      "  *** add Quay Conveyor to elements\n",
      "     a total of 1200 ton of conveyor quay service capacity is online; 2400 ton total planned\n",
      "     a total of 66000 ton of silo storage capacity is online; 66000 ton total planned\n",
      "  *** add storage to elements\n",
      "     a total of 66000 ton of storage capacity is online; 72000 ton total planned\n",
      "  *** add storage to elements\n",
      "     a total of 66000 ton of storage capacity is online; 78000 ton total planned\n",
      "  *** add storage to elements\n",
      "     a total of 66000 ton of storage capacity is online; 84000 ton total planned\n",
      "  *** add storage to elements\n"
     ]
    },
    {
     "name": "stdout",
     "output_type": "stream",
     "text": [
      "     a total of 66000 ton of storage capacity is online; 90000 ton total planned\n",
      "     a total of 800 ton of conveyor hinterland service capacity is online; 800 ton total planned\n",
      "     a total of 800 ton of conveyor hinterland service capacity is online; 800 ton total planned\n",
      "     Station occupancy planned (@ start of year): 0.4954296613738265\n",
      "     Station occupancy online (@ start of year): 0.4954296613738265\n",
      "     Number of trains (@start of year): 444.4444444444445\n",
      "  *** add station to elements\n",
      "\n",
      "Simulate year: 2024\n",
      "  Total vessel calls: 32\n",
      "     Handysize calls: 0\n",
      "     Handymax calls: 32\n",
      "     Panamax calls: 0\n",
      "  Total cargo volume: 1600000\n",
      "     a total of 2 Berth_01 is online; 2 total planned\n",
      "     a total of 1 Quay_01 is online; 2 total planned\n",
      "     a total of 3 Mobile_crane_01 is online; 4 total planned\n",
      "     a total of 0 [] is online; 0 total planned\n",
      "     a total of 4 Quay_conveyor_01 is online; 6 total planned\n",
      "     a total of 15 Silo_01 is online; 15 total planned\n",
      "     a total of 2 Hinterland_conveyor_01 is online; 2 total planned\n",
      "     a total of 2 Hinterland_station_01 is online; 2 total planned\n",
      "\n",
      "  Start analysis:\n",
      "     Berth occupancy planned (@ start of year): 0.3907178681039\n",
      "     Berth occupancy online (@ start of year): 0.5154777054170722\n",
      "     Crane occupancy planned (@ start of year): 0.3742795119395165\n",
      "     Crane occupancy online (@ start of year): 0.4990393492526886\n",
      "     waiting time factor (@ start of year): 0.13431409032095842\n",
      "     waiting time occupancy (@ start of year): 0.06702801622923793\n",
      "     a total of 1600 ton of quay conveyor service capacity is online; 2400 ton total planned\n",
      "     a total of 1600 ton of conveyor quay service capacity is online; 2400 ton total planned\n",
      "     a total of 90000 ton of silo storage capacity is online; 90000 ton total planned\n",
      "     a total of 800 ton of conveyor hinterland service capacity is online; 800 ton total planned\n",
      "  *** add Hinter Conveyor to elements\n",
      "  *** add Hinter Conveyor to elements\n",
      "     a total of 800 ton of conveyor hinterland service capacity is online; 1600 ton total planned\n",
      "     Station occupancy planned (@ start of year): 0.24771483068691322\n",
      "     Station occupancy online (@ start of year): 0.24771483068691322\n",
      "     Number of trains (@start of year): 444.44444444444446\n",
      "\n",
      "Simulate year: 2025\n",
      "  Total vessel calls: 32\n",
      "     Handysize calls: 0\n",
      "     Handymax calls: 32\n",
      "     Panamax calls: 0\n",
      "  Total cargo volume: 1600000\n",
      "     a total of 2 Berth_01 is online; 2 total planned\n",
      "     a total of 2 Quay_01 is online; 2 total planned\n",
      "     a total of 4 Mobile_crane_01 is online; 4 total planned\n",
      "     a total of 0 [] is online; 0 total planned\n",
      "     a total of 6 Quay_conveyor_01 is online; 6 total planned\n",
      "     a total of 15 Silo_01 is online; 15 total planned\n",
      "     a total of 4 Hinterland_conveyor_01 is online; 4 total planned\n",
      "     a total of 2 Hinterland_station_01 is online; 2 total planned\n",
      "\n",
      "  Start analysis:\n",
      "     Berth occupancy planned (@ start of year): 0.3907178681039\n",
      "     Berth occupancy online (@ start of year): 0.3907178681039\n",
      "     Crane occupancy planned (@ start of year): 0.3742795119395165\n",
      "     Crane occupancy online (@ start of year): 0.3742795119395165\n",
      "     waiting time factor (@ start of year): 0.08539262869909503\n",
      "     waiting time occupancy (@ start of year): 0.031960711392729636\n",
      "     a total of 2400 ton of quay conveyor service capacity is online; 2400 ton total planned\n",
      "     a total of 2400 ton of conveyor quay service capacity is online; 2400 ton total planned\n",
      "     a total of 90000 ton of silo storage capacity is online; 90000 ton total planned\n",
      "     a total of 1600 ton of conveyor hinterland service capacity is online; 1600 ton total planned\n",
      "     a total of 1600 ton of conveyor hinterland service capacity is online; 1600 ton total planned\n",
      "     Station occupancy planned (@ start of year): 0.24771483068691325\n",
      "     Station occupancy online (@ start of year): 0.24771483068691325\n",
      "     Number of trains (@start of year): 444.4444444444445\n",
      "\n",
      "Simulate year: 2026\n",
      "  Total vessel calls: 32\n",
      "     Handysize calls: 0\n",
      "     Handymax calls: 32\n",
      "     Panamax calls: 0\n",
      "  Total cargo volume: 1600000\n",
      "     a total of 2 Berth_01 is online; 2 total planned\n",
      "     a total of 2 Quay_01 is online; 2 total planned\n",
      "     a total of 4 Mobile_crane_01 is online; 4 total planned\n",
      "     a total of 0 [] is online; 0 total planned\n",
      "     a total of 6 Quay_conveyor_01 is online; 6 total planned\n",
      "     a total of 15 Silo_01 is online; 15 total planned\n",
      "     a total of 4 Hinterland_conveyor_01 is online; 4 total planned\n",
      "     a total of 2 Hinterland_station_01 is online; 2 total planned\n",
      "\n",
      "  Start analysis:\n",
      "     Berth occupancy planned (@ start of year): 0.3907178681039\n",
      "     Berth occupancy online (@ start of year): 0.3907178681039\n",
      "     Crane occupancy planned (@ start of year): 0.3742795119395165\n",
      "     Crane occupancy online (@ start of year): 0.3742795119395165\n",
      "     waiting time factor (@ start of year): 0.08539262869909503\n",
      "     waiting time occupancy (@ start of year): 0.031960711392729636\n",
      "     a total of 2400 ton of quay conveyor service capacity is online; 2400 ton total planned\n",
      "     a total of 2400 ton of conveyor quay service capacity is online; 2400 ton total planned\n",
      "     a total of 90000 ton of silo storage capacity is online; 90000 ton total planned\n",
      "     a total of 1600 ton of conveyor hinterland service capacity is online; 1600 ton total planned\n",
      "     a total of 1600 ton of conveyor hinterland service capacity is online; 1600 ton total planned\n",
      "     Station occupancy planned (@ start of year): 0.24771483068691325\n",
      "     Station occupancy online (@ start of year): 0.24771483068691325\n",
      "     Number of trains (@start of year): 444.4444444444445\n",
      "\n",
      "Simulate year: 2027\n",
      "  Total vessel calls: 32\n",
      "     Handysize calls: 0\n",
      "     Handymax calls: 32\n",
      "     Panamax calls: 0\n",
      "  Total cargo volume: 1600000\n",
      "     a total of 2 Berth_01 is online; 2 total planned\n",
      "     a total of 2 Quay_01 is online; 2 total planned\n",
      "     a total of 4 Mobile_crane_01 is online; 4 total planned\n",
      "     a total of 0 [] is online; 0 total planned\n",
      "     a total of 6 Quay_conveyor_01 is online; 6 total planned\n",
      "     a total of 15 Silo_01 is online; 15 total planned\n",
      "     a total of 4 Hinterland_conveyor_01 is online; 4 total planned\n",
      "     a total of 2 Hinterland_station_01 is online; 2 total planned\n",
      "\n",
      "  Start analysis:\n",
      "     Berth occupancy planned (@ start of year): 0.3907178681039\n",
      "     Berth occupancy online (@ start of year): 0.3907178681039\n",
      "     Crane occupancy planned (@ start of year): 0.3742795119395165\n",
      "     Crane occupancy online (@ start of year): 0.3742795119395165\n",
      "     waiting time factor (@ start of year): 0.08539262869909503\n",
      "     waiting time occupancy (@ start of year): 0.031960711392729636\n",
      "     a total of 2400 ton of quay conveyor service capacity is online; 2400 ton total planned\n",
      "     a total of 2400 ton of conveyor quay service capacity is online; 2400 ton total planned\n",
      "     a total of 90000 ton of silo storage capacity is online; 90000 ton total planned\n",
      "     a total of 1600 ton of conveyor hinterland service capacity is online; 1600 ton total planned\n",
      "     a total of 1600 ton of conveyor hinterland service capacity is online; 1600 ton total planned\n",
      "     Station occupancy planned (@ start of year): 0.24771483068691325\n",
      "     Station occupancy online (@ start of year): 0.24771483068691325\n",
      "     Number of trains (@start of year): 444.4444444444445\n",
      "     Revenues (demand): 7350000.000000001\n",
      "     Revenues (throughput): 0\n",
      "     Revenues (demand): 7350000.000000001\n",
      "     Revenues (throughput): 0\n",
      "     Revenues (demand): 7350000.000000001\n",
      "     Revenues (throughput): 7349999\n",
      "     Revenues (demand): 7350000.000000001\n",
      "     Revenues (throughput): 7349999\n",
      "     Revenues (demand): 7350000.000000001\n",
      "     Revenues (throughput): 7349999\n",
      "     Revenues (demand): 15680000.000000002\n",
      "     Revenues (throughput): 15680000\n",
      "     Revenues (demand): 15680000.000000002\n",
      "     Revenues (throughput): 15680000\n",
      "     Revenues (demand): 15680000.000000002\n",
      "     Revenues (throughput): 15680000\n",
      "     Revenues (demand): 15680000.000000002\n",
      "     Revenues (throughput): 15680000\n",
      "     Revenues (demand): 15680000.000000002\n",
      "     Revenues (throughput): 15680000\n",
      "PV: [-11752800.         -23028102.55524862   4359104.75691577\n",
      "   4716442.37919034   5031087.03968763   -181201.53463137\n",
      "   6958881.49747337  13004194.37227778  13323886.6192363\n",
      "  13605383.59083307]\n",
      "NPV: 26036876.165734276\n"
     ]
    }
   ],
   "source": [
    "Terminal.simulate()"
   ]
  },
  {
   "cell_type": "markdown",
   "metadata": {},
   "source": [
    "## Report all elements"
   ]
  },
  {
   "cell_type": "code",
   "execution_count": 7,
   "metadata": {
    "scrolled": false
   },
   "outputs": [],
   "source": [
    "if False: \n",
    "    for element in Terminal.elements:\n",
    "        print(\"\")\n",
    "        print(element.name)\n",
    "        print(\"\")\n",
    "        print(element.__dict__)"
   ]
  },
  {
   "cell_type": "code",
   "execution_count": 8,
   "metadata": {},
   "outputs": [
    {
     "data": {
      "image/png": "[encoded data removed]",
      "text/plain": [
       "<Figure size 1440x720 with 1 Axes>"
      ]
     },
     "metadata": {},
     "output_type": "display_data"
    }
   ],
   "source": [
    "Terminal.terminal_elements_plot()"
   ]
  },
  {
   "cell_type": "code",
   "execution_count": 9,
   "metadata": {
    "scrolled": false
   },
   "outputs": [
    {
     "data": {
      "image/png": "[encoded data removed]",
      "text/plain": [
       "<Figure size 1440x720 with 1 Axes>"
      ]
     },
     "metadata": {},
     "output_type": "display_data"
    }
   ],
   "source": [
    "Terminal.terminal_capacity_plot()"
   ]
  },
  {
   "cell_type": "code",
   "execution_count": 10,
   "metadata": {},
   "outputs": [],
   "source": [
    "# add cash flow information for each of the Terminal elements\n",
    "cash_flows, cash_flows_WACC_real = Terminal.add_cashflow_elements()"
   ]
  },
  {
   "cell_type": "code",
   "execution_count": 11,
   "metadata": {},
   "outputs": [
    {
     "data": {
      "image/png": "[encoded data removed]",
      "text/plain": [
       "<Figure size 1152x504 with 1 Axes>"
      ]
     },
     "metadata": {},
     "output_type": "display_data"
    }
   ],
   "source": [
    "Terminal.cashflow_plot(cash_flows)"
   ]
  },
  {
   "cell_type": "code",
   "execution_count": 12,
   "metadata": {},
   "outputs": [
    {
     "data": {
      "image/png": "[encoded data removed]",
      "text/plain": [
       "<Figure size 1152x504 with 1 Axes>"
      ]
     },
     "metadata": {},
     "output_type": "display_data"
    }
   ],
   "source": [
    "Terminal.cashflow_plot(cash_flows_WACC_real)"
   ]
  },
  {
   "cell_type": "markdown",
   "metadata": {},
   "source": [
    "## SandBox"
   ]
  },
  {
   "cell_type": "code",
   "execution_count": 13,
   "metadata": {},
   "outputs": [
    {
     "name": "stdout",
     "output_type": "stream",
     "text": [
      "PV: [-11752800.         -23028102.55524862   4359104.75691577\n",
      "   4716442.37919034   5031087.03968763   -181201.53463137\n",
      "   6958881.49747337  13004194.37227778  13323886.6192363\n",
      "  13605383.59083307]\n",
      "NPV: 26036876.165734276\n"
     ]
    }
   ],
   "source": [
    "Terminal.NPV()"
   ]
  }
 ],
 "metadata": {
  "kernelspec": {
   "display_name": "Python 3",
   "language": "python",
   "name": "python3"
  },
  "language_info": {
   "codemirror_mode": {
    "name": "ipython",
    "version": 3
   },
   "file_extension": ".py",
   "mimetype": "text/x-python",
   "name": "python",
   "nbconvert_exporter": "python",
   "pygments_lexer": "ipython3",
   "version": "3.6.3"
  }
 },
 "nbformat": 4,
 "nbformat_minor": 2
}
