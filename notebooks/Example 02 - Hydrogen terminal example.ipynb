{
 "cells": [
  {
   "cell_type": "code",
   "execution_count": null,
   "metadata": {},
   "outputs": [],
   "source": [
    "import numpy as np\n",
    "import pandas as pd\n",
    "\n",
    "import matplotlib.pyplot as plt\n",
    "\n",
    "from terminal_optimization import hydrogen_objects\n",
    "from terminal_optimization import hydrogen_defaults\n",
    "from terminal_optimization import hydrogen_system"
   ]
  },
  {
   "cell_type": "markdown",
   "metadata": {},
   "source": [
    "# 0. Prepare inputs"
   ]
  },
  {
   "cell_type": "code",
   "execution_count": null,
   "metadata": {},
   "outputs": [],
   "source": [
    "startyear = 2018\n",
    "lifecycle = 10"
   ]
  },
  {
   "cell_type": "markdown",
   "metadata": {},
   "source": [
    "## 0.1 Generate demand forecast scenario"
   ]
  },
  {
   "cell_type": "code",
   "execution_count": null,
   "metadata": {},
   "outputs": [],
   "source": [
    "years = list(range(startyear, startyear+lifecycle))\n",
    "\n",
    "demand = []\n",
    "for year in years:\n",
    "    if year < 2023:\n",
    "        demand.append(750_000)\n",
    "    else:\n",
    "        demand.append(1_600_000)\n",
    "\n",
    "scenario_data={'year': years, 'volume': demand}\n",
    "\n",
    "# instantiate a commodity objects\n",
    "# maize\n",
    "hydrogen_defaults.maize_data['handysize_perc'] = 0\n",
    "hydrogen_defaults.maize_data['handymax_perc'] = 100\n",
    "hydrogen_defaults.maize_data['panamax_perc'] = 0\n",
    "hydrogen_defaults.maize_data['handling_fee'] = 9.8 # example Wijnand\n",
    "hydrogen_defaults.maize_data['historic_data'] = []\n",
    "maize = hydrogen_objects.Commodity(**hydrogen_defaults.maize_data)\n",
    "maize.scenario_data = pd.DataFrame(data=scenario_data)\n",
    "\n",
    "# wheat\n",
    "hydrogen_defaults.wheat_data['historic_data'] = []\n",
    "hydrogen_defaults.wheat_data['scenario_data'] = []\n",
    "wheat = hydrogen_objects.Commodity(**hydrogen_defaults.wheat_data)\n",
    "\n",
    "# soybeans\n",
    "hydrogen_defaults.soybean_data['historic_data'] = []\n",
    "hydrogen_defaults.soybean_data['scenario_data'] = []\n",
    "soybeans = hydrogen_objects.Commodity(**hydrogen_defaults.soybean_data)\n",
    "\n",
    "# combine\n",
    "demand = [maize, wheat, soybeans]\n",
    "\n",
    "# plot scenarios \n",
    "if False:\n",
    "    maize.plot_demand()\n",
    "    wheat.plot_demand()\n",
    "    soybeans.plot_demand()"
   ]
  },
  {
   "cell_type": "markdown",
   "metadata": {},
   "source": [
    "## 0.2 Generate vessels"
   ]
  },
  {
   "cell_type": "code",
   "execution_count": null,
   "metadata": {},
   "outputs": [],
   "source": [
    "# instantiate vessels\n",
    "handysize = hydrogen_objects.Vessel(**hydrogen_defaults.handysize_data)\n",
    "hydrogen_defaults.handymax_data['call_size'] = 50000\n",
    "handymax = hydrogen_objects.Vessel(**hydrogen_defaults.handymax_data)\n",
    "panamax = hydrogen_objects.Vessel(**hydrogen_defaults.panamax_data)\n",
    "\n",
    "\n",
    "vessels = [handysize, handymax, panamax] "
   ]
  },
  {
   "cell_type": "markdown",
   "metadata": {},
   "source": [
    "# 1. Instatiate terminal system"
   ]
  },
  {
   "cell_type": "code",
   "execution_count": null,
   "metadata": {},
   "outputs": [],
   "source": [
    "Terminal = hydrogen_system.System(startyear = startyear, \n",
    "                         lifecycle = lifecycle, \n",
    "                         elements = demand + vessels, \n",
    "                         operational_hours = 5840,   # example Wijnand\n",
    "                         debug=True,\n",
    "                         crane_type_defaults=hydrogen_defaults.mobile_crane_data, \n",
    "                         storage_type_defaults=hydrogen_defaults.silo_data)"
   ]
  },
  {
   "cell_type": "markdown",
   "metadata": {},
   "source": [
    "# 2. Start simulation\n",
    "Develop terminal given the throughput scenario and investment triggers implemented"
   ]
  },
  {
   "cell_type": "code",
   "execution_count": null,
   "metadata": {
    "scrolled": false
   },
   "outputs": [],
   "source": [
    "Terminal.simulate()"
   ]
  },
  {
   "cell_type": "markdown",
   "metadata": {},
   "source": [
    "## Report all elements"
   ]
  },
  {
   "cell_type": "code",
   "execution_count": null,
   "metadata": {
    "scrolled": false
   },
   "outputs": [],
   "source": [
    "if False: \n",
    "    for element in Terminal.elements:\n",
    "        print(\"\")\n",
    "        print(element.name)\n",
    "        print(\"\")\n",
    "        print(element.__dict__)"
   ]
  },
  {
   "cell_type": "code",
   "execution_count": null,
   "metadata": {},
   "outputs": [],
   "source": [
    "Terminal.terminal_elements_plot()"
   ]
  },
  {
   "cell_type": "code",
   "execution_count": null,
   "metadata": {
    "scrolled": false
   },
   "outputs": [],
   "source": [
    "Terminal.terminal_capacity_plot()"
   ]
  },
  {
   "cell_type": "code",
   "execution_count": null,
   "metadata": {},
   "outputs": [],
   "source": [
    "# add cash flow information for each of the Terminal elements\n",
    "cash_flows, cash_flows_WACC_real = Terminal.add_cashflow_elements()"
   ]
  },
  {
   "cell_type": "code",
   "execution_count": null,
   "metadata": {},
   "outputs": [],
   "source": [
    "Terminal.cashflow_plot(cash_flows)"
   ]
  },
  {
   "cell_type": "code",
   "execution_count": null,
   "metadata": {},
   "outputs": [],
   "source": [
    "Terminal.cashflow_plot(cash_flows_WACC_real)"
   ]
  },
  {
   "cell_type": "markdown",
   "metadata": {},
   "source": [
    "## SandBox"
   ]
  },
  {
   "cell_type": "code",
   "execution_count": null,
   "metadata": {},
   "outputs": [],
   "source": [
    "Terminal.NPV()"
   ]
  }
 ],
 "metadata": {
  "kernelspec": {
   "display_name": "Python 3",
   "language": "python",
   "name": "python3"
  },
  "language_info": {
   "codemirror_mode": {
    "name": "ipython",
    "version": 3
   },
   "file_extension": ".py",
   "mimetype": "text/x-python",
   "name": "python",
   "nbconvert_exporter": "python",
   "pygments_lexer": "ipython3",
   "version": "3.6.3"
  }
 },
 "nbformat": 4,
 "nbformat_minor": 2
}
