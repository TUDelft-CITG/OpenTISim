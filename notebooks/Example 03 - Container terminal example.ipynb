{
 "cells": [
  {
   "cell_type": "code",
   "execution_count": 1,
   "metadata": {},
   "outputs": [],
   "source": [
    "import numpy as np\n",
    "import pandas as pd\n",
    "import statistics as st\n",
    "import matplotlib.pyplot as plt\n",
    "import math\n",
    "\n",
    "from opentisim import container_objects\n",
    "from opentisim import container_defaults\n",
    "from opentisim import container_system\n",
    "\n",
    "plt.style.use('seaborn-darkgrid')"
   ]
  },
  {
   "cell_type": "markdown",
   "metadata": {},
   "source": [
    "# 0. Prepare inputs"
   ]
  },
  {
   "cell_type": "code",
   "execution_count": 2,
   "metadata": {},
   "outputs": [],
   "source": [
    "startyear = 2020\n",
    "lifecycle = 10"
   ]
  },
  {
   "cell_type": "markdown",
   "metadata": {},
   "source": [
    "## 0.1 Generate demand forecast scenario"
   ]
  },
  {
   "cell_type": "code",
   "execution_count": 3,
   "metadata": {},
   "outputs": [],
   "source": [
    "years = list(range(startyear, startyear+lifecycle))\n",
    "\n",
    "demand = []\n",
    "for year in years:\n",
    "    if year <= 2025:\n",
    "        demand.append(300_000)\n",
    "#     elif year <= 2027:\n",
    "#         demand.append(400_000)\n",
    "    else:\n",
    "        demand.append(750_000)\n",
    "\n",
    "scenario_data={'year': years, 'volume': demand}\n",
    "\n",
    "# ladens\n",
    "container_defaults.container_data['historic_data'] = []\n",
    "container = container_objects.Commodity(**container_defaults.container_data)\n",
    "container.scenario_data = pd.DataFrame(data=scenario_data)\n",
    "\n",
    "# combine\n",
    "demand = [container]\n",
    "\n",
    "\n",
    "# plot scenarios \n",
    "if False:\n",
    "    laden.plot_demand()\n",
    "\n",
    "   \n",
    "    "
   ]
  },
  {
   "cell_type": "markdown",
   "metadata": {},
   "source": [
    "## 0.2 Generate vessels"
   ]
  },
  {
   "cell_type": "code",
   "execution_count": 4,
   "metadata": {},
   "outputs": [
    {
     "ename": "AttributeError",
     "evalue": "module 'opentisim.container_defaults' has no attribute 'handysize_data'",
     "output_type": "error",
     "traceback": [
      "\u001b[1;31m---------------------------------------------------------------------------\u001b[0m",
      "\u001b[1;31mAttributeError\u001b[0m                            Traceback (most recent call last)",
      "\u001b[1;32m<ipython-input-4-3388cabd13b1>\u001b[0m in \u001b[0;36m<module>\u001b[1;34m\u001b[0m\n\u001b[0;32m      1\u001b[0m \u001b[1;31m# instantiate vessels\u001b[0m\u001b[1;33m\u001b[0m\u001b[1;33m\u001b[0m\u001b[1;33m\u001b[0m\u001b[0m\n\u001b[1;32m----> 2\u001b[1;33m \u001b[0mhandysize\u001b[0m \u001b[1;33m=\u001b[0m \u001b[0mcontainer_objects\u001b[0m\u001b[1;33m.\u001b[0m\u001b[0mVessel\u001b[0m\u001b[1;33m(\u001b[0m\u001b[1;33m**\u001b[0m\u001b[0mcontainer_defaults\u001b[0m\u001b[1;33m.\u001b[0m\u001b[0mhandysize_data\u001b[0m\u001b[1;33m)\u001b[0m\u001b[1;33m\u001b[0m\u001b[1;33m\u001b[0m\u001b[0m\n\u001b[0m\u001b[0;32m      3\u001b[0m \u001b[0mhandymax\u001b[0m \u001b[1;33m=\u001b[0m \u001b[0mcontainer_objects\u001b[0m\u001b[1;33m.\u001b[0m\u001b[0mVessel\u001b[0m\u001b[1;33m(\u001b[0m\u001b[1;33m**\u001b[0m\u001b[0mcontainer_defaults\u001b[0m\u001b[1;33m.\u001b[0m\u001b[0mhandymax_data\u001b[0m\u001b[1;33m)\u001b[0m\u001b[1;33m\u001b[0m\u001b[1;33m\u001b[0m\u001b[0m\n\u001b[0;32m      4\u001b[0m \u001b[0mpanamax\u001b[0m \u001b[1;33m=\u001b[0m \u001b[0mcontainer_objects\u001b[0m\u001b[1;33m.\u001b[0m\u001b[0mVessel\u001b[0m\u001b[1;33m(\u001b[0m\u001b[1;33m**\u001b[0m\u001b[0mcontainer_defaults\u001b[0m\u001b[1;33m.\u001b[0m\u001b[0mpanamax_data\u001b[0m\u001b[1;33m)\u001b[0m\u001b[1;33m\u001b[0m\u001b[1;33m\u001b[0m\u001b[0m\n\u001b[0;32m      5\u001b[0m \u001b[1;33m\u001b[0m\u001b[0m\n",
      "\u001b[1;31mAttributeError\u001b[0m: module 'opentisim.container_defaults' has no attribute 'handysize_data'"
     ]
    }
   ],
   "source": [
    "# instantiate vessels\n",
    "handysize = container_objects.Vessel(**container_defaults.handysize_data)\n",
    "handymax = container_objects.Vessel(**container_defaults.handymax_data)\n",
    "panamax = container_objects.Vessel(**container_defaults.panamax_data)\n",
    "\n",
    "\n",
    "vessels = [handysize, handymax, panamax] \n"
   ]
  },
  {
   "cell_type": "markdown",
   "metadata": {},
   "source": [
    "# 1. Instatiate terminal system"
   ]
  },
  {
   "cell_type": "code",
   "execution_count": null,
   "metadata": {},
   "outputs": [],
   "source": [
    "# Terminal_calcs=[]\n",
    "# stack_cranes = ['rtg', 'rmg', 'sc', 'rs']\n",
    "# # Cranes = [container_defaults.rmg', 'rtg', 'sc', 'rs']\n",
    "# for crane in stack_cranes:   \n",
    "#     Terminal_dummy = container_system.System(startyear = startyear, \n",
    "#                                              lifecycle = lifecycle, \n",
    "#                                              elements = demand + vessels, \n",
    "#                                              operational_hours = 8500,   \n",
    "#                                              debug=False,\n",
    "#                                              stack_equipment = crane,\n",
    "#                                              laden_stack = crane) \n",
    "#     NPV, data=Terminal_dummy.simulate()\n",
    "#     Terminal_calcs.append(data)\n",
    "# print(Terminal_calcs)\n"
   ]
  },
  {
   "cell_type": "code",
   "execution_count": null,
   "metadata": {},
   "outputs": [],
   "source": [
    "# def chunkIt(seq, num):\n",
    "#     avg = len(seq) / float(num)\n",
    "#     out = []\n",
    "#     last = 0.0\n",
    "\n",
    "#     while last < len(seq):\n",
    "#         out.append(seq[int(last):int(last + avg)])\n",
    "#         last += avg\n",
    "\n",
    "#     return out"
   ]
  },
  {
   "cell_type": "code",
   "execution_count": null,
   "metadata": {},
   "outputs": [],
   "source": [
    "Terminal_calcs=[]\n",
    "data_overview = []\n",
    "stack_cranes = ['rtg', 'rmg', 'sc', 'rs']\n",
    "fuel_costs = [0.1, 0.5, 1, 2]\n",
    "power_costs = [0.0, 0.05, 0.1, 0.32]\n",
    "land_costs = [0, 50, 100, 375]\n",
    "\n",
    "\n",
    "for crane in stack_cranes:\n",
    "    for i in power_costs: \n",
    "        Terminal_dummy = container_system.System(startyear = startyear, \n",
    "                                                 lifecycle = lifecycle, \n",
    "                                                 elements = demand + vessels, \n",
    "                                                 operational_hours = 7500,   \n",
    "                                                 debug=False,\n",
    "                                                 stack_equipment = crane,\n",
    "                                                 laden_stack = crane,\n",
    "                                                 energy_price = i ) \n",
    "        NPV, data=Terminal_dummy.simulate()\n",
    "        Terminal_calcs.append(NPV)\n",
    "        data_overview.append(data)\n",
    "        \n",
    "print(Terminal_calcs)\n",
    "print(data_overview)\n"
   ]
  },
  {
   "cell_type": "code",
   "execution_count": null,
   "metadata": {
    "scrolled": true
   },
   "outputs": [],
   "source": [
    "# out=chunkIt(Terminal_calcs, len(land_costs))\n",
    "\n",
    "# rtg=out[0]\n",
    "# rmg=out[1]\n",
    "# sc=out[2]\n",
    "# rs=out[3]\n",
    "\n",
    "# # rtg=[-205500000, -248300000, -304000000, -368240000]\n",
    "# # rmg=[-234270000, -272064000, -321630000, -378327000]\n",
    "# # sc=[-241610000, -281480000, -333630000, -393442000]\n",
    "# # rs=[-217999000, -264414772, -324757000, -393380000]\n",
    "\n",
    "# ind = np.arange(4)  # the x locations for the groups\n",
    "# width = 0.1       # the width of the bars\n",
    "\n",
    "\n",
    "# fig, ax = plt.subplots(figsize=(16, 7))\n",
    "# ax.bar(ind, rtg, width = width, label =\"RTG\", color = 'coral')\n",
    "# ax.bar(ind+width, rmg, width = width, label=\"RMG\", color = 'darkcyan')\n",
    "# ax.bar(ind+2*width, sc, width = width, label=\"Straddle carrier\", color = 'darkkhaki')\n",
    "# ax.bar(ind+3*width, rs, width = width, label=\"Reach stacker\", color = 'cornflowerblue')\n",
    "# ax.set_xticks(ind+3*width/3)\n",
    "# ax.set_xticklabels(('20', '40', '70', '100'))\n",
    "# plt.ylabel('Net present value [00 M USD]')\n",
    "# plt.xlabel('Cost of labour [k USD/FTE]')\n",
    "# plt.legend()\n",
    "# ax.set_title('NPV per equipment for varying cost of labour')\n",
    "# plt.show()\n",
    "# plt.savefig('C:/Users/908538/Google Drive/Afstuderen/02. Model/Masterfile/Plots/fuel.png', dpi=400)\n"
   ]
  },
  {
   "cell_type": "code",
   "execution_count": null,
   "metadata": {},
   "outputs": [],
   "source": []
  },
  {
   "cell_type": "code",
   "execution_count": null,
   "metadata": {},
   "outputs": [],
   "source": [
    "Terminal = container_system.System(startyear = startyear, \n",
    "                         lifecycle = lifecycle, \n",
    "                         elements = demand + vessels, \n",
    "                         operational_hours = 7500,  \n",
    "                         debug=True,\n",
    "                         crane_type_defaults=container_defaults.sts_crane_data) \n"
   ]
  },
  {
   "cell_type": "code",
   "execution_count": null,
   "metadata": {},
   "outputs": [],
   "source": []
  },
  {
   "cell_type": "markdown",
   "metadata": {},
   "source": [
    "# 2. Start simulation\n",
    "Develop terminal given the throughput scenario and investment triggers implemented"
   ]
  },
  {
   "cell_type": "code",
   "execution_count": null,
   "metadata": {
    "scrolled": false
   },
   "outputs": [],
   "source": [
    "Terminal.simulate()"
   ]
  },
  {
   "cell_type": "markdown",
   "metadata": {},
   "source": [
    "## Report all elements"
   ]
  },
  {
   "cell_type": "code",
   "execution_count": null,
   "metadata": {
    "scrolled": false
   },
   "outputs": [],
   "source": [
    "if True: \n",
    "    for element in Terminal.elements:\n",
    "        print(\"\")\n",
    "        print(element.name)\n",
    "        print(\"\")\n",
    "        print(element.__dict__)"
   ]
  },
  {
   "cell_type": "code",
   "execution_count": null,
   "metadata": {},
   "outputs": [],
   "source": [
    "cash_flows, cash_flows_WACC_real = Terminal.add_cashflow_elements()"
   ]
  },
  {
   "cell_type": "code",
   "execution_count": null,
   "metadata": {},
   "outputs": [],
   "source": [
    "Terminal.opex_plot(cash_flows)"
   ]
  },
  {
   "cell_type": "code",
   "execution_count": null,
   "metadata": {},
   "outputs": [],
   "source": [
    "Terminal.terminal_elements_plot()"
   ]
  },
  {
   "cell_type": "code",
   "execution_count": null,
   "metadata": {},
   "outputs": [],
   "source": [
    "Terminal.land_use_plot()"
   ]
  },
  {
   "cell_type": "code",
   "execution_count": null,
   "metadata": {
    "scrolled": false
   },
   "outputs": [],
   "source": []
  },
  {
   "cell_type": "code",
   "execution_count": null,
   "metadata": {},
   "outputs": [],
   "source": [
    "# add cash flow information for each of the Terminal elements\n",
    "cash_flows, cash_flows_WACC_real = Terminal.add_cashflow_elements()"
   ]
  },
  {
   "cell_type": "code",
   "execution_count": null,
   "metadata": {},
   "outputs": [],
   "source": [
    "Terminal.cashflow_plot(cash_flows)"
   ]
  },
  {
   "cell_type": "code",
   "execution_count": null,
   "metadata": {},
   "outputs": [],
   "source": []
  },
  {
   "cell_type": "code",
   "execution_count": null,
   "metadata": {},
   "outputs": [],
   "source": [
    "\n"
   ]
  },
  {
   "cell_type": "markdown",
   "metadata": {},
   "source": [
    "## SandBox"
   ]
  },
  {
   "cell_type": "code",
   "execution_count": null,
   "metadata": {},
   "outputs": [],
   "source": [
    "Terminal.NPV()"
   ]
  }
 ],
 "metadata": {
  "kernelspec": {
   "display_name": "Python 3",
   "language": "python",
   "name": "python3"
  },
  "language_info": {
   "codemirror_mode": {
    "name": "ipython",
    "version": 3
   },
   "file_extension": ".py",
   "mimetype": "text/x-python",
   "name": "python",
   "nbconvert_exporter": "python",
   "pygments_lexer": "ipython3",
   "version": "3.8.5"
  }
 },
 "nbformat": 4,
 "nbformat_minor": 2
}
