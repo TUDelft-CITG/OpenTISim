{
 "cells": [
  {
   "cell_type": "code",
   "execution_count": 1,
   "metadata": {},
   "outputs": [
    {
     "ename": "NameError",
     "evalue": "name 'containers_mixins' is not defined",
     "output_type": "error",
     "traceback": [
      "\u001b[1;31m---------------------------------------------------------------------------\u001b[0m",
      "\u001b[1;31mNameError\u001b[0m                                 Traceback (most recent call last)",
      "\u001b[1;32m<ipython-input-1-aa5fb6f28b39>\u001b[0m in \u001b[0;36m<module>\u001b[1;34m()\u001b[0m\n\u001b[0;32m      4\u001b[0m \u001b[1;32mimport\u001b[0m \u001b[0mmatplotlib\u001b[0m\u001b[1;33m.\u001b[0m\u001b[0mpyplot\u001b[0m \u001b[1;32mas\u001b[0m \u001b[0mplt\u001b[0m\u001b[1;33m\u001b[0m\u001b[0m\n\u001b[0;32m      5\u001b[0m \u001b[1;33m\u001b[0m\u001b[0m\n\u001b[1;32m----> 6\u001b[1;33m \u001b[1;32mfrom\u001b[0m \u001b[0mterminal_optimization\u001b[0m \u001b[1;32mimport\u001b[0m \u001b[0mcontainer_objects\u001b[0m\u001b[1;33m\u001b[0m\u001b[0m\n\u001b[0m\u001b[0;32m      7\u001b[0m \u001b[1;32mfrom\u001b[0m \u001b[0mterminal_optimization\u001b[0m \u001b[1;32mimport\u001b[0m \u001b[0mcontainer_defaults\u001b[0m\u001b[1;33m\u001b[0m\u001b[0m\n\u001b[0;32m      8\u001b[0m \u001b[1;32mfrom\u001b[0m \u001b[0mterminal_optimization\u001b[0m \u001b[1;32mimport\u001b[0m \u001b[0mcontainer_system\u001b[0m\u001b[1;33m\u001b[0m\u001b[0m\n",
      "\u001b[1;32mc:\\checkouts\\github\\terminal-optimization\\src\\terminal_optimization\\container_objects.py\u001b[0m in \u001b[0;36m<module>\u001b[1;34m()\u001b[0m\n\u001b[0;32m     32\u001b[0m \u001b[1;33m\u001b[0m\u001b[0m\n\u001b[0;32m     33\u001b[0m \u001b[1;31m# The generic Quay_wall class\u001b[0m\u001b[1;33m\u001b[0m\u001b[1;33m\u001b[0m\u001b[0m\n\u001b[1;32m---> 34\u001b[1;33m Quay_wall = type('Quay_wall', (containers_mixins.identifiable_properties_mixin,  # Give it a name\n\u001b[0m\u001b[0;32m     35\u001b[0m                                \u001b[0mcontainers_mixins\u001b[0m\u001b[1;33m.\u001b[0m\u001b[0mquay_wall_properties_mixin\u001b[0m\u001b[1;33m,\u001b[0m\u001b[1;33m\u001b[0m\u001b[0m\n\u001b[0;32m     36\u001b[0m                                \u001b[0mcontainers_mixins\u001b[0m\u001b[1;33m.\u001b[0m\u001b[0mhistory_properties_mixin\u001b[0m\u001b[1;33m,\u001b[0m  \u001b[1;31m# Give it procurement history\u001b[0m\u001b[1;33m\u001b[0m\u001b[0m\n",
      "\u001b[1;31mNameError\u001b[0m: name 'containers_mixins' is not defined"
     ]
    }
   ],
   "source": [
    "import numpy as np\n",
    "import pandas as pd\n",
    "\n",
    "import matplotlib.pyplot as plt\n",
    "\n",
    "from terminal_optimization import container_objects\n",
    "from terminal_optimization import container_defaults\n",
    "from terminal_optimization import container_system"
   ]
  },
  {
   "cell_type": "markdown",
   "metadata": {},
   "source": [
    "# 0. Prepare inputs"
   ]
  },
  {
   "cell_type": "code",
   "execution_count": null,
   "metadata": {},
   "outputs": [],
   "source": [
    "startyear = 2018\n",
    "lifecycle = 10"
   ]
  },
  {
   "cell_type": "markdown",
   "metadata": {},
   "source": [
    "## 0.1 Generate demand forecast scenario"
   ]
  },
  {
   "cell_type": "code",
   "execution_count": null,
   "metadata": {},
   "outputs": [],
   "source": [
    "years = list(range(startyear, startyear+lifecycle))\n",
    "\n",
    "demand = []\n",
    "for year in years:\n",
    "    if year < 2023:\n",
    "        demand.append(750_000)\n",
    "    else:\n",
    "        demand.append(1_600_000)\n",
    "\n",
    "scenario_data={'year': years, 'volume': demand}\n",
    "\n",
    "# instantiate a commodity objects\n",
    "# maize\n",
    "container_defaults.maize_data['handysize_perc'] = 0\n",
    "container_defaults.maize_data['handymax_perc'] = 100\n",
    "container_defaults.maize_data['panamax_perc'] = 0\n",
    "container_defaults.maize_data['handling_fee'] = 9.8 # example Wijnand\n",
    "container_defaults.maize_data['historic_data'] = []\n",
    "maize = container_objects.Commodity(**container_defaults.maize_data)\n",
    "maize.scenario_data = pd.DataFrame(data=scenario_data)\n",
    "\n",
    "# wheat\n",
    "container_defaults.wheat_data['historic_data'] = []\n",
    "container_defaults.wheat_data['scenario_data'] = []\n",
    "wheat = container_objects.Commodity(**container_defaults.wheat_data)\n",
    "\n",
    "# soybeans\n",
    "container_defaults.soybean_data['historic_data'] = []\n",
    "container_defaults.soybean_data['scenario_data'] = []\n",
    "soybeans = container_objects.Commodity(**container_defaults.soybean_data)\n",
    "\n",
    "# combine\n",
    "demand = [maize, wheat, soybeans]\n",
    "\n",
    "# plot scenarios \n",
    "if False:\n",
    "    maize.plot_demand()\n",
    "    wheat.plot_demand()\n",
    "    soybeans.plot_demand()"
   ]
  },
  {
   "cell_type": "markdown",
   "metadata": {},
   "source": [
    "## 0.2 Generate vessels"
   ]
  },
  {
   "cell_type": "code",
   "execution_count": null,
   "metadata": {},
   "outputs": [],
   "source": [
    "# instantiate vessels\n",
    "handysize = container_objects.Vessel(**container_defaults.handysize_data)\n",
    "container_defaults.handymax_data['call_size'] = 50000\n",
    "handymax = container_objects.Vessel(**container_defaults.handymax_data)\n",
    "panamax = container_objects.Vessel(**container_defaults.panamax_data)\n",
    "\n",
    "\n",
    "vessels = [handysize, handymax, panamax] "
   ]
  },
  {
   "cell_type": "markdown",
   "metadata": {},
   "source": [
    "# 1. Instatiate terminal system"
   ]
  },
  {
   "cell_type": "code",
   "execution_count": null,
   "metadata": {},
   "outputs": [],
   "source": [
    "Terminal = container_system.System(startyear = startyear, \n",
    "                         lifecycle = lifecycle, \n",
    "                         elements = demand + vessels, \n",
    "                         operational_hours = 5840,   # example Wijnand\n",
    "                         debug=True,\n",
    "                         crane_type_defaults=container_defaults.mobile_crane_data, \n",
    "                         storage_type_defaults=container_defaults.silo_data)"
   ]
  },
  {
   "cell_type": "markdown",
   "metadata": {},
   "source": [
    "# 2. Start simulation\n",
    "Develop terminal given the throughput scenario and investment triggers implemented"
   ]
  },
  {
   "cell_type": "code",
   "execution_count": null,
   "metadata": {
    "scrolled": false
   },
   "outputs": [],
   "source": [
    "Terminal.simulate()"
   ]
  },
  {
   "cell_type": "markdown",
   "metadata": {},
   "source": [
    "## Report all elements"
   ]
  },
  {
   "cell_type": "code",
   "execution_count": null,
   "metadata": {
    "scrolled": false
   },
   "outputs": [],
   "source": [
    "if False: \n",
    "    for element in Terminal.elements:\n",
    "        print(\"\")\n",
    "        print(element.name)\n",
    "        print(\"\")\n",
    "        print(element.__dict__)"
   ]
  },
  {
   "cell_type": "code",
   "execution_count": null,
   "metadata": {},
   "outputs": [],
   "source": [
    "Terminal.terminal_elements_plot()"
   ]
  },
  {
   "cell_type": "code",
   "execution_count": null,
   "metadata": {
    "scrolled": false
   },
   "outputs": [],
   "source": [
    "Terminal.terminal_capacity_plot()"
   ]
  },
  {
   "cell_type": "code",
   "execution_count": null,
   "metadata": {},
   "outputs": [],
   "source": [
    "# add cash flow information for each of the Terminal elements\n",
    "cash_flows, cash_flows_WACC_real = Terminal.add_cashflow_elements()"
   ]
  },
  {
   "cell_type": "code",
   "execution_count": null,
   "metadata": {},
   "outputs": [],
   "source": [
    "Terminal.cashflow_plot(cash_flows)"
   ]
  },
  {
   "cell_type": "code",
   "execution_count": null,
   "metadata": {},
   "outputs": [],
   "source": [
    "Terminal.cashflow_plot(cash_flows_WACC_real)"
   ]
  },
  {
   "cell_type": "markdown",
   "metadata": {},
   "source": [
    "## SandBox"
   ]
  },
  {
   "cell_type": "code",
   "execution_count": null,
   "metadata": {},
   "outputs": [],
   "source": [
    "Terminal.NPV()"
   ]
  }
 ],
 "metadata": {
  "kernelspec": {
   "display_name": "Python 3",
   "language": "python",
   "name": "python3"
  },
  "language_info": {
   "codemirror_mode": {
    "name": "ipython",
    "version": 3
   },
   "file_extension": ".py",
   "mimetype": "text/x-python",
   "name": "python",
   "nbconvert_exporter": "python",
   "pygments_lexer": "ipython3",
   "version": "3.6.3"
  }
 },
 "nbformat": 4,
 "nbformat_minor": 2
}
