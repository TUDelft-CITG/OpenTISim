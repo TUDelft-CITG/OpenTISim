{
 "cells": [
  {
   "cell_type": "code",
   "execution_count": null,
   "metadata": {},
   "outputs": [],
   "source": [
    "import numpy as np\n",
    "import pandas as pd\n",
    "import statistics as st\n",
    "import matplotlib.pyplot as plt\n",
    "import math\n",
    "\n",
    "from opentisim.containers import container_objects\n",
    "from opentisim.containers import container_defaults\n",
    "from opentisim.containers import container_system\n",
    "\n",
    "from opentisim.core import core\n",
    "from opentisim.plot import plot\n",
    "\n",
    "plt.style.use('seaborn-darkgrid')"
   ]
  },
  {
   "cell_type": "markdown",
   "metadata": {},
   "source": [
    "# 0. Prepare inputs"
   ]
  },
  {
   "cell_type": "code",
   "execution_count": null,
   "metadata": {},
   "outputs": [],
   "source": [
    "startyear = 2021\n",
    "lifecycle = 10"
   ]
  },
  {
   "cell_type": "markdown",
   "metadata": {},
   "source": [
    "## 0.1 Generate demand forecast scenario"
   ]
  },
  {
   "cell_type": "code",
   "execution_count": null,
   "metadata": {},
   "outputs": [],
   "source": [
    "years = list(range(startyear, startyear+lifecycle))\n",
    "\n",
    "demand = []\n",
    "for year in years:\n",
    "    if year <= 2025:\n",
    "        demand.append(300_000)\n",
    "    else:\n",
    "        demand.append(750_000)\n",
    "\n",
    "scenario_data={'year': years, 'volume': demand}\n",
    "\n",
    "# ladens\n",
    "container_defaults.container_data['historic_data'] = []\n",
    "container = container_objects.Commodity(**container_defaults.container_data)\n",
    "container.scenario_data = pd.DataFrame(data=scenario_data)\n",
    "\n",
    "# combine\n",
    "demand = [container]\n",
    "\n",
    "\n",
    "# plot scenarios \n",
    "if False:\n",
    "    laden.plot_demand()"
   ]
  },
  {
   "cell_type": "markdown",
   "metadata": {},
   "source": [
    "## 0.2 Generate vessels"
   ]
  },
  {
   "cell_type": "code",
   "execution_count": null,
   "metadata": {},
   "outputs": [],
   "source": [
    "# instantiate vessels\n",
    "fully_cellular = container_objects.Vessel(**container_defaults.fully_cellular_data)\n",
    "panamax = container_objects.Vessel(**container_defaults.panamax_data)\n",
    "panamax_max = container_objects.Vessel(**container_defaults.panamax_max_data)\n",
    "post_panamax_I = container_objects.Vessel(**container_defaults.post_panamax_I_data)\n",
    "post_panamax_II = container_objects.Vessel(**container_defaults.post_panamax_II_data)\n",
    "new_panamax_data = container_objects.Vessel(**container_defaults.new_panamax_data)\n",
    "VLCS = container_objects.Vessel(**container_defaults.VLCS_data)\n",
    "ULCS = container_objects.Vessel(**container_defaults.ULCS_data)\n",
    "\n",
    "vessels = [fully_cellular, panamax, panamax_max, post_panamax_I, post_panamax_II, new_panamax_data, VLCS, ULCS] "
   ]
  },
  {
   "cell_type": "markdown",
   "metadata": {},
   "source": [
    "# 1. Instatiate terminal system"
   ]
  },
  {
   "cell_type": "code",
   "execution_count": null,
   "metadata": {},
   "outputs": [],
   "source": [
    "# Terminal_calcs=[]\n",
    "# stack_cranes = ['rtg', 'rmg', 'sc', 'rs']\n",
    "# # Cranes = [container_defaults.rmg', 'rtg', 'sc', 'rs']\n",
    "# for crane in stack_cranes:   \n",
    "#     Terminal_dummy = container_system.System(startyear = startyear, \n",
    "#                                              lifecycle = lifecycle, \n",
    "#                                              elements = demand + vessels, \n",
    "#                                              operational_hours = 8500,   \n",
    "#                                              debug=False,\n",
    "#                                              stack_equipment = crane,\n",
    "#                                              laden_stack = crane) \n",
    "#     NPV, data=Terminal_dummy.simulate()\n",
    "#     Terminal_calcs.append(data)\n",
    "# print(Terminal_calcs)\n"
   ]
  },
  {
   "cell_type": "code",
   "execution_count": null,
   "metadata": {},
   "outputs": [],
   "source": [
    "# def chunkIt(seq, num):\n",
    "#     avg = len(seq) / float(num)\n",
    "#     out = []\n",
    "#     last = 0.0\n",
    "\n",
    "#     while last < len(seq):\n",
    "#         out.append(seq[int(last):int(last + avg)])\n",
    "#         last += avg\n",
    "\n",
    "#     return out"
   ]
  },
  {
   "cell_type": "code",
   "execution_count": null,
   "metadata": {},
   "outputs": [],
   "source": [
    "# Terminal_calcs=[]\n",
    "# data_overview = []\n",
    "# stack_cranes = ['rtg', 'rmg', 'sc', 'rs']\n",
    "# fuel_costs = [0.1, 0.5, 1, 2]\n",
    "# power_costs = [0.0, 0.05, 0.1, 0.32]\n",
    "# land_costs = [0, 50, 100, 375]\n",
    "\n",
    "\n",
    "# for crane in stack_cranes:\n",
    "#     for i in power_costs: \n",
    "#         Terminal_dummy = container_system.System(startyear = startyear, \n",
    "#                                                  lifecycle = lifecycle, \n",
    "#                                                  elements = demand + vessels, \n",
    "#                                                  operational_hours = 7500,   \n",
    "#                                                  debug=False,\n",
    "#                                                  stack_equipment = crane,\n",
    "#                                                  laden_stack = crane,\n",
    "#                                                  energy_price = i ) \n",
    "#         NPV, data=Terminal_dummy.simulate()\n",
    "#         Terminal_calcs.append(NPV)\n",
    "#         data_overview.append(data)\n",
    "        \n",
    "# print(Terminal_calcs)\n",
    "# print(data_overview)\n"
   ]
  },
  {
   "cell_type": "code",
   "execution_count": null,
   "metadata": {
    "scrolled": true
   },
   "outputs": [],
   "source": [
    "# out=chunkIt(Terminal_calcs, len(land_costs))\n",
    "\n",
    "# rtg=out[0]\n",
    "# rmg=out[1]\n",
    "# sc=out[2]\n",
    "# rs=out[3]\n",
    "\n",
    "# # rtg=[-205500000, -248300000, -304000000, -368240000]\n",
    "# # rmg=[-234270000, -272064000, -321630000, -378327000]\n",
    "# # sc=[-241610000, -281480000, -333630000, -393442000]\n",
    "# # rs=[-217999000, -264414772, -324757000, -393380000]\n",
    "\n",
    "# ind = np.arange(4)  # the x locations for the groups\n",
    "# width = 0.1       # the width of the bars\n",
    "\n",
    "\n",
    "# fig, ax = plt.subplots(figsize=(16, 7))\n",
    "# ax.bar(ind, rtg, width = width, label =\"RTG\", color = 'coral')\n",
    "# ax.bar(ind+width, rmg, width = width, label=\"RMG\", color = 'darkcyan')\n",
    "# ax.bar(ind+2*width, sc, width = width, label=\"Straddle carrier\", color = 'darkkhaki')\n",
    "# ax.bar(ind+3*width, rs, width = width, label=\"Reach stacker\", color = 'cornflowerblue')\n",
    "# ax.set_xticks(ind+3*width/3)\n",
    "# ax.set_xticklabels(('20', '40', '70', '100'))\n",
    "# plt.ylabel('Net present value [00 M USD]')\n",
    "# plt.xlabel('Cost of labour [k USD/FTE]')\n",
    "# plt.legend()\n",
    "# ax.set_title('NPV per equipment for varying cost of labour')\n",
    "# plt.show()\n",
    "# plt.savefig('C:/Users/908538/Google Drive/Afstuderen/02. Model/Masterfile/Plots/fuel.png', dpi=400)\n"
   ]
  },
  {
   "cell_type": "code",
   "execution_count": null,
   "metadata": {},
   "outputs": [],
   "source": [
    "Terminal = container_system.System(startyear = startyear, \n",
    "                         lifecycle = lifecycle, \n",
    "                         elements = demand + vessels, \n",
    "                         operational_hours = 7500,  \n",
    "                         debug=True,\n",
    "                         crane_type_defaults=container_defaults.sts_crane_data) \n",
    "Terminal.modelframe = list(range(startyear, startyear + lifecycle))"
   ]
  },
  {
   "cell_type": "markdown",
   "metadata": {},
   "source": [
    "# 2. Start simulation\n",
    "Develop terminal given the throughput scenario and investment triggers implemented"
   ]
  },
  {
   "cell_type": "code",
   "execution_count": null,
   "metadata": {
    "scrolled": false
   },
   "outputs": [],
   "source": [
    "Terminal.simulate()"
   ]
  },
  {
   "cell_type": "markdown",
   "metadata": {},
   "source": [
    "## Report all elements"
   ]
  },
  {
   "cell_type": "code",
   "execution_count": null,
   "metadata": {
    "scrolled": false
   },
   "outputs": [],
   "source": [
    "if True: \n",
    "    for element in Terminal.elements:\n",
    "        print(\"\")\n",
    "        print(element.name)\n",
    "        print(\"\")\n",
    "        print(element.__dict__)"
   ]
  },
  {
   "cell_type": "code",
   "execution_count": null,
   "metadata": {
    "scrolled": true
   },
   "outputs": [],
   "source": [
    "cash_flows, cash_flows_WACC_real = core.add_cashflow_elements(Terminal)"
   ]
  },
  {
   "cell_type": "code",
   "execution_count": null,
   "metadata": {},
   "outputs": [],
   "source": [
    "Terminal.opex_plot(cash_flows)"
   ]
  },
  {
   "cell_type": "code",
   "execution_count": null,
   "metadata": {},
   "outputs": [],
   "source": [
    "Terminal.terminal_elements_plot()"
   ]
  },
  {
   "cell_type": "code",
   "execution_count": null,
   "metadata": {},
   "outputs": [],
   "source": [
    "Terminal.land_use_plot()"
   ]
  },
  {
   "cell_type": "code",
   "execution_count": null,
   "metadata": {},
   "outputs": [],
   "source": [
    "plot.cashflow_plot(cash_flows)"
   ]
  },
  {
   "cell_type": "markdown",
   "metadata": {},
   "source": [
    "## SandBox"
   ]
  },
  {
   "cell_type": "code",
   "execution_count": null,
   "metadata": {},
   "outputs": [],
   "source": [
    "core.NPV(Terminal)"
   ]
  },
  {
   "cell_type": "code",
   "execution_count": null,
   "metadata": {},
   "outputs": [],
   "source": []
  }
 ],
 "metadata": {
  "kernelspec": {
   "display_name": "Python 3",
   "language": "python",
   "name": "python3"
  },
  "language_info": {
   "codemirror_mode": {
    "name": "ipython",
    "version": 3
   },
   "file_extension": ".py",
   "mimetype": "text/x-python",
   "name": "python",
   "nbconvert_exporter": "python",
   "pygments_lexer": "ipython3",
   "version": "3.9.5"
  }
 },
 "nbformat": 4,
 "nbformat_minor": 2
}
