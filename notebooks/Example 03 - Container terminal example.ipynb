{
 "cells": [
  {
   "cell_type": "code",
   "execution_count": 1,
   "metadata": {},
   "outputs": [],
   "source": [
    "import numpy as np\n",
    "import pandas as pd\n",
    "import statistics as st\n",
    "import matplotlib.pyplot as plt\n",
    "\n",
    "from terminal_optimization import container_objects\n",
    "from terminal_optimization import container_defaults\n",
    "from terminal_optimization import container_system\n",
    "\n",
    "plt.style.use('seaborn-darkgrid')"
   ]
  },
  {
   "cell_type": "markdown",
   "metadata": {},
   "source": [
    "# 0. Prepare inputs"
   ]
  },
  {
   "cell_type": "code",
   "execution_count": 2,
   "metadata": {},
   "outputs": [],
   "source": [
    "startyear = 2020\n",
    "lifecycle = 10"
   ]
  },
  {
   "cell_type": "markdown",
   "metadata": {},
   "source": [
    "## 0.1 Generate demand forecast scenario"
   ]
  },
  {
   "cell_type": "code",
   "execution_count": 3,
   "metadata": {},
   "outputs": [],
   "source": [
    "years = list(range(startyear, startyear+lifecycle))\n",
    "\n",
    "demand = []\n",
    "for year in years:\n",
    "    if year <= 2024:\n",
    "        demand.append(200_000)\n",
    "    else:\n",
    "        demand.append(600_000)\n",
    "\n",
    "scenario_data={'year': years, 'volume': demand}\n",
    "\n",
    "# ladens\n",
    "container_defaults.container_data['historic_data'] = []\n",
    "container = container_objects.Commodity(**container_defaults.container_data)\n",
    "container.scenario_data = pd.DataFrame(data=scenario_data)\n",
    "\n",
    "# combine\n",
    "demand = [container]\n",
    "\n",
    "\n",
    "# plot scenarios \n",
    "if False:\n",
    "    laden.plot_demand()\n",
    "\n",
    "   \n",
    "    "
   ]
  },
  {
   "cell_type": "markdown",
   "metadata": {},
   "source": [
    "## 0.2 Generate vessels"
   ]
  },
  {
   "cell_type": "code",
   "execution_count": 4,
   "metadata": {},
   "outputs": [],
   "source": [
    "# instantiate vessels\n",
    "handysize = container_objects.Vessel(**container_defaults.handysize_data)\n",
    "handymax = container_objects.Vessel(**container_defaults.handymax_data)\n",
    "panamax = container_objects.Vessel(**container_defaults.panamax_data)\n",
    "\n",
    "\n",
    "vessels = [handysize, handymax, panamax] \n"
   ]
  },
  {
   "cell_type": "markdown",
   "metadata": {},
   "source": [
    "# 1. Instatiate terminal system"
   ]
  },
  {
   "cell_type": "code",
   "execution_count": 5,
   "metadata": {},
   "outputs": [],
   "source": [
    "# Terminal_calcs=[]\n",
    "# stack_cranes = ['rmg', 'rtg', 'sc', 'rs']\n",
    "# fuel_costs = [0.1, 0.5, 1, 2]\n",
    "# # Cranes = [container_defaults.rmg', 'rtg', 'sc', 'rs']\n",
    "# for crane in stack_cranes:   \n",
    "#     Terminal_dummy = container_system.System(startyear = startyear, \n",
    "#                                              lifecycle = lifecycle, \n",
    "#                                              elements = demand + vessels, \n",
    "#                                              operational_hours = 7665,   # example Wijnand\n",
    "#                                              debug=False,\n",
    "#                                              stack_equipment = crane,\n",
    "#                                              laden_stack = crane) \n",
    "#     NPV=Terminal_dummy.simulate()\n",
    "#     Terminal_calcs.append(NPV)\n",
    "# print(Terminal_calcs)\n"
   ]
  },
  {
   "cell_type": "code",
   "execution_count": 6,
   "metadata": {},
   "outputs": [],
   "source": [
    "# def chunkIt(seq, num):\n",
    "#     avg = len(seq) / float(num)\n",
    "#     out = []\n",
    "#     last = 0.0\n",
    "\n",
    "#     while last < len(seq):\n",
    "#         out.append(seq[int(last):int(last + avg)])\n",
    "#         last += avg\n",
    "\n",
    "#     return out"
   ]
  },
  {
   "cell_type": "code",
   "execution_count": 7,
   "metadata": {},
   "outputs": [],
   "source": [
    "# Terminal_calcs=[]\n",
    "# stack_cranes = ['rmg', 'rtg', 'sc', 'rs']\n",
    "# fuel_costs = [0.1, 0.5, 1, 2]\n",
    "# # Cranes = [container_defaults.rmg', 'rtg', 'sc', 'rs']\n",
    "\n",
    "# for crane in stack_cranes:\n",
    "#     for i in fuel_costs: \n",
    "#         Terminal_dummy = container_system.System(startyear = startyear, \n",
    "#                                                  lifecycle = lifecycle, \n",
    "#                                                  elements = demand + vessels, \n",
    "#                                                  operational_hours = 7665,   # example Wijnand\n",
    "#                                                  debug=False,\n",
    "#                                                  stack_equipment = crane,\n",
    "#                                                  laden_stack = crane,\n",
    "#                                                  fuel_price = i ) \n",
    "#         NPV=Terminal_dummy.simulate()\n",
    "#         Terminal_calcs.append(NPV)\n",
    "# print(Terminal_calcs)\n"
   ]
  },
  {
   "cell_type": "code",
   "execution_count": 8,
   "metadata": {},
   "outputs": [],
   "source": [
    "# out=chunkIt(Terminal_calcs, len(fuel_costs))\n",
    "\n",
    "# rmg=out[0]\n",
    "# rtg=out[1]\n",
    "# sc=out[2]\n",
    "# rs=out[3]\n",
    "# print(rmg)\n",
    "\n",
    "# ind = np.arange(4)  # the x locations for the groups\n",
    "# width = 0.1       # the width of the bars\n",
    "\n",
    "\n",
    "# fig, ax = plt.subplots(figsize=(16, 7))\n",
    "# ax.bar(ind, rmg, width = width, label =\"RMG\")\n",
    "# ax.bar(ind+width, rtg, width = width, label=\"RTG\")\n",
    "# ax.bar(ind+2*width, sc, width = width, label=\"Straddle carrier\")\n",
    "# ax.bar(ind+3*width, rs, width = width, label=\"Reach stacker\")\n",
    "# ax.set_xticks(ind+3*width/3)\n",
    "# ax.set_xticklabels(('very low', 'low', 'mid', 'high'))\n",
    "# plt.ylabel('Net present value')\n",
    "# plt.xlabel('Fuel price')\n",
    "# plt.legend()\n",
    "# ax.set_title('NPV per equipment for varying fuel price')\n",
    "# plt.show()\n",
    "# plt.savefig('C:/Users/908538/Google Drive/Afstuderen/02. Model/Masterfile/Plots/fuel.png', dpi=400)\n"
   ]
  },
  {
   "cell_type": "code",
   "execution_count": null,
   "metadata": {},
   "outputs": [],
   "source": []
  },
  {
   "cell_type": "code",
   "execution_count": 9,
   "metadata": {},
   "outputs": [],
   "source": [
    "Terminal = container_system.System(startyear = startyear, \n",
    "                         lifecycle = lifecycle, \n",
    "                         elements = demand + vessels, \n",
    "                         operational_hours = 7350,  \n",
    "                         debug=False,\n",
    "                         crane_type_defaults=container_defaults.sts_crane_data) \n"
   ]
  },
  {
   "cell_type": "code",
   "execution_count": null,
   "metadata": {},
   "outputs": [],
   "source": []
  },
  {
   "cell_type": "markdown",
   "metadata": {},
   "source": [
    "# 2. Start simulation\n",
    "Develop terminal given the throughput scenario and investment triggers implemented"
   ]
  },
  {
   "cell_type": "code",
   "execution_count": 10,
   "metadata": {
    "scrolled": false
   },
   "outputs": [
    {
     "data": {
      "text/plain": [
       "324719677.80229557"
      ]
     },
     "execution_count": 10,
     "metadata": {},
     "output_type": "execute_result"
    }
   ],
   "source": [
    "Terminal.simulate()"
   ]
  },
  {
   "cell_type": "markdown",
   "metadata": {},
   "source": [
    "## Report all elements"
   ]
  },
  {
   "cell_type": "code",
   "execution_count": 11,
   "metadata": {
    "scrolled": false
   },
   "outputs": [],
   "source": [
    "if False: \n",
    "    for element in Terminal.elements:\n",
    "        print(\"\")\n",
    "        print(element.name)\n",
    "        print(\"\")\n",
    "        print(element.__dict__)"
   ]
  },
  {
   "cell_type": "code",
   "execution_count": 12,
   "metadata": {},
   "outputs": [],
   "source": [
    "cash_flows, cash_flows_WACC_real = Terminal.add_cashflow_elements()"
   ]
  },
  {
   "cell_type": "code",
   "execution_count": 13,
   "metadata": {
    "scrolled": true
   },
   "outputs": [
    {
     "data": {
      "image/png": "[encoded data removed]",
      "text/plain": [
       "<Figure size 1008x360 with 1 Axes>"
      ]
     },
     "metadata": {
      "needs_background": "light"
     },
     "output_type": "display_data"
    }
   ],
   "source": [
    "Terminal.opex_plot(cash_flows)"
   ]
  },
  {
   "cell_type": "code",
   "execution_count": 14,
   "metadata": {},
   "outputs": [
    {
     "data": {
      "image/png": "[encoded data removed]",
      "text/plain": [
       "<Figure size 1440x720 with 1 Axes>"
      ]
     },
     "metadata": {
      "needs_background": "light"
     },
     "output_type": "display_data"
    }
   ],
   "source": [
    "Terminal.terminal_elements_plot()"
   ]
  },
  {
   "cell_type": "code",
   "execution_count": 15,
   "metadata": {},
   "outputs": [
    {
     "data": {
      "image/png": "[encoded data removed]",
      "text/plain": [
       "<Figure size 1440x720 with 1 Axes>"
      ]
     },
     "metadata": {
      "needs_background": "light"
     },
     "output_type": "display_data"
    }
   ],
   "source": [
    "Terminal.land_use_plot()"
   ]
  },
  {
   "cell_type": "code",
   "execution_count": null,
   "metadata": {
    "scrolled": false
   },
   "outputs": [],
   "source": []
  },
  {
   "cell_type": "code",
   "execution_count": 16,
   "metadata": {},
   "outputs": [],
   "source": [
    "# add cash flow information for each of the Terminal elements\n",
    "cash_flows, cash_flows_WACC_real = Terminal.add_cashflow_elements()"
   ]
  },
  {
   "cell_type": "code",
   "execution_count": 17,
   "metadata": {},
   "outputs": [
    {
     "data": {
      "image/png": "[encoded data removed]",
      "text/plain": [
       "<Figure size 1152x504 with 1 Axes>"
      ]
     },
     "metadata": {
      "needs_background": "light"
     },
     "output_type": "display_data"
    }
   ],
   "source": [
    "Terminal.cashflow_plot(cash_flows)"
   ]
  },
  {
   "cell_type": "code",
   "execution_count": null,
   "metadata": {},
   "outputs": [],
   "source": []
  },
  {
   "cell_type": "code",
   "execution_count": null,
   "metadata": {},
   "outputs": [],
   "source": [
    "\n"
   ]
  },
  {
   "cell_type": "markdown",
   "metadata": {},
   "source": [
    "## SandBox"
   ]
  },
  {
   "cell_type": "code",
   "execution_count": 18,
   "metadata": {},
   "outputs": [
    {
     "data": {
      "text/plain": [
       "324719677.80229557"
      ]
     },
     "execution_count": 18,
     "metadata": {},
     "output_type": "execute_result"
    }
   ],
   "source": [
    "Terminal.NPV()"
   ]
  }
 ],
 "metadata": {
  "kernelspec": {
   "display_name": "Python 3",
   "language": "python",
   "name": "python3"
  },
  "language_info": {
   "codemirror_mode": {
    "name": "ipython",
    "version": 3
   },
   "file_extension": ".py",
   "mimetype": "text/x-python",
   "name": "python",
   "nbconvert_exporter": "python",
   "pygments_lexer": "ipython3",
   "version": "3.7.0"
  }
 },
 "nbformat": 4,
 "nbformat_minor": 2
}
