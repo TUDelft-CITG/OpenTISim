{
 "cells": [
  {
   "cell_type": "code",
   "execution_count": 1,
   "metadata": {},
   "outputs": [],
   "source": [
    "import numpy as np\n",
    "import pandas as pd\n",
    "\n",
    "import matplotlib.pyplot as plt\n",
    "\n",
    "from terminal_optimization import container_objects\n",
    "from terminal_optimization import container_defaults\n",
    "from terminal_optimization import container_system"
   ]
  },
  {
   "cell_type": "markdown",
   "metadata": {},
   "source": [
    "# 0. Prepare inputs"
   ]
  },
  {
   "cell_type": "code",
   "execution_count": 2,
   "metadata": {},
   "outputs": [],
   "source": [
    "startyear = 2020\n",
    "lifecycle = 10"
   ]
  },
  {
   "cell_type": "markdown",
   "metadata": {},
   "source": [
    "## 0.1 Generate demand forecast scenario"
   ]
  },
  {
   "cell_type": "code",
   "execution_count": 3,
   "metadata": {},
   "outputs": [
    {
     "data": {
      "image/png": "[encoded data removed]",
      "text/plain": [
       "<Figure size 720x540 with 1 Axes>"
      ]
     },
     "metadata": {
      "needs_background": "light"
     },
     "output_type": "display_data"
    }
   ],
   "source": [
    "years = list(range(startyear, startyear+lifecycle))\n",
    "\n",
    "demand = []\n",
    "for year in years:\n",
    "    if year < 2026:\n",
    "        demand.append(200_000)\n",
    "    else:\n",
    "        demand.append(600_000)\n",
    "\n",
    "scenario_data={'year': years, 'volume': demand}\n",
    "\n",
    "# ladens\n",
    "container_defaults.laden_data['historic_data'] = []\n",
    "laden = container_objects.Commodity(**container_defaults.laden_data)\n",
    "laden.scenario_data = pd.DataFrame(data=scenario_data)\n",
    "\n",
    "# combine\n",
    "demand = [laden]\n",
    "\n",
    "\n",
    "# plot scenarios \n",
    "if True:\n",
    "    laden.plot_demand()\n",
    "\n",
    "   \n",
    "    "
   ]
  },
  {
   "cell_type": "markdown",
   "metadata": {},
   "source": [
    "## 0.2 Generate vessels"
   ]
  },
  {
   "cell_type": "code",
   "execution_count": 4,
   "metadata": {},
   "outputs": [],
   "source": [
    "# instantiate vessels\n",
    "handysize = container_objects.Vessel(**container_defaults.handysize_data)\n",
    "handymax = container_objects.Vessel(**container_defaults.handymax_data)\n",
    "panamax = container_objects.Vessel(**container_defaults.panamax_data)\n",
    "\n",
    "\n",
    "vessels = [handysize, handymax, panamax] \n"
   ]
  },
  {
   "cell_type": "markdown",
   "metadata": {},
   "source": [
    "# 1. Instatiate terminal system"
   ]
  },
  {
   "cell_type": "code",
   "execution_count": 5,
   "metadata": {},
   "outputs": [],
   "source": [
    "Terminal = container_system.System(startyear = startyear, \n",
    "                         lifecycle = lifecycle, \n",
    "                         elements = demand + vessels, \n",
    "                         operational_hours = 7665,   # example Wijnand\n",
    "                         debug=True,\n",
    "                         crane_type_defaults=container_defaults.sts_crane_data, \n",
    "                         storage_type_defaults=container_defaults.silo_data)"
   ]
  },
  {
   "cell_type": "markdown",
   "metadata": {},
   "source": [
    "# 2. Start simulation\n",
    "Develop terminal given the throughput scenario and investment triggers implemented"
   ]
  },
  {
   "cell_type": "code",
   "execution_count": 6,
   "metadata": {
    "scrolled": false
   },
   "outputs": [
    {
     "name": "stdout",
     "output_type": "stream",
     "text": [
      "\n",
      "Simulate year: 2020\n",
      "  Total vessel calls: 67\n",
      "     Handysize calls: 0\n",
      "     Handymax calls: 0\n",
      "     Panamax calls: 67\n",
      "  Total cargo volume: 200000\n",
      "     a total of 0 [] is online; 0 total planned\n",
      "     a total of 0 [] is online; 0 total planned\n",
      "     a total of 0 [] is online; 0 total planned\n",
      "     a total of 0 [] is online; 0 total planned\n",
      "     a total of 0 [] is online; 0 total planned\n",
      "     a total of 0 [] is online; 0 total planned\n",
      "     a total of 0 [] is online; 0 total planned\n",
      "     a total of 0 [] is online; 0 total planned\n",
      "\n",
      "  Start analysis:\n",
      "     Berth occupancy planned (@ start of year): inf\n",
      "     Berth occupancy online (@ start of year): inf\n",
      "     Crane occupancy planned (@ start of year): inf\n",
      "     Crane occupancy online (@ start of year): inf\n",
      "     waiting time factor (@ start of year): inf\n",
      "     waiting time occupancy (@ start of year): inf\n",
      "  *** add Berth to elements\n",
      "     Berth occupancy planned (after adding berth): inf\n",
      "     Berth occupancy online (after adding berth): inf\n",
      "  *** add Quay to elements\n",
      "     Berth occupancy planned (after adding quay): inf\n",
      "     Berth occupancy online (after adding quay): inf\n",
      "  *** add Harbour crane to elements\n",
      "     Berth occupancy planned (after adding crane): 0.9889851831143416\n",
      "     Berth occupancy online (after adding crane): inf\n",
      "  *** add Harbour crane to elements\n",
      "     Berth occupancy planned (after adding crane): 0.5207156835336875\n",
      "     Berth occupancy online (after adding crane): inf\n",
      "  *** add Harbour crane to elements\n",
      "     Berth occupancy planned (after adding crane): 0.3646258503401361\n",
      "     Berth occupancy online (after adding crane): inf\n",
      "     a total of 0 ton of quay conveyor service capacity is online; 0 ton total planned\n",
      "  *** add Quay Conveyor to elements\n",
      "     a total of 0 ton of conveyor quay service capacity is online; 400 ton total planned\n",
      "     a total of 0 ton of silo storage capacity is online; 0 ton total planned\n",
      "  *** add storage to elements\n",
      "     a total of 0 ton of storage capacity is online; 6000 ton total planned\n",
      "  *** add storage to elements\n",
      "     a total of 0 ton of storage capacity is online; 12000 ton total planned\n",
      "  *** add storage to elements\n",
      "     a total of 0 ton of storage capacity is online; 18000 ton total planned\n",
      "  *** add storage to elements\n",
      "     a total of 0 ton of storage capacity is online; 24000 ton total planned\n",
      "  *** add storage to elements\n",
      "     a total of 0 ton of storage capacity is online; 30000 ton total planned\n",
      "  *** add storage to elements\n",
      "     a total of 0 ton of storage capacity is online; 36000 ton total planned\n",
      "  *** add storage to elements\n",
      "     a total of 0 ton of storage capacity is online; 42000 ton total planned\n",
      "  *** add storage to elements\n",
      "     a total of 0 ton of storage capacity is online; 48000 ton total planned\n",
      "  *** add storage to elements\n",
      "     a total of 0 ton of storage capacity is online; 54000 ton total planned\n",
      "  *** add storage to elements\n",
      "     a total of 0 ton of storage capacity is online; 60000 ton total planned\n",
      "     a total of 0 ton of conveyor hinterland service capacity is online; 0 ton total planned\n",
      "     a total of 0 ton of conveyor hinterland service capacity is online; 0 ton total planned\n",
      "     Station occupancy planned (@ start of year): inf\n",
      "     Station occupancy online (@ start of year): inf\n",
      "     Number of trains (@start of year): 0.0\n",
      "  *** add station to elements\n",
      "     Horizontal transport online (@ start of year): 0\n",
      "     Number of STS cranes (@start of year): 3\n",
      "  *** add tractor to elements\n",
      "  *** add tractor to elements\n",
      "  *** add tractor to elements\n",
      "  *** add tractor to elements\n",
      "  *** add tractor to elements\n",
      "  *** add tractor to elements\n",
      "  *** add tractor to elements\n",
      "  *** add tractor to elements\n",
      "  *** add tractor to elements\n",
      "  *** add tractor to elements\n",
      "  *** add tractor to elements\n",
      "  *** add tractor to elements\n",
      "  *** add tractor to elements\n",
      "  *** add tractor to elements\n",
      "  *** add tractor to elements\n",
      "     Stack capacity planned (@ start of year): 0\n",
      "     Stack capacity online (@ start of year): 0\n",
      "     Stack capacity required (@ start of year): 3761.7554858934172\n",
      "     Laden ground slots required (@ start of year): 752.3510971786834\n",
      "     Laden containers expected (@ start of year): 200000\n",
      "  *** add stack to elements\n",
      "  *** add stack to elements\n",
      "  *** add stack to elements\n",
      "  *** add stack to elements\n",
      "  *** add stack to elements\n"
     ]
    },
    {
     "ename": "TypeError",
     "evalue": "object.__init__() takes no arguments",
     "output_type": "error",
     "traceback": [
      "\u001b[1;31m---------------------------------------------------------------------------\u001b[0m",
      "\u001b[1;31mTypeError\u001b[0m                                 Traceback (most recent call last)",
      "\u001b[1;32m<ipython-input-6-6df989aa56ef>\u001b[0m in \u001b[0;36m<module>\u001b[1;34m\u001b[0m\n\u001b[1;32m----> 1\u001b[1;33m \u001b[0mTerminal\u001b[0m\u001b[1;33m.\u001b[0m\u001b[0msimulate\u001b[0m\u001b[1;33m(\u001b[0m\u001b[1;33m)\u001b[0m\u001b[1;33m\u001b[0m\u001b[0m\n\u001b[0m",
      "\u001b[1;32mc:\\users\\908538\\google drive\\afstuderen\\02. model\\masterfile\\terminal-optimization\\src\\terminal_optimization\\container_system.py\u001b[0m in \u001b[0;36msimulate\u001b[1;34m(self)\u001b[0m\n\u001b[0;32m    110\u001b[0m             \u001b[0mself\u001b[0m\u001b[1;33m.\u001b[0m\u001b[0mladen_stack_invest\u001b[0m\u001b[1;33m(\u001b[0m\u001b[0myear\u001b[0m\u001b[1;33m)\u001b[0m\u001b[1;33m\u001b[0m\u001b[0m\n\u001b[0;32m    111\u001b[0m \u001b[1;33m\u001b[0m\u001b[0m\n\u001b[1;32m--> 112\u001b[1;33m             \u001b[0mself\u001b[0m\u001b[1;33m.\u001b[0m\u001b[0mstack_equipment_invest\u001b[0m\u001b[1;33m(\u001b[0m\u001b[0myear\u001b[0m\u001b[1;33m)\u001b[0m\u001b[1;33m\u001b[0m\u001b[0m\n\u001b[0m\u001b[0;32m    113\u001b[0m \u001b[1;33m\u001b[0m\u001b[0m\n\u001b[0;32m    114\u001b[0m         \u001b[1;31m# 3. for each year calculate the energy costs (requires insight in realized demands)\u001b[0m\u001b[1;33m\u001b[0m\u001b[1;33m\u001b[0m\u001b[0m\n",
      "\u001b[1;32mc:\\users\\908538\\google drive\\afstuderen\\02. model\\masterfile\\terminal-optimization\\src\\terminal_optimization\\container_system.py\u001b[0m in \u001b[0;36mstack_equipment_invest\u001b[1;34m(self, year)\u001b[0m\n\u001b[0;32m    917\u001b[0m             \u001b[0mstack_equipment\u001b[0m \u001b[1;33m=\u001b[0m \u001b[0mStack_Equipment\u001b[0m\u001b[1;33m(\u001b[0m\u001b[1;33m**\u001b[0m\u001b[0mcontainer_defaults\u001b[0m\u001b[1;33m.\u001b[0m\u001b[0mrtg_data\u001b[0m\u001b[1;33m)\u001b[0m\u001b[1;33m\u001b[0m\u001b[0m\n\u001b[0;32m    918\u001b[0m         \u001b[1;32melif\u001b[0m \u001b[0mself\u001b[0m\u001b[1;33m.\u001b[0m\u001b[0mstack_equipment\u001b[0m \u001b[1;33m==\u001b[0m \u001b[1;34m'rmg'\u001b[0m\u001b[1;33m:\u001b[0m\u001b[1;33m\u001b[0m\u001b[0m\n\u001b[1;32m--> 919\u001b[1;33m             \u001b[0mstack_equipment\u001b[0m \u001b[1;33m=\u001b[0m \u001b[0mStack_Equipment\u001b[0m\u001b[1;33m(\u001b[0m\u001b[1;33m**\u001b[0m\u001b[0mcontainer_defaults\u001b[0m\u001b[1;33m.\u001b[0m\u001b[0mrmg_data\u001b[0m\u001b[1;33m)\u001b[0m\u001b[1;33m\u001b[0m\u001b[0m\n\u001b[0m\u001b[0;32m    920\u001b[0m         \u001b[1;32melif\u001b[0m \u001b[0mself\u001b[0m\u001b[1;33m.\u001b[0m\u001b[0mstack_equipment\u001b[0m \u001b[1;33m==\u001b[0m \u001b[1;34m'sc'\u001b[0m\u001b[1;33m:\u001b[0m\u001b[1;33m\u001b[0m\u001b[0m\n\u001b[0;32m    921\u001b[0m             \u001b[0mstack_equipment\u001b[0m \u001b[1;33m=\u001b[0m \u001b[0mStack_Equipment\u001b[0m\u001b[1;33m(\u001b[0m\u001b[1;33m**\u001b[0m\u001b[0mcontainer_defaults\u001b[0m\u001b[1;33m.\u001b[0m\u001b[0msc_data\u001b[0m\u001b[1;33m)\u001b[0m\u001b[1;33m\u001b[0m\u001b[0m\n",
      "\u001b[1;32mc:\\users\\908538\\google drive\\afstuderen\\02. model\\masterfile\\terminal-optimization\\src\\terminal_optimization\\container_mixins.py\u001b[0m in \u001b[0;36m__init__\u001b[1;34m(self, name, id, *args, **kwargs)\u001b[0m\n\u001b[0;32m     41\u001b[0m \u001b[1;33m\u001b[0m\u001b[0m\n\u001b[0;32m     42\u001b[0m     \u001b[1;32mdef\u001b[0m \u001b[0m__init__\u001b[0m\u001b[1;33m(\u001b[0m\u001b[0mself\u001b[0m\u001b[1;33m,\u001b[0m \u001b[0mname\u001b[0m\u001b[1;33m=\u001b[0m\u001b[1;33m[\u001b[0m\u001b[1;33m]\u001b[0m\u001b[1;33m,\u001b[0m \u001b[0mid\u001b[0m\u001b[1;33m=\u001b[0m\u001b[1;32mNone\u001b[0m\u001b[1;33m,\u001b[0m \u001b[1;33m*\u001b[0m\u001b[0margs\u001b[0m\u001b[1;33m,\u001b[0m \u001b[1;33m**\u001b[0m\u001b[0mkwargs\u001b[0m\u001b[1;33m)\u001b[0m\u001b[1;33m:\u001b[0m\u001b[1;33m\u001b[0m\u001b[0m\n\u001b[1;32m---> 43\u001b[1;33m         \u001b[0msuper\u001b[0m\u001b[1;33m(\u001b[0m\u001b[1;33m)\u001b[0m\u001b[1;33m.\u001b[0m\u001b[0m__init__\u001b[0m\u001b[1;33m(\u001b[0m\u001b[1;33m*\u001b[0m\u001b[0margs\u001b[0m\u001b[1;33m,\u001b[0m \u001b[1;33m**\u001b[0m\u001b[0mkwargs\u001b[0m\u001b[1;33m)\u001b[0m\u001b[1;33m\u001b[0m\u001b[0m\n\u001b[0m\u001b[0;32m     44\u001b[0m         \u001b[1;34m\"\"\"Initialization\"\"\"\u001b[0m\u001b[1;33m\u001b[0m\u001b[0m\n\u001b[0;32m     45\u001b[0m         \u001b[0mself\u001b[0m\u001b[1;33m.\u001b[0m\u001b[0mname\u001b[0m \u001b[1;33m=\u001b[0m \u001b[0mname\u001b[0m\u001b[1;33m\u001b[0m\u001b[0m\n",
      "\u001b[1;32mc:\\users\\908538\\google drive\\afstuderen\\02. model\\masterfile\\terminal-optimization\\src\\terminal_optimization\\container_mixins.py\u001b[0m in \u001b[0;36m__init__\u001b[1;34m(self, year_purchase, year_online, *args, **kwargs)\u001b[0m\n\u001b[0;32m     55\u001b[0m \u001b[1;33m\u001b[0m\u001b[0m\n\u001b[0;32m     56\u001b[0m     \u001b[1;32mdef\u001b[0m \u001b[0m__init__\u001b[0m\u001b[1;33m(\u001b[0m\u001b[0mself\u001b[0m\u001b[1;33m,\u001b[0m \u001b[0myear_purchase\u001b[0m\u001b[1;33m=\u001b[0m\u001b[1;33m[\u001b[0m\u001b[1;33m]\u001b[0m\u001b[1;33m,\u001b[0m \u001b[0myear_online\u001b[0m\u001b[1;33m=\u001b[0m\u001b[1;33m[\u001b[0m\u001b[1;33m]\u001b[0m\u001b[1;33m,\u001b[0m \u001b[1;33m*\u001b[0m\u001b[0margs\u001b[0m\u001b[1;33m,\u001b[0m \u001b[1;33m**\u001b[0m\u001b[0mkwargs\u001b[0m\u001b[1;33m)\u001b[0m\u001b[1;33m:\u001b[0m\u001b[1;33m\u001b[0m\u001b[0m\n\u001b[1;32m---> 57\u001b[1;33m         \u001b[0msuper\u001b[0m\u001b[1;33m(\u001b[0m\u001b[1;33m)\u001b[0m\u001b[1;33m.\u001b[0m\u001b[0m__init__\u001b[0m\u001b[1;33m(\u001b[0m\u001b[1;33m*\u001b[0m\u001b[0margs\u001b[0m\u001b[1;33m,\u001b[0m \u001b[1;33m**\u001b[0m\u001b[0mkwargs\u001b[0m\u001b[1;33m)\u001b[0m\u001b[1;33m\u001b[0m\u001b[0m\n\u001b[0m\u001b[0;32m     58\u001b[0m         \u001b[1;34m\"\"\"Initialization\"\"\"\u001b[0m\u001b[1;33m\u001b[0m\u001b[0m\n\u001b[0;32m     59\u001b[0m         \u001b[0mself\u001b[0m\u001b[1;33m.\u001b[0m\u001b[0myear_purchase\u001b[0m \u001b[1;33m=\u001b[0m \u001b[0myear_purchase\u001b[0m\u001b[1;33m\u001b[0m\u001b[0m\n",
      "\u001b[1;32mc:\\users\\908538\\google drive\\afstuderen\\02. model\\masterfile\\terminal-optimization\\src\\terminal_optimization\\container_mixins.py\u001b[0m in \u001b[0;36m__init__\u001b[1;34m(self, type, ownership, delivery_time, lifespan, unit_rate, mobilisation, maintenance_perc, insurance_perc, crew, salary, required, fuel_consumption, *args, **kwargs)\u001b[0m\n\u001b[0;32m    263\u001b[0m     def __init__(self, type, ownership, delivery_time, lifespan, unit_rate, mobilisation, maintenance_perc, insurance_perc, crew,\n\u001b[0;32m    264\u001b[0m                  salary, required, fuel_consumption, *args, **kwargs):\n\u001b[1;32m--> 265\u001b[1;33m         \u001b[0msuper\u001b[0m\u001b[1;33m(\u001b[0m\u001b[1;33m)\u001b[0m\u001b[1;33m.\u001b[0m\u001b[0m__init__\u001b[0m\u001b[1;33m(\u001b[0m\u001b[1;33m*\u001b[0m\u001b[0margs\u001b[0m\u001b[1;33m,\u001b[0m \u001b[1;33m**\u001b[0m\u001b[0mkwargs\u001b[0m\u001b[1;33m)\u001b[0m\u001b[1;33m\u001b[0m\u001b[0m\n\u001b[0m\u001b[0;32m    266\u001b[0m         \u001b[1;34m\"initialize\"\u001b[0m\u001b[1;33m\u001b[0m\u001b[0m\n\u001b[0;32m    267\u001b[0m         \u001b[0mself\u001b[0m\u001b[1;33m.\u001b[0m\u001b[0mtype\u001b[0m \u001b[1;33m=\u001b[0m \u001b[0mtype\u001b[0m\u001b[1;33m\u001b[0m\u001b[0m\n",
      "\u001b[1;32mc:\\users\\908538\\google drive\\afstuderen\\02. model\\masterfile\\terminal-optimization\\src\\terminal_optimization\\container_mixins.py\u001b[0m in \u001b[0;36m__init__\u001b[1;34m(self, capex, *args, **kwargs)\u001b[0m\n\u001b[0;32m     67\u001b[0m \u001b[1;33m\u001b[0m\u001b[0m\n\u001b[0;32m     68\u001b[0m     \u001b[1;32mdef\u001b[0m \u001b[0m__init__\u001b[0m\u001b[1;33m(\u001b[0m\u001b[0mself\u001b[0m\u001b[1;33m,\u001b[0m \u001b[0mcapex\u001b[0m\u001b[1;33m=\u001b[0m\u001b[1;33m[\u001b[0m\u001b[1;33m]\u001b[0m\u001b[1;33m,\u001b[0m \u001b[1;33m*\u001b[0m\u001b[0margs\u001b[0m\u001b[1;33m,\u001b[0m \u001b[1;33m**\u001b[0m\u001b[0mkwargs\u001b[0m\u001b[1;33m)\u001b[0m\u001b[1;33m:\u001b[0m\u001b[1;33m\u001b[0m\u001b[0m\n\u001b[1;32m---> 69\u001b[1;33m         \u001b[0msuper\u001b[0m\u001b[1;33m(\u001b[0m\u001b[1;33m)\u001b[0m\u001b[1;33m.\u001b[0m\u001b[0m__init__\u001b[0m\u001b[1;33m(\u001b[0m\u001b[1;33m*\u001b[0m\u001b[0margs\u001b[0m\u001b[1;33m,\u001b[0m \u001b[1;33m**\u001b[0m\u001b[0mkwargs\u001b[0m\u001b[1;33m)\u001b[0m\u001b[1;33m\u001b[0m\u001b[0m\n\u001b[0m\u001b[0;32m     70\u001b[0m         \u001b[1;34m\"\"\"Initialization\"\"\"\u001b[0m\u001b[1;33m\u001b[0m\u001b[0m\n\u001b[0;32m     71\u001b[0m         \u001b[0mself\u001b[0m\u001b[1;33m.\u001b[0m\u001b[0mcapex\u001b[0m \u001b[1;33m=\u001b[0m \u001b[0mcapex\u001b[0m\u001b[1;33m\u001b[0m\u001b[0m\n",
      "\u001b[1;32mc:\\users\\908538\\google drive\\afstuderen\\02. model\\masterfile\\terminal-optimization\\src\\terminal_optimization\\container_mixins.py\u001b[0m in \u001b[0;36m__init__\u001b[1;34m(self, labour, maintenance, energy, insurance, lease, demurrage, residual, *args, **kwargs)\u001b[0m\n\u001b[0;32m     79\u001b[0m     def __init__(self, labour=[], maintenance=[], energy=[], insurance=[],\n\u001b[0;32m     80\u001b[0m                  lease=[], demurrage=[], residual=[], *args, **kwargs):\n\u001b[1;32m---> 81\u001b[1;33m         \u001b[0msuper\u001b[0m\u001b[1;33m(\u001b[0m\u001b[1;33m)\u001b[0m\u001b[1;33m.\u001b[0m\u001b[0m__init__\u001b[0m\u001b[1;33m(\u001b[0m\u001b[1;33m*\u001b[0m\u001b[0margs\u001b[0m\u001b[1;33m,\u001b[0m \u001b[1;33m**\u001b[0m\u001b[0mkwargs\u001b[0m\u001b[1;33m)\u001b[0m\u001b[1;33m\u001b[0m\u001b[0m\n\u001b[0m\u001b[0;32m     82\u001b[0m         \u001b[1;34m\"\"\"Initialization\"\"\"\u001b[0m\u001b[1;33m\u001b[0m\u001b[0m\n\u001b[0;32m     83\u001b[0m         \u001b[0mself\u001b[0m\u001b[1;33m.\u001b[0m\u001b[0mlabour\u001b[0m \u001b[1;33m=\u001b[0m \u001b[0mlabour\u001b[0m\u001b[1;33m\u001b[0m\u001b[0m\n",
      "\u001b[1;32mc:\\users\\908538\\google drive\\afstuderen\\02. model\\masterfile\\terminal-optimization\\src\\terminal_optimization\\container_mixins.py\u001b[0m in \u001b[0;36m__init__\u001b[1;34m(self, triggers, *args, **kwargs)\u001b[0m\n\u001b[0;32m    107\u001b[0m \u001b[1;33m\u001b[0m\u001b[0m\n\u001b[0;32m    108\u001b[0m     \u001b[1;32mdef\u001b[0m \u001b[0m__init__\u001b[0m\u001b[1;33m(\u001b[0m\u001b[0mself\u001b[0m\u001b[1;33m,\u001b[0m \u001b[0mtriggers\u001b[0m\u001b[1;33m=\u001b[0m\u001b[1;33m[\u001b[0m\u001b[1;33m]\u001b[0m\u001b[1;33m,\u001b[0m \u001b[1;33m*\u001b[0m\u001b[0margs\u001b[0m\u001b[1;33m,\u001b[0m \u001b[1;33m**\u001b[0m\u001b[0mkwargs\u001b[0m\u001b[1;33m)\u001b[0m\u001b[1;33m:\u001b[0m\u001b[1;33m\u001b[0m\u001b[0m\n\u001b[1;32m--> 109\u001b[1;33m         \u001b[0msuper\u001b[0m\u001b[1;33m(\u001b[0m\u001b[1;33m)\u001b[0m\u001b[1;33m.\u001b[0m\u001b[0m__init__\u001b[0m\u001b[1;33m(\u001b[0m\u001b[1;33m*\u001b[0m\u001b[0margs\u001b[0m\u001b[1;33m,\u001b[0m \u001b[1;33m**\u001b[0m\u001b[0mkwargs\u001b[0m\u001b[1;33m)\u001b[0m\u001b[1;33m\u001b[0m\u001b[0m\n\u001b[0m\u001b[0;32m    110\u001b[0m         \u001b[1;34m\"\"\"Initialization\"\"\"\u001b[0m\u001b[1;33m\u001b[0m\u001b[0m\n\u001b[0;32m    111\u001b[0m         \u001b[0mself\u001b[0m\u001b[1;33m.\u001b[0m\u001b[0mtriggers\u001b[0m \u001b[1;33m=\u001b[0m \u001b[0mtriggers\u001b[0m\u001b[1;33m\u001b[0m\u001b[0m\n",
      "\u001b[1;31mTypeError\u001b[0m: object.__init__() takes no arguments"
     ]
    }
   ],
   "source": [
    "Terminal.simulate()"
   ]
  },
  {
   "cell_type": "markdown",
   "metadata": {},
   "source": [
    "## Report all elements"
   ]
  },
  {
   "cell_type": "code",
   "execution_count": null,
   "metadata": {
    "scrolled": false
   },
   "outputs": [],
   "source": [
    "if True: \n",
    "    for element in Terminal.elements:\n",
    "        print(\"\")\n",
    "        print(element.name)\n",
    "        print(\"\")\n",
    "        print(element.__dict__)"
   ]
  },
  {
   "cell_type": "code",
   "execution_count": null,
   "metadata": {},
   "outputs": [],
   "source": [
    "Terminal.terminal_elements_plot()"
   ]
  },
  {
   "cell_type": "code",
   "execution_count": null,
   "metadata": {
    "scrolled": false
   },
   "outputs": [],
   "source": [
    "Terminal.terminal_capacity_plot()"
   ]
  },
  {
   "cell_type": "code",
   "execution_count": null,
   "metadata": {},
   "outputs": [],
   "source": [
    "# add cash flow information for each of the Terminal elements\n",
    "cash_flows, cash_flows_WACC_real = Terminal.add_cashflow_elements()"
   ]
  },
  {
   "cell_type": "code",
   "execution_count": null,
   "metadata": {},
   "outputs": [],
   "source": [
    "Terminal.cashflow_plot(cash_flows)"
   ]
  },
  {
   "cell_type": "code",
   "execution_count": null,
   "metadata": {},
   "outputs": [],
   "source": [
    "Terminal.cashflow_plot(cash_flows_WACC_real)"
   ]
  },
  {
   "cell_type": "markdown",
   "metadata": {},
   "source": [
    "## SandBox"
   ]
  },
  {
   "cell_type": "code",
   "execution_count": null,
   "metadata": {},
   "outputs": [],
   "source": [
    "Terminal.NPV()"
   ]
  }
 ],
 "metadata": {
  "kernelspec": {
   "display_name": "Python 3",
   "language": "python",
   "name": "python3"
  },
  "language_info": {
   "codemirror_mode": {
    "name": "ipython",
    "version": 3
   },
   "file_extension": ".py",
   "mimetype": "text/x-python",
   "name": "python",
   "nbconvert_exporter": "python",
   "pygments_lexer": "ipython3",
   "version": "3.7.0"
  }
 },
 "nbformat": 4,
 "nbformat_minor": 2
}
