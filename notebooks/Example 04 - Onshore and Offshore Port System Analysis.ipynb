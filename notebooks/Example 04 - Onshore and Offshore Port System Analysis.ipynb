{
 "cells": [
  {
   "cell_type": "markdown",
   "metadata": {
    "slideshow": {
     "slide_type": "-"
    }
   },
   "source": [
    "# MSc Thesis - Hugo Stam"
   ]
  },
  {
   "cell_type": "markdown",
   "metadata": {},
   "source": [
    "### Example 04 - Onshore and Offshore Port System Analysis"
   ]
  },
  {
   "cell_type": "markdown",
   "metadata": {},
   "source": [
    "<img src=\"Figures/system_layout_alternative_1.2.png\" style=\"width:1000px\">\n",
    "<img src=\"Figures/system_layout_alternative_2.2.png\" style=\"width:1000px\">\n",
    "<img src=\"Figures/system_layout_alternative_3.2.png\" style=\"width:1000px\">"
   ]
  },
  {
   "cell_type": "markdown",
   "metadata": {},
   "source": [
    "##### Investment Strategy Simulation - Adaptive terminal planning in the light of an uncertain future\n",
    "\n",
    "* [**0. Prepare inputs:**](#0.-Prepare-inputs)<br>\n",
    "   * [**0.1 Generate demand forecast scenario:**](#0.1-Generate-demand-forecast-scenario)<br>\n",
    "   * [**0.2 Generate vessels:**](#0.2-Generate-vessels)<br>\n",
    "* [**1. Instatiate system components:**](#1.-Instatiate-system-components)<br>\n",
    "* [**2. Start simulation:**](#2.-Strart-simulation)<br>\n",
    "* [**3. Report all elements:**](#3.-Report-all-elements)<br>"
   ]
  },
  {
   "cell_type": "markdown",
   "metadata": {},
   "source": [
    "#### notes:\n"
   ]
  },
  {
   "cell_type": "code",
   "execution_count": 1,
   "metadata": {},
   "outputs": [],
   "source": [
    "# packages for data handling\n",
    "import numpy as np\n",
    "import pandas as pd\n",
    "import statistics as st\n",
    "\n",
    "# packages related to time, space and id\n",
    "import datetime, time\n",
    "import platform\n",
    "import random\n",
    "from datetime import timedelta\n",
    "\n",
    "# you need these dependencies packages related to the simulation\n",
    "import simpy\n",
    "\n",
    "# spatial libraries \n",
    "import shapely.geometry\n",
    "from simplekml import Kml, Style\n",
    "\n",
    "# packages for figures\n",
    "import matplotlib.pyplot as plt\n",
    "import matplotlib as mpl\n",
    "%matplotlib inline\n",
    "import seaborn as sns\n",
    "# sns.set(style=\"ticks\")\n",
    "# sns.set(style=\"darkgrid\", palette = \"pastel\")\n",
    "# sns.set_context(\"notebook\", font_scale=1.2, rc={\"lines.linewidth\": 1.5})\n",
    "\n",
    "from pandas.plotting import register_matplotlib_converters\n",
    "register_matplotlib_converters()\n",
    "\n",
    "# OpenTISim package\n",
    "from opentisim import container_objects\n",
    "from opentisim import container_defaults\n",
    "from opentisim import container_system_onshore as container_system_onshore\n",
    "from opentisim import container_system_offshore_barge as container_system_offshore_barge\n",
    "from opentisim import container_system_offshore_bridge as container_system_offshore_bridge\n",
    "\n",
    "# OpenCLSim package\n",
    "import openclsim.core as core\n",
    "import openclsim.model as model\n",
    "import openclsim.plot as plot\n",
    "\n",
    "# Additional import to save the initialisation of the simulation\n",
    "import openclsim.savesim as savesim\n",
    "\n",
    "# Pretty-print a Python object to a stream\n",
    "from pprint import pprint\n",
    "\n",
    "# Jupyter Widgets\n",
    "import ipywidgets as widgets\n",
    "\n",
    "# Scroll to specific cell\n",
    "from jupyter_helpers.utilities import scroll_to_current_cell"
   ]
  },
  {
   "cell_type": "markdown",
   "metadata": {},
   "source": [
    "# 0. Prepare inputs"
   ]
  },
  {
   "cell_type": "code",
   "execution_count": 2,
   "metadata": {},
   "outputs": [
    {
     "name": "stdout",
     "output_type": "stream",
     "text": [
      "Input Values\n"
     ]
    },
    {
     "data": {
      "application/vnd.jupyter.widget-view+json": {
       "model_id": "391a130b2eb742c48437d3216ddbfd55",
       "version_major": 2,
       "version_minor": 0
      },
      "text/plain": [
       "IntSlider(value=1000000, description='Demand:', max=1500000, min=500000, step=50000)"
      ]
     },
     "metadata": {},
     "output_type": "display_data"
    },
    {
     "data": {
      "application/vnd.jupyter.widget-view+json": {
       "model_id": "66d867001ecc4fd6975d45e9200d4b7c",
       "version_major": 2,
       "version_minor": 0
      },
      "text/plain": [
       "IntSlider(value=40, description='Distance:', max=60, min=20, step=20)"
      ]
     },
     "metadata": {},
     "output_type": "display_data"
    },
    {
     "data": {
      "application/vnd.jupyter.widget-view+json": {
       "model_id": "088f1d4819b8402fbb581a93535c0189",
       "version_major": 2,
       "version_minor": 0
      },
      "text/plain": [
       "Dropdown(description='OGV:', index=1, options=(('Post Panamax I (6,000 TEU)', 6000), ('New-Panamax (12,500 TEU…"
      ]
     },
     "metadata": {},
     "output_type": "display_data"
    },
    {
     "data": {
      "application/vnd.jupyter.widget-view+json": {
       "model_id": "bf893b6b24b9408491c6b262ea86602d",
       "version_major": 2,
       "version_minor": 0
      },
      "text/plain": [
       "Dropdown(description='Barge:', index=1, options=(('Small (200 TEU)', 200), ('Medium (250 TEU)', 250), ('Large …"
      ]
     },
     "metadata": {},
     "output_type": "display_data"
    },
    {
     "data": {
      "application/vnd.jupyter.widget-view+json": {
       "model_id": "7bbcff57d1eb455e9d0edd68cf866405",
       "version_major": 2,
       "version_minor": 0
      },
      "text/plain": [
       "Dropdown(description='Truck:', options=(('Small (2 TEU)', 2), ('Medium (2.5 TEU)', 2.5), ('Large (3 TEU)', 3))…"
      ]
     },
     "metadata": {},
     "output_type": "display_data"
    },
    {
     "data": {
      "application/vnd.jupyter.widget-view+json": {
       "model_id": "114a39d918ad4a16b403aa973ffbf97f",
       "version_major": 2,
       "version_minor": 0
      },
      "text/plain": [
       "IntSlider(value=10, description='Life cycle:', max=30, min=5, step=5)"
      ]
     },
     "metadata": {},
     "output_type": "display_data"
    }
   ],
   "source": [
    "# iPython Widgests\n",
    "annual_demand = widgets.IntSlider(\n",
    "    value=1000000, min=500000, max=1500000, step=50000,\n",
    "    description='Demand:', orientation='horizontal',\n",
    "    readout=True, readout_format='d')\n",
    "\n",
    "offshore_onshore_distance = widgets.IntSlider(\n",
    "    value=40, min=20, max=60, step=20,\n",
    "    description='Distance:', orientation='horizontal',\n",
    "    readout=True, readout_format='d')\n",
    "\n",
    "container_ship = widgets.Dropdown(\n",
    "    options=[('Post Panamax I (6,000 TEU)', 6000), \n",
    "             ('New-Panamax (12,500 TEU)', 12500), \n",
    "             ('ULCS (21,000 TEU)', 21000)],\n",
    "    value=12500, \n",
    "    description='OGV:')\n",
    "\n",
    "barge = widgets.Dropdown(\n",
    "    options=[('Small (200 TEU)', 200), \n",
    "             ('Medium (250 TEU)', 250), \n",
    "             ('Large (300 TEU)', 300)],\n",
    "    value=250, \n",
    "    description='Barge:')\n",
    "\n",
    "truck = widgets.Dropdown(\n",
    "    options=[('Small (2 TEU)', 2), \n",
    "             ('Medium (2.5 TEU)', 2.5), \n",
    "             ('Large (3 TEU)', 3)],\n",
    "    value=2, \n",
    "    description='Truck:')\n",
    "\n",
    "life_cycle = widgets.IntSlider(\n",
    "    value=10, min=5, max=30, step=5,\n",
    "    description='Life cycle:', orientation='horizontal',\n",
    "    readout=True, readout_format='d')\n",
    "\n",
    "print('Input Values')\n",
    "display(annual_demand, offshore_onshore_distance, container_ship, barge, truck, life_cycle)"
   ]
  },
  {
   "cell_type": "code",
   "execution_count": 3,
   "metadata": {},
   "outputs": [
    {
     "name": "stdout",
     "output_type": "stream",
     "text": [
      "The offshore distance: 40 km\n",
      "The annual demand: 1000000 TEU\n",
      "The design container ship capacity: 12500 TEU\n",
      "The design barge capacity: 250 TEU\n",
      "The design truck capacity: 2 TEU\n",
      "The design life cycle: 10 years\n"
     ]
    }
   ],
   "source": [
    "offshore_distance = offshore_onshore_distance.value\n",
    "demand = annual_demand.value\n",
    "design_container_ship = container_ship.value\n",
    "design_barge = barge.value\n",
    "design_truck = truck.value\n",
    "lifecycle = life_cycle.value\n",
    "\n",
    "print('The offshore distance:', offshore_distance, 'km')\n",
    "print('The annual demand:', demand, 'TEU')\n",
    "print('The design container ship capacity:', design_container_ship, 'TEU')\n",
    "print('The design barge capacity:', design_barge, 'TEU')\n",
    "print('The design truck capacity:', design_truck, 'TEU')\n",
    "print('The design life cycle:', lifecycle, 'years')\n",
    "\n",
    "avg_parcel = design_container_ship / 8\n",
    "\n",
    "startyear = 2020"
   ]
  },
  {
   "cell_type": "markdown",
   "metadata": {},
   "source": [
    "## 0.1 Generate demand forecast scenario"
   ]
  },
  {
   "cell_type": "code",
   "execution_count": 4,
   "metadata": {},
   "outputs": [],
   "source": [
    "# total_ocean_transport = 1000000  # TEU\n",
    "# years = list(range(startyear, startyear+lifecycle))\n",
    "# demand_list = []\n",
    "\n",
    "# for year in years:\n",
    "#     if year < 2025:\n",
    "#         demand.append(total_ocean_transport)\n",
    "#     elif year < 2030:\n",
    "#         demand.append(total_ocean_transport * 1.5)\n",
    "#     else:\n",
    "#         demand.append(total_ocean_transport * 2.0)\n",
    "\n",
    "# plt.plot(years, demand, 'o')\n",
    "# plt.ylabel('Demand [TEU]')"
   ]
  },
  {
   "cell_type": "code",
   "execution_count": 5,
   "metadata": {
    "slideshow": {
     "slide_type": "-"
    }
   },
   "outputs": [
    {
     "name": "stdout",
     "output_type": "stream",
     "text": [
      "{'name': 'Laden', 'handling_fee': 150, 'fully_cellular_perc': 0, 'panamax_perc': 0, 'panamax_max_perc': 0, 'post_panamax_I_perc': 0, 'post_panamax_II_perc': 0, 'new_panamax_perc': 100, 'VLCS_perc': 0, 'ULCS_perc': 0}\n"
     ]
    }
   ],
   "source": [
    "years = list(range(startyear, startyear + lifecycle))\n",
    "        \n",
    "scenario_data={'year': years, 'volume': demand}\n",
    "\n",
    "# instantiate Commodity objects, the inputs for the Commodity class\n",
    "if design_container_ship == 6000:\n",
    "    container_defaults.container_data['post_panamax_I_perc'] = 100\n",
    "    container_defaults.container_data['new_panamax_perc'] = 0\n",
    "    container_defaults.container_data['ULCS_perc'] = 0\n",
    "\n",
    "if design_container_ship == 12500:\n",
    "    container_defaults.container_data['post_panamax_I_perc'] = 0\n",
    "    container_defaults.container_data['new_panamax_perc'] = 100\n",
    "    container_defaults.container_data['ULCS_perc'] = 0\n",
    "    \n",
    "if design_container_ship == 21000:\n",
    "    container_defaults.container_data['post_panamax_I_perc'] = 0\n",
    "    container_defaults.container_data['new_panamax_perc'] = 0\n",
    "    container_defaults.container_data['ULCS_perc'] = 100\n",
    "    \n",
    "print(container_defaults.container_data)\n",
    "\n",
    "# ladens\n",
    "container = container_objects.Commodity(**container_defaults.container_data)\n",
    "container.scenario_data = pd.DataFrame(data=scenario_data)\n",
    "# print(container.scenario_data)\n",
    "\n",
    "# combine\n",
    "demand = [container]"
   ]
  },
  {
   "cell_type": "markdown",
   "metadata": {},
   "source": [
    "## 0.2 Generate vessels"
   ]
  },
  {
   "cell_type": "code",
   "execution_count": 6,
   "metadata": {},
   "outputs": [],
   "source": [
    "# instantiate vessels\n",
    "fully_cellular = container_objects.Vessel(**container_defaults.fully_cellular_data)\n",
    "panamax = container_objects.Vessel(**container_defaults.panamax_data)\n",
    "panamax_max = container_objects.Vessel(**container_defaults.panamax_max_data)\n",
    "post_panamax_I = container_objects.Vessel(**container_defaults.post_panamax_I_data)\n",
    "post_panamax_II = container_objects.Vessel(**container_defaults.post_panamax_II_data)\n",
    "new_panamax = container_objects.Vessel(**container_defaults.new_panamax_data)\n",
    "VLCS = container_objects.Vessel(**container_defaults.VLCS_data)\n",
    "ULCS = container_objects.Vessel(**container_defaults.ULCS_data)\n",
    "\n",
    "vessels = [fully_cellular, panamax, panamax_max, post_panamax_I, post_panamax_II, new_panamax, VLCS, ULCS] "
   ]
  },
  {
   "cell_type": "markdown",
   "metadata": {},
   "source": [
    "# 1. Instatiate system components"
   ]
  },
  {
   "cell_type": "markdown",
   "metadata": {},
   "source": [
    "## 1.1 Terminal system\n",
    "\n",
    "Specify the variables"
   ]
  },
  {
   "cell_type": "code",
   "execution_count": 7,
   "metadata": {},
   "outputs": [],
   "source": [
    "container_system_onshore.PortSystem = container_system_onshore.System(\n",
    "                                      startyear = startyear,\n",
    "                                      lifecycle = lifecycle,\n",
    "                                      stack_equipment='rs',\n",
    "                                      laden_stack='rs',\n",
    "                                      crane_type_defaults=container_defaults.sts_crane_data,\n",
    "                                      allowable_berth_occupancy = 0.50,\n",
    "                                      transhipment_ratio = 0.0,\n",
    "                                      elements = demand + vessels,\n",
    "                                      laden_perc = 0.80, \n",
    "                                      reefer_perc = 0.10, \n",
    "                                      empty_perc = 0.05, \n",
    "                                      oog_perc = 0.05,\n",
    "                                      operational_hours = 8640,\n",
    "                                      debug=True)\n",
    "\n",
    "container_system_offshore_barge.PortSystem = container_system_offshore_barge.System(\n",
    "                                             startyear = startyear,\n",
    "                                             lifecycle = lifecycle,\n",
    "                                             stack_equipment='rs',\n",
    "                                             laden_stack='rs',\n",
    "                                             crane_type_defaults=container_defaults.sts_crane_data,\n",
    "                                             offshore_distance = offshore_distance,\n",
    "                                             allowable_berth_occupancy = 0.50,\n",
    "                                             transhipment_ratio = 0.0,\n",
    "                                             elements = demand + vessels,\n",
    "                                             laden_perc = 0.80, \n",
    "                                             reefer_perc = 0.10, \n",
    "                                             empty_perc = 0.05, \n",
    "                                             oog_perc = 0.05,\n",
    "                                             operational_hours = 8640,\n",
    "                                             debug=True)\n",
    "\n",
    "container_system_offshore_bridge.PortSystem = container_system_offshore_bridge.System(\n",
    "                                             startyear = startyear,\n",
    "                                             lifecycle = lifecycle,\n",
    "                                             stack_equipment='rs',\n",
    "                                             laden_stack='rs',\n",
    "                                             crane_type_defaults=container_defaults.sts_crane_data,\n",
    "                                             offshore_distance = offshore_distance,\n",
    "                                             allowable_berth_occupancy = 0.50,\n",
    "                                             transhipment_ratio = 0.0,\n",
    "                                             elements = demand + vessels,\n",
    "                                             laden_perc = 0.80, \n",
    "                                             reefer_perc = 0.10, \n",
    "                                             empty_perc = 0.05, \n",
    "                                             oog_perc = 0.05,\n",
    "                                             operational_hours = 8640, \n",
    "                                             debug=True)\n",
    "\n",
    "Onshore = container_system_onshore.PortSystem\n",
    "OffshoreBarge = container_system_offshore_barge.PortSystem\n",
    "OffshoreBridge = container_system_offshore_bridge.PortSystem"
   ]
  },
  {
   "cell_type": "markdown",
   "metadata": {},
   "source": [
    "# 2. Start simulation"
   ]
  },
  {
   "cell_type": "markdown",
   "metadata": {},
   "source": [
    "This method automatically generates investment decisions, parametrically derived from demand trends and a number of investment triggers.\n",
    "\n",
    "Apply frame of reference style decisions while stepping through each year of the terminal lifecycle and check if investment is needed (in light of strategic objective, operational objective, QSC, decision recipe, intervention method):\n",
    "    1. for each year evaluate the demand of each commodity (see 0.1 Demand forecast scenario)\n",
    "    2. for each year evaluate the various investment decisions\n",
    "    3. for each year calculate the energy costs (requires insight in realized demands)\n",
    "    4. for each year calculate the demurrage costs (requires insight in realized demands)\n",
    "    5. for each year calculate terminal revenues\n",
    "    6. collect all cash flows (capex, opex, revenues)\n",
    "    7. calculate PV's and aggregate to NPV"
   ]
  },
  {
   "cell_type": "code",
   "execution_count": 8,
   "metadata": {
    "scrolled": true
   },
   "outputs": [
    {
     "name": "stdout",
     "output_type": "stream",
     "text": [
      "\n",
      "Onshore Terminal\n",
      "\n",
      "Below, the various investment decisions are evaluated for the year 2020.\n",
      "\n",
      "Simulate year: 2020\n",
      "  Total vessel calls: 640\n",
      "  Fully cellular calls: 0\n",
      "  Panamax calls: 0\n",
      "  Panamax max calls: 0\n",
      "  Post Panamax I calls: 0\n",
      "  Post Panamax II calls: 0\n",
      "  New Panamax calls: 640\n",
      "  VLCS calls: 0\n",
      "  ULCS calls: 0\n",
      "  Total cargo volume: 1000000\n",
      "     a total of 0 [] is online; 0 total planned\n",
      "     a total of 0 [] is online; 0 total planned\n",
      "     a total of 0 [] is online; 0 total planned\n",
      "\n",
      "  Start analysis:\n",
      "     Berth occupancy planned (@ start of year): inf\n",
      "     Berth occupancy online  (@ start of year): inf\n",
      "     Crane occupancy planned (@ start of year): inf\n",
      "     Crane occupancy online  (@ start of year): inf\n",
      "\n",
      "  *** add Berth to elements\n",
      "     Berth occupancy planned (after adding Berth): inf\n",
      "     Berth occupancy online  (after adding Berth): inf\n",
      "\n",
      "  *** add Quay to elements\n",
      "   Year  Terminal Capex  Maintenance  Insurance\n",
      "0  2020      24334677.0          0.0        0.0\n",
      "1  2021      16223118.0          0.0        0.0\n",
      "2  2022             0.0     345371.7   345371.7\n",
      "3  2023             0.0     345371.7   345371.7\n",
      "4  2024             0.0     345371.7   345371.7\n",
      "     Berth occupancy planned (after adding Quay): inf\n",
      "     Berth occupancy online  (after adding Quay): inf\n",
      "\n",
      "  *** add STS crane to elements\n",
      "   Year  Terminal Capex  Maintenance  Insurance         Labour\n",
      "0  2020             0.0          0.0        0.0       0.000000\n",
      "1  2021      11500000.0          0.0        0.0       0.000000\n",
      "2  2022             0.0     200000.0   100000.0  913846.153846\n",
      "3  2023             0.0     200000.0   100000.0  913846.153846\n",
      "4  2024             0.0     200000.0   100000.0  913846.153846\n",
      "     Berth occupancy planned (after adding Crane): 3.412\n",
      "     Berth occupancy online  (after adding Crane): inf\n",
      "\n",
      "  *** add STS crane to elements\n",
      "   Year  Terminal Capex  Maintenance  Insurance         Labour\n",
      "0  2020             0.0          0.0        0.0       0.000000\n",
      "1  2021      11500000.0          0.0        0.0       0.000000\n",
      "2  2022             0.0     200000.0   100000.0  913846.153846\n",
      "3  2023             0.0     200000.0   100000.0  913846.153846\n",
      "4  2024             0.0     200000.0   100000.0  913846.153846\n",
      "     Berth occupancy planned (after adding Crane): 1.928\n",
      "     Berth occupancy online  (after adding Crane): inf\n",
      "\n",
      "  *** add STS crane to elements\n",
      "   Year  Terminal Capex  Maintenance  Insurance         Labour\n",
      "0  2020             0.0          0.0        0.0       0.000000\n",
      "1  2021      11500000.0          0.0        0.0       0.000000\n",
      "2  2022             0.0     200000.0   100000.0  913846.153846\n",
      "3  2023             0.0     200000.0   100000.0  913846.153846\n",
      "4  2024             0.0     200000.0   100000.0  913846.153846\n",
      "     Berth occupancy planned (after adding Crane): 1.434\n",
      "     Berth occupancy online  (after adding Crane): inf\n",
      "\n",
      "  *** add Berth to elements\n",
      "     Berth occupancy planned (after adding Berth): 1.211\n",
      "     Berth occupancy online  (after adding Berth): inf\n",
      "\n",
      "  *** add Quay to elements\n",
      "   Year  Terminal Capex  Maintenance  Insurance\n",
      "0  2020      27149183.4         0.00       0.00\n",
      "1  2021      18099455.6         0.00       0.00\n",
      "2  2022             0.0    387940.77  387940.77\n",
      "3  2023             0.0    387940.77  387940.77\n",
      "4  2024             0.0    387940.77  387940.77\n",
      "     Berth occupancy planned (after adding Quay): 1.211\n",
      "     Berth occupancy online  (after adding Quay): inf\n",
      "\n",
      "  *** add STS crane to elements\n",
      "   Year  Terminal Capex  Maintenance  Insurance         Labour\n",
      "0  2020             0.0          0.0        0.0       0.000000\n",
      "1  2021      11500000.0          0.0        0.0       0.000000\n",
      "2  2022             0.0     200000.0   100000.0  913846.153846\n",
      "3  2023             0.0     200000.0   100000.0  913846.153846\n",
      "4  2024             0.0     200000.0   100000.0  913846.153846\n",
      "     Berth occupancy planned (after adding Crane): 0.964\n",
      "     Berth occupancy online  (after adding Crane): inf\n",
      "\n",
      "  *** add STS crane to elements\n",
      "   Year  Terminal Capex  Maintenance  Insurance         Labour\n",
      "0  2020             0.0          0.0        0.0       0.000000\n",
      "1  2021      11500000.0          0.0        0.0       0.000000\n",
      "2  2022             0.0     200000.0   100000.0  913846.153846\n",
      "3  2023             0.0     200000.0   100000.0  913846.153846\n",
      "4  2024             0.0     200000.0   100000.0  913846.153846\n",
      "     Berth occupancy planned (after adding Crane): 0.816\n",
      "     Berth occupancy online  (after adding Crane): inf\n",
      "\n",
      "  *** add STS crane to elements\n",
      "   Year  Terminal Capex  Maintenance  Insurance         Labour\n",
      "0  2020             0.0          0.0        0.0       0.000000\n",
      "1  2021      11500000.0          0.0        0.0       0.000000\n",
      "2  2022             0.0     200000.0   100000.0  913846.153846\n",
      "3  2023             0.0     200000.0   100000.0  913846.153846\n",
      "4  2024             0.0     200000.0   100000.0  913846.153846\n",
      "     Berth occupancy planned (after adding Crane): 0.717\n",
      "     Berth occupancy online  (after adding Crane): inf\n",
      "\n",
      "  *** add Berth to elements\n",
      "     Berth occupancy planned (after adding Berth): 0.643\n",
      "     Berth occupancy online  (after adding Berth): inf\n",
      "\n",
      "  *** add Quay to elements\n",
      "   Year  Terminal Capex  Maintenance   Insurance\n",
      "0  2020      25741930.2        0.000       0.000\n",
      "1  2021      17161286.8        0.000       0.000\n",
      "2  2022             0.0   366656.235  366656.235\n",
      "3  2023             0.0   366656.235  366656.235\n",
      "4  2024             0.0   366656.235  366656.235\n",
      "     Berth occupancy planned (after adding Quay): 0.643\n",
      "     Berth occupancy online  (after adding Quay): inf\n",
      "\n",
      "  *** add STS crane to elements\n",
      "   Year  Terminal Capex  Maintenance  Insurance         Labour\n",
      "0  2020             0.0          0.0        0.0       0.000000\n",
      "1  2021      11500000.0          0.0        0.0       0.000000\n",
      "2  2022             0.0     200000.0   100000.0  913846.153846\n",
      "3  2023             0.0     200000.0   100000.0  913846.153846\n",
      "4  2024             0.0     200000.0   100000.0  913846.153846\n",
      "     Berth occupancy planned (after adding Crane): 0.572\n",
      "     Berth occupancy online  (after adding Crane): inf\n",
      "\n",
      "  *** add STS crane to elements\n",
      "   Year  Terminal Capex  Maintenance  Insurance         Labour\n",
      "0  2020             0.0          0.0        0.0       0.000000\n",
      "1  2021      11500000.0          0.0        0.0       0.000000\n",
      "2  2022             0.0     200000.0   100000.0  913846.153846\n",
      "3  2023             0.0     200000.0   100000.0  913846.153846\n",
      "4  2024             0.0     200000.0   100000.0  913846.153846\n",
      "     Berth occupancy planned (after adding Crane): 0.519\n",
      "     Berth occupancy online  (after adding Crane): inf\n",
      "\n",
      "  *** add STS crane to elements\n",
      "   Year  Terminal Capex  Maintenance  Insurance         Labour\n",
      "0  2020             0.0          0.0        0.0       0.000000\n",
      "1  2021      11500000.0          0.0        0.0       0.000000\n",
      "2  2022             0.0     200000.0   100000.0  913846.153846\n",
      "3  2023             0.0     200000.0   100000.0  913846.153846\n",
      "4  2024             0.0     200000.0   100000.0  913846.153846\n",
      "     Berth occupancy planned (after adding Crane): 0.478\n",
      "     Berth occupancy online  (after adding Crane): inf\n",
      "\n",
      "length 366\n",
      "draught 15.2\n",
      "beam 49.0\n",
      "  *** add Access Channel to elements\n",
      "channel_width 480 m\n",
      "channel_depth 18 m\n",
      "channel_length 54,600 m\n",
      "channel_volume 239,000,000 m3\n",
      "turning_circle_diameter 658 m3\n",
      "turning_circle_volume 6,000,000 m3\n",
      "berth_pocket_width 98 m\n",
      "berth_pocket_volume 2,000,000 m3\n",
      "dredging_volume 247,000,000 m3\n"
     ]
    },
    {
     "name": "stderr",
     "output_type": "stream",
     "text": [
      "c:\\checkouts\\opentisim\\opentisim\\container_system_onshore.py:1733: FutureWarning:\n",
      "\n",
      "`item` has been deprecated and will be removed in a future version\n",
      "\n"
     ]
    },
    {
     "ename": "AttributeError",
     "evalue": "'Channel' object has no attribute 'terminal_capex'",
     "output_type": "error",
     "traceback": [
      "\u001b[1;31m---------------------------------------------------------------------------\u001b[0m",
      "\u001b[1;31mAttributeError\u001b[0m                            Traceback (most recent call last)",
      "\u001b[1;32m<ipython-input-8-0f9b5a9394b5>\u001b[0m in \u001b[0;36m<module>\u001b[1;34m\u001b[0m\n\u001b[1;32m----> 1\u001b[1;33m \u001b[0mOnshore\u001b[0m\u001b[1;33m.\u001b[0m\u001b[0msimulate\u001b[0m\u001b[1;33m(\u001b[0m\u001b[1;33m)\u001b[0m\u001b[1;33m\u001b[0m\u001b[1;33m\u001b[0m\u001b[0m\n\u001b[0m\u001b[0;32m      2\u001b[0m \u001b[0mOffshoreBarge\u001b[0m\u001b[1;33m.\u001b[0m\u001b[0msimulate\u001b[0m\u001b[1;33m(\u001b[0m\u001b[1;33m)\u001b[0m\u001b[1;33m\u001b[0m\u001b[1;33m\u001b[0m\u001b[0m\n\u001b[0;32m      3\u001b[0m \u001b[0mOffshoreBridge\u001b[0m\u001b[1;33m.\u001b[0m\u001b[0msimulate\u001b[0m\u001b[1;33m(\u001b[0m\u001b[1;33m)\u001b[0m\u001b[1;33m\u001b[0m\u001b[1;33m\u001b[0m\u001b[0m\n",
      "\u001b[1;32mc:\\checkouts\\opentisim\\opentisim\\container_system_onshore.py\u001b[0m in \u001b[0;36msimulate\u001b[1;34m(self)\u001b[0m\n\u001b[0;32m    125\u001b[0m             \u001b[0mself\u001b[0m\u001b[1;33m.\u001b[0m\u001b[0mberth_invest\u001b[0m\u001b[1;33m(\u001b[0m\u001b[0myear\u001b[0m\u001b[1;33m,\u001b[0m \u001b[0mfully_cellular\u001b[0m\u001b[1;33m,\u001b[0m \u001b[0mpanamax\u001b[0m\u001b[1;33m,\u001b[0m \u001b[0mpanamax_max\u001b[0m\u001b[1;33m,\u001b[0m \u001b[0mpost_panamax_I\u001b[0m\u001b[1;33m,\u001b[0m \u001b[0mpost_panamax_II\u001b[0m\u001b[1;33m,\u001b[0m \u001b[0mnew_panamax\u001b[0m\u001b[1;33m,\u001b[0m \u001b[0mVLCS\u001b[0m\u001b[1;33m,\u001b[0m \u001b[0mULCS\u001b[0m\u001b[1;33m)\u001b[0m\u001b[1;33m\u001b[0m\u001b[1;33m\u001b[0m\u001b[0m\n\u001b[0;32m    126\u001b[0m \u001b[1;33m\u001b[0m\u001b[0m\n\u001b[1;32m--> 127\u001b[1;33m             \u001b[0mself\u001b[0m\u001b[1;33m.\u001b[0m\u001b[0maccess_channel_invest\u001b[0m\u001b[1;33m(\u001b[0m\u001b[0myear\u001b[0m\u001b[1;33m,\u001b[0m \u001b[0mfully_cellular\u001b[0m\u001b[1;33m,\u001b[0m \u001b[0mpanamax\u001b[0m\u001b[1;33m,\u001b[0m \u001b[0mpanamax_max\u001b[0m\u001b[1;33m,\u001b[0m \u001b[0mpost_panamax_I\u001b[0m\u001b[1;33m,\u001b[0m \u001b[0mpost_panamax_II\u001b[0m\u001b[1;33m,\u001b[0m \u001b[0mnew_panamax\u001b[0m\u001b[1;33m,\u001b[0m \u001b[0mVLCS\u001b[0m\u001b[1;33m,\u001b[0m \u001b[0mULCS\u001b[0m\u001b[1;33m)\u001b[0m\u001b[1;33m\u001b[0m\u001b[1;33m\u001b[0m\u001b[0m\n\u001b[0m\u001b[0;32m    128\u001b[0m \u001b[1;33m\u001b[0m\u001b[0m\n\u001b[0;32m    129\u001b[0m             \u001b[0mself\u001b[0m\u001b[1;33m.\u001b[0m\u001b[0mhorizontal_transport_invest\u001b[0m\u001b[1;33m(\u001b[0m\u001b[0myear\u001b[0m\u001b[1;33m)\u001b[0m\u001b[1;33m\u001b[0m\u001b[1;33m\u001b[0m\u001b[0m\n",
      "\u001b[1;32mc:\\checkouts\\opentisim\\opentisim\\container_system_onshore.py\u001b[0m in \u001b[0;36maccess_channel_invest\u001b[1;34m(self, year, fully_cellular, panamax, panamax_max, post_panamax_I, post_panamax_II, new_panamax, VLCS, ULCS)\u001b[0m\n\u001b[0;32m   1522\u001b[0m \u001b[1;33m\u001b[0m\u001b[0m\n\u001b[0;32m   1523\u001b[0m             \u001b[1;31m# add cash flow information to quay_wall object in a DataFrame\u001b[0m\u001b[1;33m\u001b[0m\u001b[1;33m\u001b[0m\u001b[1;33m\u001b[0m\u001b[0m\n\u001b[1;32m-> 1524\u001b[1;33m             \u001b[0maccess_channel\u001b[0m \u001b[1;33m=\u001b[0m \u001b[0mself\u001b[0m\u001b[1;33m.\u001b[0m\u001b[0madd_cashflow_data_to_element\u001b[0m\u001b[1;33m(\u001b[0m\u001b[0maccess_channel\u001b[0m\u001b[1;33m)\u001b[0m\u001b[1;33m\u001b[0m\u001b[1;33m\u001b[0m\u001b[0m\n\u001b[0m\u001b[0;32m   1525\u001b[0m \u001b[1;33m\u001b[0m\u001b[0m\n\u001b[0;32m   1526\u001b[0m             \u001b[0mself\u001b[0m\u001b[1;33m.\u001b[0m\u001b[0melements\u001b[0m\u001b[1;33m.\u001b[0m\u001b[0mappend\u001b[0m\u001b[1;33m(\u001b[0m\u001b[0maccess_channel\u001b[0m\u001b[1;33m)\u001b[0m\u001b[1;33m\u001b[0m\u001b[1;33m\u001b[0m\u001b[0m\n",
      "\u001b[1;32mc:\\checkouts\\opentisim\\opentisim\\container_system_onshore.py\u001b[0m in \u001b[0;36madd_cashflow_data_to_element\u001b[1;34m(self, element)\u001b[0m\n\u001b[0;32m   1587\u001b[0m \u001b[1;33m\u001b[0m\u001b[0m\n\u001b[0;32m   1588\u001b[0m         \u001b[1;31m# terminal\u001b[0m\u001b[1;33m\u001b[0m\u001b[1;33m\u001b[0m\u001b[1;33m\u001b[0m\u001b[0m\n\u001b[1;32m-> 1589\u001b[1;33m         \u001b[0mterminal_capex\u001b[0m \u001b[1;33m=\u001b[0m \u001b[0melement\u001b[0m\u001b[1;33m.\u001b[0m\u001b[0mterminal_capex\u001b[0m\u001b[1;33m\u001b[0m\u001b[1;33m\u001b[0m\u001b[0m\n\u001b[0m\u001b[0;32m   1590\u001b[0m         \u001b[0mmaintenance\u001b[0m \u001b[1;33m=\u001b[0m \u001b[0melement\u001b[0m\u001b[1;33m.\u001b[0m\u001b[0mmaintenance\u001b[0m\u001b[1;33m\u001b[0m\u001b[1;33m\u001b[0m\u001b[0m\n\u001b[0;32m   1591\u001b[0m         \u001b[0minsurance\u001b[0m \u001b[1;33m=\u001b[0m \u001b[0melement\u001b[0m\u001b[1;33m.\u001b[0m\u001b[0minsurance\u001b[0m\u001b[1;33m\u001b[0m\u001b[1;33m\u001b[0m\u001b[0m\n",
      "\u001b[1;31mAttributeError\u001b[0m: 'Channel' object has no attribute 'terminal_capex'"
     ]
    }
   ],
   "source": [
    "Onshore.simulate()\n",
    "OffshoreBarge.simulate()\n",
    "OffshoreBridge.simulate()"
   ]
  },
  {
   "cell_type": "markdown",
   "metadata": {},
   "source": [
    "## 3. Report all elements"
   ]
  },
  {
   "cell_type": "code",
   "execution_count": null,
   "metadata": {
    "scrolled": true
   },
   "outputs": [],
   "source": [
    "if True: \n",
    "    for element in Onshore.elements:\n",
    "        print(\"\")\n",
    "        print(element.name)\n",
    "        print(\"\")\n",
    "        print(element.__dict__) # This is the dictionary containing the module's symbol table.\n",
    "        \n",
    "if True: \n",
    "    for element in OffshoreBarge.elements:\n",
    "        print(\"\")\n",
    "        print(element.name)\n",
    "        print(\"\")\n",
    "        print(element.__dict__) # This is the dictionary containing the module's symbol table.\n",
    "        \n",
    "if True: \n",
    "    for element in OffshoreBridge.elements:\n",
    "        print(\"\")\n",
    "        print(element.name)\n",
    "        print(\"\")\n",
    "        print(element.__dict__) # This is the dictionary containing the module's symbol table."
   ]
  },
  {
   "cell_type": "code",
   "execution_count": null,
   "metadata": {},
   "outputs": [],
   "source": [
    "# scroll_to_current_cell(preserve=True)"
   ]
  },
  {
   "cell_type": "code",
   "execution_count": null,
   "metadata": {
    "scrolled": false
   },
   "outputs": [],
   "source": [
    "# Onshore.terminal_elements_plot()\n",
    "# OffshoreBarge.terminal_elements_plot()\n",
    "# OffshoreBridge.terminal_elements_plot()"
   ]
  },
  {
   "cell_type": "code",
   "execution_count": null,
   "metadata": {},
   "outputs": [],
   "source": [
    "# Onshore.terminal_capacity_plot()\n",
    "# OffshoreBarge.terminal_capacity_plot()\n",
    "# OffshoreBridge.terminal_capacity_plot()"
   ]
  },
  {
   "cell_type": "code",
   "execution_count": null,
   "metadata": {
    "scrolled": false
   },
   "outputs": [],
   "source": [
    "# Onshore.terminal_land_use_plot()\n",
    "# OffshoreBarge.terminal_land_use_plot()\n",
    "# OffshoreBridge.terminal_land_use_plot()"
   ]
  },
  {
   "cell_type": "code",
   "execution_count": null,
   "metadata": {
    "scrolled": false
   },
   "outputs": [],
   "source": [
    "# Onshore.storage_area_plot()\n",
    "# OffshoreBarge.storage_area_plot()\n",
    "# OffshoreBridge.storage_area_plot()"
   ]
  },
  {
   "cell_type": "markdown",
   "metadata": {},
   "source": [
    "#### Add cash flow information for each of the terminal elements."
   ]
  },
  {
   "cell_type": "code",
   "execution_count": null,
   "metadata": {},
   "outputs": [],
   "source": [
    "(Onshore.terminal_capex, Onshore.terminal_opex, \n",
    " Onshore.cash_flows, Onshore.cash_flows_df, \n",
    " Onshore.cash_flows_WACC_real_df, Onshore.NPV) = Onshore.net_present_value()\n",
    "\n",
    "(OffshoreBarge.terminal_capex, OffshoreBarge.terminal_opex, \n",
    " OffshoreBarge.capital_dredging, OffshoreBarge.maintenance_dredging, \n",
    " OffshoreBarge.barge_capex, OffshoreBarge.barge_opex, \n",
    " OffshoreBarge.cash_flows, OffshoreBarge.cash_flows_df, \n",
    " OffshoreBarge.cash_flows_WACC_real_df, OffshoreBarge.NPV) = OffshoreBarge.net_present_value()\n",
    "\n",
    "(OffshoreBridge.terminal_capex, OffshoreBridge.terminal_opex, \n",
    " OffshoreBridge.bridge_construction, OffshoreBridge.bridge_maintenance_dredging, \n",
    " OffshoreBridge.truck_capex, OffshoreBridge.truck_opex, \n",
    " OffshoreBridge.cash_flows, OffshoreBridge.cash_flows_df, \n",
    " OffshoreBridge.cash_flows_WACC_real_df, OffshoreBridge.NPV) = OffshoreBridge.net_present_value()"
   ]
  },
  {
   "cell_type": "code",
   "execution_count": null,
   "metadata": {
    "scrolled": false
   },
   "outputs": [],
   "source": [
    "# Onshore.terminal_opex_plot(Onshore.cash_flows_df)\n",
    "# OffshoreBarge.terminal_opex_plot(OffshoreBarge.cash_flows_df)\n",
    "# OffshoreBridge.terminal_opex_plot(OffshoreBridge.cash_flows_df)"
   ]
  },
  {
   "cell_type": "code",
   "execution_count": null,
   "metadata": {},
   "outputs": [],
   "source": [
    "# Onshore.total_opex_plot(Onshore.cash_flows_df)\n",
    "# OffshoreBarge.total_opex_plot(OffshoreBarge.cash_flows_df)\n",
    "# OffshoreBridge.total_opex_plot(OffshoreBridge.cash_flows_df)"
   ]
  },
  {
   "cell_type": "code",
   "execution_count": null,
   "metadata": {
    "scrolled": false
   },
   "outputs": [],
   "source": [
    "# print('\\033[1mCash Flow Plot\\033[0m')\n",
    "# Onshore.cashflow_plot(Onshore.cash_flows_df)\n",
    "# OffshoreBarge.cashflow_plot(OffshoreBarge.cash_flows_df)\n",
    "# OffshoreBridge.cashflow_plot(OffshoreBridge.cash_flows_df)"
   ]
  },
  {
   "cell_type": "code",
   "execution_count": null,
   "metadata": {},
   "outputs": [],
   "source": [
    "terminal_opex_list = ['Maintenance','Insurance','Energy','Labour', 'Fuel']\n",
    "\n",
    "print('\\033[1mFinancial Indication - Onshore Port\\033[0m')\n",
    "print('')\n",
    "print('*** NPV: $ {}'.format(f'{round(Onshore.NPV,-6):,}'))\n",
    "Onshore.cash_flows_WACC_real_df.style.hide_columns(terminal_opex_list).hide_index()"
   ]
  },
  {
   "cell_type": "code",
   "execution_count": null,
   "metadata": {},
   "outputs": [],
   "source": [
    "print('\\033[1mFinancial Indication - Offshore Port (Barge)\\033[0m')\n",
    "print('')\n",
    "print('*** NPV: $ {}'.format(f'{round(OffshoreBarge.NPV,-6):,}'))\n",
    "OffshoreBarge.cash_flows_WACC_real_df.style.hide_columns(terminal_opex_list).hide_index()"
   ]
  },
  {
   "cell_type": "code",
   "execution_count": null,
   "metadata": {},
   "outputs": [],
   "source": [
    "print('\\033[1mFinancial Indication - Offshore Port (Bridge)\\033[0m')\n",
    "print('')\n",
    "print('*** NPV: $ {}'.format(f'{round(OffshoreBridge.NPV,-6):,}'))\n",
    "OffshoreBridge.cash_flows_WACC_real_df.style.hide_columns(terminal_opex_list).hide_index()"
   ]
  },
  {
   "cell_type": "code",
   "execution_count": null,
   "metadata": {},
   "outputs": [],
   "source": [
    "print('\\033[1m Cash Flow Plot - Weighted average cost of capital \\033[0m')\n",
    "Onshore.cashflow_plot(Onshore.cash_flows_WACC_real_df)\n",
    "OffshoreBarge.cashflow_plot(OffshoreBarge.cash_flows_WACC_real_df)\n",
    "OffshoreBridge.cashflow_plot(OffshoreBridge.cash_flows_WACC_real_df)"
   ]
  },
  {
   "cell_type": "code",
   "execution_count": null,
   "metadata": {},
   "outputs": [],
   "source": [
    "NPVs = [round(Onshore.NPV,-6), round(OffshoreBarge.NPV,-6), round(OffshoreBridge.NPV,-6)]\n",
    "print(NPVs)"
   ]
  },
  {
   "cell_type": "markdown",
   "metadata": {},
   "source": [
    "NPV 40 km, New-Panamax\n",
    "\n",
    "[-519000000.0, -1206000000.0, -1234000000.0]"
   ]
  },
  {
   "cell_type": "code",
   "execution_count": null,
   "metadata": {},
   "outputs": [],
   "source": [
    "if offshore_distance == 20:\n",
    "    print('The NPV of alt. 1 for 20 km offshore', NPVs[0])\n",
    "    print('The NPV of alt. 2 for 20 km offshore', NPVs[1])\n",
    "    print('The NPV of alt. 3 for 20 km offshore', NPVs[2])\n",
    "else:\n",
    "    pass\n",
    "\n",
    "if offshore_distance == 40:\n",
    "    print('The NPV of alt. 1 for 40 km offshore', NPVs[0])\n",
    "    print('The NPV of alt. 2 for 40 km offshore', NPVs[1])\n",
    "    print('The NPV of alt. 3 for 40 km offshore', NPVs[2])\n",
    "else:\n",
    "    pass\n",
    "\n",
    "if offshore_distance == 60:\n",
    "    print('The NPV of alt. 1 for 60 km offshore', NPVs[0])\n",
    "    print('The NPV of alt. 2 for 60 km offshore', NPVs[1])\n",
    "    print('The NPV of alt. 3 for 60 km offshore', NPVs[2])\n",
    "else:\n",
    "    pass"
   ]
  },
  {
   "cell_type": "code",
   "execution_count": null,
   "metadata": {},
   "outputs": [],
   "source": []
  }
 ],
 "metadata": {
  "kernelspec": {
   "display_name": "Python 3",
   "language": "python",
   "name": "python3"
  },
  "language_info": {
   "codemirror_mode": {
    "name": "ipython",
    "version": 3
   },
   "file_extension": ".py",
   "mimetype": "text/x-python",
   "name": "python",
   "nbconvert_exporter": "python",
   "pygments_lexer": "ipython3",
   "version": "3.7.3"
  }
 },
 "nbformat": 4,
 "nbformat_minor": 2
}
