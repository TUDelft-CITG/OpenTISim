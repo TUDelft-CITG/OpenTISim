{
 "cells": [
  {
   "cell_type": "code",
   "execution_count": 12,
   "metadata": {},
   "outputs": [],
   "source": [
    "import pandas as pd\n",
    "import opentisim\n",
    "\n",
    "# basic inputs\n",
    "startyear = 2020\n",
    "lifecycle = 10\n",
    "years = list(range(startyear, startyear + lifecycle))\n",
    "\n",
    "# define demand scenario\n",
    "demand = []\n",
    "for year in years:\n",
    "    if year < 2025:\n",
    "        demand.append(2_000_000)\n",
    "    else:\n",
    "        demand.append(4_000_000)\n",
    "scenario_data = {'year': years, 'volume': demand}\n",
    "\n",
    "# instantiate a commodity objects\n",
    "opentisim.liquidbulk.commodity_lhydrogen_data['smallhydrogen_perc'] = 50\n",
    "opentisim.liquidbulk.commodity_lhydrogen_data['largehydrogen_perc'] = 50\n",
    "\n",
    "# instantiate a commodity objects\n",
    "lhydrogen = opentisim.liquidbulk.Commodity(**opentisim.liquidbulk.commodity_lhydrogen_data)\n",
    "lhydrogen.scenario_data = pd.DataFrame(data=scenario_data)\n",
    "\n",
    "# instantiate vessels\n",
    "Smallhydrogen = opentisim.liquidbulk.Vessel(**opentisim.liquidbulk.smallhydrogen_data)\n",
    "Largehydrogen = opentisim.liquidbulk.Vessel(**opentisim.liquidbulk.largehydrogen_data)\n",
    "Smallammonia = opentisim.liquidbulk.Vessel(**opentisim.liquidbulk.smallammonia_data)\n",
    "Largeammonia = opentisim.liquidbulk.Vessel(**opentisim.liquidbulk.largeammonia_data)\n",
    "Handysize = opentisim.liquidbulk.Vessel(**opentisim.liquidbulk.handysize_data)\n",
    "Panamax = opentisim.liquidbulk.Vessel(**opentisim.liquidbulk.panamax_data)\n",
    "VLCC = opentisim.liquidbulk.Vessel(**opentisim.liquidbulk.vlcc_data)\n",
    "\n",
    "vessels = [Smallhydrogen, Largehydrogen, Smallammonia, Largeammonia, Handysize, Panamax, VLCC]\n",
    "\n",
    "# define terminal\n",
    "Terminal = opentisim.liquidbulk.System(\n",
    "    startyear=startyear,\n",
    "    lifecycle=lifecycle,\n",
    "    elements=[lhydrogen] + vessels,\n",
    "    operational_hours=16 * 365,\n",
    "    terminal_supply_chain={'berth_jetty','pipeline_jetty_-_terminal', 'storage', 'mch_2_h2_retrieval'},\n",
    "    debug=False,\n",
    "    commodity_type_defaults=opentisim.liquidbulk.commodity_lhydrogen_data,\n",
    "    storage_type_defaults=opentisim.liquidbulk.storage_lh2_data,\n",
    "    kendall='E2/E2/n',\n",
    "    allowable_waiting_service_time_ratio_berth=0.3,\n",
    "    h2retrieval_type_defaults=opentisim.liquidbulk.h2retrieval_lh2_data)\n",
    "\n",
    "Terminal.modelframe = list(range(startyear, startyear + lifecycle))\n",
    "Terminal.revenues = []\n",
    "Terminal.demurrage = []\n",
    "# run simulation\n",
    "Terminal.simulate()\n",
    "\n"
   ]
  },
  {
   "cell_type": "code",
   "execution_count": null,
   "metadata": {},
   "outputs": [],
   "source": [
    "Terminal.terminal_elements_plot()\n",
    "# Terminal.terminal_occupancy_plot()\n",
    "# #Terminal.plant_occupancy_plot()\n",
    "# Terminal.Jetty_capacity_plot()"
   ]
  },
  {
   "cell_type": "code",
   "execution_count": null,
   "metadata": {},
   "outputs": [],
   "source": [
    "labour = opentisim.liquidbulk.Labour(**opentisim.liquidbulk.labour_data)\n",
    "cash_flows, cash_flows_WACC_real = opentisim.core.add_cashflow_elements(Terminal, labour)\n",
    "print(cash_flows)\n",
    "opentisim.plot.cashflow_plot(Terminal, cash_flows)"
   ]
  },
  {
   "cell_type": "code",
   "execution_count": null,
   "metadata": {},
   "outputs": [],
   "source": []
  }
 ],
 "metadata": {
  "kernelspec": {
   "display_name": "Python 3",
   "language": "python",
   "name": "python3"
  },
  "language_info": {
   "codemirror_mode": {
    "name": "ipython",
    "version": 3
   },
   "file_extension": ".py",
   "mimetype": "text/x-python",
   "name": "python",
   "nbconvert_exporter": "python",
   "pygments_lexer": "ipython3",
   "version": "3.6.7"
  }
 },
 "nbformat": 4,
 "nbformat_minor": 2
}
