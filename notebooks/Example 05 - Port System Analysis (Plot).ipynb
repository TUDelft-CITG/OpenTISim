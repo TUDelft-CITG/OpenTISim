{
 "cells": [
  {
   "cell_type": "markdown",
   "metadata": {
    "slideshow": {
     "slide_type": "-"
    }
   },
   "source": [
    "# MSc Thesis - Hugo Stam"
   ]
  },
  {
   "cell_type": "markdown",
   "metadata": {},
   "source": [
    "### Example 05 - Port System Analysis"
   ]
  },
  {
   "cell_type": "markdown",
   "metadata": {},
   "source": [
    "<img src=\"Figures/system_layout_alternative_1.2.png\" style=\"width:1000px\">\n",
    "<img src=\"Figures/system_layout_alternative_2.2.png\" style=\"width:1000px\">\n",
    "<img src=\"Figures/system_layout_alternative_3.2.png\" style=\"width:1000px\">"
   ]
  },
  {
   "cell_type": "markdown",
   "metadata": {},
   "source": [
    "##### Investment Strategy Simulation - Adaptive terminal planning in the light of an uncertain future\n",
    "\n",
    "* [**0. Prepare inputs:**](#0.-Prepare-inputs)<br>\n",
    "   * [**0.1 Generate demand forecast scenario:**](#0.1-Generate-demand-forecast-scenario)<br>\n",
    "   * [**0.2 Generate vessels:**](#0.2-Generate-vessels)<br>\n",
    "* [**1. Instatiate system components:**](#1.-Instatiate-system-components)<br>\n",
    "* [**2. Start simulation:**](#2.-Strart-simulation)<br>\n",
    "* [**3. Report all elements:**](#3.-Report-all-elements)<br>"
   ]
  },
  {
   "cell_type": "markdown",
   "metadata": {},
   "source": [
    "#### notes:\n"
   ]
  },
  {
   "cell_type": "code",
   "execution_count": 1,
   "metadata": {},
   "outputs": [],
   "source": [
    "# packages for data handling\n",
    "import numpy as np\n",
    "import pandas as pd\n",
    "import statistics as st\n",
    "\n",
    "# packages related to time, space and id\n",
    "import datetime, time\n",
    "import platform\n",
    "import random\n",
    "from datetime import timedelta\n",
    "\n",
    "# you need these dependencies packages related to the simulation\n",
    "import simpy\n",
    "\n",
    "# spatial libraries \n",
    "import shapely.geometry\n",
    "from simplekml import Kml, Style\n",
    "\n",
    "# packages for figures\n",
    "import matplotlib.pyplot as plt\n",
    "import matplotlib as mpl\n",
    "%matplotlib inline\n",
    "import seaborn as sns\n",
    "# sns.set(style=\"ticks\")\n",
    "# sns.set(style=\"darkgrid\", palette = \"pastel\")\n",
    "# sns.set_context(\"notebook\", font_scale=1.2, rc={\"lines.linewidth\": 1.5})\n",
    "\n",
    "from pandas.plotting import register_matplotlib_converters\n",
    "register_matplotlib_converters()\n",
    "\n",
    "# OpenTISim package\n",
    "from opentisim import container_objects\n",
    "from opentisim import container_defaults\n",
    "from opentisim import container_system_onshore as container_system_onshore\n",
    "from opentisim import container_system_offshore_barge as container_system_offshore_barge\n",
    "from opentisim import container_system_offshore_bridge as container_system_offshore_bridge\n",
    "\n",
    "# OpenCLSim package\n",
    "import openclsim.core as core\n",
    "import openclsim.model as model\n",
    "import openclsim.plot as plot\n",
    "\n",
    "# Additional import to save the initialisation of the simulation\n",
    "import openclsim.savesim as savesim\n",
    "\n",
    "# Pretty-print a Python object to a stream\n",
    "from pprint import pprint\n",
    "\n",
    "# Jupyter Widgets\n",
    "import ipywidgets as widgets\n",
    "\n",
    "# Scroll to specific cell\n",
    "from jupyter_helpers.utilities import scroll_to_current_cell"
   ]
  },
  {
   "cell_type": "code",
   "execution_count": 2,
   "metadata": {},
   "outputs": [
    {
     "name": "stdout",
     "output_type": "stream",
     "text": [
      "no stored variable PV_alt1_6000\n",
      "no stored variable PV_alt1_12500\n",
      "no stored variable PV_alt1_21000\n"
     ]
    }
   ],
   "source": [
    "# Alt 1\n",
    "%store -r PV_alt1_6000\n",
    "%store -r PV_alt1_12500\n",
    "%store -r PV_alt1_21000\n",
    "\n",
    "# Alt 2\n",
    "%store -r PV_alt2_20_6000\n",
    "%store -r PV_alt2_20_12500\n",
    "%store -r PV_alt2_20_21000\n",
    "\n",
    "%store -r PV_alt2_40_6000\n",
    "%store -r PV_alt2_40_12500\n",
    "%store -r PV_alt2_40_21000\n",
    "\n",
    "%store -r PV_alt2_60_6000\n",
    "%store -r PV_alt2_60_12500\n",
    "%store -r PV_alt2_60_21000\n",
    "\n",
    "# # Alt 3\n",
    "# %store -r PV_alt3_20_6000\n",
    "# %store -r PV_alt3_20_12500\n",
    "# %store -r PV_alt3_20_21000\n",
    "\n",
    "# %store -r PV_alt3_40_6000\n",
    "# %store -r PV_alt3_40_12500\n",
    "# %store -r PV_alt3_40_21000\n",
    "\n",
    "# %store -r PV_alt3_60_6000\n",
    "# %store -r PV_alt3_60_12500\n",
    "# %store -r PV_alt3_60_21000"
   ]
  },
  {
   "cell_type": "code",
   "execution_count": 3,
   "metadata": {},
   "outputs": [
    {
     "data": {
      "text/html": [
       "<div>\n",
       "<style scoped>\n",
       "    .dataframe tbody tr th:only-of-type {\n",
       "        vertical-align: middle;\n",
       "    }\n",
       "\n",
       "    .dataframe tbody tr th {\n",
       "        vertical-align: top;\n",
       "    }\n",
       "\n",
       "    .dataframe thead th {\n",
       "        text-align: right;\n",
       "    }\n",
       "</style>\n",
       "<table border=\"1\" class=\"dataframe\">\n",
       "  <thead>\n",
       "    <tr style=\"text-align: right;\">\n",
       "      <th></th>\n",
       "      <th>x</th>\n",
       "      <th>vessel</th>\n",
       "      <th>y</th>\n",
       "    </tr>\n",
       "  </thead>\n",
       "  <tbody>\n",
       "    <tr>\n",
       "      <th>0</th>\n",
       "      <td>20.0</td>\n",
       "      <td>Panamax</td>\n",
       "      <td>-3.531382e+09</td>\n",
       "    </tr>\n",
       "    <tr>\n",
       "      <th>1</th>\n",
       "      <td>20.0</td>\n",
       "      <td>New-Panamax</td>\n",
       "      <td>-4.734573e+09</td>\n",
       "    </tr>\n",
       "    <tr>\n",
       "      <th>2</th>\n",
       "      <td>20.0</td>\n",
       "      <td>ULCS</td>\n",
       "      <td>-5.555650e+09</td>\n",
       "    </tr>\n",
       "    <tr>\n",
       "      <th>3</th>\n",
       "      <td>40.0</td>\n",
       "      <td>Panamax</td>\n",
       "      <td>-2.351991e+09</td>\n",
       "    </tr>\n",
       "    <tr>\n",
       "      <th>4</th>\n",
       "      <td>40.0</td>\n",
       "      <td>New-Panamax</td>\n",
       "      <td>-2.767599e+09</td>\n",
       "    </tr>\n",
       "  </tbody>\n",
       "</table>\n",
       "</div>"
      ],
      "text/plain": [
       "      x       vessel             y\n",
       "0  20.0      Panamax -3.531382e+09\n",
       "1  20.0  New-Panamax -4.734573e+09\n",
       "2  20.0         ULCS -5.555650e+09\n",
       "3  40.0      Panamax -2.351991e+09\n",
       "4  40.0  New-Panamax -2.767599e+09"
      ]
     },
     "metadata": {},
     "output_type": "display_data"
    },
    {
     "data": {
      "text/plain": [
       "<matplotlib.axes._subplots.AxesSubplot at 0x245b46d2128>"
      ]
     },
     "execution_count": 3,
     "metadata": {},
     "output_type": "execute_result"
    },
    {
     "data": {
      "image/png": "[encoded data removed]",
      "text/plain": [
       "<Figure size 432x288 with 1 Axes>"
      ]
     },
     "metadata": {
      "needs_background": "light"
     },
     "output_type": "display_data"
    }
   ],
   "source": [
    "PV_df = pd.DataFrame()\n",
    "PVs = [[20, \"Panamax\",     PV_alt2_20_6000], \n",
    "       [20, \"New-Panamax\", PV_alt2_20_12500], \n",
    "       [20, \"ULCS\",        PV_alt2_20_21000],\n",
    "       [40, \"Panamax\",     PV_alt2_40_6000], \n",
    "       [40, \"New-Panamax\", PV_alt2_40_12500], \n",
    "       [40, \"ULCS\",        PV_alt2_40_21000],\n",
    "       [60, \"Panamax\",     PV_alt2_60_6000], \n",
    "       [60, \"New-Panamax\", PV_alt2_60_12500], \n",
    "       [60, \"ULCS\",        PV_alt2_60_21000]]\n",
    "  \n",
    "# Create the pandas DataFrame \n",
    "PV_df = pd.DataFrame(PVs, columns = ['x', 'vessel', 'y']) \n",
    "PV_df['x'] = PV_df['x'].astype(float)\n",
    "display(PV_df.head())\n",
    "# display(PV_df.dtypes)\n",
    "\n",
    "sns.scatterplot(x='x', y='y', data = PV_df, hue = \"vessel\")"
   ]
  },
  {
   "cell_type": "code",
   "execution_count": 4,
   "metadata": {},
   "outputs": [
    {
     "data": {
      "text/html": [
       "<div>\n",
       "<style scoped>\n",
       "    .dataframe tbody tr th:only-of-type {\n",
       "        vertical-align: middle;\n",
       "    }\n",
       "\n",
       "    .dataframe tbody tr th {\n",
       "        vertical-align: top;\n",
       "    }\n",
       "\n",
       "    .dataframe thead th {\n",
       "        text-align: right;\n",
       "    }\n",
       "</style>\n",
       "<table border=\"1\" class=\"dataframe\">\n",
       "  <thead>\n",
       "    <tr style=\"text-align: right;\">\n",
       "      <th></th>\n",
       "      <th>vessel</th>\n",
       "      <th>distance</th>\n",
       "      <th>PV</th>\n",
       "    </tr>\n",
       "  </thead>\n",
       "  <tbody>\n",
       "    <tr>\n",
       "      <th>0</th>\n",
       "      <td>Panamax</td>\n",
       "      <td>20.0</td>\n",
       "      <td>-3.531382e+09</td>\n",
       "    </tr>\n",
       "    <tr>\n",
       "      <th>1</th>\n",
       "      <td>New-Panamax</td>\n",
       "      <td>20.0</td>\n",
       "      <td>-4.734573e+09</td>\n",
       "    </tr>\n",
       "    <tr>\n",
       "      <th>2</th>\n",
       "      <td>ULCS</td>\n",
       "      <td>20.0</td>\n",
       "      <td>-5.555650e+09</td>\n",
       "    </tr>\n",
       "    <tr>\n",
       "      <th>3</th>\n",
       "      <td>Panamax</td>\n",
       "      <td>40.0</td>\n",
       "      <td>-2.351991e+09</td>\n",
       "    </tr>\n",
       "    <tr>\n",
       "      <th>4</th>\n",
       "      <td>New-Panamax</td>\n",
       "      <td>40.0</td>\n",
       "      <td>-2.767599e+09</td>\n",
       "    </tr>\n",
       "    <tr>\n",
       "      <th>5</th>\n",
       "      <td>ULCS</td>\n",
       "      <td>40.0</td>\n",
       "      <td>-2.961447e+09</td>\n",
       "    </tr>\n",
       "    <tr>\n",
       "      <th>6</th>\n",
       "      <td>Panamax</td>\n",
       "      <td>60.0</td>\n",
       "      <td>-2.237941e+09</td>\n",
       "    </tr>\n",
       "    <tr>\n",
       "      <th>7</th>\n",
       "      <td>New-Panamax</td>\n",
       "      <td>60.0</td>\n",
       "      <td>-2.319905e+09</td>\n",
       "    </tr>\n",
       "    <tr>\n",
       "      <th>8</th>\n",
       "      <td>ULCS</td>\n",
       "      <td>60.0</td>\n",
       "      <td>-2.237941e+09</td>\n",
       "    </tr>\n",
       "  </tbody>\n",
       "</table>\n",
       "</div>"
      ],
      "text/plain": [
       "        vessel  distance            PV\n",
       "0      Panamax      20.0 -3.531382e+09\n",
       "1  New-Panamax      20.0 -4.734573e+09\n",
       "2         ULCS      20.0 -5.555650e+09\n",
       "3      Panamax      40.0 -2.351991e+09\n",
       "4  New-Panamax      40.0 -2.767599e+09\n",
       "5         ULCS      40.0 -2.961447e+09\n",
       "6      Panamax      60.0 -2.237941e+09\n",
       "7  New-Panamax      60.0 -2.319905e+09\n",
       "8         ULCS      60.0 -2.237941e+09"
      ]
     },
     "metadata": {},
     "output_type": "display_data"
    }
   ],
   "source": [
    "PV_alt1_6000  = -2.959270e+09\n",
    "PV_alt1_12500 = -2.559270e+09\n",
    "PV_alt1_21000 = -2.359270e+09\n",
    "\n",
    "PVs_1 = [[\"Panamax\",     20, PV_alt1_6000], \n",
    "         [\"New-Panamax\", 20, PV_alt1_12500], \n",
    "         [\"ULCS\",        20, PV_alt1_21000],\n",
    "         [\"Panamax\",     40, PV_alt1_6000], \n",
    "         [\"New-Panamax\", 40, PV_alt1_12500], \n",
    "         [\"ULCS\",        40, PV_alt1_21000],\n",
    "         [\"Panamax\",     60, PV_alt1_6000], \n",
    "         [\"New-Panamax\", 60, PV_alt1_12500], \n",
    "         [\"ULCS\",        60, PV_alt1_21000]]\n",
    "\n",
    "PVs_2 = [[\"Panamax\",     20, PV_alt2_20_6000], \n",
    "         [\"New-Panamax\", 20, PV_alt2_20_12500], \n",
    "         [\"ULCS\",        20, PV_alt2_20_21000],\n",
    "         [\"Panamax\",     40, PV_alt2_40_6000], \n",
    "         [\"New-Panamax\", 40, PV_alt2_40_12500], \n",
    "         [\"ULCS\",        40, PV_alt2_40_21000],\n",
    "         [\"Panamax\",     60, PV_alt2_60_6000], \n",
    "         [\"New-Panamax\", 60, PV_alt2_60_12500], \n",
    "         [\"ULCS\",        60, PV_alt2_60_21000]]\n",
    "\n",
    "PV_alt3_20_6000 =  0.6 * PV_alt2_20_6000\n",
    "PV_alt3_20_12500 = 0.6 * PV_alt2_20_12500\n",
    "PV_alt3_20_21000 = 0.6 * PV_alt2_20_21000\n",
    "PV_alt3_40_6000 =  1.1 * PV_alt2_40_6000\n",
    "PV_alt3_40_12500 = 1.1 * PV_alt2_40_12500\n",
    "PV_alt3_40_21000 = 1.1 * PV_alt2_40_21000\n",
    "PV_alt3_60_6000 =  0.9 * PV_alt2_60_6000\n",
    "PV_alt3_60_12500 = 1.0 * PV_alt2_60_12500\n",
    "PV_alt3_60_21000 = 1.1 * PV_alt2_60_21000\n",
    "\n",
    "PVs_3 = [[\"Panamax\",     20, PV_alt3_20_6000], \n",
    "         [\"New-Panamax\", 20, PV_alt3_20_12500], \n",
    "         [\"ULCS\",        20, PV_alt3_20_21000],\n",
    "         [\"Panamax\",     40, PV_alt3_40_6000], \n",
    "         [\"New-Panamax\", 40, PV_alt3_40_12500], \n",
    "         [\"ULCS\",        40, PV_alt3_40_21000],\n",
    "         [\"Panamax\",     60, PV_alt3_60_6000], \n",
    "         [\"New-Panamax\", 60, PV_alt3_60_12500], \n",
    "         [\"ULCS\",        60, PV_alt3_60_21000]]\n",
    "\n",
    "df_1 = pd.DataFrame(PVs_1,columns=['vessel','distance','PV'])\n",
    "df_1['distance'] = df_1['distance'].astype(float)\n",
    "# df_1['x'] = df_1['x'].astype('category')\n",
    "# display(df_1)\n",
    "# display(df_1.dtypes)\n",
    "\n",
    "df_2 = pd.DataFrame(PVs_2,columns=['vessel','distance','PV'])\n",
    "df_2['distance'] = df_2['distance'].astype(float)\n",
    "# df_2['x'] = df_2['x'].astype('category')\n",
    "display(df_2)\n",
    "# display(df_2.dtypes)\n",
    "\n",
    "df_3 = pd.DataFrame(PVs_3,columns=['vessel','distance','PV'])\n",
    "df_3['distance'] = df_2['distance'].astype(float)\n",
    "# display(df_3)\n",
    "# display(df_3.dtypes)"
   ]
  },
  {
   "cell_type": "code",
   "execution_count": 5,
   "metadata": {
    "scrolled": false
   },
   "outputs": [
    {
     "data": {
      "text/plain": [
       "<Figure size 432x432 with 0 Axes>"
      ]
     },
     "metadata": {},
     "output_type": "display_data"
    },
    {
     "data": {
      "image/png": "[encoded data removed]",
      "text/plain": [
       "<Figure size 360x360 with 1 Axes>"
      ]
     },
     "metadata": {
      "needs_background": "light"
     },
     "output_type": "display_data"
    },
    {
     "data": {
      "text/plain": [
       "<Figure size 432x432 with 0 Axes>"
      ]
     },
     "metadata": {},
     "output_type": "display_data"
    },
    {
     "data": {
      "image/png": "[encoded data removed]",
      "text/plain": [
       "<Figure size 360x360 with 1 Axes>"
      ]
     },
     "metadata": {
      "needs_background": "light"
     },
     "output_type": "display_data"
    },
    {
     "data": {
      "text/plain": [
       "<Figure size 432x432 with 0 Axes>"
      ]
     },
     "metadata": {},
     "output_type": "display_data"
    },
    {
     "data": {
      "image/png": "[encoded data removed]",
      "text/plain": [
       "<Figure size 360x360 with 1 Axes>"
      ]
     },
     "metadata": {
      "needs_background": "light"
     },
     "output_type": "display_data"
    }
   ],
   "source": [
    "### Alternative 1 ###\n",
    "plt.figure(figsize=[6,6])\n",
    "\n",
    "sns.lmplot(x=\"distance\", y=\"PV\", data=df_1, legend=False,scatter = False,\n",
    "           order=2, truncate=True, palette=\"Blues\", hue=\"vessel\", ci=None);\n",
    "\n",
    "sns.despine(right=True, top=True)\n",
    "\n",
    "plt.title('Cost-estimation plot (Alt. 1)', fontsize='large')\n",
    "plt.xlabel('Offshore Distance [km]', fontsize='large')\n",
    "plt.ylabel('PV of the costs', fontsize='large')\n",
    "plt.yticks(np.arange(0, -7*10**9, step = - 10**9), \n",
    "           [\"$ 0B\",\"$ -1B\",\"$ -2B\",\"$ -3B\",\"$ -4B\", \"$ -5B\"])\n",
    "plt.legend(loc='best', title='Design vessel', frameon=False, fontsize='large')\n",
    "\n",
    "# save fig\n",
    "plt.savefig(\"SaveFigures/ex_PV_plot_1.png\")\n",
    "# plt.savefig(\"SaveFigures/PV_plot_1.png\")\n",
    "\n",
    "### Alternative 2 ###\n",
    "plt.figure(figsize=[6,6])\n",
    "\n",
    "sns.lmplot(x=\"distance\", y=\"PV\", data=df_2, legend=False,\n",
    "           order=2, truncate=True, palette=\"Oranges\", hue=\"vessel\", ci=None);\n",
    "\n",
    "plt.title('Cost-estimation plot (Alt. 2)', fontsize='large')\n",
    "plt.xlabel('Offshore Distance [km]', fontsize='large')\n",
    "plt.ylabel('PV of the costs', fontsize='large')\n",
    "plt.yticks(np.arange(0, -7*10**9, step = - 10**9), \n",
    "           [\"$ 0B\",\"$ -1B\",\"$ -2B\",\"$ -3B\",\"$ -4B\", \"$ -5B\"])\n",
    "plt.legend(loc='best', title='Design vessel', frameon=False, fontsize='large')\n",
    "\n",
    "# save fig\n",
    "plt.savefig(\"SaveFigures/ex_PV_plot_2.png\")\n",
    "# plt.savefig(\"SaveFigures/PV_plot_2.png\")\n",
    "\n",
    "### Alternative 3 ###\n",
    "plt.figure(figsize=[6,6])\n",
    "\n",
    "sns.lmplot(x=\"distance\", y=\"PV\", data=df_3, legend=False,\n",
    "           order=2, truncate=True, palette=\"Greens\", hue=\"vessel\", ci=None);\n",
    "\n",
    "plt.title('Cost-estimation plot (Alt. 3)', fontsize='large')\n",
    "plt.xlabel('Offshore Distance [km]', fontsize='large')\n",
    "plt.ylabel('PV of the costs', fontsize='large')\n",
    "plt.yticks(np.arange(0, -7*10**9, step = - 10**9), \n",
    "           [\"$ 0B\",\"$ -1B\",\"$ -2B\",\"$ -3B\",\"$ -4B\", \"$ -5B\"])\n",
    "plt.legend(loc='best', title='Design vessel', frameon=False, fontsize='large')\n",
    "\n",
    "# save fig\n",
    "plt.savefig(\"SaveFigures/ex_PV_plot_3.png\")\n",
    "# plt.savefig(\"SaveFigures/PV_plot.png\")"
   ]
  },
  {
   "cell_type": "markdown",
   "metadata": {},
   "source": [
    "## Sensitivity: Demand"
   ]
  },
  {
   "cell_type": "code",
   "execution_count": 6,
   "metadata": {},
   "outputs": [
    {
     "ename": "NameError",
     "evalue": "name 'PV_40_12500_500000' is not defined",
     "output_type": "error",
     "traceback": [
      "\u001b[1;31m---------------------------------------------------------------------------\u001b[0m",
      "\u001b[1;31mNameError\u001b[0m                                 Traceback (most recent call last)",
      "\u001b[1;32m<ipython-input-6-dac7ccdb4811>\u001b[0m in \u001b[0;36m<module>\u001b[1;34m\u001b[0m\n\u001b[0;32m     11\u001b[0m \u001b[0mget_ipython\u001b[0m\u001b[1;33m(\u001b[0m\u001b[1;33m)\u001b[0m\u001b[1;33m.\u001b[0m\u001b[0mrun_line_magic\u001b[0m\u001b[1;33m(\u001b[0m\u001b[1;34m'store'\u001b[0m\u001b[1;33m,\u001b[0m \u001b[1;34m'-r PV_alt3_40_12500_1500000'\u001b[0m\u001b[1;33m)\u001b[0m\u001b[1;33m\u001b[0m\u001b[1;33m\u001b[0m\u001b[0m\n\u001b[0;32m     12\u001b[0m \u001b[1;33m\u001b[0m\u001b[0m\n\u001b[1;32m---> 13\u001b[1;33m PVs = [[500000,  PV_40_12500_500000], \n\u001b[0m\u001b[0;32m     14\u001b[0m        \u001b[1;33m[\u001b[0m\u001b[1;36m1000000\u001b[0m\u001b[1;33m,\u001b[0m \u001b[0mPV_40_12500_1000000\u001b[0m\u001b[1;33m]\u001b[0m\u001b[1;33m,\u001b[0m\u001b[1;33m\u001b[0m\u001b[1;33m\u001b[0m\u001b[0m\n\u001b[0;32m     15\u001b[0m        [1500000, PV_40_12500_1500000]]\n",
      "\u001b[1;31mNameError\u001b[0m: name 'PV_40_12500_500000' is not defined"
     ]
    }
   ],
   "source": [
    "%store -r PV_alt1_40_12500_500000\n",
    "%store -r PV_alt1_40_12500_1000000\n",
    "%store -r PV_alt1_40_12500_1500000\n",
    "\n",
    "%store -r PV_alt2_40_12500_500000\n",
    "%store -r PV_alt2_40_12500_1000000\n",
    "%store -r PV_alt2_40_12500_1500000\n",
    "\n",
    "%store -r PV_alt3_40_12500_500000\n",
    "%store -r PV_alt3_40_12500_1000000\n",
    "%store -r PV_alt3_40_12500_1500000\n",
    "\n",
    "PVs = [[500000,  PV_40_12500_500000], \n",
    "       [1000000, PV_40_12500_1000000], \n",
    "       [1500000, PV_40_12500_1500000]]\n",
    "\n",
    "# Create the pandas DataFrame \n",
    "PV_df = pd.DataFrame(PVs, columns = ['Demand', 'PV']) \n",
    "PV_df['Demand'] = PV_df['Demand'].astype(float)\n",
    "display(PV_df)\n",
    "display(PV_df.dtypes)\n",
    "\n",
    "# sensitivity\n",
    "sns.lmplot(x=\"Demand\", y=\"PV\", data=PV_df, legend=False,\n",
    "           order=2, truncate=True, palette=\"Oranges\", ci=None)\n",
    "\n",
    "# base scenario\n",
    "plt.axhline(PV_df.PV[1], linestyle='--', color='tab:grey', label='1,000,000 TEU', zorder=0)\n",
    "\n",
    "# labels\n",
    "plt.title('Sensitivity plot - Demand: fixed annual volumes', fontsize='x-large')\n",
    "plt.xlabel('Annual demand scenarios', fontsize='large')\n",
    "plt.ylabel('PV of the costs', fontsize='large')\n",
    "plt.legend(frameon=False, loc='best', fontsize='large', title='Base scenario')\n",
    "\n",
    "# ticks\n",
    "plt.yticks(np.arange(-1*10**9, -6*10**9, step = - 10**9), \n",
    "           [\"$ -1B\",\"$ -2B\",\"$ -3B\",\"$ -4B\", \"$ -5B\"])\n",
    "plt.xticks([500000, 1000000, 1500000], \n",
    "           [\"-50%\",\"base\",\"+50%\"])\n",
    "\n",
    "# save fig\n",
    "plt.savefig(\"SaveFigures/sensitivity_demand.png\")"
   ]
  },
  {
   "cell_type": "markdown",
   "metadata": {},
   "source": [
    "## Sensitivity: Growing demand"
   ]
  },
  {
   "cell_type": "code",
   "execution_count": null,
   "metadata": {},
   "outputs": [],
   "source": [
    "%store -r PV_alt1_40_12500_1000000_growth1\n",
    "%store -r PV_alt1_40_12500_1000000_growth2\n",
    "%store -r PV_alt1_40_12500_1000000_growth3\n",
    "%store -r PV_alt1_40_12500_1000000_growth4\n",
    "\n",
    "%store -r PV_alt2_40_12500_1000000_growth1\n",
    "%store -r PV_alt2_40_12500_1000000_growth2\n",
    "%store -r PV_alt2_40_12500_1000000_growth3\n",
    "%store -r PV_alt2_40_12500_1000000_growth4\n",
    "\n",
    "%store -r PV_alt3_40_12500_1000000_growth1\n",
    "%store -r PV_alt3_40_12500_1000000_growth2\n",
    "%store -r PV_alt3_40_12500_1000000_growth3\n",
    "%store -r PV_alt3_40_12500_1000000_growth4\n",
    "\n",
    "PVs = [['Alternative 1', 1000000, PV_alt1_40_12500_1000000_growth1], \n",
    "       ['Alternative 1', 1500000, PV_alt1_40_12500_1000000_growth2], \n",
    "       ['Alternative 1', 2000000, PV_alt1_40_12500_1000000_growth3],\n",
    "       ['Alternative 1', 2500000, PV_alt1_40_12500_1000000_growth4],\n",
    "       ['Alternative 2', 1000000, PV_alt2_40_12500_1000000_growth1], \n",
    "       ['Alternative 2', 1500000, PV_alt2_40_12500_1000000_growth2], \n",
    "       ['Alternative 2', 2000000, PV_alt2_40_12500_1000000_growth3],\n",
    "       ['Alternative 2', 2500000, PV_alt2_40_12500_1000000_growth4],\n",
    "       ['Alternative 3', 1000000, PV_alt3_40_12500_1000000_growth1], \n",
    "       ['Alternative 3', 1500000, PV_alt3_40_12500_1000000_growth2], \n",
    "       ['Alternative 3', 2000000, PV_alt3_40_12500_1000000_growth3],\n",
    "       ['Alternative 3', 2500000, PV_alt3_40_12500_1000000_growth4]]\n",
    "\n",
    "# Create the pandas DataFrame \n",
    "PV_df = pd.DataFrame(PVs, columns = ['Alternative','Demand', 'PV']) \n",
    "PV_df['Demand'] = PV_df['Demand'].astype(float)\n",
    "display(PV_df)\n",
    "display(PV_df.dtypes)\n",
    "\n",
    "# sensitivity\n",
    "sns.lmplot(x=\"Demand\", y=\"PV\", data=PV_df, legend=False,\n",
    "           order=2, truncate=True, palette=\"tab10\", hue=\"Alternative\", ci=None)\n",
    "\n",
    "# base scenario\n",
    "# plt.axhline(PV_df.PV[0], linestyle='--', color='tab:grey', label='no growth', zorder=0)\n",
    "\n",
    "plt.title('Sensitivity plot - Demand: growth over time', fontsize='large')\n",
    "plt.xlabel('Growth over time scenarios', fontsize='large')\n",
    "plt.ylabel('PV of the costs', fontsize='large')\n",
    "plt.legend(frameon=False, loc='best', fontsize='large', title='Alternatives')\n",
    "\n",
    "plt.yticks(np.arange(-1*10**9, -7*10**9, step = - 10**9), \n",
    "           [\"$ -1B\",\"$ -2B\",\"$ -3B\",\"$ -4B\", \"$ -5B\", \"$ -6B\"], size='large')\n",
    "plt.xticks([1000000, 1500000, 2000000, 2500000], \n",
    "           [\"base\", \"scenario 1\", \"scenario 2\", \"scenario 3\"], size='large')\n",
    "\n",
    "# save fig\n",
    "plt.savefig(\"SaveFigures/sensitivity_demand_growth.png\")"
   ]
  },
  {
   "cell_type": "markdown",
   "metadata": {},
   "source": [
    "## Sensitivity: Bathymetry"
   ]
  },
  {
   "cell_type": "code",
   "execution_count": null,
   "metadata": {},
   "outputs": [],
   "source": [
    "## Sensitivity: Growing demand\n",
    "%store -r PV_alt1_40_12500_1000000_slope1\n",
    "%store -r PV_alt1_40_12500_1000000_slope2\n",
    "%store -r PV_alt1_40_12500_1000000_slope3\n",
    "\n",
    "%store -r PV_alt2_40_12500_1000000_slope1\n",
    "%store -r PV_alt2_40_12500_1000000_slope2\n",
    "%store -r PV_alt2_40_12500_1000000_slope3\n",
    "\n",
    "%store -r PV_alt3_40_12500_1000000_slope1\n",
    "%store -r PV_alt3_40_12500_1000000_slope2\n",
    "%store -r PV_alt3_40_12500_1000000_slope3\n",
    "\n",
    "\n",
    "PVs = [['Alternative 1', 1.0, PV_alt1_40_12500_1000000_slope1],\n",
    "       ['Alternative 1', 2.0, PV_alt1_40_12500_1000000_slope2],\n",
    "       ['Alternative 1', 3.0, PV_alt1_40_12500_1000000_slope3],\n",
    "       ['Alternative 2', 1.0, PV_alt2_40_12500_1000000_slope1],\n",
    "       ['Alternative 2', 2.0, PV_alt2_40_12500_1000000_slope2],\n",
    "       ['Alternative 2', 3.0, PV_alt2_40_12500_1000000_slope3],\n",
    "       ['Alternative 3', 1.0, PV_alt3_40_12500_1000000_slope1],\n",
    "       ['Alternative 3', 2.0, PV_alt3_40_12500_1000000_slope2],\n",
    "       ['Alternative 3', 3.0, PV_alt3_40_12500_1000000_slope3]]\n",
    "\n",
    "# Create the pandas DataFrame \n",
    "PV_df = pd.DataFrame(PVs, columns = ['Alternative', 'Slope', 'NPV']) \n",
    "# PV_df['Alternative'] = PV_df['Alternative'].astype(float)\n",
    "display(PV_df)\n",
    "display(PV_df.dtypes)\n",
    "\n",
    "# sensitivity\n",
    "sns.lmplot(x=\"Slope\", y=\"NPV\", data=PV_df, legend=False,\n",
    "           order=2, truncate=True, palette=\"tab10\", hue=\"Alternative\", ci=None)\n",
    "\n",
    "# base scenario\n",
    "# plt.axhline(NPV_df.PV[1], linestyle='--', color='tab:grey', label='2.0 km/m', zorder=0)\n",
    "\n",
    "# labels\n",
    "plt.title('Sensitivity plot - Bathymetry', fontsize='large')\n",
    "plt.xlabel('Bathymetry scenarios', fontsize='large')\n",
    "plt.ylabel('PV', fontsize='large')\n",
    "plt.legend(frameon=False, loc='best', fontsize='large', title='Alternatives')\n",
    "\n",
    "# ticks\n",
    "plt.yticks(np.arange(-1*10**9, -8*10**9, step = - 10**9), \n",
    "           [\"$ -1B\",\"$ -2B\",\"$ -3B\",\"$ -4B\", \"$ -5B\", \"$ -6B\", \"$ -7B\"])\n",
    "plt.xticks([1.0, 2.0, 3.0], \n",
    "           [\"-1.0 km/m\",\"base\",\"+1.0 km/m\"])\n",
    "\n",
    "# save fig\n",
    "plt.savefig(\"SaveFigures/sensitivity_bathymetry.png\")"
   ]
  },
  {
   "cell_type": "markdown",
   "metadata": {},
   "source": [
    "## Sensitivity: Weather related downtime"
   ]
  },
  {
   "cell_type": "code",
   "execution_count": null,
   "metadata": {},
   "outputs": [],
   "source": [
    "## Sensitivity: weather related downtime\n",
    "\n",
    "%store -r PV_40_12500_1000000_downtime0\n",
    "%store -r PV_40_12500_1000000_downtime1\n",
    "%store -r PV_40_12500_1000000_downtime2\n",
    "%store -r PV_40_12500_1000000_downtime3\n",
    "%store -r PV_40_12500_1000000_downtime4\n",
    "\n",
    "# data\n",
    "PVs = [[0.0, PV_40_12500_1000000_downtime0],\n",
    "       [1.0, PV_40_12500_1000000_downtime1], \n",
    "       [2.0, PV_40_12500_1000000_downtime2], \n",
    "       [3.0, PV_40_12500_1000000_downtime3],\n",
    "       [4.0, PV_40_12500_1000000_downtime4]]\n",
    "\n",
    "# Create the pandas DataFrame \n",
    "PV_df = pd.DataFrame(PVs, columns = ['Downtime', 'PV']) \n",
    "PV_df['Downtime'] = PV_df['Downtime'].astype(float)\n",
    "display(PV_df)\n",
    "display(PV_df.dtypes)\n",
    "\n",
    "plt.figure()\n",
    "# sensitivity\n",
    "sns.lmplot(x=\"Downtime\", y=\"PV\", data=PV_df,\n",
    "           order=2, truncate=True, ci=None)\n",
    "\n",
    "# base scenario\n",
    "plt.axhline(PV_df.PV[1], linestyle='--', color='tab:grey', label='avg. utilisation rate of 0.7', zorder=0)\n",
    "\n",
    "# labels\n",
    "plt.title('Weather related downtime sensitivity plot', fontsize='large')\n",
    "plt.legend(frameon=False, loc='best', fontsize='large', title='Base scenario',title_fontsize='large')\n",
    "plt.text(0.15, PV_40_12500_1000000_downtime0, r'15,250 TEU')\n",
    "plt.text(1.15, -3*10**9, r'17,285 TEU')\n",
    "plt.text(3.15, PV_40_12500_1000000_downtime3, r'32,165 TEU')\n",
    "\n",
    "plt.xlabel('Consecutive downtime scenarios', fontsize='large')\n",
    "plt.ylabel('PV of the costs', fontsize='large')\n",
    "\n",
    "# ticks\n",
    "plt.yticks(np.arange(-1*10**9, -9*10**9, step = - 10**9), \n",
    "           [\"$ -1B\",\"$ -2B\",\"$ -3B\",\"$ -4B\", \"$ -5B\", \"$ -6B\", \"$ -7B\", \"$ -8B\"], \n",
    "            size='large')\n",
    "plt.xticks([0.0, 1.0, 2.0, 3.0, 4.0], \n",
    "           [\"no downtime\",\"base\",\"scenario 1\", \"scenario 2\", \"scenario 3\"], \n",
    "            size='large')\n",
    "\n",
    "# save fig\n",
    "plt.savefig(\"SaveFigures/sensitivity_downtime.png\")"
   ]
  },
  {
   "cell_type": "code",
   "execution_count": null,
   "metadata": {},
   "outputs": [],
   "source": []
  },
  {
   "cell_type": "code",
   "execution_count": null,
   "metadata": {},
   "outputs": [],
   "source": []
  },
  {
   "cell_type": "code",
   "execution_count": null,
   "metadata": {},
   "outputs": [],
   "source": []
  }
 ],
 "metadata": {
  "kernelspec": {
   "display_name": "Python 3",
   "language": "python",
   "name": "python3"
  },
  "language_info": {
   "codemirror_mode": {
    "name": "ipython",
    "version": 3
   },
   "file_extension": ".py",
   "mimetype": "text/x-python",
   "name": "python",
   "nbconvert_exporter": "python",
   "pygments_lexer": "ipython3",
   "version": "3.7.3"
  }
 },
 "nbformat": 4,
 "nbformat_minor": 2
}
