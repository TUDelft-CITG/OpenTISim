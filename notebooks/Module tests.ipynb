{
 "cells": [
  {
   "cell_type": "markdown",
   "metadata": {},
   "source": [
    "# Module tests"
   ]
  },
  {
   "cell_type": "code",
   "execution_count": 41,
   "metadata": {},
   "outputs": [],
   "source": [
    "import json\n",
    "\n",
    "# terminal optimization package\n",
    "from  terminal_optimization.core import vessel_properties_mixin, cyclic_properties_mixin, continuous_properties_mixin"
   ]
  },
  {
   "cell_type": "markdown",
   "metadata": {},
   "source": [
    "## Create necessary classes using mixins"
   ]
  },
  {
   "cell_type": "code",
   "execution_count": 42,
   "metadata": {},
   "outputs": [],
   "source": [
    "# create vessel class\n",
    "class vessel(vessel_properties_mixin):\n",
    "    def __init__(self, *args, **kwargs):\n",
    "        super().__init__(*args, **kwargs)"
   ]
  },
  {
   "cell_type": "code",
   "execution_count": 43,
   "metadata": {},
   "outputs": [],
   "source": [
    "# create unloader class\n",
    "class cyclic_unloader(cyclic_properties_mixin):\n",
    "    def __init__(self, *args, **kwargs):\n",
    "        super().__init__(*args, **kwargs)"
   ]
  },
  {
   "cell_type": "code",
   "execution_count": 44,
   "metadata": {},
   "outputs": [],
   "source": [
    "# create unloader class\n",
    "class continuous_unloader(continuous_properties_mixin):\n",
    "    def __init__(self, *args, **kwargs):\n",
    "        super().__init__(*args, **kwargs)"
   ]
  },
  {
   "cell_type": "markdown",
   "metadata": {},
   "source": [
    "## Instantiate classes"
   ]
  },
  {
   "cell_type": "code",
   "execution_count": 45,
   "metadata": {},
   "outputs": [],
   "source": [
    "# create JSONs with inputs. \n",
    "handysize_data = {\"vessel_type\": 'Handysize', \"call_size\": 35000, \n",
    "                  \"LOA\": 130, \"draft\": 10, \"beam\": 24, \"max_cranes\": 2, \n",
    "                  \"all_turn_time\": 24, \"mooring_time\": 3, \"demurrage\": 600} \n",
    "handymax_data = {\"vessel_type\": 'Handymax', \"call_size\": 50000, \n",
    "                  \"LOA\": 180, \"draft\": 11.5, \"beam\": 28, \"max_cranes\": 2, \n",
    "                  \"all_turn_time\": 24, \"mooring_time\": 3, \"demurrage\": 750} \n",
    "panamax_data = {\"vessel_type\": 'Panamax', \"call_size\": 65000, \n",
    "                  \"LOA\": 220, \"draft\": 13, \"beam\": 32.2, \"max_cranes\": 3, \n",
    "                  \"all_turn_time\": 36, \"mooring_time\": 4, \"demurrage\": 730} \n",
    "\n",
    "# create objects\n",
    "handysize = vessel(**handysize_data)\n",
    "handymax = vessel(**handymax_data)\n",
    "panamax = vessel(**panamax_data)"
   ]
  },
  {
   "cell_type": "code",
   "execution_count": 46,
   "metadata": {},
   "outputs": [
    {
     "name": "stdout",
     "output_type": "stream",
     "text": [
      "{'vessel_type': 'Handysize', 'call_size': 35000, 'LOA': 130, 'draft': 10, 'beam': 24, 'max_cranes': 2, 'all_turn_time': 24, 'mooring_time': 3, 'demurrage': 600}\n",
      "{'vessel_type': 'Handymax', 'call_size': 50000, 'LOA': 180, 'draft': 11.5, 'beam': 28, 'max_cranes': 2, 'all_turn_time': 24, 'mooring_time': 3, 'demurrage': 750}\n",
      "{'vessel_type': 'Panamax', 'call_size': 65000, 'LOA': 220, 'draft': 13, 'beam': 32.2, 'max_cranes': 3, 'all_turn_time': 36, 'mooring_time': 4, 'demurrage': 730}\n"
     ]
    }
   ],
   "source": [
    "#print object dicts\n",
    "print(handysize.__dict__)\n",
    "print(handymax.__dict__)\n",
    "print(panamax.__dict__)"
   ]
  },
  {
   "cell_type": "code",
   "execution_count": 47,
   "metadata": {},
   "outputs": [
    {
     "data": {
      "text/plain": [
       "600"
      ]
     },
     "execution_count": 47,
     "metadata": {},
     "output_type": "execute_result"
    }
   ],
   "source": [
    "handysize.demurrage"
   ]
  },
  {
   "cell_type": "code",
   "execution_count": 48,
   "metadata": {},
   "outputs": [],
   "source": [
    "# create JSONs with inputs. \n",
    "gantry_crane_data   = {\"unloader_type\": 'Gantry crane', \"lifting_capacity\": 50, \n",
    "                       \"hourly_cycles\": 60, \"eff_fact\": 0.6} \n",
    "harbour_crane_data  = {\"unloader_type\": 'Harbour crane', \"lifting_capacity\": 40, \n",
    "                       \"hourly_cycles\": 40, \"eff_fact\": 0.6} \n",
    "mobile_crane_data   = {\"unloader_type\": 'Mobile crane', \"lifting_capacity\": 40, \n",
    "                       \"hourly_cycles\": 30, \"eff_fact\": 0.5} \n",
    "screw_unloader_data = {\"unloader_type\": 'Screw unloader', \"peak_capacity\": 1400, \n",
    "                       \"eff_fact\": 0.55} \n",
    "\n",
    "# create objects\n",
    "gantry_crane    = cyclic_unloader(**gantry_crane_data)       \n",
    "harbour_crane   = cyclic_unloader(**harbour_crane_data)       \n",
    "mobile_crane    = cyclic_unloader(**mobile_crane_data)\n",
    "screw_unloader  = continuous_unloader(**screw_unloader_data)"
   ]
  },
  {
   "cell_type": "code",
   "execution_count": 49,
   "metadata": {},
   "outputs": [
    {
     "name": "stdout",
     "output_type": "stream",
     "text": [
      "{'unloader_type': 'Gantry crane', 'lifting_capacity': 50, 'hourly_cycles': 60, 'eff_fact': 0.6, 'payload': 35.0, 'peak_capacity': 2100.0, 'effective_capacity': 1260.0}\n",
      "{'unloader_type': 'Harbour crane', 'lifting_capacity': 40, 'hourly_cycles': 40, 'eff_fact': 0.6, 'payload': 28.0, 'peak_capacity': 1120.0, 'effective_capacity': 672.0}\n",
      "{'unloader_type': 'Mobile crane', 'lifting_capacity': 40, 'hourly_cycles': 30, 'eff_fact': 0.5, 'payload': 28.0, 'peak_capacity': 840.0, 'effective_capacity': 420.0}\n",
      "{'unloader_type': 'Screw unloader', 'peak_capacity': 1400, 'eff_fact': 0.55, 'rated_capacity': 979.9999999999999, 'effective_capacity': 770.0000000000001}\n"
     ]
    }
   ],
   "source": [
    "# print object dicts\n",
    "print(gantry_crane.__dict__)\n",
    "print(harbour_crane.__dict__)\n",
    "print(mobile_crane.__dict__)\n",
    "print(screw_unloader.__dict__)"
   ]
  },
  {
   "cell_type": "markdown",
   "metadata": {},
   "source": [
    "# Basic calculation"
   ]
  },
  {
   "cell_type": "code",
   "execution_count": 152,
   "metadata": {},
   "outputs": [],
   "source": [
    "# trend estimating class. Could easily be transferred to the package.\n",
    "\n",
    "class estimate_trend:\n",
    "    \"\"\"trend estimate class\"\"\"\n",
    "\n",
    "    def __init__(self, year, window, demand, rate):\n",
    "        \"\"\"initialization\"\"\"\n",
    "        self.year = year\n",
    "        self.window = window\n",
    "        self.demand = demand\n",
    "        self.rate = rate\n",
    "        self.mu = mu\n",
    "        self.sigma = sigma\n",
    "        \n",
    "    def linear(self, year, window, demand,  rate):\n",
    "        \"\"\"trend generated from constant growth rate increments\"\"\"\n",
    "        years = range(self.year, self.year+window)\n",
    "        demand = self.demand\n",
    "        t = []\n",
    "        d = []\n",
    "        for year in years:\n",
    "            t.append(year)\n",
    "            d.append(demand)\n",
    "            demand = demand*self.rate    \n",
    "\n",
    "        return t, d\n",
    "    \n",
    "    def random(self, year, window, demand, rate, mu, sigma):\n",
    "        \"\"\"trend generated from random growth rate increments\"\"\"\n",
    "        # package(s) used for probability\n",
    "        import numpy as np\n",
    "\n",
    "        years = range(self.year, self.year+window)\n",
    "        demand = self.demand\n",
    "        rate = self.rate\n",
    "        t = []\n",
    "        d = []\n",
    "        for year in years:\n",
    "            t.append(year)\n",
    "            d.append(demand)\n",
    "            \n",
    "            change = np.random.normal(mu, sigma, 1000)\n",
    "            rate = rate + change[0]\n",
    "            \n",
    "            demand = demand*rate    \n",
    "\n",
    "        return t, d\n",
    "    \n",
    "    def print(self, t, d):\n",
    "        \"\"\"simpel print statement of estimated trend\"\"\"\n",
    "        print(t)\n",
    "        print(d)\n",
    "        \n",
    "    def plot(self, t, d):\n",
    "        \"\"\"simpel plot of estimated trend\"\"\"\n",
    "        import matplotlib.pyplot as plt\n",
    "        plt.plot(t, d, 'ro')\n",
    "        plt.show()"
   ]
  },
  {
   "cell_type": "code",
   "execution_count": 153,
   "metadata": {},
   "outputs": [
    {
     "name": "stdout",
     "output_type": "stream",
     "text": [
      "[2018, 2019]\n",
      "[10, 10.5]\n"
     ]
    },
    {
     "data": {
      "image/png": "[encoded data removed]",
      "text/plain": [
       "<Figure size 432x288 with 1 Axes>"
      ]
     },
     "metadata": {},
     "output_type": "display_data"
    }
   ],
   "source": [
    "year = 2018 # starting year\n",
    "window = 2  # looking 2 years ahead\n",
    "demand = 10 # demand at t=0\n",
    "rate = 1.05 # growth rate\n",
    "\n",
    "trendestimate = estimate_trend(year, window, demand, rate)\n",
    "t, d = trendestimate.linear(year, window, demand, rate)\n",
    "trendestimate.print(t, d)\n",
    "trendestimate.plot(t, d)"
   ]
  },
  {
   "cell_type": "code",
   "execution_count": 154,
   "metadata": {},
   "outputs": [
    {
     "name": "stdout",
     "output_type": "stream",
     "text": [
      "[2018, 2019, 2020, 2021, 2022, 2023, 2024, 2025, 2026, 2027, 2028, 2029, 2030, 2031, 2032, 2033, 2034, 2035, 2036, 2037]\n",
      "[10, 10.5, 11.025, 11.576250000000002, 12.155062500000001, 12.762815625000002, 13.400956406250003, 14.071004226562504, 14.77455443789063, 15.513282159785163, 16.28894626777442, 17.103393581163143, 17.9585632602213, 18.856491423232367, 19.799315994393986, 20.789281794113688, 21.828745883819373, 22.920183178010344, 24.066192336910863, 25.269501953756407]\n"
     ]
    },
    {
     "data": {
      "image/png": "[encoded data removed]",
      "text/plain": [
       "<Figure size 432x288 with 1 Axes>"
      ]
     },
     "metadata": {},
     "output_type": "display_data"
    }
   ],
   "source": [
    "year = 2018 # starting year\n",
    "window = 20  # looking 20 years ahead\n",
    "demand = 10 # demand at t=0\n",
    "rate = 1.05 # growth rate\n",
    "\n",
    "trendestimate = estimate_trend(year, window, demand, rate)\n",
    "t, d = trendestimate.linear(year, window, demand, rate)\n",
    "trendestimate.print(t, d)\n",
    "trendestimate.plot(t, d)"
   ]
  },
  {
   "cell_type": "code",
   "execution_count": 166,
   "metadata": {},
   "outputs": [
    {
     "name": "stdout",
     "output_type": "stream",
     "text": [
      "[2018, 2019, 2020, 2021, 2022, 2023, 2024, 2025, 2026, 2027, 2028, 2029, 2030, 2031, 2032, 2033, 2034, 2035, 2036, 2037]\n",
      "[10, 9.91860886117079, 10.269254235483325, 9.117370546293849, 8.077808363304193, 8.081644799418555, 6.831268856755529, 6.200840254944751, 5.280208779967273, 4.874560578013484, 4.5302281744198885, 4.409893547969094, 4.743209864997375, 5.529625348401055, 6.347062877520491, 7.496781641090811, 8.167274932770669, 7.806008157015044, 7.540256693319857, 6.278730126938661]\n"
     ]
    },
    {
     "data": {
      "image/png": "[encoded data removed]",
      "text/plain": [
       "<Figure size 432x288 with 1 Axes>"
      ]
     },
     "metadata": {},
     "output_type": "display_data"
    }
   ],
   "source": [
    "np.random.seed(seed=None)\n",
    "\n",
    "year = 2018 # starting year\n",
    "window = 20  # looking 20 years ahead\n",
    "demand = 10 # demand at t=0\n",
    "rate = 1 # growth rate\n",
    "mu, sigma = 0, 0.1 # mean and standard deviation\n",
    "\n",
    "trendestimate = estimate_trend(year, window, demand, rate)\n",
    "t, d = trendestimate.random(year, window, demand, rate, mu, sigma)\n",
    "trendestimate.print(t, d)\n",
    "trendestimate.plot(t, d)"
   ]
  }
 ],
 "metadata": {
  "kernelspec": {
   "display_name": "Python 3",
   "language": "python",
   "name": "python3"
  },
  "language_info": {
   "codemirror_mode": {
    "name": "ipython",
    "version": 3
   },
   "file_extension": ".py",
   "mimetype": "text/x-python",
   "name": "python",
   "nbconvert_exporter": "python",
   "pygments_lexer": "ipython3",
   "version": "3.6.3"
  }
 },
 "nbformat": 4,
 "nbformat_minor": 2
}
