{
 "cells": [
  {
   "cell_type": "markdown",
   "metadata": {},
   "source": [
    "# Module tests"
   ]
  },
  {
   "cell_type": "code",
   "execution_count": null,
   "metadata": {},
   "outputs": [],
   "source": [
    "import json\n",
    "\n",
    "# terminal optimization package\n",
    "from  terminal_optimization.core import vessel_properties_mixin, cyclic_properties_mixin, continuous_properties_mixin"
   ]
  },
  {
   "cell_type": "markdown",
   "metadata": {},
   "source": [
    "## Create necessary classes using mixins"
   ]
  },
  {
   "cell_type": "code",
   "execution_count": null,
   "metadata": {},
   "outputs": [],
   "source": [
    "# create vessel class\n",
    "class vessel(vessel_properties_mixin):\n",
    "    def __init__(self, *args, **kwargs):\n",
    "        super().__init__(*args, **kwargs)"
   ]
  },
  {
   "cell_type": "code",
   "execution_count": null,
   "metadata": {},
   "outputs": [],
   "source": [
    "# create unloader class\n",
    "class cyclic_unloader(cyclic_properties_mixin):\n",
    "    def __init__(self, *args, **kwargs):\n",
    "        super().__init__(*args, **kwargs)"
   ]
  },
  {
   "cell_type": "code",
   "execution_count": null,
   "metadata": {},
   "outputs": [],
   "source": [
    "# create unloader class\n",
    "class continuous_unloader(continuous_properties_mixin):\n",
    "    def __init__(self, *args, **kwargs):\n",
    "        super().__init__(*args, **kwargs)"
   ]
  },
  {
   "cell_type": "markdown",
   "metadata": {},
   "source": [
    "## Instantiate classes"
   ]
  },
  {
   "cell_type": "code",
   "execution_count": null,
   "metadata": {},
   "outputs": [],
   "source": [
    "# create JSONs with inputs. \n",
    "handysize_data = {\"vessel_type\": 'Handysize', \"call_size\": 35000, \n",
    "                  \"LOA\": 130, \"draft\": 10, \"beam\": 24, \"max_cranes\": 2, \n",
    "                  \"all_turn_time\": 24, \"mooring_time\": 3, \"demurrage\": 600} \n",
    "handymax_data = {\"vessel_type\": 'Handymax', \"call_size\": 50000, \n",
    "                  \"LOA\": 180, \"draft\": 11.5, \"beam\": 28, \"max_cranes\": 2, \n",
    "                  \"all_turn_time\": 24, \"mooring_time\": 3, \"demurrage\": 750} \n",
    "panamax_data = {\"vessel_type\": 'Panamax', \"call_size\": 65000, \n",
    "                  \"LOA\": 220, \"draft\": 13, \"beam\": 32.2, \"max_cranes\": 3, \n",
    "                  \"all_turn_time\": 36, \"mooring_time\": 4, \"demurrage\": 730} \n",
    "\n",
    "# create objects\n",
    "handysize = vessel(**handysize_data)\n",
    "handymax = vessel(**handymax_data)\n",
    "panamax = vessel(**panamax_data)"
   ]
  },
  {
   "cell_type": "code",
   "execution_count": null,
   "metadata": {},
   "outputs": [],
   "source": [
    "#print object dicts\n",
    "print(handysize.__dict__)\n",
    "print(handymax.__dict__)\n",
    "print(panamax.__dict__)"
   ]
  },
  {
   "cell_type": "code",
   "execution_count": null,
   "metadata": {},
   "outputs": [],
   "source": [
    "handysize.demurrage"
   ]
  },
  {
   "cell_type": "code",
   "execution_count": null,
   "metadata": {},
   "outputs": [],
   "source": [
    "# create JSONs with inputs. \n",
    "gantry_crane_data   = {\"unloader_type\": 'Gantry crane', \"lifting_capacity\": 50, \n",
    "                       \"hourly_cycles\": 60, \"eff_fact\": 0.6} \n",
    "harbour_crane_data  = {\"unloader_type\": 'Harbour crane', \"lifting_capacity\": 40, \n",
    "                       \"hourly_cycles\": 40, \"eff_fact\": 0.6} \n",
    "mobile_crane_data   = {\"unloader_type\": 'Mobile crane', \"lifting_capacity\": 40, \n",
    "                       \"hourly_cycles\": 30, \"eff_fact\": 0.5} \n",
    "screw_unloader_data = {\"unloader_type\": 'Screw unloader', \"peak_capacity\": 1400, \n",
    "                       \"eff_fact\": 0.55} \n",
    "\n",
    "# create objects\n",
    "gantry_crane    = cyclic_unloader(**gantry_crane_data)       \n",
    "harbour_crane   = cyclic_unloader(**harbour_crane_data)       \n",
    "mobile_crane    = cyclic_unloader(**mobile_crane_data)\n",
    "screw_unloader  = continuous_unloader(**screw_unloader_data)"
   ]
  },
  {
   "cell_type": "code",
   "execution_count": null,
   "metadata": {},
   "outputs": [],
   "source": [
    "# print object dicts\n",
    "print(gantry_crane.__dict__)\n",
    "print(harbour_crane.__dict__)\n",
    "print(mobile_crane.__dict__)\n",
    "print(screw_unloader.__dict__)"
   ]
  },
  {
   "cell_type": "markdown",
   "metadata": {},
   "source": [
    "# Basic calculation"
   ]
  },
  {
   "cell_type": "code",
   "execution_count": 25,
   "metadata": {},
   "outputs": [],
   "source": [
    "year = 2018 # starting year\n",
    "window = 5  # looking 5 years ahead\n",
    "demand = 10 # demand at t=0\n",
    "rate = 1.05 # growth rate\n",
    "\n",
    "class estimate_trend:\n",
    "    def __init__(self, year, window, demand,  rate):\n",
    "        self.year = year\n",
    "        self.window = window\n",
    "        self.demand = demand\n",
    "        self.rate = rate\n",
    "        \n",
    "    def linear(self, year, window, demand,  rate):\n",
    "        years = range(self.year, self.year+window)\n",
    "        demand = self.demand\n",
    "        t = []\n",
    "        d = []\n",
    "        for year in years:\n",
    "            t.append(year)\n",
    "            d.append(demand)\n",
    "            demand = demand*self.rate    \n",
    "        print(t)\n",
    "        print(d)\n",
    "        \n",
    "    def random(self, year, window, demand,  rate):\n",
    "        pass"
   ]
  },
  {
   "cell_type": "code",
   "execution_count": 29,
   "metadata": {},
   "outputs": [
    {
     "name": "stdout",
     "output_type": "stream",
     "text": [
      "[2018, 2019]\n",
      "[10, 10.5]\n"
     ]
    }
   ],
   "source": [
    "year = 2018 # starting year\n",
    "window = 2  # looking 5 years ahead\n",
    "demand = 10 # demand at t=0\n",
    "rate = 1.05 # growth rate\n",
    "\n",
    "trendestimate = estimate_trend(year, window, demand, rate)\n",
    "trendestimate.linear(year, window, demand, rate)\n"
   ]
  },
  {
   "cell_type": "code",
   "execution_count": 30,
   "metadata": {},
   "outputs": [
    {
     "name": "stdout",
     "output_type": "stream",
     "text": [
      "[2018, 2019, 2020, 2021, 2022]\n",
      "[10, 10.5, 11.025, 11.576250000000002, 12.155062500000001]\n"
     ]
    }
   ],
   "source": [
    "year = 2018 # starting year\n",
    "window = 5  # looking 5 years ahead\n",
    "demand = 10 # demand at t=0\n",
    "rate = 1.05 # growth rate\n",
    "\n",
    "trendestimate = estimate_trend(year, window, demand, rate)\n",
    "trendestimate.linear(year, window, demand, rate)\n"
   ]
  }
 ],
 "metadata": {
  "kernelspec": {
   "display_name": "Python 3",
   "language": "python",
   "name": "python3"
  },
  "language_info": {
   "codemirror_mode": {
    "name": "ipython",
    "version": 3
   },
   "file_extension": ".py",
   "mimetype": "text/x-python",
   "name": "python",
   "nbconvert_exporter": "python",
   "pygments_lexer": "ipython3",
   "version": "3.6.3"
  }
 },
 "nbformat": 4,
 "nbformat_minor": 2
}
