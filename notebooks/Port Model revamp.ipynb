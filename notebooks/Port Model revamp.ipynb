{
 "cells": [
  {
   "cell_type": "markdown",
   "metadata": {},
   "source": [
    "# Imports"
   ]
  },
  {
   "cell_type": "code",
   "execution_count": 1,
   "metadata": {},
   "outputs": [],
   "source": [
    "import json\n",
    "import pandas as pd"
   ]
  },
  {
   "cell_type": "code",
   "execution_count": 8,
   "metadata": {},
   "outputs": [],
   "source": [
    "# digital twin package\n",
    "from  terminal_optimization.core import vessel_properties_mixin, cyclic_properties_mixin, continuous_properties_mixin"
   ]
  },
  {
   "cell_type": "markdown",
   "metadata": {},
   "source": [
    "# Create necessary classes"
   ]
  },
  {
   "cell_type": "markdown",
   "metadata": {},
   "source": [
    "## general classes"
   ]
  },
  {
   "cell_type": "code",
   "execution_count": 2,
   "metadata": {},
   "outputs": [],
   "source": [
    "# create vessel class\n",
    "class vessel(vessel_properties_mixin):\n",
    "    def __init__(self, *args, **kwargs):\n",
    "        super().__init__(*args, **kwargs)"
   ]
  },
  {
   "cell_type": "code",
   "execution_count": 3,
   "metadata": {},
   "outputs": [],
   "source": [
    "# create unloader class\n",
    "class cyclic_unloader(cyclic_properties_mixin):\n",
    "    def __init__(self, *args, **kwargs):\n",
    "        super().__init__(*args, **kwargs)"
   ]
  },
  {
   "cell_type": "code",
   "execution_count": 4,
   "metadata": {},
   "outputs": [],
   "source": [
    "# create unloader class\n",
    "class continuous_unloader(continuous_properties_mixin):\n",
    "    def __init__(self, *args, **kwargs):\n",
    "        super().__init__(*args, **kwargs)"
   ]
  },
  {
   "cell_type": "code",
   "execution_count": null,
   "metadata": {},
   "outputs": [],
   "source": [
    "# create quay class (not finalised yet)\n",
    "class quay():\n",
    "    def __init__(self):\n",
    "        \n",
    "    def max_unloader_per_berth(t):\n",
    "        if n_calls_panamax(t) != 0: \n",
    "            return 3\n",
    "        if n_calls_panamax(t) == 0:\n",
    "            return 2"
   ]
  },
  {
   "cell_type": "markdown",
   "metadata": {},
   "source": [
    "## trends and splits"
   ]
  },
  {
   "cell_type": "code",
   "execution_count": 130,
   "metadata": {},
   "outputs": [],
   "source": [
    "# create bulk commodities class\n",
    "class bulk_commodities:\n",
    "    def __init__(self, fname):\n",
    "        self.trend_forecasts = pd.read_excel(fname, 'TF')\n",
    "        self.years = self.trend_forecasts[\"Year\"]\n",
    "        self.start_year = years[0]\n",
    "        self.stop_year  = years[len(years)-1]\n",
    "        self.n_years    = len(years)\n",
    "    def get_forecast(self,commodity_name):\n",
    "        return self.trend_forecasts[commodity_name]"
   ]
  },
  {
   "cell_type": "code",
   "execution_count": 247,
   "metadata": {},
   "outputs": [],
   "source": [
    "# create bulk commodities class\n",
    "class bulk_modal_splits:\n",
    "    def __init__(self, fname):\n",
    "        self.split_forecasts = pd.read_excel(fname, 'Vessel distribution')\n",
    "        self.years = self.split_forecasts[\"Year\"]\n",
    "        self.start_year = years[0]\n",
    "        self.stop_year  = years[len(years)-1]\n",
    "        self.n_years    = len(years)\n",
    "        \n",
    "    def get_forecast(self,commodity_name):\n",
    "        # the hard coded columns 1:4, 4:7 and 7:10 indicate that the datamodel is not yet ideal\n",
    "        if commodity_name == \"Maize\":\n",
    "            return self.split_forecasts[modal_splits.split_forecasts.columns[1:4]]\n",
    "        elif commodity_name == \"Soybeans\":\n",
    "            return self.split_forecasts[modal_splits.split_forecasts.columns[4:7]]\n",
    "        elif commodity_name == \"Wheat\":\n",
    "            return self.split_forecasts[modal_splits.split_forecasts.columns[7:10]]\n"
   ]
  },
  {
   "cell_type": "code",
   "execution_count": null,
   "metadata": {},
   "outputs": [],
   "source": [
    "# not yet looked at, only moved to the source code section\n",
    "# should be possible to simplify according to the suggestion below\n",
    "# calling could then just be one simple line\n",
    "# whealth accumulation factor\n",
    "class WACC:\n",
    "    def __init__(self):\n",
    "        pass\n",
    "    \n",
    "    def get_WACC(self, single_parameters, n_years, owner)\n",
    "        # The nominal WACC of both entities (Port Authority and Terminal Operator)\n",
    "        real_WACC_PA   = single_parameters[\"PA_WACC_real\"]\n",
    "        real_WACC_TO   = single_parameters[\"TO_WACC_real\"]\n",
    "        inflation_rate = single_parameters[\"InflationRate\"]\n",
    "\n",
    "        PA_WACC        = np.zeros (n_years)\n",
    "        TO_WACC        = np.zeros (n_years)\n",
    "        for i in range (n_years):\n",
    "            PA_WACC[i] = 1 / ((1 + real_WACC_PA + inflation_rate)**(i))\n",
    "            TO_WACC[i] = 1 / ((1 + real_WACC_TO + inflation_rate)**(i))\n",
    "\n",
    "        PA_WACC = PA_WACC.reshape((-1, 1))\n",
    "        TO_WACC = TO_WACC.reshape((-1, 1))\n",
    "    \n",
    "        if owner == 'Port authority':\n",
    "            return PA_WACC\n",
    "        elif owner == 'Terminal operator':\n",
    "            return TO_WACC    \n"
   ]
  },
  {
   "cell_type": "code",
   "execution_count": null,
   "metadata": {},
   "outputs": [],
   "source": [
    "# not yet looked at, only moved to the source code section\n",
    "# Euro adjustment (source: ECB)\n",
    "def adjustment_factor_euro(year):\n",
    "    inflation_data = [1.20, 1.54, 0.24, 0.01, 0.44, 1.35, 2.50, 2.71, 1.62, 0.29, 3.29, 2.13, 2.19, 2.18, 2.14, 2.08, 2.27, 2.36, 2.11, 1.08, 1.09, 1.58]\n",
    "    data = np.zeros(2018 - year + 1)\n",
    "    for i in range (2018 - year + 1):\n",
    "        data[i] = 1+(inflation_data[i]/100)\n",
    "    return np.prod(data)\n"
   ]
  },
  {
   "cell_type": "code",
   "execution_count": null,
   "metadata": {},
   "outputs": [],
   "source": [
    "# not yet looked at, only moved to the source code section\n",
    "# Dollar adjustment (source: IMF)\n",
    "def adjustment_factor_dollar(year):\n",
    "    inflation_data = [2.34, 1.78, 0.45, 0.06, 0.45, 1.35, 2.45, 2.74, 1.62, 0.42, 3.09, 2.28, 2.19, 2.30, 2.22, 2.07, 2.29, 2.30, 2.21, 1.23, 1.13, 1.58]\n",
    "    data = np.zeros(2018 - year + 1)\n",
    "    for i in range (2018 - year + 1):\n",
    "        data[i] = 1+(inflation_data[i]/100)\n",
    "    return np.prod(data)\n"
   ]
  },
  {
   "cell_type": "code",
   "execution_count": null,
   "metadata": {},
   "outputs": [],
   "source": [
    "# not yet looked at, only moved to the source code section\n",
    "# Euro to dollar exchange (source: ECB and averaged over 2018)\n",
    "def Euro_to_dollars(euros):\n",
    "    return euros * 1.1924"
   ]
  },
  {
   "cell_type": "markdown",
   "metadata": {},
   "source": [
    "# Simulation"
   ]
  },
  {
   "cell_type": "markdown",
   "metadata": {},
   "source": [
    "## Prepare simulation inputs"
   ]
  },
  {
   "cell_type": "code",
   "execution_count": 86,
   "metadata": {},
   "outputs": [],
   "source": [
    "fname = 'Excel_input.xlsx'"
   ]
  },
  {
   "cell_type": "markdown",
   "metadata": {},
   "source": [
    "## vessels"
   ]
  },
  {
   "cell_type": "code",
   "execution_count": 8,
   "metadata": {},
   "outputs": [],
   "source": [
    "# here I created a JSON to prepare the inputs. \n",
    "# Since this is presumably not very variable input it can be standardized like this.\n",
    "\n",
    "# create input\n",
    "handysize_data = {\"vessel_type\": 'Handysize', \"call_size\": 35000, \n",
    "                  \"LOA\": 130, \"draft\": 10, \"beam\": 24, \"max_cranes\": 2, \n",
    "                  \"all_turn_time\": 24, \"mooring_time\": 3, \"demurrage\": 600} \n",
    "handymax_data = {\"vessel_type\": 'Handymax', \"call_size\": 50000, \n",
    "                  \"LOA\": 180, \"draft\": 11.5, \"beam\": 28, \"max_cranes\": 2, \n",
    "                  \"all_turn_time\": 24, \"mooring_time\": 3, \"demurrage\": 750} \n",
    "panamax_data = {\"vessel_type\": 'Panamax', \"call_size\": 65000, \n",
    "                  \"LOA\": 220, \"draft\": 13, \"beam\": 32.2, \"max_cranes\": 3, \n",
    "                  \"all_turn_time\": 36, \"mooring_time\": 4, \"demurrage\": 730} \n",
    "\n",
    "# create objects\n",
    "handysize = vessel(**handysize_data)\n",
    "handymax = vessel(**handymax_data)\n",
    "panamax = vessel(**panamax_data)\n",
    "\n",
    "# print object dicts\n",
    "# print(handysize.__dict__)\n",
    "# print(handymax.__dict__)\n",
    "# print(panamax.__dict__)"
   ]
  },
  {
   "cell_type": "markdown",
   "metadata": {},
   "source": [
    "## cranes"
   ]
  },
  {
   "cell_type": "code",
   "execution_count": 248,
   "metadata": {},
   "outputs": [],
   "source": [
    "# here I created a JSON to prepare the inputs. \n",
    "# Since this is presumably not very variable input it can be standardized like this.\n",
    "\n",
    "# create input\n",
    "gantry_crane_data   = {\"unloader_type\": 'Gantry crane', \"lifting_capacity\": 50, \n",
    "                       \"hourly_cycles\": 60, \"eff_fact\": 0.6} \n",
    "harbour_crane_data  = {\"unloader_type\": 'Harbour crane', \"lifting_capacity\": 40, \n",
    "                       \"hourly_cycles\": 40, \"eff_fact\": 0.6} \n",
    "mobile_crane_data   = {\"unloader_type\": 'Mobile crane', \"lifting_capacity\": 40, \n",
    "                       \"hourly_cycles\": 30, \"eff_fact\": 0.5} \n",
    "screw_unloader_data = {\"unloader_type\": 'Screw unloader', \"peak_capacity\": 1400, \n",
    "                       \"eff_fact\": 0.55} \n",
    "\n",
    "# create objects\n",
    "gantry_crane    = cyclic_unloader(**gantry_crane_data)       \n",
    "harbour_crane   = cyclic_unloader(**harbour_crane_data)       \n",
    "mobile_crane    = cyclic_unloader(**mobile_crane_data)\n",
    "screw_unloader  = continuous_unloader(**screw_unloader_data)\n",
    "\n",
    "# print object dicts\n",
    "# print(gantry_crane.__dict__)\n",
    "# print(harbour_crane.__dict__)\n",
    "# print(mobile_crane.__dict__)\n",
    "# print(screw_unloader.__dict__)"
   ]
  },
  {
   "cell_type": "markdown",
   "metadata": {},
   "source": [
    "## forecasts"
   ]
  },
  {
   "cell_type": "code",
   "execution_count": 249,
   "metadata": {
    "scrolled": false
   },
   "outputs": [],
   "source": [
    "# get commodity forecast from XLS\n",
    "commodities = bulk_commodities(fname)\n",
    "\n",
    "# extract specifics for Maize\n",
    "tf_maize = commodities.get_forecast(\"Maize\")"
   ]
  },
  {
   "cell_type": "code",
   "execution_count": 253,
   "metadata": {
    "scrolled": false
   },
   "outputs": [],
   "source": [
    "# get modal split forecast from XLS\n",
    "modal_splits = bulk_modal_splits(fname)\n",
    "\n",
    "# extract specifics for Maize\n",
    "tf_mod_split = modal_splits.get_forecast(\"Maize\")"
   ]
  },
  {
   "cell_type": "markdown",
   "metadata": {},
   "source": [
    "## Single parameters"
   ]
  },
  {
   "cell_type": "markdown",
   "metadata": {},
   "source": [
    "\n",
    "## Perform calculations"
   ]
  },
  {
   "cell_type": "markdown",
   "metadata": {},
   "source": [
    "### Calculation settings"
   ]
  },
  {
   "cell_type": "code",
   "execution_count": null,
   "metadata": {},
   "outputs": [],
   "source": [
    "start_year = commodities.start_year\n",
    "stop_year  = commodities.stop_year\n",
    "n_years    = commodities.n_years"
   ]
  },
  {
   "cell_type": "code",
   "execution_count": null,
   "metadata": {},
   "outputs": [],
   "source": [
    "single_parameters = {\n",
    "    \"AnnualOperationalHours\": 8760,\n",
    "    \"LengthImportConveyor\": 500,\n",
    "    \"LengthExportConveyor\": 800,\n",
    "    \"PA_WACC_real\": 0.05,\n",
    "    \"TO_WACC_real\": 0.07,\n",
    "    \"InflationRate\": 0.03,\n",
    "    \"DemurrageEscalation\": 0.03,\n",
    "    \"HandlingFeeEscalation\": 0.03,\n",
    "    \"CapexEscalation\": 0.03,\n",
    "    \"LabourEscalation\": 0.05,\n",
    "    \"MaintenanceEscalation\": 0.05,\n",
    "    \"Revenues\": 'Terminal operator',\n",
    "    \"DemurrageCosts\": 'Terminal operator',\n",
    "    \"QuayWall\": 'Port authority',\n",
    "    \"Equipment\": 'Terminal operator',\n",
    "    \"UnloadersDepreciation\": 0.03,\n",
    "    \"UnloadersSellingFee\": 0.1,\n",
    "    \"QuayDepreciation\": 0.02,\n",
    "    \"QuaySellingFee\": 0.1}\n"
   ]
  },
  {
   "cell_type": "markdown",
   "metadata": {},
   "source": [
    "# Postprocess results"
   ]
  },
  {
   "cell_type": "code",
   "execution_count": null,
   "metadata": {},
   "outputs": [],
   "source": []
  }
 ],
 "metadata": {
  "kernelspec": {
   "display_name": "Python 3",
   "language": "python",
   "name": "python3"
  },
  "language_info": {
   "codemirror_mode": {
    "name": "ipython",
    "version": 3
   },
   "file_extension": ".py",
   "mimetype": "text/x-python",
   "name": "python",
   "nbconvert_exporter": "python",
   "pygments_lexer": "ipython3",
   "version": "3.6.6"
  }
 },
 "nbformat": 4,
 "nbformat_minor": 2
}
