{
 "cells": [
  {
   "cell_type": "code",
   "execution_count": 95,
   "metadata": {},
   "outputs": [
    {
     "data": {
      "text/html": [
       "<script>requirejs.config({paths: { 'plotly': ['https://cdn.plot.ly/plotly-latest.min']},});if(!window.Plotly) {{require(['plotly'],function(plotly) {window.Plotly=plotly;});}}</script>"
      ],
      "text/vnd.plotly.v1+html": [
       "<script>requirejs.config({paths: { 'plotly': ['https://cdn.plot.ly/plotly-latest.min']},});if(!window.Plotly) {{require(['plotly'],function(plotly) {window.Plotly=plotly;});}}</script>"
      ]
     },
     "metadata": {},
     "output_type": "display_data"
    }
   ],
   "source": [
    "import numpy as np\n",
    "import pandas as pd\n",
    "\n",
    "# Log in to Plotly servers\n",
    "import plotly\n",
    "plotly.tools.set_credentials_file(username='wijzermans', api_key='FKGDvSah3z5WCNREBZEq')\n",
    "#plotly.tools.set_credentials_file(username='wijnandijzermans', api_key='xeDEwwpCK3aLLR4TIrM9')\n",
    "\n",
    "%matplotlib inline  \n",
    "import plotly.io as pio\n",
    "import plotly.tools as tls\n",
    "import plotly.plotly as py\n",
    "import plotly.graph_objs as go\n",
    "from plotly.graph_objs import *\n",
    "import plotly.figure_factory as ff\n",
    "from plotly.offline import iplot, init_notebook_mode\n",
    "init_notebook_mode(connected=True)\n",
    "\n",
    "colors = ['rgba(55, 83, 109, 1)', 'rgba(55, 83, 109, 0.8)', 'rgba(55, 83, 109, 0.5)',\n",
    "          'rgb(129, 180, 179, 1)', 'rgb(79, 127, 127, 1)', 'rgb(200,200,200)', 'rgb(245,245,245)']  "
   ]
  },
  {
   "cell_type": "markdown",
   "metadata": {},
   "source": [
    "# Example"
   ]
  },
  {
   "cell_type": "code",
   "execution_count": 11,
   "metadata": {},
   "outputs": [
    {
     "data": {
      "text/html": [
       "<iframe id=\"igraph\" scrolling=\"no\" style=\"border:none;\" seamless=\"seamless\" src=\"https://plot.ly/~wijnandijzermans/164.embed\" height=\"200px\" width=\"360px\"></iframe>"
      ],
      "text/plain": [
       "<plotly.tools.PlotlyDisplay object>"
      ]
     },
     "execution_count": 11,
     "metadata": {},
     "output_type": "execute_result"
    }
   ],
   "source": [
    "data_matrix = [['Name', 'Equation'],\n",
    "               ['Pythagorean Theorem', '$a^{2}+b^{2}=c^{2}$'],\n",
    "               ['Euler\\'s Formula', '$F-E+V=2$'],\n",
    "               ['The Origin of Complex Numbers', '$i^{2}=-1$'],\n",
    "               ['Einstein\\'s Theory of Relativity', '$E=m c^{2}$']]\n",
    "\n",
    "# Define color scale\n",
    "colorscale = [[0, colors[0]],[.5, colors[5]],[1, '#ffffff']]\n",
    "\n",
    "# Create table\n",
    "table = ff.create_table(data_matrix, colorscale=colorscale)\n",
    "\n",
    "# Define table width (180 per column)\n",
    "table.layout.width=360  \n",
    "\n",
    "# Add little margin at the bottom\n",
    "table.layout.update(margin=dict(b=10))\n",
    "\n",
    "py.iplot(table, filename='latex_table')"
   ]
  },
  {
   "cell_type": "markdown",
   "metadata": {},
   "source": [
    "# Scope regarding terminal elements (Table 1.1)"
   ]
  },
  {
   "cell_type": "code",
   "execution_count": 2,
   "metadata": {},
   "outputs": [
    {
     "data": {
      "text/html": [
       "<iframe id=\"igraph\" scrolling=\"no\" style=\"border:none;\" seamless=\"seamless\" src=\"https://plot.ly/~wijnandijzermans/168.embed\" height=\"230px\" width=\"900px\"></iframe>"
      ],
      "text/plain": [
       "<plotly.tools.PlotlyDisplay object>"
      ]
     },
     "execution_count": 2,
     "metadata": {},
     "output_type": "execute_result"
    }
   ],
   "source": [
    "data_matrix = [['Receiving'          , 'Initial transport', 'Storage'   , 'Secondary transport', 'Loading'],\n",
    "               ['Quay wall'          , 'Belt conveyors'   , 'Silos'     , 'Belt conveyors'     , 'Train loaders'],\n",
    "               ['Gantry cranes'      , ''                 , 'Warehouses', ''                   , ''             ],\n",
    "               ['Harbour cranes'     , ''                 , ''          , ''                   , ''             ],\n",
    "               ['Mobile cranes'      , ''                 , ''          , ''                   , ''             ],\n",
    "               ['Screw unloaders'    , ''                 , ''          , ''                   , ''             ]]\n",
    "\n",
    "colorscale = [[0, colors[0]],[.5, colors[5]],[1, '#ffffff']]\n",
    "table = ff.create_table(data_matrix, colorscale=colorscale)\n",
    "table.layout.width=900  \n",
    "table.layout.update(margin=dict(b=10))\n",
    "py.iplot(table, filename='Table 1.1')"
   ]
  },
  {
   "cell_type": "markdown",
   "metadata": {},
   "source": [
    "# Scope regarding terminal cashflows (Table 1.2)"
   ]
  },
  {
   "cell_type": "code",
   "execution_count": 4,
   "metadata": {},
   "outputs": [
    {
     "data": {
      "text/html": [
       "<iframe id=\"igraph\" scrolling=\"no\" style=\"border:none;\" seamless=\"seamless\" src=\"https://plot.ly/~jorisneuman/46.embed\" height=\"230px\" width=\"760px\"></iframe>"
      ],
      "text/plain": [
       "<plotly.tools.PlotlyDisplay object>"
      ]
     },
     "execution_count": 4,
     "metadata": {},
     "output_type": "execute_result"
    }
   ],
   "source": [
    "data_matrix = [['Scale'                     , 'Sporadic cashflows'                     , 'Yearly cashflows'                  ],\n",
    "               ['Asset scale'        , 'Procurement costs'                      , 'Maintenance costs'                 ],\n",
    "               ['Asset scale'                          , 'Mobilization costs'                     , 'Insurance costs'                   ],\n",
    "               ['Asset scale'                          , \"Reinvestments at the end of<br>an asset's lifespan\", 'Labour costs'           ],\n",
    "               ['Asset scale'                          , ''                                       , 'Energy costs'                      ],\n",
    "               ['Terminal scale'     , \"Remaining asset value added as cashflow<br>in the final year of a project\",'']]\n",
    "\n",
    "colorscale = [[0, colors[0]],[.5, colors[5]],[1, '#ffffff']]\n",
    "table = ff.create_table(data_matrix, colorscale=colorscale)\n",
    "table.layout.width=760\n",
    "table.layout.update(margin=dict(b=10))\n",
    "py.iplot(table, filename='Table 1.1')"
   ]
  },
  {
   "cell_type": "markdown",
   "metadata": {},
   "source": [
    "# Vessel characteristics (table 9.1)"
   ]
  },
  {
   "cell_type": "code",
   "execution_count": 40,
   "metadata": {},
   "outputs": [
    {
     "data": {
      "text/html": [
       "<iframe id=\"igraph\" scrolling=\"no\" style=\"border:none;\" seamless=\"seamless\" src=\"https://plot.ly/~jorisneuman/48.embed\" height=\"230px\" width=\"900px\"></iframe>"
      ],
      "text/plain": [
       "<plotly.tools.PlotlyDisplay object>"
      ]
     },
     "execution_count": 40,
     "metadata": {},
     "output_type": "execute_result"
    }
   ],
   "source": [
    "data_matrix = [['Vessel class' , 'DWT'       , 'Vessel length', 'Vessel breadth', 'Vessel draught'],\n",
    "               ['Handysize'    , '< 35.000t' , '170m'         , '25.9m'         , '9.9m'          ],\n",
    "               ['Handymax'     , '< 55.000t' , '192m'         , '28.1m'         , '11.5m'         ],\n",
    "               ['Panamax'      , '< 80.000t' , '225m'         , '32.4m'         , '14.0m'         ],\n",
    "               ['Baby-Capesize', '< 150.000t', '252m'         , '41.0m'         , '16.2m'         ],\n",
    "               ['Capesize'     , '> 150.000t', '299m'         , '47.7m'         , '18.5m'         ]]\n",
    "\n",
    "colorscale = [[0, colors[0]],[.5, colors[5]],[1, '#ffffff']]\n",
    "table = ff.create_table(data_matrix, colorscale=colorscale)\n",
    "table.layout.width=900  \n",
    "table.layout.update(margin=dict(b=10))\n",
    "py.iplot(table, filename='Table 9.1')"
   ]
  },
  {
   "cell_type": "markdown",
   "metadata": {},
   "source": [
    "# Element: Quay Wall"
   ]
  },
  {
   "cell_type": "code",
   "execution_count": 41,
   "metadata": {},
   "outputs": [
    {
     "data": {
      "text/html": [
       "<iframe id=\"igraph\" scrolling=\"no\" style=\"border:none;\" seamless=\"seamless\" src=\"https://plot.ly/~jorisneuman/56.embed\" height=\"620px\" width=\"900px\"></iframe>"
      ],
      "text/plain": [
       "<plotly.tools.PlotlyDisplay object>"
      ]
     },
     "execution_count": 41,
     "metadata": {},
     "output_type": "execute_result"
    }
   ],
   "source": [
    "data_matrix = [['Element: Quay wall'  , '', '', ''],\n",
    "               ['<b>Element inputs<b>', '<b>Value<b>', '<b>Description<b>', ''],\n",
    "               ['t0 length'           ,'0m' ,  'Existing quay length prior to project'             , ''],\n",
    "               ['delivery_time'       ,'2 years' , 'Years between aquisition and launch of asset'  , ''],\n",
    "               ['lifespan'            ,'50 years' , 'Number of years before reinvestment is needed', ''],\n",
    "               ['mobilization_min'    ,'$2.500.000' , 'Minimum mobilization costs'                 , ''],\n",
    "               ['mobilization_perc'   ,'2%' , 'Mobilization costs as percentage of aquisition cost', ''],\n",
    "               ['maintenance_perc'    ,'1%' , 'Maintenance costs as percentage of aquisition cost' , ''],\n",
    "               ['insurance_perc'      ,'1%' , 'Insurance costs as percentage of aquisition cost'   , ''],\n",
    "               ['freeboard'           ,'4m' , 'The vertical clearance between MSL and the apron'   , ''],\n",
    "               ['Gijt_constant'       ,'757.2' , 'Constant used to determine aquisition costs'     , ''],\n",
    "               ['Gijt_coefficient'    ,'1.2878' , 'Coefficient used to determine aquisition costs' , ''],\n",
    "               [''                    ,'' , ''                                                     , ''],\n",
    "               ['<b>Element interaction with other terminal elements<b>', '','',''],\n",
    "               ['length'              ,'' , 'The length of newly aquisitioned quay wall'         , ''],\n",
    "               ['depth'               ,'' , 'The berth depth in front of the quay wall'          , ''],\n",
    "               ['delta'               ,'' , 'Meters of quay wall aquisitioned in current year'   , ''],\n",
    "               ['purchase date'       ,'' , 'Year on which asset is purchased'                   , ''],\n",
    "               ['online date'         ,'' , 'Year on which asset will come online'               , '']]\n",
    "\n",
    "colorscale = [[0, colors[0]],[.5, colors[5]],[1, '#ffffff']]\n",
    "table = ff.create_table(data_matrix, colorscale=colorscale)\n",
    "table.layout.width=900  \n",
    "table.layout.update(margin=dict(b=10))\n",
    "py.iplot(table, filename='Element: quay wall')"
   ]
  },
  {
   "cell_type": "markdown",
   "metadata": {},
   "source": [
    "# Element: Berth"
   ]
  },
  {
   "cell_type": "code",
   "execution_count": 42,
   "metadata": {},
   "outputs": [
    {
     "data": {
      "text/html": [
       "<iframe id=\"igraph\" scrolling=\"no\" style=\"border:none;\" seamless=\"seamless\" src=\"https://plot.ly/~jorisneuman/58.embed\" height=\"470px\" width=\"900px\"></iframe>"
      ],
      "text/plain": [
       "<plotly.tools.PlotlyDisplay object>"
      ]
     },
     "execution_count": 42,
     "metadata": {},
     "output_type": "execute_result"
    }
   ],
   "source": [
    "data_matrix = [['Element: Berth'   , ''              ,  ''                                        , ''],\n",
    "               ['<b>Element inputs<b>', '<b>Value<b>', '<b>Description<b>'                        , ''],\n",
    "               ['t0 quantity'      , '0 berths'     , 'Existing number of berths prior to project', ''],\n",
    "               ['crane_type'       , \"Mobile cranes\", 'Type of cranes utilized at berth'          , ''],\n",
    "               ['max_cranes'       , '3 cranes'     , 'The maximum number of cranes per berth'    , ''],\n",
    "               [''                 , ''             , ''                                          , ''],\n",
    "               ['<b>Element interaction with other terminal elements<b>', '', '', ''],\n",
    "               ['capacity'                  , '', 'Yearly unloading capacity of the berth'                              , ''],\n",
    "               ['utilization'               , '', 'Percentage of capacity being utilized'                               , ''],\n",
    "               ['occupancy'                 , '', 'The average occupancy taken on yearly basis'                         , ''],\n",
    "               ['delta'                     , '', 'Number of berths aquisitioned in current year'                       , ''],\n",
    "               ['effective unloading rate'  , '', 'The cumulative effective unloading rate of cranes at the berth'      , ''],\n",
    "               ['waiting factor'            , '', 'The average waiting time of vessels, given as factor of service time', ''],\n",
    "               ['available crane slots'     , '', 'The remaing slots that can be used to add a crane'                   , '']]\n",
    "\n",
    "colorscale = [[0, colors[0]],[.5, colors[5]],[1, '#ffffff']]\n",
    "table = ff.create_table(data_matrix, colorscale=colorscale)\n",
    "layout = dict(\n",
    "            width=900,\n",
    "            margin=dict(b=10)\n",
    "            )\n",
    "table.update(layout=layout)\n",
    "py.iplot(table, filename='Element: berth')"
   ]
  },
  {
   "cell_type": "markdown",
   "metadata": {},
   "source": [
    "# Element: Cyclic unloader"
   ]
  },
  {
   "cell_type": "code",
   "execution_count": 98,
   "metadata": {},
   "outputs": [
    {
     "data": {
      "text/html": [
       "<iframe id=\"igraph\" scrolling=\"no\" style=\"border:none;\" seamless=\"seamless\" src=\"https://plot.ly/~wijzermans/117.embed\" height=\"860px\" width=\"900px\"></iframe>"
      ],
      "text/plain": [
       "<plotly.tools.PlotlyDisplay object>"
      ]
     },
     "execution_count": 98,
     "metadata": {},
     "output_type": "execute_result"
    }
   ],
   "source": [
    "data_matrix = [['Element: Cyclic unloader','','','','',''],\n",
    "               ['<b>Element inputs<b>', '<b>Gantry-  :  Harbour-   :  Mobile crane<b>','', '<b>Description<b>', '',''],\n",
    "               ['t0 quantity'      , '-- 0 cranes --', '','Existing number of unloaders prior to project'      , '',''],\n",
    "               ['delivery_time'    , '-- 1 year --', '','Years between aquisition and launch of asset'       , '',''],\n",
    "               ['lifespan'         , '-- 40 years --', '','Number of years before reinvestment is needed'      , '',''],\n",
    "               ['unit rate'        , 'USD 9.75M  :  USD 7.88M  :  USD 3.33M', '','Aquisition cost of asset'                          , '',''],\n",
    "               ['mobilization_perc', '-- 15% --', '','Mobilization costs as percentage of aquisition cost', '',''],\n",
    "               ['maintenance_perc' , '-- 2% --', '','Maintenance costs as percentage of aquisition cost' , '',''],\n",
    "               ['maintenance costs', 'USD 195.000  :  USD 157.600  :  USD 66.000', '','Yearly cost of maintenance', '',''],\n",
    "               ['consumption'      , '561 kWh : 210 kWh : 485 kWh', '','Hourly energy consumption is kWh'                   , '',''],\n",
    "               ['insurance_perc'   , '-- 1% --', '','Insurance costs as percentage of aquisition cost'   , '',''],\n",
    "               ['insurance costs'  , 'USD 97.500  :  USD 78.800  :  USD 33.300', '','Yearly cost of maintenance', '',''],\n",
    "               ['crew'             , '-- crew of 3 -- ', '','Number of operational crew'                         , '',''],\n",
    "               ['crane type'       , 'Gantry : Harbour : Mobile', '','The type of crane'                                  , '',''],\n",
    "               ['lifting capacity' , '50t : 25t : 30t', '','The lifting capacity of the crane expressed in tonnes', '',''],\n",
    "               ['hourly cycles'    , '50 cycles : 40 cycles : 25 cycles', '','Number of unloading cycles completed per hour'      , '',''],\n",
    "               ['effeciency factor', '0.50 : 0.40 : 0.35', '',\"The ratio between a cranes's peak capacity and its effective capacity\", '',''],\n",
    "               ['payload'          , '34t : 16t : 20t', '','Cargo payload per cycle'                            , '',''],\n",
    "               ['peak capacity'    , '1700 t/h  :  640 t/h  :  500 t/h', '','Maximum unloading capacity'                         , '',''],\n",
    "               ['effective capacity', '850 t/h  :  256 t/h  :  175 t/h', '','Average unloading capacity when unloading a vessel', '',''],\n",
    "               [''                 , '', '',''                                                   , '',''],\n",
    "               ['<b>Element interaction with other terminal elements<b>', '','','<b>Description<b>', '',''],\n",
    "\n",
    "               ['purchase date'    , '', '','Year on which asset is purchased'                   , '',''],\n",
    "               ['online date'      , '', '','Year on which asset will come online'               , '',''],\n",
    "               ['delta'            , '', '','Number of unloaders aquisitioned in current year'   , '',''],\n",
    "               ['berth'            , '', '','The berth to which the crane has been assigned'     , '',''],\n",
    "               ['energy costs'     , '', '','Yearly cost of energy consumption'                  , '','']]\n",
    "\n",
    "colorscale = [[0, colors[0]],[.5, colors[5]],[1, '#ffffff']]\n",
    "table = ff.create_table(data_matrix, colorscale=colorscale)\n",
    "table.layout.width=900  \n",
    "table.layout.update(margin=dict(b=10))\n",
    "py.iplot(table, filename='Element: quay wall')"
   ]
  },
  {
   "cell_type": "markdown",
   "metadata": {},
   "source": [
    "# Element: Continuous unloader"
   ]
  },
  {
   "cell_type": "code",
   "execution_count": 100,
   "metadata": {},
   "outputs": [
    {
     "data": {
      "text/html": [
       "<iframe id=\"igraph\" scrolling=\"no\" style=\"border:none;\" seamless=\"seamless\" src=\"https://plot.ly/~wijzermans/117.embed\" height=\"770px\" width=\"900px\"></iframe>"
      ],
      "text/plain": [
       "<plotly.tools.PlotlyDisplay object>"
      ]
     },
     "execution_count": 100,
     "metadata": {},
     "output_type": "execute_result"
    }
   ],
   "source": [
    "data_matrix = [['Element: Continuous unloader', '', '', ''],\n",
    "               ['<b>Element inputs<b>', '<b>Values<b>', '<b>Description<b>', ''],\n",
    "               ['t0 quantity'      , '0 unloaders', 'Existing number of unloaders prior to project'      , ''],\n",
    "               ['delivery_time'    , '1 year', 'Years between aquisition and launch of asset'       , ''],\n",
    "               ['lifespan'         , '30 years', 'Number of years before reinvestment is needed'      , ''],\n",
    "               ['unit rate'        , '$6.90M', 'Aquisition cost of asset'                           , ''],\n",
    "               ['mobilization_perc', '15%', 'Mobilization costs as percentage of aquisition cost', ''],\n",
    "               ['maintenance_perc' , '2%', 'Maintenance costs as percentage of aquisition cost' , ''],\n",
    "               ['maintenance costs', '$138.000', 'Yearly cost of maintenance'                         , ''],\n",
    "               ['consumption'      , '364 kWh', 'Hourly energy consumption is kWh'                   , ''],\n",
    "               ['insurance_perc'   , '1%', 'Insurance costs as percentage of aquisition cost'   , ''],\n",
    "               ['insurance costs'  , '$69.000', 'Yearly cost of insurance'                           ],\n",
    "               ['crew'             , 'crew of 2', 'Number of operational crew'                         , ''],\n",
    "               ['crane type'       , 'Screw unloader', 'The type of crane'                                  , ''],\n",
    "               ['peak capacity'    , '700 t/h', \"The crane's maximum unloading capacity\"             , ''],\n",
    "               ['effeciency factor', '0.55', \"The ratio between a cranes's peak capacity and its effective capacity\", ''],\n",
    "               ['effective capacity', '385 t/h', \"Average unloading capacity when unloading a vessel\", ''],\n",
    "               [''                 , '', ''                                                   , ''],\n",
    "               ['<b>Element interaction with other terminal elements<b>', '', '<b>Description<b>', ''],\n",
    "               ['purchase date'    , '', 'Year on which asset is purchased'                   , ''],\n",
    "               ['online date'      , '', 'Year on which asset will come online'               , ''],\n",
    "               ['delta'            , '', 'Number of unloaders aquisitioned in current year'   , ''],\n",
    "               ['berth'            , '', 'The berth to which the crane has been assigned'     , ''],\n",
    "               ['energy costs'     , '', 'Yearly cost of insurance'                           , '']]\n",
    "\n",
    "colorscale = [[0, colors[0]],[.5, colors[5]],[1, '#ffffff']]\n",
    "table = ff.create_table(data_matrix, colorscale=colorscale)\n",
    "table.layout.width=900  \n",
    "table.layout.update(margin=dict(b=10))\n",
    "py.iplot(table, filename='Element: quay wall')"
   ]
  },
  {
   "cell_type": "markdown",
   "metadata": {},
   "source": [
    "# Element: Storage"
   ]
  },
  {
   "cell_type": "code",
   "execution_count": 84,
   "metadata": {},
   "outputs": [
    {
     "data": {
      "text/html": [
       "<iframe id=\"igraph\" scrolling=\"no\" style=\"border:none;\" seamless=\"seamless\" src=\"https://plot.ly/~jorisneuman/56.embed\" height=\"680px\" width=\"900px\"></iframe>"
      ],
      "text/plain": [
       "<plotly.tools.PlotlyDisplay object>"
      ]
     },
     "execution_count": 84,
     "metadata": {},
     "output_type": "execute_result"
    }
   ],
   "source": [
    "data_matrix = [['Element: Storage', '', '', ''],\n",
    "               ['<b>Element inputs<b>', '<b>Silos : Warehouses<b>', '<b>Description<b>', ''],\n",
    "               ['t0 capacity'      , '-- 0t --', 'Existing storage capacity prior to project'         , ''],\n",
    "               ['delivery_time'    , '-- 1 year --', 'Years between aquisition and launch of asset'       , ''],\n",
    "               ['lifespan'         , '-- 30 years --', 'Number of years before reinvestment is needed'      , ''],\n",
    "               ['unit rate'        , '60 : 135 $/t', 'Aquisition cost per tonne of storage capacity'      , ''],\n",
    "               ['mobilization min' , '-- $200.000 --', 'Minimum mobilization costs'                         , ''],\n",
    "               ['mobilization perc', '0.3% : 0.1%', 'Mobilization costs as percentage of aquisition cost', ''],\n",
    "               ['maintenance perc' , '2% : 1%', 'Maintenance costs as percentage of aquisition cost' , ''],\n",
    "               ['insurance perc'   , '-- 1% --', 'Insurance costs as percentage of aquisition cost'   , ''],\n",
    "               ['consumption'      , '-- 2% of tonnage as kWh --', 'Energy consumption per tonne denoted in kWh'        , ''],\n",
    "               ['crew'             , '1', 'Number of operational crew'                         , ''],\n",
    "               ['storage type'     , 'Silos : Warehouses', 'Type of storage used'             , ''],\n",
    "               ['silo capacity'    , '6000t', 'Storage capacity of a single silo'                  , ''],\n",
    "               [''                 , '', ''                                                   , ''],\n",
    "               ['<b>Element interaction with other terminal elements<b>', '', '<b>Description<b>', ''],\n",
    "               ['capacity'         , '', 'Total storage capcity'                              , ''],\n",
    "               ['utilization'      , '', 'Percentage of capacity being utilized'              , ''],\n",
    "               ['purchase date'    , '', 'Year on which asset is purchased'                   , ''],\n",
    "               ['online date'      , '', 'Year on which asset will come online'               , ''],\n",
    "               ['delta'            , '', 'Number of unloaders aquisitioned in current year'   ]]\n",
    "\n",
    "colorscale = [[0, colors[0]],[.5, colors[5]],[1, '#ffffff']]\n",
    "table = ff.create_table(data_matrix, colorscale=colorscale)\n",
    "table.layout.width=900  \n",
    "table.layout.update(margin=dict(b=10))\n",
    "py.iplot(table, filename='Element: quay wall')"
   ]
  },
  {
   "cell_type": "markdown",
   "metadata": {},
   "source": [
    "# Element: Loading station"
   ]
  },
  {
   "cell_type": "code",
   "execution_count": 85,
   "metadata": {},
   "outputs": [
    {
     "data": {
      "text/html": [
       "<iframe id=\"igraph\" scrolling=\"no\" style=\"border:none;\" seamless=\"seamless\" src=\"https://plot.ly/~jorisneuman/56.embed\" height=\"620px\" width=\"900px\"></iframe>"
      ],
      "text/plain": [
       "<plotly.tools.PlotlyDisplay object>"
      ]
     },
     "execution_count": 85,
     "metadata": {},
     "output_type": "execute_result"
    }
   ],
   "source": [
    "data_matrix = [['Element: Loading stations', '', '', ''],\n",
    "               ['<b>Element inputs<b>', '<b>Values<b>', '<b>Description<b>', ''],\n",
    "               ['t0 capacity'      , '0 t/h', 'Existing loading capacity prior to project'         , ''],\n",
    "               ['delivery_time'    , '1 year', 'Years between aquisition and launch of asset'       , ''],\n",
    "               ['lifespan'         , '15 years', 'Number of years before reinvestment is needed'      , ''],\n",
    "               ['unit rate'        , '$800.000', 'Aquisition cost per loading station'                , ''],\n",
    "               ['mobilization cost', '$200.000', 'Mobilization costs'                                 , ''],\n",
    "               ['maintenance perc' , '2%', 'Maintenance costs as percentage of aquisition cost' , ''],\n",
    "               ['insurance perc'   , '1%', 'Insurance costs as percentage of aquisition cost'   , ''],\n",
    "               ['consumption'      , '100 kWh', 'Energy consumption per loading station'             , ''],\n",
    "               ['crew'             , '2', 'Number of operational crew'                         , ''],\n",
    "               ['production'       , '800 t/h', 'Effective loading capacity'                         , ''],\n",
    "               [''                 , '', ''                                                   , ''],\n",
    "               ['<b>Element interaction with other terminal elements<b>', '', '<b>Description<b>', ''],\n",
    "               ['capacity'         , '', 'Total loading capacity'                             , ''],\n",
    "               ['utilization'      , '', 'Percentage of capacity being utilized'              , ''],\n",
    "               ['purchase date'    , '', 'Year on which asset is purchased'                   , ''],\n",
    "               ['online date'      , '', 'Year on which asset will come online'               , ''],\n",
    "               ['delta'            , '', 'Storage aquisitioned in current year in tonnes'     ]]\n",
    "\n",
    "colorscale = [[0, colors[0]],[.5, colors[5]],[1, '#ffffff']]\n",
    "table = ff.create_table(data_matrix, colorscale=colorscale)\n",
    "table.layout.width=900  \n",
    "table.layout.update(margin=dict(b=10))\n",
    "py.iplot(table, filename='Element: quay wall')"
   ]
  },
  {
   "cell_type": "markdown",
   "metadata": {},
   "source": [
    "# Element: Conveyors"
   ]
  },
  {
   "cell_type": "code",
   "execution_count": 89,
   "metadata": {},
   "outputs": [
    {
     "data": {
      "text/html": [
       "<iframe id=\"igraph\" scrolling=\"no\" style=\"border:none;\" seamless=\"seamless\" src=\"https://plot.ly/~jorisneuman/56.embed\" height=\"680px\" width=\"900px\"></iframe>"
      ],
      "text/plain": [
       "<plotly.tools.PlotlyDisplay object>"
      ]
     },
     "execution_count": 89,
     "metadata": {},
     "output_type": "execute_result"
    }
   ],
   "source": [
    "data_matrix = [['Element: Belt conveyors', '', '','' ],\n",
    "               ['<b>Element inputs<b>', '<b>Quay-Storage : Storage-Loading<b>', '<b>Description<b>','' ],\n",
    "               ['length'                 , '200m : 400m', 'Existing conveying capacity prior to project'       ,'' ],\n",
    "               ['t0 capacity'            , '-- 0 t/h --', 'Existing conveying capacity prior to project'       ,'' ],\n",
    "               ['delivery_time'          , '-- 1 year --', 'Years between aquisition and launch of asset'       ,'' ],\n",
    "               ['lifespan'               , '-- 10 years --', 'Number of years before reinvestment is needed'      ,'' ],\n",
    "               ['unit rate'              , '-- $6 per t/h/m --', 'Aquisition cost per tonne per hour per meter'       ,'' ],\n",
    "               ['mobilization cost'      , '-- $30.000 --', 'Mobilization costs'                                 ,'' ],\n",
    "               ['maintenance perc'       , '-- 10% --', 'Maintenance costs as percentage of aquisition cost' ,'' ],\n",
    "               ['insurance perc'         , '-- 1% --', 'Insurance costs as percentage of aquisition cost'   ,'' ],\n",
    "               ['consumption constant'   , '-- 81 --', 'Constant used to determine consumption costs'       ,'' ],\n",
    "               ['consumption coefficient', '-- 0.08 --', 'Coefficient used to determine consumption costs'    ,'' ],\n",
    "               ['crew'                   , '-- 1 --', 'Number of operational crew'                         ,'' ],\n",
    "               ['capacity steps'         , '-- 400 t/h --', 'Minimum capacity added during each expansion'       ,'' ],\n",
    "               [''                       , '', ''                                                   ,'' ],\n",
    "               ['<b>Element interaction with other terminal elements<b>', '', '<b>Description<b>'   ,'' ],\n",
    "               ['capacity'               , '', 'Total loading capacity'                             ,'' ],\n",
    "               ['utilization'            , '', 'Percentage of capacity being utilized'              ,'' ],\n",
    "               ['purchase date'          , '', 'Year on which asset is purchased'                   ,'' ],\n",
    "               ['online date'            , '', 'Year on which asset will come online'               ,'' ],\n",
    "               ['delta'                  , '', 'Storage aquisitioned in current year in tonnes'     ]]\n",
    "\n",
    "colorscale = [[0, colors[0]],[.5, colors[5]],[1, '#ffffff']]\n",
    "table = ff.create_table(data_matrix, colorscale=colorscale)\n",
    "table.layout.width=900  \n",
    "table.layout.update(margin=dict(b=10))\n",
    "py.iplot(table, filename='Element: quay wall')"
   ]
  },
  {
   "cell_type": "markdown",
   "metadata": {},
   "source": [
    "# Equations"
   ]
  },
  {
   "cell_type": "markdown",
   "metadata": {},
   "source": [
    "### NPV calc"
   ]
  },
  {
   "cell_type": "code",
   "execution_count": 11,
   "metadata": {},
   "outputs": [
    {
     "data": {
      "text/html": [
       "<iframe id=\"igraph\" scrolling=\"no\" style=\"border:none;\" seamless=\"seamless\" src=\"https://plot.ly/~jorisneuman/52.embed\" height=\"100px\" width=\"1000px\"></iframe>"
      ],
      "text/plain": [
       "<plotly.tools.PlotlyDisplay object>"
      ]
     },
     "execution_count": 11,
     "metadata": {},
     "output_type": "execute_result"
    }
   ],
   "source": [
    "data = []\n",
    "data.append(\n",
    "    go.Scatter(\n",
    "        x = [1,1],\n",
    "        y = [1,1],\n",
    "        mode ='lines',\n",
    "        line = dict(width=0)))\n",
    "\n",
    "# Edit the layout\n",
    "layout = dict(\n",
    "            autosize=False,\n",
    "            width=1000,\n",
    "            height=100,\n",
    "            yaxis = dict(\n",
    "                        range=[0,1],\n",
    "                        showgrid=False,\n",
    "                        zeroline=False,\n",
    "                        showline=False,\n",
    "                        showticklabels=False,\n",
    "                        ticks='',\n",
    "                        ),\n",
    "            xaxis = dict(\n",
    "                        range=[0,1],\n",
    "                        showgrid=False,\n",
    "                        zeroline=False,\n",
    "                        showline=False,\n",
    "                        showticklabels=False,\n",
    "                        ticks=''\n",
    "                        ),\n",
    "            showlegend=False,\n",
    "            annotations=[\n",
    "                dict(\n",
    "                    x=0.5,\n",
    "                    y=0.5,\n",
    "                    showarrow=False,\n",
    "                    text='$NPV=\\\\sum{Revenue_{PV}}-\\\\sum{Capex_{PV}}+\\\\sum{Opex_{PV}}$',\n",
    "                    xref='paper',\n",
    "                    yref='paper',\n",
    "                    font=dict(\n",
    "                            size=19,\n",
    "                            color='rgb(33,33,33)')),\n",
    "                \n",
    "                #{Revenues_{PV}}_{i}-{Capex_{PV}}_{i}-{Opex_{PV}}_{i}\n",
    "                \n",
    "                dict(\n",
    "                    x=1,\n",
    "                    y=0.5,\n",
    "                    showarrow=False,\n",
    "                    text='Eq. 9.1',\n",
    "                    xref='paper',\n",
    "                    yref='paper',\n",
    "                    xanchor='left',\n",
    "                    font=dict(\n",
    "                            size=19,\n",
    "                            color='rgb(33,33,33)'))]\n",
    "            )\n",
    "\n",
    "fig = dict(data=data, layout=layout)\n",
    "\n",
    "py.iplot(fig, filename='Eq')"
   ]
  },
  {
   "cell_type": "markdown",
   "metadata": {},
   "source": [
    "### 9.1"
   ]
  },
  {
   "cell_type": "code",
   "execution_count": 72,
   "metadata": {},
   "outputs": [
    {
     "data": {
      "text/html": [
       "<iframe id=\"igraph\" scrolling=\"no\" style=\"border:none;\" seamless=\"seamless\" src=\"https://plot.ly/~jorisneuman/52.embed\" height=\"100px\" width=\"1000px\"></iframe>"
      ],
      "text/plain": [
       "<plotly.tools.PlotlyDisplay object>"
      ]
     },
     "execution_count": 72,
     "metadata": {},
     "output_type": "execute_result"
    }
   ],
   "source": [
    "data = []\n",
    "data.append(\n",
    "    go.Scatter(\n",
    "        x = [1,1],\n",
    "        y = [1,1],\n",
    "        mode ='lines',\n",
    "        line = dict(width=0)))\n",
    "\n",
    "# Edit the layout\n",
    "layout = dict(\n",
    "            autosize=False,\n",
    "            width=1000,\n",
    "            height=100,\n",
    "            yaxis = dict(\n",
    "                        range=[0,1],\n",
    "                        showgrid=False,\n",
    "                        zeroline=False,\n",
    "                        showline=False,\n",
    "                        showticklabels=False,\n",
    "                        ticks='',\n",
    "                        ),\n",
    "            xaxis = dict(\n",
    "                        range=[0,1],\n",
    "                        showgrid=False,\n",
    "                        zeroline=False,\n",
    "                        showline=False,\n",
    "                        showticklabels=False,\n",
    "                        ticks=''\n",
    "                        ),\n",
    "            showlegend=False,\n",
    "            annotations=[\n",
    "                dict(\n",
    "                    x=0.5,\n",
    "                    y=0.5,\n",
    "                    showarrow=False,\n",
    "                    text='$L=2\\\\cdot(L_{freeboard}+d_{ quay})$',\n",
    "                    xref='paper',\n",
    "                    yref='paper',\n",
    "                    font=dict(\n",
    "                            size=19,\n",
    "                            color='rgb(33,33,33)')),\n",
    "                dict(\n",
    "                    x=1,\n",
    "                    y=0.5,\n",
    "                    showarrow=False,\n",
    "                    text='Eq. 9.1',\n",
    "                    xref='paper',\n",
    "                    yref='paper',\n",
    "                    xanchor='left',\n",
    "                    font=dict(\n",
    "                            size=19,\n",
    "                            color='rgb(33,33,33)'))]\n",
    "            )\n",
    "\n",
    "fig = dict(data=data, layout=layout)\n",
    "\n",
    "py.iplot(fig, filename='Eq')"
   ]
  },
  {
   "cell_type": "markdown",
   "metadata": {},
   "source": [
    "### 9.2"
   ]
  },
  {
   "cell_type": "code",
   "execution_count": 71,
   "metadata": {},
   "outputs": [
    {
     "data": {
      "text/html": [
       "<iframe id=\"igraph\" scrolling=\"no\" style=\"border:none;\" seamless=\"seamless\" src=\"https://plot.ly/~jorisneuman/52.embed\" height=\"100px\" width=\"1000px\"></iframe>"
      ],
      "text/plain": [
       "<plotly.tools.PlotlyDisplay object>"
      ]
     },
     "execution_count": 71,
     "metadata": {},
     "output_type": "execute_result"
    }
   ],
   "source": [
    "data = []\n",
    "data.append(\n",
    "    go.Scatter(\n",
    "        x = [1,1],\n",
    "        y = [1,1],\n",
    "        mode ='lines',\n",
    "        line = dict(width=0)))\n",
    "\n",
    "# Edit the layout\n",
    "layout = dict(\n",
    "            autosize=False,\n",
    "            width=1000,\n",
    "            height=100,\n",
    "            yaxis = dict(\n",
    "                        range=[0,1],\n",
    "                        showgrid=False,\n",
    "                        zeroline=False,\n",
    "                        showline=False,\n",
    "                        showticklabels=False,\n",
    "                        ticks='',\n",
    "                        ),\n",
    "            xaxis = dict(\n",
    "                        range=[0,1],\n",
    "                        showgrid=False,\n",
    "                        zeroline=False,\n",
    "                        showline=False,\n",
    "                        showticklabels=False,\n",
    "                        ticks=''\n",
    "                        ),\n",
    "            showlegend=False,\n",
    "            annotations=[\n",
    "                dict(\n",
    "                    x=0.5,\n",
    "                    y=0.5,\n",
    "                    showarrow=False,\n",
    "                    text='$t_{t}=t_{s}+t_{m}+t_{w}$',\n",
    "                    xref='paper',\n",
    "                    yref='paper',\n",
    "                    font=dict(\n",
    "                            size=20,\n",
    "                            color='rgb(33,33,33)')),\n",
    "                dict(\n",
    "                    x=1,\n",
    "                    y=0.5,\n",
    "                    showarrow=False,\n",
    "                    text='Eq. 9.2',\n",
    "                    xref='paper',\n",
    "                    yref='paper',\n",
    "                    xanchor='left',\n",
    "                    font=dict(\n",
    "                            size=19,\n",
    "                            color='rgb(33,33,33)'))]\n",
    "            )\n",
    "\n",
    "fig = dict(data=data, layout=layout)\n",
    "\n",
    "py.iplot(fig, filename='Eq')"
   ]
  },
  {
   "cell_type": "markdown",
   "metadata": {},
   "source": [
    "### 9.3"
   ]
  },
  {
   "cell_type": "code",
   "execution_count": 70,
   "metadata": {},
   "outputs": [
    {
     "data": {
      "text/html": [
       "<iframe id=\"igraph\" scrolling=\"no\" style=\"border:none;\" seamless=\"seamless\" src=\"https://plot.ly/~jorisneuman/52.embed\" height=\"100px\" width=\"1000px\"></iframe>"
      ],
      "text/plain": [
       "<plotly.tools.PlotlyDisplay object>"
      ]
     },
     "execution_count": 70,
     "metadata": {},
     "output_type": "execute_result"
    }
   ],
   "source": [
    "data = []\n",
    "data.append(\n",
    "    go.Scatter(\n",
    "        x = [1,1],\n",
    "        y = [1,1],\n",
    "        mode ='lines',\n",
    "        line = dict(width=0)))\n",
    "\n",
    "# Edit the layout\n",
    "layout = dict(\n",
    "            autosize=False,\n",
    "            width=1000,\n",
    "            height=100,\n",
    "            yaxis = dict(\n",
    "                        range=[0,1],\n",
    "                        showgrid=False,\n",
    "                        zeroline=False,\n",
    "                        showline=False,\n",
    "                        showticklabels=False,\n",
    "                        ticks='',\n",
    "                        ),\n",
    "            xaxis = dict(\n",
    "                        range=[0,1],\n",
    "                        showgrid=False,\n",
    "                        zeroline=False,\n",
    "                        showline=False,\n",
    "                        showticklabels=False,\n",
    "                        ticks=''\n",
    "                        ),\n",
    "            showlegend=False,\n",
    "            annotations=[\n",
    "                dict(\n",
    "                    x=0.5,\n",
    "                    y=0.5,\n",
    "                    showarrow=False,\n",
    "                    text='$t_{s}=\\\\frac{W_{call}}{P_{unload}}$',\n",
    "                    xref='paper',\n",
    "                    yref='paper',\n",
    "                    font=dict(\n",
    "                            size=20,\n",
    "                            color='rgb(33,33,33)')),\n",
    "                dict(\n",
    "                    x=1,\n",
    "                    y=0.5,\n",
    "                    showarrow=False,\n",
    "                    text='Eq. 9.3',\n",
    "                    xref='paper',\n",
    "                    yref='paper',\n",
    "                    xanchor='left',\n",
    "                    font=dict(\n",
    "                            size=19,\n",
    "                            color='rgb(33,33,33)'))]\n",
    "            )\n",
    "\n",
    "fig = dict(data=data, layout=layout)\n",
    "\n",
    "py.iplot(fig, filename='Eq')"
   ]
  },
  {
   "cell_type": "markdown",
   "metadata": {},
   "source": [
    "### 9.4"
   ]
  },
  {
   "cell_type": "code",
   "execution_count": 94,
   "metadata": {},
   "outputs": [
    {
     "data": {
      "text/html": [
       "<iframe id=\"igraph\" scrolling=\"no\" style=\"border:none;\" seamless=\"seamless\" src=\"https://plot.ly/~jorisneuman/52.embed\" height=\"300px\" width=\"1000px\"></iframe>"
      ],
      "text/plain": [
       "<plotly.tools.PlotlyDisplay object>"
      ]
     },
     "execution_count": 94,
     "metadata": {},
     "output_type": "execute_result"
    }
   ],
   "source": [
    "data = []\n",
    "data.append(\n",
    "    go.Scatter(\n",
    "        x = [1,1],\n",
    "        y = [1,1],\n",
    "        mode ='lines',\n",
    "        line = dict(width=0)))\n",
    "\n",
    "# Edit the layout\n",
    "layout = dict(\n",
    "            autosize=False,\n",
    "            width=1000,\n",
    "            height=300,\n",
    "            yaxis = dict(\n",
    "                        range=[0,1],\n",
    "                        showgrid=False,\n",
    "                        zeroline=False,\n",
    "                        showline=False,\n",
    "                        showticklabels=False,\n",
    "                        ticks='',\n",
    "                        ),\n",
    "            xaxis = dict(\n",
    "                        range=[0,1],\n",
    "                        showgrid=False,\n",
    "                        zeroline=False,\n",
    "                        showline=False,\n",
    "                        showticklabels=False,\n",
    "                        ticks=''\n",
    "                        ),\n",
    "            showlegend=False,\n",
    "            annotations=[\n",
    "                dict(\n",
    "                    x=0.28,\n",
    "                    y=0.5,\n",
    "                    showarrow=False,\n",
    "                    text='$L_{quay}=\\\\lgroup{}$',\n",
    "                    xref='paper',\n",
    "                    yref='paper',\n",
    "                    font=dict(\n",
    "                            size=20,\n",
    "                            color='rgb(33,33,33)')),\n",
    "                dict(\n",
    "                    x=0.43,\n",
    "                    y=0.78,\n",
    "                    showarrow=False,\n",
    "                    text='$L_{s, max}+2\\\\cdot15$',\n",
    "                    xref='paper',\n",
    "                    yref='paper',\n",
    "                    xanchor='left',\n",
    "                    font=dict(\n",
    "                            size=20,\n",
    "                            color='rgb(33,33,33)')),\n",
    "                dict(\n",
    "                    x=0.43,\n",
    "                    y=0.22,\n",
    "                    showarrow=False,\n",
    "                    text='$1.1\\\\cdot n \\\\cdot (L_{s,max}+15)$',\n",
    "                    xref='paper',\n",
    "                    yref='paper',\n",
    "                    xanchor='left',\n",
    "                    font=dict(\n",
    "                            size=20,\n",
    "                            color='rgb(33,33,33)')),\n",
    "                \n",
    "                dict(\n",
    "                    x=0.8,\n",
    "                    y=0.78,\n",
    "                    showarrow=False,\n",
    "                    text='$n = 1$',\n",
    "                    xref='paper',\n",
    "                    yref='paper',\n",
    "                    font=dict(\n",
    "                            size=20,\n",
    "                            color='rgb(33,33,33)')),\n",
    "                dict(\n",
    "                    x=0.8,\n",
    "                    y=0.27,\n",
    "                    showarrow=False,\n",
    "                    text='$n > 1$',\n",
    "                    xref='paper',\n",
    "                    yref='paper',\n",
    "                    font=dict(\n",
    "                            size=20,\n",
    "                            color='rgb(33,33,33)')),\n",
    "                dict(\n",
    "                    x=1,\n",
    "                    y=0.5,\n",
    "                    showarrow=False,\n",
    "                    text='Eq. 9.4',\n",
    "                    xref='paper',\n",
    "                    yref='paper',\n",
    "                    xanchor='left',\n",
    "                    font=dict(\n",
    "                            size=19,\n",
    "                            color='rgb(33,33,33)'))]\n",
    "            )\n",
    "\n",
    "fig = dict(data=data, layout=layout)\n",
    "\n",
    "py.iplot(fig, filename='Eq')"
   ]
  },
  {
   "cell_type": "markdown",
   "metadata": {},
   "source": [
    "### 9.5"
   ]
  },
  {
   "cell_type": "code",
   "execution_count": 96,
   "metadata": {},
   "outputs": [
    {
     "data": {
      "text/html": [
       "<iframe id=\"igraph\" scrolling=\"no\" style=\"border:none;\" seamless=\"seamless\" src=\"https://plot.ly/~jorisneuman/52.embed\" height=\"300px\" width=\"1000px\"></iframe>"
      ],
      "text/plain": [
       "<plotly.tools.PlotlyDisplay object>"
      ]
     },
     "execution_count": 96,
     "metadata": {},
     "output_type": "execute_result"
    }
   ],
   "source": [
    "data = []\n",
    "data.append(\n",
    "    go.Scatter(\n",
    "        x = [1,1],\n",
    "        y = [0,1],\n",
    "        mode ='lines',\n",
    "        line = dict(width=0)))\n",
    "\n",
    "# Edit the layout\n",
    "layout = dict(\n",
    "            autosize=False,\n",
    "            width=1000,\n",
    "            height=300,\n",
    "            yaxis = dict(\n",
    "                        range=[0,1],\n",
    "                        showgrid=False,\n",
    "                        zeroline=False,\n",
    "                        showline=False,\n",
    "                        showticklabels=False,\n",
    "                        ticks='',\n",
    "                        ),\n",
    "            xaxis = dict(\n",
    "                        range=[0,1],\n",
    "                        showgrid=False,\n",
    "                        zeroline=False,\n",
    "                        showline=False,\n",
    "                        showticklabels=False,\n",
    "                        ticks=''\n",
    "                        ),\n",
    "            showlegend=False,\n",
    "            annotations=[\n",
    "                dict(\n",
    "                    x=0.5,\n",
    "                    y=0.85,\n",
    "                    showarrow=False,\n",
    "                    text='$R_{quay}=834 \\\\cdot {d_{quay}}^{2} \\\\cdot d_{quay}+48261$',\n",
    "                    xref='paper',\n",
    "                    yref='paper',\n",
    "                    font=dict(\n",
    "                            size=20,\n",
    "                            color='rgb(33,33,33)')),\n",
    "                dict(\n",
    "                    x=0.5,\n",
    "                    y=0.15,\n",
    "                    showarrow=False,\n",
    "                    text='$C_{quay}=R_{quay} \\\\cdot L_{quay}$',\n",
    "                    xref='paper',\n",
    "                    yref='paper',\n",
    "                    font=dict(\n",
    "                            size=20,\n",
    "                            color='rgb(33,33,33)')),\n",
    "                dict(\n",
    "                    x=1,\n",
    "                    y=0.5,\n",
    "                    showarrow=False,\n",
    "                    text='Eq. 9.5',\n",
    "                    xref='paper',\n",
    "                    yref='paper',\n",
    "                    xanchor='left',\n",
    "                    font=dict(\n",
    "                            size=19,\n",
    "                            color='rgb(33,33,33)'))]\n",
    "            )\n",
    "\n",
    "fig = dict(data=data, layout=layout)\n",
    "\n",
    "py.iplot(fig, filename='Eq')"
   ]
  },
  {
   "cell_type": "markdown",
   "metadata": {},
   "source": [
    "### 9.6"
   ]
  },
  {
   "cell_type": "code",
   "execution_count": 112,
   "metadata": {},
   "outputs": [
    {
     "data": {
      "text/html": [
       "<iframe id=\"igraph\" scrolling=\"no\" style=\"border:none;\" seamless=\"seamless\" src=\"https://plot.ly/~jorisneuman/52.embed\" height=\"300px\" width=\"1000px\"></iframe>"
      ],
      "text/plain": [
       "<plotly.tools.PlotlyDisplay object>"
      ]
     },
     "execution_count": 112,
     "metadata": {},
     "output_type": "execute_result"
    }
   ],
   "source": [
    "data = []\n",
    "data.append(\n",
    "    go.Scatter(\n",
    "        x = [1,1],\n",
    "        y = [0,1],\n",
    "        mode ='lines',\n",
    "        line = dict(width=0)))\n",
    "\n",
    "# Edit the layout\n",
    "layout = dict(\n",
    "            autosize=False,\n",
    "            width=1000,\n",
    "            height=300,\n",
    "            yaxis = dict(\n",
    "                        range=[0,1],\n",
    "                        showgrid=False,\n",
    "                        zeroline=False,\n",
    "                        showline=False,\n",
    "                        showticklabels=False,\n",
    "                        ticks='',\n",
    "                        ),\n",
    "            xaxis = dict(\n",
    "                        range=[0,1],\n",
    "                        showgrid=False,\n",
    "                        zeroline=False,\n",
    "                        showline=False,\n",
    "                        showticklabels=False,\n",
    "                        ticks=''\n",
    "                        ),\n",
    "            showlegend=False,\n",
    "            annotations=[\n",
    "                dict(\n",
    "                    x=0.40,\n",
    "                    y=0.85,\n",
    "                    showarrow=False,\n",
    "                    text='$M_{quay}=0.01 \\\\cdot R_{quay} \\\\cdot L_{quay}$',\n",
    "                    xref='paper',\n",
    "                    yref='paper',\n",
    "                    xanchor='left',\n",
    "                    font=dict(\n",
    "                            size=20,\n",
    "                            color='rgb(33,33,33)')),\n",
    "                dict(\n",
    "                    x=0.9,\n",
    "                    y=0.85,\n",
    "                    showarrow=False,\n",
    "                    text='$\\\\geq 2.500.000$',\n",
    "                    xref='paper',\n",
    "                    yref='paper',\n",
    "                    font=dict(\n",
    "                            size=20,\n",
    "                            color='rgb(33,33,33)')),\n",
    "                dict(\n",
    "                    x=0.40,\n",
    "                    y=0.15,\n",
    "                    showarrow=False,\n",
    "                    text='$C_{quay}=0.01 \\\\cdot R_{quay} \\\\cdot L_{quay} + M_{quay}$',\n",
    "                    xref='paper',\n",
    "                    yref='paper',\n",
    "                    xanchor='left',\n",
    "                    font=dict(\n",
    "                            size=20,\n",
    "                            color='rgb(33,33,33)')),\n",
    "                dict(\n",
    "                    x=1,\n",
    "                    y=0.5,\n",
    "                    showarrow=False,\n",
    "                    text='Eq. 9.6',\n",
    "                    xref='paper',\n",
    "                    yref='paper',\n",
    "                    xanchor='left',\n",
    "                    font=dict(\n",
    "                            size=19,\n",
    "                            color='rgb(33,33,33)'))]\n",
    "            )\n",
    "\n",
    "fig = dict(data=data, layout=layout)\n",
    "\n",
    "py.iplot(fig, filename='Eq')"
   ]
  },
  {
   "cell_type": "code",
   "execution_count": 107,
   "metadata": {},
   "outputs": [
    {
     "data": {
      "text/html": [
       "<iframe id=\"igraph\" scrolling=\"no\" style=\"border:none;\" seamless=\"seamless\" src=\"https://plot.ly/~jorisneuman/52.embed\" height=\"100px\" width=\"1000px\"></iframe>"
      ],
      "text/plain": [
       "<plotly.tools.PlotlyDisplay object>"
      ]
     },
     "execution_count": 107,
     "metadata": {},
     "output_type": "execute_result"
    }
   ],
   "source": [
    "data = []\n",
    "data.append(\n",
    "    go.Scatter(\n",
    "        x = [1,1],\n",
    "        y = [0,1],\n",
    "        mode ='lines',\n",
    "        line = dict(width=0)))\n",
    "\n",
    "# Edit the layout\n",
    "layout = dict(\n",
    "            autosize=False,\n",
    "            width=1000,\n",
    "            height=100,\n",
    "            yaxis = dict(\n",
    "                        range=[0,1],\n",
    "                        showgrid=False,\n",
    "                        zeroline=False,\n",
    "                        showline=False,\n",
    "                        showticklabels=False,\n",
    "                        ticks='',\n",
    "                        ),\n",
    "            xaxis = dict(\n",
    "                        range=[0,1],\n",
    "                        showgrid=False,\n",
    "                        zeroline=False,\n",
    "                        showline=False,\n",
    "                        showticklabels=False,\n",
    "                        ticks=''\n",
    "                        ),\n",
    "            showlegend=False,\n",
    "            annotations=[\n",
    "                dict(\n",
    "                    x=0.5,\n",
    "                    y=0.5,\n",
    "                    showarrow=False,\n",
    "                    text='$V=C \\\\cdot (1 - \\\\frac{t_{age}}{t_{lifespan}})$',\n",
    "                    xref='paper',\n",
    "                    yref='paper',\n",
    "                    font=dict(\n",
    "                            size=20,\n",
    "                            color='rgb(33,33,33)')),\n",
    "                dict(\n",
    "                    x=1,\n",
    "                    y=0.5,\n",
    "                    showarrow=False,\n",
    "                    text='Eq. 9.7',\n",
    "                    xref='paper',\n",
    "                    yref='paper',\n",
    "                    xanchor='left',\n",
    "                    font=dict(\n",
    "                            size=19,\n",
    "                            color='rgb(33,33,33)'))]\n",
    "            )\n",
    "\n",
    "fig = dict(data=data, layout=layout)\n",
    "\n",
    "py.iplot(fig, filename='Eq')"
   ]
  },
  {
   "cell_type": "markdown",
   "metadata": {},
   "source": [
    "### 9.8"
   ]
  },
  {
   "cell_type": "code",
   "execution_count": 110,
   "metadata": {},
   "outputs": [
    {
     "data": {
      "text/html": [
       "<iframe id=\"igraph\" scrolling=\"no\" style=\"border:none;\" seamless=\"seamless\" src=\"https://plot.ly/~jorisneuman/52.embed\" height=\"100px\" width=\"1000px\"></iframe>"
      ],
      "text/plain": [
       "<plotly.tools.PlotlyDisplay object>"
      ]
     },
     "execution_count": 110,
     "metadata": {},
     "output_type": "execute_result"
    }
   ],
   "source": [
    "data = []\n",
    "data.append(\n",
    "    go.Scatter(\n",
    "        x = [1,1],\n",
    "        y = [0,1],\n",
    "        mode ='lines',\n",
    "        line = dict(width=0)))\n",
    "\n",
    "# Edit the layout\n",
    "layout = dict(\n",
    "            autosize=False,\n",
    "            width=1000,\n",
    "            height=100,\n",
    "            yaxis = dict(\n",
    "                        range=[0,1],\n",
    "                        showgrid=False,\n",
    "                        zeroline=False,\n",
    "                        showline=False,\n",
    "                        showticklabels=False,\n",
    "                        ticks='',\n",
    "                        ),\n",
    "            xaxis = dict(\n",
    "                        range=[0,1],\n",
    "                        showgrid=False,\n",
    "                        zeroline=False,\n",
    "                        showline=False,\n",
    "                        showticklabels=False,\n",
    "                        ticks=''\n",
    "                        ),\n",
    "            showlegend=False,\n",
    "            annotations=[\n",
    "                dict(\n",
    "                    x=0.5,\n",
    "                    y=0.5,\n",
    "                    showarrow=False,\n",
    "                    text='$W_{payload}=\\\\frac{W_{lift}-2.4}{1.4}$',\n",
    "                    xref='paper',\n",
    "                    yref='paper',\n",
    "                    font=dict(\n",
    "                            size=20,\n",
    "                            color='rgb(33,33,33)')),\n",
    "                dict(\n",
    "                    x=1,\n",
    "                    y=0.5,\n",
    "                    showarrow=False,\n",
    "                    text='Eq. 9.8',\n",
    "                    xref='paper',\n",
    "                    yref='paper',\n",
    "                    xanchor='left',\n",
    "                    font=dict(\n",
    "                            size=19,\n",
    "                            color='rgb(33,33,33)'))]\n",
    "            )\n",
    "\n",
    "fig = dict(data=data, layout=layout)\n",
    "\n",
    "py.iplot(fig, filename='Eq')"
   ]
  },
  {
   "cell_type": "markdown",
   "metadata": {},
   "source": [
    "### 9.9"
   ]
  },
  {
   "cell_type": "code",
   "execution_count": 118,
   "metadata": {},
   "outputs": [
    {
     "data": {
      "text/html": [
       "<iframe id=\"igraph\" scrolling=\"no\" style=\"border:none;\" seamless=\"seamless\" src=\"https://plot.ly/~jorisneuman/52.embed\" height=\"300px\" width=\"1000px\"></iframe>"
      ],
      "text/plain": [
       "<plotly.tools.PlotlyDisplay object>"
      ]
     },
     "execution_count": 118,
     "metadata": {},
     "output_type": "execute_result"
    }
   ],
   "source": [
    "data = []\n",
    "data.append(\n",
    "    go.Scatter(\n",
    "        x = [1,1],\n",
    "        y = [0,1],\n",
    "        mode ='lines',\n",
    "        line = dict(width=0)))\n",
    "\n",
    "# Edit the layout\n",
    "layout = dict(\n",
    "            autosize=False,\n",
    "            width=1000,\n",
    "            height=300,\n",
    "            yaxis = dict(\n",
    "                        range=[0,1],\n",
    "                        showgrid=False,\n",
    "                        zeroline=False,\n",
    "                        showline=False,\n",
    "                        showticklabels=False,\n",
    "                        ticks='',\n",
    "                        ),\n",
    "            xaxis = dict(\n",
    "                        range=[0,1],\n",
    "                        showgrid=False,\n",
    "                        zeroline=False,\n",
    "                        showline=False,\n",
    "                        showticklabels=False,\n",
    "                        ticks=''\n",
    "                        ),\n",
    "            showlegend=False,\n",
    "            annotations=[\n",
    "                dict(\n",
    "                    x=0.20,\n",
    "                    y=0.85,\n",
    "                    showarrow=False,\n",
    "                    text='$P_{peak}=n_{c} \\\\cdot \\\\frac{W_{lift}-2.4}{1.4}$',\n",
    "                    xref='paper',\n",
    "                    yref='paper',\n",
    "                    xanchor='left',\n",
    "                    font=dict(\n",
    "                            size=20,\n",
    "                            color='rgb(33,33,33)')),\n",
    "                dict(\n",
    "                    x=0.7,\n",
    "                    y=0.85,\n",
    "                    showarrow=False,\n",
    "                    text='$n_{c}=60$',\n",
    "                    xref='paper',\n",
    "                    yref='paper',\n",
    "                    xanchor='left',\n",
    "                    font=dict(\n",
    "                            size=20,\n",
    "                            color='rgb(33,33,33)')),\n",
    "                dict(\n",
    "                    x=0.20,\n",
    "                    y=0,\n",
    "                    showarrow=False,\n",
    "                    text='$P_{eff}=n_{c} \\\\cdot \\\\frac{W_{lift}-2.4}{1.4} \\\\cdot \\\\gamma_{eff}$',\n",
    "                    xref='paper',\n",
    "                    yref='paper',\n",
    "                    xanchor='left',\n",
    "                    font=dict(\n",
    "                            size=20,\n",
    "                            color='rgb(33,33,33)')),\n",
    "                dict(\n",
    "                    x=0.7,\n",
    "                    y=0.20,\n",
    "                    showarrow=False,\n",
    "                    text='$n_{c}=60$',\n",
    "                    xref='paper',\n",
    "                    yref='paper',\n",
    "                    xanchor='left',\n",
    "                    font=dict(\n",
    "                            size=20,\n",
    "                            color='rgb(33,33,33)')),\n",
    "                dict(\n",
    "                    x=0.7,\n",
    "                    y=-0.05,\n",
    "                    showarrow=False,\n",
    "                    text='$\\\\gamma_{eff}=0.50$',\n",
    "                    xref='paper',\n",
    "                    yref='paper',\n",
    "                    xanchor='left',\n",
    "                    font=dict(\n",
    "                            size=20,\n",
    "                            color='rgb(33,33,33)')),\n",
    "                dict(\n",
    "                    x=1,\n",
    "                    y=0.5,\n",
    "                    showarrow=False,\n",
    "                    text='Eq. 9.9',\n",
    "                    xref='paper',\n",
    "                    yref='paper',\n",
    "                    xanchor='left',\n",
    "                    font=dict(\n",
    "                            size=19,\n",
    "                            color='rgb(33,33,33)'))]\n",
    "            )\n",
    "\n",
    "fig = dict(data=data, layout=layout)\n",
    "\n",
    "py.iplot(fig, filename='Eq')"
   ]
  },
  {
   "cell_type": "markdown",
   "metadata": {},
   "source": [
    "### 9.10"
   ]
  },
  {
   "cell_type": "code",
   "execution_count": 119,
   "metadata": {},
   "outputs": [
    {
     "data": {
      "text/html": [
       "<iframe id=\"igraph\" scrolling=\"no\" style=\"border:none;\" seamless=\"seamless\" src=\"https://plot.ly/~jorisneuman/52.embed\" height=\"300px\" width=\"1000px\"></iframe>"
      ],
      "text/plain": [
       "<plotly.tools.PlotlyDisplay object>"
      ]
     },
     "execution_count": 119,
     "metadata": {},
     "output_type": "execute_result"
    }
   ],
   "source": [
    "data = []\n",
    "data.append(\n",
    "    go.Scatter(\n",
    "        x = [1,1],\n",
    "        y = [0,1],\n",
    "        mode ='lines',\n",
    "        line = dict(width=0)))\n",
    "\n",
    "# Edit the layout\n",
    "layout = dict(\n",
    "            autosize=False,\n",
    "            width=1000,\n",
    "            height=300,\n",
    "            yaxis = dict(\n",
    "                        range=[0,1],\n",
    "                        showgrid=False,\n",
    "                        zeroline=False,\n",
    "                        showline=False,\n",
    "                        showticklabels=False,\n",
    "                        ticks='',\n",
    "                        ),\n",
    "            xaxis = dict(\n",
    "                        range=[0,1],\n",
    "                        showgrid=False,\n",
    "                        zeroline=False,\n",
    "                        showline=False,\n",
    "                        showticklabels=False,\n",
    "                        ticks=''\n",
    "                        ),\n",
    "            showlegend=False,\n",
    "            annotations=[\n",
    "                dict(\n",
    "                    x=0.20,\n",
    "                    y=0.85,\n",
    "                    showarrow=False,\n",
    "                    text='$P_{peak}=n_{c} \\\\cdot \\\\frac{W_{lift}-2.4}{1.4}$',\n",
    "                    xref='paper',\n",
    "                    yref='paper',\n",
    "                    xanchor='left',\n",
    "                    font=dict(\n",
    "                            size=20,\n",
    "                            color='rgb(33,33,33)')),\n",
    "                dict(\n",
    "                    x=0.7,\n",
    "                    y=0.85,\n",
    "                    showarrow=False,\n",
    "                    text='$n_{c}=40$',\n",
    "                    xref='paper',\n",
    "                    yref='paper',\n",
    "                    xanchor='left',\n",
    "                    font=dict(\n",
    "                            size=20,\n",
    "                            color='rgb(33,33,33)')),\n",
    "                dict(\n",
    "                    x=0.20,\n",
    "                    y=0,\n",
    "                    showarrow=False,\n",
    "                    text='$P_{eff}=n_{c} \\\\cdot \\\\frac{W_{lift}-2.4}{1.4} \\\\cdot \\\\gamma_{eff}$',\n",
    "                    xref='paper',\n",
    "                    yref='paper',\n",
    "                    xanchor='left',\n",
    "                    font=dict(\n",
    "                            size=20,\n",
    "                            color='rgb(33,33,33)')),\n",
    "                dict(\n",
    "                    x=0.7,\n",
    "                    y=0.20,\n",
    "                    showarrow=False,\n",
    "                    text='$n_{c}=40$',\n",
    "                    xref='paper',\n",
    "                    yref='paper',\n",
    "                    xanchor='left',\n",
    "                    font=dict(\n",
    "                            size=20,\n",
    "                            color='rgb(33,33,33)')),\n",
    "                dict(\n",
    "                    x=0.7,\n",
    "                    y=-0.05,\n",
    "                    showarrow=False,\n",
    "                    text='$\\\\gamma_{eff}=0.40$',\n",
    "                    xref='paper',\n",
    "                    yref='paper',\n",
    "                    xanchor='left',\n",
    "                    font=dict(\n",
    "                            size=20,\n",
    "                            color='rgb(33,33,33)')),\n",
    "                dict(\n",
    "                    x=1,\n",
    "                    y=0.5,\n",
    "                    showarrow=False,\n",
    "                    text='Eq. 9.10',\n",
    "                    xref='paper',\n",
    "                    yref='paper',\n",
    "                    xanchor='left',\n",
    "                    font=dict(\n",
    "                            size=19,\n",
    "                            color='rgb(33,33,33)'))]\n",
    "            )\n",
    "\n",
    "fig = dict(data=data, layout=layout)\n",
    "\n",
    "py.iplot(fig, filename='Eq')"
   ]
  },
  {
   "cell_type": "markdown",
   "metadata": {},
   "source": [
    "### 9.11"
   ]
  },
  {
   "cell_type": "code",
   "execution_count": 120,
   "metadata": {},
   "outputs": [
    {
     "data": {
      "text/html": [
       "<iframe id=\"igraph\" scrolling=\"no\" style=\"border:none;\" seamless=\"seamless\" src=\"https://plot.ly/~jorisneuman/52.embed\" height=\"300px\" width=\"1000px\"></iframe>"
      ],
      "text/plain": [
       "<plotly.tools.PlotlyDisplay object>"
      ]
     },
     "execution_count": 120,
     "metadata": {},
     "output_type": "execute_result"
    }
   ],
   "source": [
    "data = []\n",
    "data.append(\n",
    "    go.Scatter(\n",
    "        x = [1,1],\n",
    "        y = [0,1],\n",
    "        mode ='lines',\n",
    "        line = dict(width=0)))\n",
    "\n",
    "# Edit the layout\n",
    "layout = dict(\n",
    "            autosize=False,\n",
    "            width=1000,\n",
    "            height=300,\n",
    "            yaxis = dict(\n",
    "                        range=[0,1],\n",
    "                        showgrid=False,\n",
    "                        zeroline=False,\n",
    "                        showline=False,\n",
    "                        showticklabels=False,\n",
    "                        ticks='',\n",
    "                        ),\n",
    "            xaxis = dict(\n",
    "                        range=[0,1],\n",
    "                        showgrid=False,\n",
    "                        zeroline=False,\n",
    "                        showline=False,\n",
    "                        showticklabels=False,\n",
    "                        ticks=''\n",
    "                        ),\n",
    "            showlegend=False,\n",
    "            annotations=[\n",
    "                dict(\n",
    "                    x=0.20,\n",
    "                    y=0.85,\n",
    "                    showarrow=False,\n",
    "                    text='$P_{peak}=n_{c} \\\\cdot \\\\frac{W_{lift}-2.4}{1.4}$',\n",
    "                    xref='paper',\n",
    "                    yref='paper',\n",
    "                    xanchor='left',\n",
    "                    font=dict(\n",
    "                            size=20,\n",
    "                            color='rgb(33,33,33)')),\n",
    "                dict(\n",
    "                    x=0.7,\n",
    "                    y=0.85,\n",
    "                    showarrow=False,\n",
    "                    text='$n_{c}=30$',\n",
    "                    xref='paper',\n",
    "                    yref='paper',\n",
    "                    xanchor='left',\n",
    "                    font=dict(\n",
    "                            size=20,\n",
    "                            color='rgb(33,33,33)')),\n",
    "                dict(\n",
    "                    x=0.20,\n",
    "                    y=0,\n",
    "                    showarrow=False,\n",
    "                    text='$P_{eff}=n_{c} \\\\cdot \\\\frac{W_{lift}-2.4}{1.4} \\\\cdot \\\\gamma_{eff}$',\n",
    "                    xref='paper',\n",
    "                    yref='paper',\n",
    "                    xanchor='left',\n",
    "                    font=dict(\n",
    "                            size=20,\n",
    "                            color='rgb(33,33,33)')),\n",
    "                dict(\n",
    "                    x=0.7,\n",
    "                    y=0.20,\n",
    "                    showarrow=False,\n",
    "                    text='$n_{c}=30$',\n",
    "                    xref='paper',\n",
    "                    yref='paper',\n",
    "                    xanchor='left',\n",
    "                    font=dict(\n",
    "                            size=20,\n",
    "                            color='rgb(33,33,33)')),\n",
    "                dict(\n",
    "                    x=0.7,\n",
    "                    y=-0.05,\n",
    "                    showarrow=False,\n",
    "                    text='$\\\\gamma_{eff}=0.35$',\n",
    "                    xref='paper',\n",
    "                    yref='paper',\n",
    "                    xanchor='left',\n",
    "                    font=dict(\n",
    "                            size=20,\n",
    "                            color='rgb(33,33,33)')),\n",
    "                dict(\n",
    "                    x=1,\n",
    "                    y=0.5,\n",
    "                    showarrow=False,\n",
    "                    text='Eq. 9.11',\n",
    "                    xref='paper',\n",
    "                    yref='paper',\n",
    "                    xanchor='left',\n",
    "                    font=dict(\n",
    "                            size=19,\n",
    "                            color='rgb(33,33,33)'))]\n",
    "            )\n",
    "\n",
    "fig = dict(data=data, layout=layout)\n",
    "\n",
    "py.iplot(fig, filename='Eq')"
   ]
  },
  {
   "cell_type": "markdown",
   "metadata": {},
   "source": [
    "### 9.12"
   ]
  },
  {
   "cell_type": "code",
   "execution_count": 122,
   "metadata": {},
   "outputs": [
    {
     "data": {
      "text/html": [
       "<iframe id=\"igraph\" scrolling=\"no\" style=\"border:none;\" seamless=\"seamless\" src=\"https://plot.ly/~jorisneuman/52.embed\" height=\"100px\" width=\"1000px\"></iframe>"
      ],
      "text/plain": [
       "<plotly.tools.PlotlyDisplay object>"
      ]
     },
     "execution_count": 122,
     "metadata": {},
     "output_type": "execute_result"
    }
   ],
   "source": [
    "data = []\n",
    "data.append(\n",
    "    go.Scatter(\n",
    "        x = [1,1],\n",
    "        y = [0,1],\n",
    "        mode ='lines',\n",
    "        line = dict(width=0)))\n",
    "\n",
    "# Edit the layout\n",
    "layout = dict(\n",
    "            autosize=False,\n",
    "            width=1000,\n",
    "            height=100,\n",
    "            yaxis = dict(\n",
    "                        range=[0,1],\n",
    "                        showgrid=False,\n",
    "                        zeroline=False,\n",
    "                        showline=False,\n",
    "                        showticklabels=False,\n",
    "                        ticks='',\n",
    "                        ),\n",
    "            xaxis = dict(\n",
    "                        range=[0,1],\n",
    "                        showgrid=False,\n",
    "                        zeroline=False,\n",
    "                        showline=False,\n",
    "                        showticklabels=False,\n",
    "                        ticks=''\n",
    "                        ),\n",
    "            showlegend=False,\n",
    "            annotations=[\n",
    "                dict(\n",
    "                    x=0.2,\n",
    "                    y=0.5,\n",
    "                    showarrow=False,\n",
    "                    text='$P_{eff}=P_{peak} \\\\cdot \\\\gamma_{eff}$',\n",
    "                    xref='paper',\n",
    "                    yref='paper',\n",
    "                    xanchor='left',\n",
    "                    font=dict(\n",
    "                            size=20,\n",
    "                            color='rgb(33,33,33)')),\n",
    "                dict(\n",
    "                    x=0.7,\n",
    "                    y=0.5,\n",
    "                    showarrow=False,\n",
    "                    text='$\\\\gamma_{eff}=0.58$',\n",
    "                    xref='paper',\n",
    "                    yref='paper',\n",
    "                    xanchor='left',\n",
    "                    font=dict(\n",
    "                            size=20,\n",
    "                            color='rgb(33,33,33)')),\n",
    "                dict(\n",
    "                    x=1,\n",
    "                    y=0.5,\n",
    "                    showarrow=False,\n",
    "                    text='Eq. 9.12',\n",
    "                    xref='paper',\n",
    "                    yref='paper',\n",
    "                    xanchor='left',\n",
    "                    font=dict(\n",
    "                            size=19,\n",
    "                            color='rgb(33,33,33)'))]\n",
    "            )\n",
    "\n",
    "fig = dict(data=data, layout=layout)\n",
    "\n",
    "py.iplot(fig, filename='Eq')"
   ]
  },
  {
   "cell_type": "markdown",
   "metadata": {},
   "source": [
    "### 9.13"
   ]
  },
  {
   "cell_type": "code",
   "execution_count": null,
   "metadata": {},
   "outputs": [],
   "source": []
  }
 ],
 "metadata": {
  "kernelspec": {
   "display_name": "Python 3",
   "language": "python",
   "name": "python3"
  },
  "language_info": {
   "codemirror_mode": {
    "name": "ipython",
    "version": 3
   },
   "file_extension": ".py",
   "mimetype": "text/x-python",
   "name": "python",
   "nbconvert_exporter": "python",
   "pygments_lexer": "ipython3",
   "version": "3.6.5"
  }
 },
 "nbformat": 4,
 "nbformat_minor": 2
}
