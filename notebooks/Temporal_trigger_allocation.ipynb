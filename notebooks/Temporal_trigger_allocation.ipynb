{
 "cells": [
  {
   "cell_type": "markdown",
   "metadata": {},
   "source": [
    "### Import packages and log in to plotly"
   ]
  },
  {
   "cell_type": "code",
   "execution_count": 1,
   "metadata": {},
   "outputs": [],
   "source": [
    "import numpy as np\n",
    "import pandas as pd\n",
    "import plotly.plotly as py\n",
    "import plotly.graph_objs as go\n",
    "import plotly.figure_factory as ff\n",
    "\n",
    "import terminal_optimization.visualisation        as visualisation\n",
    "import terminal_optimization.forecast             as forecast\n",
    "import terminal_optimization.financial_analysis   as financial"
   ]
  },
  {
   "cell_type": "code",
   "execution_count": 2,
   "metadata": {},
   "outputs": [],
   "source": [
    "# Log in to Plotly servers\n",
    "import plotly\n",
    "plotly.tools.set_credentials_file(username='wijzermans', api_key='FKGDvSah3z5WCNREBZEq')\n",
    "#plotly.tools.set_credentials_file(username='wijnandijzermans', api_key='xeDEwwpCK3aLLR4TIrM9')\n",
    "\n",
    "# (*) To communicate with Plotly's server, sign in with credentials file\n",
    "import plotly.plotly as py  \n",
    "\n",
    "# (*) Useful Python/Plotly tools\n",
    "import plotly.tools as tls   \n",
    "\n",
    "# (*) Graph objects to piece together plots\n",
    "from plotly.graph_objs import *\n",
    "\n",
    "import matplotlib.pyplot as plt # (*) import matplotlib\n",
    "\n",
    "%matplotlib inline"
   ]
  },
  {
   "cell_type": "markdown",
   "metadata": {},
   "source": [
    "### Traffic projections"
   ]
  },
  {
   "cell_type": "code",
   "execution_count": 3,
   "metadata": {},
   "outputs": [],
   "source": [
    "###################################################################################################\n",
    "# Traffic projections on which estimate is based\n",
    "###################################################################################################\n",
    "\n",
    "# Import commodities from package\n",
    "maize = forecast.bulk_commodities(**forecast.maize_data)\n",
    "\n",
    "# Wheat - Probabilistic demand\n",
    "historic_demand_maize = [1000000,1200000,1180000,1210000,1250000]\n",
    "rate_maize  = 1.02\n",
    "mu_maize    = 0.01          # avg bonus rate added to base rate (% points)  - input for random method\n",
    "sigma_maize = 0.025         # standard deviation of bonus rate (% points)   - input for random method\n",
    "\n",
    "# Create traffic projections\n",
    "start_year = 2018\n",
    "simulation_window = 20\n",
    "traffic_projections = []\n",
    "for iterations in range(1001):\n",
    "    maize.random_scenario(start_year, simulation_window, historic_demand_maize  , rate_maize, mu_maize, sigma_maize)\n",
    "    traffic_projections.append(maize.demand)"
   ]
  },
  {
   "cell_type": "markdown",
   "metadata": {},
   "source": [
    "### Traffic Scenario (based on median NPQ)"
   ]
  },
  {
   "cell_type": "code",
   "execution_count": 4,
   "metadata": {},
   "outputs": [],
   "source": [
    "# Calculate the net present quantity of each projection\n",
    "project_WACC = 0.09\n",
    "WACC_factor = []\n",
    "for year in range (len(historic_demand_maize)):\n",
    "    WACC_factor.append(1.0)\n",
    "for year in range (simulation_window):\n",
    "    WACC_factor.append(1/((1+project_WACC)**(year)))\n",
    "\n",
    "traffic_matrix = np.zeros(shape=(len(traffic_projections), 2))\n",
    "for i in range(len(traffic_projections)):\n",
    "    traffic_matrix[i,0] = i\n",
    "    present_value_volume = []\n",
    "    for j in range(len(traffic_projections[i])):\n",
    "        present_value_volume.append(traffic_projections[i][j]*WACC_factor[j])\n",
    "    traffic_matrix[i,1] = int(np.sum(present_value_volume))\n",
    "\n",
    "df=pd.DataFrame(traffic_matrix, columns=['Iteration','NPQ'])\n",
    "\n",
    "# Select the median net present quantity\n",
    "median_iteration = df.loc[df['NPQ']==np.median(df['NPQ'])].index[0]\n",
    "maize.demand = traffic_projections[median_iteration]"
   ]
  },
  {
   "cell_type": "markdown",
   "metadata": {},
   "source": [
    "### Interim traffic projections (in the year 2030)"
   ]
  },
  {
   "cell_type": "code",
   "execution_count": 6,
   "metadata": {},
   "outputs": [],
   "source": [
    "historic_demand = maize.demand[8:13]\n",
    "historic_years  = maize.years[8:13]\n",
    "future_scenario = maize.demand[12:15]\n",
    "future_years    = maize.years[12:15]\n",
    "\n",
    "# Maize - Probabilistic demand\n",
    "rate_maize  = 1.02\n",
    "mu_maize    = 0.01          # avg bonus rate added to base rate (% points)  - input for random method\n",
    "sigma_maize = 0.025         # standard deviation of bonus rate (% points)   - input for random method\n",
    "\n",
    "# Create traffic projections\n",
    "start_year = 2025\n",
    "simulation_window = 2\n",
    "interim_projections = []\n",
    "interim_years = []\n",
    "for iterations in range(100):\n",
    "    scenario = forecast.create_scenario(2025, 3, historic_demand)\n",
    "    t, demand = scenario.random(rate_maize, mu_maize, sigma_maize)\n",
    "    interim_years.append(t)\n",
    "    interim_years[-1]=interim_years[-1][-3:]\n",
    "    interim_projections.append(demand)\n",
    "    interim_projections[-1]=interim_projections[-1][-3:]"
   ]
  },
  {
   "cell_type": "markdown",
   "metadata": {},
   "source": [
    "### Visualizations\n",
    "- Traffic scenario until now, with trigger placed on future foresight (perfect foresight method)\n",
    "- Traffic scenario until now, with trigger placed on current demand (current performance trigger) \n",
    "- Traffic scenario until now, with trigger placed on forecast based on interim projections (forecast trigger)"
   ]
  },
  {
   "cell_type": "markdown",
   "metadata": {},
   "source": [
    "### Perfect foresight method"
   ]
  },
  {
   "cell_type": "code",
   "execution_count": 126,
   "metadata": {},
   "outputs": [
    {
     "data": {
      "text/html": [
       "<iframe id=\"igraph\" scrolling=\"no\" style=\"border:none;\" seamless=\"seamless\" src=\"https://plot.ly/~wijzermans/99.embed\" height=\"525px\" width=\"100%\"></iframe>"
      ],
      "text/plain": [
       "<plotly.tools.PlotlyDisplay object>"
      ]
     },
     "execution_count": 126,
     "metadata": {},
     "output_type": "execute_result"
    }
   ],
   "source": [
    "# Visualize traffic scenario up until now\n",
    "data = []\n",
    "data.append(\n",
    "    go.Scatter(\n",
    "        x = historic_years,\n",
    "        y = historic_demand,\n",
    "        name = 'Materialized traffic',\n",
    "        marker = dict(\n",
    "            opacity = 0),\n",
    "        line = dict(\n",
    "            color = ('rgb(214, 39, 40)'),\n",
    "            width = 2)))\n",
    "\n",
    "# Visualize expected traffic scenario based on perfect foresight\n",
    "data.append(\n",
    "    go.Scatter(\n",
    "        x = future_years,\n",
    "        y = future_scenario,\n",
    "        name = 'Perfect foresight',\n",
    "        marker = dict(\n",
    "            opacity = 0),\n",
    "        line = dict(\n",
    "            color = ('rgb(214, 39, 40)'),\n",
    "            width = 2,\n",
    "            dash  = 'dot')))\n",
    "    \n",
    "# Edit the layout\n",
    "layout = dict(\n",
    "            title = 'Future based<br>triggers',\n",
    "            xaxis = dict(range = [2021,2028]),\n",
    "            yaxis = dict(title = 'Terminal throughput (t/year)',\n",
    "                         range = [1310000,1600000]),\n",
    "            showlegend = False,\n",
    "            legend=dict(\n",
    "                x=1.05,\n",
    "                y=1),\n",
    "            annotations=[\n",
    "                dict(\n",
    "                    x=1,\n",
    "                    y=-0.12,\n",
    "                    showarrow=False,\n",
    "                    text='Source: Own work',\n",
    "                    xref='paper',\n",
    "                    yref='paper'),\n",
    "                dict(\n",
    "                    x=2027,\n",
    "                    y=0.3,\n",
    "                    showarrow=False,\n",
    "                    text='Traffic volume on which performance<br> trigger is based',\n",
    "                    yref='paper',\n",
    "                    xanchor='center',\n",
    "                    font=dict(\n",
    "                        size=13))],\n",
    "            shapes=[\n",
    "                dict(\n",
    "                    type='line',\n",
    "                    x0=2027,\n",
    "                    y0=0,\n",
    "                    x1=2027,\n",
    "                    y1=0.27,\n",
    "                    yref='paper',\n",
    "                    line=dict(\n",
    "                        color='rgb(60, 60, 60)',\n",
    "                        width=3,\n",
    "                        dash='dashdot')),\n",
    "                dict(\n",
    "                    type='line',\n",
    "                    x0=2027,\n",
    "                    y0=0.42,\n",
    "                    x1=2027,\n",
    "                    y1=1.05,\n",
    "                    yref='paper',\n",
    "                    line=dict(\n",
    "                        color='rgb(60, 60, 60)',\n",
    "                        width=3,\n",
    "                        dash='dashdot'))]\n",
    "\n",
    ")\n",
    "\n",
    "fig = dict(data=data, layout=layout)\n",
    "py.iplot(fig, filename='Traffic projections')"
   ]
  },
  {
   "cell_type": "markdown",
   "metadata": {},
   "source": [
    "### Current performance method"
   ]
  },
  {
   "cell_type": "code",
   "execution_count": 125,
   "metadata": {},
   "outputs": [
    {
     "data": {
      "text/html": [
       "<iframe id=\"igraph\" scrolling=\"no\" style=\"border:none;\" seamless=\"seamless\" src=\"https://plot.ly/~wijzermans/99.embed\" height=\"525px\" width=\"100%\"></iframe>"
      ],
      "text/plain": [
       "<plotly.tools.PlotlyDisplay object>"
      ]
     },
     "execution_count": 125,
     "metadata": {},
     "output_type": "execute_result"
    }
   ],
   "source": [
    "# Visualize traffic scenario up until now\n",
    "data = []\n",
    "data.append(\n",
    "    go.Scatter(\n",
    "        x = historic_years,\n",
    "        y = historic_demand,\n",
    "        name = 'Materialized traffic',\n",
    "        marker = dict(\n",
    "            opacity = 0),\n",
    "        line = dict(\n",
    "            color = ('rgb(214, 39, 40)'),\n",
    "            width = 2)))\n",
    "    \n",
    "# Edit the layout\n",
    "layout = dict(\n",
    "            title = 'Current performance<br>triggers',\n",
    "            xaxis = dict(range = [2021,2028]),\n",
    "            yaxis = dict(title = 'Terminal throughput (t/year)',\n",
    "                         range = [1310000,1600000]),\n",
    "            showlegend = False,\n",
    "            legend=dict(\n",
    "                x=1.05,\n",
    "                y=1),\n",
    "            annotations=[\n",
    "                dict(\n",
    "                    x=1,\n",
    "                    y=-0.12,\n",
    "                    showarrow=False,\n",
    "                    text='Source: Own work',\n",
    "                    xref='paper',\n",
    "                    yref='paper'),\n",
    "                dict(\n",
    "                    x=2025,\n",
    "                    y=0.75,\n",
    "                    showarrow=False,\n",
    "                    text='Traffic volume on which performance<br> trigger is based',\n",
    "                    yref='paper',\n",
    "                    xanchor='center',\n",
    "                    font=dict(\n",
    "                        size=13))],\n",
    "            shapes=[\n",
    "                dict(\n",
    "                    type='line',\n",
    "                    x0=2025,\n",
    "                    y0=0,\n",
    "                    x1=2025,\n",
    "                    y1=0.62,\n",
    "                    yref='paper',\n",
    "                    line=dict(\n",
    "                        color='rgb(60, 60, 60)',\n",
    "                        width=3,\n",
    "                        dash='dashdot')),\n",
    "                dict(\n",
    "                    type='line',\n",
    "                    x0=2025,\n",
    "                    y0=0.77,\n",
    "                    x1=2025,\n",
    "                    y1=1.05,\n",
    "                    yref='paper',\n",
    "                    line=dict(\n",
    "                        color='rgb(60, 60, 60)',\n",
    "                        width=3,\n",
    "                        dash='dashdot'))]\n",
    "\n",
    ")\n",
    "\n",
    "fig = dict(data=data, layout=layout)\n",
    "py.iplot(fig, filename='Traffic projections')"
   ]
  },
  {
   "cell_type": "markdown",
   "metadata": {},
   "source": [
    "### Forecast based method"
   ]
  },
  {
   "cell_type": "code",
   "execution_count": 9,
   "metadata": {},
   "outputs": [
    {
     "data": {
      "text/html": [
       "<iframe id=\"igraph\" scrolling=\"no\" style=\"border:none;\" seamless=\"seamless\" src=\"https://plot.ly/~wijzermans/99.embed\" height=\"525px\" width=\"100%\"></iframe>"
      ],
      "text/plain": [
       "<plotly.tools.PlotlyDisplay object>"
      ]
     },
     "execution_count": 9,
     "metadata": {},
     "output_type": "execute_result"
    }
   ],
   "source": [
    "# Visualize traffic scenario up until now\n",
    "data = []\n",
    "data.append(\n",
    "    go.Scatter(\n",
    "        x = historic_years,\n",
    "        y = historic_demand,\n",
    "        name = 'Materialized traffic',\n",
    "        marker = dict(\n",
    "            opacity = 0),\n",
    "        line = dict(\n",
    "            color = ('rgb(214, 39, 40)'),\n",
    "            width = 2)))\n",
    "\n",
    "# Visualize interim traffic projections\n",
    "for i in range(len(interim_projections)):\n",
    "    if i == 0:\n",
    "        data.append(\n",
    "            go.Scatter(\n",
    "                x = interim_years[i],\n",
    "                y = interim_projections[i],\n",
    "                name = 'Traffic projections',\n",
    "                marker = dict(\n",
    "                    opacity = 0),\n",
    "                line = dict(\n",
    "                    shape ='spline',\n",
    "                    color = ('rgb(215, 215, 215, 0.3)'),\n",
    "                    width = 2)))\n",
    "    else:\n",
    "        data.append(\n",
    "            go.Scatter(\n",
    "                x = interim_years[i],\n",
    "                y = interim_projections[i],\n",
    "                name = 'Traffic projections',\n",
    "                marker = dict(\n",
    "                    opacity = 0),\n",
    "                showlegend = False,\n",
    "                line = dict(\n",
    "                    shape = 'spline',\n",
    "                    color = ('rgb(215, 215, 215, 0.3)'),\n",
    "                    width = 2)))\n",
    "    \n",
    "# Edit the layout\n",
    "layout = dict(\n",
    "            title = 'Forecast based<br>triggers',\n",
    "            yaxis = dict(title = 'Terminal throughput (t/year)'),\n",
    "            showlegend = False,\n",
    "            legend=dict(\n",
    "                x=1.05,\n",
    "                y=1),\n",
    "            annotations=[\n",
    "                dict(\n",
    "                    x=1,\n",
    "                    y=-0.12,\n",
    "                    showarrow=False,\n",
    "                    text='Source: Own work',\n",
    "                    xref='paper',\n",
    "                    yref='paper'),\n",
    "                dict(\n",
    "                    x=2027,\n",
    "                    y=0.15,\n",
    "                    showarrow=False,\n",
    "                    text='Traffic volumes on which performance<br> trigger is based',\n",
    "                    yref='paper',\n",
    "                    xanchor='center',\n",
    "                    font=dict(\n",
    "                        size=13))],\n",
    "            shapes=[\n",
    "                dict(\n",
    "                    type='line',\n",
    "                    x0=2027,\n",
    "                    y0=0,\n",
    "                    x1=2027,\n",
    "                    y1=0.12,\n",
    "                    yref='paper',\n",
    "                    line=dict(\n",
    "                        color='rgb(60, 60, 60)',\n",
    "                        width=3,\n",
    "                        dash='dashdot')),\n",
    "                dict(\n",
    "                    type='line',\n",
    "                    x0=2027,\n",
    "                    y0=0.27,\n",
    "                    x1=2027,\n",
    "                    y1=1.05,\n",
    "                    yref='paper',\n",
    "                    line=dict(\n",
    "                        color='rgb(60, 60, 60)',\n",
    "                        width=3,\n",
    "                        dash='dashdot'))]\n",
    "\n",
    ")\n",
    "\n",
    "fig = dict(data=data, layout=layout)\n",
    "py.iplot(fig, filename='Traffic projections')"
   ]
  }
 ],
 "metadata": {
  "kernelspec": {
   "display_name": "Python 3",
   "language": "python",
   "name": "python3"
  },
  "language_info": {
   "codemirror_mode": {
    "name": "ipython",
    "version": 3
   },
   "file_extension": ".py",
   "mimetype": "text/x-python",
   "name": "python",
   "nbconvert_exporter": "python",
   "pygments_lexer": "ipython3",
   "version": "3.6.5"
  }
 },
 "nbformat": 4,
 "nbformat_minor": 2
}
