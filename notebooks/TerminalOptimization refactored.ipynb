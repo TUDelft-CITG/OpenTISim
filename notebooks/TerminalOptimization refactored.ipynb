{
 "cells": [
  {
   "cell_type": "markdown",
   "metadata": {},
   "source": [
    "# Pump design tool"
   ]
  },
  {
   "cell_type": "markdown",
   "metadata": {},
   "source": [
    "* [**0. Import required libraries:**](#0.-Import-required-libraries)<br>\n",
    "* [**1. Source:**](#1.-Source)<br>\n",
    "* [**2. Prepare simulation objects:**](#2.-Prepare-simulation-objects)<br>\n",
    "* [**3. Instantiate pump system class:**](#3.-Instantiate-pump-system-class)<br>\n",
    "* [**4. Perform calculations:**](#4.-Perform-calculations)<br>"
   ]
  },
  {
   "cell_type": "markdown",
   "metadata": {},
   "source": [
    "## 0. Import required libraries"
   ]
  },
  {
   "cell_type": "code",
   "execution_count": 39,
   "metadata": {},
   "outputs": [],
   "source": [
    "# package for unique identifiers\n",
    "import uuid\n",
    "\n",
    "# package(s) for data handling\n",
    "import numpy as np\n",
    "\n",
    "# package(s) for plotting\n",
    "import matplotlib.pyplot as plt\n",
    "\n",
    "# terminal_optimization package\n",
    "from terminal_optimization import defaults\n",
    "from terminal_optimization import mixins"
   ]
  },
  {
   "cell_type": "markdown",
   "metadata": {},
   "source": [
    "## 1. Source"
   ]
  },
  {
   "cell_type": "markdown",
   "metadata": {},
   "source": [
    "### System classes"
   ]
  },
  {
   "cell_type": "code",
   "execution_count": 40,
   "metadata": {},
   "outputs": [],
   "source": [
    "# The generic berth class\n",
    "Berth = type('Berth', (mixins.identifiable_properties_mixin,      # Give it a name\n",
    "                       mixins.berth_properties_mixin,\n",
    "                       mixins.hascapex_properties_mixin,          # Give it capex info\n",
    "                       mixins.hasopex_properties_mixin,           # Give it opex info\n",
    "                       mixins.hasrevenue_properties_mixin,        # Give it revenue info\n",
    "                       mixins.hastriggers_properties_mixin),      # Give it investment triggers (lambda?)\n",
    "            {})                         # The dictionary is empty because the site type is generic"
   ]
  },
  {
   "cell_type": "code",
   "execution_count": 41,
   "metadata": {},
   "outputs": [],
   "source": [
    "# The generic crane class\n",
    "Crane = type('Crane', (mixins.identifiable_properties_mixin,      # Give it a name\n",
    "                       mixins.cyclic_properties_mixin,\n",
    "                       mixins.hascapex_properties_mixin,          # Give it capex info\n",
    "                       mixins.hasopex_properties_mixin,           # Give it opex info\n",
    "                       mixins.hasrevenue_properties_mixin,        # Give it revenue info\n",
    "                       mixins.hastriggers_properties_mixin),      # Give it investment triggers (lambda?)\n",
    "            {})                         # The dictionary is empty because the site type is generic"
   ]
  },
  {
   "cell_type": "code",
   "execution_count": 42,
   "metadata": {},
   "outputs": [],
   "source": [
    "# The generic storage class\n",
    "Storage = type('Storage', (mixins.identifiable_properties_mixin,  # Give it a name\n",
    "                       mixins.storage_properties_mixin,    \n",
    "                       mixins.hascapex_properties_mixin,          # Give it capex info\n",
    "                       mixins.hasopex_properties_mixin,           # Give it opex info\n",
    "                       mixins.hasrevenue_properties_mixin,        # Give it revenue info\n",
    "                       mixins.hastriggers_properties_mixin),      # Give it investment triggers (lambda?)\n",
    "            {})                         # The dictionary is empty because the site type is generic"
   ]
  },
  {
   "cell_type": "code",
   "execution_count": 43,
   "metadata": {},
   "outputs": [],
   "source": [
    "# The generic quay class\n",
    "Quay = type('Quay', (mixins.identifiable_properties_mixin,        # Give it a name\n",
    "                       mixins.quay_wall_properties_mixin,\n",
    "                       mixins.hascapex_properties_mixin,          # Give it capex info\n",
    "                       mixins.hasopex_properties_mixin,           # Give it opex info\n",
    "                       mixins.hasrevenue_properties_mixin,        # Give it revenue info\n",
    "                       mixins.hastriggers_properties_mixin),      # Give it investment triggers (lambda?)\n",
    "            {})                         # The dictionary is empty because the site type is generic"
   ]
  },
  {
   "cell_type": "code",
   "execution_count": 44,
   "metadata": {},
   "outputs": [],
   "source": [
    "# The generic conveyor class\n",
    "Conveyor = type('Conveyor', (mixins.identifiable_properties_mixin,# Give it a name\n",
    "                       mixins.conveyor_properties_mixin,\n",
    "                       mixins.hascapex_properties_mixin,          # Give it capex info\n",
    "                       mixins.hasopex_properties_mixin,           # Give it opex info\n",
    "                       mixins.hasrevenue_properties_mixin,        # Give it revenue info\n",
    "                       mixins.hastriggers_properties_mixin),      # Give it investment triggers (lambda?)\n",
    "            {})                         # The dictionary is empty because the site type is generic"
   ]
  },
  {
   "cell_type": "code",
   "execution_count": 45,
   "metadata": {},
   "outputs": [],
   "source": [
    "class system:\n",
    "    def __init__(self, elements = []):\n",
    "        self.elements = elements\n",
    "\n",
    "    def simulate(self, startyear, interval):\n",
    "        pass\n",
    "#         mockup code\n",
    "#         for year in range(startyear:startyear+interval):\n",
    "#             for element in self.elements:\n",
    "#                 element.investment_decision()\n",
    "            \n",
    "    def plot_system(self):\n",
    "        pass\n",
    "    \n",
    "    def NPV(self):\n",
    "        pass\n",
    "    "
   ]
  },
  {
   "cell_type": "markdown",
   "metadata": {},
   "source": [
    "## 2. Prepare simulation objects"
   ]
  },
  {
   "cell_type": "code",
   "execution_count": 46,
   "metadata": {},
   "outputs": [],
   "source": [
    "# Since all mixins exept for name are initialised with [] by default\n",
    "system_elements = []\n",
    "system_elements.append(Crane(**defaults.harbour_crane_data))\n",
    "system_elements.append(Storage(**defaults.silo_data))\n",
    "system_elements.append(Quay(**defaults.quay_data))\n",
    "system_elements.append(Conveyor(**defaults.quay_conveyor_data))\n",
    "\n",
    "# todo: Berth does not work properly yet because it contains also a quay object (enbable coupling!)\n",
    "# system_elements.append(Berth(**defaults.berth_data)) \n"
   ]
  },
  {
   "cell_type": "code",
   "execution_count": 47,
   "metadata": {},
   "outputs": [
    {
     "data": {
      "text/plain": [
       "{'elements': [<__main__.Crane at 0x25b9711ab70>,\n",
       "  <__main__.Storage at 0x25b9711acf8>,\n",
       "  <__main__.Quay at 0x25b9711ad68>,\n",
       "  <__main__.Conveyor at 0x25b9711ada0>]}"
      ]
     },
     "execution_count": 47,
     "metadata": {},
     "output_type": "execute_result"
    }
   ],
   "source": [
    "System = system(elements = system_elements)\n",
    "System.__dict__"
   ]
  },
  {
   "cell_type": "code",
   "execution_count": 48,
   "metadata": {},
   "outputs": [
    {
     "data": {
      "text/plain": [
       "{'capex': [],\n",
       " 'crane_type': 'Harbour crane crane',\n",
       " 'crew': 3,\n",
       " 'delivery_time': 1,\n",
       " 'demurrage': [],\n",
       " 'eff_fact': 0.55,\n",
       " 'effective_capacity': 616,\n",
       " 'energy': [],\n",
       " 'hourly_cycles': 40,\n",
       " 'id': '6feed9a4-4521-11e9-adbc-60f677ba2ce0',\n",
       " 'insurance': [],\n",
       " 'insurance_perc': 0.01,\n",
       " 'labour': [],\n",
       " 'lease': [],\n",
       " 'lifespan': 40,\n",
       " 'lifting_capacity': 40,\n",
       " 'maintenance': [],\n",
       " 'maintenance_perc': 0.02,\n",
       " 'mobilisation_perc': 0.15,\n",
       " 'name': 'quay01',\n",
       " 'ownership': 'Terminal operator',\n",
       " 'payload': 28,\n",
       " 'peak_capacity': 1120,\n",
       " 'renevue': [],\n",
       " 'residual': [],\n",
       " 't0_quantity': 0,\n",
       " 'triggers': [],\n",
       " 'unit_rate': 14000000,\n",
       " 'utilisation': 0.8}"
      ]
     },
     "execution_count": 48,
     "metadata": {},
     "output_type": "execute_result"
    }
   ],
   "source": [
    "System.elements[0].__dict__"
   ]
  }
 ],
 "metadata": {
  "kernelspec": {
   "display_name": "Python 3",
   "language": "python",
   "name": "python3"
  },
  "language_info": {
   "codemirror_mode": {
    "name": "ipython",
    "version": 3
   },
   "file_extension": ".py",
   "mimetype": "text/x-python",
   "name": "python",
   "nbconvert_exporter": "python",
   "pygments_lexer": "ipython3",
   "version": "3.6.3"
  }
 },
 "nbformat": 4,
 "nbformat_minor": 2
}
