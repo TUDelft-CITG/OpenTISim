{
 "cells": [
  {
   "cell_type": "markdown",
   "metadata": {},
   "source": [
    "# Pump design tool"
   ]
  },
  {
   "cell_type": "markdown",
   "metadata": {},
   "source": [
    "* [**0. Import required libraries:**](#0.-Import-required-libraries)<br>\n",
    "* [**1. Source:**](#1.-Source)<br>\n",
    "* [**2. Prepare simulation objects:**](#2.-Prepare-simulation-objects)<br>\n",
    "* [**3. Instantiate pump system class:**](#3.-Instantiate-pump-system-class)<br>\n",
    "* [**4. Perform calculations:**](#4.-Perform-calculations)<br>"
   ]
  },
  {
   "cell_type": "markdown",
   "metadata": {},
   "source": [
    "## 0. Import required libraries"
   ]
  },
  {
   "cell_type": "code",
   "execution_count": 66,
   "metadata": {},
   "outputs": [],
   "source": [
    "# package for unique identifiers\n",
    "import uuid\n",
    "\n",
    "# package(s) for data handling\n",
    "import numpy as np\n",
    "import pandas as pd\n",
    "\n",
    "# package(s) for plotting\n",
    "import matplotlib.pyplot as plt\n",
    "\n",
    "# terminal_optimization package\n",
    "from terminal_optimization import defaults\n",
    "from terminal_optimization import mixins"
   ]
  },
  {
   "cell_type": "markdown",
   "metadata": {},
   "source": [
    "## 1. Source"
   ]
  },
  {
   "cell_type": "markdown",
   "metadata": {},
   "source": [
    "### System classes"
   ]
  },
  {
   "cell_type": "code",
   "execution_count": 67,
   "metadata": {},
   "outputs": [],
   "source": [
    "# todo: we should move common properties to more general mixins"
   ]
  },
  {
   "cell_type": "code",
   "execution_count": 68,
   "metadata": {},
   "outputs": [],
   "source": [
    "# The generic berth class\n",
    "Berth = type('Berth', (mixins.identifiable_properties_mixin,      # Give it a name\n",
    "                       mixins.history_properties_mixin,           # Give it procurement history\n",
    "                       mixins.berth_properties_mixin,\n",
    "                       mixins.hascapex_properties_mixin,          # Give it capex info\n",
    "                       mixins.hasopex_properties_mixin,           # Give it opex info\n",
    "                       mixins.hasrevenue_properties_mixin,        # Give it revenue info\n",
    "                       mixins.hastriggers_properties_mixin),      # Give it investment triggers (lambda?)\n",
    "            {})                         # The dictionary is empty because the site type is generic"
   ]
  },
  {
   "cell_type": "code",
   "execution_count": 69,
   "metadata": {},
   "outputs": [],
   "source": [
    "# The generic crane class\n",
    "Crane = type('Crane', (mixins.identifiable_properties_mixin,      # Give it a name\n",
    "                       mixins.history_properties_mixin,           # Give it procurement history\n",
    "                       mixins.cyclic_properties_mixin,\n",
    "                       mixins.hascapex_properties_mixin,          # Give it capex info\n",
    "                       mixins.hasopex_properties_mixin,           # Give it opex info\n",
    "                       mixins.hasrevenue_properties_mixin,        # Give it revenue info\n",
    "                       mixins.hastriggers_properties_mixin),      # Give it investment triggers (lambda?)\n",
    "            {})                         # The dictionary is empty because the site type is generic"
   ]
  },
  {
   "cell_type": "code",
   "execution_count": 70,
   "metadata": {},
   "outputs": [],
   "source": [
    "# The generic storage class\n",
    "Storage = type('Storage', (mixins.identifiable_properties_mixin,  # Give it a name\n",
    "                       mixins.history_properties_mixin,           # Give it procurement history\n",
    "                       mixins.storage_properties_mixin,    \n",
    "                       mixins.hascapex_properties_mixin,          # Give it capex info\n",
    "                       mixins.hasopex_properties_mixin,           # Give it opex info\n",
    "                       mixins.hasrevenue_properties_mixin,        # Give it revenue info\n",
    "                       mixins.hastriggers_properties_mixin),      # Give it investment triggers (lambda?)\n",
    "            {})                         # The dictionary is empty because the site type is generic"
   ]
  },
  {
   "cell_type": "code",
   "execution_count": 71,
   "metadata": {},
   "outputs": [],
   "source": [
    "# The generic quay class\n",
    "Quay = type('Quay', (mixins.identifiable_properties_mixin,        # Give it a name\n",
    "                       mixins.history_properties_mixin,           # Give it procurement history\n",
    "                       mixins.quay_wall_properties_mixin,\n",
    "                       mixins.hascapex_properties_mixin,          # Give it capex info\n",
    "                       mixins.hasopex_properties_mixin,           # Give it opex info\n",
    "                       mixins.hasrevenue_properties_mixin,        # Give it revenue info\n",
    "                       mixins.hastriggers_properties_mixin),      # Give it investment triggers (lambda?)\n",
    "            {})                         # The dictionary is empty because the site type is generic\n"
   ]
  },
  {
   "cell_type": "code",
   "execution_count": 72,
   "metadata": {},
   "outputs": [],
   "source": [
    "# The generic conveyor class\n",
    "Conveyor = type('Conveyor', (mixins.identifiable_properties_mixin,# Give it a name\n",
    "                       mixins.history_properties_mixin,           # Give it procurement history\n",
    "                       mixins.conveyor_properties_mixin,\n",
    "                       mixins.hascapex_properties_mixin,          # Give it capex info\n",
    "                       mixins.hasopex_properties_mixin,           # Give it opex info\n",
    "                       mixins.hasrevenue_properties_mixin,        # Give it revenue info\n",
    "                       mixins.hastriggers_properties_mixin),      # Give it investment triggers (lambda?)\n",
    "            {})                         # The dictionary is empty because the site type is generic"
   ]
  },
  {
   "cell_type": "code",
   "execution_count": 73,
   "metadata": {},
   "outputs": [],
   "source": [
    "# online_quay_length = 0\n",
    "\n",
    "# for element in System.elements:\n",
    "#     if isinstance(element, Quay):\n",
    "#         online_quay_length += element.length\n",
    "        \n",
    "# print('a total of {} m of quay length is online'.format((online_quay_length)))"
   ]
  },
  {
   "cell_type": "code",
   "execution_count": 74,
   "metadata": {},
   "outputs": [],
   "source": [
    "class system:\n",
    "    def __init__(self, elements = [], startyear = 2019, lifecycle = 20):\n",
    "        self.elements = elements\n",
    "        self.startyear = startyear\n",
    "        self.lifecycle = lifecycle\n",
    "\n",
    "    def list_elements(self, obj):\n",
    "        \"\"\"return elements of type obj part of self.elements\"\"\"\n",
    "        list_of_elements = []\n",
    "        for element in System.elements:\n",
    "            if isinstance(element, obj):\n",
    "                list_of_elements.append(element)\n",
    "\n",
    "        return list_of_elements\n",
    "\n",
    "    def quay_invest(self, year, target_quay_length):\n",
    "        # *** current strategy is to add quay walls as long as target length is not yet achieved\n",
    "        # find out how much quay wall is online\n",
    "        \n",
    "        # from all Quay objects sum online length\n",
    "        list_of_elements = self.list_elements(Quay)\n",
    "        quay_length = 0\n",
    "        quay_length_online = 0\n",
    "        for element in list_of_elements:\n",
    "            quay_length += element.length\n",
    "            if year >= element.year_online:\n",
    "                quay_length_online += element.length\n",
    "\n",
    "        print('a total of {} m of quay length is online; {} m total planned'.format(quay_length_online, quay_length))\n",
    "\n",
    "        # check if total planned length is smaller than target length, if so add a quay\n",
    "        while quay_length < target_quay_length:\n",
    "            print('add Quay to elements')\n",
    "            quay = Quay(**defaults.quay_data)\n",
    "            quay.year_online = year + quay.delivery_time\n",
    "            \n",
    "            df = pd.DataFrame(index=range(self.startyear,self.startyear+self.lifecycle))\n",
    "            df['capex'] = 0\n",
    "            df.at[year, 'capex']=quay.unit_rate\n",
    "            df.at[range(year,self.startyear+self.lifecycle), 'maintenance'] = quay.unit_rate * quay.maintenance_perc\n",
    "            df.at[range(year,self.startyear+self.lifecycle), 'insurance'] = quay.unit_rate * quay.insurance_perc\n",
    "            quay.df = df\n",
    "\n",
    "            self.elements.append(quay)\n",
    "            # to do: add cost to cost matrix\n",
    "            \n",
    "            quay_length += quay.length\n",
    "\n",
    "        print('a total of {} m of quay length is online; {} m total planned'.format(quay_length_online, quay_length))\n",
    "\n",
    "    def storage_invest(self, year, storage_type, storage_trigger):\n",
    "        # *** current strategy is to add quay walls as long as target length is not yet achieved\n",
    "        # find out how much quay wall is online\n",
    "        \n",
    "        # from all Quay objects sum online length\n",
    "        list_of_elements = self.list_elements(storage_type)\n",
    "        storage = 0\n",
    "        storage_online = 0\n",
    "        for element in list_of_elements:\n",
    "            storage += element.silo_capacity\n",
    "            if year >= element.year_online:\n",
    "                storage_online += element.silo_capacity\n",
    "\n",
    "        print('a total of {} ton of storage capacity is online; {} ton total planned'.format(storage_online, storage))\n",
    "\n",
    "        # check if total planned length is smaller than target length, if so add a quay\n",
    "        while storage < storage_trigger:\n",
    "            print('add Storage to elements')\n",
    "            silo = Storage(**defaults.silo_data)\n",
    "            silo.year_online = year + silo.delivery_time\n",
    "            \n",
    "            df = pd.DataFrame(index=range(self.startyear,self.startyear+self.lifecycle))\n",
    "            df['capex'] = 0\n",
    "            df.at[year, 'capex']=silo.unit_rate\n",
    "            df.at[range(year,self.startyear+self.lifecycle), 'maintenance'] = silo.unit_rate * silo.maintenance_perc\n",
    "            df.at[range(year,self.startyear+self.lifecycle), 'insurance'] = silo.unit_rate * silo.insurance_perc\n",
    "            silo.df = df\n",
    "\n",
    "            self.elements.append(silo)\n",
    "            # to do: add cost to cost matrix\n",
    "            \n",
    "            storage += silo.silo_capacity\n",
    "\n",
    "        print('a total of {} ton of storage capacity is online; {} ton total planned'.format(storage_online, storage))\n",
    "        \n",
    "    def berth_invest(self, year, berth_occupancy):\n",
    "        # *** current strategy is to add quay walls as long as target length is not yet achieved\n",
    "        # find out how much quay wall is online\n",
    "        \n",
    "        # from all Quay objects sum online length\n",
    "        list_of_elements = self.list_elements(Berth)\n",
    "        quay_length = 0\n",
    "        quay_length_online = 0\n",
    "        for element in list_of_elements:\n",
    "            quay_length += element.length\n",
    "            if year >= element.year_online:\n",
    "                quay_length_online += element.length\n",
    "\n",
    "        print('a total of {} m of quay length is online; {} m total planned'.format(quay_length_online, quay_length))\n",
    "\n",
    "        # check if total planned length is smaller than target length, if so add a quay\n",
    "        while quay_length < target_quay_length:\n",
    "            print('add Quay to elements')\n",
    "            quay = Quay(**defaults.quay_data)\n",
    "            quay.year_online = year + quay.delivery_time\n",
    "            \n",
    "            df = pd.DataFrame(index=range(self.startyear,self.startyear+self.lifecycle))\n",
    "            df['capex'] = 0\n",
    "            df.at[year, 'capex']=quay.unit_rate\n",
    "            df['maintenance'] = quay.unit_rate * quay.maintenance_perc\n",
    "            df['insurance'] = quay.unit_rate * quay.insurance_perc\n",
    "            quay.df = df\n",
    "\n",
    "            self.elements.append(quay)\n",
    "            # to do: add cost to cost matrix\n",
    "            \n",
    "            quay_length += quay.length\n",
    "\n",
    "        print('a total of {} m of quay length is online; {} m total planned'.format(quay_length_online, quay_length))\n",
    "\n",
    "    def simulate(self, startyear = 2019, lifecycle = 20):\n",
    "        print('start')\n",
    "        for year in range(startyear,startyear+interval):\n",
    "            \n",
    "            timestep = year - start_year\n",
    "    \n",
    "            # *** for each element run investment trigger logic\n",
    "            for element in self.elements:\n",
    "                if isinstance(element, Berth):\n",
    "                    self.berth_invest_decision_waiting(terminal.berths, terminal.cranes, vessels, terminal.allowable_waiting_time, year, timestep, operational_hours)\n",
    "\n",
    "                if isinstance(element, Quay):\n",
    "                    quay_invest_decision(System, year, target_quay_length)\n",
    "                    self.quay_invest_decision(terminal.quays, terminal.berths, year, timestep)\n",
    "\n",
    "                if isinstance(element, Berth):\n",
    "                    pass\n",
    "\n",
    "                if isinstance(element, Storage):\n",
    "                    storage_type            = 'Silos'\n",
    "                    terminal.storage = invest.storage_invest_decision(terminal.storage, trigger_throughput_perc, aspired_throughput_perc, storage_type, commodities, year, timestep)\n",
    "\n",
    "                if isinstance(element, Loader):\n",
    "                    # Loading stations\n",
    "                    terminal.stations = invest.station_invest_decision(terminal.stations, station_utilisation, trigger_throughput_perc, aspired_throughput_perc, commodities, year, timestep, operational_hours)\n",
    "\n",
    "                if isinstance(element, Conveyor):\n",
    "                    # Conveyors\n",
    "                    terminal.quay_conveyors = invest.quay_conveyor_invest_decision(terminal.quay_conveyors, terminal.cranes, year, timestep, operational_hours)\n",
    "                    terminal.hinterland_conveyors = invest.hinterland_conveyor_invest_decision(terminal.hinterland_conveyors, terminal.stations, year, timestep, operational_hours)\n",
    "\n",
    "            # Terminal throughput\n",
    "            terminal = financial.throughput_calc(terminal, vessels, commodities, allowable_berth_occupancy, year, start_year, timestep, operational_hours)\n",
    "\n",
    "            # *** for updated terminal run financial calculations\n",
    "            terminal.revenues    = financial.revenue_calc(terminal.revenues, terminal.throughputs, commodities, year, timestep)\n",
    "            terminal.capex       = financial.capex_calc(terminal, year, timestep)\n",
    "            terminal.labour      = financial.labour_calc(terminal, year, timestep, operational_hours)\n",
    "            terminal.maintenance = financial.maintenance_calc(terminal, year, timestep)\n",
    "            terminal.energy      = financial.energy_calc(terminal, year, operational_hours, timestep)\n",
    "            terminal.insurance   = financial.insurance_calc(terminal, year, timestep)\n",
    "            terminal.lease       = financial.lease_calc(terminal, year,timestep)\n",
    "            terminal.demurrage   = financial.demurrage_calc(terminal.demurrage, terminal.berths, vessels, year, timestep)\n",
    "            terminal.residuals   = financial.residual_calc(terminal, year, timestep)\n",
    "            terminal.profits     = financial.profit_calc(terminal, simulation_window, timestep, year, start_year)\n",
    "            terminal.opex        = financial.opex_calc(terminal, year, timestep)  \n",
    "\n",
    "        #WACC depreciated profits\n",
    "        terminal.WACC_cashflows = financial.WACC_calc(terminal.project_WACC, terminal.profits, simulation_window, start_year)\n",
    "\n",
    "        # Combine all cashflows\n",
    "        terminal.cashflows = financial.cashflow_calc(terminal, simulation_window, start_year) \n",
    "\n",
    "        #NPV \n",
    "        terminal.NPV = financial.NPV_calc(terminal.WACC_cashflows)\n",
    "\n",
    "        return terminal\n",
    "\n",
    "    def plot_system(self):\n",
    "        pass\n",
    "    \n",
    "    def NPV(self):\n",
    "        pass\n",
    "    "
   ]
  },
  {
   "cell_type": "code",
   "execution_count": 75,
   "metadata": {},
   "outputs": [],
   "source": [
    "quay = Quay(**defaults.quay_data)"
   ]
  },
  {
   "cell_type": "markdown",
   "metadata": {},
   "source": [
    "## 2. Prepare simulation objects"
   ]
  },
  {
   "cell_type": "code",
   "execution_count": 76,
   "metadata": {},
   "outputs": [],
   "source": [
    "# start an empty system (green field terminal)\n",
    "System = []\n",
    "System = system(startyear = 2019, lifecycle = 20)"
   ]
  },
  {
   "cell_type": "markdown",
   "metadata": {},
   "source": [
    "## 3. Simulate "
   ]
  },
  {
   "cell_type": "code",
   "execution_count": 77,
   "metadata": {},
   "outputs": [
    {
     "name": "stdout",
     "output_type": "stream",
     "text": [
      "2020\n",
      "a total of 0 m of quay length is online; 0 m total planned\n",
      "add Quay to elements\n",
      "a total of 0 m of quay length is online; 400 m total planned\n",
      "a total of 0 ton of storage capacity is online; 0 ton total planned\n",
      "add Storage to elements\n",
      "add Storage to elements\n",
      "a total of 0 ton of storage capacity is online; 12000 ton total planned\n",
      "2021\n",
      "a total of 0 m of quay length is online; 400 m total planned\n",
      "a total of 0 m of quay length is online; 400 m total planned\n",
      "a total of 12000 ton of storage capacity is online; 12000 ton total planned\n",
      "a total of 12000 ton of storage capacity is online; 12000 ton total planned\n",
      "2022\n",
      "a total of 400 m of quay length is online; 400 m total planned\n",
      "add Quay to elements\n",
      "a total of 400 m of quay length is online; 800 m total planned\n",
      "a total of 12000 ton of storage capacity is online; 12000 ton total planned\n",
      "a total of 12000 ton of storage capacity is online; 12000 ton total planned\n",
      "2023\n",
      "a total of 400 m of quay length is online; 800 m total planned\n",
      "add Quay to elements\n",
      "a total of 400 m of quay length is online; 1200 m total planned\n",
      "a total of 12000 ton of storage capacity is online; 12000 ton total planned\n",
      "add Storage to elements\n",
      "a total of 12000 ton of storage capacity is online; 18000 ton total planned\n",
      "2024\n",
      "a total of 800 m of quay length is online; 1200 m total planned\n",
      "a total of 800 m of quay length is online; 1200 m total planned\n",
      "a total of 18000 ton of storage capacity is online; 18000 ton total planned\n",
      "a total of 18000 ton of storage capacity is online; 18000 ton total planned\n",
      "2025\n",
      "a total of 1200 m of quay length is online; 1200 m total planned\n",
      "a total of 1200 m of quay length is online; 1200 m total planned\n",
      "a total of 18000 ton of storage capacity is online; 18000 ton total planned\n",
      "a total of 18000 ton of storage capacity is online; 18000 ton total planned\n"
     ]
    }
   ],
   "source": [
    "print(2020)\n",
    "System.quay_invest(2020, 400)\n",
    "System.storage_invest(2020, Storage, 0.1*100000)\n",
    "print(2021)\n",
    "System.quay_invest(2021, 400)\n",
    "System.storage_invest(2021, Storage, 0.1*110000)\n",
    "print(2022)\n",
    "System.quay_invest(2022, 800)\n",
    "System.storage_invest(2022, Storage, 0.1*120000)\n",
    "print(2023)\n",
    "System.quay_invest(2023, 1200)\n",
    "System.storage_invest(2023, Storage, 0.1*130000)\n",
    "print(2024)\n",
    "System.quay_invest(2024, 1200)\n",
    "System.storage_invest(2024, Storage, 0.1*140000)\n",
    "print(2025)\n",
    "System.quay_invest(2025, 1200)\n",
    "System.storage_invest(2025, Storage, 0.1*150000)\n"
   ]
  },
  {
   "cell_type": "code",
   "execution_count": 80,
   "metadata": {},
   "outputs": [
    {
     "data": {
      "text/plain": [
       "{'capex': [],\n",
       " 'consumption': 0.002,\n",
       " 'crew': 1,\n",
       " 'delivery_time': 1,\n",
       " 'demurrage': [],\n",
       " 'df':       capex  maintenance  insurance\n",
       " 2019      0          NaN        NaN\n",
       " 2020      0          NaN        NaN\n",
       " 2021      0          NaN        NaN\n",
       " 2022      0          NaN        NaN\n",
       " 2023     60          1.2        0.6\n",
       " 2024      0          1.2        0.6\n",
       " 2025      0          1.2        0.6\n",
       " 2026      0          1.2        0.6\n",
       " 2027      0          1.2        0.6\n",
       " 2028      0          1.2        0.6\n",
       " 2029      0          1.2        0.6\n",
       " 2030      0          1.2        0.6\n",
       " 2031      0          1.2        0.6\n",
       " 2032      0          1.2        0.6\n",
       " 2033      0          1.2        0.6\n",
       " 2034      0          1.2        0.6\n",
       " 2035      0          1.2        0.6\n",
       " 2036      0          1.2        0.6\n",
       " 2037      0          1.2        0.6\n",
       " 2038      0          1.2        0.6,\n",
       " 'energy': [],\n",
       " 'id': 'de536092-45dd-11e9-b9c0-60f677ba2ce0',\n",
       " 'insurance': [],\n",
       " 'insurance_perc': 0.01,\n",
       " 'labour': [],\n",
       " 'lease': [],\n",
       " 'lifespan': 30,\n",
       " 'maintenance': [],\n",
       " 'maintenance_perc': 0.02,\n",
       " 'mobilisation_min': 200000,\n",
       " 'mobilisation_perc': 0.003,\n",
       " 'name': 'silo_01',\n",
       " 'ownership': 'Terminal operator',\n",
       " 'renevue': [],\n",
       " 'residual': [],\n",
       " 'silo_capacity': 6000,\n",
       " 'storage_type': 'Silos',\n",
       " 't0_capacity': 0,\n",
       " 'triggers': [],\n",
       " 'unit_rate': 60,\n",
       " 'year_online': 2024,\n",
       " 'year_purchase': []}"
      ]
     },
     "execution_count": 80,
     "metadata": {},
     "output_type": "execute_result"
    }
   ],
   "source": [
    "System.elements[-1].__dict__"
   ]
  },
  {
   "cell_type": "code",
   "execution_count": 15,
   "metadata": {},
   "outputs": [
    {
     "data": {
      "text/plain": [
       "{'Gijt_coefficient': 1.2878,\n",
       " 'Gijt_constant': 757.2,\n",
       " 'capex': [],\n",
       " 'delivery_time': 2,\n",
       " 'demurrage': [],\n",
       " 'depth': 14,\n",
       " 'df':          capex  maintenance  insurance\n",
       " 2019         0          NaN        NaN\n",
       " 2020         0          NaN        NaN\n",
       " 2021         0          NaN        NaN\n",
       " 2022  16000000     160000.0   160000.0\n",
       " 2023         0     160000.0   160000.0\n",
       " 2024         0     160000.0   160000.0\n",
       " 2025         0     160000.0   160000.0\n",
       " 2026         0     160000.0   160000.0\n",
       " 2027         0     160000.0   160000.0\n",
       " 2028         0     160000.0   160000.0\n",
       " 2029         0     160000.0   160000.0\n",
       " 2030         0     160000.0   160000.0\n",
       " 2031         0     160000.0   160000.0\n",
       " 2032         0     160000.0   160000.0\n",
       " 2033         0     160000.0   160000.0\n",
       " 2034         0     160000.0   160000.0\n",
       " 2035         0     160000.0   160000.0\n",
       " 2036         0     160000.0   160000.0\n",
       " 2037         0     160000.0   160000.0\n",
       " 2038         0     160000.0   160000.0,\n",
       " 'energy': [],\n",
       " 'freeboard': 4,\n",
       " 'id': '32548106-45cf-11e9-990a-60f677ba2ce0',\n",
       " 'insurance': [],\n",
       " 'insurance_perc': 0.01,\n",
       " 'labour': [],\n",
       " 'lease': [],\n",
       " 'length': 400,\n",
       " 'lifespan': 50,\n",
       " 'maintenance': [],\n",
       " 'maintenance_perc': 0.01,\n",
       " 'mobilisation_min': 2500000,\n",
       " 'mobilisation_perc': 0.02,\n",
       " 'name': 'quay_01',\n",
       " 'ownership': 'Port authority',\n",
       " 'renevue': [],\n",
       " 'residual': [],\n",
       " 't0_length': 0,\n",
       " 'triggers': [],\n",
       " 'unit_rate': 16000000,\n",
       " 'year_online': 2024,\n",
       " 'year_purchase': []}"
      ]
     },
     "execution_count": 15,
     "metadata": {},
     "output_type": "execute_result"
    }
   ],
   "source": [
    "System.elements[-2].__dict__"
   ]
  },
  {
   "cell_type": "code",
   "execution_count": 16,
   "metadata": {},
   "outputs": [
    {
     "data": {
      "text/plain": [
       "{'Gijt_coefficient': 1.2878,\n",
       " 'Gijt_constant': 757.2,\n",
       " 'capex': [],\n",
       " 'delivery_time': 2,\n",
       " 'demurrage': [],\n",
       " 'depth': 14,\n",
       " 'df':          capex  maintenance  insurance\n",
       " 2019         0          NaN        NaN\n",
       " 2020  16000000     160000.0   160000.0\n",
       " 2021         0     160000.0   160000.0\n",
       " 2022         0     160000.0   160000.0\n",
       " 2023         0     160000.0   160000.0\n",
       " 2024         0     160000.0   160000.0\n",
       " 2025         0     160000.0   160000.0\n",
       " 2026         0     160000.0   160000.0\n",
       " 2027         0     160000.0   160000.0\n",
       " 2028         0     160000.0   160000.0\n",
       " 2029         0     160000.0   160000.0\n",
       " 2030         0     160000.0   160000.0\n",
       " 2031         0     160000.0   160000.0\n",
       " 2032         0     160000.0   160000.0\n",
       " 2033         0     160000.0   160000.0\n",
       " 2034         0     160000.0   160000.0\n",
       " 2035         0     160000.0   160000.0\n",
       " 2036         0     160000.0   160000.0\n",
       " 2037         0     160000.0   160000.0\n",
       " 2038         0     160000.0   160000.0,\n",
       " 'energy': [],\n",
       " 'freeboard': 4,\n",
       " 'id': '3252ac50-45cf-11e9-a38e-60f677ba2ce0',\n",
       " 'insurance': [],\n",
       " 'insurance_perc': 0.01,\n",
       " 'labour': [],\n",
       " 'lease': [],\n",
       " 'length': 400,\n",
       " 'lifespan': 50,\n",
       " 'maintenance': [],\n",
       " 'maintenance_perc': 0.01,\n",
       " 'mobilisation_min': 2500000,\n",
       " 'mobilisation_perc': 0.02,\n",
       " 'name': 'quay_01',\n",
       " 'ownership': 'Port authority',\n",
       " 'renevue': [],\n",
       " 'residual': [],\n",
       " 't0_length': 0,\n",
       " 'triggers': [],\n",
       " 'unit_rate': 16000000,\n",
       " 'year_online': 2022,\n",
       " 'year_purchase': []}"
      ]
     },
     "execution_count": 16,
     "metadata": {},
     "output_type": "execute_result"
    }
   ],
   "source": [
    "System.elements[-3].__dict__"
   ]
  },
  {
   "cell_type": "code",
   "execution_count": 14,
   "metadata": {},
   "outputs": [
    {
     "name": "stdout",
     "output_type": "stream",
     "text": [
      "start\n"
     ]
    },
    {
     "ename": "NameError",
     "evalue": "name 'interval' is not defined",
     "output_type": "error",
     "traceback": [
      "\u001b[1;31m-------------\u001b[0m",
      "\u001b[1;31mNameError\u001b[0mTraceback (most recent call last)",
      "\u001b[1;32m<ipython-input-14-1bcd280ee9ca>\u001b[0m in \u001b[0;36m<module>\u001b[1;34m()\u001b[0m\n\u001b[1;32m----> 1\u001b[1;33m \u001b[0mSystem\u001b[0m\u001b[1;33m.\u001b[0m\u001b[0msimulate\u001b[0m\u001b[1;33m(\u001b[0m\u001b[1;36m2019\u001b[0m\u001b[1;33m,\u001b[0m \u001b[1;36m20\u001b[0m\u001b[1;33m)\u001b[0m\u001b[1;33m\u001b[0m\u001b[0m\n\u001b[0m",
      "\u001b[1;32m<ipython-input-9-6b1267e860ff>\u001b[0m in \u001b[0;36msimulate\u001b[1;34m(self, startyear, lifecycle)\u001b[0m\n\u001b[0;32m     86\u001b[0m     \u001b[1;32mdef\u001b[0m \u001b[0msimulate\u001b[0m\u001b[1;33m(\u001b[0m\u001b[0mself\u001b[0m\u001b[1;33m,\u001b[0m \u001b[0mstartyear\u001b[0m \u001b[1;33m=\u001b[0m \u001b[1;36m2019\u001b[0m\u001b[1;33m,\u001b[0m \u001b[0mlifecycle\u001b[0m \u001b[1;33m=\u001b[0m \u001b[1;36m20\u001b[0m\u001b[1;33m)\u001b[0m\u001b[1;33m:\u001b[0m\u001b[1;33m\u001b[0m\u001b[0m\n\u001b[0;32m     87\u001b[0m         \u001b[0mprint\u001b[0m\u001b[1;33m(\u001b[0m\u001b[1;34m'start'\u001b[0m\u001b[1;33m)\u001b[0m\u001b[1;33m\u001b[0m\u001b[0m\n\u001b[1;32m---> 88\u001b[1;33m         \u001b[1;32mfor\u001b[0m \u001b[0myear\u001b[0m \u001b[1;32min\u001b[0m \u001b[0mrange\u001b[0m\u001b[1;33m(\u001b[0m\u001b[0mstartyear\u001b[0m\u001b[1;33m,\u001b[0m\u001b[0mstartyear\u001b[0m\u001b[1;33m+\u001b[0m\u001b[0minterval\u001b[0m\u001b[1;33m)\u001b[0m\u001b[1;33m:\u001b[0m\u001b[1;33m\u001b[0m\u001b[0m\n\u001b[0m\u001b[0;32m     89\u001b[0m \u001b[1;33m\u001b[0m\u001b[0m\n\u001b[0;32m     90\u001b[0m             \u001b[0mtimestep\u001b[0m \u001b[1;33m=\u001b[0m \u001b[0myear\u001b[0m \u001b[1;33m-\u001b[0m \u001b[0mstart_year\u001b[0m\u001b[1;33m\u001b[0m\u001b[0m\n",
      "\u001b[1;31mNameError\u001b[0m: name 'interval' is not defined"
     ]
    }
   ],
   "source": [
    "System.simulate(2019, 20)"
   ]
  },
  {
   "cell_type": "code",
   "execution_count": null,
   "metadata": {},
   "outputs": [],
   "source": [
    "System.elements[2].__dict__"
   ]
  },
  {
   "cell_type": "code",
   "execution_count": null,
   "metadata": {},
   "outputs": [],
   "source": [
    "import pandas as pd"
   ]
  },
  {
   "cell_type": "code",
   "execution_count": null,
   "metadata": {},
   "outputs": [],
   "source": [
    "import pandas as pd\n",
    "capex = pd.DataFrame"
   ]
  },
  {
   "cell_type": "code",
   "execution_count": null,
   "metadata": {},
   "outputs": [],
   "source": [
    "# capex(years = System.elements[0].capex_years)"
   ]
  },
  {
   "cell_type": "code",
   "execution_count": null,
   "metadata": {},
   "outputs": [],
   "source": [
    "investment = 14_000_000\n",
    "crew = 3\n",
    "salary = 110_000\n",
    "lease_rate = 0.03 \n",
    "maintenance_rate = 0.02\n",
    "insurance_rate = 0.015\n",
    "energy_rate = 0.01\n",
    "\n",
    "df = pd.DataFrame(index=range(2019,2019+20))\n",
    "df['capex'] = 0\n",
    "df.at[2019, 'capex']=investment\n",
    "df['labour'] = crew * salary\n",
    "df['lease'] = investment * lease_rate\n",
    "df['maintenance'] = investment * maintenance_rate\n",
    "df['insurance'] = investment * insurance_rate\n",
    "df['energy'] = investment * energy_rate\n",
    "\n",
    "#  'demurrage': [],\n",
    "#  'labour': [],\n",
    "#  'lease': [],\n",
    "#  'renevue': [],\n",
    "#  'residual': [],\n",
    "#  'maintenance': [],\n",
    "#  'insurance': [],\n",
    "#  'energy': [],\n",
    "\n",
    "#  'crew': 3,\n",
    "#  'delivery_time': 1,\n",
    "#  'eff_fact': 0.55,\n",
    "#  'effective_capacity': 616,\n",
    "#  'hourly_cycles': 40,\n",
    "#  'id': 'f57a01b4-455b-11e9-9f09-60f677ba2ce0',\n",
    "#  'insurance_perc': 0.01,\n",
    "#  'lifespan': 40,\n",
    "#  'lifting_capacity': 40,\n",
    "#  'maintenance_perc': 0.02,\n",
    "#  'mobilisation_perc': 0.15,\n",
    "#  'name': 'harbour_crane_01',\n",
    "#  'ownership': 'Terminal operator',\n",
    "#  'payload': 28,\n",
    "#  'peak_capacity': 1120,\n",
    "#  't0_quantity': 0,\n",
    "#  'triggers': [],\n",
    "#  'unit_rate': 14000000,\n",
    "#  'utilisation': 0.8}\n"
   ]
  },
  {
   "cell_type": "code",
   "execution_count": null,
   "metadata": {},
   "outputs": [],
   "source": [
    "df"
   ]
  },
  {
   "cell_type": "code",
   "execution_count": null,
   "metadata": {},
   "outputs": [],
   "source": [
    "# def investment_decision(element, year):\n",
    "#     element.capex_years = set(list(range(year, year+element.lifespan)))\n",
    "#     element.capex = [None for i in element.capex_years]\n",
    "#     element.opex = [None for i in element.capex_years]"
   ]
  },
  {
   "cell_type": "code",
   "execution_count": null,
   "metadata": {},
   "outputs": [],
   "source": [
    "# investment_decision(System.elements[0], 2019)"
   ]
  },
  {
   "cell_type": "code",
   "execution_count": null,
   "metadata": {},
   "outputs": [],
   "source": [
    "# station_utilisation     = 0.60 # Loading station utilisation\n",
    "# trigger_throughput_perc = 80   # Percentage of hourly peak demand which triggers the investment in a new loading unit\n",
    "# aspired_throughput_perc = 120  # Aspired percentage of hourly peak demand which is realised due to the new loading unit\n",
    "# trigger_throughput_perc = 10   # Percentage of annual throughput which triggers the investment in a new storage unit\n",
    "# aspired_throughput_perc = 20   # Aspired of annual throughput which is realised due to the new storage unit\n",
    "# 'allowable_berth_occupancy': 0.4,\n",
    "# 'allowable_waiting_time': 0.4,"
   ]
  },
  {
   "cell_type": "code",
   "execution_count": null,
   "metadata": {
    "scrolled": false
   },
   "outputs": [],
   "source": [
    "System.elements[0].__dict__"
   ]
  },
  {
   "cell_type": "code",
   "execution_count": null,
   "metadata": {},
   "outputs": [],
   "source": [
    "System.elements[0].__dict__"
   ]
  },
  {
   "cell_type": "code",
   "execution_count": null,
   "metadata": {},
   "outputs": [],
   "source": [
    "# for element in System.elements:\n",
    "#     try:\n",
    "#         element.cost_years\n",
    "#     except AttributeError:\n",
    "#         print('what')\n",
    "#         element.cost_years = System.years"
   ]
  },
  {
   "cell_type": "code",
   "execution_count": null,
   "metadata": {},
   "outputs": [],
   "source": [
    "System.elements[0].__dict__"
   ]
  },
  {
   "cell_type": "markdown",
   "metadata": {},
   "source": [
    "## sandbox"
   ]
  },
  {
   "cell_type": "code",
   "execution_count": null,
   "metadata": {},
   "outputs": [],
   "source": [
    "a = set(list(range(2020, 2020+20)))\n",
    "b = set(list(range(2030, 2030+20)))\n",
    "c = a.intersection(b)"
   ]
  },
  {
   "cell_type": "code",
   "execution_count": null,
   "metadata": {},
   "outputs": [],
   "source": [
    "print(year)\n",
    "for element in self.elements:\n",
    "    print(element.name)\n",
    "    # element.investment_decision()\n",
    "\n",
    "#                 salary = 110_000\n",
    "#                 lease_rate = 0.03 \n",
    "#                 maintenance_rate = 0.02\n",
    "#                 energy_rate = 0.01\n",
    "\n",
    "    df = pd.DataFrame(index=range(startyear,startyear+lifecycle))\n",
    "    df['capex'] = 0\n",
    "    df.at[2019, 'capex']=element.unit_rate\n",
    "#                 df['labour'] = element.crew * salary\n",
    "#                 df['lease'] = element.unit_rate * lease_rate\n",
    "    df['maintenance'] = element.unit_rate * element.maintenance_perc\n",
    "    df['insurance'] = element.unit_rate * element.insurance_perc\n",
    "#                 df['energy'] = element.unit_rate * energy_rate\n",
    "\n",
    "    element.df = df\n",
    "            \n"
   ]
  },
  {
   "cell_type": "code",
   "execution_count": null,
   "metadata": {},
   "outputs": [],
   "source": [
    "c"
   ]
  },
  {
   "cell_type": "code",
   "execution_count": null,
   "metadata": {},
   "outputs": [],
   "source": [
    "System.elements[0].df"
   ]
  },
  {
   "cell_type": "code",
   "execution_count": null,
   "metadata": {},
   "outputs": [],
   "source": [
    "import matplotlib.pyplot as plt\n"
   ]
  },
  {
   "cell_type": "code",
   "execution_count": null,
   "metadata": {},
   "outputs": [],
   "source": [
    "df.labour"
   ]
  },
  {
   "cell_type": "code",
   "execution_count": null,
   "metadata": {},
   "outputs": [],
   "source": [
    "plt.bar(df.index, df.labour)"
   ]
  },
  {
   "cell_type": "code",
   "execution_count": null,
   "metadata": {},
   "outputs": [],
   "source": [
    "#         self.years = set(list(range(startyear,startyear+interval)))"
   ]
  }
 ],
 "metadata": {
  "kernelspec": {
   "display_name": "Python 3",
   "language": "python",
   "name": "python3"
  },
  "language_info": {
   "codemirror_mode": {
    "name": "ipython",
    "version": 3
   },
   "file_extension": ".py",
   "mimetype": "text/x-python",
   "name": "python",
   "nbconvert_exporter": "python",
   "pygments_lexer": "ipython3",
   "version": "3.6.3"
  }
 },
 "nbformat": 4,
 "nbformat_minor": 2
}
