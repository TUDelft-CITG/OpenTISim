{
 "cells": [
  {
   "cell_type": "code",
   "execution_count": 1,
   "metadata": {},
   "outputs": [
    {
     "name": "stdout",
     "output_type": "stream",
     "text": [
      "Stored 'PV_alt1_40_12500_500000' (float)\n",
      "Stored 'PV_alt1_40_12500_1000000' (float)\n",
      "Stored 'PV_alt1_40_12500_1500000' (float)\n",
      "Stored 'PV_alt2_40_12500_500000' (float)\n",
      "Stored 'PV_alt2_40_12500_1000000' (float)\n",
      "Stored 'PV_alt2_40_12500_1500000' (float)\n",
      "Stored 'PV_alt3_40_12500_500000' (float)\n",
      "Stored 'PV_alt3_40_12500_1000000' (float)\n",
      "Stored 'PV_alt3_40_12500_1500000' (float)\n"
     ]
    }
   ],
   "source": [
    "PV_alt1_40_12500_500000  = 2.3e+09\n",
    "PV_alt1_40_12500_1000000 = 2.4e+09\n",
    "PV_alt1_40_12500_1500000 = 2.5e+09\n",
    "\n",
    "PV_alt2_40_12500_500000  = 2.2e+09\n",
    "PV_alt2_40_12500_1000000 = 2.35e+09\n",
    "PV_alt2_40_12500_1500000 = 2.65e+09\n",
    "\n",
    "PV_alt3_40_12500_500000  = 2.15e+09\n",
    "PV_alt3_40_12500_1000000 = 2.45e+09\n",
    "PV_alt3_40_12500_1500000 = 2.55e+09\n",
    "\n",
    "%store PV_alt1_40_12500_500000 \n",
    "%store PV_alt1_40_12500_1000000\n",
    "%store PV_alt1_40_12500_1500000\n",
    "\n",
    "%store PV_alt2_40_12500_500000 \n",
    "%store PV_alt2_40_12500_1000000\n",
    "%store PV_alt2_40_12500_1500000\n",
    "\n",
    "%store PV_alt3_40_12500_500000 \n",
    "%store PV_alt3_40_12500_1000000\n",
    "%store PV_alt3_40_12500_1500000"
   ]
  },
  {
   "cell_type": "code",
   "execution_count": 2,
   "metadata": {},
   "outputs": [
    {
     "name": "stdout",
     "output_type": "stream",
     "text": [
      "Stored 'PV_alt1_40_12500_1000000_growth1' (float)\n",
      "Stored 'PV_alt1_40_12500_1000000_growth2' (float)\n",
      "Stored 'PV_alt1_40_12500_1000000_growth3' (float)\n",
      "Stored 'PV_alt1_40_12500_1000000_growth4' (float)\n",
      "Stored 'PV_alt2_40_12500_1000000_growth1' (float)\n",
      "Stored 'PV_alt2_40_12500_1000000_growth2' (float)\n",
      "Stored 'PV_alt2_40_12500_1000000_growth3' (float)\n",
      "Stored 'PV_alt2_40_12500_1000000_growth4' (float)\n",
      "Stored 'PV_alt3_40_12500_1000000_growth1' (float)\n",
      "Stored 'PV_alt3_40_12500_1000000_growth2' (float)\n",
      "Stored 'PV_alt3_40_12500_1000000_growth3' (float)\n",
      "Stored 'PV_alt3_40_12500_1000000_growth4' (float)\n"
     ]
    }
   ],
   "source": [
    "PV_alt1_40_12500_1000000_growth1 = 2.5e+09\n",
    "PV_alt1_40_12500_1000000_growth2 = 2.7e+09\n",
    "PV_alt1_40_12500_1000000_growth3 = 3.0e+09\n",
    "PV_alt1_40_12500_1000000_growth4 = 3.7e+09\n",
    "\n",
    "PV_alt2_40_12500_1000000_growth1 = 2.2e+09\n",
    "PV_alt2_40_12500_1000000_growth2 = 3.0e+09\n",
    "PV_alt2_40_12500_1000000_growth3 = 4.0e+09\n",
    "PV_alt2_40_12500_1000000_growth4 = 4.8e+09\n",
    "\n",
    "PV_alt3_40_12500_1000000_growth1 = 2.0e+09\n",
    "PV_alt3_40_12500_1000000_growth2 = 3.0e+09\n",
    "PV_alt3_40_12500_1000000_growth3 = 4.5e+09\n",
    "PV_alt3_40_12500_1000000_growth4 = 5.8e+09\n",
    "\n",
    "%store PV_alt1_40_12500_1000000_growth1\n",
    "%store PV_alt1_40_12500_1000000_growth2\n",
    "%store PV_alt1_40_12500_1000000_growth3\n",
    "%store PV_alt1_40_12500_1000000_growth4\n",
    "\n",
    "%store PV_alt2_40_12500_1000000_growth1\n",
    "%store PV_alt2_40_12500_1000000_growth2\n",
    "%store PV_alt2_40_12500_1000000_growth3\n",
    "%store PV_alt2_40_12500_1000000_growth4\n",
    "\n",
    "%store PV_alt3_40_12500_1000000_growth1\n",
    "%store PV_alt3_40_12500_1000000_growth2\n",
    "%store PV_alt3_40_12500_1000000_growth3\n",
    "%store PV_alt3_40_12500_1000000_growth4"
   ]
  },
  {
   "cell_type": "code",
   "execution_count": 3,
   "metadata": {},
   "outputs": [
    {
     "name": "stdout",
     "output_type": "stream",
     "text": [
      "Stored 'PV_alt1_40_12500_1000000_slope1' (float)\n",
      "Stored 'PV_alt1_40_12500_1000000_slope2' (float)\n",
      "Stored 'PV_alt1_40_12500_1000000_slope3' (float)\n",
      "Stored 'PV_alt2_40_12500_1000000_slope1' (float)\n",
      "Stored 'PV_alt2_40_12500_1000000_slope2' (float)\n",
      "Stored 'PV_alt2_40_12500_1000000_slope3' (float)\n",
      "Stored 'PV_alt3_40_12500_1000000_slope1' (float)\n",
      "Stored 'PV_alt3_40_12500_1000000_slope2' (float)\n",
      "Stored 'PV_alt3_40_12500_1000000_slope3' (float)\n"
     ]
    }
   ],
   "source": [
    "PV_alt1_40_12500_1000000_slope1 = 1.2e+09\n",
    "PV_alt1_40_12500_1000000_slope2 = 2.8e+09\n",
    "PV_alt1_40_12500_1000000_slope3 = 6.6e+09\n",
    "\n",
    "PV_alt2_40_12500_1000000_slope1 = 2.0e+09\n",
    "PV_alt2_40_12500_1000000_slope2 = 3.0e+09\n",
    "PV_alt2_40_12500_1000000_slope3 = 4.5e+09\n",
    "\n",
    "PV_alt3_40_12500_1000000_slope1 = 2.8e+09\n",
    "PV_alt3_40_12500_1000000_slope2 = 3.2e+09\n",
    "PV_alt3_40_12500_1000000_slope3 = 4.9e+09\n",
    "\n",
    "%store PV_alt1_40_12500_1000000_slope1\n",
    "%store PV_alt1_40_12500_1000000_slope2\n",
    "%store PV_alt1_40_12500_1000000_slope3\n",
    "\n",
    "%store PV_alt2_40_12500_1000000_slope1\n",
    "%store PV_alt2_40_12500_1000000_slope2\n",
    "%store PV_alt2_40_12500_1000000_slope3\n",
    "\n",
    "%store PV_alt3_40_12500_1000000_slope1\n",
    "%store PV_alt3_40_12500_1000000_slope2\n",
    "%store PV_alt3_40_12500_1000000_slope3"
   ]
  },
  {
   "cell_type": "code",
   "execution_count": null,
   "metadata": {},
   "outputs": [],
   "source": [
    "PV_alt2_40_12500_1000000_downtime0 = 2.5e+09\n",
    "PV_alt2_40_12500_1000000_downtime1 = 3.1e+09\n",
    "PV_alt2_40_12500_1000000_downtime2 = 4.1e+09\n",
    "PV_alt2_40_12500_1000000_downtime3 = 5.2e+09\n",
    "PV_alt2_40_12500_1000000_downtime4 = 7.2e+09\n",
    "\n",
    "%store PV_alt2_40_12500_1000000_downtime0\n",
    "%store PV_alt2_40_12500_1000000_downtime1\n",
    "%store PV_alt2_40_12500_1000000_downtime2\n",
    "%store PV_alt2_40_12500_1000000_downtime3\n",
    "%store PV_alt2_40_12500_1000000_downtime4\n"
   ]
  },
  {
   "cell_type": "code",
   "execution_count": 4,
   "metadata": {},
   "outputs": [
    {
     "name": "stdout",
     "output_type": "stream",
     "text": [
      "Stored 'PV_alt2_40_12500_1000000_downtime1_15000' (float)\n",
      "2800000000.0\n"
     ]
    }
   ],
   "source": [
    "%store -r offshore_capacity\n",
    "%store -r downtime_scenario\n",
    "offshore_capacity = 15_000\n",
    "downtime_scenario = 1\n",
    "\n",
    "if offshore_capacity == 10_000:\n",
    "    if downtime_scenario == 1:\n",
    "        PV_alt2_40_12500_1000000_downtime1_10000 = 2.1e+09\n",
    "        %store PV_alt2_40_12500_1000000_downtime1_10000\n",
    "    if downtime_scenario == 2:\n",
    "        PV_alt2_40_12500_1000000_downtime2_10000 = 3.3e+09\n",
    "        %store PV_alt2_40_12500_1000000_downtime2_10000 \n",
    "    if downtime_scenario == 3:\n",
    "        PV_alt2_40_12500_1000000_downtime3_10000 = 6.1e+09\n",
    "        %store PV_alt2_40_12500_1000000_downtime3_10000\n",
    "        \n",
    "if offshore_capacity == 15_000:\n",
    "    if downtime_scenario == 1:\n",
    "        PV_alt2_40_12500_1000000_downtime1_15000 = 2.8e+09\n",
    "        %store PV_alt2_40_12500_1000000_downtime1_15000\n",
    "    if downtime_scenario == 2:\n",
    "        PV_alt2_40_12500_1000000_downtime2_15000 = 3.1e+09\n",
    "        %store PV_alt2_40_12500_1000000_downtime2_15000 \n",
    "    if downtime_scenario == 3:\n",
    "        PV_alt2_40_12500_1000000_downtime3_15000 = 4.1e+09\n",
    "        %store PV_alt2_40_12500_1000000_downtime3_15000\n",
    "    \n",
    "if offshore_capacity == 20_000:\n",
    "    if downtime_scenario == 1:\n",
    "        PV_alt2_40_12500_1000000_downtime1_20000 = 4.1e+09\n",
    "        %store PV_alt2_40_12500_1000000_downtime1_20000\n",
    "    if downtime_scenario == 2:\n",
    "        PV_alt2_40_12500_1000000_downtime2_20000 = 3.7e+09\n",
    "        %store PV_alt2_40_12500_1000000_downtime2_20000 \n",
    "    if downtime_scenario == 3:\n",
    "        PV_alt2_40_12500_1000000_downtime3_20000 = 3.1e+09\n",
    "        %store PV_alt2_40_12500_1000000_downtime3_20000\n",
    "        \n",
    "print(PV_alt2_40_12500_1000000_downtime1_15000)"
   ]
  },
  {
   "cell_type": "code",
   "execution_count": 5,
   "metadata": {},
   "outputs": [
    {
     "name": "stdout",
     "output_type": "stream",
     "text": [
      "Stored 'PV_alt2_40_12500_1000000_hinterland1' (float)\n",
      "Stored 'PV_alt2_40_12500_1000000_hinterland2' (float)\n",
      "Stored 'PV_alt2_40_12500_1000000_hinterland3' (float)\n",
      "Stored 'PV_alt3_40_12500_1000000_hinterland1' (float)\n",
      "Stored 'PV_alt3_40_12500_1000000_hinterland2' (float)\n",
      "Stored 'PV_alt3_40_12500_1000000_hinterland3' (float)\n"
     ]
    }
   ],
   "source": [
    "# if offshore_distance == 40:  \n",
    "#     if design_container_ship == 12500:\n",
    "#         if barge_perc = 25:\n",
    "#             PV_alt2_40_12500_1000000_hinterland1 = PV\n",
    "#             %store PV_alt2_40_12500_1000000_hinterland1\n",
    "            \n",
    "#             PV_alt3_40_12500_1000000_hinterland3 = PV\n",
    "#             %store PV_alt3_40_12500_1000000_hinterland3\n",
    "            \n",
    "#         if barge_perc = 50:\n",
    "#             PV_alt2_40_12500_1000000_hinterland2 = PV\n",
    "#             %store PV_alt2_40_12500_1000000_hinterland2\n",
    "            \n",
    "#             PV_alt3_40_12500_1000000_hinterland2 = PV\n",
    "#             %store PV_alt3_40_12500_1000000_hinterland2\n",
    "\n",
    "#         if barge_perc = 75:\n",
    "#             PV_alt2_40_12500_1000000_hinterland3 = PV\n",
    "#             %store PV_alt2_40_12500_1000000_hinterland3\n",
    "            \n",
    "#             PV_alt3_40_12500_1000000_hinterland1 = PV\n",
    "#             %store PV_alt3_40_12500_1000000_hinterland1\n",
    "            \n",
    "PV_alt2_40_12500_1000000_hinterland1 = 4.5e+09  # percentage barge: 25\n",
    "PV_alt2_40_12500_1000000_hinterland2 = 3.8e+09  # percentage barge: 50\n",
    "PV_alt2_40_12500_1000000_hinterland3 = 2.1e+09  # percentage barge: 75\n",
    "\n",
    "PV_alt3_40_12500_1000000_hinterland1 = 2.5e+09  # percentage barge: 75\n",
    "PV_alt3_40_12500_1000000_hinterland2 = 3.6e+09  # percentage barge: 50\n",
    "PV_alt3_40_12500_1000000_hinterland3 = 4.1e+09  # percentage barge: 25\n",
    "\n",
    "%store PV_alt2_40_12500_1000000_hinterland1\n",
    "%store PV_alt2_40_12500_1000000_hinterland2\n",
    "%store PV_alt2_40_12500_1000000_hinterland3\n",
    "\n",
    "%store PV_alt3_40_12500_1000000_hinterland1\n",
    "%store PV_alt3_40_12500_1000000_hinterland2\n",
    "%store PV_alt3_40_12500_1000000_hinterland3"
   ]
  },
  {
   "cell_type": "code",
   "execution_count": null,
   "metadata": {},
   "outputs": [],
   "source": []
  }
 ],
 "metadata": {
  "kernelspec": {
   "display_name": "Python 3",
   "language": "python",
   "name": "python3"
  },
  "language_info": {
   "codemirror_mode": {
    "name": "ipython",
    "version": 3
   },
   "file_extension": ".py",
   "mimetype": "text/x-python",
   "name": "python",
   "nbconvert_exporter": "python",
   "pygments_lexer": "ipython3",
   "version": "3.7.3"
  }
 },
 "nbformat": 4,
 "nbformat_minor": 2
}
