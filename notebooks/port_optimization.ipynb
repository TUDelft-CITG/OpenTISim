{
 "cells": [
  {
   "cell_type": "code",
   "execution_count": 1,
   "metadata": {},
   "outputs": [],
   "source": [
    "import json\n",
    "import numpy as np\n",
    "import pandas as pd\n",
    "from copy import copy"
   ]
  },
  {
   "cell_type": "code",
   "execution_count": 2,
   "metadata": {},
   "outputs": [],
   "source": [
    "import terminal_optimization.visualisation        as visualisation\n",
    "import terminal_optimization.forecast             as forecast\n",
    "import terminal_optimization.investment_decisions as invest\n",
    "import terminal_optimization.infrastructure       as infra\n",
    "import terminal_optimization.financial_analysis   as financial\n",
    "import terminal_optimization.initial_terminal     as initial"
   ]
  },
  {
   "cell_type": "markdown",
   "metadata": {},
   "source": [
    "# 1 Scenario Generator"
   ]
  },
  {
   "cell_type": "code",
   "execution_count": 3,
   "metadata": {},
   "outputs": [],
   "source": [
    "def scenario_generator(start_year, simulation_window):\n",
    "    \n",
    "    # Import vessels from package\n",
    "    handysize = forecast.vessel(**forecast.handysize_data)\n",
    "    handymax  = forecast.vessel(**forecast.handymax_data)\n",
    "    panamax   = forecast.vessel(**forecast.panamax_data)\n",
    "    vessels = [handysize, handymax, panamax]\n",
    "    \n",
    "    # Import commodities from package\n",
    "    maize   = forecast.bulk_commodities(**forecast.maize_data)\n",
    "    soybean = forecast.bulk_commodities(**forecast.maize_data)\n",
    "    wheat   = forecast.bulk_commodities(**forecast.wheat_data)\n",
    "\n",
    "    # Maize - Linear demand\n",
    "    demand_maize  = 1000000        # demand at t=0\n",
    "    growth_maize  = 100000       \n",
    "\n",
    "    # Soybean - Exponential demand\n",
    "    demand_soybean = 1000000\n",
    "    rate_soybean   = 1.06          # year on year growth rate of demand (% points) - input for constant method and random method\n",
    "\n",
    "    # Wheat - Probabilistic demand\n",
    "    demand_wheat   = 1000000\n",
    "    rate_wheat     = 1.05\n",
    "    mu_wheat       = 0.01          # avg bonus rate added to base rate (% points)  - input for random method\n",
    "    sigma_wheat    = 0.015         # standard deviation of bonus rate (% points)   - input for random method\n",
    "\n",
    "    # Create forecast\n",
    "    maize.linear_forecast(vessels, start_year, simulation_window, demand_maize, growth_maize)\n",
    "    soybean.exponential_forecast(vessels, start_year, simulation_window, demand_soybean, rate_soybean)\n",
    "    wheat.random_forecast(vessels, start_year, simulation_window, demand_wheat, rate_wheat, mu_wheat, sigma_wheat)\n",
    "    commodities = [maize, soybean, wheat]\n",
    "    \n",
    "    # Calculate yearly calls\n",
    "    vessels = forecast.vessel_call_calc(maize, soybean, wheat, vessels)\n",
    "\n",
    "    # Plot forecast\n",
    "    visualisation.trend(maize, soybean, wheat, 10, 5)\n",
    "    \n",
    "    return vessels, commodities"
   ]
  },
  {
   "cell_type": "markdown",
   "metadata": {},
   "source": [
    "# 2 Simulator"
   ]
  },
  {
   "cell_type": "code",
   "execution_count": 4,
   "metadata": {},
   "outputs": [],
   "source": [
    "def simulate(vessels, commodities, terminal, start_year, simulation_window):\n",
    "    \n",
    "    for i in range (start_year, start_year + simulation_window):\n",
    "        year = i \n",
    "        timestep = year - start_year\n",
    "\n",
    "        ######################\n",
    "        # Investment Decisions\n",
    "        ######################           \n",
    "        \n",
    "        # Berths\n",
    "        allowable_berth_occupancy = 0.15\n",
    "        terminal.berths, terminal.cranes = invest.berth_invest_decision(terminal.berths, terminal.cranes, allowable_berth_occupancy, vessels, year, timestep, operational_hours)\n",
    "        \n",
    "        # Quay\n",
    "        quays = invest.quay_invest_decision(quays, berths, quay_object, year, timestep)\n",
    "\n",
    "        # Cranes \n",
    "        cranes = invest.crane_invest_decision(cranes, berths, cranes_object, year, timestep)\n",
    "\n",
    "        # Storage\n",
    "        storage_type            = 'Silos'\n",
    "        trigger_throughput_perc = 10  # Percentage of annual throughput which triggers the investment in a new storage unit\n",
    "        aspired_throughput_perc = 20  # Aspired of annual throughput which is realised due to the new storage unit\n",
    "        storage = invest.storage_invest_decision(storage, storage_object, trigger_throughput_perc, aspired_throughput_perc, storage_type, commodities, year, timestep)\n",
    "\n",
    "        # Loading stations\n",
    "        station_utilisation     = 0.60 # Loading station utilisation\n",
    "        trigger_throughput_perc = 80   # Percentage of hourly peak demand which triggers the investment in a new loading unit\n",
    "        aspired_throughput_perc = 120  # Aspired percentage of hourly peak demand which is realised due to the new loading unit\n",
    "        stations = invest.station_invest_decision(stations, station_object, station_utilisation, trigger_throughput_perc, aspired_throughput_perc, commodities, year, timestep, operational_hours)\n",
    "\n",
    "        # Conveyors\n",
    "        q_conveyors = invest.quay_conveyor_invest_decision(q_conveyors, cranes, quay_conveyor_object, year, timestep, operational_hours)\n",
    "        h_conveyors = invest.hinterland_conveyor_invest_decision(h_conveyors, stations, hinterland_conveyor_object, year, timestep, operational_hours)\n",
    "\n",
    "        ######################\n",
    "        # Business Logic\n",
    "        ######################\n",
    "\n",
    "        # Terminal throughput\n",
    "        throughputs = financial.throughput_calc(throughputs, commodities, berths, cranes, year, timestep, operational_hours)\n",
    "\n",
    "        # Revenues\n",
    "        revenues = financial.revenue_calc(revenues, commodities, throughputs, year, timestep)\n",
    "\n",
    "        # Capex\n",
    "        capex = financial.capex_calc(capex, quays, cranes, storage, stations, q_conveyors, h_conveyors, year, timestep)\n",
    "\n",
    "        # Labour costs\n",
    "        labour = financial.labour_calc(labour, cranes, storage, stations, q_conveyors, h_conveyors, year, timestep, operational_hours)\n",
    "\n",
    "        # Maintenance costs\n",
    "        maintenance = financial.maintenance_calc(maintenance, quays, cranes, storage, stations, q_conveyors, h_conveyors, year, timestep)\n",
    "\n",
    "        # Energy costs\n",
    "        energy = financial.energy_calc(energy, berths, cranes, storage, stations, q_conveyors, h_conveyors, year, operational_hours, timestep)\n",
    "\n",
    "        # Insurance costs\n",
    "        insurance = financial.insurance_calc(insurance, quays, cranes, storage, stations, q_conveyors, h_conveyors, year, timestep)\n",
    "\n",
    "        # Lease costs \n",
    "        lease = financial.lease_calc(lease, year,timestep)\n",
    "\n",
    "        # Demurrage costs\n",
    "        demurrage = financial.demurrage_calc(demurrage, year, berths, vessels, timestep)\n",
    "\n",
    "        # Residual value calculations \n",
    "        residuals = financial.residual_calc(residuals, quays, cranes, storage, stations, q_conveyors, h_conveyors, year, timestep)\n",
    "\n",
    "        # Profits\n",
    "        profits = financial.profit_calc(profits, revenues, capex, labour, maintenance, energy, insurance, lease, demurrage, residuals, simulation_window, timestep, year, start_year)\n",
    "        \n",
    "        # Opex\n",
    "        opex = financial.opex_calc(opex, labour, maintenance, energy, insurance, lease, demurrage, year, timestep)\n",
    "        \n",
    "        # WACC depreciated profits\n",
    "        #profits_WACC = financial.WACC_calc(profits, simulation_window)\n",
    "            \n",
    "    return quays, berths, cranes, storage, stations, q_conveyors, h_conveyors, throughputs, revenues, capex, labour, maintenance, energy, insurance, lease, demurrage, residuals, profits, opex"
   ]
  },
  {
   "cell_type": "markdown",
   "metadata": {},
   "source": [
    "# Simulation Run"
   ]
  },
  {
   "cell_type": "code",
   "execution_count": 5,
   "metadata": {
    "scrolled": false
   },
   "outputs": [
    {
     "ename": "AttributeError",
     "evalue": "'berth_class' object has no attribute 'pending_occupancy'",
     "output_type": "error",
     "traceback": [
      "\u001b[1;31m---------------------------------------------------------------------------\u001b[0m",
      "\u001b[1;31mAttributeError\u001b[0m                            Traceback (most recent call last)",
      "\u001b[1;32m<ipython-input-5-4608a23187bf>\u001b[0m in \u001b[0;36m<module>\u001b[1;34m()\u001b[0m\n\u001b[0;32m      9\u001b[0m \u001b[1;31m# Import existing terminal infrastructure\u001b[0m\u001b[1;33m\u001b[0m\u001b[1;33m\u001b[0m\u001b[0m\n\u001b[0;32m     10\u001b[0m \u001b[0mterminal\u001b[0m \u001b[1;33m=\u001b[0m \u001b[0minitial\u001b[0m\u001b[1;33m.\u001b[0m\u001b[0mterminal\u001b[0m\u001b[1;33m(\u001b[0m\u001b[1;33m)\u001b[0m\u001b[1;33m\u001b[0m\u001b[0m\n\u001b[1;32m---> 11\u001b[1;33m \u001b[0mquays\u001b[0m\u001b[1;33m,\u001b[0m \u001b[0mberths\u001b[0m\u001b[1;33m,\u001b[0m \u001b[0mcranes\u001b[0m\u001b[1;33m,\u001b[0m \u001b[0mstorage\u001b[0m\u001b[1;33m,\u001b[0m \u001b[0mstations\u001b[0m\u001b[1;33m,\u001b[0m \u001b[0mq_conveyors\u001b[0m\u001b[1;33m,\u001b[0m \u001b[0mh_conveyors\u001b[0m\u001b[1;33m,\u001b[0m \u001b[0mthroughputs\u001b[0m\u001b[1;33m,\u001b[0m \u001b[0mrevenues\u001b[0m\u001b[1;33m,\u001b[0m \u001b[0mcapex\u001b[0m\u001b[1;33m,\u001b[0m \u001b[0mlabour\u001b[0m\u001b[1;33m,\u001b[0m \u001b[0mmaintenance\u001b[0m\u001b[1;33m,\u001b[0m \u001b[0menergy\u001b[0m\u001b[1;33m,\u001b[0m \u001b[0minsurance\u001b[0m\u001b[1;33m,\u001b[0m \u001b[0mlease\u001b[0m\u001b[1;33m,\u001b[0m \u001b[0mdemurrage\u001b[0m\u001b[1;33m,\u001b[0m \u001b[0mresiduals\u001b[0m\u001b[1;33m,\u001b[0m \u001b[0mprofits\u001b[0m\u001b[1;33m,\u001b[0m \u001b[0mopex\u001b[0m \u001b[1;33m=\u001b[0m \u001b[0msimulate\u001b[0m\u001b[1;33m(\u001b[0m\u001b[0mvessels\u001b[0m\u001b[1;33m,\u001b[0m \u001b[0mcommodities\u001b[0m\u001b[1;33m,\u001b[0m \u001b[0mstart_year\u001b[0m\u001b[1;33m,\u001b[0m \u001b[0msimulation_window\u001b[0m\u001b[1;33m)\u001b[0m\u001b[1;33m\u001b[0m\u001b[0m\n\u001b[0m",
      "\u001b[1;32m<ipython-input-4-794b9e7dd82e>\u001b[0m in \u001b[0;36msimulate\u001b[1;34m(vessels, commodities, start_year, simulation_window)\u001b[0m\n\u001b[0;32m     22\u001b[0m         \u001b[1;31m# Berths\u001b[0m\u001b[1;33m\u001b[0m\u001b[1;33m\u001b[0m\u001b[0m\n\u001b[0;32m     23\u001b[0m         \u001b[0mallowable_berth_occupancy\u001b[0m \u001b[1;33m=\u001b[0m \u001b[1;36m0.15\u001b[0m\u001b[1;33m\u001b[0m\u001b[0m\n\u001b[1;32m---> 24\u001b[1;33m         \u001b[0mberths\u001b[0m\u001b[1;33m,\u001b[0m \u001b[0mcranes\u001b[0m \u001b[1;33m=\u001b[0m \u001b[0minvest\u001b[0m\u001b[1;33m.\u001b[0m\u001b[0mberth_invest_decision\u001b[0m\u001b[1;33m(\u001b[0m\u001b[0mberths\u001b[0m\u001b[1;33m,\u001b[0m \u001b[0mcranes\u001b[0m\u001b[1;33m,\u001b[0m \u001b[0mberth_object\u001b[0m\u001b[1;33m,\u001b[0m \u001b[0mallowable_berth_occupancy\u001b[0m\u001b[1;33m,\u001b[0m \u001b[0mvessels\u001b[0m\u001b[1;33m,\u001b[0m \u001b[0myear\u001b[0m\u001b[1;33m,\u001b[0m \u001b[0mtimestep\u001b[0m\u001b[1;33m,\u001b[0m \u001b[0moperational_hours\u001b[0m\u001b[1;33m)\u001b[0m\u001b[1;33m\u001b[0m\u001b[0m\n\u001b[0m\u001b[0;32m     25\u001b[0m \u001b[1;33m\u001b[0m\u001b[0m\n\u001b[0;32m     26\u001b[0m         \u001b[1;31m# Quay\u001b[0m\u001b[1;33m\u001b[0m\u001b[1;33m\u001b[0m\u001b[0m\n",
      "\u001b[1;32mc:\\checkouts\\terminal_optimization\\src\\terminal_optimization\\investment_decisions.py\u001b[0m in \u001b[0;36mberth_invest_decision\u001b[1;34m(berths, cranes, berth_object, allowable_berth_occupancy, vessels, year, timestep, operational_hours)\u001b[0m\n\u001b[0;32m    145\u001b[0m             \u001b[0monline_single_berth_time\u001b[0m \u001b[1;33m=\u001b[0m \u001b[0mtotal_berth_time\u001b[0m \u001b[1;33m/\u001b[0m \u001b[0monline\u001b[0m\u001b[1;33m\u001b[0m\u001b[0m\n\u001b[0;32m    146\u001b[0m             \u001b[0mberths\u001b[0m\u001b[1;33m[\u001b[0m\u001b[0mi\u001b[0m\u001b[1;33m]\u001b[0m\u001b[1;33m.\u001b[0m\u001b[0mcurrent_occupancy\u001b[0m \u001b[1;33m=\u001b[0m \u001b[0monline_single_berth_time\u001b[0m \u001b[1;33m/\u001b[0m \u001b[0moperational_hours\u001b[0m\u001b[1;33m\u001b[0m\u001b[0m\n\u001b[1;32m--> 147\u001b[1;33m             \u001b[0moccupancy\u001b[0m \u001b[1;33m=\u001b[0m \u001b[0mmin\u001b[0m\u001b[1;33m(\u001b[0m\u001b[0mberths\u001b[0m\u001b[1;33m[\u001b[0m\u001b[1;36m0\u001b[0m\u001b[1;33m]\u001b[0m\u001b[1;33m.\u001b[0m\u001b[0mcurrent_occupancy\u001b[0m\u001b[1;33m,\u001b[0m \u001b[0mberths\u001b[0m\u001b[1;33m[\u001b[0m\u001b[1;36m0\u001b[0m\u001b[1;33m]\u001b[0m\u001b[1;33m.\u001b[0m\u001b[0mpending_occupancy\u001b[0m\u001b[1;33m)\u001b[0m\u001b[1;33m\u001b[0m\u001b[0m\n\u001b[0m\u001b[0;32m    148\u001b[0m         \u001b[1;32mif\u001b[0m \u001b[0mpending\u001b[0m \u001b[1;33m!=\u001b[0m \u001b[1;36m0\u001b[0m\u001b[1;33m:\u001b[0m\u001b[1;33m\u001b[0m\u001b[0m\n\u001b[0;32m    149\u001b[0m             \u001b[0moccupancy\u001b[0m \u001b[1;33m=\u001b[0m \u001b[0mberths\u001b[0m\u001b[1;33m[\u001b[0m\u001b[1;36m0\u001b[0m\u001b[1;33m]\u001b[0m\u001b[1;33m.\u001b[0m\u001b[0mpending_occupancy\u001b[0m\u001b[1;33m\u001b[0m\u001b[0m\n",
      "\u001b[1;31mAttributeError\u001b[0m: 'berth_class' object has no attribute 'pending_occupancy'"
     ]
    },
    {
     "data": {
      "image/png": "[encoded data removed]",
      "text/plain": [
       "<Figure size 720x360 with 1 Axes>"
      ]
     },
     "metadata": {},
     "output_type": "display_data"
    }
   ],
   "source": [
    "# Simulation parameters\n",
    "start_year        = 2018   # start year of simulation\n",
    "simulation_window = 20     # forecast 20 years ahead\n",
    "operational_hours = 4680   # operational hours per year\n",
    "\n",
    "# Run scenario generator\n",
    "vessels, commodities = scenario_generator(start_year, simulation_window)\n",
    "\n",
    "# Import existing terminal infrastructure \n",
    "terminal = initial.terminal()\n",
    "quays, berths, cranes, storage, stations, q_conveyors, h_conveyors, throughputs, revenues, capex, labour, maintenance, energy, insurance, lease, demurrage, residuals, profits, opex = simulate(vessels, commodities, terminal, start_year, simulation_window)"
   ]
  },
  {
   "cell_type": "markdown",
   "metadata": {},
   "source": [
    "# 4 Preliminary Plots\n",
    "### Profit/loss"
   ]
  },
  {
   "cell_type": "code",
   "execution_count": null,
   "metadata": {},
   "outputs": [],
   "source": [
    "# Plotting annualised profits\n",
    "visualisation.profit_loss(profits, 10, 5)"
   ]
  },
  {
   "cell_type": "markdown",
   "metadata": {},
   "source": [
    "### Annual cashflows"
   ]
  },
  {
   "cell_type": "code",
   "execution_count": null,
   "metadata": {},
   "outputs": [],
   "source": [
    "# Plotting yearly cashflows\n",
    "visualisation.all_cashflows(revenues, capex, labour, maintenance, energy, insurance, demurrage, residuals, 10, 5)"
   ]
  },
  {
   "cell_type": "markdown",
   "metadata": {},
   "source": [
    "### Demand vs. Capacity"
   ]
  },
  {
   "cell_type": "code",
   "execution_count": null,
   "metadata": {},
   "outputs": [],
   "source": [
    "# Plotting capacity vs. demand \n",
    "visualisation.throughput(commodities, throughputs, 10, 5)"
   ]
  },
  {
   "cell_type": "markdown",
   "metadata": {},
   "source": [
    "# 5 NPV"
   ]
  },
  {
   "cell_type": "code",
   "execution_count": null,
   "metadata": {},
   "outputs": [],
   "source": [
    "#NPV = financial.NPV_calc(profits_WACC)\n",
    "#NPV"
   ]
  }
 ],
 "metadata": {
  "kernelspec": {
   "display_name": "Python 3",
   "language": "python",
   "name": "python3"
  },
  "language_info": {
   "codemirror_mode": {
    "name": "ipython",
    "version": 3
   },
   "file_extension": ".py",
   "mimetype": "text/x-python",
   "name": "python",
   "nbconvert_exporter": "python",
   "pygments_lexer": "ipython3",
   "version": "3.6.5"
  }
 },
 "nbformat": 4,
 "nbformat_minor": 2
}
