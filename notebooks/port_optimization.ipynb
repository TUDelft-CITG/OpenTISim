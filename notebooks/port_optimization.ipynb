{
 "cells": [
  {
   "cell_type": "code",
   "execution_count": 1,
   "metadata": {},
   "outputs": [],
   "source": [
    "import json\n",
    "import numpy as np\n",
    "import pandas as pd\n",
    "import matplotlib.pyplot as plt"
   ]
  },
  {
   "cell_type": "markdown",
   "metadata": {},
   "source": [
    "## General Port Parameters"
   ]
  },
  {
   "cell_type": "code",
   "execution_count": 2,
   "metadata": {},
   "outputs": [],
   "source": [
    "class general_parameters():\n",
    "    def __init__(self, *args, **kwargs):\n",
    "        super().__init__(*args, **kwargs)\n",
    "        \n",
    "        self.year              = 2018   # current year within simulation\n",
    "        self.start_year        = 2018   # start year of simulation\n",
    "        self.timestep          = self.year - self.start_year\n",
    "        self.operational_hours = 8760   # operational hours per year\n",
    "       \n",
    "parameters = general_parameters()"
   ]
  },
  {
   "cell_type": "markdown",
   "metadata": {},
   "source": [
    "# Scenario Generator"
   ]
  },
  {
   "cell_type": "code",
   "execution_count": 3,
   "metadata": {},
   "outputs": [],
   "source": [
    "from  terminal_optimization.forecast_package import maize, soybean, wheat, handysize, handymax, panamax"
   ]
  },
  {
   "cell_type": "code",
   "execution_count": 4,
   "metadata": {},
   "outputs": [],
   "source": [
    "# Generating a single demand forecast\n",
    "\n",
    "window         = 20         # looking 20 years ahead\n",
    "trend_type     = 'linear'   # linear, constant or random\n",
    "\n",
    "demand_maize   = 1000000    # demand at t=0\n",
    "growth_maize   = 100000     # year on year absolute growth of demand        - input for linear method\n",
    "rate_maize     = 1.01       # year on year growth rate of demand (% points) - input for constant method and random method\n",
    "mu_maize       = 0          # avg bonus rate added to base rate (% points)  - input for random method\n",
    "sigma_maize    = 0          # standard deviation of bonus rate (% points)   - input for random method\n",
    "\n",
    "demand_soybean = 0\n",
    "growth_soybean = 0\n",
    "rate_soybean   = 0\n",
    "mu_soybean     = 0\n",
    "sigma_soybean  = 0\n",
    "\n",
    "demand_wheat   = 0\n",
    "growth_wheat   = 0\n",
    "rate_wheat     = 0\n",
    "mu_wheat       = 0\n",
    "sigma_wheat    = 0\n",
    "\n",
    "maize.generate_forecast  (trend_type, parameters.year, window, demand_maize,   growth_maize  , rate_maize,   mu_maize,   sigma_maize)\n",
    "soybean.generate_forecast(trend_type, parameters.year, window, demand_soybean, growth_soybean, rate_soybean, mu_soybean, sigma_soybean)\n",
    "wheat.generate_forecast  (trend_type, parameters.year, window, demand_wheat,   growth_wheat  , rate_wheat,   mu_wheat,   sigma_wheat)"
   ]
  },
  {
   "cell_type": "markdown",
   "metadata": {},
   "source": [
    "# Port Model"
   ]
  },
  {
   "cell_type": "code",
   "execution_count": 5,
   "metadata": {},
   "outputs": [
    {
     "name": "stdout",
     "output_type": "stream",
     "text": [
      "True!!!\n"
     ]
    }
   ],
   "source": [
    "import terminal_optimization.investment_decision_package as module"
   ]
  },
  {
   "cell_type": "code",
   "execution_count": 6,
   "metadata": {},
   "outputs": [],
   "source": [
    "# exporting objects from notebook to investment_decision_package \n",
    "module.parameters = parameters\n",
    "module.maize      = maize\n",
    "module.soybean    = soybean\n",
    "module.wheat      = wheat\n",
    "module.handysize  = handysize\n",
    "module.handymax   = handymax\n",
    "module.panamax    = panamax\n",
    "module.import_notebook_parameters()\n",
    "module.import_notebook_classes()"
   ]
  },
  {
   "cell_type": "code",
   "execution_count": 7,
   "metadata": {},
   "outputs": [],
   "source": [
    "# exporting objects from investment_decision_package to infrastructure package \n",
    "module.export_infrastructure_package()"
   ]
  },
  {
   "cell_type": "code",
   "execution_count": 8,
   "metadata": {},
   "outputs": [],
   "source": [
    "#module.number_of_berths_calc()\n",
    "#module.quay_wall_length_calc()\n",
    "#module.berths[0].__dict__"
   ]
  },
  {
   "cell_type": "code",
   "execution_count": 9,
   "metadata": {},
   "outputs": [
    {
     "data": {
      "text/plain": [
       "True"
      ]
     },
     "execution_count": 9,
     "metadata": {},
     "output_type": "execute_result"
    }
   ],
   "source": [
    "#module.berths[0].quantity\n",
    "module.berth_invest_decision()\n",
    "#module.quay.length"
   ]
  }
 ],
 "metadata": {
  "kernelspec": {
   "display_name": "Python 3",
   "language": "python",
   "name": "python3"
  },
  "language_info": {
   "codemirror_mode": {
    "name": "ipython",
    "version": 3
   },
   "file_extension": ".py",
   "mimetype": "text/x-python",
   "name": "python",
   "nbconvert_exporter": "python",
   "pygments_lexer": "ipython3",
   "version": "3.6.5"
  }
 },
 "nbformat": 4,
 "nbformat_minor": 2
}
