{
 "cells": [
  {
   "cell_type": "code",
   "execution_count": 1,
   "metadata": {},
   "outputs": [],
   "source": [
    "import numpy as np\n",
    "import pandas as pd"
   ]
  },
  {
   "cell_type": "code",
   "execution_count": 2,
   "metadata": {},
   "outputs": [],
   "source": [
    "import terminal_optimization.visualisation        as visualisation\n",
    "import terminal_optimization.forecast             as forecast\n",
    "import terminal_optimization.investment_decisions as invest\n",
    "import terminal_optimization.infrastructure       as infra\n",
    "import terminal_optimization.financial_analysis   as financial\n",
    "import terminal_optimization.initial_terminal     as initial"
   ]
  },
  {
   "cell_type": "markdown",
   "metadata": {},
   "source": [
    "# 1 Scenario Generator"
   ]
  },
  {
   "cell_type": "code",
   "execution_count": 3,
   "metadata": {},
   "outputs": [],
   "source": [
    "def scenario_generator(start_year, simulation_window):\n",
    "    \n",
    "    # Import commodities from package\n",
    "    maize   = forecast.bulk_commodities(**forecast.maize_data)\n",
    "    soybean = forecast.bulk_commodities(**forecast.maize_data)\n",
    "    wheat   = forecast.bulk_commodities(**forecast.wheat_data)\n",
    "\n",
    "    # Maize - Linear demand\n",
    "    historic_demand_maize   = [1000000, 1100000, 1250000, 1400000, 1500000]        # demand at t=0\n",
    "    \n",
    "    # Growth scenario\n",
    "    #predefined_demand_maize = [1600000, 1900000, 1900000, 1950000, 2000000, 2100000, 2150000, 2200000, \n",
    "    #                           2200000, 2250000, 2350000, 2400000, 2450000, 2550000, 2700000, 2900000, \n",
    "    #                           3000000, 3050000, 3150000, 3300000]\n",
    "    \n",
    "    # Erratic growth scenario\n",
    "    #predefined_demand_maize = [1705000, 1883000, 1835000, 2090000, 2093000, 2100000, 2047000, 2341000, \n",
    "    #                           2549000, 2522000, 2670000, 2795000, 2717000, 2631000, 2561000, 2673000, \n",
    "    #                           2878000, 3105000, 3342000, 3323000]\n",
    "    \n",
    "    # Crisis scenario\n",
    "    predefined_demand_maize = [1600000, 1900000, 1900000, 1950000, 1750000, 1600000, 1550000, 1530000, \n",
    "                               1570000, 1620000, 1700000, 1750000, 1800000, 1900000, 2050000, 2250000, \n",
    "                               2350000, 2400000, 2500000, 2650000]\n",
    "\n",
    "    # Soybean - Exponential demand\n",
    "    historic_demand_soybean = 5*[0]\n",
    "    rate_soybean = 1.06          # year on year growth rate of demand (% points) - input for constant method and random method\n",
    "\n",
    "    # Wheat - Probabilistic demand\n",
    "    historic_demand_wheat = 5*[0]\n",
    "    rate_wheat  = 1.02\n",
    "    mu_wheat    = 0.01          # avg bonus rate added to base rate (% points)  - input for random method\n",
    "    sigma_wheat = 0.065         # standard deviation of bonus rate (% points)   - input for random method\n",
    "\n",
    "    # Create demand scenario\n",
    "    #maize.linear_scenario      (start_year, simulation_window, historic_demand_maize  , growth_maize)\n",
    "    maize.predefined_scenario   (start_year, simulation_window, historic_demand_maize  , predefined_demand_maize)\n",
    "    soybean.exponential_scenario(start_year, simulation_window, historic_demand_soybean, rate_soybean)\n",
    "    wheat.random_scenario       (start_year, simulation_window, historic_demand_wheat  , rate_wheat, mu_wheat, sigma_wheat)\n",
    "    commodities = [maize, soybean, wheat]\n",
    "    \n",
    "    # Import vessels from package\n",
    "    handysize = forecast.vessel(**forecast.handysize_data)\n",
    "    handymax  = forecast.vessel(**forecast.handymax_data)\n",
    "    panamax   = forecast.vessel(**forecast.panamax_data)\n",
    "    vessels = [handysize, handymax, panamax]\n",
    "    \n",
    "    # Calculate yearly calls\n",
    "    vessels = forecast.vessel_call_calc(vessels, commodities, simulation_window)\n",
    "\n",
    "    # Plot forecast\n",
    "    visualisation.scenario(commodities, simulation_window, start_year)\n",
    "    \n",
    "    return vessels, commodities"
   ]
  },
  {
   "cell_type": "markdown",
   "metadata": {},
   "source": [
    "# 2 Simulator"
   ]
  },
  {
   "cell_type": "code",
   "execution_count": 4,
   "metadata": {},
   "outputs": [],
   "source": [
    "def simulate(terminal, occupancy_trigger, WACC, vessels, commodities, start_year, simulation_window):\n",
    "    \n",
    "    for i in range (start_year, start_year + simulation_window):\n",
    "        year = i \n",
    "        timestep = year - start_year\n",
    "\n",
    "        ######################\n",
    "        # Investment Decisions\n",
    "        ######################           \n",
    "        \n",
    "        # Berths and cranes\n",
    "        allowable_berth_occupancy = occupancy_trigger\n",
    "        terminal.berths, terminal.cranes = invest.berth_invest_decision(terminal.berths, terminal.cranes, vessels, allowable_berth_occupancy, year, timestep, operational_hours)\n",
    "        \n",
    "        # Quay\n",
    "        terminal.quays = invest.quay_invest_decision(terminal.quays, terminal.berths, year, timestep)\n",
    "\n",
    "        # Storage\n",
    "        storage_type            = 'Silos'\n",
    "        trigger_throughput_perc = 10  # Percentage of annual throughput which triggers the investment in a new storage unit\n",
    "        aspired_throughput_perc = 20  # Aspired of annual throughput which is realised due to the new storage unit\n",
    "        terminal.storage = invest.storage_invest_decision(terminal.storage, trigger_throughput_perc, aspired_throughput_perc, storage_type, commodities, year, timestep)\n",
    "\n",
    "        # Loading stations\n",
    "        station_utilisation     = 0.60 # Loading station utilisation\n",
    "        trigger_throughput_perc = 80   # Percentage of hourly peak demand which triggers the investment in a new loading unit\n",
    "        aspired_throughput_perc = 120  # Aspired percentage of hourly peak demand which is realised due to the new loading unit\n",
    "        terminal.stations = invest.station_invest_decision(terminal.stations, station_utilisation, trigger_throughput_perc, aspired_throughput_perc, commodities, year, timestep, operational_hours)\n",
    "\n",
    "        # Conveyors\n",
    "        terminal.quay_conveyors = invest.quay_conveyor_invest_decision(terminal.quay_conveyors, terminal.cranes, year, timestep, operational_hours)\n",
    "        terminal.hinterland_conveyors = invest.hinterland_conveyor_invest_decision(terminal.hinterland_conveyors, terminal.stations, year, timestep, operational_hours)\n",
    "\n",
    "        ######################\n",
    "        # Business Logic\n",
    "        ######################\n",
    "\n",
    "        # Terminal throughput\n",
    "        terminal = financial.throughput_calc(terminal, vessels, commodities, allowable_berth_occupancy, year, timestep, operational_hours)\n",
    "        # Revenues\n",
    "        terminal.revenues = financial.revenue_calc(terminal.revenues, terminal.throughputs, commodities, year, timestep)\n",
    "        # Capex\n",
    "        terminal.capex = financial.capex_calc(terminal, year, timestep)\n",
    "        # Labour costs\n",
    "        terminal.labour = financial.labour_calc(terminal, year, timestep, operational_hours)\n",
    "        # Maintenance costs\n",
    "        terminal.maintenance = financial.maintenance_calc(terminal, year, timestep)\n",
    "        # Energy costs\n",
    "        terminal.energy = financial.energy_calc(terminal, year, operational_hours, timestep)\n",
    "        # Insurance costs\n",
    "        terminal.insurance = financial.insurance_calc(terminal, year, timestep)\n",
    "        # Lease costs \n",
    "        terminal.lease = financial.lease_calc(terminal, year,timestep)\n",
    "        # Demurrage costs\n",
    "        terminal.demurrage = financial.demurrage_calc(terminal.demurrage, terminal.berths, vessels, year, timestep)\n",
    "        # Residual value calculations \n",
    "        terminal.residuals = financial.residual_calc(terminal, year, timestep)\n",
    "        # Profits\n",
    "        terminal.profits = financial.profit_calc(terminal, simulation_window, timestep, year, start_year)\n",
    "        # Opex\n",
    "        terminal.opex = financial.opex_calc(terminal, year, timestep)      \n",
    "        \n",
    "    #WACC depreciated profits\n",
    "    terminal.WACC_cashflows = financial.WACC_calc(WACC, terminal.profits, simulation_window, start_year)\n",
    "\n",
    "    # Combine all cashflows\n",
    "    terminal.cashflows = financial.cashflow_calc(terminal, simulation_window, start_year) \n",
    "    \n",
    "    #NPV \n",
    "    terminal.NPV = financial.NPV_calc(terminal.WACC_cashflows)\n",
    "            \n",
    "    return terminal"
   ]
  },
  {
   "cell_type": "markdown",
   "metadata": {},
   "source": [
    "# 3 Investment Triggers Iteration"
   ]
  },
  {
   "cell_type": "code",
   "execution_count": 5,
   "metadata": {
    "scrolled": false
   },
   "outputs": [
    {
     "name": "stderr",
     "output_type": "stream",
     "text": [
      "C:\\Python\\lib\\site-packages\\plotly\\matplotlylib\\renderer.py:522: UserWarning:\n",
      "\n",
      "Looks like the annotation(s) you are trying \n",
      "to draw lies/lay outside the given figure size.\n",
      "\n",
      "Therefore, the resulting Plotly figure may not be \n",
      "large enough to view the full text. To adjust \n",
      "the size of the figure, use the 'width' and \n",
      "'height' keys in the Layout object. Alternatively,\n",
      "use the Margin object to adjust the figure's margins.\n",
      "\n"
     ]
    }
   ],
   "source": [
    "# Simulation parameters\n",
    "start_year        = 2018   # start year of simulation\n",
    "simulation_window = 20     # forecast 20 years\n",
    "end_year          = start_year + simulation_window - 1\n",
    "operational_hours = 4680   # operational hours per year\n",
    "allowable_occupancy = 0.40\n",
    "WACC = 0.09\n",
    "\n",
    "# Run scenario generator\n",
    "vessels, commodities = scenario_generator(start_year, simulation_window)\n",
    "\n",
    "# Run multiple simulations, each with a different allowable berth occupancy between 20% and 95%\n",
    "iterations = []\n",
    "occupancy_spectrum = range (20, 96, 1)\n",
    "for occupancy in occupancy_spectrum:\n",
    "    \n",
    "    # The trigger occupancy\n",
    "    trigger_occupancy = occupancy/100\n",
    "    \n",
    "    # Load the initial terminal setup\n",
    "    terminal = initial.terminal()\n",
    "    \n",
    "    # Run simulation\n",
    "    terminal = simulate(terminal, trigger_occupancy, WACC, vessels, commodities, start_year, simulation_window)\n",
    "    terminal.trigger = occupancy\n",
    "    \n",
    "    # Save resulting terminal \n",
    "    iterations.append(terminal)"
   ]
  },
  {
   "cell_type": "code",
   "execution_count": 6,
   "metadata": {},
   "outputs": [
    {
     "data": {
      "image/png": "[encoded data removed]",
      "text/plain": [
       "<Figure size 432x288 with 1 Axes>"
      ]
     },
     "metadata": {},
     "output_type": "display_data"
    }
   ],
   "source": [
    "# Visualise NPV distribution \n",
    "visualisation.NPV_distribution(iterations)"
   ]
  },
  {
   "cell_type": "markdown",
   "metadata": {},
   "source": [
    "# 4 Risk Sensitivity Iteration"
   ]
  },
  {
   "cell_type": "code",
   "execution_count": 7,
   "metadata": {},
   "outputs": [
    {
     "name": "stderr",
     "output_type": "stream",
     "text": [
      "C:\\Python\\lib\\site-packages\\plotly\\matplotlylib\\renderer.py:522: UserWarning:\n",
      "\n",
      "Looks like the annotation(s) you are trying \n",
      "to draw lies/lay outside the given figure size.\n",
      "\n",
      "Therefore, the resulting Plotly figure may not be \n",
      "large enough to view the full text. To adjust \n",
      "the size of the figure, use the 'width' and \n",
      "'height' keys in the Layout object. Alternatively,\n",
      "use the Margin object to adjust the figure's margins.\n",
      "\n"
     ]
    }
   ],
   "source": [
    "# Simulation parameters\n",
    "start_year        = 2018   # start year of simulation\n",
    "simulation_window = 20     # forecast 20 years\n",
    "end_year          = start_year + simulation_window - 1\n",
    "operational_hours = 4680   # operational hours per year\n",
    "allowable_occupancy = 0.40\n",
    "\n",
    "# Run scenario generator\n",
    "vessels, commodities = scenario_generator(start_year, simulation_window)\n",
    "\n",
    "# Run multiple simulations, each with a different WACC between 5% and 15%\n",
    "cashflow_list = []\n",
    "WACC_list = []\n",
    "WACC_spectrum = range (5, 15, 1)\n",
    "for sample in WACC_spectrum:\n",
    "    \n",
    "    # The WACC\n",
    "    WACC = sample/100\n",
    "    \n",
    "    # Load the initial terminal setup\n",
    "    terminal = initial.terminal()\n",
    "    \n",
    "    # Run simulation\n",
    "    terminal = simulate(terminal, allowable_occupancy, WACC, vessels, commodities, start_year, simulation_window)\n",
    "    terminal.trigger = allowable_occupancy\n",
    "    \n",
    "    # Save resulting terminal \n",
    "    cashflow_list.append(terminal.cashflows)\n",
    "    WACC_list.append(WACC)"
   ]
  },
  {
   "cell_type": "code",
   "execution_count": 8,
   "metadata": {},
   "outputs": [],
   "source": [
    "#visualisation.risk_sensitivity(cashflow_list, WACC_list)"
   ]
  },
  {
   "cell_type": "markdown",
   "metadata": {},
   "source": [
    "# 3 Single Simulation Run"
   ]
  },
  {
   "cell_type": "code",
   "execution_count": 9,
   "metadata": {},
   "outputs": [
    {
     "name": "stdout",
     "output_type": "stream",
     "text": [
      "NPV: $45,172,482\n"
     ]
    }
   ],
   "source": [
    "# Import existing terminal infrastructure \n",
    "terminal = initial.terminal()\n",
    "\n",
    "# Run simulation\n",
    "allowable_occupancy = 0.62\n",
    "WACC = 0.09\n",
    "terminal = simulate(terminal, allowable_occupancy, WACC, vessels, commodities, start_year, simulation_window)\n",
    "\n",
    "# Show NPV\n",
    "print (\"NPV: $\" + str('{:0,.0f}'.format(terminal.NPV)))"
   ]
  },
  {
   "cell_type": "markdown",
   "metadata": {},
   "source": [
    "# 4 Preliminary Plots"
   ]
  },
  {
   "cell_type": "markdown",
   "metadata": {},
   "source": [
    "### 4.1 Number of assets throughout the years"
   ]
  },
  {
   "cell_type": "code",
   "execution_count": 10,
   "metadata": {},
   "outputs": [],
   "source": [
    "#visualisation.asset_trajectory(terminal, simulation_window, start_year)"
   ]
  },
  {
   "cell_type": "markdown",
   "metadata": {},
   "source": [
    "### 4.2 Revenue / Capex / Opex"
   ]
  },
  {
   "cell_type": "code",
   "execution_count": 11,
   "metadata": {},
   "outputs": [],
   "source": [
    "%matplotlib inline\n",
    "visualisation.revenue_capex_opex(terminal)"
   ]
  },
  {
   "cell_type": "markdown",
   "metadata": {},
   "source": [
    "### 4.3 Profit / Loss"
   ]
  },
  {
   "cell_type": "code",
   "execution_count": 12,
   "metadata": {},
   "outputs": [],
   "source": [
    "#visualisation.profit_loss_pv(terminal)"
   ]
  },
  {
   "cell_type": "markdown",
   "metadata": {},
   "source": [
    "### 4.4 Demand vs. Capacity"
   ]
  },
  {
   "cell_type": "code",
   "execution_count": 13,
   "metadata": {},
   "outputs": [],
   "source": [
    "#visualisation.throughput(terminal, 9,6)"
   ]
  },
  {
   "cell_type": "markdown",
   "metadata": {},
   "source": [
    "### 4.5 Visualisation of predictive simulator"
   ]
  },
  {
   "cell_type": "code",
   "execution_count": 14,
   "metadata": {},
   "outputs": [],
   "source": [
    "#visualisation.consecutive_reative_trend(commodities, simulation_window, start_year)\n",
    "#visualisation.consecutive_predictive_trend(commodities, simulation_window, start_year)"
   ]
  },
  {
   "cell_type": "code",
   "execution_count": null,
   "metadata": {},
   "outputs": [],
   "source": []
  },
  {
   "cell_type": "code",
   "execution_count": null,
   "metadata": {},
   "outputs": [],
   "source": []
  }
 ],
 "metadata": {
  "kernelspec": {
   "display_name": "Python 3",
   "language": "python",
   "name": "python3"
  },
  "language_info": {
   "codemirror_mode": {
    "name": "ipython",
    "version": 3
   },
   "file_extension": ".py",
   "mimetype": "text/x-python",
   "name": "python",
   "nbconvert_exporter": "python",
   "pygments_lexer": "ipython3",
   "version": "3.6.5"
  }
 },
 "nbformat": 4,
 "nbformat_minor": 2
}
