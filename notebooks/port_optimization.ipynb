{
 "cells": [
  {
   "cell_type": "code",
   "execution_count": 1,
   "metadata": {},
   "outputs": [],
   "source": [
    "import numpy as np\n",
    "import pandas as pd\n",
    "from copy import copy"
   ]
  },
  {
   "cell_type": "code",
   "execution_count": 2,
   "metadata": {},
   "outputs": [],
   "source": [
    "import terminal_optimization.visualisation        as visualisation\n",
    "import terminal_optimization.forecast             as forecast\n",
    "import terminal_optimization.investment_decisions as invest\n",
    "import terminal_optimization.infrastructure       as infra\n",
    "import terminal_optimization.financial_analysis   as financial\n",
    "import terminal_optimization.initial_terminal     as initial"
   ]
  },
  {
   "cell_type": "markdown",
   "metadata": {},
   "source": [
    "# 1 Scenario Generator"
   ]
  },
  {
   "cell_type": "code",
   "execution_count": 3,
   "metadata": {},
   "outputs": [],
   "source": [
    "def scenario_generator(start_year, simulation_window):\n",
    "    \n",
    "    # Import commodities from package\n",
    "    maize   = forecast.bulk_commodities(**forecast.maize_data)\n",
    "    soybean = forecast.bulk_commodities(**forecast.maize_data)\n",
    "    wheat   = forecast.bulk_commodities(**forecast.wheat_data)\n",
    "\n",
    "    # Maize - Linear demand\n",
    "    demand_maize  = 1000000        # demand at t=0\n",
    "    growth_maize  = 100000       \n",
    "\n",
    "    # Soybean - Exponential demand\n",
    "    demand_soybean = 1000000\n",
    "    rate_soybean   = 1.06          # year on year growth rate of demand (% points) - input for constant method and random method\n",
    "\n",
    "    # Wheat - Probabilistic demand\n",
    "    demand_wheat   = 1000000\n",
    "    rate_wheat     = 1.05\n",
    "    mu_wheat       = 0.01          # avg bonus rate added to base rate (% points)  - input for random method\n",
    "    sigma_wheat    = 0.015         # standard deviation of bonus rate (% points)   - input for random method\n",
    "\n",
    "    # Create forecast\n",
    "    maize.linear_forecast(start_year, simulation_window, demand_maize, growth_maize)\n",
    "    soybean.exponential_forecast(start_year, simulation_window, demand_soybean, rate_soybean)\n",
    "    wheat.random_forecast(start_year, simulation_window, demand_wheat, rate_wheat, mu_wheat, sigma_wheat)\n",
    "    commodities = [maize, soybean, wheat]\n",
    "    \n",
    "    \n",
    "    # Import vessels from package\n",
    "    handysize = forecast.vessel(**forecast.handysize_data)\n",
    "    handymax  = forecast.vessel(**forecast.handymax_data)\n",
    "    panamax   = forecast.vessel(**forecast.panamax_data)\n",
    "    vessels = [handysize, handymax, panamax]\n",
    "    \n",
    "    # Calculate yearly calls\n",
    "    vessels = forecast.vessel_call_calc(vessels, commodities, simulation_window)\n",
    "\n",
    "    # Plot forecast\n",
    "    visualisation.trend(commodities, simulation_window, start_year)\n",
    "    \n",
    "    return vessels, commodities"
   ]
  },
  {
   "cell_type": "markdown",
   "metadata": {},
   "source": [
    "# 2 Simulator"
   ]
  },
  {
   "cell_type": "code",
   "execution_count": 4,
   "metadata": {},
   "outputs": [],
   "source": [
    "def simulate(terminal, occupancy_trigger, vessels, commodities, start_year, simulation_window):\n",
    "    \n",
    "    for i in range (start_year, start_year + simulation_window):\n",
    "        year = i \n",
    "        timestep = year - start_year\n",
    "\n",
    "        ######################\n",
    "        # Investment Decisions\n",
    "        ######################           \n",
    "        \n",
    "        # Berths and cranes\n",
    "        allowable_berth_occupancy = occupancy_trigger\n",
    "        terminal.berths, terminal.cranes = invest.berth_invest_decision(terminal.berths, terminal.cranes, vessels, allowable_berth_occupancy, year, timestep, operational_hours)\n",
    "        \n",
    "        # Quay\n",
    "        terminal.quays = invest.quay_invest_decision(terminal.quays, terminal.berths, year, timestep)\n",
    "\n",
    "        # Storage\n",
    "        storage_type            = 'Silos'\n",
    "        trigger_throughput_perc = 10  # Percentage of annual throughput which triggers the investment in a new storage unit\n",
    "        aspired_throughput_perc = 20  # Aspired of annual throughput which is realised due to the new storage unit\n",
    "        terminal.storage = invest.storage_invest_decision(terminal.storage, trigger_throughput_perc, aspired_throughput_perc, storage_type, commodities, year, timestep)\n",
    "\n",
    "        # Loading stations\n",
    "        station_utilisation     = 0.60 # Loading station utilisation\n",
    "        trigger_throughput_perc = 80   # Percentage of hourly peak demand which triggers the investment in a new loading unit\n",
    "        aspired_throughput_perc = 120  # Aspired percentage of hourly peak demand which is realised due to the new loading unit\n",
    "        terminal.stations = invest.station_invest_decision(terminal.stations, station_utilisation, trigger_throughput_perc, aspired_throughput_perc, commodities, year, timestep, operational_hours)\n",
    "\n",
    "        # Conveyors\n",
    "        terminal.quay_conveyors = invest.quay_conveyor_invest_decision(terminal.quay_conveyors, terminal.cranes, year, timestep, operational_hours)\n",
    "        terminal.hinterland_conveyors = invest.hinterland_conveyor_invest_decision(terminal.hinterland_conveyors, terminal.stations, year, timestep, operational_hours)\n",
    "\n",
    "        ######################\n",
    "        # Business Logic\n",
    "        ######################\n",
    "\n",
    "        # Terminal throughput\n",
    "        terminal = financial.throughput_calc(terminal, vessels, commodities, allowable_berth_occupancy, year, timestep, operational_hours)\n",
    "        # Revenues\n",
    "        terminal.revenues = financial.revenue_calc(terminal.revenues, terminal.throughputs, commodities, year, timestep)\n",
    "        # Capex\n",
    "        terminal.capex = financial.capex_calc(terminal, year, timestep)\n",
    "        # Labour costs\n",
    "        terminal.labour = financial.labour_calc(terminal, year, timestep, operational_hours)\n",
    "        # Maintenance costs\n",
    "        terminal.maintenance = financial.maintenance_calc(terminal, year, timestep)\n",
    "        # Energy costs\n",
    "        terminal.energy = financial.energy_calc(terminal, year, operational_hours, timestep)\n",
    "        # Insurance costs\n",
    "        terminal.insurance = financial.insurance_calc(terminal, year, timestep)\n",
    "        # Lease costs \n",
    "        terminal.lease = financial.lease_calc(terminal, year,timestep)\n",
    "        # Demurrage costs\n",
    "        terminal.demurrage = financial.demurrage_calc(terminal.demurrage, terminal.berths, vessels, year, timestep)\n",
    "        # Residual value calculations \n",
    "        terminal.residuals = financial.residual_calc(terminal, year, timestep)\n",
    "        # Profits\n",
    "        terminal.profits = financial.profit_calc(terminal, simulation_window, timestep, year, start_year)\n",
    "        # Opex\n",
    "        terminal.opex = financial.opex_calc(terminal, year, timestep)      \n",
    "        \n",
    "    #WACC depreciated profits\n",
    "    terminal.WACC_cashflows = financial.WACC_calc(terminal.profits, simulation_window, start_year)\n",
    "\n",
    "    # Combine all cashflows\n",
    "    terminal.cashflows = financial.cashflow_calc(terminal, simulation_window, start_year) \n",
    "    \n",
    "    #NPV \n",
    "    terminal.NPV = financial.NPV_calc(terminal.WACC_cashflows)\n",
    "            \n",
    "    return terminal"
   ]
  },
  {
   "cell_type": "markdown",
   "metadata": {},
   "source": [
    "# 3 Single Simulation Run"
   ]
  },
  {
   "cell_type": "code",
   "execution_count": 5,
   "metadata": {
    "scrolled": false
   },
   "outputs": [
    {
     "name": "stderr",
     "output_type": "stream",
     "text": [
      "C:\\Python\\lib\\site-packages\\matplotlib\\cbook\\deprecation.py:107: MatplotlibDeprecationWarning: Passing one of 'on', 'true', 'off', 'false' as a boolean is deprecated; use an actual boolean (True/False) instead.\n",
      "  warnings.warn(message, mplDeprecation, stacklevel=1)\n"
     ]
    },
    {
     "data": {
      "image/png": "[encoded data removed]",
      "text/plain": [
       "<Figure size 432x288 with 1 Axes>"
      ]
     },
     "metadata": {},
     "output_type": "display_data"
    }
   ],
   "source": [
    "# Simulation parameters\n",
    "start_year        = 2018   # start year of simulation\n",
    "simulation_window = 20     # forecast 20 years\n",
    "end_year          = start_year + simulation_window - 1\n",
    "operational_hours = 4680   # operational hours per year\n",
    "allowable_occupancy = 0.40\n",
    "\n",
    "# Run scenario generator\n",
    "vessels, commodities = scenario_generator(start_year, simulation_window)\n",
    "\n",
    "# Import existing terminal infrastructure \n",
    "terminal = initial.terminal()\n",
    "\n",
    "# Run simulation\n",
    "terminal = simulate(terminal, allowable_occupancy, vessels, commodities, start_year, simulation_window)"
   ]
  },
  {
   "cell_type": "markdown",
   "metadata": {},
   "source": [
    "# 4 Preliminary Plots"
   ]
  },
  {
   "cell_type": "markdown",
   "metadata": {},
   "source": [
    "### Demand vs. Capacity"
   ]
  },
  {
   "cell_type": "code",
   "execution_count": 14,
   "metadata": {},
   "outputs": [],
   "source": [
    "# Plotting capacity vs. demand \n",
    "#visualisation.throughput(terminal, 9,6)"
   ]
  },
  {
   "cell_type": "code",
   "execution_count": 16,
   "metadata": {},
   "outputs": [],
   "source": [
    "#visualisation.revenue_capex_opex(terminal)"
   ]
  },
  {
   "cell_type": "markdown",
   "metadata": {},
   "source": [
    "### Profit / Loss (nominal)"
   ]
  },
  {
   "cell_type": "code",
   "execution_count": 20,
   "metadata": {},
   "outputs": [],
   "source": [
    "# Plotting annualised profits\n",
    "#visualisation.profit_loss(terminal)"
   ]
  },
  {
   "cell_type": "markdown",
   "metadata": {},
   "source": [
    "### Profit / Loss (present value)"
   ]
  },
  {
   "cell_type": "code",
   "execution_count": 19,
   "metadata": {
    "scrolled": false
   },
   "outputs": [],
   "source": [
    "# Plotting annualised profits\n",
    "#visualisation.profit_loss_pv(terminal)"
   ]
  },
  {
   "cell_type": "markdown",
   "metadata": {},
   "source": [
    "### Number of assets throughout the years"
   ]
  },
  {
   "cell_type": "code",
   "execution_count": 18,
   "metadata": {
    "scrolled": true
   },
   "outputs": [],
   "source": [
    "#visualisation.asset_trajectory(terminal, simulation_window, start_year)"
   ]
  },
  {
   "cell_type": "markdown",
   "metadata": {},
   "source": [
    "# 5 Iterate through invest decisions"
   ]
  },
  {
   "cell_type": "code",
   "execution_count": 11,
   "metadata": {},
   "outputs": [],
   "source": [
    "# Run multiple simulations, each with a different allowable berth occupancy between 20% and 95%\n",
    "iterations = []\n",
    "\n",
    "occupancy_spectrum = range (20, 96, 1)\n",
    "for occupancy in occupancy_spectrum:\n",
    "    \n",
    "    # The trigger occupancy\n",
    "    trigger_occupancy = occupancy/100\n",
    "    \n",
    "    # Load the initial terminal setup\n",
    "    terminal = initial.terminal()\n",
    "    \n",
    "    # Run simulation\n",
    "    terminal = simulate(terminal, trigger_occupancy, vessels, commodities, start_year, simulation_window)\n",
    "    terminal.trigger = occupancy\n",
    "    \n",
    "    # Save resulting terminal \n",
    "    iterations.append(terminal)"
   ]
  },
  {
   "cell_type": "code",
   "execution_count": 17,
   "metadata": {},
   "outputs": [],
   "source": [
    "# Visualise NPV distribution \n",
    "# visualisation.NPV_distribution(iterations)"
   ]
  }
 ],
 "metadata": {
  "kernelspec": {
   "display_name": "Python 3",
   "language": "python",
   "name": "python3"
  },
  "language_info": {
   "codemirror_mode": {
    "name": "ipython",
    "version": 3
   },
   "file_extension": ".py",
   "mimetype": "text/x-python",
   "name": "python",
   "nbconvert_exporter": "python",
   "pygments_lexer": "ipython3",
   "version": "3.6.5"
  }
 },
 "nbformat": 4,
 "nbformat_minor": 2
}
