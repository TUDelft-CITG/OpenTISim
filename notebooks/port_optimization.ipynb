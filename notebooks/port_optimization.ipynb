{
 "cells": [
  {
   "cell_type": "code",
   "execution_count": 1,
   "metadata": {},
   "outputs": [],
   "source": [
    "import json\n",
    "import numpy as np\n",
    "import pandas as pd\n",
    "import matplotlib.pyplot as plt"
   ]
  },
  {
   "cell_type": "markdown",
   "metadata": {},
   "source": [
    "# 1 General Port Parameters"
   ]
  },
  {
   "cell_type": "code",
   "execution_count": 2,
   "metadata": {},
   "outputs": [],
   "source": [
    "class general_parameters():\n",
    "    def __init__(self, *args, **kwargs):\n",
    "        super().__init__(*args, **kwargs)\n",
    "        \n",
    "        self.year              = 2018   # current year within simulation\n",
    "        self.simulation_window = 20     # looking 20 years ahead\n",
    "        self.start_year        = 2018   # start year of simulation\n",
    "        self.timestep          = self.year - self.start_year\n",
    "        self.operational_hours = 8760   # operational hours per year\n",
    "       \n",
    "parameters = general_parameters()\n",
    "timestep   = parameters.timestep"
   ]
  },
  {
   "cell_type": "markdown",
   "metadata": {},
   "source": [
    "# 2 Scenario Generator"
   ]
  },
  {
   "cell_type": "code",
   "execution_count": 3,
   "metadata": {},
   "outputs": [],
   "source": [
    "from terminal_optimization.forecast_package import maize, soybean, wheat, handysize, handymax, panamax\n",
    "from terminal_optimization.plot_package import plot_trend"
   ]
  },
  {
   "cell_type": "code",
   "execution_count": 4,
   "metadata": {},
   "outputs": [
    {
     "data": {
      "text/plain": [
       "<matplotlib.axes._subplots.AxesSubplot at 0x8ceb080>"
      ]
     },
     "execution_count": 4,
     "metadata": {},
     "output_type": "execute_result"
    },
    {
     "data": {
      "image/png": "[encoded data removed]",
      "text/plain": [
       "<Figure size 720x360 with 1 Axes>"
      ]
     },
     "metadata": {},
     "output_type": "display_data"
    }
   ],
   "source": [
    "# Generating a single demand forecast\n",
    "\n",
    "trend_type     = 'linear'   # linear, constant or random\n",
    "\n",
    "demand_maize   = 1000000    # demand at t=0\n",
    "growth_maize   = 100000     # year on year absolute growth of demand        - input for linear method\n",
    "rate_maize     = 1.01       # year on year growth rate of demand (% points) - input for constant method and random method\n",
    "mu_maize       = 0          # avg bonus rate added to base rate (% points)  - input for random method\n",
    "sigma_maize    = 0          # standard deviation of bonus rate (% points)   - input for random method\n",
    "\n",
    "demand_soybean = 0\n",
    "growth_soybean = 0\n",
    "rate_soybean   = 0\n",
    "mu_soybean     = 0\n",
    "sigma_soybean  = 0\n",
    "\n",
    "demand_wheat   = 0\n",
    "growth_wheat   = 0\n",
    "rate_wheat     = 0\n",
    "mu_wheat       = 0\n",
    "sigma_wheat    = 0\n",
    "\n",
    "maize.generate_forecast  (trend_type, parameters.year, parameters.simulation_window, demand_maize,   growth_maize  , rate_maize,   mu_maize,   sigma_maize)\n",
    "soybean.generate_forecast(trend_type, parameters.year, parameters.simulation_window, demand_soybean, growth_soybean, rate_soybean, mu_soybean, sigma_soybean)\n",
    "wheat.generate_forecast  (trend_type, parameters.year, parameters.simulation_window, demand_wheat,   growth_wheat  , rate_wheat,   mu_wheat,   sigma_wheat)\n",
    "\n",
    "plot_trend(maize, soybean, wheat, 10, 5)"
   ]
  },
  {
   "cell_type": "markdown",
   "metadata": {},
   "source": [
    "# 3 Port Model\n",
    "## 3.1 Import/export of data\n",
    "*The following packages are imported:* \n",
    "- [infrastructure package]: Imports all infrastructure classes \n",
    "- [investment decision package]: Combines current commodity demand and infrastructure characteristics to decide whether to invest in terminal elements\n",
    "<br>\n",
    "\n",
    "*The following overacrching classes are exported:* \n",
    "- port parameters (e.g. simulation timestep, operational hours etc.)\n",
    "- commodities (includes forecast characteristics)\n",
    "- vessels "
   ]
  },
  {
   "cell_type": "code",
   "execution_count": 5,
   "metadata": {},
   "outputs": [],
   "source": [
    "import terminal_optimization.investment_decision_package as invest\n",
    "import terminal_optimization.infrastructure_package      as infra\n",
    "import terminal_optimization.business_logic_package      as financial\n",
    "\n",
    "def export_to_package(package):\n",
    "    package.parameters = parameters\n",
    "    package.handysize  = handysize\n",
    "    package.handymax   = handymax\n",
    "    package.panamax    = panamax\n",
    "    package.maize      = maize\n",
    "    package.soybean    = soybean\n",
    "    package.wheat      = wheat\n",
    "    package.import_notebook_parameters()\n",
    "    \n",
    "export_to_package(invest)\n",
    "export_to_package(infra)\n",
    "export_to_package(financial)"
   ]
  },
  {
   "cell_type": "markdown",
   "metadata": {},
   "source": [
    "## 3.2 Investment decisions"
   ]
  },
  {
   "cell_type": "markdown",
   "metadata": {},
   "source": [
    "### 3.2.1 Berth investment decision\n",
    "Starting with a single berth and asuming that vessels are distributed equally between all berths, the berth occupancy is calculated. If the occupancy is above the set 'allowable berth occupancy' an extra berth is added and the calculation is iterated"
   ]
  },
  {
   "cell_type": "code",
   "execution_count": 6,
   "metadata": {},
   "outputs": [
    {
     "name": "stdout",
     "output_type": "stream",
     "text": [
      "Number of berths added:   1\n",
      "Pending number of berths: 1\n",
      "Current number of berths: 0\n"
     ]
    }
   ],
   "source": [
    "# at t=0 import berth class from infrastructure package and run initial berth configuration\n",
    "if parameters.timestep == 0:\n",
    "    berths = infra.berths\n",
    "    berths = invest.initial_berth_setup(berths)\n",
    "    \n",
    "# for each time step, check whether pending assets come online\n",
    "berths = invest.berth_online_transition(berths)\n",
    "    \n",
    "# for each time step, decide whether to invest in berths\n",
    "berth_invest_decision = invest.berth_invest_decision(berths)\n",
    "\n",
    "# if investments are needed, calculate how much berths should be added\n",
    "if berth_invest_decision == 'Invest in berths':\n",
    "    berths = invest.berth_expansion(berths)\n",
    "else:\n",
    "    berths[0].delta = 0\n",
    "\n",
    "print ('Number of berths added:  ', berths[0].delta)\n",
    "print ('Pending number of berths:', berths[0].pending_quantity)\n",
    "print ('Current number of berths:', berths[0].online_quantity)"
   ]
  },
  {
   "cell_type": "markdown",
   "metadata": {},
   "source": [
    "### 3.2.2 Quay investment decision\n",
    "In this setup, the decision to expand the quay is solely a result of the *Berth investment decision*. The length of the quay is calculated as the sum of the length of the berths "
   ]
  },
  {
   "cell_type": "code",
   "execution_count": 7,
   "metadata": {},
   "outputs": [
    {
     "name": "stdout",
     "output_type": "stream",
     "text": [
      "Meters of quay added:  195\n",
      "Current quay length:   0\n"
     ]
    }
   ],
   "source": [
    "# at t=0 import quay class from infrastructure package and run initial quay configuration\n",
    "if parameters.timestep == 0:\n",
    "    quays = infra.quays\n",
    "    quays = invest.initial_quay_setup(quays)\n",
    "\n",
    "# for each time step, check whether pending assets come online\n",
    "quays = invest.quay_online_transition(quays)\n",
    "    \n",
    "# for each time step, decide whether to invest in the quay\n",
    "quay_invest_decision = invest.quay_invest_decision(berths, quays)\n",
    "\n",
    "# if investments are needed, calculate how much quay length should be added\n",
    "if quay_invest_decision == 'Invest in quay':\n",
    "    quays = invest.quay_expansion(quays, berths)\n",
    "else:\n",
    "    quays[0].delta = 0\n",
    "    \n",
    "print ('Meters of quay added: ', quays[0].delta)\n",
    "print ('Current quay length:  ', quays[0].online_length)"
   ]
  },
  {
   "cell_type": "markdown",
   "metadata": {},
   "source": [
    "### 3.2.3 Crane investment decision\n",
    "In this setup, the number of cranes is solely goverened by the number of berths. The number of cranes per berth is equal to the number of cranes that can work simultaeously on the largest vessel that calls to port during the current timestep. E.g. two cranes per berth in years where handymax is the largest vessel and three cranes per berth in years where panamax is the largest vessel"
   ]
  },
  {
   "cell_type": "code",
   "execution_count": 8,
   "metadata": {},
   "outputs": [
    {
     "name": "stdout",
     "output_type": "stream",
     "text": [
      "Number of berths added: 1\n",
      "Gantry cranes added:    0\n",
      "Harbour cranes added:   0\n",
      "Mobile cranes added:    2\n",
      "Screw unloaders added:  0\n"
     ]
    }
   ],
   "source": [
    "# at t=0 import cranes class from infrastructure package and run initial crane configuration\n",
    "if parameters.timestep == 0:\n",
    "    cranes = infra.cranes\n",
    "    cranes = invest.initial_crane_setup(cranes)\n",
    "    \n",
    "# for each time step, check whether pending assets come online\n",
    "cranes = invest.crane_online_transition(cranes)\n",
    "    \n",
    "# for each time step, decide whether to invest in the cranes\n",
    "crane_invest_decision = invest.crane_invest_decision(cranes, berths)\n",
    "\n",
    "# if investments are needed, calculate how much cranes should be added\n",
    "if crane_invest_decision == 'Invest in cranes':\n",
    "    cranes = invest.crane_expansion(cranes, berths)\n",
    "else:\n",
    "    for i in range (4):\n",
    "        cranes[i][0].delta = 0\n",
    "\n",
    "print ('Number of berths added:', berths[0].delta)\n",
    "print ('Gantry cranes added:   ', cranes[0][0].delta)\n",
    "print ('Harbour cranes added:  ', cranes[1][0].delta)\n",
    "print ('Mobile cranes added:   ', cranes[2][0].delta)\n",
    "print ('Screw unloaders added: ', cranes[3][0].delta)"
   ]
  },
  {
   "cell_type": "markdown",
   "metadata": {},
   "source": [
    "### 3.2.3 Storage investment decision\n",
    "In this setup, the storage investment is triggered whenever the storage capacity equals 10% of yearly demand. Once triggered, the storage is expanded to accomodate 20% of yearly throughput"
   ]
  },
  {
   "cell_type": "code",
   "execution_count": 9,
   "metadata": {},
   "outputs": [
    {
     "name": "stdout",
     "output_type": "stream",
     "text": [
      "Silo capacity added (t):        0\n",
      "Current silo capacity (t):      0\n",
      "Warehouse capacity added (t):   200000\n",
      "Current warehouse capacity (t): 0\n"
     ]
    }
   ],
   "source": [
    "# at t=0 import storage class from infrastructure package and run initial storage configuration\n",
    "if parameters.timestep == 0:\n",
    "    storage = infra.storage\n",
    "    storage = invest.initial_storage_setup(storage)\n",
    "    \n",
    "# for each time step, check whether pending assets come online\n",
    "storage = invest.storage_online_transition(storage)\n",
    "    \n",
    "# for each time step, decide whether to invest in storage\n",
    "invest_decision = invest.storage_invest_decision(storage)\n",
    "storage_invest_decision = invest_decision[0]\n",
    "storage = invest_decision[1]\n",
    "\n",
    "# if investments are needed, calculate how much extra capacity should be added\n",
    "if storage_invest_decision == 'Invest in storage':\n",
    "    storage = invest.storage_expansion(storage)\n",
    "else:\n",
    "    storage[0][0].delta = 0\n",
    "    storage[1][0].delta = 0\n",
    "\n",
    "print ('Silo capacity added (t):       ', storage[0][0].delta)\n",
    "print ('Current silo capacity (t):     ', storage[0][0].online_capacity)\n",
    "print ('Warehouse capacity added (t):  ', storage[1][0].delta)\n",
    "print ('Current warehouse capacity (t):', storage[1][0].online_capacity)"
   ]
  },
  {
   "cell_type": "markdown",
   "metadata": {},
   "source": [
    "### 3.2.4 Loading station investment decision\n",
    "In this setup, it is assumed that the loading station has a utilisation rate of 60%. The loading station investment is triggered whenever the yearly loading capacity equals 80% of yearly demand, taking the utilisation rate into account. Once triggered, the loading rate is expanded to accomodate 120% of yearly throughput in steps of 300 t/h"
   ]
  },
  {
   "cell_type": "code",
   "execution_count": 10,
   "metadata": {},
   "outputs": [
    {
     "name": "stdout",
     "output_type": "stream",
     "text": [
      "Loading station capacity added (t/h):   300\n",
      "Current loading station capacity (t/h): 0\n"
     ]
    }
   ],
   "source": [
    "# at t=0 import loading station class from infrastructure package and run initial laoding station configuration\n",
    "if parameters.timestep == 0:\n",
    "    stations = infra.stations\n",
    "    stations = invest.initial_station_setup(stations)\n",
    "    \n",
    "# for each time step, check whether pending assets come online\n",
    "stations = invest.station_online_transition(stations)\n",
    "    \n",
    "# for each time step, decide whether to invest in storage\n",
    "stations_invest_decision = invest.station_invest_decision(stations)\n",
    "\n",
    "# if investments are needed, calculate how much extra capacity should be added\n",
    "if stations_invest_decision == 'Invest in loading stations':\n",
    "    stations = invest.station_expansion(stations)\n",
    "else:\n",
    "    stations[0].delta = 0\n",
    "\n",
    "print ('Loading station capacity added (t/h):  ', stations[0].delta)\n",
    "print ('Current loading station capacity (t/h):', stations[0].online_capacity)"
   ]
  },
  {
   "cell_type": "markdown",
   "metadata": {},
   "source": [
    "### 3.2.5 Conveyor investment decision\n",
    "#### 3.2.5.1 Quay conveyor\n",
    "In this setup, the quay-side conveyor investment dicision is triggered whenever the the crane investment is triggered. The conveyor capacity is always sufficient to cope with the cranes' peak unloading capacity. It is assumed that each additional conveyor built increases conveying capacity by 400 t/h."
   ]
  },
  {
   "cell_type": "code",
   "execution_count": 11,
   "metadata": {},
   "outputs": [
    {
     "name": "stdout",
     "output_type": "stream",
     "text": [
      "Quay conveyor length (m):              500\n",
      "Quay conveying capacity added (t/h):   2800\n",
      "Current quay conveying capacity (t/h): 0\n"
     ]
    }
   ],
   "source": [
    "# at t=0 import conveyor class from infrastructure package and run initial conveyor configuration\n",
    "if parameters.timestep == 0:\n",
    "    q_conveyors = infra.q_conveyors\n",
    "    q_conveyors = invest.initial_conveyor_setup(q_conveyors)\n",
    "    \n",
    "# for each time step, check whether pending assets come online\n",
    "q_conveyors = invest.conveyor_online_transition(q_conveyors)\n",
    "    \n",
    "# for each time step, decide whether to invest in quay conveyors\n",
    "invest_decision = invest.quay_conveyor_invest_decision(q_conveyors, cranes)\n",
    "quay_conveyor_invest_decision = invest_decision[0]\n",
    "q_conveyors = invest_decision[1]\n",
    "\n",
    "# if investments are needed, calculate how much extra capacity should be added\n",
    "if quay_conveyor_invest_decision == 'Invest in quay conveyors':\n",
    "    q_conveyors = invest.quay_conveyor_expansion(q_conveyors, cranes)\n",
    "else:\n",
    "    q_conveyors[0].delta = 0\n",
    "\n",
    "print ('Quay conveyor length (m):             ', q_conveyors[0].length)\n",
    "print ('Quay conveying capacity added (t/h):  ', q_conveyors[0].delta)\n",
    "print ('Current quay conveying capacity (t/h):', q_conveyors[0].online_capacity)"
   ]
  },
  {
   "cell_type": "markdown",
   "metadata": {},
   "source": [
    "#### 3.2.5.1 Hinterland conveyor\n",
    "In this setup, the hinterland conveyor investment dicision is triggered whenever the loading station investment is triggered. The conveyor capacity is always sufficient to cope with the hinterland loading stations' capacity. It is assumed that each additional conveyor built increases conveying capacity by 400 t/h."
   ]
  },
  {
   "cell_type": "code",
   "execution_count": 12,
   "metadata": {},
   "outputs": [
    {
     "name": "stdout",
     "output_type": "stream",
     "text": [
      "Hinterland conveyor length (m):              500\n",
      "Hinterland conveying capacity added (t/h):   400\n",
      "Current hinterland conveying capacity (t/h): 0\n"
     ]
    }
   ],
   "source": [
    "# at t=0 import conveyor class from infrastructure package and run initial conveyor configuration\n",
    "if parameters.timestep == 0:\n",
    "    h_conveyors = infra.h_conveyors\n",
    "    h_conveyors = invest.initial_conveyor_setup(h_conveyors)\n",
    "    \n",
    "# for each time step, check whether pending assets come online\n",
    "h_conveyors = invest.conveyor_online_transition(h_conveyors)\n",
    "    \n",
    "# for each time step, decide whether to invest in hinterland conveyors\n",
    "invest_decision = invest.hinterland_conveyor_invest_decision(h_conveyors, stations)\n",
    "hinterland_conveyor_invest_decision = invest_decision[0]\n",
    "h_conveyors = invest_decision[1]\n",
    "\n",
    "# if investments are needed, calculate how much extra capacity should be added\n",
    "if hinterland_conveyor_invest_decision == 'Invest in hinterland conveyors':\n",
    "    h_conveyors = invest.hinterland_conveyor_expansion(h_conveyors, stations)\n",
    "else:\n",
    "    h_conveyors[0].delta = 0\n",
    "\n",
    "print ('Hinterland conveyor length (m):             ', h_conveyors[0].length)\n",
    "print ('Hinterland conveying capacity added (t/h):  ', h_conveyors[0].delta)\n",
    "print ('Current hinterland conveying capacity (t/h):', h_conveyors[0].online_capacity)"
   ]
  },
  {
   "cell_type": "markdown",
   "metadata": {},
   "source": [
    "## 3.3 Business Logic"
   ]
  },
  {
   "cell_type": "markdown",
   "metadata": {},
   "source": [
    "### 3.3.1 Revenue "
   ]
  },
  {
   "cell_type": "code",
   "execution_count": 13,
   "metadata": {},
   "outputs": [],
   "source": [
    "assets = [quays, cranes, storage, stations, q_conveyors, h_conveyors]"
   ]
  },
  {
   "cell_type": "code",
   "execution_count": 14,
   "metadata": {},
   "outputs": [
    {
     "name": "stdout",
     "output_type": "stream",
     "text": [
      "Maize revenue ($):   10000000\n",
      "Soybean revenue ($): 0\n",
      "Wheat revenue ($):   0\n",
      "Total revenue ($):   10000000\n"
     ]
    }
   ],
   "source": [
    "# at t=0 import revenue class from infrastructure package\n",
    "if parameters.timestep == 0:\n",
    "    revenues = financial.business_logic_objects()[0]\n",
    "    \n",
    "# for each time step, compute the incoming revenues\n",
    "revenues[parameters.timestep].calc()\n",
    "\n",
    "print ('Maize revenue ($):  ', revenues[timestep].maize)\n",
    "print ('Soybean revenue ($):', revenues[timestep].soybean)\n",
    "print ('Wheat revenue ($):  ', revenues[timestep].wheat)\n",
    "print ('Total revenue ($):  ', revenues[timestep].total)"
   ]
  },
  {
   "cell_type": "markdown",
   "metadata": {},
   "source": [
    "### 3.3.2 Capex"
   ]
  },
  {
   "cell_type": "code",
   "execution_count": 15,
   "metadata": {},
   "outputs": [
    {
     "name": "stdout",
     "output_type": "stream",
     "text": [
      "Quay capex($)            15310720\n",
      "Crane capex($)           7647500\n",
      "Storage capex($)         0\n",
      "Conveyor capex($)        9660000\n",
      "Loading station capex($) 1300000\n",
      "Total capex ($):         33918220\n"
     ]
    }
   ],
   "source": [
    "# at t=0 import capex class from infrastructure package\n",
    "if parameters.timestep == 0:\n",
    "    capex = financial.business_logic_objects()[1]\n",
    "    \n",
    "# for each time step, compute the capex\n",
    "capex[parameters.timestep].calc(assets)\n",
    "\n",
    "print ('Quay capex($)           ', capex[timestep].quay)\n",
    "print ('Crane capex($)          ', capex[timestep].cranes)\n",
    "print ('Storage capex($)        ', capex[timestep].storage)\n",
    "print ('Conveyor capex($)       ', capex[timestep].conveyors)\n",
    "print ('Loading station capex($)', capex[timestep].loading_stations)\n",
    "print ('Total capex ($):        ', capex[timestep].total)"
   ]
  },
  {
   "cell_type": "markdown",
   "metadata": {},
   "source": [
    "### 3.3.3 Labour costs"
   ]
  },
  {
   "cell_type": "code",
   "execution_count": 16,
   "metadata": {},
   "outputs": [
    {
     "name": "stdout",
     "output_type": "stream",
     "text": [
      "International staff costs($): 420000\n",
      "Local staff costs($):         188500\n",
      "Operational staff costs($):   0.0\n",
      "Total costs($):               608500\n"
     ]
    }
   ],
   "source": [
    "# at t=0 import labour cost class from infrastructure package\n",
    "if parameters.timestep == 0:\n",
    "    labour = financial.business_logic_objects()[2]\n",
    "    \n",
    "# for each time step, compute the labour costs\n",
    "labour[parameters.timestep].calc(assets)\n",
    "\n",
    "print ('International staff costs($):', labour[timestep].international_salary * labour[timestep].international_staff)\n",
    "print ('Local staff costs($):        ', labour[timestep].local_salary         * labour[timestep].local_staff)\n",
    "print ('Operational staff costs($):  ', labour[timestep].operational_salary   * labour[timestep].operational_staff)\n",
    "print ('Total costs($):              ', labour[timestep].total_costs)"
   ]
  },
  {
   "cell_type": "markdown",
   "metadata": {},
   "source": [
    "### 3.3.4 Maintenance costs"
   ]
  },
  {
   "cell_type": "code",
   "execution_count": 17,
   "metadata": {},
   "outputs": [
    {
     "name": "stdout",
     "output_type": "stream",
     "text": [
      "Quay maintenance costs($):     0\n",
      "Crane maintenance costs($):    0\n",
      "Storage maintenance costs($):  0\n",
      "Conveyor maintenance costs($): 0\n",
      "Total maintenance costs($):    0\n"
     ]
    }
   ],
   "source": [
    "# at t=0 import maintenance cost class from infrastructure package\n",
    "if parameters.timestep == 0:\n",
    "    maintenance = financial.business_logic_objects()[3]\n",
    "    \n",
    "# for each time step, compute the maintenance costs\n",
    "maintenance[parameters.timestep].calc(assets)\n",
    "\n",
    "print ('Quay maintenance costs($):    ', maintenance[timestep].quay)\n",
    "print ('Crane maintenance costs($):   ', maintenance[timestep].cranes)\n",
    "print ('Storage maintenance costs($): ', maintenance[timestep].storage)\n",
    "print ('Conveyor maintenance costs($):', maintenance[timestep].conveyors)\n",
    "print ('Total maintenance costs($):   ', maintenance[timestep].total_costs)"
   ]
  },
  {
   "cell_type": "markdown",
   "metadata": {},
   "source": [
    "### 3.3.5 Energy costs"
   ]
  },
  {
   "cell_type": "code",
   "execution_count": 18,
   "metadata": {},
   "outputs": [],
   "source": [
    "energy = financial.business_logic_objects()[4]"
   ]
  },
  {
   "cell_type": "markdown",
   "metadata": {},
   "source": [
    "### 3.3.6 Demurrage costs"
   ]
  },
  {
   "cell_type": "code",
   "execution_count": 19,
   "metadata": {},
   "outputs": [],
   "source": [
    "demurrage = financial.business_logic_objects()[5]"
   ]
  }
 ],
 "metadata": {
  "kernelspec": {
   "display_name": "Python 3",
   "language": "python",
   "name": "python3"
  },
  "language_info": {
   "codemirror_mode": {
    "name": "ipython",
    "version": 3
   },
   "file_extension": ".py",
   "mimetype": "text/x-python",
   "name": "python",
   "nbconvert_exporter": "python",
   "pygments_lexer": "ipython3",
   "version": "3.6.5"
  }
 },
 "nbformat": 4,
 "nbformat_minor": 2
}
