{
 "cells": [
  {
   "cell_type": "markdown",
   "metadata": {},
   "source": [
    "## Necessary Dependencies"
   ]
  },
  {
   "cell_type": "code",
   "execution_count": 26,
   "metadata": {},
   "outputs": [],
   "source": [
    "import json\n",
    "import numpy as np\n",
    "import pandas as pd"
   ]
  },
  {
   "cell_type": "code",
   "execution_count": 27,
   "metadata": {},
   "outputs": [],
   "source": [
    "import terminal_optimization.visualisation        as visualisation\n",
    "import terminal_optimization.forecast             as forecast\n",
    "import terminal_optimization.investment_decisions as invest\n",
    "import terminal_optimization.infrastructure       as infra\n",
    "import terminal_optimization.financial_analysis   as financial\n",
    "import terminal_optimization.initial_terminal     as initial"
   ]
  },
  {
   "cell_type": "markdown",
   "metadata": {},
   "source": [
    "## Methods and classes to move to package"
   ]
  },
  {
   "cell_type": "code",
   "execution_count": 37,
   "metadata": {},
   "outputs": [],
   "source": [
    "class Terminal:\n",
    "    def __init__(self, quays=[], berths=[], cranes=[], storages=[], stations=[], q_conveyors=[], h_conveyors=[]):\n",
    "        self.quays=quays\n",
    "        self.berths=berths\n",
    "        self.cranes=cranes\n",
    "        self.storages=storages\n",
    "        self.stations=stations\n",
    "        self.q_conveyors=q_conveyors\n",
    "        self.h_conveyors=h_conveyors\n",
    "\n",
    "class Decision_parameters:\n",
    "    pass\n",
    "\n",
    "class Simulation_parameters:\n",
    "    def __init__(self, start_year, simulation_window, operational_hours = 365*24):\n",
    "        self.startyear=start_year\n",
    "        self.simulation_window=simulation_window\n",
    "        self.operational_hours=operational_hours"
   ]
  },
  {
   "cell_type": "code",
   "execution_count": 29,
   "metadata": {},
   "outputs": [],
   "source": [
    "decision_parameters = Decision_parameters()"
   ]
  },
  {
   "cell_type": "code",
   "execution_count": 30,
   "metadata": {},
   "outputs": [],
   "source": [
    "def scenario_generator(start_year, simulation_window):\n",
    "    \n",
    "    # Import vessels from package\n",
    "    handysize = forecast.vessel(**forecast.handysize_data)\n",
    "    handymax  = forecast.vessel(**forecast.handymax_data)\n",
    "    panamax   = forecast.vessel(**forecast.panamax_data)\n",
    "    vessels = [handysize, handymax, panamax]\n",
    "    \n",
    "    # Import commodities from package\n",
    "    maize   = forecast.bulk_commodities(**forecast.maize_data)\n",
    "    soybean = forecast.bulk_commodities(**forecast.maize_data)\n",
    "    wheat   = forecast.bulk_commodities(**forecast.wheat_data)\n",
    "\n",
    "    # Maize - Linear demand\n",
    "    demand_maize  = 1000000        # demand at t=0\n",
    "    growth_maize  = 100000       \n",
    "\n",
    "    # Soybean - Exponential demand\n",
    "    demand_soybean = 1000000\n",
    "    rate_soybean   = 1.06          # year on year growth rate of demand (% points) - input for constant method and random method\n",
    "\n",
    "    # Wheat - Probabilistic demand\n",
    "    demand_wheat   = 1000000\n",
    "    rate_wheat     = 1.05\n",
    "    mu_wheat       = 0.01          # avg bonus rate added to base rate (% points)  - input for random method\n",
    "    sigma_wheat    = 0.015         # standard deviation of bonus rate (% points)   - input for random method\n",
    "\n",
    "    # Create forecast\n",
    "    maize.linear_forecast(vessels, start_year, simulation_window, demand_maize, growth_maize)\n",
    "    soybean.exponential_forecast(vessels, start_year, simulation_window, demand_soybean, rate_soybean)\n",
    "    wheat.random_forecast(vessels, start_year, simulation_window, demand_wheat, rate_wheat, mu_wheat, sigma_wheat)\n",
    "    commodities = [maize, soybean, wheat]\n",
    "    \n",
    "    # Calculate yearly calls\n",
    "    vessels = forecast.vessel_call_calc(maize, soybean, wheat, vessels)\n",
    "\n",
    "    # Plot forecast\n",
    "    visualisation.trend(maize, soybean, wheat, 10, 5)\n",
    "    \n",
    "    return vessels, commodities"
   ]
  },
  {
   "cell_type": "code",
   "execution_count": 31,
   "metadata": {},
   "outputs": [],
   "source": [
    "def simulator(start_year, simulation_window, operational_hours, vessels, commodities, terminal):\n",
    "\n",
    "    years = range (start_year, start_year + simulation_window)\n",
    "    for year in years:\n",
    "\n",
    "        timestep = year - start_year\n",
    "          \n",
    "        ######################\n",
    "        # Investment Decisions\n",
    "        ######################           \n",
    "        \n",
    "        # Berths\n",
    "        allowable_berth_occupancy = 0.15\n",
    "        berths, cranes = invest.berth_invest_decision(\n",
    "            terminal.berths, \n",
    "            terminal.cranes, \n",
    "            terminal.berth_objects, \n",
    "            allowable_berth_occupancy, \n",
    "            vessels, \n",
    "            year, timestep, operational_hours)\n",
    "               \n",
    "        # Quay\n",
    "        quays = invest.quay_invest_decision(quays, berths, quay_object, year, timestep)\n",
    "        \n",
    "        # Cranes (NB: isn't this a double definition of cranes?)\n",
    "        cranes = invest.crane_invest_decision(cranes, berths, cranes_object, year, timestep)\n",
    "        \n",
    "        # Storage\n",
    "        storage_type            = 'Silos'\n",
    "        trigger_throughput_perc = 10  # Percentage of annual throughput which triggers the investment in a new storage unit\n",
    "        aspired_throughput_perc = 20  # Aspired of annual throughput which is realised due to the new storage unit\n",
    "        storages = invest.storage_invest_decision(storages, storage_object, trigger_throughput_perc, aspired_throughput_perc, storage_type, commodities, year, timestep)\n",
    "        \n",
    "        # Loading stations\n",
    "        station_utilisation     = 0.60 # Loading station utilisation\n",
    "        trigger_throughput_perc = 80   # Percentage of hourly peak demand which triggers the investment in a new loading unit\n",
    "        aspired_throughput_perc = 120  # Aspired percentage of hourly peak demand which is realised due to the new loading unit\n",
    "        stations = invest.station_invest_decision(stations, station_object, station_utilisation, trigger_throughput_perc, aspired_throughput_perc, commodities, year, timestep, operational_hours)\n",
    "\n",
    "        # Conveyors\n",
    "        q_conveyors = invest.quay_conveyor_invest_decision(q_conveyors, cranes, quay_conveyor_object, year, timestep, operational_hours)\n",
    "        h_conveyors = invest.hinterland_conveyor_invest_decision(h_conveyors, stations, hinterland_conveyor_object, year, timestep, operational_hours)\n",
    "        \n",
    "        # add objects to terminal \n",
    "        for berth in berths:\n",
    "            terminal.berths.append(berth)\n",
    "            \n",
    "        for crane in cranes:\n",
    "            terminal.cranes.append(crane)\n",
    "\n",
    "        for quay in quays:\n",
    "            terminal.quays.append(quay)\n",
    "            \n",
    "        for storage in storages:\n",
    "            terminal.storages.append(storage)\n",
    "            \n",
    "        for station in stations:\n",
    "            terminal.stations.append(station)\n",
    "            \n",
    "        for q_conveyor in q_conveyors:\n",
    "            terminal.q_conveyors.append(q_conveyor)\n",
    "\n",
    "        for h_conveyor in h_conveyors:\n",
    "            terminal.h_conveyors.append(h_conveyor)\n",
    "\n",
    "        ######################\n",
    "        # Business Logic\n",
    "        ######################\n",
    "\n",
    "        # Terminal throughput\n",
    "        throughputs = financial.throughput_calc(throughputs, commodities, \\\n",
    "                                                terminal.berths, cranes, year, timestep, operational_hours)\n",
    "\n",
    "        # Revenues\n",
    "        revenues = financial.revenue_calc(revenues, commodities, throughputs, year, timestep)\n",
    "\n",
    "        # Capex\n",
    "        capex = financial.capex_calc(capex, quays, cranes, storage, stations, q_conveyors, h_conveyors, year, timestep)\n",
    "\n",
    "        # Labour costs\n",
    "        labour = financial.labour_calc(labour, cranes, storage, stations, q_conveyors, h_conveyors, year, timestep, operational_hours)\n",
    "\n",
    "        # Maintenance costs\n",
    "        maintenance = financial.maintenance_calc(maintenance, quays, cranes, storage, stations, q_conveyors, h_conveyors, year, timestep)\n",
    "\n",
    "        # Energy costs\n",
    "        energy = financial.energy_calc(energy, berths, cranes, storage, stations, q_conveyors, h_conveyors, year, operational_hours, timestep)\n",
    "\n",
    "        # Insurance costs\n",
    "        insurance = financial.insurance_calc(insurance, quays, cranes, storage, stations, q_conveyors, h_conveyors, year, timestep)\n",
    "\n",
    "        # Lease costs \n",
    "        lease = financial.lease_calc(lease, year,timestep)\n",
    "\n",
    "        # Demurrage costs\n",
    "        demurrage = financial.demurrage_calc(demurrage, year, berths, handysize, handymax, panamax, timestep)\n",
    "\n",
    "        # Residual value calculations \n",
    "        residuals = financial.residual_calc(residuals, quays, cranes, storage, stations, q_conveyors, h_conveyors, assets, year, timestep)\n",
    "\n",
    "        # Profits\n",
    "        profits = financial.profit_calc(profits, revenues, capex, labour, maintenance, energy, insurance, lease, demurrage, residuals, simulation_window, timestep, year, start_year)\n",
    "        \n",
    "        # Opex\n",
    "        opex = financial.opex_calc(opex, labour, maintenance, energy, insurance, lease, demurrage, year, timestep)\n",
    "        \n",
    "        # WACC depreciated profits\n",
    "        #profits_WACC = financial.WACC_calc(profits, simulation_window)\n",
    "   \n",
    "    return terminal\n"
   ]
  },
  {
   "cell_type": "markdown",
   "metadata": {},
   "source": [
    "## 1. Prepare calculation input (I/O)"
   ]
  },
  {
   "cell_type": "markdown",
   "metadata": {},
   "source": [
    "### Main calculation parameters"
   ]
  },
  {
   "cell_type": "code",
   "execution_count": 32,
   "metadata": {},
   "outputs": [],
   "source": [
    "start_year        = 2018   # start year of simulation\n",
    "simulation_window = 20     # looking 20 years ahead\n",
    "operational_hours = 365*24 # operational hours per year"
   ]
  },
  {
   "cell_type": "markdown",
   "metadata": {},
   "source": [
    "### Estimate trends"
   ]
  },
  {
   "cell_type": "code",
   "execution_count": 33,
   "metadata": {},
   "outputs": [
    {
     "data": {
      "image/png": "[encoded data removed]",
      "text/plain": [
       "<Figure size 720x360 with 1 Axes>"
      ]
     },
     "metadata": {},
     "output_type": "display_data"
    }
   ],
   "source": [
    "vessels, commodities = scenario_generator(start_year, simulation_window)"
   ]
  },
  {
   "cell_type": "markdown",
   "metadata": {},
   "source": [
    "### Specify terminal status @ t=0"
   ]
  },
  {
   "cell_type": "code",
   "execution_count": 38,
   "metadata": {},
   "outputs": [],
   "source": [
    "terminal = Terminal()\n",
    "\n",
    "terminal.quays.append(infra.quay_object)      \n",
    "terminal.berths.append(infra.berth_object)     \n",
    "terminal.cranes.append(infra.cranes_object[0])     \n",
    "terminal.cranes.append(infra.cranes_object[1])     \n",
    "terminal.cranes.append(infra.cranes_object[2])     \n",
    "terminal.cranes.append(infra.cranes_object[3])     \n",
    "terminal.storages.append(infra.storage_object[0]) \n",
    "terminal.storages.append(infra.storage_object[1]) \n",
    "terminal.stations.append(infra.station_object)   \n",
    "terminal.q_conveyors.append(infra.quay_conveyor_object) \n",
    "terminal.h_conveyors.append(infra.hinterland_conveyor_object)\n",
    "\n",
    "terminal.throughputs, terminal.revenues, terminal.capex, terminal.labour, terminal.maintenance, energy,\\\n",
    "    terminal.insurance, terminal.lease, terminal.demurrage, terminal.residuals, terminal.profits, terminal.opex = \\\n",
    "    [], [], [], [], [], [], [], [], [], [], [], []"
   ]
  },
  {
   "cell_type": "markdown",
   "metadata": {},
   "source": [
    "# 2. Perform simulation"
   ]
  },
  {
   "cell_type": "code",
   "execution_count": 35,
   "metadata": {},
   "outputs": [
    {
     "ename": "AttributeError",
     "evalue": "'Terminal' object has no attribute 'berth_objects'",
     "output_type": "error",
     "traceback": [
      "\u001b[1;31m---------------------------------------------------------------------------\u001b[0m",
      "\u001b[1;31mAttributeError\u001b[0m                            Traceback (most recent call last)",
      "\u001b[1;32m<ipython-input-35-24cf05aa82a0>\u001b[0m in \u001b[0;36m<module>\u001b[1;34m()\u001b[0m\n\u001b[1;32m----> 1\u001b[1;33m \u001b[0mterminal\u001b[0m \u001b[1;33m=\u001b[0m \u001b[0msimulator\u001b[0m\u001b[1;33m(\u001b[0m\u001b[0mstart_year\u001b[0m\u001b[1;33m,\u001b[0m \u001b[0msimulation_window\u001b[0m\u001b[1;33m,\u001b[0m \u001b[0moperational_hours\u001b[0m\u001b[1;33m,\u001b[0m \u001b[0mvessels\u001b[0m\u001b[1;33m,\u001b[0m \u001b[0mcommodities\u001b[0m\u001b[1;33m,\u001b[0m \u001b[0mterminal\u001b[0m\u001b[1;33m)\u001b[0m\u001b[1;33m\u001b[0m\u001b[0m\n\u001b[0m",
      "\u001b[1;32m<ipython-input-31-7f8b25c4e8b3>\u001b[0m in \u001b[0;36msimulator\u001b[1;34m(start_year, simulation_window, operational_hours, vessels, commodities, terminal)\u001b[0m\n\u001b[0;32m     15\u001b[0m             \u001b[0mterminal\u001b[0m\u001b[1;33m.\u001b[0m\u001b[0mberths\u001b[0m\u001b[1;33m,\u001b[0m\u001b[1;33m\u001b[0m\u001b[0m\n\u001b[0;32m     16\u001b[0m             \u001b[0mterminal\u001b[0m\u001b[1;33m.\u001b[0m\u001b[0mcranes\u001b[0m\u001b[1;33m,\u001b[0m\u001b[1;33m\u001b[0m\u001b[0m\n\u001b[1;32m---> 17\u001b[1;33m             \u001b[0mterminal\u001b[0m\u001b[1;33m.\u001b[0m\u001b[0mberth_objects\u001b[0m\u001b[1;33m,\u001b[0m\u001b[1;33m\u001b[0m\u001b[0m\n\u001b[0m\u001b[0;32m     18\u001b[0m             \u001b[0mallowable_berth_occupancy\u001b[0m\u001b[1;33m,\u001b[0m\u001b[1;33m\u001b[0m\u001b[0m\n\u001b[0;32m     19\u001b[0m             \u001b[0mvessels\u001b[0m\u001b[1;33m,\u001b[0m\u001b[1;33m\u001b[0m\u001b[0m\n",
      "\u001b[1;31mAttributeError\u001b[0m: 'Terminal' object has no attribute 'berth_objects'"
     ]
    }
   ],
   "source": [
    "terminal = simulator(start_year, simulation_window, operational_hours, vessels, commodities, terminal)"
   ]
  },
  {
   "cell_type": "markdown",
   "metadata": {},
   "source": [
    "# 4 Preliminary Plots\n",
    "### Profit/loss"
   ]
  },
  {
   "cell_type": "code",
   "execution_count": null,
   "metadata": {},
   "outputs": [],
   "source": [
    "# Plotting annualised profits\n",
    "plot_file.profit_loss(profits, 10, 5)"
   ]
  },
  {
   "cell_type": "markdown",
   "metadata": {},
   "source": [
    "### Annual cashflows"
   ]
  },
  {
   "cell_type": "code",
   "execution_count": null,
   "metadata": {},
   "outputs": [],
   "source": [
    "# Plotting yearly cashflows\n",
    "plot_file.all_cashflows(revenues, capex, labour, maintenance, energy, insurance, demurrage, residuals, 10, 5)"
   ]
  },
  {
   "cell_type": "markdown",
   "metadata": {},
   "source": [
    "### Demand vs. Capacity"
   ]
  },
  {
   "cell_type": "code",
   "execution_count": null,
   "metadata": {},
   "outputs": [],
   "source": [
    "# Plotting capacity vs. demand \n",
    "plot_file.throughput(commodities, throughputs, 10, 5)"
   ]
  },
  {
   "cell_type": "markdown",
   "metadata": {},
   "source": [
    "# 5 NPV"
   ]
  },
  {
   "cell_type": "code",
   "execution_count": null,
   "metadata": {},
   "outputs": [],
   "source": [
    "#NPV = financial.NPV_calc(profits_WACC)\n",
    "#NPV"
   ]
  },
  {
   "cell_type": "code",
   "execution_count": null,
   "metadata": {},
   "outputs": [],
   "source": [
    "from terminal_optimization.infrastructure import quay_object\n",
    "\n",
    "# simulation parameters (year, window, triggers)\n",
    "\n",
    "# generate trend\n",
    "\n",
    "# define port at t =0\n",
    "terminal.quays = []\n",
    "terminal.berths = []\n",
    "\n",
    "# business logic\n",
    "terminal = simulate(year, window, trend, terminal)        \n",
    "\n",
    "# postprocessing\n",
    "npv = npv(terminal)\n",
    "\n",
    "# plotting\n",
    "terminal_optimization.plot.cashflow_overview(terminal.quays[0])"
   ]
  }
 ],
 "metadata": {
  "kernelspec": {
   "display_name": "Python 3",
   "language": "python",
   "name": "python3"
  },
  "language_info": {
   "codemirror_mode": {
    "name": "ipython",
    "version": 3
   },
   "file_extension": ".py",
   "mimetype": "text/x-python",
   "name": "python",
   "nbconvert_exporter": "python",
   "pygments_lexer": "ipython3",
   "version": "3.6.3"
  }
 },
 "nbformat": 4,
 "nbformat_minor": 2
}
