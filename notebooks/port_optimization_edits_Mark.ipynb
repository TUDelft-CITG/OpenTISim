{
 "cells": [
  {
   "cell_type": "code",
   "execution_count": null,
   "metadata": {},
   "outputs": [],
   "source": [
    "from terminal_optimization.infrastructure import quay_object\n",
    "\n",
    "# simulation parameters (year, window, triggers)\n",
    "\n",
    "# generate trend\n",
    "\n",
    "# define port at t =0\n",
    "terminal.quays = []\n",
    "terminal.berths = []\n",
    "\n",
    "# business logic\n",
    "terminal = simulate(year, window, trend, terminal)        \n",
    "\n",
    "# postprocessing\n",
    "npv = npv(terminal)\n",
    "\n",
    "# plotting\n",
    "terminal_optimization.plot.cashflow_overview(terminal.quays[0])"
   ]
  },
  {
   "cell_type": "code",
   "execution_count": 1,
   "metadata": {},
   "outputs": [],
   "source": [
    "import json\n",
    "import numpy as np\n",
    "import pandas as pd"
   ]
  },
  {
   "cell_type": "code",
   "execution_count": 2,
   "metadata": {},
   "outputs": [],
   "source": [
    "import terminal_optimization.plot_file as plot_file\n",
    "from terminal_optimization.forecast import maize, soybean, wheat, \\\n",
    "                                           handysize, handymax, panamax\n",
    "import terminal_optimization.infrastructure       as infra\n",
    "import terminal_optimization.investment_decisions as invest\n",
    "import terminal_optimization.business_logic       as financial"
   ]
  },
  {
   "cell_type": "markdown",
   "metadata": {},
   "source": [
    "## Methods and classes to move to package"
   ]
  },
  {
   "cell_type": "code",
   "execution_count": 6,
   "metadata": {},
   "outputs": [],
   "source": [
    "class Terminal:\n",
    "    pass\n",
    "\n",
    "class Simulation_parameters:\n",
    "    pass\n",
    "\n",
    "class Decision_parameters:\n",
    "    pass"
   ]
  },
  {
   "cell_type": "code",
   "execution_count": 10,
   "metadata": {},
   "outputs": [],
   "source": [
    "startyear = 2018\n",
    "simulation_window = 20\n",
    "operational_hours = 365*24\n",
    "\n",
    "simulation_parameters = Simulation_parameters()\n",
    "simulation_parameters.start_year = startyear\n",
    "simulation_parameters.simulation_window = simulation_window\n",
    "simulation_parameters.operational_hours = operational_hours"
   ]
  },
  {
   "cell_type": "code",
   "execution_count": null,
   "metadata": {},
   "outputs": [],
   "source": [
    "decision_parameters = Decision_parameters()\n"
   ]
  },
  {
   "cell_type": "code",
   "execution_count": 4,
   "metadata": {},
   "outputs": [],
   "source": [
    "\n",
    "def simulate(simulation_parameters, decision_parameters, trends, terminal, vessels, commodities):\n",
    "\n",
    "    years = range (simulation_parameters.start_year, simulation_parameters.start_year + simulation_parameters.simulation_window)\n",
    "    for year in years:\n",
    "\n",
    "        timestep = year - simulation_parameters.start_year\n",
    "          \n",
    "        ######################\n",
    "        # Investment Decisions\n",
    "        ######################           \n",
    "        \n",
    "        # Berths\n",
    "        allowable_berth_occupancy = 0.15\n",
    "        berths, cranes = invest.berth_invest_decision(\n",
    "            terminal.berths, \n",
    "            terminal.cranes, \n",
    "            terminal.berth_objects, \n",
    "            allowable_berth_occupancy, \n",
    "            vessels, \n",
    "            year, timestep, simulation_parameters.operational_hours)\n",
    "\n",
    "        # Quay\n",
    "        quays = invest.quay_invest_decision(quays, berths, quay_object, year, timestep)\n",
    "\n",
    "        # Cranes (NB: isn't this a double definition of cranes?)\n",
    "        cranes = invest.crane_invest_decision(cranes, berths, cranes_object, year, timestep)\n",
    "        \n",
    "        # Storage\n",
    "        storage_type            = 'Silos'\n",
    "        trigger_throughput_perc = 10  # Percentage of annual throughput which triggers the investment in a new storage unit\n",
    "        aspired_throughput_perc = 20  # Aspired of annual throughput which is realised due to the new storage unit\n",
    "        storages = invest.storage_invest_decision(storages, storage_object, trigger_throughput_perc, aspired_throughput_perc, storage_type, commodities, year, timestep)\n",
    "\n",
    "        # Loading stations\n",
    "        station_utilisation     = 0.60 # Loading station utilisation\n",
    "        trigger_throughput_perc = 80   # Percentage of hourly peak demand which triggers the investment in a new loading unit\n",
    "        aspired_throughput_perc = 120  # Aspired percentage of hourly peak demand which is realised due to the new loading unit\n",
    "        stations = invest.station_invest_decision(stations, station_object, station_utilisation, trigger_throughput_perc, aspired_throughput_perc, commodities, year, timestep, operational_hours)\n",
    "\n",
    "        # Conveyors\n",
    "        q_conveyors = invest.quay_conveyor_invest_decision(q_conveyors, cranes, quay_conveyor_object, year, timestep, operational_hours)\n",
    "        h_conveyors = invest.hinterland_conveyor_invest_decision(h_conveyors, stations, hinterland_conveyor_object, year, timestep, operational_hours)\n",
    "\n",
    "        # add objects to terminal \n",
    "        for berth in berths:\n",
    "            terminal.berths.append(berth)\n",
    "            \n",
    "        for crane in cranes:\n",
    "            terminal.cranes.append(crane)\n",
    "\n",
    "        for quay in quays:\n",
    "            terminal.quays.append(quay)\n",
    "            \n",
    "        for storage in storages:\n",
    "            terminal.storages.append(storage)\n",
    "            \n",
    "        for station in stations:\n",
    "            terminal.stations.append(station)\n",
    "            \n",
    "        for q_conveyor in q_conveyors:\n",
    "            terminal.q_conveyors.append(q_conveyor)\n",
    "\n",
    "        for h_conveyor in h_conveyors:\n",
    "            terminal.h_conveyors.append(h_conveyor)\n",
    "\n",
    "        ######################\n",
    "        # Business Logic\n",
    "        ######################\n",
    "\n",
    "        # Terminal throughput\n",
    "        throughputs = financial.throughput_calc(throughputs, commodities, \\\n",
    "                                                terminal.berths, cranes, year, timestep, operational_hours)\n",
    "\n",
    "        # Revenues\n",
    "        revenues = financial.revenue_calc(revenues, commodities, throughputs, year, timestep)\n",
    "\n",
    "        # Capex\n",
    "        capex = financial.capex_calc(capex, quays, cranes, storage, stations, q_conveyors, h_conveyors, year, timestep)\n",
    "\n",
    "        # Labour costs\n",
    "        labour = financial.labour_calc(labour, cranes, storage, stations, q_conveyors, h_conveyors, year, timestep, operational_hours)\n",
    "\n",
    "        # Maintenance costs\n",
    "        maintenance = financial.maintenance_calc(maintenance, quays, cranes, storage, stations, q_conveyors, h_conveyors, year, timestep)\n",
    "\n",
    "        # Energy costs\n",
    "        energy = financial.energy_calc(energy, berths, cranes, storage, stations, q_conveyors, h_conveyors, year, operational_hours, timestep)\n",
    "\n",
    "        # Insurance costs\n",
    "        insurance = financial.insurance_calc(insurance, quays, cranes, storage, stations, q_conveyors, h_conveyors, year, timestep)\n",
    "\n",
    "        # Lease costs \n",
    "        lease = financial.lease_calc(lease, year,timestep)\n",
    "\n",
    "        # Demurrage costs\n",
    "        demurrage = financial.demurrage_calc(demurrage, year, berths, handysize, handymax, panamax, timestep)\n",
    "\n",
    "        # Residual value calculations \n",
    "        residuals = financial.residual_calc(residuals, quays, cranes, storage, stations, q_conveyors, h_conveyors, assets, year, timestep)\n",
    "\n",
    "        # Profits\n",
    "        profits = financial.profit_calc(profits, revenues, capex, labour, maintenance, energy, insurance, lease, demurrage, residuals, simulation_window, timestep, year, start_year)\n",
    "        \n",
    "        # Opex\n",
    "        opex = financial.opex_calc(opex, labour, maintenance, energy, insurance, lease, demurrage, year, timestep)\n",
    "        \n",
    "        # WACC depreciated profits\n",
    "        #profits_WACC = financial.WACC_calc(profits, simulation_window)\n",
    "    terminal = Terminal()\n",
    "    quays, berths, cranes, storage, stations, q_conveyors, h_conveyors, throughputs, revenues, capex, labour, maintenance, energy, insurance, lease, demurrage, residuals, profits, opex            \n",
    "    return terminal\n"
   ]
  },
  {
   "cell_type": "code",
   "execution_count": 51,
   "metadata": {},
   "outputs": [],
   "source": []
  },
  {
   "cell_type": "code",
   "execution_count": 52,
   "metadata": {},
   "outputs": [],
   "source": [
    "terminal.quays = quays"
   ]
  },
  {
   "cell_type": "markdown",
   "metadata": {},
   "source": [
    "## 1. Prepare calculation input (I/O)"
   ]
  },
  {
   "cell_type": "markdown",
   "metadata": {},
   "source": [
    "### Main calculation parameters"
   ]
  },
  {
   "cell_type": "code",
   "execution_count": 18,
   "metadata": {},
   "outputs": [],
   "source": [
    "simulation_window = 20     # looking 20 years ahead\n",
    "start_year        = 2018   # start year of simulation\n",
    "operational_hours = 365*24 # operational hours per year"
   ]
  },
  {
   "cell_type": "markdown",
   "metadata": {},
   "source": [
    "### Estimate trend"
   ]
  },
  {
   "cell_type": "markdown",
   "metadata": {},
   "source": [
    "#### Linear"
   ]
  },
  {
   "cell_type": "code",
   "execution_count": 22,
   "metadata": {},
   "outputs": [],
   "source": [
    "# Maize - Linear demand\n",
    "demand_maize  = 1000000        # demand at t=0\n",
    "growth_maize  = 100000  \n",
    "\n",
    "maize.linear_forecast        (year, simulation_window, demand_maize, growth_maize)"
   ]
  },
  {
   "cell_type": "markdown",
   "metadata": {},
   "source": [
    "#### Exponential"
   ]
  },
  {
   "cell_type": "code",
   "execution_count": 23,
   "metadata": {},
   "outputs": [],
   "source": [
    "# Soybean - Exponential demand\n",
    "demand_soybean = 1000000\n",
    "rate_soybean   = 1.06          # year on year growth rate of demand (% points) - input for constant method and random method\n",
    "\n",
    "soybean.exponential_forecast (year, simulation_window, demand_soybean, rate_soybean)"
   ]
  },
  {
   "cell_type": "markdown",
   "metadata": {},
   "source": [
    "#### Probabilistic"
   ]
  },
  {
   "cell_type": "code",
   "execution_count": 24,
   "metadata": {},
   "outputs": [],
   "source": [
    "# Wheat - Probabilistic demand\n",
    "demand_wheat   = 1000000\n",
    "rate_wheat     = 1.05\n",
    "mu_wheat       = 0.01          # avg bonus rate added to base rate (% points)  - input for random method\n",
    "sigma_wheat    = 0.015         # standard deviation of bonus rate (% points)   - input for random method\n",
    "\n",
    "wheat.random_forecast        (year, simulation_window, demand_wheat, rate_wheat, mu_wheat, sigma_wheat)"
   ]
  },
  {
   "cell_type": "code",
   "execution_count": 21,
   "metadata": {},
   "outputs": [
    {
     "data": {
      "text/plain": [
       "<matplotlib.axes._subplots.AxesSubplot at 0x28434cc8eb8>"
      ]
     },
     "execution_count": 21,
     "metadata": {},
     "output_type": "execute_result"
    },
    {
     "data": {
      "image/png": "[encoded data removed]",
      "text/plain": [
       "<Figure size 720x360 with 1 Axes>"
      ]
     },
     "metadata": {},
     "output_type": "display_data"
    }
   ],
   "source": [
    "# Plot forecasts\n",
    "plot_file.trend(maize, soybean, wheat, 10, 5)"
   ]
  },
  {
   "cell_type": "markdown",
   "metadata": {},
   "source": [
    "### Specify terminal status @ t=0"
   ]
  },
  {
   "cell_type": "code",
   "execution_count": 44,
   "metadata": {},
   "outputs": [],
   "source": [
    "quays, berths, cranes, storages, stations, q_conveyors, h_conveyors = [], [], [], [], [], [], []\n",
    "\n",
    "quays.append(infra.quay_object)      \n",
    "berths.append(infra.berth_object)     \n",
    "cranes.append(infra.cranes_object[0])     \n",
    "cranes.append(infra.cranes_object[1])     \n",
    "cranes.append(infra.cranes_object[2])     \n",
    "cranes.append(infra.cranes_object[3])     \n",
    "storage.append(infra.storage_object)    \n",
    "stations.append(infra.station_object)   \n",
    "q_conveyors.append(infra.quay_conveyor_object) \n",
    "h_conveyors.append(infra.hinterland_conveyor_object)\n",
    "\n",
    "throughputs, revenues, capex, labour, maintenance, energy,\\\n",
    "    insurance, lease, demurrage, residuals, profits, opex = \\\n",
    "    [], [], [], [], [], [], [], [], [], [], [], []"
   ]
  },
  {
   "cell_type": "markdown",
   "metadata": {},
   "source": [
    "### Specify vessels and commodities"
   ]
  },
  {
   "cell_type": "code",
   "execution_count": 46,
   "metadata": {},
   "outputs": [],
   "source": [
    "vessels       = [handysize, handymax, panamax]\n",
    "commodities   = [maize, soybean, wheat]"
   ]
  },
  {
   "cell_type": "markdown",
   "metadata": {},
   "source": [
    "# 2. Perform simulation"
   ]
  },
  {
   "cell_type": "code",
   "execution_count": 10,
   "metadata": {},
   "outputs": [],
   "source": [
    "terminal = simulate(start_year, simulation_window, trends, terminal)"
   ]
  },
  {
   "cell_type": "code",
   "execution_count": 11,
   "metadata": {
    "scrolled": false
   },
   "outputs": [
    {
     "name": "stdout",
     "output_type": "stream",
     "text": [
      "0\n",
      "Are you sure that copy will work?\n",
      "1\n",
      "2\n",
      "3\n",
      "4\n",
      "5\n",
      "6\n",
      "7\n",
      "8\n",
      "9\n",
      "10\n",
      "11\n",
      "12\n",
      "13\n",
      "14\n",
      "15\n",
      "16\n",
      "17\n",
      "18\n",
      "19\n"
     ]
    }
   ],
   "source": [
    "quays, berths, cranes, storage, stations, q_conveyors, h_conveyors, throughputs, revenues, capex, labour, maintenance, energy, insurance, lease, demurrage, residuals, profits, opex = simulate(start_year, simulation_window)"
   ]
  },
  {
   "cell_type": "markdown",
   "metadata": {},
   "source": [
    "# 4 Preliminary Plots\n",
    "### Profit/loss"
   ]
  },
  {
   "cell_type": "code",
   "execution_count": null,
   "metadata": {},
   "outputs": [],
   "source": [
    "# Plotting annualised profits\n",
    "plot_file.profit_loss(profits, 10, 5)"
   ]
  },
  {
   "cell_type": "markdown",
   "metadata": {},
   "source": [
    "### Annual cashflows"
   ]
  },
  {
   "cell_type": "code",
   "execution_count": null,
   "metadata": {},
   "outputs": [],
   "source": [
    "# Plotting yearly cashflows\n",
    "plot_file.all_cashflows(revenues, capex, labour, maintenance, energy, insurance, demurrage, residuals, 10, 5)"
   ]
  },
  {
   "cell_type": "markdown",
   "metadata": {},
   "source": [
    "### Demand vs. Capacity"
   ]
  },
  {
   "cell_type": "code",
   "execution_count": null,
   "metadata": {},
   "outputs": [],
   "source": [
    "# Plotting capacity vs. demand \n",
    "plot_file.throughput(commodities, throughputs, 10, 5)"
   ]
  },
  {
   "cell_type": "markdown",
   "metadata": {},
   "source": [
    "# 5 NPV"
   ]
  },
  {
   "cell_type": "code",
   "execution_count": null,
   "metadata": {},
   "outputs": [],
   "source": [
    "#NPV = financial.NPV_calc(profits_WACC)\n",
    "#NPV"
   ]
  }
 ],
 "metadata": {
  "kernelspec": {
   "display_name": "Python 3",
   "language": "python",
   "name": "python3"
  },
  "language_info": {
   "codemirror_mode": {
    "name": "ipython",
    "version": 3
   },
   "file_extension": ".py",
   "mimetype": "text/x-python",
   "name": "python",
   "nbconvert_exporter": "python",
   "pygments_lexer": "ipython3",
   "version": "3.6.3"
  }
 },
 "nbformat": 4,
 "nbformat_minor": 2
}
