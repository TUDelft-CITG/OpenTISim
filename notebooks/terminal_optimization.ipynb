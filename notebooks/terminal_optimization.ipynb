{
 "cells": [
  {
   "cell_type": "markdown",
   "metadata": {},
   "source": [
    "# Table of Contents\n",
    "\n",
    "### 1 Scenario Generator\n",
    "Generates a demand scenario for three commodities: maize, soybean and wheat, which is then fed into the simulator. Each demand trajectory consists out of a historic demand component and a scenario component. The scenario component can be created linearly, exponentially, exponentially linked to random seeding or can be predefined.\n",
    "### 2 Simulator\n",
    "Iterates through every year within the simulation window, is fed with demand scenario (see chapter 1), initial terminal setup and a list of investment triggers. All in all, the simulator produces a single *terminal* variable, under which all infrastructure and financial components are grouped (e.g. terminal.quays, terminal.capex, terminal.NPV etc.)\n",
    "### 3 Investment Triggers Iteration\n",
    "Runs the simulator (chapter 2) multiple times, while slightly changing each investment trigger. The resulting *terminal* variables are saved in a list after which the impact of each trigger alteration can be visualised.\n",
    "### 4 Risk Sensitivity Iteration\n",
    "Runs the simulator (chapter 2) multiple times, while slight changing the presumed risk (quantified as weighted average cost of capital (WACC)). The resulting *terminal* variables are saved in a list after which the sensitivit to risk can be visualised.\n",
    "### 5 Single Simulation Run \n",
    "Runs a single simulation (chapter 2) using predefined triggers\n",
    "### 6 Plots\n",
    "Result visualisations"
   ]
  },
  {
   "cell_type": "code",
   "execution_count": 1,
   "metadata": {},
   "outputs": [],
   "source": [
    "import plotly\n",
    "import numpy as np\n",
    "import pandas as pd\n",
    "\n",
    "import plotly.tools as tls \n",
    "import plotly.plotly as py  \n",
    "import plotly.graph_objs as go\n",
    "from plotly.graph_objs import *\n",
    "import matplotlib.pyplot as plt\n",
    "import plotly.figure_factory as ff\n",
    "%matplotlib inline\n",
    "\n",
    "import terminal_optimization.visualisation        as visualisation\n",
    "import terminal_optimization.forecast             as forecast\n",
    "import terminal_optimization.investment_decisions as invest\n",
    "import terminal_optimization.infrastructure       as infra\n",
    "import terminal_optimization.financial_analysis   as financial\n",
    "import terminal_optimization.initial_terminal     as initial\n",
    "\n",
    "# Log in to Plotly servers\n",
    "plotly.tools.set_credentials_file(username='jorisneuman', api_key='zButeTrlr5xVETcyvazd')\n",
    "#plotly.tools.set_credentials_file(username='wijzermans', api_key='FKGDvSah3z5WCNREBZEq')\n",
    "#plotly.tools.set_credentials_file(username='wijnandijzermans', api_key='xeDEwwpCK3aLLR4TIrM9')"
   ]
  },
  {
   "cell_type": "markdown",
   "metadata": {},
   "source": [
    "## 1 Traffic Generator"
   ]
  },
  {
   "cell_type": "code",
   "execution_count": 2,
   "metadata": {},
   "outputs": [],
   "source": [
    "def traffic_generator(start_year, simulation_window):\n",
    "    \n",
    "    ###################################################################################################\n",
    "    # Traffic projections on which estimate is based\n",
    "    ###################################################################################################\n",
    "\n",
    "    # Import commodities from package\n",
    "    maize   = forecast.bulk_commodities(**forecast.maize_data)\n",
    "    soybean = forecast.bulk_commodities(**forecast.maize_data)\n",
    "    wheat   = forecast.bulk_commodities(**forecast.wheat_data)\n",
    "\n",
    "    # Maize - Probabilistic demand\n",
    "    historic_demand_maize = [1000000,1200000,1180000,1210000,1250000]\n",
    "    rate_maize  = 1.02          # Avg population growth over the past 5 years\n",
    "    mu_maize    = 0.01          # avg bonus rate added to base rate (% points)  - based on seasonality\n",
    "    sigma_maize = 0.025         # standard deviation of bonus rate (% points)   - based on seasonality\n",
    "\n",
    "    # Create traffic projections\n",
    "    start_year = 2018\n",
    "    simulation_window = 20\n",
    "    traffic_projections = []\n",
    "    for iterations in range(1001):\n",
    "        maize.random_scenario(start_year, simulation_window, historic_demand_maize, rate_maize, mu_maize, sigma_maize)\n",
    "        traffic_projections.append(maize.demand)\n",
    "    \n",
    "    ###################################################################################################\n",
    "    # Traffic scenario based on median present quantity of all projections\n",
    "    ################################################################################################### \n",
    "    \n",
    "    # Calculate the net present quantity of each projection\n",
    "    project_WACC = 0.09\n",
    "    WACC_factor = []\n",
    "    for year in range (len(historic_demand_maize)):\n",
    "        WACC_factor.append(1.0)\n",
    "    for year in range (simulation_window):\n",
    "        WACC_factor.append(1/((1+project_WACC)**(year)))\n",
    "\n",
    "    traffic_matrix = np.zeros(shape=(len(traffic_projections), 2))\n",
    "    for i in range(len(traffic_projections)):\n",
    "        traffic_matrix[i,0] = i\n",
    "        present_value_volume = []\n",
    "        for j in range(len(traffic_projections[i])):\n",
    "            present_value_volume.append(traffic_projections[i][j]*WACC_factor[j])\n",
    "        traffic_matrix[i,1] = int(np.sum(present_value_volume))\n",
    "\n",
    "    df=pd.DataFrame(traffic_matrix, columns=['Iteration','NPQ'])\n",
    "\n",
    "    # Select the median traffic projection in terms of present quantity\n",
    "    median_iteration = df.loc[df['NPQ']==np.median(df['NPQ'])].index[0]\n",
    "    maize.demand = traffic_projections[median_iteration] \n",
    "    soybean.demand = [0]*len(maize.demand)\n",
    "    wheat.demand   = [0]*len(maize.demand)\n",
    "    commodities = [maize, soybean, wheat]\n",
    "    \n",
    "    ###################################################################################################\n",
    "    # Translate traffic projection into terminal calls \n",
    "    ################################################################################################### \n",
    "    \n",
    "    # Import vessels from package\n",
    "    handysize = forecast.vessel(**forecast.handysize_data)\n",
    "    handymax  = forecast.vessel(**forecast.handymax_data)\n",
    "    panamax   = forecast.vessel(**forecast.panamax_data)\n",
    "    vessels = [handysize, handymax, panamax]\n",
    "    \n",
    "    # Calculate yearly calls\n",
    "    vessels = forecast.vessel_call_calc(vessels, commodities, simulation_window)\n",
    "\n",
    "    # Plot forecast\n",
    "    plotdata = visualisation.scenario(traffic_projections, commodities)\n",
    "    \n",
    "    return vessels, commodities, plotdata, traffic_projections"
   ]
  },
  {
   "cell_type": "markdown",
   "metadata": {},
   "source": [
    "## 2 Temporal Terminal Design"
   ]
  },
  {
   "cell_type": "code",
   "execution_count": 3,
   "metadata": {},
   "outputs": [],
   "source": [
    "def design(terminal, vessels, commodities, start_year, simulation_window):\n",
    "    \n",
    "    for i in range (start_year, start_year + simulation_window):\n",
    "        year = i \n",
    "        timestep = year - start_year\n",
    "\n",
    "        ######################\n",
    "        # Investment Decisions\n",
    "        ######################     \n",
    "        \n",
    "        # Berths and cranes\n",
    "        terminal.berths, terminal.cranes = invest.berth_invest_decision(terminal.berths, terminal.cranes, vessels, terminal.allowable_vessel_waiting_time, year, timestep, operational_hours)\n",
    "        \n",
    "        # Quay\n",
    "        terminal.quays = invest.quay_invest_decision(terminal.quays, terminal.berths, year, timestep)\n",
    "\n",
    "        # Storage\n",
    "        storage_type            = 'Silos'\n",
    "        terminal.storage = invest.storage_invest_decision(terminal.storage, terminal.required_storage_factor, terminal.aspired_storage_factor, storage_type, commodities, year, timestep)\n",
    "\n",
    "        # Loading stations\n",
    "        terminal.stations, trains = invest.station_invest_decision(terminal.stations, forecast.train(**forecast.train_data), terminal.allowable_train_waiting_time, commodities, timestep, year, operational_hours)\n",
    "\n",
    "        # Conveyors\n",
    "        terminal.quay_conveyors = invest.quay_conveyor_invest_decision(terminal.quay_conveyors, terminal.cranes, year, timestep, operational_hours)\n",
    "        terminal.hinterland_conveyors = invest.hinterland_conveyor_invest_decision(terminal.hinterland_conveyors, terminal.stations, year, timestep, operational_hours)\n",
    "\n",
    "        ######################\n",
    "        # Business Logic\n",
    "        ######################\n",
    "        \n",
    "        # Terminal throughput\n",
    "        terminal.throughputs = financial.throughput_calc(terminal, commodities, vessels, trains, operational_hours, timestep, year)\n",
    "        # Revenue\n",
    "        terminal.revenues = financial.revenue_calc(terminal.revenues, terminal.throughputs, commodities, year, timestep)       \n",
    "        # Capex\n",
    "        terminal.capex = financial.capex_calc(terminal, year, timestep)\n",
    "        # Labour costs\n",
    "        terminal.labour = financial.labour_calc(terminal, year, timestep, operational_hours)\n",
    "        # Maintenance costs\n",
    "        terminal.maintenance = financial.maintenance_calc(terminal, year, timestep)\n",
    "        # Energy costs\n",
    "        terminal.energy = financial.energy_calc(terminal, year, operational_hours, timestep)\n",
    "        # Insurance costs\n",
    "        terminal.insurance = financial.insurance_calc(terminal, year, timestep)\n",
    "        # Lease costs \n",
    "        terminal.lease = financial.lease_calc(terminal, year,timestep)\n",
    "        # Demurrage costs\n",
    "        terminal.demurrage = financial.demurrage_calc(terminal.demurrage, terminal.berths, vessels, year, timestep)\n",
    "        # Residual value calculations \n",
    "        terminal.residuals = financial.residual_calc(terminal, year, timestep)\n",
    "        # Profits\n",
    "        terminal.profits = financial.profit_calc(terminal, simulation_window, timestep, year, start_year)\n",
    "        # Opex\n",
    "        terminal.opex = financial.opex_calc(terminal, year, timestep)  \n",
    "        \n",
    "    #WACC depreciated profits\n",
    "    terminal.WACC_cashflows = financial.WACC_calc(terminal.project_WACC, terminal.profits, terminal.revenues, terminal.capex, terminal.opex, simulation_window, start_year)\n",
    "    \n",
    "    # Combine all cashflows\n",
    "    terminal.cashflows = financial.cashflow_calc(terminal, simulation_window, start_year) \n",
    "    \n",
    "    #NPV \n",
    "    terminal.NPV = financial.NPV_calc(terminal.WACC_cashflows)\n",
    "            \n",
    "    return terminal"
   ]
  },
  {
   "cell_type": "markdown",
   "metadata": {},
   "source": [
    "## 3 Investment Triggers Iteration"
   ]
  },
  {
   "cell_type": "code",
   "execution_count": 4,
   "metadata": {},
   "outputs": [],
   "source": [
    "# Simulation parameters\n",
    "start_year        = 2018   # start year of simulation\n",
    "simulation_window = 20     # forecast 20 years\n",
    "end_year          = start_year + simulation_window - 1\n",
    "operational_hours = 4680   # operational hours per year\n",
    "project_WACC      = 0.09\n",
    "\n",
    "# Performance triggers (static values)\n",
    "triggers = []\n",
    "triggers.append([0.20, 'Acceptable waiting vessel time as factor of service time'])\n",
    "triggers.append([0.07, 'Fraction of yearly throughput required as storage'])\n",
    "triggers.append([0.15, 'Fraction of yearly throughput aspired as storage'])\n",
    "triggers.append([0.20, 'Acceptable waiting train time as factor of service time'])\n",
    "\n",
    "# Performance triggers (iteration values)\n",
    "triggers_spectrum = [] \n",
    "triggers_spectrum.append([np.linspace(0.10, 1.00, 51), 'Acceptable waiting vessel time as factor of service time'])\n",
    "triggers_spectrum.append([np.linspace(0.05, 0.08, 4), 'Fraction of yearly throughput required as storage'])\n",
    "triggers_spectrum.append([np.linspace(0.07, 0.20, 14), 'Fraction of yearly throughput aspired as storage'])\n",
    "triggers_spectrum.append([np.linspace(0.10, 1.50, 141), 'Acceptable waiting train time as factor of service time'])\n",
    "\n",
    "# Make traffic projections\n",
    "vessels, commodities, plotdata, traffic_projections = traffic_generator(start_year, simulation_window)\n",
    "\n",
    "# Run multiple simulations, while iterating through each investment trigger\n",
    "results = []\n",
    "\n",
    "# Iterate through allowable vessel waiting times\n",
    "iterations = []\n",
    "for waiting_time in triggers_spectrum[0][0]:\n",
    "    original_value = triggers[0][0]\n",
    "    triggers[0][0] = waiting_time\n",
    "    terminal = initial.terminal(project_WACC, triggers)\n",
    "    terminal = design(terminal, vessels, commodities, start_year, simulation_window)\n",
    "    iterations.append(terminal)\n",
    "results.append(iterations)\n",
    "triggers[0][0] = original_value\n",
    "\n",
    "# Iterate through required storage factors\n",
    "iterations = []\n",
    "for storage_factor in triggers_spectrum[1][0]:\n",
    "    original_value = triggers[1][0]\n",
    "    triggers[1][0] = storage_factor\n",
    "    terminal = initial.terminal(project_WACC, triggers)\n",
    "    terminal = design(terminal, vessels, commodities, start_year, simulation_window)\n",
    "    iterations.append(terminal)\n",
    "results.append(iterations)\n",
    "triggers[1][0] = original_value\n",
    "\n",
    "# Iterate through aspired storage factors\n",
    "iterations = []\n",
    "for storage_factor in triggers_spectrum[2][0]:\n",
    "    original_value = triggers[2][0]\n",
    "    triggers[2][0] = storage_factor\n",
    "    terminal = initial.terminal(project_WACC, triggers)\n",
    "    terminal = design(terminal, vessels, commodities, start_year, simulation_window)\n",
    "    iterations.append(terminal)\n",
    "results.append(iterations)\n",
    "triggers[2][0] = original_value\n",
    "\n",
    "# Iterate through allowable train waiting times\n",
    "iterations = []\n",
    "for waiting_time in triggers_spectrum[3][0]:\n",
    "    original_value = triggers[3][0]\n",
    "    triggers[3][0] = waiting_time\n",
    "    terminal = initial.terminal(project_WACC, triggers)\n",
    "    terminal = design(terminal, vessels, commodities, start_year, simulation_window)\n",
    "    iterations.append(terminal)\n",
    "results.append(iterations)\n",
    "triggers[3][0] = original_value\n",
    "\n",
    "# Visualize scenario\n",
    "fig = dict(data=plotdata[0], layout=plotdata[1])\n",
    "#py.iplot(fig, filename='Traffic projections')"
   ]
  },
  {
   "cell_type": "code",
   "execution_count": 16,
   "metadata": {},
   "outputs": [
    {
     "data": {
      "text/html": [
       "<iframe id=\"igraph\" scrolling=\"no\" style=\"border:none;\" seamless=\"seamless\" src=\"https://plot.ly/~jorisneuman/14.embed\" height=\"525px\" width=\"100%\"></iframe>"
      ],
      "text/plain": [
       "<plotly.tools.PlotlyDisplay object>"
      ]
     },
     "execution_count": 16,
     "metadata": {},
     "output_type": "execute_result"
    }
   ],
   "source": [
    "# Visualise NPV distribution as a result of allowable vessel waiting time\n",
    "waiting_time_iterations = results[0]\n",
    "plotdata = visualisation.NPV_distribution_vessel_waiting_times(waiting_time_iterations)\n",
    "fig = dict(data=plotdata[0], layout=plotdata[1])\n",
    "py.iplot(fig, filename='Trigger iteration - vessel waiting time')"
   ]
  },
  {
   "cell_type": "code",
   "execution_count": 6,
   "metadata": {},
   "outputs": [],
   "source": [
    "# Visualise NPV distribution as a result of required storage factor\n",
    "waiting_time_iterations = results[1]\n",
    "plotdata = visualisation.NPV_distribution_required_storage(waiting_time_iterations)\n",
    "fig = dict(data=plotdata[0], layout=plotdata[1])\n",
    "#py.iplot(fig, filename='Trigger iteration - required storage factor')"
   ]
  },
  {
   "cell_type": "code",
   "execution_count": 7,
   "metadata": {},
   "outputs": [],
   "source": [
    "# Visualise NPV distribution as a result of aspired storage factor\n",
    "waiting_time_iterations = results[2]\n",
    "plotdata = visualisation.NPV_distribution_aspired_storage(waiting_time_iterations)\n",
    "fig = dict(data=plotdata[0], layout=plotdata[1])\n",
    "#py.iplot(fig, filename='Trigger iteration - required storage factor')"
   ]
  },
  {
   "cell_type": "code",
   "execution_count": 15,
   "metadata": {},
   "outputs": [],
   "source": [
    "# Visualise NPV distribution as a result of allowable train waiting time\n",
    "waiting_time_iterations = results[3]\n",
    "plotdata = visualisation.NPV_distribution_train_waiting_times(waiting_time_iterations)\n",
    "fig = dict(data=plotdata[0], layout=plotdata[1])\n",
    "#y.iplot(fig, filename='Trigger iteration - train waiting time')"
   ]
  },
  {
   "cell_type": "markdown",
   "metadata": {},
   "source": [
    "## 4 Estimate Project Value\n",
    "Iterating through the numerous traffic projections (in the case of the perfect foresight method, the single traffic scenario is fed into the value estimator) "
   ]
  },
  {
   "cell_type": "code",
   "execution_count": 9,
   "metadata": {},
   "outputs": [
    {
     "data": {
      "text/html": [
       "<iframe id=\"igraph\" scrolling=\"no\" style=\"border:none;\" seamless=\"seamless\" src=\"https://plot.ly/~jorisneuman/2.embed\" height=\"525px\" width=\"100%\"></iframe>"
      ],
      "text/plain": [
       "<plotly.tools.PlotlyDisplay object>"
      ]
     },
     "execution_count": 9,
     "metadata": {},
     "output_type": "execute_result"
    }
   ],
   "source": [
    "###############################\n",
    "# Input\n",
    "###############################\n",
    "\n",
    "estimate_designs = []\n",
    "\n",
    "project_WACC = 0.09\n",
    "\n",
    "triggers = []\n",
    "triggers.append([0.33, 'Acceptable waiting vessel time as factor of service time'])\n",
    "triggers.append([0.10, 'Fraction of yearly throughput required as storage'])\n",
    "triggers.append([0.12, 'Fraction of yearly throughput aspired as storage'])\n",
    "triggers.append([0.50, 'Acceptable waiting train time as factor of service time'])\n",
    "\n",
    "###############################\n",
    "# Perfect foresight method\n",
    "###############################\n",
    "\n",
    "# Create traffic scenario\n",
    "#vessels, commodities, plotdata, traffic_projections = traffic_generator(start_year, simulation_window)\n",
    "\n",
    "# Temporal terminal design (using future performance triggers)\n",
    "#terminal = initial.terminal(project_WACC, triggers)\n",
    "#terminal = design(terminal, vessels, commodities, start_year, simulation_window)\n",
    "#estimate_designs.append(terminal)\n",
    "\n",
    "###############################\n",
    "# Current performance method\n",
    "###############################\n",
    "\n",
    "for i in range(len(traffic_projections)):\n",
    "    # Redefine traffic demand\n",
    "    commodities[0].demand = traffic_projections[i]\n",
    "    vessels = forecast.vessel_call_calc(vessels, commodities, simulation_window)\n",
    "    \n",
    "    # Temporal terminal design (using current performance triggers)\n",
    "    terminal = initial.terminal(project_WACC, triggers)\n",
    "    terminal = design(terminal, vessels, commodities, start_year, simulation_window)\n",
    "    estimate_designs.append(terminal)\n",
    "    \n",
    "###############################\n",
    "# Forecast based method\n",
    "###############################\n",
    "\n",
    "#for i in range(len(traffic_projections)):\n",
    "#    # Redefine traffic demand\n",
    "#    commodities[0].demand = traffic_projections[i]\n",
    "#    vessels = forecast.vessel_call_calc(vessels, commodities, simulation_window)\n",
    "    \n",
    "    # Temporal terminal design (using forecast performance triggers)\n",
    "#    terminal = initial.terminal(project_WACC, triggers)\n",
    "#    terminal = design(terminal, vessels, commodities, start_year, simulation_window)\n",
    "#    estimate_designs.append(terminal)\n",
    "\n",
    "###############################\n",
    "# Visualization\n",
    "###############################\n",
    "\n",
    "# Visualise NPV distribution of all terminal designs\n",
    "fig, NPV_estimation = visualisation.NPV_estimation(estimate_designs)\n",
    "py.iplot(fig, filename='Project value estimate')"
   ]
  },
  {
   "cell_type": "markdown",
   "metadata": {},
   "source": [
    "# 5 Evaluate Financial Performance"
   ]
  },
  {
   "cell_type": "code",
   "execution_count": 10,
   "metadata": {},
   "outputs": [
    {
     "data": {
      "text/html": [
       "<iframe id=\"igraph\" scrolling=\"no\" style=\"border:none;\" seamless=\"seamless\" src=\"https://plot.ly/~jorisneuman/8.embed\" height=\"525px\" width=\"100%\"></iframe>"
      ],
      "text/plain": [
       "<plotly.tools.PlotlyDisplay object>"
      ]
     },
     "execution_count": 10,
     "metadata": {},
     "output_type": "execute_result"
    }
   ],
   "source": [
    "# Create traffic simulations\n",
    "vessels, commodities, plotdata, traffic_simulations = traffic_generator(start_year, simulation_window)\n",
    "evaluate_designs = []\n",
    "\n",
    "###############################\n",
    "# Perfect foresight method\n",
    "###############################\n",
    "\n",
    "# Temporal terminal design (using future performance triggers)\n",
    "#terminal = initial.terminal(project_WACC, triggers)\n",
    "#terminal = design(terminal, vessels, commodities, start_year, simulation_window)\n",
    "#evaluate_designs.append(terminal)\n",
    "\n",
    "###############################\n",
    "# Current performance method\n",
    "###############################\n",
    "\n",
    "for i in range(len(traffic_simulations)):\n",
    "    # Redefine traffic demand\n",
    "    commodities[0].demand = traffic_simulations[i]\n",
    "    vessels = forecast.vessel_call_calc(vessels, commodities, simulation_window)\n",
    "    \n",
    "    # Temporal terminal design (using current performance triggers)\n",
    "    terminal = initial.terminal(project_WACC, triggers)\n",
    "    terminal = design(terminal, vessels, commodities, start_year, simulation_window)\n",
    "    evaluate_designs.append(terminal)\n",
    "    \n",
    "###############################\n",
    "# Forecast based method\n",
    "###############################\n",
    "\n",
    "#for i in range(len(traffic_projections)):\n",
    "#    # Redefine traffic demand\n",
    "#    commodities[0].demand = traffic_projections[i]\n",
    "#    vessels = forecast.vessel_call_calc(vessels, commodities, simulation_window)\n",
    "    \n",
    "    # Temporal terminal design (using forecast performance triggers)\n",
    "#    terminal = initial.terminal(project_WACC, triggers)\n",
    "#    terminal = design(terminal, vessels, commodities, start_year, simulation_window)\n",
    "#    evaluate_designs.append(terminal)\n",
    "\n",
    "###############################\n",
    "# Visualization\n",
    "###############################\n",
    "\n",
    "# Visualise NPV distribution of all terminal designs\n",
    "fig = visualisation.NPV_evaluation(evaluate_designs, NPV_estimation)\n",
    "py.iplot(fig, filename='Financial performance')    "
   ]
  },
  {
   "cell_type": "markdown",
   "metadata": {},
   "source": [
    "# 6 Evaluate Design Method"
   ]
  },
  {
   "cell_type": "code",
   "execution_count": 11,
   "metadata": {},
   "outputs": [
    {
     "data": {
      "text/html": [
       "<iframe id=\"igraph\" scrolling=\"no\" style=\"border:none;\" seamless=\"seamless\" src=\"https://plot.ly/~jorisneuman/10.embed\" height=\"525px\" width=\"100%\"></iframe>"
      ],
      "text/plain": [
       "<plotly.tools.PlotlyDisplay object>"
      ]
     },
     "execution_count": 11,
     "metadata": {},
     "output_type": "execute_result"
    }
   ],
   "source": [
    "fig = visualisation.method_evaluation(estimate_designs, evaluate_designs)\n",
    "py.iplot(fig, filename='Method evaluation')"
   ]
  },
  {
   "cell_type": "markdown",
   "metadata": {},
   "source": [
    "## 7 Single Simulation Run"
   ]
  },
  {
   "cell_type": "code",
   "execution_count": 12,
   "metadata": {},
   "outputs": [
    {
     "data": {
      "text/html": [
       "<iframe id=\"igraph\" scrolling=\"no\" style=\"border:none;\" seamless=\"seamless\" src=\"https://plot.ly/~jorisneuman/4.embed\" height=\"525px\" width=\"100%\"></iframe>"
      ],
      "text/plain": [
       "<plotly.tools.PlotlyDisplay object>"
      ]
     },
     "execution_count": 12,
     "metadata": {},
     "output_type": "execute_result"
    }
   ],
   "source": [
    "project_WACC = 0.09\n",
    "\n",
    "triggers = []\n",
    "triggers.append([0.33, 'Acceptable waiting vessel time as factor of service time'])\n",
    "triggers.append([0.10, 'Fraction of yearly throughput required as storage'])\n",
    "triggers.append([0.12, 'Fraction of yearly throughput aspired as storage'])\n",
    "triggers.append([0.50, 'Acceptable waiting train time as factor of service time'])\n",
    "\n",
    "terminal = initial.terminal(project_WACC, triggers)\n",
    "terminal = design(terminal, vessels, commodities, start_year, simulation_window)\n",
    "\n",
    "# Visualise terminal discounted cashflows \n",
    "plotdata = visualisation.revenue_capex_opex(terminal)\n",
    "py.iplot({'data': plotdata[0], 'layout': plotdata[1]}, filename='Cashflows')"
   ]
  },
  {
   "cell_type": "markdown",
   "metadata": {},
   "source": [
    "## 8 Risk Sensitivity Iteration"
   ]
  },
  {
   "cell_type": "code",
   "execution_count": 13,
   "metadata": {},
   "outputs": [
    {
     "data": {
      "text/html": [
       "<iframe id=\"igraph\" scrolling=\"no\" style=\"border:none;\" seamless=\"seamless\" src=\"https://plot.ly/~jorisneuman/14.embed\" height=\"525px\" width=\"100%\"></iframe>"
      ],
      "text/plain": [
       "<plotly.tools.PlotlyDisplay object>"
      ]
     },
     "execution_count": 13,
     "metadata": {},
     "output_type": "execute_result"
    }
   ],
   "source": [
    "# Iterate through project WACC\n",
    "WACC_spectrum = np.linspace(0.01,0.15,15)\n",
    "\n",
    "WACC_iterations = []\n",
    "for WACC in WACC_spectrum:\n",
    "    terminal = initial.terminal(WACC, triggers)\n",
    "    terminal = design(terminal, vessels, commodities, start_year, simulation_window)\n",
    "    WACC_iterations.append(terminal)\n",
    "\n",
    "# Visualise NPV distribution as a result of project WACC\n",
    "plotdata = visualisation.NPV_distribution_WACC(WACC_iterations)\n",
    "fig = dict(data=plotdata[0], layout=plotdata[1])\n",
    "py.iplot(fig, filename='Trigger iteration - vessel waiting time')"
   ]
  },
  {
   "cell_type": "markdown",
   "metadata": {},
   "source": [
    "#### 6.5 Visualisation of predictive simulator"
   ]
  },
  {
   "cell_type": "code",
   "execution_count": 14,
   "metadata": {},
   "outputs": [],
   "source": [
    "#visualisation.consecutive_reative_trend(commodities, simulation_window, start_year)\n",
    "#visualisation.consecutive_predictive_trend(commodities, simulation_window, start_year)"
   ]
  }
 ],
 "metadata": {
  "kernelspec": {
   "display_name": "Python 3",
   "language": "python",
   "name": "python3"
  },
  "language_info": {
   "codemirror_mode": {
    "name": "ipython",
    "version": 3
   },
   "file_extension": ".py",
   "mimetype": "text/x-python",
   "name": "python",
   "nbconvert_exporter": "python",
   "pygments_lexer": "ipython3",
   "version": "3.6.5"
  }
 },
 "nbformat": 4,
 "nbformat_minor": 2
}
