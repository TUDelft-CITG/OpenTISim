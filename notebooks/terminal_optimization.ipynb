{
 "cells": [
  {
   "cell_type": "markdown",
   "metadata": {},
   "source": [
    "# Table of Contents\n",
    "\n",
    "### 1 Scenario Generator\n",
    "Generates a demand scenario for three commodities: maize, soybean and wheat, which is then fed into the simulator. Each demand trajectory consists out of a historic demand component and a scenario component. The scenario component can be created linearly, exponentially, exponentially linked to random seeding or can be predefined.\n",
    "### 2 Simulator\n",
    "Iterates through every year within the simulation window, is fed with demand scenario (see chapter 1), initial terminal setup and a list of investment triggers. All in all, the simulator produces a single *terminal* variable, under which all infrastructure and financial components are grouped (e.g. terminal.quays, terminal.capex, terminal.NPV etc.)\n",
    "### 3 Investment Triggers Iteration\n",
    "Runs the simulator (chapter 2) multiple times, while slight changing each investment trigger. The resulting *terminal* variables are saved in a list after which the impact of each trigger alteration can be visualised.\n",
    "### 4 Risk Sensitivity Iteration\n",
    "Runs the simulator (chapter 2) multiple times, while slight changing the presumed risk (quantified as weighted average cost of capital (WACC)). The resulting *terminal* variables are saved in a list after which the sensitivit to risk can be visualised.\n",
    "### 5 Single Simulation Run \n",
    "Runs a single simulation (chapter 2) using predefined triggers\n",
    "### 6 Plots\n",
    "Result visualisations"
   ]
  },
  {
   "cell_type": "code",
   "execution_count": 1,
   "metadata": {},
   "outputs": [],
   "source": [
    "import numpy as np\n",
    "import pandas as pd\n",
    "\n",
    "import terminal_optimization.visualisation        as visualisation\n",
    "import terminal_optimization.forecast             as forecast\n",
    "import terminal_optimization.investment_decisions as invest\n",
    "import terminal_optimization.infrastructure       as infra\n",
    "import terminal_optimization.financial_analysis   as financial\n",
    "import terminal_optimization.initial_terminal     as initial"
   ]
  },
  {
   "cell_type": "markdown",
   "metadata": {},
   "source": [
    "## 1 Scenario Generator"
   ]
  },
  {
   "cell_type": "code",
   "execution_count": 2,
   "metadata": {},
   "outputs": [],
   "source": [
    "def scenario_generator(start_year, simulation_window):\n",
    "    \n",
    "    # Import commodities from package\n",
    "    maize   = forecast.bulk_commodities(**forecast.maize_data)\n",
    "    soybean = forecast.bulk_commodities(**forecast.maize_data)\n",
    "    wheat   = forecast.bulk_commodities(**forecast.wheat_data)\n",
    "\n",
    "    # Maize - Linear demand\n",
    "    historic_demand_maize   = [1000000, 1100000, 1250000, 1400000, 1500000]        # demand at t=0\n",
    "    historic_demand_maize   = [i * 3 for i in historic_demand_maize]\n",
    "    \n",
    "    # Growth scenario\n",
    "    #predefined_demand_maize = [1600000, 1900000, 1900000, 1950000, 2000000, 2100000, 2150000, 2200000, \n",
    "    #                           2200000, 2250000, 2350000, 2400000, 2450000, 2550000, 2700000, 2900000, \n",
    "    #                           3000000, 3050000, 3150000, 3300000]\n",
    "    \n",
    "    # Erratic growth scenario\n",
    "    #predefined_demand_maize = [1705000, 1883000, 1835000, 2090000, 2093000, 2100000, 2047000, 2341000, \n",
    "    #                           2549000, 2522000, 2670000, 2795000, 2717000, 2631000, 2561000, 2673000, \n",
    "    #                           2878000, 3105000, 3342000, 3323000]\n",
    "    \n",
    "    # Crisis scenario\n",
    "    predefined_demand_maize = [1600000, 1900000, 1900000, 1950000, 1750000, 1600000, 1550000, 1530000, \n",
    "                               1570000, 1620000, 1700000, 1750000, 1800000, 1900000, 2050000, 2250000, \n",
    "                               2350000, 2400000, 2500000, 2650000]\n",
    "    predefined_demand_maize = [i * 3 for i in predefined_demand_maize]\n",
    "\n",
    "    # Soybean - Exponential demand\n",
    "    historic_demand_soybean = 5*[0]\n",
    "    rate_soybean = 1.06          # year on year growth rate of demand (% points) - input for constant method and random method\n",
    "\n",
    "    # Wheat - Probabilistic demand\n",
    "    historic_demand_wheat = 5*[0]\n",
    "    rate_wheat  = 1.02\n",
    "    mu_wheat    = 0.01          # avg bonus rate added to base rate (% points)  - input for random method\n",
    "    sigma_wheat = 0.065         # standard deviation of bonus rate (% points)   - input for random method\n",
    "\n",
    "    # Create demand scenario\n",
    "    #maize.linear_scenario      (start_year, simulation_window, historic_demand_maize  , growth_maize)\n",
    "    maize.predefined_scenario   (start_year, simulation_window, historic_demand_maize  , predefined_demand_maize)\n",
    "    soybean.exponential_scenario(start_year, simulation_window, historic_demand_soybean, rate_soybean)\n",
    "    wheat.random_scenario       (start_year, simulation_window, historic_demand_wheat  , rate_wheat, mu_wheat, sigma_wheat)\n",
    "    commodities = [maize, soybean, wheat]\n",
    "    \n",
    "    # Import vessels from package\n",
    "    handysize = forecast.vessel(**forecast.handysize_data)\n",
    "    handymax  = forecast.vessel(**forecast.handymax_data)\n",
    "    panamax   = forecast.vessel(**forecast.panamax_data)\n",
    "    vessels = [handysize, handymax, panamax]\n",
    "    \n",
    "    # Calculate yearly calls\n",
    "    vessels = forecast.vessel_call_calc(vessels, commodities, simulation_window)\n",
    "\n",
    "    # Plot forecast\n",
    "    visualisation.scenario(commodities, simulation_window, start_year)\n",
    "    \n",
    "    return vessels, commodities"
   ]
  },
  {
   "cell_type": "markdown",
   "metadata": {},
   "source": [
    "## 2 Simulator"
   ]
  },
  {
   "cell_type": "code",
   "execution_count": 3,
   "metadata": {},
   "outputs": [],
   "source": [
    "def simulate(terminal, vessels, commodities, start_year, simulation_window):\n",
    "    \n",
    "    for i in range (start_year, start_year + simulation_window):\n",
    "        year = i \n",
    "        timestep = year - start_year\n",
    "\n",
    "        ######################\n",
    "        # Investment Decisions\n",
    "        ######################           \n",
    "        \n",
    "        # Berths and cranes (occupancy based)\n",
    "        #terminal.berths, terminal.cranes = invest.berth_invest_decision(terminal.berths, terminal.cranes, vessels, terminal.allowable_berth_occupancy, year, timestep, operational_hours)\n",
    "        \n",
    "        # Berths and cranes (waiting time based)\n",
    "        terminal.berths, terminal.cranes = invest.berth_invest_decision_waiting(terminal.berths, terminal.cranes, vessels, terminal.allowable_waiting_time, year, timestep, operational_hours)\n",
    "        \n",
    "        # Quay\n",
    "        terminal.quays = invest.quay_invest_decision(terminal.quays, terminal.berths, year, timestep)\n",
    "\n",
    "        # Storage\n",
    "        storage_type            = 'Silos'\n",
    "        trigger_throughput_perc = 10  # Percentage of annual throughput which triggers the investment in a new storage unit\n",
    "        aspired_throughput_perc = 20  # Aspired of annual throughput which is realised due to the new storage unit\n",
    "        terminal.storage = invest.storage_invest_decision(terminal.storage, trigger_throughput_perc, aspired_throughput_perc, storage_type, commodities, year, timestep)\n",
    "\n",
    "        # Loading stations\n",
    "        station_utilisation     = 0.60 # Loading station utilisation\n",
    "        trigger_throughput_perc = 80   # Percentage of hourly peak demand which triggers the investment in a new loading unit\n",
    "        aspired_throughput_perc = 120  # Aspired percentage of hourly peak demand which is realised due to the new loading unit\n",
    "        terminal.stations = invest.station_invest_decision(terminal.stations, station_utilisation, trigger_throughput_perc, aspired_throughput_perc, commodities, year, timestep, operational_hours)\n",
    "\n",
    "        # Conveyors\n",
    "        terminal.quay_conveyors = invest.quay_conveyor_invest_decision(terminal.quay_conveyors, terminal.cranes, year, timestep, operational_hours)\n",
    "        terminal.hinterland_conveyors = invest.hinterland_conveyor_invest_decision(terminal.hinterland_conveyors, terminal.stations, year, timestep, operational_hours)\n",
    "\n",
    "        ######################\n",
    "        # Business Logic\n",
    "        ######################\n",
    "\n",
    "        # Terminal throughput\n",
    "        terminal = financial.throughput_calc(terminal, vessels, commodities, allowable_berth_occupancy, year, start_year, timestep, operational_hours)\n",
    "        # Revenues\n",
    "        terminal.revenues = financial.revenue_calc(terminal.revenues, terminal.throughputs, commodities, year, timestep)\n",
    "        # Capex\n",
    "        terminal.capex = financial.capex_calc(terminal, year, timestep)\n",
    "        # Labour costs\n",
    "        terminal.labour = financial.labour_calc(terminal, year, timestep, operational_hours)\n",
    "        # Maintenance costs\n",
    "        terminal.maintenance = financial.maintenance_calc(terminal, year, timestep)\n",
    "        # Energy costs\n",
    "        terminal.energy = financial.energy_calc(terminal, year, operational_hours, timestep)\n",
    "        # Insurance costs\n",
    "        terminal.insurance = financial.insurance_calc(terminal, year, timestep)\n",
    "        # Lease costs \n",
    "        terminal.lease = financial.lease_calc(terminal, year,timestep)\n",
    "        # Demurrage costs\n",
    "        terminal.demurrage = financial.demurrage_calc(terminal.demurrage, terminal.berths, vessels, year, timestep)\n",
    "        # Residual value calculations \n",
    "        terminal.residuals = financial.residual_calc(terminal, year, timestep)\n",
    "        # Profits\n",
    "        terminal.profits = financial.profit_calc(terminal, simulation_window, timestep, year, start_year)\n",
    "        # Opex\n",
    "        terminal.opex = financial.opex_calc(terminal, year, timestep)      \n",
    "        \n",
    "    #WACC depreciated profits\n",
    "    terminal.WACC_cashflows = financial.WACC_calc(terminal.project_WACC, terminal.profits, simulation_window, start_year)\n",
    "\n",
    "    # Combine all cashflows\n",
    "    terminal.cashflows = financial.cashflow_calc(terminal, simulation_window, start_year) \n",
    "    \n",
    "    #NPV \n",
    "    terminal.NPV = financial.NPV_calc(terminal.WACC_cashflows)\n",
    "            \n",
    "    return terminal"
   ]
  },
  {
   "cell_type": "markdown",
   "metadata": {},
   "source": [
    "## 3 Investment Triggers Iteration"
   ]
  },
  {
   "cell_type": "code",
   "execution_count": 4,
   "metadata": {
    "scrolled": false
   },
   "outputs": [
    {
     "name": "stdout",
     "output_type": "stream",
     "text": [
      "past stage two\n",
      "timestep 0\n",
      "occupancy [1.2058093430837113]\n",
      "number of berths 1\n",
      "berth number: 0\n",
      "\n",
      "past stage two\n",
      "timestep 0\n",
      "occupancy [0.6263021074392916]\n",
      "number of berths 1\n",
      "berth number: 0\n",
      "\n",
      "past stage two\n",
      "timestep 0\n",
      "occupancy [0.4329007149061268]\n",
      "number of berths 1\n",
      "berth number: 0\n",
      "\n",
      "past stage two\n",
      "timestep 0\n",
      "occupancy [0.4329007149061268]\n",
      "number of berths 2\n",
      "berth number: 0\n",
      "\n"
     ]
    },
    {
     "ename": "IndexError",
     "evalue": "list index out of range",
     "output_type": "error",
     "traceback": [
      "\u001b[1;31m---------------------------------------------------------------------------\u001b[0m",
      "\u001b[1;31mIndexError\u001b[0m                                Traceback (most recent call last)",
      "\u001b[1;32m<ipython-input-4-ff95d25ab9d4>\u001b[0m in \u001b[0;36m<module>\u001b[1;34m()\u001b[0m\n\u001b[0;32m     30\u001b[0m     \u001b[0mallowable_berth_occupancy\u001b[0m \u001b[1;33m=\u001b[0m \u001b[0moccupancy\u001b[0m\u001b[1;33m/\u001b[0m\u001b[1;36m100\u001b[0m\u001b[1;33m\u001b[0m\u001b[0m\n\u001b[0;32m     31\u001b[0m     \u001b[0mterminal\u001b[0m \u001b[1;33m=\u001b[0m \u001b[0minitial\u001b[0m\u001b[1;33m.\u001b[0m\u001b[0mterminal\u001b[0m\u001b[1;33m(\u001b[0m\u001b[0minitial_project_WACC\u001b[0m\u001b[1;33m,\u001b[0m \u001b[0mallowable_berth_occupancy\u001b[0m\u001b[1;33m,\u001b[0m \u001b[0minitial_max_waiting_time\u001b[0m\u001b[1;33m)\u001b[0m\u001b[1;33m\u001b[0m\u001b[0m\n\u001b[1;32m---> 32\u001b[1;33m     \u001b[0mterminal\u001b[0m \u001b[1;33m=\u001b[0m \u001b[0msimulate\u001b[0m\u001b[1;33m(\u001b[0m\u001b[0mterminal\u001b[0m\u001b[1;33m,\u001b[0m \u001b[0mvessels\u001b[0m\u001b[1;33m,\u001b[0m \u001b[0mcommodities\u001b[0m\u001b[1;33m,\u001b[0m \u001b[0mstart_year\u001b[0m\u001b[1;33m,\u001b[0m \u001b[0msimulation_window\u001b[0m\u001b[1;33m)\u001b[0m\u001b[1;33m\u001b[0m\u001b[0m\n\u001b[0m\u001b[0;32m     33\u001b[0m     \u001b[0miterations\u001b[0m\u001b[1;33m.\u001b[0m\u001b[0mappend\u001b[0m\u001b[1;33m(\u001b[0m\u001b[0mterminal\u001b[0m\u001b[1;33m)\u001b[0m\u001b[1;33m\u001b[0m\u001b[0m\n\u001b[0;32m     34\u001b[0m \u001b[0mresults\u001b[0m\u001b[1;33m.\u001b[0m\u001b[0mappend\u001b[0m\u001b[1;33m(\u001b[0m\u001b[0miterations\u001b[0m\u001b[1;33m)\u001b[0m\u001b[1;33m\u001b[0m\u001b[0m\n",
      "\u001b[1;32m<ipython-input-3-3064cd982ed3>\u001b[0m in \u001b[0;36msimulate\u001b[1;34m(terminal, vessels, commodities, start_year, simulation_window)\u001b[0m\n\u001b[0;32m     13\u001b[0m \u001b[1;33m\u001b[0m\u001b[0m\n\u001b[0;32m     14\u001b[0m         \u001b[1;31m# Berths and cranes (waiting time based)\u001b[0m\u001b[1;33m\u001b[0m\u001b[1;33m\u001b[0m\u001b[0m\n\u001b[1;32m---> 15\u001b[1;33m         \u001b[0mterminal\u001b[0m\u001b[1;33m.\u001b[0m\u001b[0mberths\u001b[0m\u001b[1;33m,\u001b[0m \u001b[0mterminal\u001b[0m\u001b[1;33m.\u001b[0m\u001b[0mcranes\u001b[0m \u001b[1;33m=\u001b[0m \u001b[0minvest\u001b[0m\u001b[1;33m.\u001b[0m\u001b[0mberth_invest_decision_waiting\u001b[0m\u001b[1;33m(\u001b[0m\u001b[0mterminal\u001b[0m\u001b[1;33m.\u001b[0m\u001b[0mberths\u001b[0m\u001b[1;33m,\u001b[0m \u001b[0mterminal\u001b[0m\u001b[1;33m.\u001b[0m\u001b[0mcranes\u001b[0m\u001b[1;33m,\u001b[0m \u001b[0mvessels\u001b[0m\u001b[1;33m,\u001b[0m \u001b[0mterminal\u001b[0m\u001b[1;33m.\u001b[0m\u001b[0mallowable_waiting_time\u001b[0m\u001b[1;33m,\u001b[0m \u001b[0myear\u001b[0m\u001b[1;33m,\u001b[0m \u001b[0mtimestep\u001b[0m\u001b[1;33m,\u001b[0m \u001b[0moperational_hours\u001b[0m\u001b[1;33m)\u001b[0m\u001b[1;33m\u001b[0m\u001b[0m\n\u001b[0m\u001b[0;32m     16\u001b[0m \u001b[1;33m\u001b[0m\u001b[0m\n\u001b[0;32m     17\u001b[0m         \u001b[1;31m# Quay\u001b[0m\u001b[1;33m\u001b[0m\u001b[1;33m\u001b[0m\u001b[0m\n",
      "\u001b[1;32mc:\\checkouts\\terminal_optimization\\src\\terminal_optimization\\investment_decisions.py\u001b[0m in \u001b[0;36mberth_invest_decision_waiting\u001b[1;34m(berths, cranes, vessels, allowable_waiting_time, year, timestep, operational_hours)\u001b[0m\n\u001b[0;32m    475\u001b[0m                 \u001b[0mwaiting_times\u001b[0m \u001b[1;33m=\u001b[0m \u001b[1;33m[\u001b[0m\u001b[1;33m]\u001b[0m\u001b[1;33m\u001b[0m\u001b[0m\n\u001b[0;32m    476\u001b[0m                 \u001b[1;32mfor\u001b[0m \u001b[0mi\u001b[0m \u001b[1;32min\u001b[0m \u001b[0mrange\u001b[0m \u001b[1;33m(\u001b[0m\u001b[0mlen\u001b[0m\u001b[1;33m(\u001b[0m\u001b[0mberths\u001b[0m\u001b[1;33m)\u001b[0m\u001b[1;33m)\u001b[0m\u001b[1;33m:\u001b[0m\u001b[1;33m\u001b[0m\u001b[0m\n\u001b[1;32m--> 477\u001b[1;33m                     \u001b[0mfactor\u001b[0m \u001b[1;33m=\u001b[0m \u001b[0mwaiting_factor\u001b[0m\u001b[1;33m(\u001b[0m\u001b[0moccupancy\u001b[0m\u001b[1;33m[\u001b[0m\u001b[0mi\u001b[0m\u001b[1;33m]\u001b[0m\u001b[1;33m,\u001b[0m \u001b[0mlen\u001b[0m\u001b[1;33m(\u001b[0m\u001b[0mberths\u001b[0m\u001b[1;33m)\u001b[0m\u001b[1;33m)\u001b[0m\u001b[1;33m\u001b[0m\u001b[0m\n\u001b[0m\u001b[0;32m    478\u001b[0m                     \u001b[0mprint\u001b[0m \u001b[1;33m(\u001b[0m\u001b[1;34m'past stage two'\u001b[0m\u001b[1;33m)\u001b[0m\u001b[1;33m\u001b[0m\u001b[0m\n\u001b[0;32m    479\u001b[0m                     \u001b[0mprint\u001b[0m \u001b[1;33m(\u001b[0m\u001b[1;34m'timestep'\u001b[0m\u001b[1;33m,\u001b[0m \u001b[0mtimestep\u001b[0m\u001b[1;33m)\u001b[0m\u001b[1;33m\u001b[0m\u001b[0m\n",
      "\u001b[1;31mIndexError\u001b[0m: list index out of range"
     ]
    },
    {
     "data": {
      "image/png": "[encoded data removed]",
      "text/plain": [
       "<Figure size 720x540 with 1 Axes>"
      ]
     },
     "metadata": {},
     "output_type": "display_data"
    }
   ],
   "source": [
    "# Simulation parameters\n",
    "start_year        = 2018   # start year of simulation\n",
    "simulation_window = 20     # forecast 20 years\n",
    "end_year          = start_year + simulation_window - 1\n",
    "operational_hours = 4680   # operational hours per year\n",
    "\n",
    "# Initial investment parameters\n",
    "initial_max_berth_occupancy = 0.40\n",
    "initial_max_waiting_time    = 0.20\n",
    "initial_project_WACC        = 0.09\n",
    "\n",
    "# Investment parameter spectrum\n",
    "berth_occupancy_spectrum = range (20, 96, 1)\n",
    "waiting_time_spectrum    = range (5, 40, 1)\n",
    "project_WACC_spectrum    = range (50, 150, 1)\n",
    "spectrum = []\n",
    "spectrum.append(berth_occupancy_spectrum)\n",
    "spectrum.append(waiting_time_spectrum)\n",
    "spectrum.append(project_WACC_spectrum)\n",
    "\n",
    "# Run scenario generator\n",
    "vessels, commodities = scenario_generator(start_year, simulation_window)\n",
    "\n",
    "# Run multiple simulations, while iterating through each investment trigger\n",
    "results = []\n",
    "\n",
    "# Iterate through allowable berth occupancies\n",
    "iterations = []\n",
    "for occupancy in berth_occupancy_spectrum:\n",
    "    allowable_berth_occupancy = occupancy/100\n",
    "    terminal = initial.terminal(initial_project_WACC, allowable_berth_occupancy, initial_max_waiting_time)\n",
    "    terminal = simulate(terminal, vessels, commodities, start_year, simulation_window)\n",
    "    iterations.append(terminal)\n",
    "results.append(iterations)\n",
    "\n",
    "# Iterate through allowable waiting times\n",
    "iterations = []\n",
    "for waiting_time in waiting_time_spectrum:\n",
    "    allowable_waiting_time = waiting_time/100\n",
    "    terminal = initial.terminal(initial_project_WACC, initial_max_berth_occupancy, allowable_waiting_time)\n",
    "    terminal = simulate(terminal, vessels, commodities, start_year, simulation_window)\n",
    "    iterations.append(terminal)\n",
    "results.append(iterations)\n",
    "\n",
    "# Iterate through project WACC\n",
    "iterations = []\n",
    "for WACC in project_WACC_spectrum:\n",
    "    project_WACC = WACC/1000\n",
    "    terminal = initial.terminal(project_WACC, initial_max_berth_occupancy, initial_max_waiting_time)\n",
    "    terminal = simulate(terminal, vessels, commodities, start_year, simulation_window)\n",
    "    iterations.append(terminal)\n",
    "results.append(iterations)"
   ]
  },
  {
   "cell_type": "code",
   "execution_count": null,
   "metadata": {},
   "outputs": [],
   "source": [
    "# Visualise NPV distribution as a result of allowable berth occupancy\n",
    "occupancy_iterations = results[0]\n",
    "visualisation.NPV_distribution_occupancy(occupancy_iterations)"
   ]
  },
  {
   "cell_type": "code",
   "execution_count": null,
   "metadata": {},
   "outputs": [],
   "source": []
  },
  {
   "cell_type": "code",
   "execution_count": null,
   "metadata": {},
   "outputs": [],
   "source": [
    "# Visualise NPV distribution as a result different project WACC's\n",
    "WACC_iterations = results[2]\n",
    "visualisation.NPV_distribution_WACC(WACC_iterations)"
   ]
  },
  {
   "cell_type": "markdown",
   "metadata": {},
   "source": [
    "## 4 Risk Sensitivity Iteration"
   ]
  },
  {
   "cell_type": "code",
   "execution_count": null,
   "metadata": {},
   "outputs": [],
   "source": [
    "visualisation.revenue_capex_opex(terminal)"
   ]
  },
  {
   "cell_type": "code",
   "execution_count": null,
   "metadata": {},
   "outputs": [],
   "source": [
    "visualisation.risk_sensitivity(cashflow_list, WACC_list)"
   ]
  },
  {
   "cell_type": "markdown",
   "metadata": {},
   "source": [
    "## 5 Single Simulation Run"
   ]
  },
  {
   "cell_type": "code",
   "execution_count": null,
   "metadata": {},
   "outputs": [],
   "source": [
    "# Import existing terminal infrastructure \n",
    "terminal = initial.terminal()\n",
    "\n",
    "# Run simulation\n",
    "allowable_occupancy = 0.62\n",
    "WACC = 0.09\n",
    "terminal = simulate(terminal, allowable_occupancy, WACC, vessels, commodities, start_year, simulation_window)\n",
    "\n",
    "# Show NPV\n",
    "print (\"NPV: $\" + str('{:0,.0f}'.format(terminal.NPV)))"
   ]
  },
  {
   "cell_type": "markdown",
   "metadata": {},
   "source": [
    "## 6 Preliminary Plots"
   ]
  },
  {
   "cell_type": "markdown",
   "metadata": {},
   "source": [
    "#### 6.1 Number of assets throughout the years"
   ]
  },
  {
   "cell_type": "code",
   "execution_count": null,
   "metadata": {},
   "outputs": [],
   "source": [
    "visualisation.asset_trajectory(terminal, simulation_window, start_year)"
   ]
  },
  {
   "cell_type": "markdown",
   "metadata": {},
   "source": [
    "#### 6.2 Revenue / Capex / Opex"
   ]
  },
  {
   "cell_type": "code",
   "execution_count": null,
   "metadata": {},
   "outputs": [],
   "source": [
    "visualisation.revenue_capex_opex(terminal)"
   ]
  },
  {
   "cell_type": "markdown",
   "metadata": {},
   "source": [
    "#### 6.3 Profit / Loss"
   ]
  },
  {
   "cell_type": "code",
   "execution_count": null,
   "metadata": {},
   "outputs": [],
   "source": [
    "visualisation.profit_loss_pv(terminal)"
   ]
  },
  {
   "cell_type": "markdown",
   "metadata": {},
   "source": [
    "#### 6.4 Demand vs. Capacity"
   ]
  },
  {
   "cell_type": "code",
   "execution_count": null,
   "metadata": {},
   "outputs": [],
   "source": [
    "visualisation.throughput(terminal)"
   ]
  },
  {
   "cell_type": "markdown",
   "metadata": {},
   "source": [
    "#### 6.5 Visualisation of predictive simulator"
   ]
  },
  {
   "cell_type": "code",
   "execution_count": null,
   "metadata": {},
   "outputs": [],
   "source": [
    "#visualisation.consecutive_reative_trend(commodities, simulation_window, start_year)\n",
    "#visualisation.consecutive_predictive_trend(commodities, simulation_window, start_year)"
   ]
  }
 ],
 "metadata": {
  "kernelspec": {
   "display_name": "Python 3",
   "language": "python",
   "name": "python3"
  },
  "language_info": {
   "codemirror_mode": {
    "name": "ipython",
    "version": 3
   },
   "file_extension": ".py",
   "mimetype": "text/x-python",
   "name": "python",
   "nbconvert_exporter": "python",
   "pygments_lexer": "ipython3",
   "version": "3.6.5"
  }
 },
 "nbformat": 4,
 "nbformat_minor": 2
}
