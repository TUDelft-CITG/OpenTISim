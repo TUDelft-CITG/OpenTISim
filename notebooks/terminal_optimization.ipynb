{
 "cells": [
  {
   "cell_type": "markdown",
   "metadata": {},
   "source": [
    "# Table of Contents\n",
    "\n",
    "### 1 Traffic Generator\n",
    "Generates numerous traffic projections, which can be used as a basis for the *temporal terminal design*. Traffic growth is based on two components: a pre-defined steady growth rate and a pre-defined normal distributed growth rate. The present value of each traffic projection is calculated and the median is defined as the *traffic scenario* (only used in the perfect *foresight method*) \n",
    "### 2 Temporal Terminal Design\n",
    "Translates a traffic projection into an accompanying terminal design with the following terminal elements. Each design process produces a single *terminal* instance, under which all infrastructure and financial components are grouped (e.g. *terminal.quays*, *terminal.cashflows*). The temporal development of individual infrastructure can be inspected through the info tab (i.e. *terminal.berths.info*. The infrastructure elements that are defined in this model are: \n",
    "- Quays\n",
    "- Cranes\n",
    "- Storage\n",
    "- Hinterland train loading stations \n",
    "- Conveyors \n",
    "### 3 Simulator\n",
    "Runs the simulator (chapter 2) multiple times, while slightly changing each investment trigger. The resulting *terminal* variables are saved in a list after which the impact of each trigger alteration can be visualised."
   ]
  },
  {
   "cell_type": "code",
   "execution_count": 1,
   "metadata": {},
   "outputs": [],
   "source": [
    "import copy\n",
    "import plotly\n",
    "import numpy as np\n",
    "import pandas as pd\n",
    "\n",
    "import plotly.tools as tls \n",
    "import plotly.plotly as py  \n",
    "import plotly.graph_objs as go\n",
    "from plotly.graph_objs import *\n",
    "import matplotlib.pyplot as plt\n",
    "import plotly.figure_factory as ff\n",
    "%matplotlib inline\n",
    "\n",
    "import terminal_optimization.visualisation               as visualisation\n",
    "import terminal_optimization.forecast                    as forecast\n",
    "import terminal_optimization.investment_decisions        as invest\n",
    "import terminal_optimization.infrastructure              as infra\n",
    "import terminal_optimization.financial_analysis          as financial\n",
    "import terminal_optimization.initial_terminal            as initial\n",
    "import terminal_optimization.investment_decisions_future as future_invest\n",
    "\n",
    "# Log in to Plotly servers\n",
    "#plotly.tools.set_credentials_file(username='jorisneuman', api_key='zButeTrlr5xVETcyvazd')\n",
    "#plotly.tools.set_credentials_file(username='wijzermans', api_key='FKGDvSah3z5WCNREBZEq')\n",
    "plotly.tools.set_credentials_file(username='wijnandijzermans', api_key='xeDEwwpCK3aLLR4TIrM9')"
   ]
  },
  {
   "cell_type": "markdown",
   "metadata": {},
   "source": [
    "## 1 Traffic Generator"
   ]
  },
  {
   "cell_type": "code",
   "execution_count": 2,
   "metadata": {},
   "outputs": [],
   "source": [
    "def traffic_generator(nr_generations, start_year, simulation_window):\n",
    "    \n",
    "    ###################################################################################################\n",
    "    # Traffic projections on which estimate is based\n",
    "    ###################################################################################################\n",
    "\n",
    "    # Import commodities from package\n",
    "    maize   = forecast.bulk_commodities(**forecast.maize_data)\n",
    "    soybean = forecast.bulk_commodities(**forecast.maize_data)\n",
    "    wheat   = forecast.bulk_commodities(**forecast.wheat_data)\n",
    "\n",
    "    # Maize - Probabilistic demand\n",
    "    maize.historic = [1600000,1700000,1680000,1760000,1800000]\n",
    "    maize.rate     = 1.0336         # Average consumption growth in South Africa in the past 5 years\n",
    "    maize.sigma    = 0.0374         # Standard deviation in consumption growth in South Africa in the past 5 years\n",
    "\n",
    "    # If required number of traffic generations is even, one iteration is added in order to be able to identify the median\n",
    "    if nr_generations % 2 == 0:\n",
    "        nr_generations = nr_generations + 1 \n",
    "\n",
    "    # Create traffic projections\n",
    "    start_year = 2018\n",
    "    simulation_window = 20\n",
    "    traffic_projections = []\n",
    "    for iterations in range(nr_generations):\n",
    "        maize.random_scenario(start_year, simulation_window, maize.historic, maize.rate, maize.sigma)\n",
    "        traffic_projections.append(maize.demand)\n",
    "    \n",
    "    ###################################################################################################\n",
    "    # Traffic scenario based on median present quantity of all projections\n",
    "    ################################################################################################### \n",
    "    \n",
    "    # Calculate the net present quantity of each projection\n",
    "    project_WACC = 0.09\n",
    "    WACC_factor = []\n",
    "    for year in range (len(maize.historic)):\n",
    "        WACC_factor.append(1.0)\n",
    "    for year in range (simulation_window):\n",
    "        WACC_factor.append(1/((1+project_WACC)**(year)))\n",
    "\n",
    "    traffic_matrix = np.zeros(shape=(len(traffic_projections), 2))\n",
    "    for i in range(len(traffic_projections)):\n",
    "        traffic_matrix[i,0] = i\n",
    "        present_value_volume = []\n",
    "        for j in range(len(traffic_projections[i])):\n",
    "            present_value_volume.append(traffic_projections[i][j]*WACC_factor[j])\n",
    "        traffic_matrix[i,1] = int(np.sum(present_value_volume))\n",
    "\n",
    "    df=pd.DataFrame(traffic_matrix, columns=['Iteration','NPQ'])\n",
    "\n",
    "    # Select the median traffic projection in terms of present quantity\n",
    "    median_iteration = df.loc[df['NPQ']==np.median(df['NPQ'])].index[0]\n",
    "    traffic_scenario = traffic_projections[median_iteration] \n",
    "    maize.demand   = traffic_scenario \n",
    "    soybean.demand = [0]*len(maize.demand)\n",
    "    wheat.demand   = [0]*len(maize.demand)\n",
    "    commodities    = [maize, soybean, wheat]\n",
    "    \n",
    "    ###################################################################################################\n",
    "    # Translate traffic projection into terminal calls \n",
    "    ################################################################################################### \n",
    "    \n",
    "    # Import vessels from package\n",
    "    handysize = forecast.vessel(**forecast.handysize_data)\n",
    "    handymax  = forecast.vessel(**forecast.handymax_data)\n",
    "    panamax   = forecast.vessel(**forecast.panamax_data)\n",
    "    vessels = [handysize, handymax, panamax]\n",
    "    \n",
    "    # Calculate yearly calls\n",
    "    vessels = forecast.vessel_call_calc(vessels, commodities, simulation_window)\n",
    "\n",
    "    # Plot forecast\n",
    "    plotdata = visualisation.scenario(traffic_projections, commodities)\n",
    "    \n",
    "    return vessels, commodities, plotdata, traffic_projections, traffic_scenario"
   ]
  },
  {
   "cell_type": "markdown",
   "metadata": {},
   "source": [
    "## 2 Temporal Terminal Design\n",
    "- Current performance method \n",
    "- Perfect foresight method\n",
    "- Forecast based method"
   ]
  },
  {
   "cell_type": "code",
   "execution_count": 3,
   "metadata": {},
   "outputs": [],
   "source": [
    "# Choose design method: \n",
    "#  1) Method based on perfect foresight\n",
    "#  2) Method based on current performance\n",
    "#  3) Method based on interim forecasts\n",
    "\n",
    "# In case of future based methods:\n",
    "hindcast_window = 5  # Number of years of materialized traffic volumes that are included in assessment\n",
    "forecast_window = 2  # Number of years of forecasted traffic volumes\n",
    "\n",
    "def design(chosen_method, terminal, vessels, commodities, start_year, simulation_window):\n",
    "    \n",
    "    for i in range (start_year, start_year + simulation_window): \n",
    "        \n",
    "        year = i \n",
    "        timestep = year - start_year\n",
    "\n",
    "        ##################################################################\n",
    "        # Investment Decisions (current performance method)\n",
    "        ##################################################################     \n",
    "        \n",
    "        if chosen_method == 'Current performance method':\n",
    "            \n",
    "            # Berths and cranes\n",
    "            terminal.berths, terminal.cranes = invest.berth_invest_decision(terminal.berths, terminal.cranes, commodities, vessels, terminal.allowable_vessel_waiting_time, year, timestep, operational_hours)\n",
    "\n",
    "            # Quay\n",
    "            terminal.quays = invest.quay_invest_decision(terminal.quays, terminal.berths, year, timestep)\n",
    "\n",
    "            # Storage\n",
    "            storage_type = 'Silos'\n",
    "            terminal.storage = invest.storage_invest_decision(terminal.storage, terminal.required_storage_factor, terminal.aspired_storage_factor, storage_type, commodities, year, timestep)\n",
    "\n",
    "            # Loading stations\n",
    "            terminal.stations, terminal.trains = invest.station_invest_decision(terminal.stations, forecast.train(**forecast.train_data), terminal.allowable_train_waiting_time, commodities, timestep, year, operational_hours)\n",
    "\n",
    "            # Conveyors\n",
    "            terminal.quay_conveyors = invest.quay_conveyor_invest_decision(terminal.quay_conveyors, terminal.berths, year, timestep, operational_hours)\n",
    "            terminal.hinterland_conveyors = invest.hinterland_conveyor_invest_decision(terminal.hinterland_conveyors, terminal.stations, year, timestep, operational_hours)\n",
    "\n",
    "        ##################################################################\n",
    "        # Investment Decisions (Perfect foresight and forecast method)\n",
    "        ################################################################## \n",
    "        \n",
    "        if chosen_method == 'Perfect foresight method' or chosen_method == 'Forecast based method':\n",
    "            \n",
    "            # Create forecast and accompanying vessel calcs\n",
    "            commodities = forecast.forecaster(chosen_method, commodities, forecast_window, hindcast_window, timestep)\n",
    "            vessels = forecast.forecast_call_calc(vessels, commodities, simulation_window)\n",
    "            \n",
    "            # Berths and cranes\n",
    "            terminal.berths, terminal.cranes = future_invest.berth_invest_decision(terminal.berths, terminal.cranes, commodities, vessels, terminal.allowable_vessel_waiting_time, year, timestep, operational_hours)\n",
    "\n",
    "            # Quay\n",
    "            terminal.quays = future_invest.quay_invest_decision(terminal.quays, terminal.berths, year, timestep)\n",
    "\n",
    "            # Storage\n",
    "            storage_type = 'Silos'\n",
    "            terminal.storage = future_invest.storage_invest_decision(terminal.storage, terminal.required_storage_factor, terminal.aspired_storage_factor, storage_type, commodities, year, timestep)\n",
    "\n",
    "            # Loading stations\n",
    "            terminal.stations, terminal.trains = future_invest.station_invest_decision(terminal.stations, forecast.train(**forecast.train_data), terminal.allowable_train_waiting_time, commodities, timestep, year, operational_hours)\n",
    "\n",
    "            # Conveyors\n",
    "            terminal.quay_conveyors = future_invest.quay_conveyor_invest_decision(terminal.quay_conveyors, terminal.berths, year, timestep, operational_hours)\n",
    "            terminal.hinterland_conveyors = future_invest.hinterland_conveyor_invest_decision(terminal.hinterland_conveyors, terminal.stations, year, timestep, operational_hours)\n",
    "        \n",
    "        ##################################################################\n",
    "        # Business logic\n",
    "        ################################################################## \n",
    "        \n",
    "        # Terminal throughput\n",
    "        terminal.throughputs = financial.throughput_calc(terminal, commodities, vessels, terminal.trains, operational_hours, timestep, year)\n",
    "        # Revenue\n",
    "        terminal.revenues = financial.revenue_calc(terminal.revenues, terminal.throughputs, commodities, year, timestep)       \n",
    "        # Capex\n",
    "        terminal.capex = financial.capex_calc(terminal, year, timestep)\n",
    "        # Labour costs\n",
    "        terminal.labour = financial.labour_calc(terminal, year, timestep, operational_hours)\n",
    "        # Maintenance costs\n",
    "        terminal.maintenance = financial.maintenance_calc(terminal, year, timestep)\n",
    "        # Energy costs\n",
    "        terminal.energy = financial.energy_calc(terminal, year, operational_hours, timestep)\n",
    "        # Insurance costs\n",
    "        terminal.insurance = financial.insurance_calc(terminal, year, timestep)\n",
    "        # Lease costs \n",
    "        terminal.lease = financial.lease_calc(terminal, year,timestep)\n",
    "        # Demurrage costs\n",
    "        terminal.demurrage = financial.demurrage_calc(terminal.demurrage, terminal.berths, terminal.cranes, commodities, vessels, operational_hours, timestep, year)\n",
    "        # Residual value calculations \n",
    "        terminal.residuals = financial.residual_calc(terminal, year, timestep)\n",
    "        # Profits\n",
    "        terminal.profits = financial.profit_calc(terminal, simulation_window, timestep, year, start_year)\n",
    "        # Opex\n",
    "        terminal.opex = financial.opex_calc(terminal, year, timestep)  \n",
    "        \n",
    "    #WACC depreciated profits\n",
    "    terminal.WACC_cashflows = financial.WACC_calc(terminal.project_WACC, terminal.profits, terminal.revenues, terminal.capex, terminal.opex, simulation_window, start_year)\n",
    "    \n",
    "    # Combine all cashflows\n",
    "    terminal.cashflows = financial.cashflow_calc(terminal, simulation_window, start_year) \n",
    "    \n",
    "    #NPV \n",
    "    terminal.NPV = financial.NPV_calc(terminal.WACC_cashflows)\n",
    "        \n",
    "    return terminal"
   ]
  },
  {
   "cell_type": "code",
   "execution_count": 4,
   "metadata": {},
   "outputs": [],
   "source": [
    "def evaluate_perfect_foresight(terminal, commodities, simulation_window, start_year):\n",
    "    \n",
    "    terminal_capacity = []\n",
    "    terminal_throughputs = []\n",
    "    terminal_revenues = []\n",
    "    demurrage_costs = []\n",
    "    profits = []\n",
    "    \n",
    "    for timestep in range(len(terminal.throughputs)):\n",
    "        \n",
    "        year = start_year + timestep\n",
    "    \n",
    "        # Terminal throughput\n",
    "        terminal_capacity.append(int(terminal.throughputs[timestep].capacity))\n",
    "        demand = commodities[0].demand[timestep]\n",
    "        terminal_throughputs.append(int(min(demand, terminal_capacity[timestep])))\n",
    "\n",
    "        # Terminal revenues\n",
    "        terminal_revenues.append(int(commodities[0].handling_fee * terminal_throughputs[timestep]))\n",
    "        \n",
    "        # Demurrage costs\n",
    "        costs = terminal.demurrage[0].calc(terminal.berths, terminal.cranes, commodities, vessels, operational_hours, timestep, year)\n",
    "        demurrage_costs.append(costs)\n",
    "        \n",
    "        # Profits\n",
    "        revenues    = terminal_revenues[-1]\n",
    "        capex       = terminal.capex[timestep].total\n",
    "        labour      = terminal.labour[timestep].total\n",
    "        maintenance = terminal.maintenance[timestep].total\n",
    "        energy      = terminal.energy[timestep].total\n",
    "        insurance   = terminal.insurance[timestep].total\n",
    "        demurrage   = demurrage_costs[-1]\n",
    "        if timestep == len(terminal.throughputs)-1:\n",
    "            residuals = terminal.residuals[timestep].total\n",
    "        else:\n",
    "            residuals = 0\n",
    "        profits.append(int(revenues + capex - labour - maintenance - energy - insurance - demurrage + residuals))\n",
    "        \n",
    "        # Overwrite terminal cashflow data\n",
    "        terminal.revenues[timestep].total = terminal_revenues[-1]\n",
    "        terminal.demurrage[timestep].total = demurrage_costs[-1]\n",
    "        terminal.profits[timestep].total = profits[-1]\n",
    "    \n",
    "    #WACC depreciated profits\n",
    "    terminal.WACC_cashflows = financial.WACC_calc(terminal.project_WACC, terminal.profits, terminal.revenues, terminal.capex, terminal.opex, simulation_window, start_year)\n",
    "\n",
    "    # Combine all cashflows\n",
    "    terminal.cashflows = financial.cashflow_calc(terminal, simulation_window, start_year) \n",
    "\n",
    "    #NPV \n",
    "    terminal.NPV = financial.NPV_calc(terminal.WACC_cashflows)\n",
    "    \n",
    "    return terminal"
   ]
  },
  {
   "cell_type": "markdown",
   "metadata": {},
   "source": [
    "# 3 Simulator\n",
    "- Simulation parameters\n",
    "- Performance trigger optimization\n",
    "- Estimate project value\n",
    "- Evaluate financial performance\n",
    "- Evaluate design method\n",
    "- Run single simulation\n",
    "- Risk sensitivity analysis"
   ]
  },
  {
   "cell_type": "markdown",
   "metadata": {},
   "source": [
    "## 3.1 Simulation parameters"
   ]
  },
  {
   "cell_type": "code",
   "execution_count": 25,
   "metadata": {},
   "outputs": [
    {
     "ename": "OSError",
     "evalue": "Saved_traffic_scenario.txt not found.",
     "output_type": "error",
     "traceback": [
      "\u001b[1;31m---------------------------------------------------------------------------\u001b[0m",
      "\u001b[1;31mOSError\u001b[0m                                   Traceback (most recent call last)",
      "\u001b[1;32m<ipython-input-25-1e7e79cf9941>\u001b[0m in \u001b[0;36m<module>\u001b[1;34m()\u001b[0m\n\u001b[0;32m     31\u001b[0m \u001b[1;33m\u001b[0m\u001b[0m\n\u001b[0;32m     32\u001b[0m \u001b[1;31m# Load traffic projections\u001b[0m\u001b[1;33m\u001b[0m\u001b[1;33m\u001b[0m\u001b[0m\n\u001b[1;32m---> 33\u001b[1;33m \u001b[0mtraffic_scenario\u001b[0m \u001b[1;33m=\u001b[0m \u001b[0mnp\u001b[0m\u001b[1;33m.\u001b[0m\u001b[0mloadtxt\u001b[0m\u001b[1;33m(\u001b[0m\u001b[1;34m'Saved_traffic_scenario.txt'\u001b[0m\u001b[1;33m,\u001b[0m \u001b[0mdtype\u001b[0m\u001b[1;33m=\u001b[0m\u001b[0mint\u001b[0m\u001b[1;33m)\u001b[0m\u001b[1;33m\u001b[0m\u001b[0m\n\u001b[0m\u001b[0;32m     34\u001b[0m \u001b[0mtraffic_projections\u001b[0m \u001b[1;33m=\u001b[0m \u001b[0mnp\u001b[0m\u001b[1;33m.\u001b[0m\u001b[0mloadtxt\u001b[0m\u001b[1;33m(\u001b[0m\u001b[1;34m'Saved_traffic_projections.txt'\u001b[0m\u001b[1;33m,\u001b[0m \u001b[0mdtype\u001b[0m\u001b[1;33m=\u001b[0m\u001b[0mint\u001b[0m\u001b[1;33m)\u001b[0m\u001b[1;33m\u001b[0m\u001b[0m\n\u001b[0;32m     35\u001b[0m \u001b[0mcommodities\u001b[0m\u001b[1;33m[\u001b[0m\u001b[1;36m0\u001b[0m\u001b[1;33m]\u001b[0m\u001b[1;33m.\u001b[0m\u001b[0mdemand\u001b[0m \u001b[1;33m=\u001b[0m \u001b[0mtraffic_scenario\u001b[0m\u001b[1;33m\u001b[0m\u001b[0m\n",
      "\u001b[1;32mC:\\Python\\lib\\site-packages\\numpy\\lib\\npyio.py\u001b[0m in \u001b[0;36mloadtxt\u001b[1;34m(fname, dtype, comments, delimiter, converters, skiprows, usecols, unpack, ndmin, encoding)\u001b[0m\n\u001b[0;32m    915\u001b[0m             \u001b[0mfname\u001b[0m \u001b[1;33m=\u001b[0m \u001b[0mstr\u001b[0m\u001b[1;33m(\u001b[0m\u001b[0mfname\u001b[0m\u001b[1;33m)\u001b[0m\u001b[1;33m\u001b[0m\u001b[0m\n\u001b[0;32m    916\u001b[0m         \u001b[1;32mif\u001b[0m \u001b[0m_is_string_like\u001b[0m\u001b[1;33m(\u001b[0m\u001b[0mfname\u001b[0m\u001b[1;33m)\u001b[0m\u001b[1;33m:\u001b[0m\u001b[1;33m\u001b[0m\u001b[0m\n\u001b[1;32m--> 917\u001b[1;33m             \u001b[0mfh\u001b[0m \u001b[1;33m=\u001b[0m \u001b[0mnp\u001b[0m\u001b[1;33m.\u001b[0m\u001b[0mlib\u001b[0m\u001b[1;33m.\u001b[0m\u001b[0m_datasource\u001b[0m\u001b[1;33m.\u001b[0m\u001b[0mopen\u001b[0m\u001b[1;33m(\u001b[0m\u001b[0mfname\u001b[0m\u001b[1;33m,\u001b[0m \u001b[1;34m'rt'\u001b[0m\u001b[1;33m,\u001b[0m \u001b[0mencoding\u001b[0m\u001b[1;33m=\u001b[0m\u001b[0mencoding\u001b[0m\u001b[1;33m)\u001b[0m\u001b[1;33m\u001b[0m\u001b[0m\n\u001b[0m\u001b[0;32m    918\u001b[0m             \u001b[0mfencoding\u001b[0m \u001b[1;33m=\u001b[0m \u001b[0mgetattr\u001b[0m\u001b[1;33m(\u001b[0m\u001b[0mfh\u001b[0m\u001b[1;33m,\u001b[0m \u001b[1;34m'encoding'\u001b[0m\u001b[1;33m,\u001b[0m \u001b[1;34m'latin1'\u001b[0m\u001b[1;33m)\u001b[0m\u001b[1;33m\u001b[0m\u001b[0m\n\u001b[0;32m    919\u001b[0m             \u001b[0mfh\u001b[0m \u001b[1;33m=\u001b[0m \u001b[0miter\u001b[0m\u001b[1;33m(\u001b[0m\u001b[0mfh\u001b[0m\u001b[1;33m)\u001b[0m\u001b[1;33m\u001b[0m\u001b[0m\n",
      "\u001b[1;32mC:\\Python\\lib\\site-packages\\numpy\\lib\\_datasource.py\u001b[0m in \u001b[0;36mopen\u001b[1;34m(path, mode, destpath, encoding, newline)\u001b[0m\n\u001b[0;32m    258\u001b[0m \u001b[1;33m\u001b[0m\u001b[0m\n\u001b[0;32m    259\u001b[0m     \u001b[0mds\u001b[0m \u001b[1;33m=\u001b[0m \u001b[0mDataSource\u001b[0m\u001b[1;33m(\u001b[0m\u001b[0mdestpath\u001b[0m\u001b[1;33m)\u001b[0m\u001b[1;33m\u001b[0m\u001b[0m\n\u001b[1;32m--> 260\u001b[1;33m     \u001b[1;32mreturn\u001b[0m \u001b[0mds\u001b[0m\u001b[1;33m.\u001b[0m\u001b[0mopen\u001b[0m\u001b[1;33m(\u001b[0m\u001b[0mpath\u001b[0m\u001b[1;33m,\u001b[0m \u001b[0mmode\u001b[0m\u001b[1;33m,\u001b[0m \u001b[0mencoding\u001b[0m\u001b[1;33m=\u001b[0m\u001b[0mencoding\u001b[0m\u001b[1;33m,\u001b[0m \u001b[0mnewline\u001b[0m\u001b[1;33m=\u001b[0m\u001b[0mnewline\u001b[0m\u001b[1;33m)\u001b[0m\u001b[1;33m\u001b[0m\u001b[0m\n\u001b[0m\u001b[0;32m    261\u001b[0m \u001b[1;33m\u001b[0m\u001b[0m\n\u001b[0;32m    262\u001b[0m \u001b[1;33m\u001b[0m\u001b[0m\n",
      "\u001b[1;32mC:\\Python\\lib\\site-packages\\numpy\\lib\\_datasource.py\u001b[0m in \u001b[0;36mopen\u001b[1;34m(self, path, mode, encoding, newline)\u001b[0m\n\u001b[0;32m    614\u001b[0m                                       encoding=encoding, newline=newline)\n\u001b[0;32m    615\u001b[0m         \u001b[1;32melse\u001b[0m\u001b[1;33m:\u001b[0m\u001b[1;33m\u001b[0m\u001b[0m\n\u001b[1;32m--> 616\u001b[1;33m             \u001b[1;32mraise\u001b[0m \u001b[0mIOError\u001b[0m\u001b[1;33m(\u001b[0m\u001b[1;34m\"%s not found.\"\u001b[0m \u001b[1;33m%\u001b[0m \u001b[0mpath\u001b[0m\u001b[1;33m)\u001b[0m\u001b[1;33m\u001b[0m\u001b[0m\n\u001b[0m\u001b[0;32m    617\u001b[0m \u001b[1;33m\u001b[0m\u001b[0m\n\u001b[0;32m    618\u001b[0m \u001b[1;33m\u001b[0m\u001b[0m\n",
      "\u001b[1;31mOSError\u001b[0m: Saved_traffic_scenario.txt not found."
     ]
    }
   ],
   "source": [
    "# Simulation parameters\n",
    "start_year        = 2018   # start year of simulation\n",
    "simulation_window = 20     # forecast 20 years\n",
    "end_year          = start_year + simulation_window - 1\n",
    "operational_hours = 5840   # operational hours per year (16 hours per day 365 days a year)\n",
    "project_WACC      = 0.09   # Applied project weighted average cost of capital\n",
    "nr_generations    = 1001   # Number of traffic projections generated\n",
    "\n",
    "# Choose design method\n",
    "chosen_method = 'Perfect foresight method'\n",
    "#chosen_method = 'Current performance method'\n",
    "#chosen_method = 'Forecast based method'\n",
    "\n",
    "# Performance triggers (static values)\n",
    "triggers = []\n",
    "triggers.append([0.30, 'Acceptable waiting vessel time as factor of service time'])\n",
    "triggers.append([0.05, 'Minimum fraction of yearly throughput required as storage']) # PIANC guidelines\n",
    "triggers.append([0.06, 'Fraction of yearly throughput aspired as storage'])\n",
    "triggers.append([0.30, 'Acceptable waiting train time as factor of service time'])\n",
    "\n",
    "# Make traffic projections\n",
    "vessels, commodities, plotdata, traffic_projections, traffic_scenario = traffic_generator(nr_generations, start_year, simulation_window)\n",
    "\n",
    "# Visualize traffic projections\n",
    "#fig = dict(data=plotdata[0], layout=plotdata[1])\n",
    "#py.iplot(fig, filename='Traffic projections')\n",
    "\n",
    "# Save traffic projections\n",
    "#np.savetxt('Saved_traffic_scenario.txt', commodities[0].demand, fmt='%d')\n",
    "#np.savetxt('Saved_traffic_projections.txt', traffic_projections, fmt='%d')\n",
    "\n",
    "# Load traffic projections\n",
    "traffic_scenario = np.loadtxt('Saved_traffic_scenario.txt', dtype=int)\n",
    "traffic_projections = np.loadtxt('Saved_traffic_projections.txt', dtype=int)\n",
    "commodities[0].demand = traffic_scenario\n",
    "fig = visualisation.scenario(traffic_projections, commodities)\n",
    "py.iplot(fig, filename='Traffic projections')"
   ]
  },
  {
   "cell_type": "markdown",
   "metadata": {},
   "source": [
    "## 3.2 Performance trigger optimization"
   ]
  },
  {
   "cell_type": "code",
   "execution_count": 8,
   "metadata": {
    "scrolled": false
   },
   "outputs": [],
   "source": [
    "# Performance triggers (iteration values)\n",
    "triggers_spectrum = [] \n",
    "triggers_spectrum.append([np.linspace(0.10, 1.50, 141), 'Acceptable waiting vessel time as factor of service time'])\n",
    "triggers_spectrum.append([np.linspace(0.06, 0.15, 10),  'Fraction of yearly throughput aspired as storage'])\n",
    "triggers_spectrum.append([np.linspace(0.01, 0.60, 60), 'Acceptable waiting train time as factor of service time'])\n",
    "\n",
    "# Run multiple simulations, while iterating through each investment trigger\n",
    "results = []\n",
    "\n",
    "# Iterate through allowable vessel waiting times\n",
    "iterations = []\n",
    "original_value = copy.deepcopy(triggers[0][0])\n",
    "for waiting_time in triggers_spectrum[0][0]:\n",
    "    triggers[0][0] = waiting_time\n",
    "    terminal  = initial.terminal(project_WACC, triggers)\n",
    "    terminal  = design(chosen_method, terminal, vessels, commodities, start_year, simulation_window)\n",
    "    iteration = copy.deepcopy(terminal)\n",
    "    iterations.append(iteration)\n",
    "results.append(iterations)\n",
    "triggers[0][0] = original_value\n",
    "\n",
    "# Iterate through aspired storage factors\n",
    "iterations = []\n",
    "original_value = copy.deepcopy(triggers[2][0])\n",
    "for storage_factor in triggers_spectrum[1][0]:\n",
    "    triggers[2][0] = storage_factor\n",
    "    terminal = initial.terminal(project_WACC, triggers)\n",
    "    terminal = design(chosen_method, terminal, vessels, commodities, start_year, simulation_window)\n",
    "    iteration = copy.deepcopy(terminal)\n",
    "    iterations.append(iteration)\n",
    "results.append(iterations)\n",
    "triggers[2][0] = original_value\n",
    "\n",
    "# Iterate through allowable train waiting times\n",
    "iterations = []\n",
    "original_value = copy.deepcopy(triggers[3][0])\n",
    "for waiting_time in triggers_spectrum[2][0]:\n",
    "    triggers[3][0] = waiting_time\n",
    "    terminal  = initial.terminal(project_WACC, triggers)\n",
    "    terminal  = design(chosen_method, terminal, vessels, commodities, start_year, simulation_window)\n",
    "    iteration = copy.deepcopy(terminal)\n",
    "    iterations.append(iteration)\n",
    "results.append(iterations)\n",
    "triggers[3][0] = original_value"
   ]
  },
  {
   "cell_type": "code",
   "execution_count": 14,
   "metadata": {},
   "outputs": [
    {
     "data": {
      "text/html": [
       "<iframe id=\"igraph\" scrolling=\"no\" style=\"border:none;\" seamless=\"seamless\" src=\"https://plot.ly/~wijnandijzermans/120.embed\" height=\"525px\" width=\"100%\"></iframe>"
      ],
      "text/plain": [
       "<plotly.tools.PlotlyDisplay object>"
      ]
     },
     "execution_count": 14,
     "metadata": {},
     "output_type": "execute_result"
    }
   ],
   "source": [
    "# Visualise NPV distribution as a result of allowable vessel waiting time\n",
    "waiting_time_iterations = results[0]\n",
    "plotdata = visualisation.NPV_distribution_vessel_waiting_times(waiting_time_iterations)\n",
    "fig = dict(data=plotdata[0], layout=plotdata[1])\n",
    "py.iplot(fig, filename='Trigger iteration - vessel waiting time')"
   ]
  },
  {
   "cell_type": "code",
   "execution_count": 15,
   "metadata": {},
   "outputs": [
    {
     "data": {
      "text/html": [
       "<iframe id=\"igraph\" scrolling=\"no\" style=\"border:none;\" seamless=\"seamless\" src=\"https://plot.ly/~wijnandijzermans/122.embed\" height=\"525px\" width=\"100%\"></iframe>"
      ],
      "text/plain": [
       "<plotly.tools.PlotlyDisplay object>"
      ]
     },
     "execution_count": 15,
     "metadata": {},
     "output_type": "execute_result"
    }
   ],
   "source": [
    "# Visualise NPV distribution as a result of aspired storage factor\n",
    "waiting_time_iterations = results[1]\n",
    "plotdata = visualisation.NPV_distribution_aspired_storage(waiting_time_iterations)\n",
    "fig = dict(data=plotdata[0], layout=plotdata[1])\n",
    "py.iplot(fig, filename='Trigger iteration - required storage factor')"
   ]
  },
  {
   "cell_type": "code",
   "execution_count": 12,
   "metadata": {},
   "outputs": [
    {
     "data": {
      "text/html": [
       "<iframe id=\"igraph\" scrolling=\"no\" style=\"border:none;\" seamless=\"seamless\" src=\"https://plot.ly/~wijnandijzermans/124.embed\" height=\"525px\" width=\"100%\"></iframe>"
      ],
      "text/plain": [
       "<plotly.tools.PlotlyDisplay object>"
      ]
     },
     "execution_count": 12,
     "metadata": {},
     "output_type": "execute_result"
    }
   ],
   "source": [
    "# Visualise NPV distribution as a result of allowable train waiting time\n",
    "waiting_time_iterations = results[2]\n",
    "plotdata = visualisation.NPV_distribution_train_waiting_times(waiting_time_iterations)\n",
    "fig = dict(data=plotdata[0], layout=plotdata[1])\n",
    "py.iplot(fig, filename='Trigger iteration - train waiting time')"
   ]
  },
  {
   "cell_type": "markdown",
   "metadata": {},
   "source": [
    "## 3.3 Estimate project value\n",
    "Iterating through the numerous traffic projections (in the case of the perfect foresight method, the single traffic scenario is fed into the value estimator) "
   ]
  },
  {
   "cell_type": "code",
   "execution_count": 16,
   "metadata": {},
   "outputs": [],
   "source": [
    "estimate_designs = []\n",
    "\n",
    "if chosen_method == 'Perfect foresight method':\n",
    "    \n",
    "    # Commodity demand (vessel calc iterates yearly and is integrated into design function)\n",
    "    commodities[0].demand = traffic_scenario\n",
    "    \n",
    "    # Temporal terminal design\n",
    "    terminal = initial.terminal(project_WACC, triggers)\n",
    "    terminal = design(chosen_method, terminal, vessels, commodities, start_year, simulation_window)\n",
    "    iteration = copy.deepcopy(terminal)\n",
    "    estimate_designs.append(iteration)\n",
    "    print('Estimated NPV: $' + str('{:0,.0f}'.format(terminal.NPV)))\n",
    "    \n",
    "if chosen_method == 'Current performance method':\n",
    "    for i in range(len(traffic_projections)):\n",
    "        \n",
    "        if round(i/len(traffic_projections),2) == 0.25:\n",
    "            print ('25% complete')\n",
    "        if round(i/len(traffic_projections),2) == 0.50:\n",
    "            print ('50% complete')\n",
    "        if round(i/len(traffic_projections),2) == 0.75:\n",
    "            print ('75% complete')\n",
    "        \n",
    "        # Commodity demand and resulting vessel calls\n",
    "        commodities[0].demand = traffic_projections[i]\n",
    "        vessels = forecast.vessel_call_calc(vessels, commodities, simulation_window)\n",
    "\n",
    "        # Temporal terminal designs\n",
    "        terminal  = initial.terminal(project_WACC, triggers)\n",
    "        terminal  = design(chosen_method, terminal, vessels, commodities, start_year, simulation_window)\n",
    "        iteration = copy.deepcopy(terminal)\n",
    "        estimate_designs.append(iteration)\n",
    "    \n",
    "    # Visualize data\n",
    "    fig = visualisation.NPV_distribution_estimated_designs(estimate_designs)\n",
    "    py.iplot(fig, filename='Project value estimate')  \n",
    "        \n",
    "if chosen_method == 'Current performance method':\n",
    "    for i in range(len(traffic_projections)):\n",
    "        \n",
    "        if round(i/len(traffic_projections),2) == 0.25:\n",
    "            print ('25% complete')\n",
    "        if round(i/len(traffic_projections),2) == 0.50:\n",
    "            print ('50% complete')\n",
    "        if round(i/len(traffic_projections),2) == 0.75:\n",
    "            print ('75% complete')\n",
    "        \n",
    "        # Commodity demand (vessel calc iterates yearly and is integrated into design function)\n",
    "        commodities[0].demand = traffic_projections[i]\n",
    "        \n",
    "        # Temporal terminal designs\n",
    "        terminal  = initial.terminal(project_WACC, triggers)\n",
    "        terminal  = design(chosen_method, terminal, vessels, commodities, start_year, simulation_window)\n",
    "        iteration = copy.deepcopy(terminal)\n",
    "        estimate_designs.append(iteration)\n",
    "        \n",
    "    # Visualize data\n",
    "    fig = visualisation.NPV_distribution_estimated_designs(estimate_designs)\n",
    "    py.iplot(fig, filename='Project value estimation')  "
   ]
  },
  {
   "cell_type": "code",
   "execution_count": 24,
   "metadata": {},
   "outputs": [
    {
     "data": {
      "text/html": [
       "<iframe id=\"igraph\" scrolling=\"no\" style=\"border:none;\" seamless=\"seamless\" src=\"https://plot.ly/~wijnandijzermans/132.embed\" height=\"525px\" width=\"100%\"></iframe>"
      ],
      "text/plain": [
       "<plotly.tools.PlotlyDisplay object>"
      ]
     },
     "execution_count": 24,
     "metadata": {},
     "output_type": "execute_result"
    }
   ],
   "source": [
    "fig = visualisation.NPV_distribution_estimated_designs(estimate_designs)\n",
    "py.iplot(fig, filename='Project value estimate') "
   ]
  },
  {
   "cell_type": "markdown",
   "metadata": {},
   "source": [
    "## 3.4 Evaluate Financial Performance"
   ]
  },
  {
   "cell_type": "code",
   "execution_count": 17,
   "metadata": {},
   "outputs": [
    {
     "data": {
      "text/html": [
       "<iframe id=\"igraph\" scrolling=\"no\" style=\"border:none;\" seamless=\"seamless\" src=\"https://plot.ly/~wijnandijzermans/136.embed\" height=\"525px\" width=\"100%\"></iframe>"
      ],
      "text/plain": [
       "<plotly.tools.PlotlyDisplay object>"
      ]
     },
     "execution_count": 17,
     "metadata": {},
     "output_type": "execute_result"
    }
   ],
   "source": [
    "evaluate_designs = []\n",
    "\n",
    "# Create traffic simulations\n",
    "vessels, commodities, plotdata, traffic_simulations, traffic_scenario = traffic_generator(nr_generations, start_year, simulation_window)\n",
    "\n",
    "# Save / Load traffic simulations\n",
    "np.savetxt('traffic_simulations.txt', traffic_simulations, fmt='%d')\n",
    "#traffic_simulations = np.loadtxt('traffic_simulations.txt', dtype=int)\n",
    "\n",
    "if chosen_method == 'Perfect foresight method':\n",
    "    initial_terminal = terminal\n",
    "    after = []  \n",
    "    NPVs = []\n",
    "    for i in range(len(traffic_simulations)):\n",
    "        \n",
    "        if round(i/len(traffic_projections),2) == 0.25:\n",
    "            print ('25% complete')\n",
    "        if round(i/len(traffic_projections),2) == 0.50:\n",
    "            print ('50% complete')\n",
    "        if round(i/len(traffic_projections),2) == 0.75:\n",
    "            print ('75% complete')\n",
    "        \n",
    "        # Commodity demand (vessel calc iterates yearly and is integrated into design function)\n",
    "        commodities[0].demand = traffic_simulations[i]\n",
    "\n",
    "        # Design is kept static and fed with the various traffic volumes\n",
    "        terminal = evaluate_perfect_foresight(initial_terminal, commodities, simulation_window, start_year)\n",
    "        iteration = copy.deepcopy(terminal)\n",
    "        evaluate_designs.append(iteration)   \n",
    "    \n",
    "if chosen_method == 'Current performance method':\n",
    "    for i in range(len(traffic_simulations)):\n",
    "        \n",
    "        if round(i/len(traffic_projections),2) == 0.25:\n",
    "            print ('25% complete')\n",
    "        if round(i/len(traffic_projections),2) == 0.50:\n",
    "            print ('50% complete')\n",
    "        if round(i/len(traffic_projections),2) == 0.75:\n",
    "            print ('75% complete')\n",
    "        \n",
    "        # Commodity demand and resulting vessel calls\n",
    "        commodities[0].demand = traffic_simulations[i]\n",
    "        vessels = forecast.vessel_call_calc(vessels, commodities, simulation_window)\n",
    "\n",
    "        # Temporal terminal designs\n",
    "        terminal = initial.terminal(project_WACC, triggers)\n",
    "        terminal = design(chosen_method, terminal, vessels, commodities, start_year, simulation_window)\n",
    "        iteration = copy.deepcopy(terminal)\n",
    "        evaluate_designs.append(iteration)  \n",
    "        \n",
    "if chosen_method == 'Current performance method':\n",
    "    for i in range(len(traffic_simulations)):\n",
    "        \n",
    "        if round(i/len(traffic_projections),2) == 0.25:\n",
    "            print ('25% complete')\n",
    "        if round(i/len(traffic_projections),2) == 0.50:\n",
    "            print ('50% complete')\n",
    "        if round(i/len(traffic_projections),2) == 0.75:\n",
    "            print ('75% complete')\n",
    "        \n",
    "        # Commodity demand (vessel calc iterates yearly and is integrated into design function)\n",
    "        commodities[0].demand = traffic_simulations[i]\n",
    "        \n",
    "        # Temporal terminal designs\n",
    "        terminal = initial.terminal(project_WACC, triggers)\n",
    "        terminal = design(chosen_method, terminal, vessels, commodities, start_year, simulation_window)\n",
    "        iteration = copy.deepcopy(terminal)\n",
    "        evaluate_designs.append(iteration)\n",
    "    \n",
    "# Visualise NPV distribution of all terminal designs\n",
    "fig = visualisation.NPV_distribution_simulated_designs(evaluate_designs)\n",
    "py.iplot(fig, filename='Project value simulation')     "
   ]
  },
  {
   "cell_type": "markdown",
   "metadata": {},
   "source": [
    "# 3.5 Evaluate design method"
   ]
  },
  {
   "cell_type": "code",
   "execution_count": 18,
   "metadata": {},
   "outputs": [
    {
     "data": {
      "text/html": [
       "<iframe id=\"igraph\" scrolling=\"no\" style=\"border:none;\" seamless=\"seamless\" src=\"https://plot.ly/~wijnandijzermans/138.embed\" height=\"525px\" width=\"100%\"></iframe>"
      ],
      "text/plain": [
       "<plotly.tools.PlotlyDisplay object>"
      ]
     },
     "execution_count": 18,
     "metadata": {},
     "output_type": "execute_result"
    }
   ],
   "source": [
    "fig = visualisation.method_evaluation(chosen_method, estimate_designs, evaluate_designs)\n",
    "py.iplot(fig, filename='Design method evaluation')"
   ]
  },
  {
   "cell_type": "markdown",
   "metadata": {},
   "source": [
    "## 3.6 Single simulation run"
   ]
  },
  {
   "cell_type": "code",
   "execution_count": 19,
   "metadata": {},
   "outputs": [
    {
     "data": {
      "text/plain": [
       "15016442"
      ]
     },
     "execution_count": 19,
     "metadata": {},
     "output_type": "execute_result"
    }
   ],
   "source": [
    "project_WACC = 0.09\n",
    "#chosen_method = 'Perfect foresight method'\n",
    "chosen_method = 'Current performance method'\n",
    "#chosen_method = 'Forecast based method'\n",
    "\n",
    "triggers = []\n",
    "triggers.append([0.30, 'Acceptable waiting vessel time as factor of service time'])\n",
    "triggers.append([0.05, 'Minimum fraction of yearly throughput required as storage']) # PIANC guidelines\n",
    "triggers.append([0.06, 'Fraction of yearly throughput aspired as storage'])\n",
    "triggers.append([0.30, 'Acceptable waiting train time as factor of service time'])\n",
    "\n",
    "terminal = initial.terminal(project_WACC, triggers)\n",
    "terminal = design(chosen_method, terminal, vessels, commodities, start_year, simulation_window)\n",
    "\n",
    "# Visualise terminal discounted cashflows \n",
    "plotdata = visualisation.revenue_capex_opex(terminal)\n",
    "#py.iplot({'data': plotdata[0], 'layout': plotdata[1]}, filename='Cashflows')\n",
    "\n",
    "terminal.NPV"
   ]
  },
  {
   "cell_type": "markdown",
   "metadata": {},
   "source": [
    "## 3.7 Risk Sensitivity Iteration"
   ]
  },
  {
   "cell_type": "code",
   "execution_count": 23,
   "metadata": {},
   "outputs": [],
   "source": [
    "# Define traffic projection \n",
    "commodities[0].demand = traffic_scenario\n",
    "\n",
    "# Iterate through project WACC\n",
    "WACC_spectrum = np.linspace(0.01,0.15,15)\n",
    "\n",
    "WACC_iterations = []\n",
    "for WACC in WACC_spectrum:\n",
    "    terminal = initial.terminal(WACC, triggers)\n",
    "    terminal = design(chosen_method, terminal, vessels, commodities, start_year, simulation_window)\n",
    "    iteration = copy.deepcopy(terminal)\n",
    "    WACC_iterations.append(iteration)\n",
    "\n",
    "# Visualise NPV distribution as a result of project WACC\n",
    "plotdata = visualisation.NPV_distribution_WACC(WACC_iterations)\n",
    "fig = dict(data=plotdata[0], layout=plotdata[1])\n",
    "#py.iplot(fig, filename='Trigger iteration - vessel waiting time')"
   ]
  }
 ],
 "metadata": {
  "kernelspec": {
   "display_name": "Python 3",
   "language": "python",
   "name": "python3"
  },
  "language_info": {
   "codemirror_mode": {
    "name": "ipython",
    "version": 3
   },
   "file_extension": ".py",
   "mimetype": "text/x-python",
   "name": "python",
   "nbconvert_exporter": "python",
   "pygments_lexer": "ipython3",
   "version": "3.6.5"
  }
 },
 "nbformat": 4,
 "nbformat_minor": 2
}
