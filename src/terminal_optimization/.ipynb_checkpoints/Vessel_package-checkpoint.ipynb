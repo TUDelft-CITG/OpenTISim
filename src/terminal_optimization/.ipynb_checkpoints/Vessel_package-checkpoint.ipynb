{
 "cells": [
  {
   "cell_type": "markdown",
   "metadata": {},
   "source": [
    "## Vessel Package\n",
    "\n",
    "###### Characteristics\n",
    "- Vessel type\n",
    "- Call size\n",
    "- LOA\n",
    "- Draft\n",
    "- Beam\n",
    "- Max cranes deployed per vessel at berth\n",
    "- Max turn around time before demurrage rates kick in \n",
    "- Mooring time \n",
    "- Demurrage rate\n",
    "\n",
    "###### Functions\n",
    "- [calls_calc] Number of calls given a certain commodity forecast\n",
    "- [berth_time_calc] Time at berth per vessel \n",
    "\n",
    "###### Objects\n",
    "- Handysize\n",
    "- Handymax\n",
    "- Panamax"
   ]
  },
  {
   "cell_type": "code",
   "execution_count": 1,
   "metadata": {},
   "outputs": [],
   "source": [
    "# create vessel class **will ultimately be placed in package**\n",
    "class vessel_properties_mixin(object):\n",
    "    def __init__(self, vessel_type, call_size, LOA, draft, beam, max_cranes, all_turn_time, mooring_time, demurrage_rate, *args, **kwargs):\n",
    "        super().__init__(*args, **kwargs)\n",
    "        \"initialize\"\n",
    "        self.vessel_type   = vessel_type\n",
    "        self.call_size     = call_size \n",
    "        self.LOA           = LOA\n",
    "        self.draft         = draft\n",
    "        self.beam          = beam\n",
    "        self.max_cranes    = max_cranes\n",
    "        self.all_turn_time = all_turn_time\n",
    "        self.mooring_time  = mooring_time\n",
    "        self.demurrage_rate= demurrage_rate\n",
    "    \n",
    "    \n",
    "# Initial data set, data from Excel_input.xlsx\n",
    "handysize_data = {\"vessel_type\": 'Handysize', \"call_size\": 35000, \n",
    "                  \"LOA\": 130, \"draft\": 10, \"beam\": 24, \"max_cranes\": 2, \n",
    "                  \"all_turn_time\": 24, \"mooring_time\": 3, \"demurrage_rate\": 600}\n",
    "\n",
    "handymax_data = {\"vessel_type\": 'Handymax', \"call_size\": 50000, \n",
    "                  \"LOA\": 180, \"draft\": 11.5, \"beam\": 28, \"max_cranes\": 2, \n",
    "                  \"all_turn_time\": 24, \"mooring_time\": 3, \"demurrage_rate\": 750}\n",
    "\n",
    "panamax_data = {\"vessel_type\": 'Panamax', \"call_size\": 65000, \n",
    "                  \"LOA\": 220, \"draft\": 13, \"beam\": 32.2, \"max_cranes\": 3, \n",
    "                  \"all_turn_time\": 36, \"mooring_time\": 4, \"demurrage_rate\": 730} "
   ]
  },
  {
   "cell_type": "code",
   "execution_count": 11,
   "metadata": {},
   "outputs": [],
   "source": [
    "# define vessel class functions **will ultimately be placed in package**\n",
    "class vessel(vessel_properties_mixin):\n",
    "    def __init__(self, *args, **kwargs):\n",
    "        super().__init__(*args, **kwargs)\n",
    "        pass\n",
    "    \n",
    "    def calls_calc(self):\n",
    "        if self.vessel_type == 'Handysize':\n",
    "            self.calls = maize.forecast_hsize_calls + soybean.forecast_hsize_calls + wheat.forecast_hsize_calls\n",
    "        if self.vessel_type == 'Handymax':\n",
    "            self.calls = maize.forecast_hmax_calls + soybean.forecast_hmax_calls + wheat.forecast_hmax_calls\n",
    "        if self.vessel_type == 'Panamax':\n",
    "            self.calls = maize.forecast_pmax_calls + soybean.forecast_pmax_calls + wheat.forecast_pmax_calls\n",
    "            \n",
    "    def berth_time_calc(self):\n",
    "        self.berth_time   = self.call_size / berth.service_rate + self.mooring_time\n",
    "        self.waiting_time = berth.service_rate * berth.wait_fact\n",
    "        self.port_time    = self.berth_time + self.waiting_time"
   ]
  },
  {
   "cell_type": "code",
   "execution_count": 12,
   "metadata": {},
   "outputs": [],
   "source": [
    "def test_calc(test):\n",
    "    return test*3"
   ]
  },
  {
   "cell_type": "code",
   "execution_count": 6,
   "metadata": {},
   "outputs": [],
   "source": [
    "# create objects **will ultimately be placed in notebook**\n",
    "handysize = vessel(**handysize_data)\n",
    "handymax = vessel(**handymax_data)\n",
    "panamax = vessel(**panamax_data)\n",
    "test_variable = 15"
   ]
  }
 ],
 "metadata": {
  "kernelspec": {
   "display_name": "Python 3",
   "language": "python",
   "name": "python3"
  },
  "language_info": {
   "codemirror_mode": {
    "name": "ipython",
    "version": 3
   },
   "file_extension": ".py",
   "mimetype": "text/x-python",
   "name": "python",
   "nbconvert_exporter": "python",
   "pygments_lexer": "ipython3",
   "version": "3.6.5"
  }
 },
 "nbformat": 4,
 "nbformat_minor": 2
}
