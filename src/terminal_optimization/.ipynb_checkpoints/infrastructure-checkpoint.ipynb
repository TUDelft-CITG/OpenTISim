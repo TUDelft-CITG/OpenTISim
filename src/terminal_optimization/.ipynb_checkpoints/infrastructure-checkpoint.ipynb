{
 "cells": [
  {
   "cell_type": "code",
   "execution_count": 1,
   "metadata": {},
   "outputs": [],
   "source": [
    "import numpy as np\n",
    "import pandas as pd"
   ]
  },
  {
   "cell_type": "markdown",
   "metadata": {},
   "source": [
    "# Terminal Infrastructure classes"
   ]
  },
  {
   "cell_type": "markdown",
   "metadata": {},
   "source": [
    "### Quay wall"
   ]
  },
  {
   "cell_type": "code",
   "execution_count": 1,
   "metadata": {},
   "outputs": [],
   "source": [
    "# create quay wall class\n",
    "class quay_wall_properties_mixin(object):\n",
    "    def __init__(self, t0_length, ownership, delivery_time, lifespan, mobilisation_min, mobilisation_perc, \n",
    "                 maintenance_perc, insurance_perc, length, depth, freeboard, Gijt_constant, Gijt_coefficient, *args, **kwargs):\n",
    "        super().__init__(*args, **kwargs)\n",
    "        \"initialize\"\n",
    "        self.t0_length            = t0_length\n",
    "        self.ownership            = ownership\n",
    "        self.delivery_time        = delivery_time\n",
    "        self.lifespan             = lifespan\n",
    "        self.mobilisation_min     = mobilisation_min\n",
    "        self.mobilisation_perc    = mobilisation_perc\n",
    "        self.maintenance_perc     = maintenance_perc\n",
    "        self.insurance_perc       = insurance_perc\n",
    "        self.length               = length\n",
    "        self.depth                = depth\n",
    "        self.freeboard            = freeboard\n",
    "        self.Gijt_constant        = Gijt_constant\n",
    "        self.Gijt_coefficient     = Gijt_coefficient\n",
    "\n",
    "# Initial data set, data from Excel_input.xlsx\n",
    "quay_data = {\"t0_length\": 0, \"ownership\": 'Port authority', \"delivery_time\": 2, \"lifespan\": 50, \"mobilisation_min\": 2500000,\n",
    "             \"mobilisation_perc\": 0.02, \"maintenance_perc\": 0.01, \"insurance_perc\": 0.01,\"length\": 400, \"depth\": 14,\n",
    "             \"freeboard\": 4, \"Gijt_constant\": 757.20, \"Gijt_coefficient\": 1.2878} "
   ]
  },
  {
   "cell_type": "code",
   "execution_count": 2,
   "metadata": {},
   "outputs": [],
   "source": [
    "# define quay wall class functions\n",
    "class quay_wall_class(quay_wall_properties_mixin):\n",
    "    def __init__(self, *args, **kwargs):\n",
    "        super().__init__(*args, **kwargs)"
   ]
  },
  {
   "cell_type": "code",
   "execution_count": 3,
   "metadata": {},
   "outputs": [],
   "source": [
    "# create quay object\n",
    "quay_object = quay_wall_class(**quay_data)"
   ]
  },
  {
   "cell_type": "markdown",
   "metadata": {},
   "source": [
    "### Berths"
   ]
  },
  {
   "cell_type": "code",
   "execution_count": 6,
   "metadata": {},
   "outputs": [],
   "source": [
    "# create berth class\n",
    "class berth_properties_mixin(object):\n",
    "    def __init__(self, t0_quantity, crane_type, max_cranes, *args, **kwargs):\n",
    "        super().__init__(*args, **kwargs)\n",
    "        self.t0_quantity   = t0_quantity\n",
    "        self.crane_type    = crane_type\n",
    "        self.max_cranes    = max_cranes\n",
    "        self.delivery_time = quay_object.delivery_time\n",
    "        self.cranes_present = []\n",
    "        \n",
    "# Initial data set, data from Excel_input.xlsx\n",
    "berth_data = {\"t0_quantity\": 0, \"crane_type\": 'Mobile cranes', \"max_cranes\": 3}"
   ]
  },
  {
   "cell_type": "code",
   "execution_count": 7,
   "metadata": {},
   "outputs": [],
   "source": [
    "# define berth functions \n",
    "class berth_class(berth_properties_mixin):\n",
    "\n",
    "    def __init__(self, *args, **kwargs):\n",
    "        super().__init__(*args, **kwargs)\n",
    "        \n",
    "    def LOA_calc(self, vessels, timestep):\n",
    "        handysize = vessels[0]\n",
    "        handymax = vessels[1] \n",
    "        panamax = vessels[2]\n",
    "        if panamax.calls[timestep] != 0:\n",
    "            return panamax.LOA\n",
    "        elif panamax.calls[timestep] == 0 and handymax.calls[timestep] != 0:\n",
    "            return handymax.LOA\n",
    "        else:\n",
    "            return handysize.LOA\n",
    "\n",
    "    def vessel_depth_calc(self, vessels, timestep):\n",
    "        handysize = vessels[0]\n",
    "        handymax = vessels[1] \n",
    "        panamax = vessels[2]\n",
    "        if panamax.calls[timestep] != 0:\n",
    "            return panamax.draft\n",
    "        elif panamax.calls[timestep] == 0 and handymax.calls[timestep] != 0:\n",
    "            return handymax.draft\n",
    "        else:\n",
    "            return handysize.draft\n",
    "\n",
    "    def length_calc(self, max_LOA, berths):      \n",
    "        if len(berths) == 1:\n",
    "            return max_LOA + 15 + 15 \n",
    "        else:\n",
    "            return max_LOA + 15\n",
    "\n",
    "    def depth_calc(self, max_draft):\n",
    "        return max_draft + 1\n",
    "    \n",
    "    def remaining_calcs(self, berths, vessels, timestep):\n",
    "        max_LOA   = berths[0].LOA_calc(vessels, timestep)          # Maximum vessel LOA\n",
    "        max_draft = berths[0].vessel_depth_calc(vessels, timestep) # Maximum vessel draft\n",
    "        self.length             = self.length_calc(max_LOA, berths)     # assign length of each berth\n",
    "        self.depth              = self.depth_calc(max_draft)            # assign depth of each berth"
   ]
  },
  {
   "cell_type": "code",
   "execution_count": 8,
   "metadata": {},
   "outputs": [],
   "source": [
    "# create berth objects\n",
    "berth_object = berth_class(**berth_data)"
   ]
  },
  {
   "cell_type": "markdown",
   "metadata": {},
   "source": [
    "## Cranes (cyclic)"
   ]
  },
  {
   "cell_type": "code",
   "execution_count": 9,
   "metadata": {},
   "outputs": [],
   "source": [
    "# create cyclic unloader class **will ultimately be placed in package**\n",
    "class cyclic_properties_mixin(object):\n",
    "    def __init__(self, t0_quantity, ownership, delivery_time, lifespan, unit_rate, mobilisation_perc, maintenance_perc, \n",
    "                 insurance_perc, crew, crane_type, lifting_capacity, hourly_cycles, eff_fact, \n",
    "                 utilisation, *args, **kwargs):\n",
    "        super().__init__(*args, **kwargs)\n",
    "        \"initialize\"\n",
    "        self.t0_quantity          = t0_quantity\n",
    "        self.ownership            = ownership\n",
    "        self.delivery_time        = delivery_time\n",
    "        self.lifespan             = lifespan\n",
    "        self.unit_rate            = unit_rate\n",
    "        self.mobilisation_perc    = mobilisation_perc\n",
    "        self.maintenance_perc     = maintenance_perc\n",
    "        self.insurance_perc       = insurance_perc\n",
    "        self.crew                 = crew\n",
    "        self.crane_type           = crane_type\n",
    "        self.lifting_capacity     = lifting_capacity\n",
    "        self.hourly_cycles        = hourly_cycles\n",
    "        self.eff_fact             = eff_fact\n",
    "        self.utilisation          = utilisation\n",
    "        self.payload              = int(0.70 * self.lifting_capacity)      #Source: Nemag\n",
    "        self.peak_capacity        = int(self.payload * self.hourly_cycles) \n",
    "        self.effective_capacity   = int(eff_fact * self.peak_capacity)     #Source: TATA steel\n",
    "\n",
    "# Initial data set, data from Excel_input.xlsx\n",
    "gantry_crane_data   = {\"t0_quantity\":0, \"ownership\": 'Terminal operator', \"delivery_time\": 1, \"lifespan\": 40, \"unit_rate\": 19500000,\"mobilisation_perc\": 0.15, \n",
    "                      \"maintenance_perc\": 0.02, \"insurance_perc\": 0.01, \"crew\": 3, \n",
    "                      \"crane_type\": 'Gantry crane', \"lifting_capacity\": 70, \"hourly_cycles\": 60, \"eff_fact\": 0.55,\n",
    "                      \"utilisation\": 0.80}\n",
    "\n",
    "harbour_crane_data = {\"t0_quantity\":0, \"ownership\": 'Terminal operator', \"delivery_time\": 1, \"lifespan\": 40, \"unit_rate\": 14000000, \"mobilisation_perc\": 0.15, \n",
    "                      \"maintenance_perc\": 0.02, \"insurance_perc\": 0.01, \"crew\": 3, \n",
    "                      \"crane_type\": 'Harbour crane crane', \"lifting_capacity\": 40, \"hourly_cycles\": 40, \"eff_fact\": 0.55,\n",
    "                      \"utilisation\": 0.80}\n",
    "\n",
    "mobile_crane_data  = {\"t0_quantity\":0, \"ownership\": 'Terminal operator', \"delivery_time\": 1, \"lifespan\": 20, \"unit_rate\": 3325000,\"mobilisation_perc\": 0.15, \n",
    "                      \"maintenance_perc\": 0.031,\"insurance_perc\": 0.01, \"crew\": 3, \n",
    "                      \"crane_type\": 'Mobile crane',\"lifting_capacity\": 60, \"hourly_cycles\": 30, \"eff_fact\": 0.55,\n",
    "                      \"utilisation\": 0.80}"
   ]
  },
  {
   "cell_type": "code",
   "execution_count": 10,
   "metadata": {},
   "outputs": [],
   "source": [
    "# define cyclic unloader class functions **will ultimately be placed in package**\n",
    "class cyclic_unloader(cyclic_properties_mixin): \n",
    "    def __init__(self, *args, **kwargs):\n",
    "        super().__init__(*args, **kwargs)\n",
    "        \n",
    "        if self.crane_type != 'Mobile crane':\n",
    "            self.consumption = 0.3 * self.peak_capacity\n",
    "        else:\n",
    "            self.consumption = 485"
   ]
  },
  {
   "cell_type": "code",
   "execution_count": 11,
   "metadata": {},
   "outputs": [],
   "source": [
    "# create crane objects\n",
    "gantry_crane_object  = cyclic_unloader(**gantry_crane_data)\n",
    "harbour_crane_object = cyclic_unloader(**harbour_crane_data)\n",
    "mobile_crane_object  = cyclic_unloader(**mobile_crane_data)  "
   ]
  },
  {
   "cell_type": "markdown",
   "metadata": {},
   "source": [
    "## Cranes (continuous)"
   ]
  },
  {
   "cell_type": "code",
   "execution_count": 12,
   "metadata": {},
   "outputs": [],
   "source": [
    "# create continuous unloader class **will ultimately be placed in package**\n",
    "class continuous_properties_mixin(object):\n",
    "    def __init__(self, t0_quantity, ownership, delivery_time, lifespan, unit_rate, mobilisation_perc, maintenance_perc, \n",
    "                 insurance_perc, crew, crane_type, peak_capacity, eff_fact, utilisation, *args, **kwargs):\n",
    "        super().__init__(*args, **kwargs)\n",
    "        \"initialize\"\n",
    "        self.t0_quantity          = t0_quantity\n",
    "        self.ownership            = ownership\n",
    "        self.delivery_time        = delivery_time\n",
    "        self.lifespan             = lifespan\n",
    "        self.unit_rate            = unit_rate\n",
    "        self.mobilisation_perc    = mobilisation_perc\n",
    "        self.mobilisation         = int(mobilisation_perc * unit_rate)\n",
    "        self.maintenance_perc     = maintenance_perc\n",
    "        self.insurance_perc       = insurance_perc\n",
    "        self.crew                 = crew\n",
    "        self.crane_type           = crane_type\n",
    "        self.peak_capacity        = peak_capacity\n",
    "        self.eff_fact             = eff_fact\n",
    "        self.effective_capacity   = eff_fact * peak_capacity\n",
    "        self.utilisation          = utilisation\n",
    "\n",
    "# Initial data set, data from Excel_input.xlsx\n",
    "continuous_screw_data = {\"t0_quantity\": 0, \"ownership\": 'Terminal operator', \"delivery_time\": 1, \"lifespan\": 30, \"unit_rate\": 6900000, \"mobilisation_perc\": 0.15, \n",
    "                         \"maintenance_perc\": 0.02, \"insurance_perc\": 0.01, \"crew\": 2,\"crane_type\": 'Screw unloader', \n",
    "                         \"peak_capacity\": 700, \"eff_fact\": 0.55, \"utilisation\": 0.80}"
   ]
  },
  {
   "cell_type": "code",
   "execution_count": 13,
   "metadata": {},
   "outputs": [],
   "source": [
    "# define continuous unloader class functions **will ultimately be placed in package**\n",
    "class continuous_unloader(continuous_properties_mixin):\n",
    "    def __init__(self, *args, **kwargs):\n",
    "        super().__init__(*args, **kwargs)"
   ]
  },
  {
   "cell_type": "code",
   "execution_count": 14,
   "metadata": {},
   "outputs": [],
   "source": [
    "# create screw unloader objects\n",
    "screw_unloader_object = continuous_unloader(**continuous_screw_data)\n",
    "cranes_object = [gantry_crane_object, harbour_crane_object, mobile_crane_object, screw_unloader_object]"
   ]
  },
  {
   "cell_type": "markdown",
   "metadata": {},
   "source": [
    "## Storage"
   ]
  },
  {
   "cell_type": "code",
   "execution_count": 15,
   "metadata": {},
   "outputs": [],
   "source": [
    "# create storage class **will ultimately be placed in package**\n",
    "class storage_properties_mixin(object):\n",
    "    def __init__(self, t0_capacity, ownership, delivery_time, lifespan, unit_rate, mobilisation_min, mobilisation_perc, \n",
    "                 maintenance_perc, crew, insurance_perc, storage_type, consumption, silo_capacity, *args, **kwargs):\n",
    "        super().__init__(*args, **kwargs)\n",
    "        \"initialize\"\n",
    "        self.t0_capacity          = t0_capacity\n",
    "        self.ownership            = ownership\n",
    "        self.delivery_time        = delivery_time\n",
    "        self.lifespan             = lifespan\n",
    "        self.unit_rate            = unit_rate\n",
    "        self.mobilisation_min     = mobilisation_min\n",
    "        self.mobilisation_perc    = mobilisation_perc\n",
    "        self.maintenance_perc     = maintenance_perc\n",
    "        self.crew                 = crew\n",
    "        self.insurance_perc       = insurance_perc\n",
    "        self.storage_type         = storage_type\n",
    "        self.consumption          = consumption\n",
    "        self.silo_capacity        = silo_capacity\n",
    "        \n",
    "# Initial data set, data from Excel_input.xlsx\n",
    "silo_data      = {\"t0_capacity\": 0, \"ownership\": 'Terminal operator', \"delivery_time\": 1, \"lifespan\": 30, \"unit_rate\": 60, \n",
    "                  \"mobilisation_min\": 200000, \"mobilisation_perc\": 0.003, \"maintenance_perc\": 0.02, \"crew\": 1, \n",
    "                  \"insurance_perc\": 0.01, \"storage_type\": 'Silos', \"consumption\": 0.002, \"silo_capacity\": 6000}\n",
    "warehouse_data = {\"t0_capacity\": 0, \"ownership\": 'Terminal operator', \"delivery_time\": 1, \"lifespan\": 30, \"unit_rate\": 140,\n",
    "                  \"mobilisation_min\": 200000, \"mobilisation_perc\": 0.001, \"maintenance_perc\": 0.01, \"crew\": 3, \n",
    "                  \"insurance_perc\": 0.01, \"storage_type\": 'Warehouse', \"consumption\": 0.002, \"silo_capacity\": 'n/a'}"
   ]
  },
  {
   "cell_type": "code",
   "execution_count": 16,
   "metadata": {},
   "outputs": [],
   "source": [
    "# define storage class functions **will ultimately be placed in package**\n",
    "class storage(storage_properties_mixin):\n",
    "    def __init__(self, *args, **kwargs):\n",
    "        super().__init__(*args, **kwargs)"
   ]
  },
  {
   "cell_type": "code",
   "execution_count": 17,
   "metadata": {},
   "outputs": [],
   "source": [
    "# create storage objects\n",
    "silo_object = storage(**silo_data)\n",
    "warehouse_object = storage(**warehouse_data)\n",
    "storage_object = [silo_object, warehouse_object]"
   ]
  },
  {
   "cell_type": "markdown",
   "metadata": {},
   "source": [
    "## Loading Station"
   ]
  },
  {
   "cell_type": "code",
   "execution_count": 18,
   "metadata": {},
   "outputs": [],
   "source": [
    "# create loading station class **will ultimately be placed in package**\n",
    "class hinterland_station_properties_mixin(object):\n",
    "    def __init__(self, t0_capacity, ownership, delivery_time, lifespan, unit_rate, mobilisation, maintenance_perc, \n",
    "                 insurance_perc, consumption, crew, utilisation, capacity_steps, *args, **kwargs):\n",
    "        super().__init__(*args, **kwargs)\n",
    "        \"initialize\"\n",
    "        self.t0_capacity          = t0_capacity\n",
    "        self.ownership            = ownership\n",
    "        self.delivery_time        = delivery_time\n",
    "        self.lifespan             = lifespan\n",
    "        self.unit_rate            = unit_rate\n",
    "        self.mobilisation         = mobilisation\n",
    "        self.maintenance_perc     = maintenance_perc\n",
    "        self.insurance_perc       = insurance_perc\n",
    "        self.consumption          = consumption\n",
    "        self.crew                 = crew\n",
    "        self.utilisation          = utilisation\n",
    "        self.capacity_steps       = capacity_steps\n",
    "        \n",
    "# Initial data set, data from Excel_input.xlsx\n",
    "hinterland_station_data = {\"t0_capacity\": 0, \"ownership\": 'Terminal operator', \"delivery_time\": 1, \"lifespan\": 15, \"unit_rate\": 4000, \"mobilisation\": 100000, \n",
    "                           \"maintenance_perc\": 0.02, \"consumption\": 0.25, \"insurance_perc\": 0.01, \"crew\": 2, \"utilisation\": 0.80, \"capacity_steps\": 300}"
   ]
  },
  {
   "cell_type": "code",
   "execution_count": 19,
   "metadata": {},
   "outputs": [],
   "source": [
    "# define loading station class functions **will ultimately be placed in package**\n",
    "class hinterland_station(hinterland_station_properties_mixin):\n",
    "    def __init__(self, *args, **kwargs):\n",
    "        super().__init__(*args, **kwargs)"
   ]
  },
  {
   "cell_type": "code",
   "execution_count": 20,
   "metadata": {},
   "outputs": [],
   "source": [
    "# create loading station objects\n",
    "station_object = hinterland_station(**hinterland_station_data)"
   ]
  },
  {
   "cell_type": "markdown",
   "metadata": {},
   "source": [
    "## Conveyors"
   ]
  },
  {
   "cell_type": "code",
   "execution_count": 21,
   "metadata": {},
   "outputs": [],
   "source": [
    "# create conveyor class **will ultimately be placed in package**\n",
    "class conveyor_properties_mixin(object):\n",
    "    def __init__(self, t0_capacity, length, ownership, delivery_time, lifespan, unit_rate, mobilisation, maintenance_perc, insurance_perc, \n",
    "                 consumption_constant, consumption_coefficient, crew, utilisation, capacity_steps, *args, **kwargs):\n",
    "        super().__init__(*args, **kwargs)\n",
    "        \"initialize\"\n",
    "        self.t0_capacity             = t0_capacity\n",
    "        self.length                  = length\n",
    "        self.ownership               = ownership\n",
    "        self.delivery_time           = delivery_time\n",
    "        self.lifespan                = lifespan\n",
    "        self.unit_rate               = unit_rate\n",
    "        self.mobilisation            = mobilisation\n",
    "        self.maintenance_perc        = maintenance_perc\n",
    "        self.insurance_perc          = insurance_perc\n",
    "        self.consumption_constant    = consumption_constant\n",
    "        self.consumption_coefficient = consumption_coefficient\n",
    "        self.crew                    = crew\n",
    "        self.utilisation             = utilisation\n",
    "        self.capacity_steps          = capacity_steps\n",
    "\n",
    "# Initial data set, data from Excel_input.xlsx\n",
    "quay_conveyor_data = {\"t0_capacity\": 0, \"length\": 500, \"ownership\": 'Terminal operator', \"delivery_time\": 1, \"lifespan\": 10, \n",
    "                      \"unit_rate\": 6, \"mobilisation\": 30000,\"maintenance_perc\": 0.10, \"insurance_perc\": 0.01, \n",
    "                      \"consumption_constant\": 81,\"consumption_coefficient\":0.08, \"crew\": 1, \"utilisation\": 0.80, \n",
    "                      \"capacity_steps\": 400}\n",
    "\n",
    "hinterland_conveyor_data = {\"t0_capacity\": 0, \"length\": 500, \"ownership\": 'Terminal operator', \"delivery_time\": 1, \"lifespan\": 10, \"mobilisation\": 30000, \n",
    "                            \"unit_rate\": 6, \"maintenance_perc\": 0.10, \"insurance_perc\": 0.01, \"consumption_constant\": 81, \n",
    "                            \"consumption_coefficient\":0.08, \"crew\": 1, \"utilisation\": 0.80, \"capacity_steps\": 400}"
   ]
  },
  {
   "cell_type": "code",
   "execution_count": 22,
   "metadata": {},
   "outputs": [],
   "source": [
    "# define conveyor class functions **will ultimately be placed in package**\n",
    "class conveyor(conveyor_properties_mixin):\n",
    "    def __init__(self, *args, **kwargs):\n",
    "        super().__init__(*args, **kwargs)"
   ]
  },
  {
   "cell_type": "code",
   "execution_count": 23,
   "metadata": {},
   "outputs": [],
   "source": [
    "# create loading station objects\n",
    "quay_conveyor_object = conveyor(**quay_conveyor_data)\n",
    "hinterland_conveyor_object = conveyor(**hinterland_conveyor_data)"
   ]
  }
 ],
 "metadata": {
  "kernelspec": {
   "display_name": "Python 3",
   "language": "python",
   "name": "python3"
  },
  "language_info": {
   "codemirror_mode": {
    "name": "ipython",
    "version": 3
   },
   "file_extension": ".py",
   "mimetype": "text/x-python",
   "name": "python",
   "nbconvert_exporter": "python",
   "pygments_lexer": "ipython3",
   "version": "3.6.5"
  }
 },
 "nbformat": 4,
 "nbformat_minor": 2
}
