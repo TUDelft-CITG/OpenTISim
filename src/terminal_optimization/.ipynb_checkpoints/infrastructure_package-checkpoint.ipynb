{
 "cells": [
  {
   "cell_type": "code",
   "execution_count": 1,
   "metadata": {},
   "outputs": [],
   "source": [
    "import numpy as np\n",
    "import pandas as pd"
   ]
  },
  {
   "cell_type": "markdown",
   "metadata": {},
   "source": [
    "# Import from notebook"
   ]
  },
  {
   "cell_type": "markdown",
   "metadata": {},
   "source": [
    "### Import general port parameters\n",
    "This imports the 'General Port parameters' from the notebook so that they can be used for calculations within this package"
   ]
  },
  {
   "cell_type": "code",
   "execution_count": 2,
   "metadata": {},
   "outputs": [],
   "source": [
    "def import_notebook_parameters():\n",
    "    \n",
    "    global year\n",
    "    global start_year\n",
    "    global timestep\n",
    "    global operational_hours\n",
    "    \n",
    "    year              = parameters.year\n",
    "    start_year        = parameters.start_year\n",
    "    timestep          = parameters.timestep\n",
    "    operational_hours = parameters.operational_hours\n",
    "    \n",
    "    return"
   ]
  },
  {
   "cell_type": "markdown",
   "metadata": {},
   "source": [
    "### Create notebook affiliated classes\n",
    "This creates the classes that are linked to data located within the notebook\n",
    "- Commodity characteristics at current timestep"
   ]
  },
  {
   "cell_type": "code",
   "execution_count": 3,
   "metadata": {},
   "outputs": [],
   "source": [
    "def import_notebook_classes():\n",
    "    \n",
    "    global commodities\n",
    "    \n",
    "    class commodity_class():\n",
    "        def __init__(self, *args, **kwargs):\n",
    "            super().__init__(*args, **kwargs)\n",
    "            self.maize_demand   = maize.demand[timestep]\n",
    "            self.soybean_demand = soybean.demand[timestep]\n",
    "            self.wheat_demand   = wheat.demand[timestep]\n",
    "            self.demand         = self.maize_demand + self.soybean_demand + self.wheat_demand\n",
    "    commodities = commodity_class()\n",
    "    \n",
    "    return"
   ]
  },
  {
   "cell_type": "markdown",
   "metadata": {},
   "source": [
    "# Terminal Infrastructure classes"
   ]
  },
  {
   "cell_type": "markdown",
   "metadata": {},
   "source": [
    "### Quay wall"
   ]
  },
  {
   "cell_type": "code",
   "execution_count": 5,
   "metadata": {},
   "outputs": [],
   "source": [
    "# create quay wall class\n",
    "class quay_wall_properties_mixin(object):\n",
    "    def __init__(self, ownership, delivery_time, lifespan, mobilisation_min, mobilisation_perc, maintenance_perc, insurance_perc, \n",
    "                 length, depth, freeboard, Gijt_constant, Gijt_coefficient, *args, **kwargs):\n",
    "        super().__init__(*args, **kwargs)\n",
    "        \"initialize\"\n",
    "        self.ownership            = ownership\n",
    "        self.delivery_time        = delivery_time\n",
    "        self.lifespan             = lifespan\n",
    "        self.mobilisation_min     = mobilisation_min\n",
    "        self.mobilisation_perc    = mobilisation_perc\n",
    "        self.maintenance_perc     = maintenance_perc\n",
    "        self.insurance_perc       = insurance_perc\n",
    "        self.length               = length\n",
    "        self.depth                = depth\n",
    "        self.freeboard            = freeboard\n",
    "        self.Gijt_constant        = Gijt_constant\n",
    "        self.Gijt_coefficient     = Gijt_coefficient\n",
    "\n",
    "# Initial data set, data from Excel_input.xlsx\n",
    "quay_data = {\"ownership\": 'Port authority', \"delivery_time\": 2, \"lifespan\": 50, \"mobilisation_min\": 2500000,\n",
    "             \"mobilisation_perc\": 0.02, \"maintenance_perc\": 0.01, \"insurance_perc\": 0.01,\"length\": 400, \"depth\": 14,\n",
    "             \"freeboard\": 4, \"Gijt_constant\": 757.20, \"Gijt_coefficient\": 1.2878} "
   ]
  },
  {
   "cell_type": "code",
   "execution_count": 6,
   "metadata": {},
   "outputs": [],
   "source": [
    "# define quay wall class functions\n",
    "class quay_wall_class(quay_wall_properties_mixin):\n",
    "    def __init__(self, *args, **kwargs):\n",
    "        super().__init__(*args, **kwargs)\n",
    "        \n",
    "    def unit_rate_calc(self):\n",
    "        self.unit_rate = int(self.Gijt_constant * (self.depth*2 + self.freeboard)**self.Gijt_coefficient) # van Gijt (2010)\n",
    "    \n",
    "    def original_value_calc(self):\n",
    "        self.original_value = int(self.length * self.unit_rate)\n",
    "        \n",
    "    def mobilisation_calc(self):\n",
    "        self.mobilisation = int(max((self.delta * self.unit_rate * self.mobilisation_perc), self.mobilisation_min))\n",
    "        \n",
    "    def maintenance_calc(self):\n",
    "        self.maintenance = int(self.original_value * self.maintenance_perc)\n",
    "        \n",
    "    def insurance_calc(self):\n",
    "        self.insurance = int(self.original_value * self.insurance_perc)"
   ]
  },
  {
   "cell_type": "code",
   "execution_count": 7,
   "metadata": {},
   "outputs": [],
   "source": [
    "# create quay object\n",
    "quay = quay_wall_class(**quay_data)"
   ]
  },
  {
   "cell_type": "markdown",
   "metadata": {},
   "source": [
    "### Berths"
   ]
  },
  {
   "cell_type": "code",
   "execution_count": 8,
   "metadata": {},
   "outputs": [],
   "source": [
    "# create berth class\n",
    "class berth_properties_mixin(object):\n",
    "    def __init__(self, crane_config, *args, **kwargs):\n",
    "        super().__init__(*args, **kwargs)\n",
    "        self.crane_config  = crane_config\n",
    "        self.delivery_time = quay.delivery_time\n",
    "        \n",
    "# Initial data set, data from Excel_input.xlsx\n",
    "berth_data = {\"crane_config\": 'maximum'}"
   ]
  },
  {
   "cell_type": "code",
   "execution_count": 16,
   "metadata": {},
   "outputs": [
    {
     "ename": "NameError",
     "evalue": "name 'berth_properties_mixin' is not defined",
     "output_type": "error",
     "traceback": [
      "\u001b[1;31m---------------------------------------------------------------------------\u001b[0m",
      "\u001b[1;31mNameError\u001b[0m                                 Traceback (most recent call last)",
      "\u001b[1;32m<ipython-input-16-11b268466131>\u001b[0m in \u001b[0;36m<module>\u001b[1;34m()\u001b[0m\n\u001b[0;32m      1\u001b[0m \u001b[1;31m# define berth functions\u001b[0m\u001b[1;33m\u001b[0m\u001b[1;33m\u001b[0m\u001b[0m\n\u001b[1;32m----> 2\u001b[1;33m \u001b[1;32mclass\u001b[0m \u001b[0mberth_class\u001b[0m\u001b[1;33m(\u001b[0m\u001b[0mberth_properties_mixin\u001b[0m\u001b[1;33m)\u001b[0m\u001b[1;33m:\u001b[0m\u001b[1;33m\u001b[0m\u001b[0m\n\u001b[0m\u001b[0;32m      3\u001b[0m \u001b[1;33m\u001b[0m\u001b[0m\n\u001b[0;32m      4\u001b[0m     \u001b[1;32mdef\u001b[0m \u001b[0m__init__\u001b[0m\u001b[1;33m(\u001b[0m\u001b[0mself\u001b[0m\u001b[1;33m,\u001b[0m \u001b[1;33m*\u001b[0m\u001b[0margs\u001b[0m\u001b[1;33m,\u001b[0m \u001b[1;33m**\u001b[0m\u001b[0mkwargs\u001b[0m\u001b[1;33m)\u001b[0m\u001b[1;33m:\u001b[0m\u001b[1;33m\u001b[0m\u001b[0m\n\u001b[0;32m      5\u001b[0m         \u001b[0msuper\u001b[0m\u001b[1;33m(\u001b[0m\u001b[1;33m)\u001b[0m\u001b[1;33m.\u001b[0m\u001b[0m__init__\u001b[0m\u001b[1;33m(\u001b[0m\u001b[1;33m*\u001b[0m\u001b[0margs\u001b[0m\u001b[1;33m,\u001b[0m \u001b[1;33m**\u001b[0m\u001b[0mkwargs\u001b[0m\u001b[1;33m)\u001b[0m\u001b[1;33m\u001b[0m\u001b[0m\n",
      "\u001b[1;31mNameError\u001b[0m: name 'berth_properties_mixin' is not defined"
     ]
    }
   ],
   "source": [
    "# define berth functions \n",
    "class berth_class(berth_properties_mixin):\n",
    "\n",
    "    def __init__(self, *args, **kwargs):\n",
    "        super().__init__(*args, **kwargs)\n",
    "        \n",
    "    def LOA_calc(self):\n",
    "        if panamax.calls[timestep] != 0:\n",
    "            return panamax.LOA\n",
    "        elif panamax.calls[timestep] == 0 and handymax.calls[timestep] != 0:\n",
    "            return handymax.LOA\n",
    "        else:\n",
    "            return handysize.LOA\n",
    "\n",
    "    def vessel_depth_calc(self):\n",
    "        if panamax.calls[timestep] != 0:\n",
    "            return panamax.draft\n",
    "        elif panamax.calls[timestep] == 0 and handymax.calls[timestep] != 0:\n",
    "            return handymax.draft\n",
    "        else:\n",
    "            return handysize.draft\n",
    "\n",
    "    def length_calc(self, max_LOA, i):      \n",
    "        if i == 0:\n",
    "            return max_LOA + 15 + 15 \n",
    "        else:\n",
    "            return max_LOA + 15\n",
    "\n",
    "    def depth_calc(self, max_draft):\n",
    "        return max_draft + 1\n",
    "        \n",
    "    def cranes_calc(self):\n",
    "        if self.crane_config == 'maximum': \n",
    "            if panamax.calls[timestep] != 0:\n",
    "                self.n_cranes = panamax.max_cranes\n",
    "            elif panamax.calls[timestep] == 0 and handymax.calls[timestep] != 0:\n",
    "                self.n_cranes = handymax.max_cranes\n",
    "            else:\n",
    "                self.n_cranes = handysize.max_cranes\n",
    "        \n",
    "    def eff_unloading_rate_calc(self):\n",
    "        if self.crane_type == 'Gantry cranes':\n",
    "            return gantry_cranes[0].effective_capacity * self.n_cranes\n",
    "        if self.crane_type == 'Harbour cranes':\n",
    "            return harbour_cranes[0].effective_capacity * self.n_cranes\n",
    "        if self.crane_type == 'Mobile cranes':\n",
    "            return mobile_cranes[0].effective_capacity * self.n_cranes\n",
    "        if self.crane_type == 'Screw unloaders':\n",
    "            return screw_unloaders[0].effective_capacity * self.n_cranes\n",
    "        \n",
    "    def peak_unloading_rate_calc(self):\n",
    "        if self.crane_type == 'Gantry cranes':\n",
    "            return gantry_cranes[0].peak_capacity * self.n_cranes\n",
    "        if self.crane_type == 'Harbour cranes':\n",
    "            return harbour_cranes[0].peak_capacity * self.n_cranes\n",
    "        if self.crane_type == 'Mobile cranes':\n",
    "            return mobile_cranes[0].peak_capacity * self.n_cranes\n",
    "        if self.crane_type == 'Screw unloaders':\n",
    "            return screw_unloaders[0].peak_capacity * self.n_cranes\n",
    "    \n",
    "    def occupancy_calc(self, quantity):\n",
    "        self.cranes_calc()\n",
    "        unloading_rate = self.eff_unloading_rate_calc()\n",
    "        handysize.berth_time_calc(unloading_rate)\n",
    "        handymax.berth_time_calc(unloading_rate)\n",
    "        panamax.berth_time_calc(unloading_rate)\n",
    "        berth_time = (handysize.berth_time * handysize.calls[timestep] +\\\n",
    "                      handymax.berth_time  * handymax.calls[timestep] +\\\n",
    "                      panamax.berth_time   * panamax.calls[timestep]) / quantity       \n",
    "        return berth_time / (operational_hours)    \n",
    "    \n",
    "    def remaining_calcs(self):\n",
    "        max_LOA   = berths[0].LOA_calc()                          # Maximum vessel LOA\n",
    "        max_draft = berths[0].vessel_depth_calc()                 # Maximum vessel draft\n",
    "        n_cranes  = berths[0].cranes_calc()                       # Number of cranes per vessel\n",
    "        self.cranes_calc()\n",
    "        self.length             = self.length_calc(max_LOA, i)    # assign length of each berth\n",
    "        self.depth              = self.depth_calc(max_draft)      # assign depth of each berth\n",
    "        self.eff_unloading_rate = self.eff_unloading_rate_calc()  # effective unloading rate of each berth\n",
    "        self.eff_unloading_rate = self.peak_unloading_rate_calc() # peak unloading rate of each berth\n",
    "        \n",
    "    @classmethod\n",
    "    def online_quantity_calc(cls, quantity):\n",
    "        cls.online_quantity = quantity\n",
    "        \n",
    "    @classmethod\n",
    "    def pending_quantity_calc(cls, quantity):\n",
    "        cls.pending_quantity = quantity"
   ]
  },
  {
   "cell_type": "code",
   "execution_count": null,
   "metadata": {},
   "outputs": [],
   "source": [
    "#@classmethod\n",
    "def remaining_calcs(clc):\n",
    "    max_LOA   = berths[0].LOA_calc()                    # Maximum vessel LOA\n",
    "    max_draft = berths[0].vessel_depth_calc()           # Maximum vessel draft\n",
    "    n_cranes  = berths[0].cranes_calc()                 # Number of cranes per vessel\n",
    "\n",
    "    for i in range (berths[0].quantity):\n",
    "        berths[i].cranes_calc()\n",
    "        berths[i].length             = berths[i].length_calc(max_LOA, i)            # assign length of each berth\n",
    "        berths[i].depth              = berths[i].depth_calc(max_draft)              # assign depth of each berth\n",
    "        berths[i].eff_unloading_rate = berths[i].eff_unloading_rate_calc()  # effective unloading rate of each berth\n",
    "        berths[i].eff_unloading_rate = berths[i].peak_unloading_rate_calc() # peak unloading rate of each berth"
   ]
  },
  {
   "cell_type": "code",
   "execution_count": 4,
   "metadata": {},
   "outputs": [
    {
     "ename": "NameError",
     "evalue": "name 'berth_class' is not defined",
     "output_type": "error",
     "traceback": [
      "\u001b[1;31m---------------------------------------------------------------------------\u001b[0m",
      "\u001b[1;31mNameError\u001b[0m                                 Traceback (most recent call last)",
      "\u001b[1;32m<ipython-input-4-dce5e287febb>\u001b[0m in \u001b[0;36m<module>\u001b[1;34m()\u001b[0m\n\u001b[0;32m      1\u001b[0m \u001b[1;31m# create berth objects\u001b[0m\u001b[1;33m\u001b[0m\u001b[1;33m\u001b[0m\u001b[0m\n\u001b[1;32m----> 2\u001b[1;33m \u001b[0mberth\u001b[0m \u001b[1;33m=\u001b[0m \u001b[0mberth_class\u001b[0m\u001b[1;33m(\u001b[0m\u001b[1;33m**\u001b[0m\u001b[0mberth_data\u001b[0m\u001b[1;33m)\u001b[0m\u001b[1;33m\u001b[0m\u001b[0m\n\u001b[0m\u001b[0;32m      3\u001b[0m \u001b[0mberths\u001b[0m \u001b[1;33m=\u001b[0m \u001b[1;33m[\u001b[0m\u001b[1;36m5\u001b[0m \u001b[1;33m*\u001b[0m \u001b[0mberth\u001b[0m\u001b[1;33m]\u001b[0m\u001b[1;33m\u001b[0m\u001b[0m\n",
      "\u001b[1;31mNameError\u001b[0m: name 'berth_class' is not defined"
     ]
    }
   ],
   "source": [
    "# create berth objects\n",
    "berths = []\n",
    "for i in range (5):\n",
    "    berths.append(berth_class(**berth_data))\n",
    "    berths[i].index = i"
   ]
  },
  {
   "cell_type": "markdown",
   "metadata": {},
   "source": [
    "## Cranes (cyclic)"
   ]
  },
  {
   "cell_type": "code",
   "execution_count": 12,
   "metadata": {},
   "outputs": [],
   "source": [
    "# create cyclic unloader class **will ultimately be placed in package**\n",
    "class cyclic_properties_mixin(object):\n",
    "    def __init__(self, ownership, delivery_time, lifespan, unit_rate, mobilisation_perc, maintenance_perc, insurance_perc, consumption, crew, unloader_type, lifting_capacity, hourly_cycles, eff_fact, utilisation, *args, **kwargs):\n",
    "        super().__init__(*args, **kwargs)\n",
    "        \"initialize\"\n",
    "        self.ownership            = ownership\n",
    "        self.delivery_time        = delivery_time\n",
    "        self.lifespan             = lifespan\n",
    "        self.unit_rate            = unit_rate\n",
    "        self.mobilisation_perc    = mobilisation_perc\n",
    "        self.maintenance_perc     = maintenance_perc\n",
    "        self.insurance_perc       = insurance_perc\n",
    "        self.consumption          = consumption\n",
    "        self.crew                 = crew\n",
    "        self.unloader_type        = unloader_type\n",
    "        self.lifting_capacity     = lifting_capacity\n",
    "        self.hourly_cycles        = hourly_cycles\n",
    "        self.eff_fact             = eff_fact\n",
    "        self.utilisation          = utilisation\n",
    "        self.payload              = int(0.70 * self.lifting_capacity)      #Source: Nemag\n",
    "        self.peak_capacity        = int(self.payload * self.hourly_cycles) \n",
    "        self.effective_capacity   = int(eff_fact * self.peak_capacity)     #Source: TATA steel\n",
    "\n",
    "# Initial data set, data from Excel_input.xlsx\n",
    "gantry_crane_data        = {\"ownership\": 'Terminal operator', \"delivery_time\": 1, \"lifespan\": 40, \"unit_rate\": 19500000,\"mobilisation_perc\": 0.15, \n",
    "                      \"maintenance_perc\": 0.02, \"insurance_perc\": 0.01,\"consumption\": 0, \"crew\": 3, \n",
    "                      \"unloader_type\": 'Gantry crane', \"lifting_capacity\": 70, \"hourly_cycles\": 60, \"eff_fact\": 0.55,\n",
    "                      \"utilisation\": 0.80}\n",
    "\n",
    "harbour_crane_data = {\"ownership\": 'Terminal operator', \"delivery_time\": 1, \"lifespan\": 40, \"unit_rate\": 14000000, \"mobilisation_perc\": 0.15, \n",
    "                      \"maintenance_perc\": 0.02, \"insurance_perc\": 0.01,\"consumption\": 0, \"crew\": 3, \n",
    "                      \"unloader_type\": 'Harbour crane crane', \"lifting_capacity\": 40, \"hourly_cycles\": 40, \"eff_fact\": 0.55,\n",
    "                      \"utilisation\": 0.80}\n",
    "\n",
    "mobile_crane_data  = {\"ownership\": 'Terminal operator', \"delivery_time\": 1, \"lifespan\": 20, \"unit_rate\": 3325000,\"mobilisation_perc\": 0.15, \n",
    "                      \"maintenance_perc\": 0.031,\"insurance_perc\": 0.01,\"consumption\": 485, \"crew\": 3, \n",
    "                      \"unloader_type\": 'Mobile crane',\"lifting_capacity\": 60, \"hourly_cycles\": 30, \"eff_fact\": 0.55,\n",
    "                      \"utilisation\": 0.80}"
   ]
  },
  {
   "cell_type": "code",
   "execution_count": 13,
   "metadata": {},
   "outputs": [],
   "source": [
    "# define cyclic unloader class functions **will ultimately be placed in package**\n",
    "class cyclic_unloader(cyclic_properties_mixin): \n",
    "    def __init__(self, *args, **kwargs):\n",
    "        super().__init__(*args, **kwargs)\n",
    "        \n",
    "    def total_capacity_calc(self):\n",
    "        self.total_peak_capacity = int(self.quantity * self.peak_capacity)\n",
    "        self.total_eff_capacity  = int(self.total_peak_capacity * self.eff_fact)\n",
    "    \n",
    "    def original_value_calc(self):\n",
    "        self.original_value = int(self.quantity * self.unit_rate) \n",
    "        \n",
    "    def lease_calc(self):\n",
    "        if self.unloader_type == 'Mobile crane':\n",
    "            self.lease = int(self.original_value * 0.10)\n",
    "        else:\n",
    "            return\n",
    "            \n",
    "    def mobilisation_calc(self):\n",
    "        self.mobilisation = int(self.delta * self.unit_rate * self.mobilisation_perc)\n",
    "        \n",
    "    def maintenance_calc(self):\n",
    "        self.maintenance = int(self.original_value * self.maintenance_perc)\n",
    "        \n",
    "    def insurance_calc(self):\n",
    "        self.insurance = int(self.original_value * self.insurance_perc)\n",
    "        \n",
    "    def consumption_calc(self):\n",
    "        if self.unloader_type != 'Mobile crane':\n",
    "            self.consumption = int(0.3 * operational_hours * self.utilisation * self.quantity * self.peak_capacity)\n",
    "        if self.unloader_type == 'Mobile crane':\n",
    "            self.consumption = int(485 * operational_hours * self.utilisation * self.quantity)\n",
    "        \n",
    "    def shifts_calc(self):\n",
    "        self.shifts = int(np.ceil(self.quantity * operational_hours * self.crew / labour.shift_length))\n",
    "        \n",
    "    def quantity_calc(self, quantity, crane_type):\n",
    "        if crane_type == 'Gantry crane':\n",
    "            for i in range (quantity):\n",
    "                cranes[0][i].quantity = quantity\n",
    "        elif crane_type == 'Harbour crane':\n",
    "            for i in range (quantity):\n",
    "                cranes[1][i].quantity = quantity\n",
    "        elif crane_type == 'Mobile crane':\n",
    "            for i in range (quantity):\n",
    "                cranes[2][i].quantity = quantity"
   ]
  },
  {
   "cell_type": "code",
   "execution_count": 5,
   "metadata": {},
   "outputs": [
    {
     "ename": "NameError",
     "evalue": "name 'cyclic_unloader' is not defined",
     "output_type": "error",
     "traceback": [
      "\u001b[1;31m---------------------------------------------------------------------------\u001b[0m",
      "\u001b[1;31mNameError\u001b[0m                                 Traceback (most recent call last)",
      "\u001b[1;32m<ipython-input-5-4bc21738b40d>\u001b[0m in \u001b[0;36m<module>\u001b[1;34m()\u001b[0m\n\u001b[0;32m      5\u001b[0m \u001b[1;33m\u001b[0m\u001b[0m\n\u001b[0;32m      6\u001b[0m \u001b[1;32mfor\u001b[0m \u001b[0mi\u001b[0m \u001b[1;32min\u001b[0m \u001b[0mrange\u001b[0m \u001b[1;33m(\u001b[0m\u001b[1;36m10\u001b[0m\u001b[1;33m)\u001b[0m\u001b[1;33m:\u001b[0m\u001b[1;33m\u001b[0m\u001b[0m\n\u001b[1;32m----> 7\u001b[1;33m     \u001b[0mgantry_cranes\u001b[0m\u001b[1;33m.\u001b[0m\u001b[0mappend\u001b[0m\u001b[1;33m(\u001b[0m\u001b[0mcyclic_unloader\u001b[0m\u001b[1;33m(\u001b[0m\u001b[1;33m**\u001b[0m\u001b[0mgantry_data\u001b[0m\u001b[1;33m)\u001b[0m\u001b[1;33m)\u001b[0m\u001b[1;33m\u001b[0m\u001b[0m\n\u001b[0m\u001b[0;32m      8\u001b[0m     \u001b[0mgantry_cranes\u001b[0m\u001b[1;33m[\u001b[0m\u001b[0mi\u001b[0m\u001b[1;33m]\u001b[0m\u001b[1;33m.\u001b[0m\u001b[0mindex\u001b[0m \u001b[1;33m=\u001b[0m \u001b[0mi\u001b[0m\u001b[1;33m\u001b[0m\u001b[0m\n\u001b[0;32m      9\u001b[0m \u001b[1;33m\u001b[0m\u001b[0m\n",
      "\u001b[1;31mNameError\u001b[0m: name 'cyclic_unloader' is not defined"
     ]
    }
   ],
   "source": [
    "# create crane objects\n",
    "gantry_cranes  = []\n",
    "harbour_cranes = []\n",
    "mobile_cranes  = []\n",
    "\n",
    "for i in range (10):\n",
    "    gantry_cranes.append(cyclic_unloader(**gantry_crane_data))\n",
    "    gantry_cranes[i].index = i\n",
    "\n",
    "    harbour_cranes.append(cyclic_unloader(**harbour_crane_data))\n",
    "    harbour_cranes[i].index = i\n",
    "    \n",
    "    mobile_cranes.append(cyclic_unloader(**mobile_crane_data))\n",
    "    mobile_cranes[i].index = i    "
   ]
  },
  {
   "cell_type": "markdown",
   "metadata": {},
   "source": [
    "## Cranes (continuous)"
   ]
  },
  {
   "cell_type": "code",
   "execution_count": 15,
   "metadata": {},
   "outputs": [],
   "source": [
    "# create continuous unloader class **will ultimately be placed in package**\n",
    "class continuous_properties_mixin(object):\n",
    "    def __init__(self, ownership, delivery_time, lifespan, unit_rate, mobilisation_perc, maintenance_perc, insurance_perc, crew, unloader_type, peak_capacity, eff_fact, utilisation, *args, **kwargs):\n",
    "        super().__init__(*args, **kwargs)\n",
    "        \"initialize\"\n",
    "        self.ownership            = ownership\n",
    "        self.delivery_time        = delivery_time\n",
    "        self.lifespan             = lifespan\n",
    "        self.unit_rate            = unit_rate\n",
    "        self.mobilisation_perc    = mobilisation_perc\n",
    "        self.mobilisation         = int(mobilisation_perc * unit_rate)\n",
    "        self.maintenance_perc     = maintenance_perc\n",
    "        self.insurance_perc       = insurance_perc\n",
    "        self.crew                 = crew\n",
    "        self.unloader_type        = unloader_type\n",
    "        self.peak_capacity        = peak_capacity\n",
    "        self.eff_fact             = eff_fact\n",
    "        self.effective_capacity   = eff_fact * peak_capacity\n",
    "        self.utilisation          = utilisation\n",
    "\n",
    "# Initial data set, data from Excel_input.xlsx\n",
    "continuous_screw_data = {\"ownership\": 'Terminal operator', \"delivery_time\": 1, \"lifespan\": 30, \"unit_rate\": 6900000, \"mobilisation_perc\": 0.15, \n",
    "                         \"maintenance_perc\": 0.02, \"insurance_perc\": 0.01, \"crew\": 2,\"unloader_type\": 'Screw unloader', \n",
    "                         \"peak_capacity\": 700, \"eff_fact\": 0.55, \"utilisation\": 0.80}"
   ]
  },
  {
   "cell_type": "code",
   "execution_count": 16,
   "metadata": {},
   "outputs": [],
   "source": [
    "# define continuous unloader class functions **will ultimately be placed in package**\n",
    "class continuous_unloader(continuous_properties_mixin):\n",
    "    \n",
    "    def __init__(self, *args, **kwargs):\n",
    "        super().__init__(*args, **kwargs)\n",
    "        \n",
    "    def total_capacity_calc(self):\n",
    "        self.total_peak_capacity = int(self.quantity * self.peak_capacity)\n",
    "        self.total_eff_capacity  = int(self.total_peak_capacity * self.eff_fact)\n",
    "    \n",
    "    def original_value_calc(self):\n",
    "        self.original_value = int(self.quantity * self.unit_rate) \n",
    "        \n",
    "    def mobilisation_calc(self):\n",
    "        self.mobilisation = int(self.delta * self.unit_rate * self.mobilisation_perc)\n",
    "        \n",
    "    def maintenance_calc(self):\n",
    "        self.maintenance = int(self.original_value * self.maintenance_perc)\n",
    "        \n",
    "    def insurance_calc(self):\n",
    "        self.insurance = int(self.original_value * self.insurance_perc)\n",
    "        \n",
    "    def consumption_calc(self):\n",
    "        self.consumption = int(0.52 * operational_hours * self.utilisation * self.quantity * self.peak_capacity)\n",
    "        \n",
    "    def shifts_calc(self):\n",
    "        self.shifts = int(np.ceil(self.quantity * operational_hours * self.crew / labour.shift_length))\n",
    "        \n",
    "    def quantity_calc(self, quantity, crane_type):\n",
    "        if crane_type == 'Screw unloader':\n",
    "            for i in range (quantity):\n",
    "                cranes[3][i].quantity = quantity"
   ]
  },
  {
   "cell_type": "code",
   "execution_count": 7,
   "metadata": {},
   "outputs": [
    {
     "ename": "NameError",
     "evalue": "name 'continuous_unloader' is not defined",
     "output_type": "error",
     "traceback": [
      "\u001b[1;31m---------------------------------------------------------------------------\u001b[0m",
      "\u001b[1;31mNameError\u001b[0m                                 Traceback (most recent call last)",
      "\u001b[1;32m<ipython-input-7-4d5bf3664082>\u001b[0m in \u001b[0;36m<module>\u001b[1;34m()\u001b[0m\n\u001b[0;32m      3\u001b[0m \u001b[1;33m\u001b[0m\u001b[0m\n\u001b[0;32m      4\u001b[0m \u001b[1;32mfor\u001b[0m \u001b[0mi\u001b[0m \u001b[1;32min\u001b[0m \u001b[0mrange\u001b[0m \u001b[1;33m(\u001b[0m\u001b[1;36m10\u001b[0m\u001b[1;33m)\u001b[0m\u001b[1;33m:\u001b[0m\u001b[1;33m\u001b[0m\u001b[0m\n\u001b[1;32m----> 5\u001b[1;33m     \u001b[0mscrew_unloaders\u001b[0m\u001b[1;33m.\u001b[0m\u001b[0mappend\u001b[0m\u001b[1;33m(\u001b[0m\u001b[0mcontinuous_unloader\u001b[0m\u001b[1;33m(\u001b[0m\u001b[1;33m**\u001b[0m\u001b[0mcontinuous_screw_data\u001b[0m\u001b[1;33m)\u001b[0m\u001b[1;33m)\u001b[0m\u001b[1;33m\u001b[0m\u001b[0m\n\u001b[0m\u001b[0;32m      6\u001b[0m     \u001b[0mscrew_unloaders\u001b[0m\u001b[1;33m[\u001b[0m\u001b[0mi\u001b[0m\u001b[1;33m]\u001b[0m\u001b[1;33m.\u001b[0m\u001b[0mindex\u001b[0m \u001b[1;33m=\u001b[0m \u001b[0mi\u001b[0m\u001b[1;33m\u001b[0m\u001b[0m\n",
      "\u001b[1;31mNameError\u001b[0m: name 'continuous_unloader' is not defined"
     ]
    }
   ],
   "source": [
    "# create screw unloader objects \n",
    "screw_unloaders  = []\n",
    "\n",
    "for i in range (10):\n",
    "    screw_unloaders.append(continuous_unloader(**continuous_screw_data))\n",
    "    screw_unloaders[i].index = i\n",
    "    \n",
    "cranes = [gantry_cranes, harbour_cranes, mobile_cranes, screw_unloaders]"
   ]
  },
  {
   "cell_type": "markdown",
   "metadata": {},
   "source": [
    "## Conveyors"
   ]
  },
  {
   "cell_type": "code",
   "execution_count": 18,
   "metadata": {},
   "outputs": [],
   "source": [
    "# create conveyor class **will ultimately be placed in package**\n",
    "class conveyor_properties_mixin(object):\n",
    "    def __init__(self, ownership, delivery_time, lifespan, mobilisation, maintenance_perc, insurance_perc, crew, utilisation, *args, **kwargs):\n",
    "        super().__init__(*args, **kwargs)\n",
    "        \"initialize\"\n",
    "        self.ownership            = ownership\n",
    "        self.delivery_time        = delivery_time\n",
    "        self.lifespan             = lifespan\n",
    "        self.mobilisation         = mobilisation\n",
    "        self.maintenance_perc     = maintenance_perc\n",
    "        self.insurance_perc       = insurance_perc\n",
    "        self.crew                 = crew\n",
    "        self.utilisation          = utilisation\n",
    "\n",
    "# Initial data set, data from Excel_input.xlsx\n",
    "conveyor_data = {\"ownership\": 'Terminal operator', \"delivery_time\": 1, \"lifespan\": 10, \"mobilisation\": 30000, \n",
    "                 \"maintenance_perc\": 0.10, \"insurance_perc\": 0.01, \"crew\": 0.5, \"utilisation\": 0.80}"
   ]
  },
  {
   "cell_type": "code",
   "execution_count": 19,
   "metadata": {},
   "outputs": [],
   "source": [
    "# define conveyor class functions **will ultimately be placed in package**\n",
    "class conveyor(conveyor_properties_mixin):\n",
    "    def __init__(self, *args, **kwargs):\n",
    "        super().__init__(*args, **kwargs)\n",
    "    \n",
    "    def unit_rate_calc(self):\n",
    "        self.unit_rate = int(6.0 * self.length)\n",
    "    \n",
    "    def original_value_calc(self):\n",
    "        self.original_value = int(self.capacity * self.unit_rate) \n",
    "        \n",
    "    def maintenance_calc(self):\n",
    "        self.maintenance = int(self.original_value * self.maintenance_perc)\n",
    "        \n",
    "    def insurance_calc(self):\n",
    "        self.insurance = int(self.original_value * self.insurance_perc)\n",
    "        \n",
    "    def consumption_calc(self):\n",
    "        self.consumption = int(0.08 * operational_hours * self.utilisation * self.capacity)\n",
    "        \n",
    "    def shifts_calc(self):\n",
    "        self.shifts = int(np.ceil(operational_hours * self.crew / labour.shift_length))\n",
    "        \n",
    "    def quantity_calc(self, quantity, conveyor_group):\n",
    "        if conveyor_group == 'Quay':\n",
    "            for i in range (quantity):\n",
    "                q_conveyors[i].quantity = quantity\n",
    "        else:\n",
    "            for i in range (quantity):\n",
    "                h_conveyors[i].quantity = quantity\n",
    "    \n",
    "    def overall_capacity_calc(self, capacity, quantity, conveyor_group):\n",
    "        if conveyor_group == 'Quay':\n",
    "            for i in range (quantity):\n",
    "                q_conveyors[i].overall_capacity = capacity\n",
    "        else:\n",
    "            for i in range (quantity):\n",
    "                h_conveyors[i].overall_capacity = capacity"
   ]
  },
  {
   "cell_type": "code",
   "execution_count": 20,
   "metadata": {},
   "outputs": [],
   "source": [
    "# create loading station objects\n",
    "q_conveyors = []\n",
    "h_conveyors = []\n",
    "\n",
    "for i in range (5):\n",
    "    q_conveyors.append(conveyor(**conveyor_data))\n",
    "    q_conveyors[i].index = i\n",
    "    \n",
    "    h_conveyors.append(conveyor(**conveyor_data))\n",
    "    h_conveyors[i].index = i"
   ]
  },
  {
   "cell_type": "markdown",
   "metadata": {},
   "source": [
    "## Storage"
   ]
  },
  {
   "cell_type": "code",
   "execution_count": 21,
   "metadata": {},
   "outputs": [],
   "source": [
    "# create storage class **will ultimately be placed in package**\n",
    "class storage_properties_mixin(object):\n",
    "    def __init__(self, ownership, delivery_time, lifespan, unit_rate, mobilisation_min, mobilisation_perc, maintenance_perc, insurance_perc, storage_type, utilisation, *args, **kwargs):\n",
    "        super().__init__(*args, **kwargs)\n",
    "        \"initialize\"\n",
    "        self.ownership            = ownership\n",
    "        self.delivery_time        = delivery_time\n",
    "        self.lifespan             = lifespan\n",
    "        self.unit_rate            = unit_rate\n",
    "        self.mobilisation_min     = mobilisation_min\n",
    "        self.mobilisation_perc    = mobilisation_perc\n",
    "        self.maintenance_perc     = maintenance_perc\n",
    "        self.insurance_perc       = insurance_perc\n",
    "        self.storage_type         = storage_type\n",
    "        self.utilisation          = utilisation\n",
    "        \n",
    "# Initial data set, data from Excel_input.xlsx\n",
    "silo_data      = {\"ownership\": 'Terminal operator', \"delivery_time\": 1, \"lifespan\": 30, \"unit_rate\": 60, \n",
    "                  \"mobilisation_min\": 200000, \"mobilisation_perc\": 0.02, \"maintenance_perc\": 0.02, \n",
    "                  \"insurance_perc\": 0.01, \"storage_type\": 'Silos', \"utilisation\": 0.80}\n",
    "warehouse_data = {\"ownership\": 'Terminal operator', \"delivery_time\": 1, \"lifespan\": 30, \"unit_rate\": 140,\n",
    "                  \"mobilisation_min\": 200000, \"mobilisation_perc\": 0.02, \"maintenance_perc\": 0.01, \n",
    "                  \"insurance_perc\": 0.01, \"storage_type\": 'Warehouse', \"utilisation\": 0.80}"
   ]
  },
  {
   "cell_type": "code",
   "execution_count": 22,
   "metadata": {},
   "outputs": [],
   "source": [
    "# define storage class functions **will ultimately be placed in package**\n",
    "class storage(storage_properties_mixin):\n",
    "    def __init__(self, *args, **kwargs):\n",
    "        super().__init__(*args, **kwargs)  \n",
    "    \n",
    "    def original_value_calc(self):\n",
    "        self.original_value = int(self.capacity * self.unit_rate) \n",
    "    \n",
    "    def mobilisation_calc(self):\n",
    "        self.mobilisation = int(max((self.delta * self.unit_rate * self.mobilisation_perc), self.mobilisation_min))\n",
    "        \n",
    "    def maintenance_calc(self):\n",
    "        self.maintenance = int(self.original_value * self.maintenance_perc)\n",
    "        \n",
    "    def insurance_calc(self):\n",
    "        self.insurance = int(self.original_value * self.insurance_perc)\n",
    "        \n",
    "    def consumption_calc(self):\n",
    "        if self.storage_type == 'Silos':\n",
    "            self.consumption = int(0.003 * self.capacity * operational_hours)\n",
    "        if self.storage_type == 'Warehouse':\n",
    "            self.consumption = int(0.001 * self.capacity * operational_hours)\n",
    "        \n",
    "    def shifts_calc(self):\n",
    "        if self.storage_type == 'Silos':\n",
    "            self.crew = 0.00002 * self.capacity  # 2 people per 100.000t of storage\n",
    "        if self.storage_type == 'Warehouse':\n",
    "            self.crew = 0.00004 * self.capacity  # 4 people per 100.000t of storage\n",
    "        self.shifts = int(np.ceil(operational_hours * self.crew / labour.shift_length))\n",
    "        \n",
    "    def quantity_calc(self, quantity, storage_type):\n",
    "        if storage_type == 'Silos':\n",
    "            for i in range (quantity):\n",
    "                storage[0][i].quantity = quantity\n",
    "        else:\n",
    "            for i in range (quantity):\n",
    "                storage[1][i].quantity = quantity\n",
    "    \n",
    "    def overall_capacity_calc(self, capacity, quantity, storage_type):\n",
    "        if storage_type == 'Silos':\n",
    "            for i in range (quantity):\n",
    "                storage[0][i].overall_capacity = capacity\n",
    "        else:\n",
    "            for i in range (quantity):\n",
    "                storage[1][i].overall_capacity = capacity"
   ]
  },
  {
   "cell_type": "code",
   "execution_count": 23,
   "metadata": {},
   "outputs": [],
   "source": [
    "# create storage objects\n",
    "silos = []\n",
    "warehouses = []\n",
    "\n",
    "for i in range (5):\n",
    "    silos.append(storage(**silo_data))\n",
    "    warehouses.append(storage(**warehouse_data))\n",
    "    silos[i].index = i\n",
    "    warehouses[i].index = i\n",
    "    \n",
    "storage = [silos, warehouses]"
   ]
  },
  {
   "cell_type": "markdown",
   "metadata": {},
   "source": [
    "## Loading Station"
   ]
  },
  {
   "cell_type": "code",
   "execution_count": 24,
   "metadata": {},
   "outputs": [],
   "source": [
    "# create loading station class **will ultimately be placed in package**\n",
    "class hinterland_station_properties_mixin(object):\n",
    "    def __init__(self, ownership, delivery_time, lifespan, unit_rate, mobilisation, maintenance_perc, insurance_perc, crew, utilisation, *args, **kwargs):\n",
    "        super().__init__(*args, **kwargs)\n",
    "        \"initialize\"\n",
    "        self.ownership            = ownership\n",
    "        self.delivery_time        = delivery_time\n",
    "        self.lifespan             = lifespan\n",
    "        self.unit_rate            = unit_rate\n",
    "        self.mobilisation         = mobilisation\n",
    "        self.maintenance_perc     = maintenance_perc\n",
    "        self.insurance_perc       = insurance_perc\n",
    "        self.crew                 = crew\n",
    "        self.utilisation          = utilisation\n",
    "        \n",
    "# Initial data set, data from Excel_input.xlsx\n",
    "hinterland_station_data = {\"ownership\": 'Terminal operator', \"delivery_time\": 1, \"lifespan\": 15, \"unit_rate\": 4000, \"mobilisation\": 100000, \n",
    "                           \"maintenance_perc\": 0.02, \"insurance_perc\": 0.01, \"crew\": 2, \"utilisation\": 0.80}"
   ]
  },
  {
   "cell_type": "code",
   "execution_count": 25,
   "metadata": {},
   "outputs": [],
   "source": [
    "# define loading station class functions **will ultimately be placed in package**\n",
    "class hinterland_station(hinterland_station_properties_mixin):\n",
    "    def __init__(self, *args, **kwargs):\n",
    "        super().__init__(*args, **kwargs)\n",
    "        \n",
    "    def capacity_calc(self):\n",
    "        self.capacity = 0    \n",
    "    \n",
    "    def original_value_calc(self):\n",
    "        self.original_value = int(self.capacity * self.unit_rate) \n",
    "        \n",
    "    def maintenance_calc(self):\n",
    "        self.maintenance = int(self.original_value * self.maintenance_perc)\n",
    "        \n",
    "    def insurance_calc(self):\n",
    "        self.insurance = int(self.original_value * self.insurance_perc)\n",
    "        \n",
    "    def consumption_calc(self):\n",
    "        self.consumption = int(0.75 * operational_hours * self.utilisation * self.capacity)\n",
    "        \n",
    "    def shifts_calc(self):\n",
    "        self.shifts = int(np.ceil(operational_hours * self.crew / labour.shift_length))\n",
    "    \n",
    "    def capacity_calc(self, capacity):\n",
    "        self.capacity = capacity\n",
    "        \n",
    "    @classmethod\n",
    "    def overall_capacity_calc(cls, capacity):\n",
    "        cls.overall_capacity = capacity\n",
    "        \n",
    "    @classmethod\n",
    "    def quantity_calc(cls, quantity):\n",
    "        cls.quantity = quantity"
   ]
  },
  {
   "cell_type": "code",
   "execution_count": 26,
   "metadata": {},
   "outputs": [],
   "source": [
    "# create loading station objects\n",
    "stations = []\n",
    "for i in range (5):\n",
    "    stations.append(hinterland_station(**hinterland_station_data))\n",
    "    stations[i].index = i"
   ]
  },
  {
   "cell_type": "markdown",
   "metadata": {},
   "source": [
    "# Business Logic"
   ]
  },
  {
   "cell_type": "markdown",
   "metadata": {},
   "source": [
    "## Revenue calc"
   ]
  },
  {
   "cell_type": "code",
   "execution_count": 27,
   "metadata": {},
   "outputs": [],
   "source": [
    "# create revenue class **will ultimately be placed in package**\n",
    "class revenue_properties_mixin(object):\n",
    "    def __init__(self, *args, **kwargs):\n",
    "        super().__init__(*args, **kwargs)\n",
    "        pass"
   ]
  },
  {
   "cell_type": "code",
   "execution_count": 28,
   "metadata": {},
   "outputs": [],
   "source": [
    "# define revenue class functions **will ultimately be placed in package**\n",
    "class revenue_class(revenue_properties_mixin):\n",
    "    def __init__(self, *args, **kwargs):\n",
    "        super().__init__(*args, **kwargs)\n",
    "    \n",
    "    def calc(self):\n",
    "        self.maize   = int(maize.throughput   * maize.handling_fee)\n",
    "        self.soybean = int(soybean.throughput * soybean.handling_fee)\n",
    "        self.wheat   = int(wheat.throughput   * wheat.handling_fee)\n",
    "        self.total   = int(self.maize + self.soybean + self.wheat)"
   ]
  },
  {
   "cell_type": "code",
   "execution_count": 29,
   "metadata": {},
   "outputs": [],
   "source": [
    "# create objects **will ultimately be placed in notebook**\n",
    "revenue = revenue_class()"
   ]
  },
  {
   "cell_type": "markdown",
   "metadata": {},
   "source": [
    "## Capex calc"
   ]
  },
  {
   "cell_type": "code",
   "execution_count": 30,
   "metadata": {},
   "outputs": [],
   "source": [
    "# create capex class **will ultimately be placed in package**\n",
    "class capex_properties_mixin(object):\n",
    "    def __init__(self, *args, **kwargs):\n",
    "        super().__init__(*args, **kwargs)"
   ]
  },
  {
   "cell_type": "code",
   "execution_count": 31,
   "metadata": {},
   "outputs": [],
   "source": [
    "# define capex class functions **will ultimately be placed in package**\n",
    "class capex_class(capex_properties_mixin):\n",
    "    def __init__(self, *args, **kwargs):\n",
    "        super().__init__(*args, **kwargs)    \n",
    "        \n",
    "    def individual_calc(self, asset):\n",
    "        if asset.delta != 0:\n",
    "            if \"unit_rate_calc\" in dir(asset) != False:\n",
    "                asset.unit_rate_calc()\n",
    "            if \"mobilisation_calc\" in dir(asset) != False:\n",
    "                asset.mobilisation_calc()\n",
    "            return int(asset.delta * asset.unit_rate + asset.mobilisation)\n",
    "        if asset.delta == 0: \n",
    "            return 0\n",
    "            \n",
    "    def calc(self):\n",
    "        self.quay                = self.individual_calc(quay)\n",
    "        self.gantry_cranes       = self.individual_calc(gantry_cranes)\n",
    "        self.harbour_cranes      = self.individual_calc(harbour_cranes)\n",
    "        self.mobile_cranes       = self.individual_calc(mobile_cranes)\n",
    "        self.screw_unloaders     = self.individual_calc(screw_unloaders)\n",
    "        self.conveyor_quay       = self.individual_calc(conveyor_quay)\n",
    "        self.conveyor_hinterland = self.individual_calc(conveyor_hinterland)\n",
    "        self.silos               = self.individual_calc(silos)\n",
    "        self.warehouse           = self.individual_calc(warehouse)\n",
    "        self.loading_station     = self.individual_calc(loading_station)\n",
    "        \n",
    "        self.total = int(self.quay + self.gantry_cranes + self.harbour_cranes + self.mobile_cranes + self.screw_unloaders +\\\n",
    "                     self.conveyor_quay + self.conveyor_hinterland + self.silos + self.warehouse + self.loading_station)"
   ]
  },
  {
   "cell_type": "code",
   "execution_count": 32,
   "metadata": {},
   "outputs": [],
   "source": [
    "# create objects **will ultimately be placed in notebook**\n",
    "capex = capex_class()"
   ]
  },
  {
   "cell_type": "markdown",
   "metadata": {},
   "source": [
    "## Labour calc"
   ]
  },
  {
   "cell_type": "code",
   "execution_count": 33,
   "metadata": {},
   "outputs": [],
   "source": [
    "# create labour class **will ultimately be placed in package**\n",
    "class labour_properties_mixin(object):\n",
    "    def __init__(self, international_salary, international_staff, local_salary, local_staff, operational_salary, \n",
    "                 shift_length, annual_shifts, *args, **kwargs):\n",
    "        super().__init__(*args, **kwargs)\n",
    "        self.international_salary = international_salary\n",
    "        self.international_staff = international_staff\n",
    "        self.local_salary = local_salary\n",
    "        self.local_staff = local_staff\n",
    "        self.operational_salary = operational_salary\n",
    "        self.shift_length = shift_length\n",
    "        self.annual_shifts = annual_shifts\n",
    "\n",
    "labour_data =  {\"international_salary\": 105000, \"international_staff\": 4, \"local_salary\": 18850, \"local_staff\": 10, \n",
    "                \"operational_salary\": 16750, \"shift_length\": 6.5, \"annual_shifts\": 200}"
   ]
  },
  {
   "cell_type": "code",
   "execution_count": 34,
   "metadata": {},
   "outputs": [],
   "source": [
    "# define labour class functions **will ultimately be placed in package**\n",
    "class labour_class(labour_properties_mixin):\n",
    "    def __init__(self, *args, **kwargs):\n",
    "        super().__init__(*args, **kwargs)\n",
    "    \n",
    "    def individual_calc(self, asset):\n",
    "        if \"shifts_calc\" in dir(asset) != False:\n",
    "            asset.shifts_calc()\n",
    "            return int(np.ceil(asset.shifts / self.annual_shifts))\n",
    "        else:\n",
    "            return 0\n",
    "            \n",
    "    def calc(self):\n",
    "        self.staff_quay                = self.individual_calc(quay)\n",
    "        self.staff_gantry_cranes       = self.individual_calc(gantry_cranes)\n",
    "        self.staff_harbour_cranes      = self.individual_calc(harbour_cranes)\n",
    "        self.staff_mobile_cranes       = self.individual_calc(mobile_cranes)\n",
    "        self.staff_screw_unloaders     = self.individual_calc(screw_unloaders)\n",
    "        self.staff_conveyor_quay       = self.individual_calc(conveyor_quay)\n",
    "        self.staff_conveyor_hinterland = self.individual_calc(conveyor_hinterland)\n",
    "        self.staff_silos               = self.individual_calc(silos)\n",
    "        self.staff_warehouse           = self.individual_calc(warehouse)\n",
    "        self.staff_loading_station     = self.individual_calc(loading_station)\n",
    "        \n",
    "        self.operational_staff = int(self.staff_quay + self.staff_gantry_cranes + self.staff_harbour_cranes + \n",
    "                                     self.staff_mobile_cranes + self.staff_screw_unloaders + self.staff_conveyor_quay +\\\n",
    "                                     self.staff_conveyor_hinterland + self.staff_silos + self.staff_warehouse +\\\n",
    "                                     self.staff_loading_station)\n",
    "        \n",
    "        self.total = self.international_salary * self.international_staff + self.local_salary * self.local_staff +\\\n",
    "                     self.operational_salary   * self.operational_staff"
   ]
  },
  {
   "cell_type": "code",
   "execution_count": 35,
   "metadata": {},
   "outputs": [],
   "source": [
    "# create objects **will ultimately be placed in notebook**\n",
    "labour = labour_class(**labour_data)"
   ]
  },
  {
   "cell_type": "markdown",
   "metadata": {},
   "source": [
    "## Maintenance calc"
   ]
  },
  {
   "cell_type": "code",
   "execution_count": 36,
   "metadata": {},
   "outputs": [],
   "source": [
    "# create maintenance class **will ultimately be placed in package**\n",
    "class maintenance_properties_mixin(object):\n",
    "    def __init__(self, *args, **kwargs):\n",
    "        super().__init__(*args, **kwargs)"
   ]
  },
  {
   "cell_type": "code",
   "execution_count": 37,
   "metadata": {},
   "outputs": [],
   "source": [
    "# define maintenance class functions **will ultimately be placed in package**\n",
    "class maintenance_class(maintenance_properties_mixin):\n",
    "    def __init__(self, *args, **kwargs):\n",
    "        super().__init__(*args, **kwargs)\n",
    "    \n",
    "    def individual_calc(self, asset):\n",
    "        if \"unit_rate_calc\" in dir(asset) != False:\n",
    "            asset.unit_rate_calc()\n",
    "        if \"original_value_calc\" in dir(asset) != False:\n",
    "            asset.original_value_calc()\n",
    "        if \"maintenance_calc\" in dir(asset) != False:\n",
    "            asset.maintenance_calc()\n",
    "            return asset.maintenance\n",
    "        else:\n",
    "            return 0\n",
    "            \n",
    "    def calc(self):\n",
    "        self.quay                = self.individual_calc(quay)\n",
    "        self.gantry_cranes       = self.individual_calc(gantry_cranes)\n",
    "        self.harbour_cranes      = self.individual_calc(harbour_cranes)\n",
    "        self.mobile_cranes       = self.individual_calc(mobile_cranes)\n",
    "        self.screw_unloaders     = self.individual_calc(screw_unloaders)\n",
    "        self.conveyor_quay       = self.individual_calc(conveyor_quay)\n",
    "        self.conveyor_hinterland = self.individual_calc(conveyor_hinterland)\n",
    "        self.silos               = self.individual_calc(silos)\n",
    "        self.warehouse           = self.individual_calc(warehouse)\n",
    "        self.loading_station     = self.individual_calc(loading_station)\n",
    "        \n",
    "        self.total = int(self.quay + self.gantry_cranes + self.harbour_cranes + self.mobile_cranes + self.screw_unloaders +\\\n",
    "                     self.conveyor_quay + self.conveyor_hinterland + self.silos + self.warehouse + self.loading_station)"
   ]
  },
  {
   "cell_type": "code",
   "execution_count": 38,
   "metadata": {},
   "outputs": [],
   "source": [
    "# create objects **will ultimately be placed in notebook**\n",
    "maintenance = maintenance_class()"
   ]
  },
  {
   "cell_type": "markdown",
   "metadata": {},
   "source": [
    "## Energy consumption calc"
   ]
  },
  {
   "cell_type": "code",
   "execution_count": 39,
   "metadata": {},
   "outputs": [],
   "source": [
    "# create energy consumption class **will ultimately be placed in package**\n",
    "class energy_properties_mixin(object):\n",
    "    def __init__(self, price, *args, **kwargs):\n",
    "        super().__init__(*args, **kwargs)\n",
    "        self.price = price\n",
    "\n",
    "# Initial data\n",
    "energy_data = {\"price\": 0.10}"
   ]
  },
  {
   "cell_type": "code",
   "execution_count": 40,
   "metadata": {},
   "outputs": [],
   "source": [
    "# define energy consumption class functions **will ultimately be placed in package**\n",
    "class energy_class(energy_properties_mixin):\n",
    "    def __init__(self, *args, **kwargs):\n",
    "        super().__init__(*args, **kwargs)\n",
    "    \n",
    "    def individual_calc(self, asset):\n",
    "        if \"consumption_calc\" in dir(asset) != False:\n",
    "            asset.consumption_calc()\n",
    "            return asset.consumption\n",
    "        else:\n",
    "            return 0\n",
    "            \n",
    "    def calc(self):\n",
    "        self.quay                = self.individual_calc(quay)\n",
    "        self.gantry_cranes       = self.individual_calc(gantry_cranes)\n",
    "        self.harbour_cranes      = self.individual_calc(harbour_cranes)\n",
    "        self.mobile_cranes       = self.individual_calc(mobile_cranes)\n",
    "        self.screw_unloaders     = self.individual_calc(screw_unloaders)\n",
    "        self.conveyor_quay       = self.individual_calc(conveyor_quay)\n",
    "        self.conveyor_hinterland = self.individual_calc(conveyor_hinterland)\n",
    "        self.silos               = self.individual_calc(silos)\n",
    "        self.warehouse           = self.individual_calc(warehouse)\n",
    "        self.loading_station     = self.individual_calc(loading_station)\n",
    "        \n",
    "        self.consumption = int(self.quay + self.gantry_cranes + self.harbour_cranes + self.mobile_cranes + self.screw_unloaders +\\\n",
    "                               self.conveyor_quay + self.conveyor_hinterland + self.silos + self.warehouse + self.loading_station)\n",
    "        self.total = int(self.consumption * self.price)"
   ]
  },
  {
   "cell_type": "code",
   "execution_count": 41,
   "metadata": {},
   "outputs": [],
   "source": [
    "# create objects **will ultimately be placed in notebook**\n",
    "energy = energy_class(**energy_data)"
   ]
  },
  {
   "cell_type": "markdown",
   "metadata": {},
   "source": [
    "## Demurrage calc"
   ]
  },
  {
   "cell_type": "code",
   "execution_count": 42,
   "metadata": {},
   "outputs": [],
   "source": [
    "# create demurrage class **will ultimately be placed in package**\n",
    "class demurrage_properties_mixin(object):\n",
    "    def __init__(self, *args, **kwargs):\n",
    "        super().__init__(*args, **kwargs)"
   ]
  },
  {
   "cell_type": "code",
   "execution_count": 43,
   "metadata": {},
   "outputs": [],
   "source": [
    "# define demurrage class functions **will ultimately be placed in package**\n",
    "class demurrage_class(demurrage_properties_mixin):\n",
    "    def __init__(self, *args, **kwargs):\n",
    "        super().__init__(*args, **kwargs)\n",
    "    \n",
    "    def individual_calc(self, vessel_type):\n",
    "        vessel_type.berth_time_calc()\n",
    "        return int(max(vessel_type.port_time - vessel_type.all_turn_time, 0) * vessel_type.demurrage_rate)\n",
    "       \n",
    "    def calc(self):\n",
    "        self.handysize = self.individual_calc(handysize)\n",
    "        self.handymax  = self.individual_calc(handymax)\n",
    "        self.panamax   = self.individual_calc(panamax)"
   ]
  },
  {
   "cell_type": "code",
   "execution_count": 44,
   "metadata": {},
   "outputs": [],
   "source": [
    "# create objects **will ultimately be placed in notebook**\n",
    "demurrage = demurrage_class()"
   ]
  },
  {
   "cell_type": "code",
   "execution_count": 45,
   "metadata": {},
   "outputs": [],
   "source": [
    "# [Test] demurrage \n",
    "\n",
    "#demurrage.calc()\n",
    "#demurrage.__dict__"
   ]
  },
  {
   "cell_type": "markdown",
   "metadata": {},
   "source": [
    "## Residual value calc"
   ]
  },
  {
   "cell_type": "code",
   "execution_count": null,
   "metadata": {},
   "outputs": [],
   "source": []
  },
  {
   "cell_type": "markdown",
   "metadata": {},
   "source": [
    "## Lease calc"
   ]
  },
  {
   "cell_type": "code",
   "execution_count": null,
   "metadata": {},
   "outputs": [],
   "source": []
  },
  {
   "cell_type": "markdown",
   "metadata": {},
   "source": [
    "## WACC calc"
   ]
  },
  {
   "cell_type": "code",
   "execution_count": null,
   "metadata": {},
   "outputs": [],
   "source": []
  },
  {
   "cell_type": "markdown",
   "metadata": {},
   "source": [
    "## Escalation calc"
   ]
  },
  {
   "cell_type": "code",
   "execution_count": null,
   "metadata": {},
   "outputs": [],
   "source": []
  },
  {
   "cell_type": "markdown",
   "metadata": {},
   "source": [
    "## Profit calc"
   ]
  },
  {
   "cell_type": "code",
   "execution_count": null,
   "metadata": {},
   "outputs": [],
   "source": []
  },
  {
   "cell_type": "markdown",
   "metadata": {},
   "source": [
    "## NPV calc"
   ]
  },
  {
   "cell_type": "code",
   "execution_count": null,
   "metadata": {},
   "outputs": [],
   "source": []
  },
  {
   "cell_type": "markdown",
   "metadata": {},
   "source": [
    "# Apply triggers"
   ]
  }
 ],
 "metadata": {
  "kernelspec": {
   "display_name": "Python 3",
   "language": "python",
   "name": "python3"
  },
  "language_info": {
   "codemirror_mode": {
    "name": "ipython",
    "version": 3
   },
   "file_extension": ".py",
   "mimetype": "text/x-python",
   "name": "python",
   "nbconvert_exporter": "python",
   "pygments_lexer": "ipython3",
   "version": "3.6.5"
  }
 },
 "nbformat": 4,
 "nbformat_minor": 2
}
