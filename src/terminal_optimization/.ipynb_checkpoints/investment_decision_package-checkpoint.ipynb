{
 "cells": [
  {
   "cell_type": "code",
   "execution_count": null,
   "metadata": {},
   "outputs": [],
   "source": [
    "import numpy as np\n",
    "import pandas as pd"
   ]
  },
  {
   "cell_type": "markdown",
   "metadata": {},
   "source": [
    "# Import general port parameters\n",
    "This imports the 'General Port parameters' from the notebook so that they can be used for calculations within this package"
   ]
  },
  {
   "cell_type": "code",
   "execution_count": 4,
   "metadata": {},
   "outputs": [],
   "source": [
    "def import_notebook_parameters():\n",
    "    \n",
    "    global year\n",
    "    global start_year\n",
    "    global timestep\n",
    "    global operational_hours\n",
    "    \n",
    "    year              = parameters.year\n",
    "    start_year        = parameters.start_year\n",
    "    timestep          = parameters.timestep\n",
    "    operational_hours = parameters.operational_hours\n",
    "    \n",
    "    return"
   ]
  },
  {
   "cell_type": "markdown",
   "metadata": {},
   "source": [
    "# Investment triggers"
   ]
  },
  {
   "cell_type": "markdown",
   "metadata": {},
   "source": [
    "### Quay wall\n",
    "Quay length is calculated as the sum of the berth lengths"
   ]
  },
  {
   "cell_type": "code",
   "execution_count": 23,
   "metadata": {},
   "outputs": [],
   "source": [
    "def initial_quay_setup(quay, initial_quay_length):\n",
    "   \n",
    "    quay.length = initial_quay_length\n",
    "    \n",
    "    return quay"
   ]
  },
  {
   "cell_type": "code",
   "execution_count": null,
   "metadata": {},
   "outputs": [],
   "source": [
    "def blabla_initial_quay_setup(quay, initial_quay_length, berths):\n",
    "    \n",
    "    number_of_berths = berths[0].quantity\n",
    "    berth_lengths    = []\n",
    "    \n",
    "    for i in range (number_of_berths):\n",
    "        berth_lengths.append(berths[i].length)\n",
    "    \n",
    "    quay.length = np.sum(berth_lengths)\n",
    "    \n",
    "    return quay"
   ]
  },
  {
   "cell_type": "code",
   "execution_count": null,
   "metadata": {},
   "outputs": [],
   "source": [
    "def quay_expansion(quay, berths):\n",
    "    \n",
    "    original_quay_length = quay.length\n",
    "    \n",
    "    number_of_berths = berths[0].quantity\n",
    "    berth_lengths    = []\n",
    "    \n",
    "    for i in range (number_of_berths):\n",
    "        berth_lengths.append(berths[i].length)\n",
    "    \n",
    "    quay.length = np.sum(berth_lengths)\n",
    "    \n",
    "    new_quay_length = quay.length\n",
    "    quay_added = new_quay_length - original_quay_length\n",
    "    \n",
    "    return [quay, quay_added]"
   ]
  },
  {
   "cell_type": "markdown",
   "metadata": {},
   "source": [
    "### Berths\n",
    "The number of berths is initially set to one after which the berth occupancy is calculated. If the berth occupancy is higher than the allowable threshold, an extra berth is added"
   ]
  },
  {
   "cell_type": "code",
   "execution_count": null,
   "metadata": {},
   "outputs": [],
   "source": [
    "def initial_berth_setup(berths, initial_number_of_berths):\n",
    "    \n",
    "    berths[0].quantity_calc(initial_number_of_berths)\n",
    "    berths[0].remaining_calcs()\n",
    "    \n",
    "    return berths"
   ]
  },
  {
   "cell_type": "code",
   "execution_count": 13,
   "metadata": {},
   "outputs": [],
   "source": [
    "def berth_invest_decision(berths):\n",
    "    \n",
    "    global allowable_berth_occupancy\n",
    "    allowable_berth_occupancy = 0.04\n",
    "        \n",
    "    # Investment trigger \n",
    "    number_of_berths = berths[0].quantity\n",
    "    \n",
    "    if number_of_berths == 0:\n",
    "        return 'Invest in berths'\n",
    "    \n",
    "    occupancy = berths[0].occupancy_calc(number_of_berths)\n",
    "    if occupancy < allowable_berth_occupancy:\n",
    "        return 'Do not invest in berths'\n",
    "    else:\n",
    "        return 'Invest in berths'"
   ]
  },
  {
   "cell_type": "code",
   "execution_count": 18,
   "metadata": {},
   "outputs": [
    {
     "ename": "SyntaxError",
     "evalue": "invalid syntax (<ipython-input-18-4c4830c2b2b2>, line 13)",
     "output_type": "error",
     "traceback": [
      "\u001b[1;36m  File \u001b[1;32m\"<ipython-input-18-4c4830c2b2b2>\"\u001b[1;36m, line \u001b[1;32m13\u001b[0m\n\u001b[1;33m    for i in range (original_number_of_berths+1)\u001b[0m\n\u001b[1;37m                                                ^\u001b[0m\n\u001b[1;31mSyntaxError\u001b[0m\u001b[1;31m:\u001b[0m invalid syntax\n"
     ]
    }
   ],
   "source": [
    "def berth_expansion(berths):\n",
    "    \n",
    "    original_number_of_berths = berths[0].quantity\n",
    "    \n",
    "    for i in range (max(original_number_of_berths,1), len(berths)+1): # increase nr of berths untill occupancy is satisfactory        number_of_berths = i+1\n",
    "        occupancy = berths[0].occupancy_calc(i)\n",
    "        if occupancy < allowable_berth_occupancy:\n",
    "            berths[0].quantity_calc(i)\n",
    "            new_number_of_berths = i\n",
    "            break\n",
    "    \n",
    "    berths[0].remaining_calcs()                                        # assign length and depth to each berth\n",
    "    \n",
    "    berths_added = new_number_of_berths - original_number_of_berths    # register how many berths were added\n",
    "    \n",
    "    return [berths, berths_added]"
   ]
  }
 ],
 "metadata": {
  "kernelspec": {
   "display_name": "Python 3",
   "language": "python",
   "name": "python3"
  },
  "language_info": {
   "codemirror_mode": {
    "name": "ipython",
    "version": 3
   },
   "file_extension": ".py",
   "mimetype": "text/x-python",
   "name": "python",
   "nbconvert_exporter": "python",
   "pygments_lexer": "ipython3",
   "version": "3.6.5"
  }
 },
 "nbformat": 4,
 "nbformat_minor": 2
}
