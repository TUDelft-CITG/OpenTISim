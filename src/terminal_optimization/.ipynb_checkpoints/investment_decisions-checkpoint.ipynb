{
 "cells": [
  {
   "cell_type": "code",
   "execution_count": null,
   "metadata": {},
   "outputs": [],
   "source": [
    "import numpy as np\n",
    "import pandas as pd"
   ]
  },
  {
   "cell_type": "markdown",
   "metadata": {},
   "source": [
    "# Import general port parameters\n",
    "This imports the 'General Port parameters' from the notebook so that they can be used for calculations within this package"
   ]
  },
  {
   "cell_type": "code",
   "execution_count": 4,
   "metadata": {},
   "outputs": [],
   "source": [
    "def import_notebook_parameters():\n",
    "    \n",
    "    global year\n",
    "    global simulation_window\n",
    "    global start_year\n",
    "    global timestep\n",
    "    global operational_hours\n",
    "    \n",
    "    year              = parameters.year\n",
    "    simulation_window = parameters.simulation_window\n",
    "    start_year        = parameters.start_year\n",
    "    timestep          = parameters.timestep\n",
    "    operational_hours = parameters.operational_hours\n",
    "    \n",
    "    return"
   ]
  },
  {
   "cell_type": "markdown",
   "metadata": {},
   "source": [
    "# Investment triggers"
   ]
  },
  {
   "cell_type": "markdown",
   "metadata": {},
   "source": [
    "### Quay wall\n",
    "Quay length is calculated as the sum of the berth lengths"
   ]
  },
  {
   "cell_type": "code",
   "execution_count": null,
   "metadata": {},
   "outputs": [],
   "source": [
    "initial_quay_length = 0"
   ]
  },
  {
   "cell_type": "code",
   "execution_count": 5,
   "metadata": {},
   "outputs": [],
   "source": [
    "def initial_quay_setup(quays):\n",
    "   \n",
    "    quays[0].online_length_calc(initial_quay_length)\n",
    "    quays[0].pending_length_calc(0)\n",
    "    \n",
    "    if initial_quay_length != 0:\n",
    "        quays[0].quantity_calc(1)\n",
    "    else:\n",
    "        quays[0].quantity_calc(0)\n",
    "    \n",
    "    return quays"
   ]
  },
  {
   "cell_type": "code",
   "execution_count": null,
   "metadata": {},
   "outputs": [],
   "source": [
    "def quay_online_transition(quays):\n",
    "    \n",
    "    online  = quays[0].online_length\n",
    "    pending = quays[0].pending_length\n",
    "    \n",
    "    if quays[0].pending_length != 0:\n",
    "        index = quays[0].quantity\n",
    "        if quays[index].online_date == year:\n",
    "                quays[index].online_length_calc(quays[index].online_length + quays[index].pending_length)\n",
    "                quays[index].pending_length_calc(0)\n",
    "            \n",
    "    return quays"
   ]
  },
  {
   "cell_type": "code",
   "execution_count": null,
   "metadata": {},
   "outputs": [],
   "source": [
    "def quay_invest_decision(berths, quays):\n",
    "    if berths[0].pending_quantity != 0:\n",
    "        berth_index = (berths[0].online_quantity + berths[0].pending_quantity) - 1\n",
    "        if berths[berth_index].online_date == year + quays[0].delivery_time:\n",
    "            return 'Invest in quay'\n",
    "        else:\n",
    "            return 'Do not invest in quay'\n",
    "    else:\n",
    "        return 'Do not invest in quay'"
   ]
  },
  {
   "cell_type": "code",
   "execution_count": null,
   "metadata": {},
   "outputs": [],
   "source": [
    "def quay_expansion(quays, berths):\n",
    "    \n",
    "    number_of_berths = berths[0].pending_quantity\n",
    "    berth_lengths    = []\n",
    "    \n",
    "    for i in range (berths[0].online_quantity, berths[0].online_quantity + berths[0].pending_quantity):\n",
    "        berth_lengths.append(berths[i].length)\n",
    "    \n",
    "    quays[quays[0].quantity].purchase_date = year\n",
    "    quays[quays[0].quantity].online_date = year + quays[0].delivery_time\n",
    "    quays[0].pending_length_calc(np.sum(berth_lengths))\n",
    "    quays[0].quantity_calc(quays[0].quantity + 1)\n",
    "    \n",
    "    quays[0].delta = quays[0].pending_length\n",
    "    \n",
    "    return quays"
   ]
  },
  {
   "cell_type": "markdown",
   "metadata": {},
   "source": [
    "### Berths\n",
    "The number of berths is initially set to one after which the berth occupancy is calculated. If the berth occupancy is higher than the allowable threshold, an extra berth is added"
   ]
  },
  {
   "cell_type": "code",
   "execution_count": null,
   "metadata": {},
   "outputs": [],
   "source": [
    "initial_number_of_berths  = 0\n",
    "crane_type                = 'Mobile cranes'\n",
    "allowable_berth_occupancy = 0.40"
   ]
  },
  {
   "cell_type": "code",
   "execution_count": 12,
   "metadata": {},
   "outputs": [],
   "source": [
    "def initial_berth_setup(berths):\n",
    "    \n",
    "    berths[0].online_quantity_calc(initial_number_of_berths)\n",
    "    berths[0].pending_quantity_calc(0)\n",
    "    \n",
    "    for i in range (len(berths)):\n",
    "        berths[i].crane_type = crane_type\n",
    "    berths[0].remaining_calcs()\n",
    "        \n",
    "    return berths"
   ]
  },
  {
   "cell_type": "code",
   "execution_count": null,
   "metadata": {},
   "outputs": [],
   "source": [
    "def berth_online_transition(berths):\n",
    "    \n",
    "    online  = berths[0].online_quantity\n",
    "    pending = berths[0].pending_quantity\n",
    "    \n",
    "    for i in range (online, online + pending):\n",
    "        if berths[i].online_date == year:\n",
    "            berths[i].online_quantity_calc(online+1)\n",
    "            berths[i].pending_quantity_calc(pending-1)\n",
    "            \n",
    "    return berths"
   ]
  },
  {
   "cell_type": "code",
   "execution_count": 13,
   "metadata": {},
   "outputs": [],
   "source": [
    "def berth_invest_decision(berths):\n",
    "\n",
    "    number_of_berths = berths[0].online_quantity +  berths[0].pending_quantity\n",
    "    \n",
    "    if number_of_berths == 0:\n",
    "        return 'Invest in berths'\n",
    "    \n",
    "    occupancy = berths[0].occupancy_calc(number_of_berths)\n",
    "    if occupancy < allowable_berth_occupancy:\n",
    "        return 'Do not invest in berths'\n",
    "    else:\n",
    "        return 'Invest in berths'"
   ]
  },
  {
   "cell_type": "code",
   "execution_count": null,
   "metadata": {},
   "outputs": [],
   "source": [
    "def berth_expansion(berths):\n",
    "    \n",
    "    original_number_of_berths = berths[0].online_quantity +  berths[0].pending_quantity\n",
    "    \n",
    "    for i in range (original_number_of_berths, len(berths)): # increase nr of berths untill occupancy is satisfactory        number_of_berths = i+1\n",
    "        berths[i].remaining_calcs()\n",
    "        berths[i].purchase_date = year\n",
    "        berths[i].online_date = year + berths[i].delivery_time\n",
    "        occupancy = berths[i].occupancy_calc(i+1)\n",
    "        if occupancy < allowable_berth_occupancy:\n",
    "            berths[i].pending_quantity_calc(i+1)\n",
    "            new_number_of_berths = i+1\n",
    "            break\n",
    "    \n",
    "    berths_added = new_number_of_berths - original_number_of_berths    # register how many berths were added\n",
    "    \n",
    "    berths[0].delta = berths_added\n",
    "    \n",
    "    return berths"
   ]
  },
  {
   "cell_type": "markdown",
   "metadata": {},
   "source": [
    "### Crane investment decision\n",
    "In this setup, the number of cranes is solely goverened by the number of berths. The number of cranes per berth is equal to the number of cranes that can work simultaeously on the largest vessel that calls to port. E.g. two cranes per berth in years where handymax is the largest vessel and three cranes per berth in years where panamax is the largest vessel"
   ]
  },
  {
   "cell_type": "code",
   "execution_count": null,
   "metadata": {},
   "outputs": [],
   "source": [
    "initial_gantry_cranes   = 0\n",
    "initial_harbour_cranes  = 0\n",
    "initial_mobile_cranes   = 0\n",
    "initial_screw_unloaders = 0"
   ]
  },
  {
   "cell_type": "code",
   "execution_count": 6,
   "metadata": {},
   "outputs": [],
   "source": [
    "def initial_crane_setup(cranes):\n",
    "    \n",
    "    online = [initial_gantry_cranes, initial_harbour_cranes, initial_mobile_cranes, initial_screw_unloaders]\n",
    "    pending = [0,0,0,0]\n",
    "    \n",
    "    for i in range (4):\n",
    "        if online[i] != 0:\n",
    "            for j in range (len(cranes[i])):\n",
    "                cranes[i][j].online_quantity  = online[i]\n",
    "                cranes[i][j].pending_quantity = pending[i]\n",
    "        else:\n",
    "            for j in range (len(cranes[i])):\n",
    "                cranes[i][j].online_quantity  = 0\n",
    "                cranes[i][j].pending_quantity = 0\n",
    "    \n",
    "    return cranes"
   ]
  },
  {
   "cell_type": "code",
   "execution_count": null,
   "metadata": {},
   "outputs": [],
   "source": [
    "def crane_online_transition(cranes):\n",
    "    \n",
    "    online  = []\n",
    "    pending = []\n",
    "    \n",
    "    for i in range (4):\n",
    "        online.append(cranes[i][0].online_quantity)\n",
    "        pending.append(cranes[i][0].pending_quantity)\n",
    "    \n",
    "    for i in range (4):\n",
    "        coming_online = []\n",
    "        for j in range(online[i], online[i] + pending[i]):\n",
    "            if cranes[i][j].online_date == year:\n",
    "                coming_online.append(1)\n",
    "            cranes[i][0].online_quantity_calc(online[i] + np.sum(coming_online))\n",
    "            cranes[i][0].pending_quantity_calc(pending[i] - np.sum(coming_online))\n",
    "            \n",
    "    return cranes"
   ]
  },
  {
   "cell_type": "code",
   "execution_count": null,
   "metadata": {},
   "outputs": [],
   "source": [
    "def crane_invest_decision(cranes, berths):\n",
    "    if berths[0].pending_quantity != 0:\n",
    "        berth_index = (berths[0].online_quantity + berths[0].pending_quantity) - 1\n",
    "        if berths[berth_index].online_date == year + cranes[0][0].delivery_time + 1:\n",
    "            return 'Invest in cranes'\n",
    "        else:\n",
    "            return 'Do not invest in cranes'\n",
    "    else:\n",
    "        return 'Do not invest in cranes'"
   ]
  },
  {
   "cell_type": "code",
   "execution_count": 2,
   "metadata": {},
   "outputs": [],
   "source": [
    "def crane_expansion(cranes, berths):\n",
    "    \n",
    "    # Determine original number of cranes\n",
    "    online  = []\n",
    "    pending = []\n",
    "    \n",
    "    for i in range (4):\n",
    "        online.append(cranes[i][0].online_quantity)\n",
    "        pending.append(cranes[i][0].pending_quantity)\n",
    "    \n",
    "    # Required cranes at the berths that are due to come online \n",
    "    berth_index = (berths[0].online_quantity + berths[0].pending_quantity) - 1\n",
    "    gantry_cranes_added   = []\n",
    "    harbour_cranes_added  = []\n",
    "    mobile_cranes_added   = []\n",
    "    screw_unloaders_added = []\n",
    "    \n",
    "    if berths[berth_index].crane_type == 'Gantry cranes':\n",
    "        gantry_cranes_added.append(berths[berth_index].n_cranes)\n",
    "    if berths[berth_index].crane_type == 'Harbour cranes':\n",
    "        harbour_cranes_added.append(berths[berth_index].n_cranes)\n",
    "    if berths[berth_index].crane_type == 'Mobile cranes':\n",
    "        mobile_cranes_added.append(berths[berth_index].n_cranes)            \n",
    "    if berths[berth_index].crane_type == 'Screw unloaders':\n",
    "        screw_unloaders_added.append(berths[berth_index].n_cranes)\n",
    "    \n",
    "    cranes_added = [int(np.sum(gantry_cranes_added)), int(np.sum(harbour_cranes_added)),\n",
    "                    int(np.sum(mobile_cranes_added)), int(np.sum(screw_unloaders_added))]\n",
    "    \n",
    "    # Assign purchase dates and dates on which assets come online\n",
    "    for i in range (4):\n",
    "        if cranes_added[i] != 0:\n",
    "            for j in range (online[i], online[i] + cranes_added[i]):\n",
    "                cranes[i][j].purchase_date = year\n",
    "                cranes[i][j].online_date = year + cranes[i][j].delivery_time\n",
    "            for k in range (online[i]+pending[i]+cranes_added[i]):\n",
    "                cranes[i][k].pending_quantity = pending[i]+cranes_added[i]\n",
    "        \n",
    "        cranes[i][0].delta = cranes_added[i]\n",
    "    \n",
    "    return cranes"
   ]
  },
  {
   "cell_type": "markdown",
   "metadata": {},
   "source": [
    "### Storage investment decision\n",
    "In this setup, the storage investment is triggered whenever the storage capacity equals 10% of yearly demand. Once triggered, the storage is expanded to accomodate 20% of yearly throughput"
   ]
  },
  {
   "cell_type": "code",
   "execution_count": null,
   "metadata": {},
   "outputs": [],
   "source": [
    "initial_silo_capacity       = 0\n",
    "initial_warehouse_capacity  = 0\n",
    "storage_type                = 'Warehouses'\n",
    "silo_size                   = 6000\n",
    "trigger_throughput_perc     = 10\n",
    "aspired_throughput_perc     = 20"
   ]
  },
  {
   "cell_type": "code",
   "execution_count": 1,
   "metadata": {},
   "outputs": [],
   "source": [
    "def initial_storage_setup(storage):\n",
    "    \n",
    "    online  = [initial_silo_capacity, initial_warehouse_capacity]\n",
    "    pending = [0,0]\n",
    "    \n",
    "    for i in range (2):\n",
    "        if online[i] != 0:\n",
    "            for j in range (len(storage[i])):\n",
    "                storage[i][j].online_capacity  = online[i]\n",
    "                storage[i][j].pending_quantity = pending[i]\n",
    "                storage[i][j].quantity         = 1\n",
    "        else:\n",
    "            for j in range (len(storage[i])):\n",
    "                storage[i][j].online_capacity  = 0\n",
    "                storage[i][j].pending_capacity = 0\n",
    "                storage[i][j].quantity         = 0\n",
    "    \n",
    "    return storage"
   ]
  },
  {
   "cell_type": "code",
   "execution_count": null,
   "metadata": {},
   "outputs": [],
   "source": [
    "def storage_online_transition(storage):\n",
    "    \n",
    "    online   = []\n",
    "    pending  = []\n",
    "    quantity = []\n",
    "    \n",
    "    for i in range (2):\n",
    "        online.append(storage[i][0].online_capacity)\n",
    "        pending.append(storage[i][0].pending_capacity)\n",
    "        quantity.append(storage[i][0].quantity)\n",
    "    \n",
    "    for i in range (2):\n",
    "        coming_online = []\n",
    "        \n",
    "        for j in range(quantity[i]):\n",
    "            if storage[i][j].online_date == year:\n",
    "                coming_online.append(storage[i][j].pending_capacity)\n",
    "                \n",
    "        capacity_coming_online = np.sum(coming_online)\n",
    "        \n",
    "        if capacity_coming_online != 0:\n",
    "            for j in range(quantity[i]):\n",
    "                storage[i][j].online_capacity  = online[i] + capacity_coming_online\n",
    "                storage[i][j].pending_capacity = 0\n",
    "            \n",
    "    return storage"
   ]
  },
  {
   "cell_type": "code",
   "execution_count": null,
   "metadata": {},
   "outputs": [],
   "source": [
    "def storage_invest_decision(storage):\n",
    "    \n",
    "    # Determine current capacity\n",
    "    online   = []\n",
    "    pending  = []\n",
    "    quantity = []\n",
    "    \n",
    "    for i in range (2):\n",
    "        online.append(storage[i][0].online_capacity)\n",
    "        pending.append(storage[i][0].pending_capacity)\n",
    "        quantity.append(storage[i][0].quantity)\n",
    "    \n",
    "    total_online_capacity  = np.sum(online[0]) + np.sum(online[1])\n",
    "    total_pending_capacity = np.sum(pending[0]) + np.sum(pending[1])\n",
    "    current_demand         = maize.demand[timestep] + soybean.demand[timestep] + wheat.demand[timestep]\n",
    "    \n",
    "    for i in range (2):\n",
    "        for j in range(max(quantity[i],1)):\n",
    "            storage[i][j].total_online_capacity = total_online_capacity\n",
    "            storage[i][j].total_pending_capacity = total_pending_capacity\n",
    "            storage[i][j].current_demand = current_demand\n",
    "            \n",
    "    # Decide whether current capacity requires further investment\n",
    "    if total_online_capacity + total_pending_capacity < current_demand * trigger_throughput_perc/100:\n",
    "        return ['Invest in storage', storage]\n",
    "    else:\n",
    "        return ['Do not invest in storage', storage]"
   ]
  },
  {
   "cell_type": "code",
   "execution_count": 7,
   "metadata": {},
   "outputs": [],
   "source": [
    "def storage_expansion(storage):\n",
    "    \n",
    "    # Calculate capacity shortcoming\n",
    "    current_capacity = storage[0][0].total_online_capacity + storage[0][0].total_online_capacity\n",
    "    shortcoming      = storage[0][0].current_demand * aspired_throughput_perc/100 - current_capacity\n",
    "    \n",
    "    # Silo expansion method\n",
    "    if storage_type == 'Silos':\n",
    "        \n",
    "        # Calculate requred capacity expansion\n",
    "        added_silo_cap   = int(np.ceil(shortcoming/silo_size)*silo_size)\n",
    "        added_warehouse_cap = 0\n",
    "        \n",
    "        # Assign purchase date and date on which asset comes online\n",
    "        index = storage[0][0].quantity\n",
    "        storage[0][index].purchase_date = year\n",
    "        storage[0][index].online_date   = year + storage[0][0].delivery_time\n",
    "        for i in range (len(storage[0])):\n",
    "            storage[0][i].quantity = storage[0][i].quantity + 1\n",
    "            storage[0][i].pending_capacity = added_silo_cap\n",
    "            \n",
    "    # Warehouse expansion method\n",
    "    else:\n",
    "        \n",
    "        # Calculate requred capacity expansion\n",
    "        added_silo_cap = 0\n",
    "        added_warehouse_cap = int(shortcoming)\n",
    "        \n",
    "        # Assign purchase date and date on which asset comes online\n",
    "        index = storage[0][0].quantity\n",
    "        storage[1][index].purchase_date = year\n",
    "        storage[1][index].online_date   = year + storage[1][0].delivery_time\n",
    "        for i in range (len(storage[1])):\n",
    "            storage[1][i].quantity = storage[1][i].quantity + 1\n",
    "            storage[1][i].pending_capacity = added_warehouse_cap\n",
    "            \n",
    "    storage[0][0].delta = added_silo_cap\n",
    "    storage[1][0].delta = added_warehouse_cap\n",
    "    \n",
    "    return storage"
   ]
  },
  {
   "cell_type": "markdown",
   "metadata": {},
   "source": [
    "### Loading station investment decision\n",
    "In this setup, it is assumed that the loading station has a utilisation rate of 60%. The loading station investment is triggered whenever the yearly loading capacity equals 80% of yearly demand, taking the utilisation rate into account. Once triggered, the loading rate is expanded to accomodate 120% of yearly throughput in steps of 300 t/h"
   ]
  },
  {
   "cell_type": "code",
   "execution_count": null,
   "metadata": {},
   "outputs": [],
   "source": [
    "initial_station_capacity = 0\n",
    "station_modular_capacity_steps   = 300\n",
    "station_utilisation      = 0.60\n",
    "trigger_throughput_perc  = 80\n",
    "aspired_throughput_perc  = 20"
   ]
  },
  {
   "cell_type": "code",
   "execution_count": 2,
   "metadata": {},
   "outputs": [],
   "source": [
    "def initial_station_setup(stations):\n",
    "    \n",
    "    online  = initial_station_capacity\n",
    "    pending = 0\n",
    "    \n",
    "    if online != 0:\n",
    "        for i in range (len(stations)):\n",
    "            stations[i].online_capacity  = online\n",
    "            stations[i].pending_quantity = pending\n",
    "            stations[i].quantity         = 1\n",
    "    else:\n",
    "        for i in range (len(stations)):\n",
    "            stations[i].online_capacity  = 0\n",
    "            stations[i].pending_capacity = 0\n",
    "            stations[i].quantity         = 0\n",
    "    \n",
    "    return stations"
   ]
  },
  {
   "cell_type": "code",
   "execution_count": null,
   "metadata": {},
   "outputs": [],
   "source": [
    "def station_online_transition(stations):\n",
    "    \n",
    "    online   = stations[0].online_capacity\n",
    "    pending  = stations[0].pending_capacity\n",
    "    quantity = stations[0].quantity\n",
    "    \n",
    "    coming_online = []\n",
    "\n",
    "    for i in range(quantity):\n",
    "        if stations[i].online_date == year:\n",
    "            coming_online.append(stations[i].pending_capacity)\n",
    "\n",
    "    capacity_coming_online = np.sum(coming_online)\n",
    "\n",
    "    if capacity_coming_online != 0:\n",
    "        for i in range(quantity):\n",
    "            stations[i].online_capacity  = online + capacity_coming_online\n",
    "            stations[i].pending_capacity = 0\n",
    "            \n",
    "    return stations"
   ]
  },
  {
   "cell_type": "code",
   "execution_count": 8,
   "metadata": {},
   "outputs": [],
   "source": [
    "def station_invest_decision(stations):\n",
    "    \n",
    "    online   = stations[0].online_capacity\n",
    "    pending  = stations[0].pending_capacity\n",
    "    quantity = stations[0].quantity\n",
    "\n",
    "    # Decide whether to invest\n",
    "    current_capacity = online + pending \n",
    "    current_demand   = maize.demand[timestep] + soybean.demand[timestep] + wheat.demand[timestep]\n",
    "    trigger_capacity = current_demand * trigger_throughput_perc/100/operational_hours/station_utilisation\n",
    "                   \n",
    "    if current_capacity < trigger_capacity:\n",
    "        return 'Invest in loading stations'\n",
    "    else:\n",
    "        return 'Do not invest in loading stations'"
   ]
  },
  {
   "cell_type": "code",
   "execution_count": 9,
   "metadata": {},
   "outputs": [],
   "source": [
    "def station_expansion(stations):\n",
    "    \n",
    "    online   = stations[0].online_capacity\n",
    "    pending  = stations[0].pending_capacity\n",
    "    quantity = stations[0].quantity\n",
    "    \n",
    "    # Calculate required capacity expansion\n",
    "    current_capacity  = online + pending\n",
    "    current_demand    = maize.demand[timestep] + soybean.demand[timestep] + wheat.demand[timestep]\n",
    "    required_capacity = current_demand * aspired_throughput_perc/100/operational_hours/station_utilisation\n",
    "    shortcoming       = required_capacity - current_capacity\n",
    "    added_station_cap = int(np.ceil(shortcoming/station_modular_capacity_steps)*station_modular_capacity_steps)\n",
    "    \n",
    "    # Assign purchase date and date on which asset comes online\n",
    "    stations[quantity].purchase_date = year\n",
    "    stations[quantity].online_date   = year + stations[0].delivery_time\n",
    "    for i in range (len(stations)):\n",
    "        stations[i].quantity = quantity + 1\n",
    "        stations[i].pending_capacity = added_station_cap\n",
    "        \n",
    "    stations[0].delta = added_station_cap\n",
    "    \n",
    "    return stations"
   ]
  },
  {
   "cell_type": "markdown",
   "metadata": {},
   "source": [
    "### Conveyor investment decision\n",
    "#### Quay conveyor\n",
    "In this setup, the quay-side conveyor investment dicision is triggered whenever the the crane investment is triggered. The conveyor capacity is always sufficient to cope with the cranes' peak unloading capacity. It is assumed that each additional conveyor built increases conveying capacity by 400 t/h."
   ]
  },
  {
   "cell_type": "code",
   "execution_count": null,
   "metadata": {},
   "outputs": [],
   "source": [
    "initial_quay_conveyor_capacity = 0    # in t/h\n",
    "quay_conveyor_length           = 500 # in meters\n",
    "quay_modular_capacity_steps    = 400  # in t/h"
   ]
  },
  {
   "cell_type": "code",
   "execution_count": 11,
   "metadata": {},
   "outputs": [],
   "source": [
    "def initial_conveyor_setup(q_conveyors):\n",
    "    \n",
    "    online  = initial_quay_conveyor_capacity\n",
    "    pending = 0\n",
    "    \n",
    "    if online != 0:\n",
    "        for i in range (len(q_conveyors)):\n",
    "            q_conveyors[i].online_capacity  = online\n",
    "            q_conveyors[i].pending_quantity = pending\n",
    "            q_conveyors[i].quantity         = 1\n",
    "            q_conveyors[i].length           = quay_conveyor_length\n",
    "    else:\n",
    "        for i in range (len(q_conveyors)):\n",
    "            q_conveyors[i].online_capacity  = 0\n",
    "            q_conveyors[i].pending_capacity = 0\n",
    "            q_conveyors[i].quantity         = 0\n",
    "            q_conveyors[i].length           = quay_conveyor_length\n",
    "    \n",
    "    return q_conveyors"
   ]
  },
  {
   "cell_type": "code",
   "execution_count": null,
   "metadata": {},
   "outputs": [],
   "source": [
    "def conveyor_online_transition(q_conveyors):\n",
    "    \n",
    "    online   = q_conveyors[0].online_capacity\n",
    "    pending  = q_conveyors[0].pending_capacity\n",
    "    quantity = q_conveyors[0].quantity\n",
    "    \n",
    "    coming_online = []\n",
    "\n",
    "    for i in range(quantity):\n",
    "        if q_conveyors[i].online_date == year:\n",
    "            coming_online.append(q_conveyors[i].pending_capacity)\n",
    "\n",
    "    capacity_coming_online = np.sum(coming_online)\n",
    "\n",
    "    if capacity_coming_online != 0:\n",
    "        for i in range(quantity):\n",
    "            q_conveyors[i].online_capacity  = online + capacity_coming_online\n",
    "            q_conveyors[i].pending_capacity = 0\n",
    "            \n",
    "    return q_conveyors"
   ]
  },
  {
   "cell_type": "code",
   "execution_count": null,
   "metadata": {},
   "outputs": [],
   "source": [
    "def quay_conveyor_invest_decision(q_conveyors, cranes):\n",
    "    \n",
    "    online   = q_conveyors[0].online_capacity\n",
    "    pending  = q_conveyors[0].pending_capacity\n",
    "    quantity = q_conveyors[0].quantity\n",
    "\n",
    "    # Decide whether to invest\n",
    "    current_capacity = online + pending \n",
    "    current_demand   = int(cranes[0][0].peak_capacity * cranes[0][0].online_quantity +\\\n",
    "                           cranes[1][0].peak_capacity * cranes[1][0].online_quantity +\\\n",
    "                           cranes[2][0].peak_capacity * cranes[2][0].online_quantity +\\\n",
    "                           cranes[3][0].peak_capacity * cranes[3][0].online_quantity)\n",
    "    pending_demand   = int(cranes[0][0].peak_capacity * cranes[0][0].pending_quantity +\\\n",
    "                           cranes[1][0].peak_capacity * cranes[1][0].pending_quantity +\\\n",
    "                           cranes[2][0].peak_capacity * cranes[2][0].pending_quantity +\\\n",
    "                           cranes[3][0].peak_capacity * cranes[3][0].pending_quantity)\n",
    "    \n",
    "    for i in range (max(quantity, 1)):\n",
    "        q_conveyors[i].current_demand = current_demand\n",
    "        q_conveyors[i].pending_demand = pending_demand\n",
    "                   \n",
    "    if current_capacity < current_demand + pending_demand:\n",
    "        return ['Invest in quay conveyors', q_conveyors]\n",
    "    else:\n",
    "        return ['Do not invest in quay conveyors', q_conveyors]"
   ]
  },
  {
   "cell_type": "code",
   "execution_count": null,
   "metadata": {},
   "outputs": [],
   "source": [
    "def quay_conveyor_expansion(q_conveyors, cranes):\n",
    "    \n",
    "    online   = q_conveyors[0].online_capacity\n",
    "    pending  = q_conveyors[0].pending_capacity\n",
    "    quantity = q_conveyors[0].quantity\n",
    "    \n",
    "    # Calculate required capacity expansion\n",
    "    current_capacity    = online + pending\n",
    "    current_demand      = q_conveyors[0].current_demand\n",
    "    pending_demand      = q_conveyors[0].pending_demand\n",
    "    shortcoming         = current_demand + pending_demand - current_capacity\n",
    "    added_conveying_cap = int(np.ceil(shortcoming/quay_modular_capacity_steps)*quay_modular_capacity_steps)\n",
    "    \n",
    "    # Assign purchase date and date on which asset comes online\n",
    "    q_conveyors[quantity].purchase_date = year\n",
    "    q_conveyors[quantity].online_date   = year + q_conveyors[0].delivery_time\n",
    "    for i in range (len(q_conveyors)):\n",
    "        q_conveyors[i].quantity = quantity + 1\n",
    "        q_conveyors[i].pending_capacity = added_conveying_cap\n",
    "        \n",
    "    q_conveyors[0].delta = added_conveying_cap\n",
    "    \n",
    "    return q_conveyors"
   ]
  },
  {
   "cell_type": "markdown",
   "metadata": {},
   "source": [
    "#### 3.2.5.1 Hinterland conveyor\n",
    "In this setup, the hinterland conveyor investment dicision is triggered whenever the loading station investment is triggered. The conveyor capacity is always sufficient to cope with the hinterland loading stations' capacity. It is assumed that each additional conveyor built increases conveying capacity by 400 t/h."
   ]
  },
  {
   "cell_type": "code",
   "execution_count": 3,
   "metadata": {},
   "outputs": [],
   "source": [
    "initial_hinterland_conveyor_capacity = 0    # in t/h\n",
    "hinterland_conveyor_length           = 500 # in meters\n",
    "hinterland_modular_capacity_steps    = 400  # in t/h"
   ]
  },
  {
   "cell_type": "code",
   "execution_count": 4,
   "metadata": {},
   "outputs": [],
   "source": [
    "def initial_hinterland_conveyor_setup(h_conveyors):\n",
    "    \n",
    "    online  = initial_hinterland_conveyor_capacity\n",
    "    pending = 0\n",
    "    \n",
    "    if online != 0:\n",
    "        for i in range (len(h_conveyors)):\n",
    "            h_conveyors[i].online_capacity  = online\n",
    "            h_conveyors[i].pending_quantity = pending\n",
    "            h_conveyors[i].quantity         = 1\n",
    "            h_conveyors[i].length           = initial_hinterland_conveyor_capacity\n",
    "    else:\n",
    "        for i in range (len(h_conveyors)):\n",
    "            h_conveyors[i].online_capacity  = 0\n",
    "            h_conveyors[i].pending_capacity = 0\n",
    "            h_conveyors[i].quantity         = 0\n",
    "            h_conveyors[i].length           = initial_hinterland_conveyor_capacity\n",
    "    \n",
    "    return h_conveyors"
   ]
  },
  {
   "cell_type": "code",
   "execution_count": null,
   "metadata": {},
   "outputs": [],
   "source": [
    "def hinterland_conveyor_online_transition(h_conveyors):\n",
    "    \n",
    "    online   = h_conveyors[0].online_capacity\n",
    "    pending  = h_conveyors[0].pending_capacity\n",
    "    quantity = h_conveyors[0].quantity\n",
    "    \n",
    "    coming_online = []\n",
    "\n",
    "    for i in range(quantity):\n",
    "        if h_conveyors[i].online_date == year:\n",
    "            coming_online.append(h_conveyors[i].pending_capacity)\n",
    "\n",
    "    capacity_coming_online = np.sum(coming_online)\n",
    "\n",
    "    if capacity_coming_online != 0:\n",
    "        for i in range(quantity):\n",
    "            h_conveyors[i].online_capacity  = online + capacity_coming_online\n",
    "            h_conveyors[i].pending_capacity = 0\n",
    "            \n",
    "    return h_conveyors"
   ]
  },
  {
   "cell_type": "code",
   "execution_count": null,
   "metadata": {},
   "outputs": [],
   "source": [
    "def hinterland_conveyor_invest_decision(h_conveyors, stations):\n",
    "    \n",
    "    online   = h_conveyors[0].online_capacity\n",
    "    pending  = h_conveyors[0].pending_capacity\n",
    "    quantity = h_conveyors[0].quantity\n",
    "\n",
    "    # Decide whether to invest\n",
    "    current_capacity = online + pending \n",
    "    current_demand   = stations[0].online_capacity\n",
    "    pending_demand   = stations[0].pending_capacity\n",
    "    \n",
    "    for i in range (max(quantity, 1)):\n",
    "        h_conveyors[i].current_demand = current_demand\n",
    "        h_conveyors[i].pending_demand = pending_demand\n",
    "                   \n",
    "    if current_capacity < current_demand + pending_demand:\n",
    "        return ['Invest in hinterland conveyors', h_conveyors]\n",
    "    else:\n",
    "        return ['Do not invest in hinterland conveyors', h_conveyors]"
   ]
  },
  {
   "cell_type": "code",
   "execution_count": null,
   "metadata": {},
   "outputs": [],
   "source": [
    "def hinterland_conveyor_expansion(h_conveyors, stations):\n",
    "    \n",
    "    online   = h_conveyors[0].online_capacity\n",
    "    pending  = h_conveyors[0].pending_capacity\n",
    "    quantity = h_conveyors[0].quantity\n",
    "    \n",
    "    # Calculate required capacity expansion\n",
    "    current_capacity    = online + pending\n",
    "    current_demand      = h_conveyors[0].current_demand\n",
    "    pending_demand      = h_conveyors[0].pending_demand\n",
    "    shortcoming         = current_demand + pending_demand - current_capacity\n",
    "    added_conveying_cap = int(np.ceil(shortcoming/hinterland_modular_capacity_steps)*hinterland_modular_capacity_steps)\n",
    "    \n",
    "    # Assign purchase date and date on which asset comes online\n",
    "    h_conveyors[quantity].purchase_date = year\n",
    "    h_conveyors[quantity].online_date   = year + h_conveyors[0].delivery_time\n",
    "    for i in range (len(h_conveyors)):\n",
    "        h_conveyors[i].quantity = quantity + 1\n",
    "        h_conveyors[i].pending_capacity = added_conveying_cap\n",
    "        \n",
    "    h_conveyors[0].delta = added_conveying_cap\n",
    "    \n",
    "    return h_conveyors"
   ]
  },
  {
   "cell_type": "markdown",
   "metadata": {},
   "source": [
    "# Investment functions"
   ]
  },
  {
   "cell_type": "markdown",
   "metadata": {},
   "source": [
    "### Assign purchase date"
   ]
  },
  {
   "cell_type": "code",
   "execution_count": null,
   "metadata": {},
   "outputs": [],
   "source": []
  }
 ],
 "metadata": {
  "kernelspec": {
   "display_name": "Python 3",
   "language": "python",
   "name": "python3"
  },
  "language_info": {
   "codemirror_mode": {
    "name": "ipython",
    "version": 3
   },
   "file_extension": ".py",
   "mimetype": "text/x-python",
   "name": "python",
   "nbconvert_exporter": "python",
   "pygments_lexer": "ipython3",
   "version": "3.6.5"
  }
 },
 "nbformat": 4,
 "nbformat_minor": 2
}
