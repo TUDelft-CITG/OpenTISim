{
 "cells": [
  {
   "cell_type": "code",
   "execution_count": 19,
   "metadata": {},
   "outputs": [],
   "source": [
    "import numpy as np\n",
    "import pandas as pd\n",
    "import matplotlib.pyplot as plt"
   ]
  },
  {
   "cell_type": "code",
   "execution_count": 1,
   "metadata": {},
   "outputs": [],
   "source": [
    "year = 2018\n",
    "operational_hours = 8760"
   ]
  },
  {
   "cell_type": "code",
   "execution_count": 2,
   "metadata": {},
   "outputs": [
    {
     "ename": "ModuleNotFoundError",
     "evalue": "No module named 'terminal_optimization'",
     "output_type": "error",
     "traceback": [
      "\u001b[1;31m---------------------------------------------------------------------------\u001b[0m",
      "\u001b[1;31mModuleNotFoundError\u001b[0m                       Traceback (most recent call last)",
      "\u001b[1;32m<ipython-input-2-c065bd3f2ae6>\u001b[0m in \u001b[0;36m<module>\u001b[1;34m()\u001b[0m\n\u001b[0;32m      1\u001b[0m \u001b[1;31m# terminal optimization package\u001b[0m\u001b[1;33m\u001b[0m\u001b[1;33m\u001b[0m\u001b[0m\n\u001b[1;32m----> 2\u001b[1;33m \u001b[1;32mfrom\u001b[0m  \u001b[0mterminal_optimization\u001b[0m\u001b[1;33m.\u001b[0m\u001b[0mcore\u001b[0m \u001b[1;32mimport\u001b[0m \u001b[0mvessel_properties_mixin\u001b[0m\u001b[1;33m,\u001b[0m \u001b[0mcyclic_properties_mixin\u001b[0m\u001b[1;33m,\u001b[0m \u001b[0mcontinuous_properties_mixin\u001b[0m\u001b[1;33m\u001b[0m\u001b[0m\n\u001b[0m",
      "\u001b[1;31mModuleNotFoundError\u001b[0m: No module named 'terminal_optimization'"
     ]
    }
   ],
   "source": [
    "# terminal optimization package\n",
    "from  terminal_optimization.core import vessel_properties_mixin, cyclic_properties_mixin, continuous_properties_mixin"
   ]
  },
  {
   "cell_type": "markdown",
   "metadata": {},
   "source": [
    "# Trend Generator"
   ]
  },
  {
   "cell_type": "code",
   "execution_count": 4,
   "metadata": {},
   "outputs": [],
   "source": [
    "# create trend estimating class **will ultimately be placed in package**\n",
    "\n",
    "class estimate_trend:\n",
    "    \"\"\"trend estimate class\"\"\"\n",
    "\n",
    "    def __init__(self, year, window, demand, growth, rate, mu, sigma):\n",
    "        \"\"\"initialization\"\"\"\n",
    "        self.year   = year\n",
    "        self.window = window\n",
    "        self.demand = demand\n",
    "        self.growth = growth\n",
    "        self.rate   = rate\n",
    "        self.mu     = mu\n",
    "        self.sigma  = sigma\n",
    "        \n",
    "    def linear(self):\n",
    "        \"\"\"trend generated from constant growth increments\"\"\"\n",
    "        years  = range(self.year, self.year + self.window)\n",
    "        demand = self.demand\n",
    "        growth = self.growth\n",
    "        t = []\n",
    "        d = []\n",
    "        for year in years:\n",
    "            t.append(year)\n",
    "            d.append(demand)\n",
    "            demand = demand + growth    \n",
    "\n",
    "        return t, d\n",
    "    \n",
    "    def constant(self):\n",
    "        \"\"\"trend generated from constant growth rate increments\"\"\"\n",
    "        years  = range(self.year, self.year + self.window)\n",
    "        demand = self.demand\n",
    "        rate   = self.rate\n",
    "        t = []\n",
    "        d = []\n",
    "        for year in years:\n",
    "            t.append(year)\n",
    "            d.append(demand)\n",
    "            demand = demand * rate    \n",
    "\n",
    "        return t, d\n",
    "    \n",
    "    def random(self):\n",
    "        \"\"\"trend generated from random growth rate increments\"\"\"\n",
    "        # package(s) used for probability\n",
    "        import numpy as np\n",
    "\n",
    "        years  = range(self.year, self.year + self.window)\n",
    "        demand = self.demand\n",
    "        rate   = self.rate\n",
    "        t = []\n",
    "        d = []\n",
    "        for year in years:\n",
    "            t.append(year)\n",
    "            d.append(demand)\n",
    "            \n",
    "            change = np.random.normal(self.mu, self.sigma, 1000)\n",
    "            rate = rate + change[0]\n",
    "            \n",
    "            demand = demand * rate    \n",
    "\n",
    "        return t, d\n",
    "    \n",
    "    def print(self, t, d):\n",
    "        \"\"\"simpel print statement of estimated trend\"\"\"\n",
    "        print(t)\n",
    "        print(d)\n",
    "        \n",
    "    def plot(self, t, d):\n",
    "        \"\"\"simpel plot of estimated trend\"\"\"\n",
    "        plt.plot(t, d, 'ro')\n",
    "        plt.show()"
   ]
  },
  {
   "cell_type": "markdown",
   "metadata": {},
   "source": [
    "# Commodity"
   ]
  },
  {
   "cell_type": "code",
   "execution_count": 21,
   "metadata": {},
   "outputs": [],
   "source": [
    "fname = 'Excel_input.xlsx'"
   ]
  },
  {
   "cell_type": "code",
   "execution_count": 22,
   "metadata": {},
   "outputs": [],
   "source": [
    "# create commodity class **will ultimately be placed in package**\n",
    "class commodity_properties_mixin(object):\n",
    "    def __init__(self, commodity_name, handling_fee):\n",
    "        self.commodity_name = commodity_name\n",
    "        self.handling_fee   = handling_fee\n",
    "    \n",
    "maize_data   = {\"commodity_name\": 'Maize',    \"handling_fee\": 10}\n",
    "soybean_data = {\"commodity_name\": 'Soybeans', \"handling_fee\": 10}\n",
    "wheat_data   = {\"commodity_name\": 'Wheat',    \"handling_fee\": 10}"
   ]
  },
  {
   "cell_type": "code",
   "execution_count": 29,
   "metadata": {},
   "outputs": [],
   "source": [
    "# define commodity functions **will ultimately be placed in package**\n",
    "class bulk_commodities(commodity_properties_mixin):\n",
    "    def __init__(self, *args, **kwargs):\n",
    "        super().__init__(*args, **kwargs)\n",
    "        pass\n",
    "    \n",
    "    def generate_trend(self, trend_type, year, window, demand, growth, rate, mu, sigma):\n",
    "        trendestimate = estimate_trend(year, window, demand, growth, rate, mu, sigma)\n",
    "        if trend_type == 'linear':\n",
    "            t, d = trendestimate.linear()  # linear trend generator\n",
    "        if trend_type == 'constant':\n",
    "            t, d = trendestimate.constant()  # linear trend generator\n",
    "        if trend_type == 'probabilistic':\n",
    "            t, d = trendestimate.random()  # probabilistic trend generator\n",
    "        self.forecast_years  = t\n",
    "        self.forecast_demand = d\n",
    "        self.forecast_start  = t[0]\n",
    "        self.forecast_stop   = t[len(t)-1]\n",
    "        \n",
    "    def modal_split(self):\n",
    "        modal_split = pd.read_excel(fname, 'Vessel distribution')\n",
    "        if self.commodity_name == \"Maize\":\n",
    "            self.forecast_hsize_demand = modal_split[\"Handysize maize\"]    * self.forecast_demand\n",
    "            self.forecast_hmax_demand  = modal_split[\"Handymax maize\"]     * self.forecast_demand\n",
    "            self.forecast_pmax_demand  = modal_split[\"Panamax maize\"]      * self.forecast_demand\n",
    "        if self.commodity_name == \"Soybeans\":\n",
    "            self.forecast_hsize_demand = modal_split[\"Handysize soybeans\"] * self.forecast_demand\n",
    "            self.forecast_hmax_demand  = modal_split[\"Handymax soybeans\"]  * self.forecast_demand\n",
    "            self.forecast_pmax_demand  = modal_split[\"Panamax soybeans\"]   * self.forecast_demand\n",
    "        if self.commodity_name == \"Wheat\":\n",
    "            self.forecast_hsize_demand = modal_split[\"Handysize wheat\"]    * self.forecast_demand\n",
    "            self.forecast_hmax_demand  = modal_split[\"Handymax wheat\"]     * self.forecast_demand\n",
    "            self.forecast_pmax_demand  = modal_split[\"Panamax wheat\"]      * self.forecast_demand\n",
    "            \n",
    "    def calls_calc(self):\n",
    "        self.forecast_hsize_calls = self.forecast_hsize_demand / handysize.call_size\n",
    "        self.forecast_hmax_calls  = self.forecast_hmax_demand  / handymax.call_size\n",
    "        self.forecast_pmax_calls  = self.forecast_pmax_demand  / panamax.call_size\n",
    "        \n",
    "    def generate_forecast(self, trend_type, year, window, demand, growth, rate, mu, sigma):\n",
    "        self.generate_trend(trend_type, year, window, demand, growth, rate, mu, sigma)\n",
    "        self.modal_split()\n",
    "        self.calls_calc()"
   ]
  },
  {
   "cell_type": "code",
   "execution_count": 30,
   "metadata": {},
   "outputs": [],
   "source": [
    "# create commodity objects **will ultimately be placed in notebook**\n",
    "maize   = bulk_commodities(**maize_data)\n",
    "soybean = bulk_commodities(**soybean_data)\n",
    "wheat   = bulk_commodities(**wheat_data)"
   ]
  },
  {
   "cell_type": "markdown",
   "metadata": {},
   "source": [
    "# Vessels"
   ]
  },
  {
   "cell_type": "code",
   "execution_count": 25,
   "metadata": {},
   "outputs": [],
   "source": [
    "# create vessel class **will ultimately be placed in package**\n",
    "class vessel_properties_mixin(object):\n",
    "    def __init__(self, vessel_type, call_size, LOA, draft, beam, max_cranes, all_turn_time, mooring_time, demurrage_rate, *args, **kwargs):\n",
    "        super().__init__(*args, **kwargs)\n",
    "        \"initialize\"\n",
    "        self.vessel_type   = vessel_type\n",
    "        self.call_size     = call_size \n",
    "        self.LOA           = LOA\n",
    "        self.draft         = draft\n",
    "        self.beam          = beam\n",
    "        self.max_cranes    = max_cranes\n",
    "        self.all_turn_time = all_turn_time\n",
    "        self.mooring_time  = mooring_time\n",
    "        self.demurrage_rate= demurrage_rate\n",
    "    \n",
    "    \n",
    "# Initial data set, data from Excel_input.xlsx\n",
    "handysize_data = {\"vessel_type\": 'Handysize', \"call_size\": 35000, \n",
    "                  \"LOA\": 130, \"draft\": 10, \"beam\": 24, \"max_cranes\": 2, \n",
    "                  \"all_turn_time\": 24, \"mooring_time\": 3, \"demurrage_rate\": 600}\n",
    "\n",
    "handymax_data = {\"vessel_type\": 'Handymax', \"call_size\": 50000, \n",
    "                  \"LOA\": 180, \"draft\": 11.5, \"beam\": 28, \"max_cranes\": 2, \n",
    "                  \"all_turn_time\": 24, \"mooring_time\": 3, \"demurrage_rate\": 750}\n",
    "\n",
    "panamax_data = {\"vessel_type\": 'Panamax', \"call_size\": 65000, \n",
    "                  \"LOA\": 220, \"draft\": 13, \"beam\": 32.2, \"max_cranes\": 3, \n",
    "                  \"all_turn_time\": 36, \"mooring_time\": 4, \"demurrage_rate\": 730} "
   ]
  },
  {
   "cell_type": "code",
   "execution_count": 26,
   "metadata": {},
   "outputs": [],
   "source": [
    "# define vessel class functions **will ultimately be placed in package**\n",
    "class vessel(vessel_properties_mixin):\n",
    "    def __init__(self, *args, **kwargs):\n",
    "        super().__init__(*args, **kwargs)\n",
    "        pass\n",
    "    \n",
    "    def calls_calc(self):\n",
    "        if self.vessel_type == 'Handysize':\n",
    "            self.calls = maize.forecast_hsize_calls + soybean.forecast_hsize_calls + wheat.forecast_hsize_calls\n",
    "        if self.vessel_type == 'Handymax':\n",
    "            self.calls = maize.forecast_hmax_calls + soybean.forecast_hmax_calls + wheat.forecast_hmax_calls\n",
    "        if self.vessel_type == 'Panamax':\n",
    "            self.calls = maize.forecast_pmax_calls + soybean.forecast_pmax_calls + wheat.forecast_pmax_calls\n",
    "            \n",
    "    def berth_time_calc(self):\n",
    "        self.berth_time   = self.call_size / berth.service_rate + self.mooring_time\n",
    "        self.waiting_time = berth.service_rate * berth.wait_fact\n",
    "        self.port_time    = self.berth_time + self.waiting_time"
   ]
  },
  {
   "cell_type": "code",
   "execution_count": 27,
   "metadata": {},
   "outputs": [],
   "source": [
    "# create objects **will ultimately be placed in notebook**\n",
    "handysize = vessel(**handysize_data)\n",
    "handymax = vessel(**handymax_data)\n",
    "panamax = vessel(**panamax_data)"
   ]
  },
  {
   "cell_type": "markdown",
   "metadata": {},
   "source": [
    "# Terminal Infrastructure"
   ]
  },
  {
   "cell_type": "markdown",
   "metadata": {},
   "source": [
    "## Quay wall"
   ]
  },
  {
   "cell_type": "code",
   "execution_count": 11,
   "metadata": {},
   "outputs": [],
   "source": [
    "# create quay wall class **will ultimately be placed in package**\n",
    "class quay_wall_properties_mixin(object):\n",
    "    def __init__(self, ownership, lifespan, mobilisation_min, mobilisation_perc, maintenance_perc, insurance_perc, length, depth, *args, **kwargs):\n",
    "        super().__init__(*args, **kwargs)\n",
    "        \"initialize\"\n",
    "        self.ownership            = ownership\n",
    "        self.lifespan             = lifespan\n",
    "        self.mobilisation_min     = mobilisation_min\n",
    "        self.mobilisation_perc    = mobilisation_perc\n",
    "        self.maintenance_perc     = maintenance_perc\n",
    "        self.insurance_perc       = insurance_perc\n",
    "        self.length               = length\n",
    "        self.depth                = depth\n",
    "\n",
    "# Initial data set, data from Excel_input.xlsx\n",
    "quay_data = {\"ownership\": 'Port authority', \"lifespan\": 50, \"mobilisation_min\": 2500000,\n",
    "             \"mobilisation_perc\": 0.02, \"maintenance_perc\": 0.01, \"insurance_perc\": 0.01,\"length\": 400, \"depth\": 14} "
   ]
  },
  {
   "cell_type": "code",
   "execution_count": 12,
   "metadata": {},
   "outputs": [],
   "source": [
    "# define quay wall class functions **will ultimately be placed in package**\n",
    "class quay_wall(quay_wall_properties_mixin):\n",
    "    def __init__(self, *args, **kwargs):\n",
    "        super().__init__(*args, **kwargs)\n",
    "        \n",
    "    def unit_rate_calc(self):\n",
    "        self.unit_rate = 757.20 * (self.depth+5)**1.2878 # van Gijt (2010)\n",
    "    \n",
    "    def original_value_calc(self):\n",
    "        self.original_value = int(self.length * self.unit_rate)\n",
    "        \n",
    "    def mobilisation_calc(self):\n",
    "        self.mobilisation = int(max((self.delta * self.unit_rate * self.mobilisation_perc), self.mobilisation_min))\n",
    "        \n",
    "    def maintenance_calc(self):\n",
    "        self.maintenance = int(self.original_value * self.maintenance_perc)\n",
    "        \n",
    "    def insurance_calc(self):\n",
    "        self.insurance = int(self.original_value * self.insurance_perc)"
   ]
  },
  {
   "cell_type": "code",
   "execution_count": 13,
   "metadata": {},
   "outputs": [],
   "source": [
    "# create objects **will ultimately be placed in notebook**\n",
    "quay = quay_wall(**quay_data)"
   ]
  },
  {
   "cell_type": "markdown",
   "metadata": {},
   "source": [
    "## Cranes (cyclic)"
   ]
  },
  {
   "cell_type": "code",
   "execution_count": 14,
   "metadata": {},
   "outputs": [],
   "source": [
    "# create cyclic unloader class **will ultimately be placed in package**\n",
    "class cyclic_properties_mixin(object):\n",
    "    def __init__(self, ownership, lifespan, unit_rate, mobilisation_perc, maintenance_perc, insurance_perc, consumption, crew, unloader_type, lifting_capacity, hourly_cycles, eff_fact, utilisation, *args, **kwargs):\n",
    "        super().__init__(*args, **kwargs)\n",
    "        \"initialize\"\n",
    "        self.ownership            = ownership\n",
    "        self.lifespan             = lifespan\n",
    "        self.unit_rate            = unit_rate\n",
    "        self.mobilisation_perc    = mobilisation_perc\n",
    "        self.maintenance_perc     = maintenance_perc\n",
    "        self.insurance_perc       = insurance_perc\n",
    "        self.consumption          = consumption\n",
    "        self.crew                 = crew\n",
    "        self.unloader_type        = unloader_type\n",
    "        self.lifting_capacity     = lifting_capacity\n",
    "        self.hourly_cycles        = hourly_cycles\n",
    "        self.eff_fact             = eff_fact\n",
    "        self.utilisation          = utilisation\n",
    "        self.payload              = int(0.70 * self.lifting_capacity)      #Source: Nemag\n",
    "        self.peak_capacity        = int(self.payload * self.hourly_cycles) \n",
    "        self.effective_capacity   = int(eff_fact * self.peak_capacity)     #Source: TATA steel\n",
    "\n",
    "# Initial data set, data from Excel_input.xlsx\n",
    "gantry_data        = {\"ownership\": 'Terminal operator', \"lifespan\": 40, \"unit_rate\": 19500000,\"mobilisation_perc\": 0.15, \n",
    "                      \"maintenance_perc\": 0.02, \"insurance_perc\": 0.01,\"consumption\": 0, \"crew\": 3, \n",
    "                      \"unloader_type\": 'Gantry crane', \"lifting_capacity\": 70, \"hourly_cycles\": 60, \"eff_fact\": 0.55,\n",
    "                      \"utilisation\": 0.80}\n",
    "\n",
    "harbour_crane_data = {\"ownership\": 'Terminal operator', \"lifespan\": 40, \"unit_rate\": 14000000, \"mobilisation_perc\": 0.15, \n",
    "                      \"maintenance_perc\": 0.02, \"insurance_perc\": 0.01,\"consumption\": 0, \"crew\": 3, \n",
    "                      \"unloader_type\": 'Harbour crane crane', \"lifting_capacity\": 40, \"hourly_cycles\": 40, \"eff_fact\": 0.55,\n",
    "                      \"utilisation\": 0.80}\n",
    "\n",
    "mobile_crane_data  = {\"ownership\": 'Terminal operator', \"lifespan\": 20, \"unit_rate\": 3325000,\"mobilisation_perc\": 0.15, \n",
    "                      \"maintenance_perc\": 0.031,\"insurance_perc\": 0.01,\"consumption\": 485, \"crew\": 3, \n",
    "                      \"unloader_type\": 'Mobile crane',\"lifting_capacity\": 60, \"hourly_cycles\": 30, \"eff_fact\": 0.55,\n",
    "                      \"utilisation\": 0.80}"
   ]
  },
  {
   "cell_type": "code",
   "execution_count": 15,
   "metadata": {},
   "outputs": [],
   "source": [
    "# define cyclic unloader class functions **will ultimately be placed in package**\n",
    "class cyclic_unloader(cyclic_properties_mixin):\n",
    "    def __init__(self, *args, **kwargs):\n",
    "        super().__init__(*args, **kwargs)\n",
    "        \n",
    "    def total_capacity_calc(self):\n",
    "        self.total_peak_capacity = int(self.quantity * self.peak_capacity)\n",
    "        self.total_eff_capacity  = int(self.total_peak_capacity * self.eff_fact)\n",
    "    \n",
    "    def original_value_calc(self):\n",
    "        self.original_value = int(self.quantity * self.unit_rate) \n",
    "        \n",
    "    def lease_calc(self):\n",
    "        if self.unloader_type == 'Mobile crane':\n",
    "            self.lease = int(self.original_value * 0.10)\n",
    "        else:\n",
    "            return\n",
    "            \n",
    "    def mobilisation_calc(self):\n",
    "        self.mobilisation = int(self.delta * self.unit_rate * self.mobilisation_perc)\n",
    "        \n",
    "    def maintenance_calc(self):\n",
    "        self.maintenance = int(self.original_value * self.maintenance_perc)\n",
    "        \n",
    "    def insurance_calc(self):\n",
    "        self.insurance = int(self.original_value * self.insurance_perc)\n",
    "        \n",
    "    def consumption_calc(self):\n",
    "        if self.unloader_type != 'Mobile crane':\n",
    "            self.consumption = int(0.3 * operational_hours * self.utilisation * self.quantity * self.peak_capacity)\n",
    "        if self.unloader_type == 'Mobile crane':\n",
    "            self.consumption = int(485 * operational_hours * self.utilisation * self.quantity)\n",
    "        \n",
    "    def shifts_calc(self):\n",
    "        self.shifts = int(np.ceil(self.quantity * operational_hours * self.crew / labour.shift_length))"
   ]
  },
  {
   "cell_type": "code",
   "execution_count": 16,
   "metadata": {},
   "outputs": [],
   "source": [
    "# create objects **will ultimately be placed in notebook**\n",
    "gantry_cranes   = cyclic_unloader(**gantry_data)\n",
    "harbour_cranes  = cyclic_unloader(**harbour_crane_data)  \n",
    "mobile_cranes   = cyclic_unloader(**mobile_crane_data) "
   ]
  },
  {
   "cell_type": "markdown",
   "metadata": {},
   "source": [
    "## Cranes (continuous)"
   ]
  },
  {
   "cell_type": "code",
   "execution_count": 17,
   "metadata": {},
   "outputs": [],
   "source": [
    "# create continuous unloader class **will ultimately be placed in package**\n",
    "class continuous_properties_mixin(object):\n",
    "    def __init__(self, ownership, lifespan, unit_rate, mobilisation_perc, maintenance_perc, insurance_perc, crew, unloader_type, peak_capacity, eff_fact, utilisation, *args, **kwargs):\n",
    "        super().__init__(*args, **kwargs)\n",
    "        \"initialize\"\n",
    "        self.ownership            = ownership\n",
    "        self.lifespan             = lifespan\n",
    "        self.unit_rate            = unit_rate\n",
    "        self.mobilisation_perc    = mobilisation_perc\n",
    "        self.mobilisation         = int(mobilisation_perc * unit_rate)\n",
    "        self.maintenance_perc     = maintenance_perc\n",
    "        self.insurance_perc       = insurance_perc\n",
    "        self.crew                 = crew\n",
    "        self.unloader_type        = unloader_type\n",
    "        self.peak_capacity        = peak_capacity\n",
    "        self.eff_fact             = eff_fact \n",
    "        self.utilisation          = utilisation\n",
    "\n",
    "# Initial data set, data from Excel_input.xlsx\n",
    "continuous_screw_data = {\"ownership\": 'Terminal operator', \"lifespan\": 30, \"unit_rate\": 6900000, \"mobilisation_perc\": 0.15, \n",
    "                         \"maintenance_perc\": 0.02, \"insurance_perc\": 0.01, \"crew\": 2,\"unloader_type\": 'Screw unloader', \n",
    "                         \"peak_capacity\": 700, \"eff_fact\": 0.55, \"utilisation\": 0.80}"
   ]
  },
  {
   "cell_type": "code",
   "execution_count": 18,
   "metadata": {},
   "outputs": [],
   "source": [
    "# define continuous unloader class functions **will ultimately be placed in package**\n",
    "class continuous_unloader(continuous_properties_mixin):\n",
    "    \n",
    "    def __init__(self, *args, **kwargs):\n",
    "        super().__init__(*args, **kwargs)\n",
    "        \n",
    "    def total_capacity_calc(self):\n",
    "        self.total_peak_capacity = int(self.quantity * self.peak_capacity)\n",
    "        self.total_eff_capacity  = int(self.total_peak_capacity * self.eff_fact)\n",
    "    \n",
    "    def original_value_calc(self):\n",
    "        self.original_value = int(self.quantity * self.unit_rate) \n",
    "        \n",
    "    def mobilisation_calc(self):\n",
    "        self.mobilisation = int(self.delta * self.unit_rate * self.mobilisation_perc)\n",
    "        \n",
    "    def maintenance_calc(self):\n",
    "        self.maintenance = int(self.original_value * self.maintenance_perc)\n",
    "        \n",
    "    def insurance_calc(self):\n",
    "        self.insurance = int(self.original_value * self.insurance_perc)\n",
    "        \n",
    "    def consumption_calc(self):\n",
    "        self.consumption = int(0.52 * operational_hours * self.utilisation * self.quantity * self.peak_capacity)\n",
    "        \n",
    "    def shifts_calc(self):\n",
    "        self.shifts = int(np.ceil(self.quantity * operational_hours * self.crew / labour.shift_length))"
   ]
  },
  {
   "cell_type": "code",
   "execution_count": 19,
   "metadata": {},
   "outputs": [],
   "source": [
    "# create objects **will ultimately be placed in notebook**\n",
    "screw_unloaders = continuous_unloader(**continuous_screw_data)"
   ]
  },
  {
   "cell_type": "markdown",
   "metadata": {},
   "source": [
    "## Conveyors"
   ]
  },
  {
   "cell_type": "code",
   "execution_count": 20,
   "metadata": {},
   "outputs": [],
   "source": [
    "# create conveyor class **will ultimately be placed in package**\n",
    "class conveyor_properties_mixin(object):\n",
    "    def __init__(self, ownership, lifespan, mobilisation, maintenance_perc, insurance_perc, crew, utilisation, *args, **kwargs):\n",
    "        super().__init__(*args, **kwargs)\n",
    "        \"initialize\"\n",
    "        self.ownership            = ownership\n",
    "        self.lifespan             = lifespan\n",
    "        self.mobilisation         = mobilisation\n",
    "        self.maintenance_perc     = maintenance_perc\n",
    "        self.insurance_perc       = insurance_perc\n",
    "        self.crew                 = crew\n",
    "        self.utilisation          = utilisation\n",
    "\n",
    "# Initial data set, data from Excel_input.xlsx\n",
    "conveyor_data = {\"ownership\": 'Terminal operator', \"lifespan\": 10, \"mobilisation\": 30000, \n",
    "                 \"maintenance_perc\": 0.10, \"insurance_perc\": 0.01, \"crew\": 0.5, \"utilisation\": 0.80}"
   ]
  },
  {
   "cell_type": "code",
   "execution_count": 21,
   "metadata": {},
   "outputs": [],
   "source": [
    "# define conveyor class functions **will ultimately be placed in package**\n",
    "class conveyor(conveyor_properties_mixin):\n",
    "    def __init__(self, *args, **kwargs):\n",
    "        super().__init__(*args, **kwargs)\n",
    "        \n",
    "    def capacity_calc(self):\n",
    "        self.capacity = int(np.ceil((gantry_cranes.peak_capacity   * gantry_cranes.quantity +\\\n",
    "                                     harbour_cranes.peak_capacity  * harbour_cranes.quantity +\\\n",
    "                                     mobile_cranes.peak_capacity   * mobile_cranes.quantity +\\\n",
    "                                     screw_unloaders.peak_capacity * screw_unloaders.quantity)/400)*400)\n",
    "    \n",
    "    def unit_rate_calc(self):\n",
    "        self.unit_rate = int(6.0 * self.length)\n",
    "    \n",
    "    def original_value_calc(self):\n",
    "        self.original_value = int(self.capacity * self.unit_rate) \n",
    "        \n",
    "    def maintenance_calc(self):\n",
    "        self.maintenance = int(self.original_value * self.maintenance_perc)\n",
    "        \n",
    "    def insurance_calc(self):\n",
    "        self.insurance = int(self.original_value * self.insurance_perc)\n",
    "        \n",
    "    def consumption_calc(self):\n",
    "        self.consumption = int(0.08 * operational_hours * self.utilisation * self.capacity)\n",
    "        \n",
    "    def shifts_calc(self):\n",
    "        self.shifts = int(np.ceil(operational_hours * self.crew / labour.shift_length))\n",
    "        \n",
    "    def delta_calc(self):\n",
    "        self.delta = int(np.ceil((gantry_cranes.peak_capacity   * gantry_cranes.delta  +\\\n",
    "                                  harbour_cranes.peak_capacity  * harbour_cranes.delta +\\\n",
    "                                  mobile_cranes.peak_capacity   * mobile_cranes.delta  +\\\n",
    "                                  screw_unloaders.peak_capacity * screw_unloaders.delta)/400)*400)"
   ]
  },
  {
   "cell_type": "code",
   "execution_count": 22,
   "metadata": {},
   "outputs": [],
   "source": [
    "# create objects **will ultimately be placed in notebook**\n",
    "conveyor_quay       = conveyor(**conveyor_data)\n",
    "conveyor_hinterland = conveyor(**conveyor_data)\n",
    "\n",
    "conveyor_quay.length       = 500\n",
    "conveyor_hinterland.length = 500"
   ]
  },
  {
   "cell_type": "markdown",
   "metadata": {},
   "source": [
    "## Storage"
   ]
  },
  {
   "cell_type": "code",
   "execution_count": 23,
   "metadata": {},
   "outputs": [],
   "source": [
    "# create storage class **will ultimately be placed in package**\n",
    "class storage_properties_mixin(object):\n",
    "    def __init__(self, ownership, lifespan, unit_rate, mobilisation_min, mobilisation_perc, maintenance_perc, insurance_perc, storage_type, utilisation, *args, **kwargs):\n",
    "        super().__init__(*args, **kwargs)\n",
    "        \"initialize\"\n",
    "        self.ownership            = ownership\n",
    "        self.lifespan             = lifespan\n",
    "        self.unit_rate            = unit_rate\n",
    "        self.mobilisation_min     = mobilisation_min\n",
    "        self.mobilisation_perc    = mobilisation_perc\n",
    "        self.maintenance_perc     = maintenance_perc\n",
    "        self.insurance_perc       = insurance_perc\n",
    "        self.storage_type         = storage_type\n",
    "        self.utilisation          = utilisation\n",
    "        \n",
    "# Initial data set, data from Excel_input.xlsx\n",
    "silo_data      = {\"ownership\": 'Terminal operator', \"lifespan\": 30, \"unit_rate\": 60, \n",
    "                  \"mobilisation_min\": 200000, \"mobilisation_perc\": 0.02, \"maintenance_perc\": 0.02, \n",
    "                  \"insurance_perc\": 0.01, \"storage_type\": 'Silos', \"utilisation\": 0.80}\n",
    "warehouse_data = {\"ownership\": 'Terminal operator', \"lifespan\": 30, \"unit_rate\": 140,\n",
    "                  \"mobilisation_min\": 200000, \"mobilisation_perc\": 0.02, \"maintenance_perc\": 0.01, \n",
    "                  \"insurance_perc\": 0.01, \"storage_type\": 'Warehouse', \"utilisation\": 0.80}"
   ]
  },
  {
   "cell_type": "code",
   "execution_count": 24,
   "metadata": {},
   "outputs": [],
   "source": [
    "# define storage class functions **will ultimately be placed in package**\n",
    "class storage(storage_properties_mixin):\n",
    "    def __init__(self, *args, **kwargs):\n",
    "        super().__init__(*args, **kwargs)  \n",
    "    \n",
    "    def original_value_calc(self):\n",
    "        self.original_value = int(self.capacity * self.unit_rate) \n",
    "    \n",
    "    def mobilisation_calc(self):\n",
    "        self.mobilisation = int(max((self.delta * self.unit_rate * self.mobilisation_perc), self.mobilisation_min))\n",
    "        \n",
    "    def maintenance_calc(self):\n",
    "        self.maintenance = int(self.original_value * self.maintenance_perc)\n",
    "        \n",
    "    def insurance_calc(self):\n",
    "        self.insurance = int(self.original_value * self.insurance_perc)\n",
    "        \n",
    "    def consumption_calc(self):\n",
    "        if self.storage_type == 'Silos':\n",
    "            self.consumption = int(0.003 * self.capacity * operational_hours)\n",
    "        if self.storage_type == 'Warehouse':\n",
    "            self.consumption = int(0.001 * self.capacity * operational_hours)\n",
    "        \n",
    "    def shifts_calc(self):\n",
    "        if self.storage_type == 'Silos':\n",
    "            self.crew = 0.00002 * self.capacity  # 2 people per 100.000t of storage\n",
    "        if self.storage_type == 'Warehouse':\n",
    "            self.crew = 0.00004 * self.capacity  # 4 people per 100.000t of storage\n",
    "        self.shifts = int(np.ceil(operational_hours * self.crew / labour.shift_length))"
   ]
  },
  {
   "cell_type": "code",
   "execution_count": 25,
   "metadata": {},
   "outputs": [],
   "source": [
    "# create objects **will ultimately be placed in notebook**     \n",
    "silos     = storage(**silo_data)\n",
    "warehouse = storage(**warehouse_data)"
   ]
  },
  {
   "cell_type": "markdown",
   "metadata": {},
   "source": [
    "## Loading Station"
   ]
  },
  {
   "cell_type": "code",
   "execution_count": 26,
   "metadata": {},
   "outputs": [],
   "source": [
    "# create loading station class **will ultimately be placed in package**\n",
    "class hinterland_station_properties_mixin(object):\n",
    "    def __init__(self, ownership, lifespan, unit_rate, mobilisation, maintenance_perc, insurance_perc, crew, utilisation, *args, **kwargs):\n",
    "        super().__init__(*args, **kwargs)\n",
    "        \"initialize\"\n",
    "        self.ownership            = ownership\n",
    "        self.lifespan             = lifespan\n",
    "        self.unit_rate            = unit_rate\n",
    "        self.mobilisation         = mobilisation\n",
    "        self.maintenance_perc     = maintenance_perc\n",
    "        self.insurance_perc       = insurance_perc\n",
    "        self.crew                 = crew\n",
    "        self.utilisation          = utilisation\n",
    "        \n",
    "# Initial data set, data from Excel_input.xlsx\n",
    "hinterland_station_data = {\"ownership\": 'Terminal operator', \"lifespan\": 15, \"unit_rate\": 4000, \"mobilisation\": 100000, \n",
    "                           \"maintenance_perc\": 0.02, \"insurance_perc\": 0.01, \"crew\": 2, \"utilisation\": 0.80}"
   ]
  },
  {
   "cell_type": "code",
   "execution_count": 27,
   "metadata": {},
   "outputs": [],
   "source": [
    "# define loading station class functions **will ultimately be placed in package**\n",
    "class hinterland_station(hinterland_station_properties_mixin):\n",
    "    def __init__(self, *args, **kwargs):\n",
    "        super().__init__(*args, **kwargs)\n",
    "        \n",
    "    def capacity_calc(self):\n",
    "        self.capacity = 0    \n",
    "    \n",
    "    def original_value_calc(self):\n",
    "        self.original_value = int(self.capacity * self.unit_rate) \n",
    "        \n",
    "    def maintenance_calc(self):\n",
    "        self.maintenance = int(self.original_value * self.maintenance_perc)\n",
    "        \n",
    "    def insurance_calc(self):\n",
    "        self.insurance = int(self.original_value * self.insurance_perc)\n",
    "        \n",
    "    def consumption_calc(self):\n",
    "        self.consumption = int(0.75 * operational_hours * self.utilisation * self.capacity)\n",
    "        \n",
    "    def shifts_calc(self):\n",
    "        self.shifts = int(np.ceil(operational_hours * self.crew / labour.shift_length))"
   ]
  },
  {
   "cell_type": "code",
   "execution_count": 28,
   "metadata": {},
   "outputs": [],
   "source": [
    "# create objects **will ultimately be placed in notebook**\n",
    "loading_station = hinterland_station(**hinterland_station_data)"
   ]
  },
  {
   "cell_type": "markdown",
   "metadata": {},
   "source": [
    "# Business Logic"
   ]
  },
  {
   "cell_type": "markdown",
   "metadata": {},
   "source": [
    "## Revenue calc"
   ]
  },
  {
   "cell_type": "code",
   "execution_count": 29,
   "metadata": {},
   "outputs": [],
   "source": [
    "# create revenue class **will ultimately be placed in package**\n",
    "class revenue_properties_mixin(object):\n",
    "    def __init__(self, maize, soybean, wheat, *args, **kwargs):\n",
    "        super().__init__(*args, **kwargs)\n",
    "        self.year    = year\n",
    "        self.maize   = maize\n",
    "        self.soybean = soybean\n",
    "        self.wheat   = wheat\n",
    "\n",
    "# Initial data\n",
    "revenue_data = {\"maize\": 0, \"soybean\": 0, \"wheat\": 0}"
   ]
  },
  {
   "cell_type": "code",
   "execution_count": 30,
   "metadata": {},
   "outputs": [],
   "source": [
    "# define revenue class functions **will ultimately be placed in package**\n",
    "class revenue_class(revenue_properties_mixin):\n",
    "    def __init__(self, *args, **kwargs):\n",
    "        super().__init__(*args, **kwargs)\n",
    "    \n",
    "    def calc(self):\n",
    "        self.maize   = int(maize.throughput   * maize.handling_fee)\n",
    "        self.soybean = int(soybean.throughput * soybean.handling_fee)\n",
    "        self.wheat   = int(wheat.throughput   * wheat.handling_fee)\n",
    "        self.total   = int(self.maize + self.soybean + self.wheat)"
   ]
  },
  {
   "cell_type": "code",
   "execution_count": 31,
   "metadata": {},
   "outputs": [],
   "source": [
    "# create objects **will ultimately be placed in notebook**\n",
    "revenue = revenue_class(**revenue_data)"
   ]
  },
  {
   "cell_type": "code",
   "execution_count": 32,
   "metadata": {},
   "outputs": [
    {
     "data": {
      "text/plain": [
       "{'year': 2018, 'maize': 10000000, 'soybean': 0, 'wheat': 0, 'total': 10000000}"
      ]
     },
     "execution_count": 32,
     "metadata": {},
     "output_type": "execute_result"
    }
   ],
   "source": [
    "# [Test] revenue \n",
    "maize.throughput   = 1000000\n",
    "soybean.throughput = 0\n",
    "wheat.throughput   = 0\n",
    "\n",
    "revenue.calc()\n",
    "revenue.__dict__"
   ]
  },
  {
   "cell_type": "markdown",
   "metadata": {},
   "source": [
    "## Capex calc"
   ]
  },
  {
   "cell_type": "code",
   "execution_count": 33,
   "metadata": {},
   "outputs": [],
   "source": [
    "# create capex class **will ultimately be placed in package**\n",
    "class capex_properties_mixin(object):\n",
    "    def __init__(self, *args, **kwargs):\n",
    "        super().__init__(*args, **kwargs)"
   ]
  },
  {
   "cell_type": "code",
   "execution_count": 34,
   "metadata": {},
   "outputs": [],
   "source": [
    "# define capex class functions **will ultimately be placed in package**\n",
    "class capex_class(capex_properties_mixin):\n",
    "    def __init__(self, *args, **kwargs):\n",
    "        super().__init__(*args, **kwargs)    \n",
    "        \n",
    "    def individual_calc(self, asset):\n",
    "        if asset.delta != 0:\n",
    "            if \"unit_rate_calc\" in dir(asset) != False:\n",
    "                asset.unit_rate_calc()\n",
    "            if \"mobilisation_calc\" in dir(asset) != False:\n",
    "                asset.mobilisation_calc()\n",
    "            return int(asset.delta * asset.unit_rate + asset.mobilisation)\n",
    "        if asset.delta == 0: \n",
    "            return 0\n",
    "            \n",
    "    def calc(self):\n",
    "        self.quay                = self.individual_calc(quay)\n",
    "        self.gantry_cranes       = self.individual_calc(gantry_cranes)\n",
    "        self.harbour_cranes      = self.individual_calc(harbour_cranes)\n",
    "        self.mobile_cranes       = self.individual_calc(mobile_cranes)\n",
    "        self.screw_unloaders     = self.individual_calc(screw_unloaders)\n",
    "        self.conveyor_quay       = self.individual_calc(conveyor_quay)\n",
    "        self.conveyor_hinterland = self.individual_calc(conveyor_hinterland)\n",
    "        self.silos               = self.individual_calc(silos)\n",
    "        self.warehouse           = self.individual_calc(warehouse)\n",
    "        self.loading_station     = self.individual_calc(loading_station)\n",
    "        \n",
    "        self.total = int(self.quay + self.gantry_cranes + self.harbour_cranes + self.mobile_cranes + self.screw_unloaders +\\\n",
    "                     self.conveyor_quay + self.conveyor_hinterland + self.silos + self.warehouse + self.loading_station)"
   ]
  },
  {
   "cell_type": "code",
   "execution_count": 35,
   "metadata": {},
   "outputs": [],
   "source": [
    "# create objects **will ultimately be placed in notebook**\n",
    "capex = capex_class()"
   ]
  },
  {
   "cell_type": "code",
   "execution_count": 36,
   "metadata": {},
   "outputs": [
    {
     "data": {
      "text/plain": [
       "{'quay': 2533572,\n",
       " 'gantry_cranes': 22425000,\n",
       " 'harbour_cranes': 16100000,\n",
       " 'mobile_cranes': 3823750,\n",
       " 'screw_unloaders': 7935000,\n",
       " 'conveyor_quay': 33000,\n",
       " 'conveyor_hinterland': 33000,\n",
       " 'silos': 200060,\n",
       " 'warehouse': 200140,\n",
       " 'loading_station': 104000,\n",
       " 'total': 53387522}"
      ]
     },
     "execution_count": 36,
     "metadata": {},
     "output_type": "execute_result"
    }
   ],
   "source": [
    "# [Test] capex \n",
    "quay.delta                = 1\n",
    "gantry_cranes.delta       = 1\n",
    "harbour_cranes.delta      = 1\n",
    "mobile_cranes.delta       = 1\n",
    "screw_unloaders.delta     = 1\n",
    "conveyor_quay.delta       = 1\n",
    "conveyor_hinterland.delta = 1\n",
    "silos.delta               = 1 \n",
    "warehouse.delta           = 1\n",
    "loading_station.delta     = 1 \n",
    "\n",
    "capex.calc()\n",
    "capex.__dict__"
   ]
  },
  {
   "cell_type": "markdown",
   "metadata": {},
   "source": [
    "## Labour calc"
   ]
  },
  {
   "cell_type": "code",
   "execution_count": 37,
   "metadata": {},
   "outputs": [],
   "source": [
    "# create labour class **will ultimately be placed in package**\n",
    "class labour_properties_mixin(object):\n",
    "    def __init__(self, international_salary, international_staff, local_salary, local_staff, operational_salary, \n",
    "                 shift_length, annual_shifts, *args, **kwargs):\n",
    "        super().__init__(*args, **kwargs)\n",
    "        self.year = year\n",
    "        self.international_salary = international_salary\n",
    "        self.international_staff = international_staff\n",
    "        self.local_salary = local_salary\n",
    "        self.local_staff = local_staff\n",
    "        self.operational_salary = operational_salary\n",
    "        self.shift_length = shift_length\n",
    "        self.annual_shifts = annual_shifts\n",
    "\n",
    "labour_data =  {\"international_salary\": 105000, \"international_staff\": 4, \"local_salary\": 18850, \"local_staff\": 10, \n",
    "                \"operational_salary\": 16750, \"shift_length\": 6.5, \"annual_shifts\": 200}"
   ]
  },
  {
   "cell_type": "code",
   "execution_count": 38,
   "metadata": {},
   "outputs": [],
   "source": [
    "# define labour class functions **will ultimately be placed in package**\n",
    "class labour_class(labour_properties_mixin):\n",
    "    def __init__(self, *args, **kwargs):\n",
    "        super().__init__(*args, **kwargs)\n",
    "    \n",
    "    def individual_calc(self, asset):\n",
    "        if \"shifts_calc\" in dir(asset) != False:\n",
    "            asset.shifts_calc()\n",
    "            return int(np.ceil(asset.shifts / self.annual_shifts))\n",
    "        else:\n",
    "            return 0\n",
    "            \n",
    "    def calc(self):\n",
    "        self.staff_quay                = self.individual_calc(quay)\n",
    "        self.staff_gantry_cranes       = self.individual_calc(gantry_cranes)\n",
    "        self.staff_harbour_cranes      = self.individual_calc(harbour_cranes)\n",
    "        self.staff_mobile_cranes       = self.individual_calc(mobile_cranes)\n",
    "        self.staff_screw_unloaders     = self.individual_calc(screw_unloaders)\n",
    "        self.staff_conveyor_quay       = self.individual_calc(conveyor_quay)\n",
    "        self.staff_conveyor_hinterland = self.individual_calc(conveyor_hinterland)\n",
    "        self.staff_silos               = self.individual_calc(silos)\n",
    "        self.staff_warehouse           = self.individual_calc(warehouse)\n",
    "        self.staff_loading_station     = self.individual_calc(loading_station)\n",
    "        \n",
    "        self.operational_staff = int(self.staff_quay + self.staff_gantry_cranes + self.staff_harbour_cranes + \n",
    "                                     self.staff_mobile_cranes + self.staff_screw_unloaders + self.staff_conveyor_quay +\\\n",
    "                                     self.staff_conveyor_hinterland + self.staff_silos + self.staff_warehouse +\\\n",
    "                                     self.staff_loading_station)\n",
    "        \n",
    "        self.total = self.international_salary * self.international_staff + self.local_salary * self.local_staff +\\\n",
    "                     self.operational_salary   * self.operational_staff"
   ]
  },
  {
   "cell_type": "code",
   "execution_count": 39,
   "metadata": {},
   "outputs": [],
   "source": [
    "# create objects **will ultimately be placed in notebook**\n",
    "labour = labour_class(**labour_data)"
   ]
  },
  {
   "cell_type": "code",
   "execution_count": 40,
   "metadata": {},
   "outputs": [
    {
     "data": {
      "text/plain": [
       "{'year': 2018,\n",
       " 'international_salary': 105000,\n",
       " 'international_staff': 4,\n",
       " 'local_salary': 18850,\n",
       " 'local_staff': 10,\n",
       " 'operational_salary': 16750,\n",
       " 'shift_length': 6.5,\n",
       " 'annual_shifts': 200,\n",
       " 'staff_quay': 0,\n",
       " 'staff_gantry_cranes': 21,\n",
       " 'staff_harbour_cranes': 21,\n",
       " 'staff_mobile_cranes': 21,\n",
       " 'staff_screw_unloaders': 14,\n",
       " 'staff_conveyor_quay': 4,\n",
       " 'staff_conveyor_hinterland': 4,\n",
       " 'staff_silos': 14,\n",
       " 'staff_warehouse': 27,\n",
       " 'staff_loading_station': 14,\n",
       " 'operational_staff': 140,\n",
       " 'total': 2953500}"
      ]
     },
     "execution_count": 40,
     "metadata": {},
     "output_type": "execute_result"
    }
   ],
   "source": [
    "# [Test] labour \n",
    "quay.length                  = 1000\n",
    "gantry_cranes.quantity       = 1\n",
    "harbour_cranes.quantity      = 1\n",
    "mobile_cranes.quantity       = 1\n",
    "screw_unloaders.quantity     = 1\n",
    "conveyor_quay.capacity       = 1000\n",
    "conveyor_hinterland.capacity = 1000\n",
    "silos.capacity               = 100000 \n",
    "warehouse.capacity           = 100000\n",
    "loading_station.capacity     = 100 \n",
    "\n",
    "labour.calc()\n",
    "labour.__dict__"
   ]
  },
  {
   "cell_type": "markdown",
   "metadata": {},
   "source": [
    "## Maintenance calc"
   ]
  },
  {
   "cell_type": "code",
   "execution_count": 41,
   "metadata": {},
   "outputs": [],
   "source": [
    "# create maintenance class **will ultimately be placed in package**\n",
    "class maintenance_properties_mixin(object):\n",
    "    def __init__(self, *args, **kwargs):\n",
    "        super().__init__(*args, **kwargs)\n",
    "        self.year = year"
   ]
  },
  {
   "cell_type": "code",
   "execution_count": 42,
   "metadata": {},
   "outputs": [],
   "source": [
    "# define maintenance class functions **will ultimately be placed in package**\n",
    "class maintenance_class(maintenance_properties_mixin):\n",
    "    def __init__(self, *args, **kwargs):\n",
    "        super().__init__(*args, **kwargs)\n",
    "    \n",
    "    def individual_calc(self, asset):\n",
    "        if \"unit_rate_calc\" in dir(asset) != False:\n",
    "            asset.unit_rate_calc()\n",
    "        if \"original_value_calc\" in dir(asset) != False:\n",
    "            asset.original_value_calc()\n",
    "        if \"maintenance_calc\" in dir(asset) != False:\n",
    "            asset.maintenance_calc()\n",
    "            return asset.maintenance\n",
    "        else:\n",
    "            return 0\n",
    "            \n",
    "    def calc(self):\n",
    "        self.quay                = self.individual_calc(quay)\n",
    "        self.gantry_cranes       = self.individual_calc(gantry_cranes)\n",
    "        self.harbour_cranes      = self.individual_calc(harbour_cranes)\n",
    "        self.mobile_cranes       = self.individual_calc(mobile_cranes)\n",
    "        self.screw_unloaders     = self.individual_calc(screw_unloaders)\n",
    "        self.conveyor_quay       = self.individual_calc(conveyor_quay)\n",
    "        self.conveyor_hinterland = self.individual_calc(conveyor_hinterland)\n",
    "        self.silos               = self.individual_calc(silos)\n",
    "        self.warehouse           = self.individual_calc(warehouse)\n",
    "        self.loading_station     = self.individual_calc(loading_station)\n",
    "        \n",
    "        self.total = int(self.quay + self.gantry_cranes + self.harbour_cranes + self.mobile_cranes + self.screw_unloaders +\\\n",
    "                     self.conveyor_quay + self.conveyor_hinterland + self.silos + self.warehouse + self.loading_station)"
   ]
  },
  {
   "cell_type": "code",
   "execution_count": 43,
   "metadata": {},
   "outputs": [],
   "source": [
    "# create objects **will ultimately be placed in notebook**\n",
    "maintenance = maintenance_class()"
   ]
  },
  {
   "cell_type": "code",
   "execution_count": 44,
   "metadata": {},
   "outputs": [
    {
     "data": {
      "text/plain": [
       "{'year': 2018,\n",
       " 'quay': 335729,\n",
       " 'gantry_cranes': 390000,\n",
       " 'harbour_cranes': 280000,\n",
       " 'mobile_cranes': 103075,\n",
       " 'screw_unloaders': 138000,\n",
       " 'conveyor_quay': 300000,\n",
       " 'conveyor_hinterland': 300000,\n",
       " 'silos': 120000,\n",
       " 'warehouse': 140000,\n",
       " 'loading_station': 8000,\n",
       " 'total': 2114804}"
      ]
     },
     "execution_count": 44,
     "metadata": {},
     "output_type": "execute_result"
    }
   ],
   "source": [
    "# [Test] mnaintenance \n",
    "quay.length                  = 1000\n",
    "gantry_cranes.quantity       = 1\n",
    "harbour_cranes.quantity      = 1\n",
    "mobile_cranes.quantity       = 1\n",
    "screw_unloaders.quantity     = 1\n",
    "conveyor_quay.capacity       = 1000\n",
    "conveyor_hinterland.capacity = 1000\n",
    "silos.capacity               = 100000 \n",
    "warehouse.capacity           = 100000\n",
    "loading_station.capacity     = 100 \n",
    "\n",
    "maintenance.calc()\n",
    "maintenance.__dict__"
   ]
  },
  {
   "cell_type": "markdown",
   "metadata": {},
   "source": [
    "## Energy consumption calc"
   ]
  },
  {
   "cell_type": "code",
   "execution_count": 45,
   "metadata": {},
   "outputs": [],
   "source": [
    "# create energy consumption class **will ultimately be placed in package**\n",
    "class energy_properties_mixin(object):\n",
    "    def __init__(self, price, *args, **kwargs):\n",
    "        super().__init__(*args, **kwargs)\n",
    "        self.year  = year\n",
    "        self.price = price\n",
    "\n",
    "# Initial data\n",
    "energy_data = {\"price\": 0.10}"
   ]
  },
  {
   "cell_type": "code",
   "execution_count": 46,
   "metadata": {},
   "outputs": [],
   "source": [
    "# define energy consumption class functions **will ultimately be placed in package**\n",
    "class energy_class(energy_properties_mixin):\n",
    "    def __init__(self, *args, **kwargs):\n",
    "        super().__init__(*args, **kwargs)\n",
    "    \n",
    "    def individual_calc(self, asset):\n",
    "        if \"consumption_calc\" in dir(asset) != False:\n",
    "            asset.consumption_calc()\n",
    "            return asset.consumption\n",
    "        else:\n",
    "            return 0\n",
    "            \n",
    "    def calc(self):\n",
    "        self.quay                = self.individual_calc(quay)\n",
    "        self.gantry_cranes       = self.individual_calc(gantry_cranes)\n",
    "        self.harbour_cranes      = self.individual_calc(harbour_cranes)\n",
    "        self.mobile_cranes       = self.individual_calc(mobile_cranes)\n",
    "        self.screw_unloaders     = self.individual_calc(screw_unloaders)\n",
    "        self.conveyor_quay       = self.individual_calc(conveyor_quay)\n",
    "        self.conveyor_hinterland = self.individual_calc(conveyor_hinterland)\n",
    "        self.silos               = self.individual_calc(silos)\n",
    "        self.warehouse           = self.individual_calc(warehouse)\n",
    "        self.loading_station     = self.individual_calc(loading_station)\n",
    "        \n",
    "        self.consumption = int(self.quay + self.gantry_cranes + self.harbour_cranes + self.mobile_cranes + self.screw_unloaders +\\\n",
    "                               self.conveyor_quay + self.conveyor_hinterland + self.silos + self.warehouse + self.loading_station)\n",
    "        self.total = int(self.consumption * self.price)"
   ]
  },
  {
   "cell_type": "code",
   "execution_count": 47,
   "metadata": {},
   "outputs": [],
   "source": [
    "# create objects **will ultimately be placed in notebook**\n",
    "energy = energy_class(**energy_data)"
   ]
  },
  {
   "cell_type": "code",
   "execution_count": 48,
   "metadata": {},
   "outputs": [
    {
     "data": {
      "text/plain": [
       "{'year': 2018,\n",
       " 'price': 0.1,\n",
       " 'quay': 0,\n",
       " 'gantry_cranes': 6181056,\n",
       " 'harbour_cranes': 2354688,\n",
       " 'mobile_cranes': 3398880,\n",
       " 'screw_unloaders': 2550912,\n",
       " 'conveyor_quay': 560640,\n",
       " 'conveyor_hinterland': 560640,\n",
       " 'silos': 2628000,\n",
       " 'warehouse': 876000,\n",
       " 'loading_station': 525600,\n",
       " 'consumption': 19636416,\n",
       " 'total': 1963641}"
      ]
     },
     "execution_count": 48,
     "metadata": {},
     "output_type": "execute_result"
    }
   ],
   "source": [
    "# [Test] energy \n",
    "quay.length                  = 1000\n",
    "gantry_cranes.quantity       = 1\n",
    "harbour_cranes.quantity      = 1\n",
    "mobile_cranes.quantity       = 1\n",
    "screw_unloaders.quantity     = 1\n",
    "conveyor_quay.capacity       = 1000\n",
    "conveyor_hinterland.capacity = 1000\n",
    "silos.capacity               = 100000 \n",
    "warehouse.capacity           = 100000\n",
    "loading_station.capacity     = 100 \n",
    "\n",
    "energy.calc()\n",
    "energy.__dict__"
   ]
  },
  {
   "cell_type": "markdown",
   "metadata": {},
   "source": [
    "## Demurrage calc"
   ]
  },
  {
   "cell_type": "code",
   "execution_count": 49,
   "metadata": {},
   "outputs": [],
   "source": [
    "# create demurrage class **will ultimately be placed in package**\n",
    "class demurrage_properties_mixin(object):\n",
    "    def __init__(self, *args, **kwargs):\n",
    "        super().__init__(*args, **kwargs)\n",
    "        self.year = year"
   ]
  },
  {
   "cell_type": "code",
   "execution_count": 50,
   "metadata": {},
   "outputs": [],
   "source": [
    "# define demurrage class functions **will ultimately be placed in package**\n",
    "class demurrage_class(demurrage_properties_mixin):\n",
    "    def __init__(self, *args, **kwargs):\n",
    "        super().__init__(*args, **kwargs)\n",
    "    \n",
    "    def individual_calc(self, vessel_type):\n",
    "        vessel_type.berth_time_calc()\n",
    "        return int(max(vessel_type.port_time - vessel_type.all_turn_time, 0) * vessel_type.demurrage_rate)\n",
    "       \n",
    "    def calc(self):\n",
    "        self.handysize = self.individual_calc(handysize)\n",
    "        self.handymax  = self.individual_calc(handymax)\n",
    "        self.panamax   = self.individual_calc(panamax)"
   ]
  },
  {
   "cell_type": "code",
   "execution_count": 51,
   "metadata": {},
   "outputs": [],
   "source": [
    "# create objects **will ultimately be placed in notebook**\n",
    "demurrage = demurrage_class()"
   ]
  },
  {
   "cell_type": "code",
   "execution_count": 55,
   "metadata": {},
   "outputs": [],
   "source": [
    "# [Test] demurrage \n",
    "\n",
    "#demurrage.calc()\n",
    "#demurrage.__dict__"
   ]
  },
  {
   "cell_type": "markdown",
   "metadata": {},
   "source": [
    "## Residual value calc"
   ]
  },
  {
   "cell_type": "code",
   "execution_count": null,
   "metadata": {},
   "outputs": [],
   "source": []
  },
  {
   "cell_type": "markdown",
   "metadata": {},
   "source": [
    "## Lease calc"
   ]
  },
  {
   "cell_type": "code",
   "execution_count": null,
   "metadata": {},
   "outputs": [],
   "source": []
  },
  {
   "cell_type": "markdown",
   "metadata": {},
   "source": [
    "## WACC calc"
   ]
  },
  {
   "cell_type": "code",
   "execution_count": null,
   "metadata": {},
   "outputs": [],
   "source": []
  },
  {
   "cell_type": "markdown",
   "metadata": {},
   "source": [
    "## Escalation calc"
   ]
  },
  {
   "cell_type": "code",
   "execution_count": null,
   "metadata": {},
   "outputs": [],
   "source": []
  },
  {
   "cell_type": "markdown",
   "metadata": {},
   "source": [
    "## Profit calc"
   ]
  },
  {
   "cell_type": "code",
   "execution_count": null,
   "metadata": {},
   "outputs": [],
   "source": []
  },
  {
   "cell_type": "markdown",
   "metadata": {},
   "source": [
    "## NPV calc"
   ]
  },
  {
   "cell_type": "code",
   "execution_count": null,
   "metadata": {},
   "outputs": [],
   "source": []
  },
  {
   "cell_type": "markdown",
   "metadata": {},
   "source": [
    "# Simulation"
   ]
  },
  {
   "cell_type": "code",
   "execution_count": 8,
   "metadata": {},
   "outputs": [
    {
     "ename": "NameError",
     "evalue": "name 'maize' is not defined",
     "output_type": "error",
     "traceback": [
      "\u001b[1;31m---------------------------------------------------------------------------\u001b[0m",
      "\u001b[1;31mNameError\u001b[0m                                 Traceback (most recent call last)",
      "\u001b[1;32m<ipython-input-8-aa4f81cebcba>\u001b[0m in \u001b[0;36m<module>\u001b[1;34m()\u001b[0m\n\u001b[0;32m     23\u001b[0m \u001b[0msigma_wheat\u001b[0m    \u001b[1;33m=\u001b[0m \u001b[1;36m0\u001b[0m\u001b[1;33m\u001b[0m\u001b[0m\n\u001b[0;32m     24\u001b[0m \u001b[1;33m\u001b[0m\u001b[0m\n\u001b[1;32m---> 25\u001b[1;33m \u001b[0mmaize\u001b[0m\u001b[1;33m.\u001b[0m\u001b[0mgenerate_forecast\u001b[0m  \u001b[1;33m(\u001b[0m\u001b[0mtrend_type\u001b[0m\u001b[1;33m,\u001b[0m \u001b[0myear\u001b[0m\u001b[1;33m,\u001b[0m \u001b[0mwindow\u001b[0m\u001b[1;33m,\u001b[0m \u001b[0mdemand_maize\u001b[0m\u001b[1;33m,\u001b[0m   \u001b[0mgrowth_maize\u001b[0m  \u001b[1;33m,\u001b[0m \u001b[0mrate_maize\u001b[0m\u001b[1;33m,\u001b[0m   \u001b[0mmu_maize\u001b[0m\u001b[1;33m,\u001b[0m   \u001b[0msigma_maize\u001b[0m\u001b[1;33m)\u001b[0m\u001b[1;33m\u001b[0m\u001b[0m\n\u001b[0m\u001b[0;32m     26\u001b[0m \u001b[0msoybean\u001b[0m\u001b[1;33m.\u001b[0m\u001b[0mgenerate_forecast\u001b[0m\u001b[1;33m(\u001b[0m\u001b[0mtrend_type\u001b[0m\u001b[1;33m,\u001b[0m \u001b[0myear\u001b[0m\u001b[1;33m,\u001b[0m \u001b[0mwindow\u001b[0m\u001b[1;33m,\u001b[0m \u001b[0mdemand_soybean\u001b[0m\u001b[1;33m,\u001b[0m \u001b[0mgrowth_soybean\u001b[0m\u001b[1;33m,\u001b[0m \u001b[0mrate_soybean\u001b[0m\u001b[1;33m,\u001b[0m \u001b[0mmu_soybean\u001b[0m\u001b[1;33m,\u001b[0m \u001b[0msigma_soybean\u001b[0m\u001b[1;33m)\u001b[0m\u001b[1;33m\u001b[0m\u001b[0m\n\u001b[0;32m     27\u001b[0m \u001b[0mwheat\u001b[0m\u001b[1;33m.\u001b[0m\u001b[0mgenerate_forecast\u001b[0m  \u001b[1;33m(\u001b[0m\u001b[0mtrend_type\u001b[0m\u001b[1;33m,\u001b[0m \u001b[0myear\u001b[0m\u001b[1;33m,\u001b[0m \u001b[0mwindow\u001b[0m\u001b[1;33m,\u001b[0m \u001b[0mdemand_wheat\u001b[0m\u001b[1;33m,\u001b[0m   \u001b[0mgrowth_wheat\u001b[0m  \u001b[1;33m,\u001b[0m \u001b[0mrate_wheat\u001b[0m\u001b[1;33m,\u001b[0m   \u001b[0mmu_wheat\u001b[0m\u001b[1;33m,\u001b[0m   \u001b[0msigma_wheat\u001b[0m\u001b[1;33m)\u001b[0m\u001b[1;33m\u001b[0m\u001b[0m\n",
      "\u001b[1;31mNameError\u001b[0m: name 'maize' is not defined"
     ]
    }
   ],
   "source": [
    "# initiate commodity forecast **will ultimately be placed in notebook**\n",
    "year           = 2018 # starting year\n",
    "window         = 20   # looking 20 years ahead\n",
    "trend_type     = 'linear'\n",
    "#trend_type    = 'probabilistic'\n",
    "\n",
    "demand_maize   = 1000000 # demand at t=0\n",
    "growth_maize   = 100000\n",
    "rate_maize     = 1.01    # growth rate\n",
    "mu_maize       = 0\n",
    "sigma_maize    = 0\n",
    "\n",
    "demand_soybean = 0 # demand at t=0\n",
    "growth_soybean = 0\n",
    "rate_soybean   = 0 # growth rate\n",
    "mu_soybean     = 0\n",
    "sigma_soybean  = 0\n",
    "\n",
    "demand_wheat   = 0 # demand at t=0\n",
    "growth_wheat   = 0\n",
    "rate_wheat     = 0 # growth rate\n",
    "mu_wheat       = 0\n",
    "sigma_wheat    = 0\n",
    "\n",
    "maize.generate_forecast  (trend_type, year, window, demand_maize,   growth_maize  , rate_maize,   mu_maize,   sigma_maize)\n",
    "soybean.generate_forecast(trend_type, year, window, demand_soybean, growth_soybean, rate_soybean, mu_soybean, sigma_soybean)\n",
    "wheat.generate_forecast  (trend_type, year, window, demand_wheat,   growth_wheat  , rate_wheat,   mu_wheat,   sigma_wheat)"
   ]
  }
 ],
 "metadata": {
  "kernelspec": {
   "display_name": "Python 3",
   "language": "python",
   "name": "python3"
  },
  "language_info": {
   "codemirror_mode": {
    "name": "ipython",
    "version": 3
   },
   "file_extension": ".py",
   "mimetype": "text/x-python",
   "name": "python",
   "nbconvert_exporter": "python",
   "pygments_lexer": "ipython3",
   "version": "3.6.5"
  }
 },
 "nbformat": 4,
 "nbformat_minor": 2
}
