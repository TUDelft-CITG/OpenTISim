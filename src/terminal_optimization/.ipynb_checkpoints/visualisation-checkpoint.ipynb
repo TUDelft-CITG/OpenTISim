{
 "cells": [
  {
   "cell_type": "code",
   "execution_count": 2,
   "metadata": {},
   "outputs": [],
   "source": [
    "import matplotlib.pyplot as plt"
   ]
  },
  {
   "cell_type": "code",
   "execution_count": null,
   "metadata": {},
   "outputs": [],
   "source": [
    "def plot_trend(maize, soybean, wheat, width, height):\n",
    "    fig  = plt.figure(figsize=(width, height))\n",
    "    grid = plt.GridSpec(1, 1, wspace=0.4, hspace=0.5)\n",
    "    fig1 = fig.add_subplot(grid[0, 0])\n",
    "\n",
    "    fig1.plot(maize.years, maize.demand    , label='Maize demand')\n",
    "    fig1.plot(soybean.years, soybean.demand, label='Soybean demand')\n",
    "    fig1.plot(wheat.years, wheat.demand    , label='Wheat demand')\n",
    "    fig1.set_title ('Commodity demand')\n",
    "    fig1.set_xlabel('Year')\n",
    "    fig1.set_ylabel('Demand [t/y]')\n",
    "    fig1.legend()\n",
    "\n",
    "    return fig1"
   ]
  },
  {
   "cell_type": "code",
   "execution_count": null,
   "metadata": {},
   "outputs": [],
   "source": [
    "def plot_capex(capex, width, height):\n",
    "    \n",
    "    x = []\n",
    "    y = []\n",
    "    for i in range (len(capex)):\n",
    "        x.append(capex.year)\n",
    "        y.append(capex.total)\n",
    "    \n",
    "    fig  = plt.figure(figsize=(width, height))\n",
    "    grid = plt.GridSpec(1, 1, wspace=0.4, hspace=0.5)\n",
    "    fig1 = fig.add_subplot(grid[0, 0])\n",
    "\n",
    "    fig1.plot(maize.years, maize.demand    , label='Maize demand')\n",
    "    fig1.plot(soybean.years, soybean.demand, label='Soybean demand')\n",
    "    fig1.plot(wheat.years, wheat.demand    , label='Wheat demand')\n",
    "    fig1.set_title ('Commodity demand')\n",
    "    fig1.set_xlabel('Year')\n",
    "    fig1.set_ylabel('Demand [t/y]')\n",
    "    fig1.legend()\n",
    "\n",
    "    return fig1"
   ]
  }
 ],
 "metadata": {
  "kernelspec": {
   "display_name": "Python 3",
   "language": "python",
   "name": "python3"
  },
  "language_info": {
   "codemirror_mode": {
    "name": "ipython",
    "version": 3
   },
   "file_extension": ".py",
   "mimetype": "text/x-python",
   "name": "python",
   "nbconvert_exporter": "python",
   "pygments_lexer": "ipython3",
   "version": "3.6.5"
  }
 },
 "nbformat": 4,
 "nbformat_minor": 2
}
