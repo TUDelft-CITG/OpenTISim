{
 "cells": [
  {
   "cell_type": "code",
   "execution_count": 1,
   "metadata": {},
   "outputs": [],
   "source": [
    "import numpy as np\n",
    "import pandas as pd"
   ]
  },
  {
   "cell_type": "code",
   "execution_count": 131,
   "metadata": {},
   "outputs": [],
   "source": [
    "operational_hours = 8760"
   ]
  },
  {
   "cell_type": "markdown",
   "metadata": {},
   "source": [
    "# Commodity Trends"
   ]
  },
  {
   "cell_type": "code",
   "execution_count": 137,
   "metadata": {},
   "outputs": [],
   "source": [
    "fname = 'Excel_input.xlsx'"
   ]
  },
  {
   "cell_type": "code",
   "execution_count": 192,
   "metadata": {},
   "outputs": [],
   "source": [
    "# create bulk commodities class\n",
    "class bulk_commodities:\n",
    "    def __init__(self, fname, commodity_name):\n",
    "        self.commodity_name = commodity_name\n",
    "        pass\n",
    "    \n",
    "    def get_forecast(self):\n",
    "        total_forecast  = pd.read_excel(fname, 'TF')\n",
    "        years           = total_forecast[\"Year\"]\n",
    "        self.start_year = years[0]\n",
    "        self.stop_year  = years[len(years)-1]\n",
    "        self.n_years    = len(years)\n",
    "        self.forecast   = total_forecast[self.commodity_name]\n",
    "        \n",
    "    def modal_split(self,):\n",
    "        modal_split               = pd.read_excel(fname, 'Vessel distribution')\n",
    "        if self.commodity_name == \"Maize\":\n",
    "            self.handysize_throughput = modal_split[\"Handysize maize\"]\n",
    "            self.handymax_throughput  = modal_split[\"Handymax maize\"]\n",
    "            self.panamax_throughput   = modal_split[\"Panamax maize\"]\n",
    "        if self.commodity_name == \"Soybeans\":\n",
    "            self.handysize_throughput = modal_split[\"Handysize soybeans\"]\n",
    "            self.handymax_throughput  = modal_split[\"Handymax soybeans\"]\n",
    "            self.panamax_throughput   = modal_split[\"Panamax soybeans\"]\n",
    "        if self.commodity_name == \"Wheat\":\n",
    "            self.handysize_throughput = modal_split[\"Handysize wheat\"]\n",
    "            self.handymax_throughput  = modal_split[\"Handymax wheat\"]\n",
    "            self.panamax_throughput   = modal_split[\"Panamax wheat\"]"
   ]
  },
  {
   "cell_type": "code",
   "execution_count": 143,
   "metadata": {},
   "outputs": [],
   "source": [
    "# create bulk commodities class\n",
    "class bulk_modal_splits:\n",
    "    def __init__(self, fname):\n",
    "        self.split_forecasts = pd.read_excel(fname, 'Vessel distribution')\n",
    "        self.years = self.split_forecasts[\"Year\"]\n",
    "        #self.start_year = years[0]\n",
    "        #self.stop_year  = years[len(years)-1]\n",
    "        #self.n_years    = len(years)\n",
    "        \n",
    "    def get_forecast(self,commodity_name):\n",
    "        # the hard coded columns 1:4, 4:7 and 7:10 indicate that the datamodel is not yet ideal\n",
    "        if commodity_name == \"Maize\":\n",
    "            return self.split_forecasts[modal_splits.split_forecasts.columns[1:4]]\n",
    "        if commodity_name == \"Soybeans\":\n",
    "            return self.split_forecasts[modal_splits.split_forecasts.columns[4:7]]\n",
    "        if commodity_name == \"Wheat\":\n",
    "            return self.split_forecasts[modal_splits.split_forecasts.columns[7:10]]"
   ]
  },
  {
   "cell_type": "code",
   "execution_count": null,
   "metadata": {},
   "outputs": [],
   "source": []
  },
  {
   "cell_type": "code",
   "execution_count": 193,
   "metadata": {},
   "outputs": [],
   "source": [
    "# get commodity forecast from XLS\n",
    "maize = bulk_commodities(fname, \"Maize\")\n",
    "\n",
    "# extract specifics for Maize\n",
    "#tf_maize = commodities.get_forecast(\"Maize\")"
   ]
  },
  {
   "cell_type": "code",
   "execution_count": 194,
   "metadata": {},
   "outputs": [
    {
     "data": {
      "text/plain": [
       "{'commodity_name': 'Maize'}"
      ]
     },
     "execution_count": 194,
     "metadata": {},
     "output_type": "execute_result"
    }
   ],
   "source": [
    "maize.__dict__"
   ]
  },
  {
   "cell_type": "code",
   "execution_count": 195,
   "metadata": {},
   "outputs": [
    {
     "ename": "KeyError",
     "evalue": "'Handymax maize'",
     "output_type": "error",
     "traceback": [
      "\u001b[1;31m---------------------------------------------------------------------------\u001b[0m",
      "\u001b[1;31mKeyError\u001b[0m                                  Traceback (most recent call last)",
      "\u001b[1;32mC:\\Python\\Anaconda\\envs\\ipykernel_py3\\lib\\site-packages\\pandas\\core\\indexes\\base.py\u001b[0m in \u001b[0;36mget_loc\u001b[1;34m(self, key, method, tolerance)\u001b[0m\n\u001b[0;32m   3077\u001b[0m             \u001b[1;32mtry\u001b[0m\u001b[1;33m:\u001b[0m\u001b[1;33m\u001b[0m\u001b[0m\n\u001b[1;32m-> 3078\u001b[1;33m                 \u001b[1;32mreturn\u001b[0m \u001b[0mself\u001b[0m\u001b[1;33m.\u001b[0m\u001b[0m_engine\u001b[0m\u001b[1;33m.\u001b[0m\u001b[0mget_loc\u001b[0m\u001b[1;33m(\u001b[0m\u001b[0mkey\u001b[0m\u001b[1;33m)\u001b[0m\u001b[1;33m\u001b[0m\u001b[0m\n\u001b[0m\u001b[0;32m   3079\u001b[0m             \u001b[1;32mexcept\u001b[0m \u001b[0mKeyError\u001b[0m\u001b[1;33m:\u001b[0m\u001b[1;33m\u001b[0m\u001b[0m\n",
      "\u001b[1;32mpandas/_libs/index.pyx\u001b[0m in \u001b[0;36mpandas._libs.index.IndexEngine.get_loc\u001b[1;34m()\u001b[0m\n",
      "\u001b[1;32mpandas/_libs/index.pyx\u001b[0m in \u001b[0;36mpandas._libs.index.IndexEngine.get_loc\u001b[1;34m()\u001b[0m\n",
      "\u001b[1;32mpandas/_libs/hashtable_class_helper.pxi\u001b[0m in \u001b[0;36mpandas._libs.hashtable.PyObjectHashTable.get_item\u001b[1;34m()\u001b[0m\n",
      "\u001b[1;32mpandas/_libs/hashtable_class_helper.pxi\u001b[0m in \u001b[0;36mpandas._libs.hashtable.PyObjectHashTable.get_item\u001b[1;34m()\u001b[0m\n",
      "\u001b[1;31mKeyError\u001b[0m: 'Handymax maize'",
      "\nDuring handling of the above exception, another exception occurred:\n",
      "\u001b[1;31mKeyError\u001b[0m                                  Traceback (most recent call last)",
      "\u001b[1;32m<ipython-input-195-597a068fcb71>\u001b[0m in \u001b[0;36m<module>\u001b[1;34m()\u001b[0m\n\u001b[0;32m      1\u001b[0m \u001b[0mmaize\u001b[0m\u001b[1;33m.\u001b[0m\u001b[0mget_forecast\u001b[0m\u001b[1;33m(\u001b[0m\u001b[1;33m)\u001b[0m\u001b[1;33m\u001b[0m\u001b[0m\n\u001b[1;32m----> 2\u001b[1;33m \u001b[0mmaize\u001b[0m\u001b[1;33m.\u001b[0m\u001b[0mmodal_split\u001b[0m\u001b[1;33m(\u001b[0m\u001b[1;33m)\u001b[0m\u001b[1;33m\u001b[0m\u001b[0m\n\u001b[0m",
      "\u001b[1;32m<ipython-input-192-aeedcb739166>\u001b[0m in \u001b[0;36mmodal_split\u001b[1;34m(self)\u001b[0m\n\u001b[0;32m     17\u001b[0m         \u001b[1;32mif\u001b[0m \u001b[0mself\u001b[0m\u001b[1;33m.\u001b[0m\u001b[0mcommodity_name\u001b[0m \u001b[1;33m==\u001b[0m \u001b[1;34m\"Maize\"\u001b[0m\u001b[1;33m:\u001b[0m\u001b[1;33m\u001b[0m\u001b[0m\n\u001b[0;32m     18\u001b[0m             \u001b[0mself\u001b[0m\u001b[1;33m.\u001b[0m\u001b[0mhandysize_throughput\u001b[0m \u001b[1;33m=\u001b[0m \u001b[0mmodal_split\u001b[0m\u001b[1;33m[\u001b[0m\u001b[1;34m\"Handysize maize\"\u001b[0m\u001b[1;33m]\u001b[0m\u001b[1;33m\u001b[0m\u001b[0m\n\u001b[1;32m---> 19\u001b[1;33m             \u001b[0mself\u001b[0m\u001b[1;33m.\u001b[0m\u001b[0mhandymax_throughput\u001b[0m  \u001b[1;33m=\u001b[0m \u001b[0mmodal_split\u001b[0m\u001b[1;33m[\u001b[0m\u001b[1;34m\"Handymax maize\"\u001b[0m\u001b[1;33m]\u001b[0m\u001b[1;33m\u001b[0m\u001b[0m\n\u001b[0m\u001b[0;32m     20\u001b[0m             \u001b[0mself\u001b[0m\u001b[1;33m.\u001b[0m\u001b[0mpanamax_throughput\u001b[0m   \u001b[1;33m=\u001b[0m \u001b[0mmodal_split\u001b[0m\u001b[1;33m[\u001b[0m\u001b[1;34m\"Panamax maize\"\u001b[0m\u001b[1;33m]\u001b[0m\u001b[1;33m\u001b[0m\u001b[0m\n\u001b[0;32m     21\u001b[0m         \u001b[1;32mif\u001b[0m \u001b[0mself\u001b[0m\u001b[1;33m.\u001b[0m\u001b[0mcommodity_name\u001b[0m \u001b[1;33m==\u001b[0m \u001b[1;34m\"Soybeans\"\u001b[0m\u001b[1;33m:\u001b[0m\u001b[1;33m\u001b[0m\u001b[0m\n",
      "\u001b[1;32mC:\\Python\\Anaconda\\envs\\ipykernel_py3\\lib\\site-packages\\pandas\\core\\frame.py\u001b[0m in \u001b[0;36m__getitem__\u001b[1;34m(self, key)\u001b[0m\n\u001b[0;32m   2686\u001b[0m             \u001b[1;32mreturn\u001b[0m \u001b[0mself\u001b[0m\u001b[1;33m.\u001b[0m\u001b[0m_getitem_multilevel\u001b[0m\u001b[1;33m(\u001b[0m\u001b[0mkey\u001b[0m\u001b[1;33m)\u001b[0m\u001b[1;33m\u001b[0m\u001b[0m\n\u001b[0;32m   2687\u001b[0m         \u001b[1;32melse\u001b[0m\u001b[1;33m:\u001b[0m\u001b[1;33m\u001b[0m\u001b[0m\n\u001b[1;32m-> 2688\u001b[1;33m             \u001b[1;32mreturn\u001b[0m \u001b[0mself\u001b[0m\u001b[1;33m.\u001b[0m\u001b[0m_getitem_column\u001b[0m\u001b[1;33m(\u001b[0m\u001b[0mkey\u001b[0m\u001b[1;33m)\u001b[0m\u001b[1;33m\u001b[0m\u001b[0m\n\u001b[0m\u001b[0;32m   2689\u001b[0m \u001b[1;33m\u001b[0m\u001b[0m\n\u001b[0;32m   2690\u001b[0m     \u001b[1;32mdef\u001b[0m \u001b[0m_getitem_column\u001b[0m\u001b[1;33m(\u001b[0m\u001b[0mself\u001b[0m\u001b[1;33m,\u001b[0m \u001b[0mkey\u001b[0m\u001b[1;33m)\u001b[0m\u001b[1;33m:\u001b[0m\u001b[1;33m\u001b[0m\u001b[0m\n",
      "\u001b[1;32mC:\\Python\\Anaconda\\envs\\ipykernel_py3\\lib\\site-packages\\pandas\\core\\frame.py\u001b[0m in \u001b[0;36m_getitem_column\u001b[1;34m(self, key)\u001b[0m\n\u001b[0;32m   2693\u001b[0m         \u001b[1;31m# get column\u001b[0m\u001b[1;33m\u001b[0m\u001b[1;33m\u001b[0m\u001b[0m\n\u001b[0;32m   2694\u001b[0m         \u001b[1;32mif\u001b[0m \u001b[0mself\u001b[0m\u001b[1;33m.\u001b[0m\u001b[0mcolumns\u001b[0m\u001b[1;33m.\u001b[0m\u001b[0mis_unique\u001b[0m\u001b[1;33m:\u001b[0m\u001b[1;33m\u001b[0m\u001b[0m\n\u001b[1;32m-> 2695\u001b[1;33m             \u001b[1;32mreturn\u001b[0m \u001b[0mself\u001b[0m\u001b[1;33m.\u001b[0m\u001b[0m_get_item_cache\u001b[0m\u001b[1;33m(\u001b[0m\u001b[0mkey\u001b[0m\u001b[1;33m)\u001b[0m\u001b[1;33m\u001b[0m\u001b[0m\n\u001b[0m\u001b[0;32m   2696\u001b[0m \u001b[1;33m\u001b[0m\u001b[0m\n\u001b[0;32m   2697\u001b[0m         \u001b[1;31m# duplicate columns & possible reduce dimensionality\u001b[0m\u001b[1;33m\u001b[0m\u001b[1;33m\u001b[0m\u001b[0m\n",
      "\u001b[1;32mC:\\Python\\Anaconda\\envs\\ipykernel_py3\\lib\\site-packages\\pandas\\core\\generic.py\u001b[0m in \u001b[0;36m_get_item_cache\u001b[1;34m(self, item)\u001b[0m\n\u001b[0;32m   2487\u001b[0m         \u001b[0mres\u001b[0m \u001b[1;33m=\u001b[0m \u001b[0mcache\u001b[0m\u001b[1;33m.\u001b[0m\u001b[0mget\u001b[0m\u001b[1;33m(\u001b[0m\u001b[0mitem\u001b[0m\u001b[1;33m)\u001b[0m\u001b[1;33m\u001b[0m\u001b[0m\n\u001b[0;32m   2488\u001b[0m         \u001b[1;32mif\u001b[0m \u001b[0mres\u001b[0m \u001b[1;32mis\u001b[0m \u001b[1;32mNone\u001b[0m\u001b[1;33m:\u001b[0m\u001b[1;33m\u001b[0m\u001b[0m\n\u001b[1;32m-> 2489\u001b[1;33m             \u001b[0mvalues\u001b[0m \u001b[1;33m=\u001b[0m \u001b[0mself\u001b[0m\u001b[1;33m.\u001b[0m\u001b[0m_data\u001b[0m\u001b[1;33m.\u001b[0m\u001b[0mget\u001b[0m\u001b[1;33m(\u001b[0m\u001b[0mitem\u001b[0m\u001b[1;33m)\u001b[0m\u001b[1;33m\u001b[0m\u001b[0m\n\u001b[0m\u001b[0;32m   2490\u001b[0m             \u001b[0mres\u001b[0m \u001b[1;33m=\u001b[0m \u001b[0mself\u001b[0m\u001b[1;33m.\u001b[0m\u001b[0m_box_item_values\u001b[0m\u001b[1;33m(\u001b[0m\u001b[0mitem\u001b[0m\u001b[1;33m,\u001b[0m \u001b[0mvalues\u001b[0m\u001b[1;33m)\u001b[0m\u001b[1;33m\u001b[0m\u001b[0m\n\u001b[0;32m   2491\u001b[0m             \u001b[0mcache\u001b[0m\u001b[1;33m[\u001b[0m\u001b[0mitem\u001b[0m\u001b[1;33m]\u001b[0m \u001b[1;33m=\u001b[0m \u001b[0mres\u001b[0m\u001b[1;33m\u001b[0m\u001b[0m\n",
      "\u001b[1;32mC:\\Python\\Anaconda\\envs\\ipykernel_py3\\lib\\site-packages\\pandas\\core\\internals.py\u001b[0m in \u001b[0;36mget\u001b[1;34m(self, item, fastpath)\u001b[0m\n\u001b[0;32m   4113\u001b[0m \u001b[1;33m\u001b[0m\u001b[0m\n\u001b[0;32m   4114\u001b[0m             \u001b[1;32mif\u001b[0m \u001b[1;32mnot\u001b[0m \u001b[0misna\u001b[0m\u001b[1;33m(\u001b[0m\u001b[0mitem\u001b[0m\u001b[1;33m)\u001b[0m\u001b[1;33m:\u001b[0m\u001b[1;33m\u001b[0m\u001b[0m\n\u001b[1;32m-> 4115\u001b[1;33m                 \u001b[0mloc\u001b[0m \u001b[1;33m=\u001b[0m \u001b[0mself\u001b[0m\u001b[1;33m.\u001b[0m\u001b[0mitems\u001b[0m\u001b[1;33m.\u001b[0m\u001b[0mget_loc\u001b[0m\u001b[1;33m(\u001b[0m\u001b[0mitem\u001b[0m\u001b[1;33m)\u001b[0m\u001b[1;33m\u001b[0m\u001b[0m\n\u001b[0m\u001b[0;32m   4116\u001b[0m             \u001b[1;32melse\u001b[0m\u001b[1;33m:\u001b[0m\u001b[1;33m\u001b[0m\u001b[0m\n\u001b[0;32m   4117\u001b[0m                 \u001b[0mindexer\u001b[0m \u001b[1;33m=\u001b[0m \u001b[0mnp\u001b[0m\u001b[1;33m.\u001b[0m\u001b[0marange\u001b[0m\u001b[1;33m(\u001b[0m\u001b[0mlen\u001b[0m\u001b[1;33m(\u001b[0m\u001b[0mself\u001b[0m\u001b[1;33m.\u001b[0m\u001b[0mitems\u001b[0m\u001b[1;33m)\u001b[0m\u001b[1;33m)\u001b[0m\u001b[1;33m[\u001b[0m\u001b[0misna\u001b[0m\u001b[1;33m(\u001b[0m\u001b[0mself\u001b[0m\u001b[1;33m.\u001b[0m\u001b[0mitems\u001b[0m\u001b[1;33m)\u001b[0m\u001b[1;33m]\u001b[0m\u001b[1;33m\u001b[0m\u001b[0m\n",
      "\u001b[1;32mC:\\Python\\Anaconda\\envs\\ipykernel_py3\\lib\\site-packages\\pandas\\core\\indexes\\base.py\u001b[0m in \u001b[0;36mget_loc\u001b[1;34m(self, key, method, tolerance)\u001b[0m\n\u001b[0;32m   3078\u001b[0m                 \u001b[1;32mreturn\u001b[0m \u001b[0mself\u001b[0m\u001b[1;33m.\u001b[0m\u001b[0m_engine\u001b[0m\u001b[1;33m.\u001b[0m\u001b[0mget_loc\u001b[0m\u001b[1;33m(\u001b[0m\u001b[0mkey\u001b[0m\u001b[1;33m)\u001b[0m\u001b[1;33m\u001b[0m\u001b[0m\n\u001b[0;32m   3079\u001b[0m             \u001b[1;32mexcept\u001b[0m \u001b[0mKeyError\u001b[0m\u001b[1;33m:\u001b[0m\u001b[1;33m\u001b[0m\u001b[0m\n\u001b[1;32m-> 3080\u001b[1;33m                 \u001b[1;32mreturn\u001b[0m \u001b[0mself\u001b[0m\u001b[1;33m.\u001b[0m\u001b[0m_engine\u001b[0m\u001b[1;33m.\u001b[0m\u001b[0mget_loc\u001b[0m\u001b[1;33m(\u001b[0m\u001b[0mself\u001b[0m\u001b[1;33m.\u001b[0m\u001b[0m_maybe_cast_indexer\u001b[0m\u001b[1;33m(\u001b[0m\u001b[0mkey\u001b[0m\u001b[1;33m)\u001b[0m\u001b[1;33m)\u001b[0m\u001b[1;33m\u001b[0m\u001b[0m\n\u001b[0m\u001b[0;32m   3081\u001b[0m \u001b[1;33m\u001b[0m\u001b[0m\n\u001b[0;32m   3082\u001b[0m         \u001b[0mindexer\u001b[0m \u001b[1;33m=\u001b[0m \u001b[0mself\u001b[0m\u001b[1;33m.\u001b[0m\u001b[0mget_indexer\u001b[0m\u001b[1;33m(\u001b[0m\u001b[1;33m[\u001b[0m\u001b[0mkey\u001b[0m\u001b[1;33m]\u001b[0m\u001b[1;33m,\u001b[0m \u001b[0mmethod\u001b[0m\u001b[1;33m=\u001b[0m\u001b[0mmethod\u001b[0m\u001b[1;33m,\u001b[0m \u001b[0mtolerance\u001b[0m\u001b[1;33m=\u001b[0m\u001b[0mtolerance\u001b[0m\u001b[1;33m)\u001b[0m\u001b[1;33m\u001b[0m\u001b[0m\n",
      "\u001b[1;32mpandas/_libs/index.pyx\u001b[0m in \u001b[0;36mpandas._libs.index.IndexEngine.get_loc\u001b[1;34m()\u001b[0m\n",
      "\u001b[1;32mpandas/_libs/index.pyx\u001b[0m in \u001b[0;36mpandas._libs.index.IndexEngine.get_loc\u001b[1;34m()\u001b[0m\n",
      "\u001b[1;32mpandas/_libs/hashtable_class_helper.pxi\u001b[0m in \u001b[0;36mpandas._libs.hashtable.PyObjectHashTable.get_item\u001b[1;34m()\u001b[0m\n",
      "\u001b[1;32mpandas/_libs/hashtable_class_helper.pxi\u001b[0m in \u001b[0;36mpandas._libs.hashtable.PyObjectHashTable.get_item\u001b[1;34m()\u001b[0m\n",
      "\u001b[1;31mKeyError\u001b[0m: 'Handymax maize'"
     ]
    }
   ],
   "source": [
    "maize.get_forecast()\n",
    "maize.modal_split()"
   ]
  },
  {
   "cell_type": "code",
   "execution_count": null,
   "metadata": {},
   "outputs": [],
   "source": [
    "# get modal split forecast from XLS\n",
    "modal_splits = bulk_modal_splits(fname)\n",
    "\n",
    "# extract specifics for Maize\n",
    "tf_mod_split = modal_splits.get_forecast(\"Maize\")"
   ]
  },
  {
   "cell_type": "markdown",
   "metadata": {},
   "source": [
    "# Vessels"
   ]
  },
  {
   "cell_type": "code",
   "execution_count": 3,
   "metadata": {},
   "outputs": [],
   "source": [
    "# create vessel class\n",
    "class vessel_properties_mixin(object):\n",
    "    def __init__(self, \n",
    "                 vessel_type, call_size, LOA, draft, beam, max_cranes, all_turn_time, mooring_time, demurrage, \n",
    "                 *args, **kwargs):\n",
    "        super().__init__(*args, **kwargs)\n",
    "        \"initialize\"\n",
    "        self.vessel_type   = vessel_type\n",
    "        self.call_size     = call_size \n",
    "        self.LOA           = LOA\n",
    "        self.draft         = draft\n",
    "        self.beam          = beam\n",
    "        self.max_cranes    = max_cranes\n",
    "        self.all_turn_time = all_turn_time\n",
    "        self.mooring_time  = mooring_time\n",
    "        self.demurrage     = demurrage\n",
    "    \n",
    "    \n",
    "# Initial data set, data from Excel_input.xlsx\n",
    "handysize_data = {\"vessel_type\": 'Handysize', \"call_size\": 35000, \n",
    "                  \"LOA\": 130, \"draft\": 10, \"beam\": 24, \"max_cranes\": 2, \n",
    "                  \"all_turn_time\": 24, \"mooring_time\": 3, \"demurrage\": 600}\n",
    "\n",
    "handymax_data = {\"vessel_type\": 'Handymax', \"call_size\": 50000, \n",
    "                  \"LOA\": 180, \"draft\": 11.5, \"beam\": 28, \"max_cranes\": 2, \n",
    "                  \"all_turn_time\": 24, \"mooring_time\": 3, \"demurrage\": 750}\n",
    "\n",
    "panamax_data = {\"vessel_type\": 'Panamax', \"call_size\": 65000, \n",
    "                  \"LOA\": 220, \"draft\": 13, \"beam\": 32.2, \"max_cranes\": 3, \n",
    "                  \"all_turn_time\": 36, \"mooring_time\": 4, \"demurrage\": 730} "
   ]
  },
  {
   "cell_type": "code",
   "execution_count": 129,
   "metadata": {},
   "outputs": [],
   "source": [
    "# create vessel class (will be moved to Port Model revamp notebook)\n",
    "class vessel(vessel_properties_mixin):\n",
    "    def __init__(self, *args, **kwargs):\n",
    "        super().__init__(*args, **kwargs)\n",
    "        \n",
    "# create objects\n",
    "handysize = vessel(**handysize_data)\n",
    "handymax = vessel(**handymax_data)\n",
    "panamax = vessel(**panamax_data)"
   ]
  },
  {
   "cell_type": "markdown",
   "metadata": {},
   "source": [
    "# Terminal Infrastructure"
   ]
  },
  {
   "cell_type": "markdown",
   "metadata": {},
   "source": [
    "## Quay wall"
   ]
  },
  {
   "cell_type": "code",
   "execution_count": 20,
   "metadata": {},
   "outputs": [],
   "source": [
    "# create quay wall class\n",
    "class quay_wall_properties_mixin(object):\n",
    "    def __init__(self, ownership, lifespan, unit_rate, mobilisation_min, mobilisation_perc, maintenance_perc, insurance_perc, length, delta, depth, max_cranes_per_berth, *args, **kwargs):\n",
    "        super().__init__(*args, **kwargs)\n",
    "        \"initialize\"\n",
    "        self.ownership            = ownership\n",
    "        self.lifespan             = lifespan\n",
    "        self.unit_rate            = unit_rate\n",
    "        self.mobilisation_min     = mobilisation_min\n",
    "        self.mobilisation_perc    = mobilisation_perc\n",
    "        self.maintenance_perc     = maintenance_perc\n",
    "        self.insurance_perc       = insurance_perc\n",
    "\n",
    "# Initial data set, data from Excel_input.xlsx\n",
    "quay_data = {\"ownership\": 'Port authority', \"lifespan\": 50, \"unit_rate\": 100000, \"mobilisation_min\": 2500000,\n",
    "             \"mobilisation_perc\": 0.02, \"maintenance_perc\": 0.01, \"insurance\": 0.01,} "
   ]
  },
  {
   "cell_type": "code",
   "execution_count": 78,
   "metadata": {},
   "outputs": [],
   "source": [
    "# create quay class (will be moved to Port Model revamp notebook)\n",
    "class quay_wall(quay_wall_properties_mixin):\n",
    "    def __init__(self, *args, **kwargs):\n",
    "        super().__init__(*args, **kwargs)\n",
    "    \n",
    "    def original_value_calc(self):\n",
    "        self.original_value = int(self.length * self.unit_rate) \n",
    "        \n",
    "    def mobilisation_calc():\n",
    "        self.mobilisation = int(max((self.delta * self.unit_rate * self.mobilisation_perc), self.mobilisation_min))\n",
    "        \n",
    "    def maintenance_calc(self):\n",
    "        self.maintenance = int(self.original_value * self.maintenance_perc)\n",
    "        \n",
    "    def insurance_calc(self):\n",
    "        self.insurance = int(self.original_value * self.insurance_perc)\n",
    "        \n",
    "    def delta_calc(self):\n",
    "        self.delta = 0\n",
    "        \n",
    "    def calcs(self):\n",
    "        self.original_value_calc()\n",
    "        self.mobilisation_calc()\n",
    "        self.maintenance_calc()\n",
    "        self.insurance_calc()\n",
    "        self.delta_calc()"
   ]
  },
  {
   "cell_type": "code",
   "execution_count": null,
   "metadata": {},
   "outputs": [],
   "source": [
    "# create objects\n",
    "quay = quay_wall(**quay_data)"
   ]
  },
  {
   "cell_type": "markdown",
   "metadata": {},
   "source": [
    "## Cranes (cyclic)"
   ]
  },
  {
   "cell_type": "code",
   "execution_count": 74,
   "metadata": {},
   "outputs": [],
   "source": [
    "# create cyclic loader class\n",
    "class cyclic_properties_mixin(object):\n",
    "    def __init__(self, ownership, lifespan, unit_rate, mobilisation_perc, maintenance_perc, insurance_perc, consumption, crew, unloader_type, lifting_capacity, hourly_cycles, eff_fact, *args, **kwargs):\n",
    "        super().__init__(*args, **kwargs)\n",
    "        \"initialize\"\n",
    "        self.ownership            = ownership\n",
    "        self.lifespan             = lifespan\n",
    "        self.unit_rate            = unit_rate\n",
    "        self.mobilisation_perc    = mobilisation_perc\n",
    "        self.mobilisation         = mobilisation_perc * unit_rate\n",
    "        self.maintenance_perc     = maintenance_perc\n",
    "        self.insurance_perc       = insurance_perc\n",
    "        self.consumption          = consumption\n",
    "        self.crew                 = crew\n",
    "        self.unloader_type        = unloader_type\n",
    "        self.lifting_capacity     = lifting_capacity\n",
    "        self.hourly_cycles        = hourly_cycles\n",
    "        self.eff_fact             = eff_fact \n",
    "        self.payload              = int(0.70 * self.lifting_capacity)      #Source: Nemag\n",
    "        self.peak_capacity        = int(self.payload * self.hourly_cycles) #Or as direct input \n",
    "        self.effective_capacity   = int(eff_fact * self.peak_capacity)     #Source: TATA steel\n",
    "\n",
    "# Initial data set, data from Excel_input.xlsx\n",
    "gantry_data        = {\"ownership\": 'Terminal operator', \"lifespan\": 40, \"unit_rate\": 19500000,\"mobilisation_perc\": 0.15, \n",
    "                      \"maintenance_perc\": 0.02, \"insurance_perc\": 0.01,\"consumption\": 0, \"crew\": 3, \n",
    "                      \"unloader_type\": 'Gantry crane', \"lifting_capacity\": 70, \"hourly_cycles\": 60, \"eff_fact\": 0.55}\n",
    "\n",
    "harbour_crane_data = {\"ownership\": 'Terminal operator', \"lifespan\": 40, \"unit_rate\": 1400000, \"mobilisation_perc\": 0.15, \n",
    "                      \"maintenance_perc\": 0.02, \"insurance_perc\": 0.01,\"consumption\": 0, \"crew\": 3, \n",
    "                      \"unloader_type\": 'Harbour crane crane', \"lifting_capacity\": 40, \"hourly_cycles\": 40, \"eff_fact\": 0.55}\n",
    "\n",
    "mobile_crane_data  = {\"ownership\": 'Terminal operator', \"lifespan\": 20, \"unit_rate\": 3325000,\"mobilisation_perc\": 0.15, \n",
    "                      \"maintenance_perc\": 0.031,\"insurance_perc\": 0.01,\"consumption\": 485, \"crew\": 3, \n",
    "                      \"unloader_type\": 'Mobile crane',\"lifting_capacity\": 60, \"hourly_cycles\": 30, \"eff_fact\": 0.55}"
   ]
  },
  {
   "cell_type": "code",
   "execution_count": 75,
   "metadata": {},
   "outputs": [],
   "source": [
    "# create crane class (will be moved to Port Model revamp notebook)\n",
    "class cyclic_unloader(cyclic_properties_mixin):\n",
    "    def __init__(self, *args, **kwargs):\n",
    "        super().__init__(*args, **kwargs)\n",
    "        \n",
    "    def total_capacity_calc(self):\n",
    "        self.total_peak_capacity = int(self.quantity * self.peak_capacity)\n",
    "        self.total_eff_capacity  = int(self.total_peak_capacity * self.eff_fact)\n",
    "    \n",
    "    def original_value_calc(self):\n",
    "        self.original_value = int(self.quantity * self.unit_rate) \n",
    "        \n",
    "    def lease_calc(self):\n",
    "        if self.unloader_type == 'Mobile crane':\n",
    "            self.lease = int(self.original_value * 0.10)\n",
    "        else:\n",
    "            return\n",
    "        \n",
    "    def maintenance_calc(self):\n",
    "        self.maintenance = int(self.original_value * self.maintenance_perc)\n",
    "        \n",
    "    def insurance_calc(self):\n",
    "        self.insurance = int(self.original_value * self.insurance_perc)\n",
    "        \n",
    "    def consumption_calc(self):\n",
    "        if self.unloader_type != 'Mobile crane':\n",
    "            self.consumption = int(0.3 * self.total_peak_capacity * operational_hours)\n",
    "        if self.unloader_type == 'Mobile crane':\n",
    "            self.consumption = int(485 * operational_hours)\n",
    "        \n",
    "    def shifts_calc(self):\n",
    "        self.shifts = int(np.ceil(operational_hours * self.crew / 6.5))\n",
    "        \n",
    "    def delta_calc(self):\n",
    "        self.delta = 0\n",
    "        \n",
    "    def calcs(self):\n",
    "        self.total_capacity_calc()\n",
    "        self.original_value_calc()\n",
    "        self.lease_calc()\n",
    "        self.maintenance_calc()\n",
    "        self.insurance_calc()\n",
    "        self.consumption_calc()\n",
    "        self.shifts_calc()\n",
    "        self.delta_calc()"
   ]
  },
  {
   "cell_type": "code",
   "execution_count": 77,
   "metadata": {},
   "outputs": [],
   "source": [
    "# create objects\n",
    "gantry_cranes   = cyclic_unloader(**gantry_data)\n",
    "harbour_cranes  = cyclic_unloader(**harbour_crane_data)  \n",
    "mobile_cranes   = cyclic_unloader(**mobile_crane_data) "
   ]
  },
  {
   "cell_type": "markdown",
   "metadata": {},
   "source": [
    "## Cranes (continuous)"
   ]
  },
  {
   "cell_type": "code",
   "execution_count": 76,
   "metadata": {},
   "outputs": [],
   "source": [
    "# create continuous loader class\n",
    "class continuous_properties_mixin(object):\n",
    "    def __init__(self, ownership, lifespan, unit_rate, mobilisation_perc, maintenance_perc, insurance_perc, crew, unloader_type, peak_capacity, eff_fact, *args, **kwargs):\n",
    "        super().__init__(*args, **kwargs)\n",
    "        \"initialize\"\n",
    "        self.ownership            = ownership\n",
    "        self.lifespan             = lifespan\n",
    "        self.unit_rate            = unit_rate\n",
    "        self.mobilisation_perc    = mobilisation_perc\n",
    "        self.mobilisation         = int(mobilisation_perc * unit_rate)\n",
    "        self.maintenance_perc     = maintenance_perc\n",
    "        self.insurance_perc       = insurance_perc\n",
    "        self.crew                 = crew\n",
    "        self.unloader_type        = unloader_type\n",
    "        self.peak_capacity        = peak_capacity\n",
    "        self.eff_fact             = eff_fact \n",
    "\n",
    "# Initial data set, data from Excel_input.xlsx\n",
    "continuous_screw_data = {\"ownership\": 'Terminal operator', \"lifespan\": 30, \"unit_rate\": 6900000, \"mobilisation_perc\": 0.15, \n",
    "                         \"maintenance_perc\": 0.02, \"insurance_perc\": 0.01, \"crew\": 2,\"unloader_type\": 'Screw unloader', \n",
    "                         \"peak_capacity\": 700, \"eff_fact\": 0.55}"
   ]
  },
  {
   "cell_type": "code",
   "execution_count": null,
   "metadata": {},
   "outputs": [],
   "source": [
    "# Create continuous crane class\n",
    "class continuous_unloader(continuous_properties_mixin):\n",
    "    \n",
    "    def __init__(self, *args, **kwargs):\n",
    "        super().__init__(*args, **kwargs)\n",
    "        \n",
    "    def total_capacity_calc(self):\n",
    "        self.total_peak_capacity = int(self.quantity * self.peak_capacity)\n",
    "        self.total_eff_capacity  = int(self.total_peak_capacity * self.eff_fact)\n",
    "    \n",
    "    def original_value_calc(self):\n",
    "        self.original_value = int(self.quantity * self.unit_rate) \n",
    "        \n",
    "    def maintenance_calc(self):\n",
    "        self.maintenance = int(self.original_value * self.maintenance_perc)\n",
    "        \n",
    "    def insurance_calc(self):\n",
    "        self.insurance = int(self.original_value * self.insurance_perc)\n",
    "        \n",
    "    def consumption_calc(self):\n",
    "        self.consumption = (0.52 * self.total_peak_capacity * operational_hours)\n",
    "        \n",
    "    def shifts_calc(self):\n",
    "        self.shifts = int(np.ceil(operational_hours * self.crew / 6.5))\n",
    "        \n",
    "    def delta_calc(self):\n",
    "        self.delta = 0\n",
    "        \n",
    "    def calcs(self):\n",
    "        self.total_capacity_calc()\n",
    "        self.original_value_calc()\n",
    "        self.maintenance_calc()\n",
    "        self.insurance_calc()\n",
    "        self.consumption_calc()\n",
    "        self.shifts_calc()\n",
    "        #self.delta_calc()"
   ]
  },
  {
   "cell_type": "code",
   "execution_count": 72,
   "metadata": {},
   "outputs": [],
   "source": [
    "# Create objects\n",
    "screw_unloaders = continuous_unloader(**continuous_screw_data)"
   ]
  },
  {
   "cell_type": "markdown",
   "metadata": {},
   "source": [
    "## Conveyors"
   ]
  },
  {
   "cell_type": "code",
   "execution_count": 117,
   "metadata": {},
   "outputs": [],
   "source": [
    "# Conveyor properties\n",
    "class conveyor_properties_mixin(object):\n",
    "    def __init__(self, ownership, lifespan, mobilisation, maintenance_perc, insurance_perc, crew, *args, **kwargs):\n",
    "        super().__init__(*args, **kwargs)\n",
    "        \"initialize\"\n",
    "        self.ownership            = ownership\n",
    "        self.lifespan             = lifespan\n",
    "        self.mobilisation         = mobilisation\n",
    "        self.maintenance_perc     = maintenance_perc\n",
    "        self.insurance_perc       = insurance_perc\n",
    "        self.crew                 = crew\n",
    "\n",
    "# Initial data set, data from Excel_input.xlsx\n",
    "conveyor_data = {\"ownership\": 'Terminal operator', \"lifespan\": 10, \"mobilisation\": 30000, \n",
    "                 \"maintenance_perc\": 0.10, \"insurance_perc\": 0.01, \"crew\": 0.5,}"
   ]
  },
  {
   "cell_type": "code",
   "execution_count": 120,
   "metadata": {},
   "outputs": [],
   "source": [
    "# create conveyor class (will be moved to Port Model revamp notebook)\n",
    "class conveyor(conveyor_properties_mixin):\n",
    "    def __init__(self, *args, **kwargs):\n",
    "        super().__init__(*args, **kwargs)\n",
    "        \n",
    "    def capacity_calc(self):\n",
    "        self.capacity = int(np.ceil((gantry_cranes.peak_capacity   * gantry_cranes.quantity +\\\n",
    "                                     harbour_cranes.peak_capacity  * harbour_cranes.quantity +\\\n",
    "                                     mobile_cranes.peak_capacity   * mobile_cranes.quantity +\\\n",
    "                                     screw_unloaders.peak_capacity * screw_unloaders.quantity)/400)*400)\n",
    "    \n",
    "    def unit_rate_calc(self):\n",
    "        self.unit_rate = int(6.0 * self.length)\n",
    "    \n",
    "    def original_value_calc(self):\n",
    "        self.original_value = int(self.capacity * self.unit_rate) \n",
    "        \n",
    "    def maintenance_calc(self):\n",
    "        self.maintenance = int(self.original_value * self.maintenance_perc)\n",
    "        \n",
    "    def insurance_calc(self):\n",
    "        self.insurance = int(self.original_value * self.insurance_perc)\n",
    "        \n",
    "    def consumption_calc(self):\n",
    "        self.consumption = int(0.08 * self.capacity * operational_hours)\n",
    "        \n",
    "    def shifts_calc(self):\n",
    "        self.shifts = int(np.ceil(operational_hours * self.crew / 6.5))\n",
    "        \n",
    "    def delta_calc(self):\n",
    "        self.delta = int(np.ceil((gantry_cranes.peak_capacity   * gantry_cranes.delta  +\\\n",
    "                                  harbour_cranes.peak_capacity  * harbour_cranes.delta +\\\n",
    "                                  mobile_cranes.peak_capacity   * mobile_cranes.delta  +\\\n",
    "                                  screw_unloaders.peak_capacity * screw_unloaders.delta)/400)*400)\n",
    "        \n",
    "    def calcs(self):\n",
    "        #self.capacity_calc()\n",
    "        self.unit_rate_calc()\n",
    "        self.original_value_calc()\n",
    "        self.maintenance_calc()\n",
    "        self.insurance_calc()\n",
    "        self.consumption_calc()\n",
    "        self.shifts_calc()\n",
    "        #self.delta_calc()"
   ]
  },
  {
   "cell_type": "code",
   "execution_count": 122,
   "metadata": {},
   "outputs": [],
   "source": [
    "# create objects   \n",
    "conveyor_quay       = conveyor(**conveyor_data)\n",
    "conveyor_hinterland = conveyor(**conveyor_data)\n",
    "\n",
    "conveyor_quay.length       = 500\n",
    "conveyor_hinterland.length = 500\n",
    "\n",
    "conveyor_quay.calcs()\n",
    "conveyor_hinterland.calcs()"
   ]
  },
  {
   "cell_type": "markdown",
   "metadata": {},
   "source": [
    "## Storage"
   ]
  },
  {
   "cell_type": "code",
   "execution_count": 86,
   "metadata": {},
   "outputs": [],
   "source": [
    "# create storage class\n",
    "class storage_properties_mixin(object):\n",
    "    def __init__(self, ownership, lifespan, unit_rate, mobilisation_min, mobilisation_perc, maintenance_perc, insurance_perc, storage_type, *args, **kwargs):\n",
    "        super().__init__(*args, **kwargs)\n",
    "        \"initialize\"\n",
    "        self.ownership            = ownership\n",
    "        self.lifespan             = lifespan\n",
    "        self.unit_rate            = unit_rate\n",
    "        self.mobilisation_min     = mobilisation_min\n",
    "        self.mobilisation_perc    = mobilisation_perc\n",
    "        self.maintenance_perc     = maintenance_perc\n",
    "        self.insurance_perc       = insurance_perc\n",
    "        self.storage_type         = storage_type\n",
    "        \n",
    "# Initial data set, data from Excel_input.xlsx\n",
    "silo_data      = {\"ownership\": 'Terminal operator', \"lifespan\": 30, \"unit_rate\": 60, \n",
    "                  \"mobilisation_min\": 200000, \"mobilisation_perc\": 0.02, \"maintenance_perc\": 0.02, \n",
    "                  \"insurance_perc\": 0.01, \"storage_type\": 'Silos'}\n",
    "warehouse_data = {\"ownership\": 'Terminal operator', \"lifespan\": 30, \"unit_rate\": 140,\n",
    "                  \"mobilisation_min\": 200000, \"mobilisation_perc\": 0.02, \"maintenance_perc\": 0.01, \n",
    "                  \"insurance_perc\": 0.01, \"storage_type\": 'Warehouse'}"
   ]
  },
  {
   "cell_type": "code",
   "execution_count": 125,
   "metadata": {},
   "outputs": [],
   "source": [
    "# create storage class (will be moved to Port Model revamp notebook)\n",
    "class storage(storage_properties_mixin):\n",
    "    def __init__(self, *args, **kwargs):\n",
    "        super().__init__(*args, **kwargs)\n",
    "    \n",
    "    def capacity_calc(self):\n",
    "        self.capacity = 0    \n",
    "    \n",
    "    def original_value_calc(self):\n",
    "        self.original_value = int(self.capacity * self.unit_rate) \n",
    "    \n",
    "    def mobilisation_calc(self):\n",
    "        self.mobilisation = int(max((self.delta * self.unit_rate * self.mobilisation_perc), self.mobilisation_min))\n",
    "        \n",
    "    def maintenance_calc(self):\n",
    "        self.maintenance = int(self.original_value * self.maintenance_perc)\n",
    "        \n",
    "    def insurance_calc(self):\n",
    "        self.insurance = int(self.original_value * self.insurance_perc)\n",
    "        \n",
    "    def consumption_calc(self):\n",
    "        if self.storage_type == 'Silos':\n",
    "            self.consumption = int(0.003 * self.capacity * operational_hours)\n",
    "        if self.storage_type == 'Warehouse':\n",
    "            self.consumption = int(0.001 * self.capacity * operational_hours)\n",
    "        \n",
    "    def shifts_calc(self):\n",
    "        if self.storage_type == 'Silos':\n",
    "            self.crew   = 0.00002 * self.capacity\n",
    "        if self.storage_type == 'Warehouse':\n",
    "            self.crew   = 0.00004 * self.capacity\n",
    "        self.shifts = int(np.ceil(operational_hours * self.crew / 6.5))\n",
    "        \n",
    "    def calcs(self):\n",
    "        self.capacity_calc()\n",
    "        self.original_value_calc()\n",
    "        self.mobilisation_calc()\n",
    "        self.maintenance_calc()\n",
    "        self.insurance_calc()\n",
    "        self.consumption_calc()\n",
    "        self.shifts_calc()"
   ]
  },
  {
   "cell_type": "code",
   "execution_count": 112,
   "metadata": {},
   "outputs": [],
   "source": [
    "# create objects       \n",
    "silos     = storage(**silo_data)\n",
    "warehouse = storage(**warehouse_data)"
   ]
  },
  {
   "cell_type": "markdown",
   "metadata": {},
   "source": [
    "## Loading Station"
   ]
  },
  {
   "cell_type": "code",
   "execution_count": 18,
   "metadata": {},
   "outputs": [],
   "source": [
    "# create loading station class\n",
    "class hinterland_station_properties_mixin(object):\n",
    "    def __init__(self, ownership, lifespan, unit_rate, mobilisation, maintenance_perc, insurance_perc, crew, *args, **kwargs):\n",
    "        super().__init__(*args, **kwargs)\n",
    "        \"initialize\"\n",
    "        self.ownership            = ownership\n",
    "        self.lifespan             = lifespan\n",
    "        self.unit_rate            = unit_rate\n",
    "        self.mobilisation         = mobilisation\n",
    "        self.maintenance_perc     = maintenance_perc\n",
    "        self.insurance_perc       = insurance_perc\n",
    "        self.crew                 = crew\n",
    "        \n",
    "# Initial data set, data from Excel_input.xlsx\n",
    "hinterland_station_data = {\"ownership\": 'Terminal operator', \"lifespan\": 15, \"unit_rate\": 4000, \"mobilisation\": 100000, \n",
    "                           \"maintenance_perc\": 0.02, \"insurance_perc\": 0.01, \"crew\": 2}"
   ]
  },
  {
   "cell_type": "code",
   "execution_count": 126,
   "metadata": {},
   "outputs": [],
   "source": [
    "# create storage class (will be moved to Port Model revamp notebook)\n",
    "class hinterland_station(hinterland_station_properties_mixin):\n",
    "    def __init__(self, *args, **kwargs):\n",
    "        super().__init__(*args, **kwargs)\n",
    "        \n",
    "    def capacity_calc(self):\n",
    "        self.capacity = 0    \n",
    "    \n",
    "    def original_value_calc(self):\n",
    "        self.original_value = int(self.capacity * self.unit_rate) \n",
    "        \n",
    "    def maintenance_calc(self):\n",
    "        self.maintenance = int(self.original_value * self.maintenance_perc)\n",
    "        \n",
    "    def insurance_calc(self):\n",
    "        self.insurance = int(self.original_value * self.insurance_perc)\n",
    "        \n",
    "    def consumption_calc(self):\n",
    "        self.consumption = int(0.75 * self.capacity * operational_hours)\n",
    "        \n",
    "    def shifts_calc(self):\n",
    "        self.shifts = int(np.ceil(operational_hours * self.crew / 6.5))\n",
    "        \n",
    "    def calcs(self):\n",
    "        self.capacity_calc()\n",
    "        self.original_value_calc()\n",
    "        self.maintenance_calc()\n",
    "        self.insurance_calc()\n",
    "        self.consumption_calc()\n",
    "        self.shifts_calc()"
   ]
  },
  {
   "cell_type": "code",
   "execution_count": 130,
   "metadata": {},
   "outputs": [],
   "source": [
    "# create objects\n",
    "loading_station = hinterland_station(**hinterland_station_data)"
   ]
  },
  {
   "cell_type": "markdown",
   "metadata": {},
   "source": [
    "# Business Logic"
   ]
  },
  {
   "cell_type": "code",
   "execution_count": null,
   "metadata": {},
   "outputs": [],
   "source": []
  },
  {
   "cell_type": "code",
   "execution_count": null,
   "metadata": {},
   "outputs": [],
   "source": []
  },
  {
   "cell_type": "code",
   "execution_count": null,
   "metadata": {},
   "outputs": [],
   "source": []
  },
  {
   "cell_type": "code",
   "execution_count": null,
   "metadata": {},
   "outputs": [],
   "source": []
  },
  {
   "cell_type": "code",
   "execution_count": null,
   "metadata": {},
   "outputs": [],
   "source": []
  }
 ],
 "metadata": {
  "kernelspec": {
   "display_name": "Python 3",
   "language": "python",
   "name": "python3"
  },
  "language_info": {
   "codemirror_mode": {
    "name": "ipython",
    "version": 3
   },
   "file_extension": ".py",
   "mimetype": "text/x-python",
   "name": "python",
   "nbconvert_exporter": "python",
   "pygments_lexer": "ipython3",
   "version": "3.6.6"
  }
 },
 "nbformat": 4,
 "nbformat_minor": 2
}
