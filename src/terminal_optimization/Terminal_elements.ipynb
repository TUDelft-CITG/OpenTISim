{
 "cells": [
  {
   "cell_type": "markdown",
   "metadata": {},
   "source": [
    "## Vessels"
   ]
  },
  {
   "cell_type": "code",
   "execution_count": 20,
   "metadata": {},
   "outputs": [],
   "source": [
    "# create vessel class\n",
    "class vessel_properties_mixin(object):\n",
    "    def __init__(self, \n",
    "                 vessel_type, call_size, LOA, draft, beam, max_cranes, all_turn_time, mooring_time, demurrage, \n",
    "                 *args, **kwargs):\n",
    "        super().__init__(*args, **kwargs)\n",
    "        \"initialize\"\n",
    "        self.vessel_type   = vessel_type\n",
    "        self.call_size     = call_size \n",
    "        self.LOA           = LOA\n",
    "        self.draft         = draft\n",
    "        self.beam          = beam\n",
    "        self.max_cranes    = max_cranes\n",
    "        self.all_turn_time = all_turn_time\n",
    "        self.mooring_time  = mooring_time\n",
    "        self.demurrage     = demurrage\n",
    "    \n",
    "    \n",
    "# Since this is presumably not very variable input it can be standardized as followed\n",
    "\n",
    "handysize_data = {\"vessel_type\": 'Handysize', \"call_size\": 35000, \n",
    "                  \"LOA\": 130, \"draft\": 10, \"beam\": 24, \"max_cranes\": 2, \n",
    "                  \"all_turn_time\": 24, \"mooring_time\": 3, \"demurrage\": 600} \n",
    "handymax_data = {\"vessel_type\": 'Handymax', \"call_size\": 50000, \n",
    "                  \"LOA\": 180, \"draft\": 11.5, \"beam\": 28, \"max_cranes\": 2, \n",
    "                  \"all_turn_time\": 24, \"mooring_time\": 3, \"demurrage\": 750} \n",
    "panamax_data = {\"vessel_type\": 'Panamax', \"call_size\": 65000, \n",
    "                  \"LOA\": 220, \"draft\": 13, \"beam\": 32.2, \"max_cranes\": 3, \n",
    "                  \"all_turn_time\": 36, \"mooring_time\": 4, \"demurrage\": 730} "
   ]
  },
  {
   "cell_type": "code",
   "execution_count": 21,
   "metadata": {},
   "outputs": [],
   "source": [
    "# create vessel class\n",
    "class vessel(vessel_properties_mixin):\n",
    "    def __init__(self, *args, **kwargs):\n",
    "        super().__init__(*args, **kwargs)"
   ]
  },
  {
   "cell_type": "code",
   "execution_count": 23,
   "metadata": {},
   "outputs": [],
   "source": [
    "# here I created a JSON to prepare the inputs. \n",
    "# Since this is presumably not very variable input it can be standardized like this.\n",
    "\n",
    "# create input\n",
    "\n",
    "\n",
    "# create objects\n",
    "handysize = vessel(**handysize_data)\n",
    "handymax = vessel(**handymax_data)\n",
    "panamax = vessel(**panamax_data)\n",
    "\n",
    "# print object dicts\n",
    "# print(handysize.__dict__)\n",
    "# print(handymax.__dict__)\n",
    "# print(panamax.__dict__)"
   ]
  },
  {
   "cell_type": "markdown",
   "metadata": {},
   "source": [
    "## Quay wall"
   ]
  },
  {
   "cell_type": "code",
   "execution_count": 13,
   "metadata": {},
   "outputs": [],
   "source": [
    "# create quay wall class\n",
    "class quay_wall(object):\n",
    "    def __init__(self, ownership, lifespan, unit_rate, mobilisation, mobilisation_perc, maintenance, length, depth, *args, **kwargs):\n",
    "        super().__init__(*args, **kwargs)\n",
    "        \"initialize\"\n",
    "        self.ownership         = ownership\n",
    "        self.lifespan          = lifespan\n",
    "        self.unit_rate         = unit_rate\n",
    "        self.mobilisation      = mobilisation\n",
    "        self.mobilisation_perc = mobilisation_perc\n",
    "        self.maintenance       = maintenance\n",
    "        self.length            = length\n",
    "        self.depth             = depth"
   ]
  },
  {
   "cell_type": "markdown",
   "metadata": {},
   "source": [
    "## Cranes"
   ]
  },
  {
   "cell_type": "code",
   "execution_count": 14,
   "metadata": {},
   "outputs": [],
   "source": [
    "# create cyclic loader class\n",
    "class cyclic_properties_mixin(object):\n",
    "    def __init__(self, ownership, lifespan, unit_rate, mobilisation, maintenance, consumption, crew, unloader_type, lifting_capacity, hourly_cycles, eff_fact, quantity, *args, **kwargs):\n",
    "        super().__init__(*args, **kwargs)\n",
    "        \"initialize\"\n",
    "        self.ownership          = ownership\n",
    "        self.lifespan           = lifespan\n",
    "        self.unit_rate          = unit_rate\n",
    "        self.mobilisation       = mobilisation\n",
    "        self.maintenance        = maintenance\n",
    "        self.consumption        = consumption\n",
    "        self.crew               = crew\n",
    "        self.unloader_type      = unloader_type\n",
    "        self.lifting_capacity   = lifting_capacity\n",
    "        self.hourly_cycles      = hourly_cycles\n",
    "        self.eff_fact           = eff_fact \n",
    "        self.payload            = 0.70 * self.lifting_capacity      #Source: Nemag\n",
    "        self.peak_capacity      = self.payload * self.hourly_cycles #Or as direct input \n",
    "        self.effective_capacity = eff_fact * self.peak_capacity     #Source: TATA steel\n",
    "        self.quantity           = quantity\n",
    "        \n",
    "        \n",
    "# create continuous loader class\n",
    "class continuous_properties_mixin(object):\n",
    "    def __init__(self, ownership, lifespan, unit_rate, mobilisation, maintenance, consumption, crew, unloader_type, peak_capacity, eff_fact, quantity, *args, **kwargs):\n",
    "        super().__init__(*args, **kwargs)\n",
    "        \"initialize\"\n",
    "        self.ownership          = ownership\n",
    "        self.lifespan           = lifespan\n",
    "        self.unit_rate          = unit_rate\n",
    "        self.mobilisation       = mobilisation\n",
    "        self.maintenance        = maintenance\n",
    "        self.consumption        = consumption\n",
    "        self.crew               = crew\n",
    "        self.unloader_type      = unloader_type\n",
    "        self.peak_capacity      = peak_capacity\n",
    "        self.eff_fact           = eff_fact \n",
    "        self.effective_capacity = eff_fact * self.peak_capacity     #Source: TATA steel\n",
    "        self.quantity           = quantity     "
   ]
  },
  {
   "cell_type": "markdown",
   "metadata": {},
   "source": [
    "## Conveyors"
   ]
  },
  {
   "cell_type": "code",
   "execution_count": 15,
   "metadata": {},
   "outputs": [],
   "source": [
    "# create quay wall class\n",
    "class conveyor_properties_mixin(object):\n",
    "    def __init__(self, ownership, lifespan, unit_rate, mobilisation, maintenance, consumption, crew, length, quantity, *args, **kwargs):\n",
    "        super().__init__(*args, **kwargs)\n",
    "        \"initialize\"\n",
    "        self.ownership         = ownership\n",
    "        self.lifespan          = lifespan\n",
    "        self.unit_rate         = unit_rate\n",
    "        self.mobilisation      = mobilisation\n",
    "        self.maintenance       = maintenance\n",
    "        self.consumption       = consumption\n",
    "        self.crew              = crew\n",
    "        self.length            = length\n",
    "        self.quantity          = quantity"
   ]
  },
  {
   "cell_type": "markdown",
   "metadata": {},
   "source": [
    "## Storage"
   ]
  },
  {
   "cell_type": "code",
   "execution_count": 16,
   "metadata": {},
   "outputs": [],
   "source": [
    "# create storage class\n",
    "class storage_properties_mixin(object):\n",
    "    def __init__(self, ownership, lifespan, unit_rate, mobilisation, mobilisation_perc, maintenance, consumption, crew, storage_type, capacity, *args, **kwargs):\n",
    "        super().__init__(*args, **kwargs)\n",
    "        \"initialize\"\n",
    "        self.ownership         = ownership\n",
    "        self.lifespan          = lifespan\n",
    "        self.unit_rate         = unit_rate\n",
    "        self.mobilisation      = mobilisation\n",
    "        self.mobilisation_perc = mobilisation_perc\n",
    "        self.maintenance       = maintenance\n",
    "        self.consumption       = consumption\n",
    "        self.crew              = crew\n",
    "        self.storage_type      = storage_type\n",
    "        self.capacity          = capacity"
   ]
  },
  {
   "cell_type": "markdown",
   "metadata": {},
   "source": [
    "## Loading Station"
   ]
  },
  {
   "cell_type": "code",
   "execution_count": 17,
   "metadata": {},
   "outputs": [],
   "source": [
    "# create loading station class\n",
    "class loading_station_properties_mixin(object):\n",
    "    def __init__(self, ownership, lifespan, unit_rate, mobilisation, maintenance, consumption, crew, capacity, *args, **kwargs):\n",
    "        super().__init__(*args, **kwargs)\n",
    "        \"initialize\"\n",
    "        self.ownership         = ownership\n",
    "        self.lifespan          = lifespan\n",
    "        self.unit_rate         = unit_rate\n",
    "        self.mobilisation      = mobilisation\n",
    "        self.maintenance       = maintenance\n",
    "        self.consumption       = consumption\n",
    "        self.crew              = crew\n",
    "        self.capacity          = capacity"
   ]
  },
  {
   "cell_type": "markdown",
   "metadata": {},
   "source": []
  },
  {
   "cell_type": "markdown",
   "metadata": {},
   "source": []
  },
  {
   "cell_type": "markdown",
   "metadata": {},
   "source": []
  },
  {
   "cell_type": "markdown",
   "metadata": {},
   "source": []
  },
  {
   "cell_type": "markdown",
   "metadata": {},
   "source": []
  },
  {
   "cell_type": "markdown",
   "metadata": {},
   "source": []
  },
  {
   "cell_type": "markdown",
   "metadata": {},
   "source": []
  },
  {
   "cell_type": "markdown",
   "metadata": {},
   "source": []
  },
  {
   "cell_type": "code",
   "execution_count": null,
   "metadata": {},
   "outputs": [],
   "source": [
    "class "
   ]
  }
 ],
 "metadata": {
  "kernelspec": {
   "display_name": "Python 3",
   "language": "python",
   "name": "python3"
  },
  "language_info": {
   "codemirror_mode": {
    "name": "ipython",
    "version": 3
   },
   "file_extension": ".py",
   "mimetype": "text/x-python",
   "name": "python",
   "nbconvert_exporter": "python",
   "pygments_lexer": "ipython3",
   "version": "3.6.6"
  }
 },
 "nbformat": 4,
 "nbformat_minor": 2
}
