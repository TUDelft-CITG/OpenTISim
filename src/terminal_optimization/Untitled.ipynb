{
 "cells": [
  {
   "cell_type": "code",
   "execution_count": null,
   "metadata": {},
   "outputs": [],
   "source": [
    "\n",
    "        # Determine the unloading capacity of each berth\n",
    "        berth_service_rate = []\n",
    "        for i in range (len(berths)):\n",
    "            service_rate = []\n",
    "            for j in range(4):\n",
    "                for k in range(len(cranes[j])):\n",
    "                    if cranes[j][k].berth == i+1:\n",
    "                        service_rate.append(cranes[j][k].effective_capacity)                  \n",
    "            berth_service_rate.append(int(np.sum(service_rate)))\n",
    "        total_service_rate = np.sum(berth_service_rate)\n",
    "        \n",
    "        # Traffic distribution according to ratio service rate of each berth\n",
    "        traffic_ratio = []\n",
    "        for i in range (len(berths)):\n",
    "            traffic_ratio.append(berth_service_rate[i]/total_service_rate)\n",
    "            \n",
    "        # Determine total time that vessels are at each berth\n",
    "        occupancy = []\n",
    "        service_times = []\n",
    "        for i in range (len(berths)):            \n",
    "            berth_time = []\n",
    "            for j in range (3):\n",
    "                calls          = vessels[j].calls[timestep] * traffic_ratio[i]\n",
    "                service_time   = vessels[j].call_size / berth_service_rate[i]\n",
    "                mooring_time   = vessels[j].mooring_time\n",
    "                time_at_berth  = service_time + mooring_time\n",
    "                berth_time.append(time_at_berth * calls)\n",
    "            berth_time = np.sum(berth_time)\n",
    "            service_times.append(service_time)\n",
    "            occupancy.append(berth_time / operational_hours)\n",
    "        \n",
    "        # Determine the waiting time of each vessel type\n",
    "        waiting_times = []\n",
    "        waiting_factors = []\n",
    "        for i in range (len(berths)):    \n",
    "            factor = berths[0].occupancy_to_waitingfactor(occupancy[i], len(berths))\n",
    "            vessel_wait_times = []\n",
    "            for j in range (3):\n",
    "                calls           = vessels[j].calls[timestep] * traffic_ratio[i]\n",
    "                service_time    = vessels[j].call_size / berth_service_rate[i]\n",
    "                individual_wait = service_time * factor\n",
    "                vessel_wait_times.append(individual_wait)\n",
    "            waiting_times.append(max(vessel_wait_times))\n",
    "            waiting_factors.append(factor)"
   ]
  }
 ],
 "metadata": {
  "kernelspec": {
   "display_name": "Python 3",
   "language": "python",
   "name": "python3"
  },
  "language_info": {
   "codemirror_mode": {
    "name": "ipython",
    "version": 3
   },
   "file_extension": ".py",
   "mimetype": "text/x-python",
   "name": "python",
   "nbconvert_exporter": "python",
   "pygments_lexer": "ipython3",
   "version": "3.6.5"
  }
 },
 "nbformat": 4,
 "nbformat_minor": 2
}
