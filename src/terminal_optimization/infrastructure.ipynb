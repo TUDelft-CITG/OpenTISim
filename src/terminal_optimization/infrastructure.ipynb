{
 "cells": [
  {
   "cell_type": "code",
   "execution_count": 1,
   "metadata": {},
   "outputs": [],
   "source": [
    "import numpy as np\n",
    "import pandas as pd"
   ]
  },
  {
   "cell_type": "markdown",
   "metadata": {},
   "source": [
    "# Terminal Infrastructure classes"
   ]
  },
  {
   "cell_type": "markdown",
   "metadata": {},
   "source": [
    "### Quay wall"
   ]
  },
  {
   "cell_type": "code",
   "execution_count": 3,
   "metadata": {},
   "outputs": [],
   "source": [
    "# create quay wall class\n",
    "class quay_wall_properties_mixin(object):\n",
    "    def __init__(self, t0_length, ownership, delivery_time, lifespan, mobilisation_min, mobilisation_perc, \n",
    "                 maintenance_perc, insurance_perc, length, depth, freeboard, Gijt_constant, Gijt_coefficient, *args, **kwargs):\n",
    "        super().__init__(*args, **kwargs)\n",
    "        \"initialize\"\n",
    "        self.t0_length            = t0_length\n",
    "        self.ownership            = ownership\n",
    "        self.delivery_time        = delivery_time\n",
    "        self.lifespan             = lifespan\n",
    "        self.mobilisation_min     = mobilisation_min\n",
    "        self.mobilisation_perc    = mobilisation_perc\n",
    "        self.maintenance_perc     = maintenance_perc\n",
    "        self.insurance_perc       = insurance_perc\n",
    "        self.length               = length\n",
    "        self.depth                = depth\n",
    "        self.freeboard            = freeboard\n",
    "        self.Gijt_constant        = Gijt_constant\n",
    "        self.Gijt_coefficient     = Gijt_coefficient\n",
    "\n",
    "# Initial data set, data from Excel_input.xlsx\n",
    "quay_data = {\"t0_length\": 0, \"ownership\": 'Port authority', \"delivery_time\": 2, \"lifespan\": 50, \"mobilisation_min\": 2500000,\n",
    "             \"mobilisation_perc\": 0.02, \"maintenance_perc\": 0.01, \"insurance_perc\": 0.01,\"length\": 400, \"depth\": 14,\n",
    "             \"freeboard\": 4, \"Gijt_constant\": 757.20, \"Gijt_coefficient\": 1.2878} "
   ]
  },
  {
   "cell_type": "code",
   "execution_count": 4,
   "metadata": {},
   "outputs": [],
   "source": [
    "# define quay wall class functions\n",
    "class quay_wall_class(quay_wall_properties_mixin):\n",
    "    def __init__(self, *args, **kwargs):\n",
    "        super().__init__(*args, **kwargs)\n",
    "\n",
    "        \n",
    "    def insurance_calc(self):\n",
    "        self.insurance = int(self.original_value * self.insurance_perc)"
   ]
  },
  {
   "cell_type": "code",
   "execution_count": 5,
   "metadata": {},
   "outputs": [],
   "source": [
    "# create quay object\n",
    "quay_object = quay_wall_class(**quay_data)"
   ]
  },
  {
   "cell_type": "markdown",
   "metadata": {},
   "source": [
    "### Berths"
   ]
  },
  {
   "cell_type": "code",
   "execution_count": 6,
   "metadata": {},
   "outputs": [],
   "source": [
    "# create berth class\n",
    "class berth_properties_mixin(object):\n",
    "    def __init__(self, t0_quantity, crane_type, crane_config, *args, **kwargs):\n",
    "        super().__init__(*args, **kwargs)\n",
    "        self.t0_quantity   = t0_quantity\n",
    "        self.crane_type    = crane_type\n",
    "        self.crane_config  = crane_config\n",
    "        self.delivery_time = quay_object.delivery_time\n",
    "        \n",
    "# Initial data set, data from Excel_input.xlsx\n",
    "berth_data = {\"t0_quantity\": 0, \"crane_type\": 'Gantry cranes', \"crane_config\": 'maximum'}"
   ]
  },
  {
   "cell_type": "code",
   "execution_count": 7,
   "metadata": {},
   "outputs": [],
   "source": [
    "# define berth functions \n",
    "class berth_class(berth_properties_mixin):\n",
    "\n",
    "    def __init__(self, *args, **kwargs):\n",
    "        super().__init__(*args, **kwargs)\n",
    "        \n",
    "    def LOA_calc(self, handysize, handymax, panamax, timestep):\n",
    "        if panamax.calls[timestep] != 0:\n",
    "            return panamax.LOA\n",
    "        elif panamax.calls[timestep] == 0 and handymax.calls[timestep] != 0:\n",
    "            return handymax.LOA\n",
    "        else:\n",
    "            return handysize.LOA\n",
    "\n",
    "    def vessel_depth_calc(self, handysize, handymax, panamax, timestep):\n",
    "        if panamax.calls[timestep] != 0:\n",
    "            return panamax.draft\n",
    "        elif panamax.calls[timestep] == 0 and handymax.calls[timestep] != 0:\n",
    "            return handymax.draft\n",
    "        else:\n",
    "            return handysize.draft\n",
    "\n",
    "    def length_calc(self, max_LOA, berths):      \n",
    "        if len(berths) == 1:\n",
    "            return max_LOA + 15 + 15 \n",
    "        else:\n",
    "            return max_LOA + 15\n",
    "\n",
    "    def depth_calc(self, max_draft):\n",
    "        return max_draft + 1\n",
    "        \n",
    "    def cranes_calc(self, handysize, handymax, panamax, timestep):\n",
    "        if self.crane_config == 'maximum': \n",
    "            if panamax.calls[timestep] != 0:\n",
    "                self.n_cranes = panamax.max_cranes\n",
    "            elif panamax.calls[timestep] == 0 and handymax.calls[timestep] != 0:\n",
    "                self.n_cranes = handymax.max_cranes\n",
    "            else:\n",
    "                self.n_cranes = handysize.max_cranes\n",
    "        \n",
    "    def eff_unloading_rate_calc(self, cranes):\n",
    "        if self.crane_type == 'Gantry cranes':\n",
    "            return cranes[0][0].effective_capacity * self.n_cranes\n",
    "        if self.crane_type == 'Harbour cranes':\n",
    "            return cranes[1][0].effective_capacity * self.n_cranes\n",
    "        if self.crane_type == 'Mobile cranes':\n",
    "            return cranes[2][0].effective_capacity * self.n_cranes\n",
    "        if self.crane_type == 'Screw unloaders':\n",
    "            return cranes[3][0].effective_capacity * self.n_cranes\n",
    "        \n",
    "    def peak_unloading_rate_calc(self, cranes):\n",
    "        if self.crane_type == 'Gantry cranes':\n",
    "            return cranes[0][0].peak_capacity * self.n_cranes\n",
    "        if self.crane_type == 'Harbour cranes':\n",
    "            return cranes[1][0].peak_capacity * self.n_cranes\n",
    "        if self.crane_type == 'Mobile cranes':\n",
    "            return cranes[2][0].peak_capacity * self.n_cranes\n",
    "        if self.crane_type == 'Screw unloaders':\n",
    "            return cranes[3][0].peak_capacity * self.n_cranes\n",
    "    \n",
    "    def occupancy_calc(self, quantity, cranes, handysize, handymax, panamax, timestep, operational_hours):\n",
    "        self.cranes_calc(handysize, handymax, panamax, timestep)\n",
    "        unloading_rate = self.eff_unloading_rate_calc(cranes)\n",
    "        handysize.berth_time_calc(unloading_rate)\n",
    "        handymax.berth_time_calc(unloading_rate)\n",
    "        panamax.berth_time_calc(unloading_rate)\n",
    "        berth_time = (handysize.berth_time * handysize.calls[timestep] +\\\n",
    "                      handymax.berth_time  * handymax.calls[timestep] +\\\n",
    "                      panamax.berth_time   * panamax.calls[timestep]) / quantity       \n",
    "        return berth_time / (operational_hours)    \n",
    "    \n",
    "    def remaining_calcs(self, berths, cranes, handysize, handymax, panamax, timestep):\n",
    "        max_LOA   = berths[0].LOA_calc(handysize, handymax, panamax, timestep)          # Maximum vessel LOA\n",
    "        max_draft = berths[0].vessel_depth_calc(handysize, handymax, panamax, timestep) # Maximum vessel draft\n",
    "        n_cranes  = berths[0].cranes_calc(handysize, handymax, panamax, timestep)       # Number of cranes per vessel\n",
    "        self.cranes_calc(handysize, handymax, panamax, timestep)\n",
    "        self.length             = self.length_calc(max_LOA, berths)     # assign length of each berth\n",
    "        self.depth              = self.depth_calc(max_draft)            # assign depth of each berth\n",
    "        self.eff_unloading_rate = self.eff_unloading_rate_calc(cranes)  # effective unloading rate of each berth\n",
    "        self.eff_unloading_rate = self.peak_unloading_rate_calc(cranes) # peak unloading rate of each berth"
   ]
  },
  {
   "cell_type": "code",
   "execution_count": 8,
   "metadata": {},
   "outputs": [],
   "source": [
    "# create berth objects\n",
    "berth_object = berth_class(**berth_data)"
   ]
  },
  {
   "cell_type": "markdown",
   "metadata": {},
   "source": [
    "## Cranes (cyclic)"
   ]
  },
  {
   "cell_type": "code",
   "execution_count": 9,
   "metadata": {},
   "outputs": [],
   "source": [
    "# create cyclic unloader class **will ultimately be placed in package**\n",
    "class cyclic_properties_mixin(object):\n",
    "    def __init__(self, t0_quantity, ownership, delivery_time, lifespan, unit_rate, mobilisation_perc, maintenance_perc, \n",
    "                 insurance_perc, crew, crane_type, lifting_capacity, hourly_cycles, eff_fact, \n",
    "                 utilisation, *args, **kwargs):\n",
    "        super().__init__(*args, **kwargs)\n",
    "        \"initialize\"\n",
    "        self.t0_quantity          = t0_quantity\n",
    "        self.ownership            = ownership\n",
    "        self.delivery_time        = delivery_time\n",
    "        self.lifespan             = lifespan\n",
    "        self.unit_rate            = unit_rate\n",
    "        self.mobilisation_perc    = mobilisation_perc\n",
    "        self.maintenance_perc     = maintenance_perc\n",
    "        self.insurance_perc       = insurance_perc\n",
    "        self.crew                 = crew\n",
    "        self.crane_type           = crane_type\n",
    "        self.lifting_capacity     = lifting_capacity\n",
    "        self.hourly_cycles        = hourly_cycles\n",
    "        self.eff_fact             = eff_fact\n",
    "        self.utilisation          = utilisation\n",
    "        self.payload              = int(0.70 * self.lifting_capacity)      #Source: Nemag\n",
    "        self.peak_capacity        = int(self.payload * self.hourly_cycles) \n",
    "        self.effective_capacity   = int(eff_fact * self.peak_capacity)     #Source: TATA steel\n",
    "\n",
    "\n",
    "# Initial data set, data from Excel_input.xlsx\n",
    "gantry_crane_data   = {\"t0_quantity\":0, \"ownership\": 'Terminal operator', \"delivery_time\": 1, \"lifespan\": 40, \"unit_rate\": 19500000,\"mobilisation_perc\": 0.15, \n",
    "                      \"maintenance_perc\": 0.02, \"insurance_perc\": 0.01, \"crew\": 3, \n",
    "                      \"crane_type\": 'Gantry crane', \"lifting_capacity\": 70, \"hourly_cycles\": 60, \"eff_fact\": 0.55,\n",
    "                      \"utilisation\": 0.80}\n",
    "\n",
    "harbour_crane_data = {\"t0_quantity\":0, \"ownership\": 'Terminal operator', \"delivery_time\": 1, \"lifespan\": 40, \"unit_rate\": 14000000, \"mobilisation_perc\": 0.15, \n",
    "                      \"maintenance_perc\": 0.02, \"insurance_perc\": 0.01, \"crew\": 3, \n",
    "                      \"crane_type\": 'Harbour crane crane', \"lifting_capacity\": 40, \"hourly_cycles\": 40, \"eff_fact\": 0.55,\n",
    "                      \"utilisation\": 0.80}\n",
    "\n",
    "mobile_crane_data  = {\"t0_quantity\":0, \"ownership\": 'Terminal operator', \"delivery_time\": 1, \"lifespan\": 20, \"unit_rate\": 3325000,\"mobilisation_perc\": 0.15, \n",
    "                      \"maintenance_perc\": 0.031,\"insurance_perc\": 0.01, \"crew\": 3, \n",
    "                      \"crane_type\": 'Mobile crane',\"lifting_capacity\": 60, \"hourly_cycles\": 30, \"eff_fact\": 0.55,\n",
    "                      \"utilisation\": 0.80}"
   ]
  },
  {
   "cell_type": "code",
   "execution_count": 10,
   "metadata": {},
   "outputs": [],
   "source": [
    "# define cyclic unloader class functions **will ultimately be placed in package**\n",
    "class cyclic_unloader(cyclic_properties_mixin): \n",
    "    def __init__(self, *args, **kwargs):\n",
    "        super().__init__(*args, **kwargs)\n",
    "        \n",
    "        if self.crane_type != 'Mobile crane':\n",
    "            self.consumption = 0.3 * self.peak_capacity\n",
    "        else:\n",
    "            self.consumption = 485\n",
    "        \n",
    "    def lease_calc(self):\n",
    "        if self.unloader_type == 'Mobile crane':\n",
    "            self.lease = int(self.original_value * 0.10)\n",
    "        else:\n",
    "            return\n",
    "        \n",
    "    def insurance_calc(self):\n",
    "        self.insurance = int(self.original_value * self.insurance_perc)\n",
    "        \n",
    "    def consumption_calc(self):\n",
    "        if self.unloader_type != 'Mobile crane':\n",
    "            self.consumption = int(0.3 * operational_hours * self.utilisation * self.quantity * self.peak_capacity)\n",
    "        if self.unloader_type == 'Mobile crane':\n",
    "            self.consumption = int(485 * operational_hours * self.utilisation * self.quantity)"
   ]
  },
  {
   "cell_type": "code",
   "execution_count": 11,
   "metadata": {},
   "outputs": [],
   "source": [
    "# create crane objects\n",
    "gantry_crane_object  = cyclic_unloader(**gantry_crane_data)\n",
    "harbour_crane_object = cyclic_unloader(**harbour_crane_data)\n",
    "mobile_crane_object  = cyclic_unloader(**mobile_crane_data)  "
   ]
  },
  {
   "cell_type": "markdown",
   "metadata": {},
   "source": [
    "## Cranes (continuous)"
   ]
  },
  {
   "cell_type": "code",
   "execution_count": 12,
   "metadata": {},
   "outputs": [],
   "source": [
    "# create continuous unloader class **will ultimately be placed in package**\n",
    "class continuous_properties_mixin(object):\n",
    "    def __init__(self, t0_quantity, ownership, delivery_time, lifespan, unit_rate, mobilisation_perc, maintenance_perc, \n",
    "                 insurance_perc, crew, crane_type, peak_capacity, eff_fact, utilisation, *args, **kwargs):\n",
    "        super().__init__(*args, **kwargs)\n",
    "        \"initialize\"\n",
    "        self.t0_quantity          = t0_quantity\n",
    "        self.ownership            = ownership\n",
    "        self.delivery_time        = delivery_time\n",
    "        self.lifespan             = lifespan\n",
    "        self.unit_rate            = unit_rate\n",
    "        self.mobilisation_perc    = mobilisation_perc\n",
    "        self.mobilisation         = int(mobilisation_perc * unit_rate)\n",
    "        self.maintenance_perc     = maintenance_perc\n",
    "        self.insurance_perc       = insurance_perc\n",
    "        self.crew                 = crew\n",
    "        self.crane_type           = crane_type\n",
    "        self.peak_capacity        = peak_capacity\n",
    "        self.eff_fact             = eff_fact\n",
    "        self.effective_capacity   = eff_fact * peak_capacity\n",
    "        self.utilisation          = utilisation\n",
    "\n",
    "# Initial data set, data from Excel_input.xlsx\n",
    "continuous_screw_data = {\"t0_quantity\": 0, \"ownership\": 'Terminal operator', \"delivery_time\": 1, \"lifespan\": 30, \"unit_rate\": 6900000, \"mobilisation_perc\": 0.15, \n",
    "                         \"maintenance_perc\": 0.02, \"insurance_perc\": 0.01, \"crew\": 2,\"crane_type\": 'Screw unloader', \n",
    "                         \"peak_capacity\": 700, \"eff_fact\": 0.55, \"utilisation\": 0.80}"
   ]
  },
  {
   "cell_type": "code",
   "execution_count": 13,
   "metadata": {},
   "outputs": [],
   "source": [
    "# define continuous unloader class functions **will ultimately be placed in package**\n",
    "class continuous_unloader(continuous_properties_mixin):\n",
    "    \n",
    "    def __init__(self, *args, **kwargs):\n",
    "        super().__init__(*args, **kwargs)\n",
    "        \n",
    "        self.consumption = 0.3 * self.peak_capacity\n",
    "        \n",
    "    def insurance_calc(self):\n",
    "        self.insurance = int(self.original_value * self.insurance_perc)\n",
    "        \n",
    "    def consumption_calc(self):\n",
    "        self.consumption = int(0.52 * operational_hours * self.utilisation * self.quantity * self.peak_capacity)"
   ]
  },
  {
   "cell_type": "code",
   "execution_count": 14,
   "metadata": {},
   "outputs": [],
   "source": [
    "# create screw unloader objects\n",
    "screw_unloader_object = continuous_unloader(**continuous_screw_data)\n",
    "cranes_object = [gantry_crane_object, harbour_crane_object, mobile_crane_object, screw_unloader_object]"
   ]
  },
  {
   "cell_type": "markdown",
   "metadata": {},
   "source": [
    "## Storage"
   ]
  },
  {
   "cell_type": "code",
   "execution_count": 15,
   "metadata": {},
   "outputs": [],
   "source": [
    "# create storage class **will ultimately be placed in package**\n",
    "class storage_properties_mixin(object):\n",
    "    def __init__(self, t0_capacity, ownership, delivery_time, lifespan, unit_rate, mobilisation_min, mobilisation_perc, \n",
    "                 maintenance_perc, crew, insurance_perc, storage_type, consumption, silo_capacity, *args, **kwargs):\n",
    "        super().__init__(*args, **kwargs)\n",
    "        \"initialize\"\n",
    "        self.t0_capacity          = t0_capacity\n",
    "        self.ownership            = ownership\n",
    "        self.delivery_time        = delivery_time\n",
    "        self.lifespan             = lifespan\n",
    "        self.unit_rate            = unit_rate\n",
    "        self.mobilisation_min     = mobilisation_min\n",
    "        self.mobilisation_perc    = mobilisation_perc\n",
    "        self.maintenance_perc     = maintenance_perc\n",
    "        self.crew                 = crew\n",
    "        self.insurance_perc       = insurance_perc\n",
    "        self.storage_type         = storage_type\n",
    "        self.consumption          = consumption\n",
    "        self.silo_capacity        = silo_capacity\n",
    "        \n",
    "# Initial data set, data from Excel_input.xlsx\n",
    "silo_data      = {\"t0_capacity\": 0, \"ownership\": 'Terminal operator', \"delivery_time\": 1, \"lifespan\": 30, \"unit_rate\": 60, \n",
    "                  \"mobilisation_min\": 200000, \"mobilisation_perc\": 0.003, \"maintenance_perc\": 0.02, \"crew\": 0.00002, \n",
    "                  \"insurance_perc\": 0.01, \"storage_type\": 'Silos', \"consumption\": 0.002, \"silo_capacity\": 6000}\n",
    "warehouse_data = {\"t0_capacity\": 0, \"ownership\": 'Terminal operator', \"delivery_time\": 1, \"lifespan\": 30, \"unit_rate\": 140,\n",
    "                  \"mobilisation_min\": 200000, \"mobilisation_perc\": 0.001, \"maintenance_perc\": 0.01, \"crew\": 0.00002, \n",
    "                  \"insurance_perc\": 0.01, \"storage_type\": 'Warehouse', \"consumption\": 0.002, \"silo_capacity\": 'n/a'}"
   ]
  },
  {
   "cell_type": "code",
   "execution_count": 16,
   "metadata": {},
   "outputs": [],
   "source": [
    "# define storage class functions **will ultimately be placed in package**\n",
    "class storage(storage_properties_mixin):\n",
    "    def __init__(self, *args, **kwargs):\n",
    "        super().__init__(*args, **kwargs)\n",
    "            \n",
    "    def insurance_calc(self):\n",
    "        self.insurance = int(self.original_value * self.insurance_perc)"
   ]
  },
  {
   "cell_type": "code",
   "execution_count": 17,
   "metadata": {},
   "outputs": [],
   "source": [
    "# create storage objects\n",
    "silo_object = storage(**silo_data)\n",
    "warehouse_object = storage(**warehouse_data)\n",
    "storage_object = [silo_object, warehouse_object]"
   ]
  },
  {
   "cell_type": "markdown",
   "metadata": {},
   "source": [
    "## Loading Station"
   ]
  },
  {
   "cell_type": "code",
   "execution_count": 18,
   "metadata": {},
   "outputs": [],
   "source": [
    "# create loading station class **will ultimately be placed in package**\n",
    "class hinterland_station_properties_mixin(object):\n",
    "    def __init__(self, t0_capacity, ownership, delivery_time, lifespan, unit_rate, mobilisation, maintenance_perc, \n",
    "                 insurance_perc, consumption, crew, utilisation, capacity_steps, *args, **kwargs):\n",
    "        super().__init__(*args, **kwargs)\n",
    "        \"initialize\"\n",
    "        self.t0_capacity          = t0_capacity\n",
    "        self.ownership            = ownership\n",
    "        self.delivery_time        = delivery_time\n",
    "        self.lifespan             = lifespan\n",
    "        self.unit_rate            = unit_rate\n",
    "        self.mobilisation         = mobilisation\n",
    "        self.maintenance_perc     = maintenance_perc\n",
    "        self.insurance_perc       = insurance_perc\n",
    "        self.consumption          = consumption\n",
    "        self.crew                 = crew\n",
    "        self.utilisation          = utilisation\n",
    "        self.capacity_steps       = capacity_steps\n",
    "        \n",
    "# Initial data set, data from Excel_input.xlsx\n",
    "hinterland_station_data = {\"t0_capacity\": 0, \"ownership\": 'Terminal operator', \"delivery_time\": 1, \"lifespan\": 15, \"unit_rate\": 4000, \"mobilisation\": 100000, \n",
    "                           \"maintenance_perc\": 0.02, \"consumption\": 100, \"insurance_perc\": 0.01, \"crew\": 2, \"utilisation\": 0.80, \"capacity_steps\": 300}"
   ]
  },
  {
   "cell_type": "code",
   "execution_count": 19,
   "metadata": {},
   "outputs": [],
   "source": [
    "# define loading station class functions **will ultimately be placed in package**\n",
    "class hinterland_station(hinterland_station_properties_mixin):\n",
    "    def __init__(self, *args, **kwargs):\n",
    "        super().__init__(*args, **kwargs)\n",
    "        \n",
    "    def capacity_calc(self):\n",
    "        self.capacity = 0    \n",
    "    \n",
    "    def original_value_calc(self):\n",
    "        self.original_value = int(self.capacity * self.unit_rate) \n",
    "        \n",
    "    def maintenance_calc(self):\n",
    "        self.maintenance = int(self.original_value * self.maintenance_perc)\n",
    "        \n",
    "    def insurance_calc(self):\n",
    "        self.insurance = int(self.original_value * self.insurance_perc)\n",
    "        \n",
    "    def consumption_calc(self):\n",
    "        self.consumption = int(0.75 * operational_hours * self.utilisation * self.capacity)\n",
    "        \n",
    "    def shifts_calc(self):\n",
    "        self.shifts = int(np.ceil(operational_hours * self.crew / labour.shift_length))\n",
    "    \n",
    "    def capacity_calc(self, capacity):\n",
    "        self.capacity = capacity\n",
    "        \n",
    "    @classmethod\n",
    "    def overall_capacity_calc(cls, capacity):\n",
    "        cls.overall_capacity = capacity\n",
    "        \n",
    "    @classmethod\n",
    "    def quantity_calc(cls, quantity):\n",
    "        cls.quantity = quantity"
   ]
  },
  {
   "cell_type": "code",
   "execution_count": 20,
   "metadata": {},
   "outputs": [],
   "source": [
    "# create loading station objects\n",
    "station_object = hinterland_station(**hinterland_station_data)"
   ]
  },
  {
   "cell_type": "markdown",
   "metadata": {},
   "source": [
    "## Conveyors"
   ]
  },
  {
   "cell_type": "code",
   "execution_count": 21,
   "metadata": {},
   "outputs": [],
   "source": [
    "# create conveyor class **will ultimately be placed in package**\n",
    "class conveyor_properties_mixin(object):\n",
    "    def __init__(self, t0_capacity, length, ownership, delivery_time, lifespan, unit_rate, mobilisation, maintenance_perc, insurance_perc, \n",
    "                 consumption_constant, consumption_coefficient, crew, utilisation, capacity_steps, *args, **kwargs):\n",
    "        super().__init__(*args, **kwargs)\n",
    "        \"initialize\"\n",
    "        self.t0_capacity             = t0_capacity\n",
    "        self.length                  = length\n",
    "        self.ownership               = ownership\n",
    "        self.delivery_time           = delivery_time\n",
    "        self.lifespan                = lifespan\n",
    "        self.unit_rate               = unit_rate\n",
    "        self.mobilisation            = mobilisation\n",
    "        self.maintenance_perc        = maintenance_perc\n",
    "        self.insurance_perc          = insurance_perc\n",
    "        self.consumption_constant    = consumption_constant\n",
    "        self.consumption_coefficient = consumption_coefficient\n",
    "        self.crew                    = crew\n",
    "        self.utilisation             = utilisation\n",
    "        self.capacity_steps          = capacity_steps\n",
    "\n",
    "# Initial data set, data from Excel_input.xlsx\n",
    "quay_conveyor_data = {\"t0_capacity\": 0, \"length\": 500, \"ownership\": 'Terminal operator', \"delivery_time\": 1, \"lifespan\": 10, \n",
    "                      \"unit_rate\": 6, \"mobilisation\": 30000,\"maintenance_perc\": 0.10, \"insurance_perc\": 0.01, \n",
    "                      \"consumption_constant\": 81,\"consumption_coefficient\":0.08, \"crew\": 1, \"utilisation\": 0.80, \n",
    "                      \"capacity_steps\": 400}\n",
    "\n",
    "hinterland_conveyor_data = {\"t0_capacity\": 0, \"length\": 500, \"ownership\": 'Terminal operator', \"delivery_time\": 1, \"lifespan\": 10, \"mobilisation\": 30000, \n",
    "                            \"unit_rate\": 6, \"maintenance_perc\": 0.10, \"insurance_perc\": 0.01, \"consumption_constant\": 81, \n",
    "                            \"consumption_coefficient\":0.08, \"crew\": 1, \"utilisation\": 0.80, \"capacity_steps\": 400}"
   ]
  },
  {
   "cell_type": "code",
   "execution_count": 22,
   "metadata": {},
   "outputs": [],
   "source": [
    "# define conveyor class functions **will ultimately be placed in package**\n",
    "class conveyor(conveyor_properties_mixin):\n",
    "    def __init__(self, *args, **kwargs):\n",
    "        super().__init__(*args, **kwargs)\n",
    "    \n",
    "    def original_value_calc(self):\n",
    "        self.original_value = int(self.capacity * self.unit_rate) \n",
    "        \n",
    "    def maintenance_calc(self):\n",
    "        self.maintenance = int(self.original_value * self.maintenance_perc)\n",
    "        \n",
    "    def insurance_calc(self):\n",
    "        self.insurance = int(self.original_value * self.insurance_perc)\n",
    "        \n",
    "    def consumption_calc(self):\n",
    "        self.consumption = int(0.08 * operational_hours * self.utilisation * self.capacity)\n",
    "        \n",
    "    def shifts_calc(self):\n",
    "        self.shifts = int(np.ceil(operational_hours * self.crew / labour.shift_length))\n",
    "        \n",
    "    def quantity_calc(self, quantity, conveyor_group):\n",
    "        if conveyor_group == 'Quay':\n",
    "            for i in range (quantity):\n",
    "                q_conveyors[i].quantity = quantity\n",
    "        else:\n",
    "            for i in range (quantity):\n",
    "                h_conveyors[i].quantity = quantity\n",
    "    \n",
    "    def overall_capacity_calc(self, capacity, quantity, conveyor_group):\n",
    "        if conveyor_group == 'Quay':\n",
    "            for i in range (quantity):\n",
    "                q_conveyors[i].overall_capacity = capacity\n",
    "        else:\n",
    "            for i in range (quantity):\n",
    "                h_conveyors[i].overall_capacity = capacity"
   ]
  },
  {
   "cell_type": "code",
   "execution_count": 23,
   "metadata": {},
   "outputs": [],
   "source": [
    "# create loading station objects\n",
    "quay_conveyor_object = conveyor(**quay_conveyor_data)\n",
    "hinterland_conveyor_object = conveyor(**hinterland_conveyor_data)"
   ]
  }
 ],
 "metadata": {
  "kernelspec": {
   "display_name": "Python 3",
   "language": "python",
   "name": "python3"
  },
  "language_info": {
   "codemirror_mode": {
    "name": "ipython",
    "version": 3
   },
   "file_extension": ".py",
   "mimetype": "text/x-python",
   "name": "python",
   "nbconvert_exporter": "python",
   "pygments_lexer": "ipython3",
   "version": "3.6.5"
  }
 },
 "nbformat": 4,
 "nbformat_minor": 2
}
