{
 "cells": [
  {
   "cell_type": "code",
   "execution_count": null,
   "metadata": {},
   "outputs": [],
   "source": [
    "import numpy as np\n",
    "import pandas as pd"
   ]
  },
  {
   "cell_type": "markdown",
   "metadata": {},
   "source": [
    "# Import from notebook"
   ]
  },
  {
   "cell_type": "markdown",
   "metadata": {},
   "source": [
    "### Import general port parameters\n",
    "This imports the 'General Port parameters' from the notebook so that they can be used for calculations within this package"
   ]
  },
  {
   "cell_type": "code",
   "execution_count": 4,
   "metadata": {},
   "outputs": [],
   "source": [
    "def import_notebook_parameters():\n",
    "    \n",
    "    global year\n",
    "    global start_year\n",
    "    global timestep\n",
    "    global operational_hours\n",
    "    \n",
    "    year              = parameters.year\n",
    "    start_year        = parameters.start_year\n",
    "    timestep          = parameters.timestep\n",
    "    operational_hours = parameters.operational_hours\n",
    "    \n",
    "    return"
   ]
  },
  {
   "cell_type": "markdown",
   "metadata": {},
   "source": [
    "### Create notebook affiliated classes\n",
    "This creates the classes that are linked to data located within the notebook\n",
    "- Commodity characteristics at current timestep"
   ]
  },
  {
   "cell_type": "code",
   "execution_count": null,
   "metadata": {},
   "outputs": [],
   "source": [
    "def import_notebook_classes():\n",
    "    \n",
    "    global commodities\n",
    "    \n",
    "    class commodity_class():\n",
    "        def __init__(self, *args, **kwargs):\n",
    "            super().__init__(*args, **kwargs)\n",
    "            self.maize_demand   = maize.demand[timestep]\n",
    "            self.soybean_demand = soybean.demand[timestep]\n",
    "            self.wheat_demand   = wheat.demand[timestep]\n",
    "            self.demand         = self.maize_demand + self.soybean_demand + self.wheat_demand\n",
    "    commodities = commodity_class()"
   ]
  },
  {
   "cell_type": "markdown",
   "metadata": {},
   "source": [
    "# Export to infrastructure package"
   ]
  },
  {
   "cell_type": "code",
   "execution_count": 7,
   "metadata": {},
   "outputs": [],
   "source": [
    "import terminal_optimization.infrastructure_package as infra\n",
    "\n",
    "def export_infrastructure_package():\n",
    "    infra.parameters = parameters\n",
    "    infra.maize      = maize\n",
    "    infra.soybean    = soybean\n",
    "    infra.wheat      = wheat\n",
    "    infra.handysize  = handysize\n",
    "    infra.handymax   = handymax\n",
    "    infra.panamax    = panamax\n",
    "    infra.import_notebook_parameters()\n",
    "    infra.import_notebook_classes()"
   ]
  },
  {
   "cell_type": "markdown",
   "metadata": {},
   "source": [
    "# Investment triggers"
   ]
  },
  {
   "cell_type": "markdown",
   "metadata": {},
   "source": [
    "### Quay wall\n",
    "Quay length is calculated as the sum of the berth lengths"
   ]
  },
  {
   "cell_type": "code",
   "execution_count": null,
   "metadata": {},
   "outputs": [],
   "source": [
    "def quay_wall_length_calc():\n",
    "    global quay\n",
    "    quay = infra.quay\n",
    "    \n",
    "    n_berths = berths[0].quantity\n",
    "    berth_lengths = []\n",
    "    \n",
    "    for i in range (n_berths):\n",
    "        berth_lengths.append(berths[i].length)\n",
    "    \n",
    "    quay.length = np.sum(berth_lengths)"
   ]
  },
  {
   "cell_type": "markdown",
   "metadata": {},
   "source": [
    "### Berths\n",
    "The number of berths is initially set to one after which the berth occupancy is calculated. If the berth occupancy is higher than the allowable threshold, an extra berth is added"
   ]
  },
  {
   "cell_type": "code",
   "execution_count": 11,
   "metadata": {},
   "outputs": [],
   "source": [
    "def number_of_berths_calc():\n",
    "    global berths\n",
    "    berths = infra.berths\n",
    "    \n",
    "    # Investment trigger \n",
    "    allowable_berth_occupancy = 0.40\n",
    "\n",
    "    for i in range(1,1+len(berths)):\n",
    "        berths[0].occupancy_calc(i)\n",
    "        if berths[0].occupancy < allowable_berth_occupancy:\n",
    "            berths[0].quantity_calc(i)\n",
    "            break\n",
    "    \n",
    "    # Execute remaining berth calcs\n",
    "    berths[0].remaining_calcs()"
   ]
  },
  {
   "cell_type": "code",
   "execution_count": 17,
   "metadata": {},
   "outputs": [],
   "source": [
    "def berth_invest_decision():\n",
    "    global berths\n",
    "    berths = infra.berths\n",
    "    \n",
    "    # Investment trigger \n",
    "    allowable_berth_occupancy = 0.04\n",
    "    current_quantity  = 1\n",
    "    occupancy         = berths[0].occupancy_calc(current_quantity)\n",
    "    \n",
    "    if occupancy < allowable_berth_occupancy:\n",
    "        return False\n",
    "    else:\n",
    "        return True"
   ]
  },
  {
   "cell_type": "code",
   "execution_count": 15,
   "metadata": {},
   "outputs": [
    {
     "name": "stdout",
     "output_type": "stream",
     "text": [
      "True!!!\n"
     ]
    }
   ],
   "source": [
    "if 5 < 10:\n",
    "    print ('True!!!')\n",
    "else:\n",
    "    print ('False!!!')  "
   ]
  }
 ],
 "metadata": {
  "kernelspec": {
   "display_name": "Python 3",
   "language": "python",
   "name": "python3"
  },
  "language_info": {
   "codemirror_mode": {
    "name": "ipython",
    "version": 3
   },
   "file_extension": ".py",
   "mimetype": "text/x-python",
   "name": "python",
   "nbconvert_exporter": "python",
   "pygments_lexer": "ipython3",
   "version": "3.6.5"
  }
 },
 "nbformat": 4,
 "nbformat_minor": 2
}
