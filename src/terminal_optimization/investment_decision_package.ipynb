{
 "cells": [
  {
   "cell_type": "code",
   "execution_count": null,
   "metadata": {},
   "outputs": [],
   "source": [
    "import numpy as np\n",
    "import pandas as pd"
   ]
  },
  {
   "cell_type": "markdown",
   "metadata": {},
   "source": [
    "# Import general port parameters\n",
    "This imports the 'General Port parameters' from the notebook so that they can be used for calculations within this package"
   ]
  },
  {
   "cell_type": "code",
   "execution_count": 4,
   "metadata": {},
   "outputs": [],
   "source": [
    "def import_notebook_parameters():\n",
    "    \n",
    "    global year\n",
    "    global start_year\n",
    "    global timestep\n",
    "    global operational_hours\n",
    "    \n",
    "    year              = parameters.year\n",
    "    start_year        = parameters.start_year\n",
    "    timestep          = parameters.timestep\n",
    "    operational_hours = parameters.operational_hours\n",
    "    \n",
    "    return"
   ]
  },
  {
   "cell_type": "markdown",
   "metadata": {},
   "source": [
    "# Investment triggers"
   ]
  },
  {
   "cell_type": "markdown",
   "metadata": {},
   "source": [
    "### Quay wall\n",
    "Quay length is calculated as the sum of the berth lengths"
   ]
  },
  {
   "cell_type": "code",
   "execution_count": null,
   "metadata": {},
   "outputs": [],
   "source": [
    "initial_quay_length = 0"
   ]
  },
  {
   "cell_type": "code",
   "execution_count": 5,
   "metadata": {},
   "outputs": [],
   "source": [
    "def initial_quay_setup(quay):\n",
    "   \n",
    "    quay.online_length = initial_quay_length\n",
    "    \n",
    "    return quay"
   ]
  },
  {
   "cell_type": "code",
   "execution_count": null,
   "metadata": {},
   "outputs": [],
   "source": [
    "def quay_online_transition(quay):\n",
    "    \n",
    "    online  = quay.online_length\n",
    "    pending = quay.pending_length\n",
    "    \n",
    "    for i in range (online, online + pending):\n",
    "        if berths[i].online_date == year:\n",
    "            berths[i].online_quantity_calc(online+1)\n",
    "            berths[i].pending_quantity_calc(pending-1)\n",
    "            \n",
    "    return berths"
   ]
  },
  {
   "cell_type": "code",
   "execution_count": null,
   "metadata": {},
   "outputs": [],
   "source": [
    "def quay_invest_decision(berth_invest_decision):\n",
    "    if berth_invest_decision == 'Invest in berths':\n",
    "        return 'Invest in quay'\n",
    "    else:\n",
    "        return 'Do not invest in quay'"
   ]
  },
  {
   "cell_type": "code",
   "execution_count": null,
   "metadata": {},
   "outputs": [],
   "source": [
    "def quay_expansion(quay, berths):\n",
    "    \n",
    "    number_of_berths = berths[0].pending_quantity\n",
    "    berth_lengths    = []\n",
    "    \n",
    "    for i in range (number_of_berths):\n",
    "        berth_lengths.append(berths[i].length)\n",
    "    \n",
    "    quay.pending_length = np.sum(berth_lengths)\n",
    "    \n",
    "    quay.length\n",
    "    quay_added = new_quay_length - original_quay_length\n",
    "    \n",
    "    return [quay, quay_added]"
   ]
  },
  {
   "cell_type": "markdown",
   "metadata": {},
   "source": [
    "### Berths\n",
    "The number of berths is initially set to one after which the berth occupancy is calculated. If the berth occupancy is higher than the allowable threshold, an extra berth is added"
   ]
  },
  {
   "cell_type": "code",
   "execution_count": null,
   "metadata": {},
   "outputs": [],
   "source": [
    "initial_number_of_berths  = 0\n",
    "crane_type                = 'Mobile cranes'\n",
    "allowable_berth_occupancy = 0.40"
   ]
  },
  {
   "cell_type": "code",
   "execution_count": 12,
   "metadata": {},
   "outputs": [],
   "source": [
    "def initial_berth_setup(berths):\n",
    "    \n",
    "    berths[0].online_quantity_calc(initial_number_of_berths)\n",
    "    berths[0].pending_quantity_calc(0)\n",
    "    \n",
    "    for i in range (len(berths)):\n",
    "        berths[i].crane_type = crane_type\n",
    "    berths[0].remaining_calcs()\n",
    "        \n",
    "    return berths"
   ]
  },
  {
   "cell_type": "code",
   "execution_count": null,
   "metadata": {},
   "outputs": [],
   "source": [
    "def berth_online_transition(berths):\n",
    "    \n",
    "    online  = berths[0].online_quantity\n",
    "    pending = berths[0].pending_quantity\n",
    "    \n",
    "    for i in range (online, online + pending):\n",
    "        if berths[i].online_date == year:\n",
    "            berths[i].online_quantity_calc(online+1)\n",
    "            berths[i].pending_quantity_calc(pending-1)\n",
    "            \n",
    "    return berths"
   ]
  },
  {
   "cell_type": "code",
   "execution_count": 13,
   "metadata": {},
   "outputs": [],
   "source": [
    "def berth_invest_decision(berths):\n",
    "\n",
    "    number_of_berths = berths[0].online_quantity +  berths[0].pending_quantity\n",
    "    \n",
    "    if number_of_berths == 0:\n",
    "        return 'Invest in berths'\n",
    "    \n",
    "    occupancy = berths[0].occupancy_calc(number_of_berths)\n",
    "    if occupancy < allowable_berth_occupancy:\n",
    "        return 'Do not invest in berths'\n",
    "    else:\n",
    "        return 'Invest in berths'"
   ]
  },
  {
   "cell_type": "code",
   "execution_count": null,
   "metadata": {},
   "outputs": [],
   "source": [
    "def berth_expansion(berths):\n",
    "    \n",
    "    original_number_of_berths = berths[0].online_quantity +  berths[0].pending_quantity\n",
    "    \n",
    "    for i in range (original_number_of_berths, len(berths)): # increase nr of berths untill occupancy is satisfactory        number_of_berths = i+1\n",
    "        berths[i].remaining_calcs()\n",
    "        berths[i].purchase_date = year\n",
    "        berths[i].online_date = year + berths[i].delivery_time\n",
    "        occupancy = berths[i].occupancy_calc(i+1)\n",
    "        if occupancy < allowable_berth_occupancy:\n",
    "            berths[i].pending_quantity_calc(i+1)\n",
    "            new_number_of_berths = i+1\n",
    "            break\n",
    "    print ('new', new_number_of_berths)\n",
    "    print ('old', original_number_of_berths)\n",
    "    \n",
    "    berths_added = new_number_of_berths - original_number_of_berths    # register how many berths were added\n",
    "    \n",
    "    return [berths, berths_added]"
   ]
  },
  {
   "cell_type": "markdown",
   "metadata": {},
   "source": [
    "### Crane investment decision\n",
    "In this setup, the number of cranes is solely goverened by the number of berths. The number of cranes per berth is equal to the number of cranes that can work simultaeously on the largest vessel that calls to port. E.g. two cranes per berth in years where handymax is the largest vessel and three cranes per berth in years where panamax is the largest vessel"
   ]
  },
  {
   "cell_type": "code",
   "execution_count": null,
   "metadata": {},
   "outputs": [],
   "source": [
    "initial_gantry_cranes   = 0\n",
    "initial_harbour_cranes  = 0\n",
    "initial_mobile_cranes   = 0\n",
    "initial_screw_unloaders = 0"
   ]
  },
  {
   "cell_type": "code",
   "execution_count": 6,
   "metadata": {},
   "outputs": [],
   "source": [
    "def initial_crane_setup(cranes):\n",
    "    \n",
    "    cranes[0][0].quantity_calc(initial_gantry_cranes, 'Gantry crane')\n",
    "    cranes[1][0].quantity_calc(initial_harbour_cranes, 'Harbour crane')\n",
    "    cranes[2][0].quantity_calc(initial_mobile_cranes, 'Mobile crane')\n",
    "    cranes[3][0].quantity_calc(initial_screw_unloaders, 'Screw unloader')\n",
    "    \n",
    "    for i in range (4):\n",
    "        if not \"quantity\" in dir(cranes[i][0]):\n",
    "            cranes[i][0].quantity = 0\n",
    "    \n",
    "    return cranes"
   ]
  },
  {
   "cell_type": "code",
   "execution_count": null,
   "metadata": {},
   "outputs": [],
   "source": [
    "def crane_invest_decision(berth_invest_decision):\n",
    "    if berth_invest_decision == 'Invest in berths':\n",
    "        return 'Invest in cranes'\n",
    "    else:\n",
    "        return 'Do not invest in cranes'"
   ]
  },
  {
   "cell_type": "code",
   "execution_count": 2,
   "metadata": {},
   "outputs": [],
   "source": [
    "def crane_expansion(cranes, berths, berths_added):\n",
    "    \n",
    "    # Determine original number of cranes\n",
    "    original_number_of_cranes = [cranes[0][0].quantity, cranes[1][0].quantity, cranes[2][0].quantity, cranes[3][0].quantity]\n",
    " \n",
    "    gantry_cranes_added   = []\n",
    "    harbour_cranes_added  = []\n",
    "    mobile_cranes_added   = []\n",
    "    screw_unloaders_added = []\n",
    "    \n",
    "    # Required cranes at each berth\n",
    "    for i in range (berths[0].quantity - berths_added, berths[0].quantity):            \n",
    "        if berths[i].crane_type == 'Gantry cranes':\n",
    "            gantry_cranes_added.append(berths[i].n_cranes)\n",
    "        if berths[i].crane_type == 'Harbour cranes':\n",
    "            harbour_cranes_added.append(berths[i].n_cranes)\n",
    "        if berths[i].crane_type == 'Mobile cranes':\n",
    "            mobile_cranes_added.append(berths[i].n_cranes)            \n",
    "        if berths[i].crane_type == 'Screw unloaders':\n",
    "            screw_unloaders_added.append(berths[i].n_cranes)\n",
    "    \n",
    "    # Number of cranes that have been added\n",
    "    gantry_cranes_added   = int(np.sum(gantry_cranes_added))                            \n",
    "    harbour_cranes_added  = int(np.sum(harbour_cranes_added))\n",
    "    mobile_cranes_added   = int(np.sum(mobile_cranes_added))\n",
    "    screw_unloaders_added = int(np.sum(screw_unloaders_added))\n",
    "    \n",
    "    # Assign the new quantities\n",
    "    cranes[0][0].quantity_calc(original_number_of_cranes[0] + gantry_cranes_added, 'Gantry crane')\n",
    "    cranes[1][0].quantity_calc(original_number_of_cranes[1] + harbour_cranes_added, 'Harbour crane')\n",
    "    cranes[2][0].quantity_calc(original_number_of_cranes[2] + mobile_cranes_added, 'Mobile crane')\n",
    "    cranes[3][0].quantity_calc(original_number_of_cranes[3] + screw_unloaders_added, 'Screw unloader')\n",
    "    \n",
    "    # Cranes can be bought later than berth is purchased\n",
    "    delay_purchase = berths[0].delivery_time - cranes[0][0].delivery_time                     \n",
    "    \n",
    "    # Assign purchase dates and date on which asset comes online\n",
    "    assign_purchase_date(cranes[0], original_number_of_cranes[0], gantry_cranes_added, delay_purchase)  \n",
    "    assign_purchase_date(cranes[1], original_number_of_cranes[1], harbour_cranes_added, delay_purchase)     \n",
    "    assign_purchase_date(cranes[2], original_number_of_cranes[2], mobile_cranes_added, delay_purchase)\n",
    "    assign_purchase_date(cranes[3], original_number_of_cranes[3], screw_unloaders_added, delay_purchase)\n",
    "    \n",
    "    return [cranes, gantry_cranes_added, harbour_cranes_added, mobile_cranes_added, screw_unloaders_added]"
   ]
  },
  {
   "cell_type": "markdown",
   "metadata": {},
   "source": [
    "### Storage investment decision\n",
    "In this setup, the storage investment is triggered whenever the storage capacity equals 10% of yearly demand. Once triggered, the storage is expanded to accomodate 20% of yearly throughput"
   ]
  },
  {
   "cell_type": "code",
   "execution_count": null,
   "metadata": {},
   "outputs": [],
   "source": [
    "initial_silo_capacity       = 0\n",
    "initial_warehouse_capacity  = 0\n",
    "storage_type                = 'Silos'\n",
    "silo_size                   = 6000\n",
    "trigger_throughput_perc     = 10\n",
    "aspired_throughput_perc     = 20"
   ]
  },
  {
   "cell_type": "code",
   "execution_count": 4,
   "metadata": {},
   "outputs": [],
   "source": [
    "def initial_storage_setup(storage):\n",
    "    \n",
    "    if initial_silo_capacity != 0:\n",
    "        storage[0][0].quantity = 1\n",
    "    else:\n",
    "        storage[0][0].quantity = 0\n",
    "    \n",
    "    if initial_warehouse_capacity != 0:\n",
    "        storage[1][0].quantity = 1\n",
    "    else:\n",
    "        storage[1][0].quantity = 0\n",
    "         \n",
    "    storage[0][0].capacity = initial_silo_capacity\n",
    "    storage[1][0].capacity =initial_warehouse_capacity\n",
    "    \n",
    "    return storage"
   ]
  },
  {
   "cell_type": "code",
   "execution_count": null,
   "metadata": {},
   "outputs": [],
   "source": [
    "def storage_invest_decision(storage):\n",
    "    \n",
    "    # Determine current overall capacity \n",
    "    silo_groups = storage[0][0].quantity\n",
    "    warehouse_groups = storage[1][0].quantity\n",
    "        \n",
    "    if silo_groups != 0 or warehouse_groups != 0:\n",
    "        silo_cap = []\n",
    "        warehouse_cap = []\n",
    "        for i in range (silo_groups):\n",
    "            silo_cap.append(storage[0][i].capacity)\n",
    "        for i in range (warehouse_groups):\n",
    "            warehouse_cap.append(storage[1][i].capacity)\n",
    "        storage[0][0].overall_capacity_calc(int(np.sum(silo_cap), silo_groups, 'Silos'))\n",
    "        storage[1][0].overall_capacity_calc(int(np.sum(warehouse_cap), warehouse_groups, 'Warehouses'))\n",
    "\n",
    "    else:\n",
    "        storage[0][0].overall_capacity = 0\n",
    "        storage[1][0].overall_capacity = 0\n",
    "                \n",
    "    # Decide whether to invest\n",
    "    current_cap = storage[0][0].overall_capacity + storage[1][0].overall_capacity\n",
    "    current_demand = maize.demand[timestep] + soybean.demand[timestep] + wheat.demand[timestep]\n",
    "    \n",
    "    if current_cap < trigger_throughput_perc/100 * current_demand:\n",
    "        return ['Invest in storage', storage]\n",
    "    else:\n",
    "        return ['Do not invest in storage', storage]"
   ]
  },
  {
   "cell_type": "code",
   "execution_count": 7,
   "metadata": {},
   "outputs": [],
   "source": [
    "def storage_expansion(storage):\n",
    "\n",
    "    # Demand in current timestep\n",
    "    maize_demand   = maize.demand[timestep]\n",
    "    soybean_demand = soybean.demand[timestep]\n",
    "    wheat_demand   = wheat.demand[timestep]\n",
    "    total_demand   = maize_demand + soybean_demand + wheat_demand\n",
    "    \n",
    "    # Silo expansion method\n",
    "    if storage_type == 'Silos':\n",
    "        \n",
    "        # Calculate requred capacity expansion\n",
    "        current_capacity = storage[0][0].overall_capacity + storage[1][0].overall_capacity\n",
    "        shortcoming      = total_demand*aspired_throughput_perc/100 - current_capacity\n",
    "        added_silo_cap   = int(np.ceil(shortcoming/silo_size)*silo_size)\n",
    "        added_warehouse_cap = 0\n",
    "        \n",
    "        # Assign purchase dates and date on which asset comes online\n",
    "        number_of_silo_groups = storage[0][0].quantity\n",
    "        storage[0][number_of_silo_groups].capacity = added_silo_cap\n",
    "        storage[0][number_of_silo_groups].purchase_date = year\n",
    "        storage[0][number_of_silo_groups].online_date   = year + storage[0][0].delivery_time\n",
    "        storage[0][0].quantity_calc(storage[0][0].quantity + 1, 'Silos')\n",
    "        storage[0][0].overall_capacity_calc(storage[0][0].overall_capacity + added_silo_cap, storage[0][0].quantity, 'Silos')\n",
    "        \n",
    "    # Warehouse expansion method\n",
    "    else:\n",
    "        # Calculate required capacity expansion\n",
    "        current_capacity    = storage[0][0].overall_capacity\n",
    "        shortcoming         = total_demand*aspired_throughput_perc/100 - current_capacity\n",
    "        added_warehouse_cap = int(shortcoming)\n",
    "        added_silo_cap      = 0\n",
    "        \n",
    "        # Assign purchase dates and date on which asset comes online\n",
    "        number_of_warehouse_groups = storage[1][0].quantity\n",
    "        storage[1][number_of_warehouse_groups].capacity = added_warehouse_cap\n",
    "        storage[1][number_of_warehouse_groups].purchase_date = year\n",
    "        storage[1][number_of_warehouse_groups].online_date   = year + storage[1][0].delivery_time\n",
    "        storage[1][0].quantity_calc(storage[1][0].quantity + 1, 'Warehouses')\n",
    "        storage[1][0].overall_capacity_calc(storage[1][0].overall_capacity + added_warehouse_cap, storage[1][0].quantity, 'Warehouses')\n",
    "    \n",
    "    return [storage, added_silo_cap, added_warehouse_cap]"
   ]
  },
  {
   "cell_type": "markdown",
   "metadata": {},
   "source": [
    "### Loading station investment decision\n",
    "In this setup, it is assumed that the loading station has a utilisation rate of 60%. The loading station investment is triggered whenever the yearly loading capacity equals 80% of yearly demand, taking the utilisation rate into account. Once triggered, the loading rate is expanded to accomodate 120% of yearly throughput in steps of 300 t/h"
   ]
  },
  {
   "cell_type": "code",
   "execution_count": null,
   "metadata": {},
   "outputs": [],
   "source": [
    "initial_station_capacity = 0\n",
    "modular_capacity_steps   = 300\n",
    "station_utilisation      = 0.60\n",
    "trigger_throughput_perc  = 80\n",
    "aspired_throughput_perc  = 20"
   ]
  },
  {
   "cell_type": "code",
   "execution_count": null,
   "metadata": {},
   "outputs": [],
   "source": [
    "def initial_station_setup(stations):\n",
    "    \n",
    "    if initial_station_capacity != 0:\n",
    "        stations[0].quantity_calc(1)\n",
    "    else:\n",
    "        stations[0].quantity_calc(0)\n",
    "        \n",
    "    stations[0].capacity_calc(initial_station_capacity)\n",
    "\n",
    "    return stations"
   ]
  },
  {
   "cell_type": "code",
   "execution_count": 8,
   "metadata": {},
   "outputs": [],
   "source": [
    "def station_invest_decision(stations):\n",
    "    \n",
    "    # Determine current overall capacity \n",
    "    number_of_stations = stations[0].quantity\n",
    "        \n",
    "    if number_of_stations != 0:\n",
    "        station_cap = []\n",
    "        for i in range (number_of_stations):\n",
    "            station_cap.append(station[i].capacity)\n",
    "        station[0].overall_capacity_calc(int(np.sum(station_cap)))\n",
    "\n",
    "    else:\n",
    "        stations[0].overall_capacity_calc(0)         \n",
    "\n",
    "    # Decide whether to invest\n",
    "    current_cap = stations[0].overall_capacity\n",
    "    utilisation = station_utilisation\n",
    "    current_demand = maize.demand[timestep] + soybean.demand[timestep] + wheat.demand[timestep]\n",
    "    required_capacity = current_demand*trigger_throughput_perc/100/operational_hours\n",
    "    \n",
    "    if current_cap < required_capacity:\n",
    "        return ['Invest in loading stations', stations]\n",
    "    else:\n",
    "        return ['Do not invest in loading stations', stations]"
   ]
  },
  {
   "cell_type": "code",
   "execution_count": 9,
   "metadata": {},
   "outputs": [],
   "source": [
    "def station_expansion(stations):\n",
    "\n",
    "    # Demand in current timestep\n",
    "    maize_demand   = maize.demand[timestep]\n",
    "    soybean_demand = soybean.demand[timestep]\n",
    "    wheat_demand   = wheat.demand[timestep]\n",
    "    total_demand   = maize_demand + soybean_demand + wheat_demand\n",
    "\n",
    "    # Calculate requred capacity expansion\n",
    "    current_capacity  = stations[0].overall_capacity\n",
    "    hourly_demand     = total_demand/operational_hours/station_utilisation\n",
    "    shortcoming       = hourly_demand * trigger_throughput_perc/100 - current_capacity\n",
    "    added_station_cap = int(np.ceil(shortcoming/modular_capacity_steps)*modular_capacity_steps)\n",
    "\n",
    "    # Assign purchase date and date on which asset comes online\n",
    "    stations[stations[0].quantity].capacity = added_station_cap\n",
    "    stations[stations[0].quantity].purchase_date = year\n",
    "    stations[stations[0].quantity].online_date   = year + stations[0].delivery_time\n",
    "    stations[0].quantity_calc(stations[0].quantity + 1)\n",
    "    stations[0].overall_capacity_calc(stations[0].overall_capacity + added_station_cap)\n",
    "    \n",
    "    return [stations, added_station_cap]"
   ]
  },
  {
   "cell_type": "markdown",
   "metadata": {},
   "source": [
    "### Conveyor investment decision\n",
    "#### Quay conveyor\n",
    "In this setup, the quay-side conveyor investment dicision is triggered whenever the the crane investment is triggered. The conveyor capacity is always sufficient to cope with the cranes' peak unloading capacity. It is assumed that each additional conveyor built increases conveying capacity by 400 t/h."
   ]
  },
  {
   "cell_type": "code",
   "execution_count": null,
   "metadata": {},
   "outputs": [],
   "source": [
    "initial_quay_conveyor_capacity = 0    # in t/h\n",
    "quay_conveyor_length           = 1000 # in meters\n",
    "modular_capacity_steps         = 400  # in t/h"
   ]
  },
  {
   "cell_type": "code",
   "execution_count": 11,
   "metadata": {},
   "outputs": [],
   "source": [
    "def initial_quay_conveyor_setup(q_conveyors):\n",
    "    \n",
    "    q_conveyors[0].capacity = initial_quay_conveyor_capacity\n",
    "    \n",
    "    if initial_quay_conveyor_capacity != 0:\n",
    "        q_conveyors[0].quantity = 1\n",
    "    else:\n",
    "        q_conveyors[0].quantity = 0\n",
    "         \n",
    "    for i in range (len(q_conveyors)):\n",
    "        q_conveyors[i].length = quay_conveyor_length\n",
    "    \n",
    "    return q_conveyors"
   ]
  },
  {
   "cell_type": "code",
   "execution_count": null,
   "metadata": {},
   "outputs": [],
   "source": [
    "def quay_conveyor_invest_decision(q_conveyors, cranes):\n",
    "    \n",
    "    # Determine current overall capacity \n",
    "    n_conveyors = q_conveyors[0].quantity\n",
    "        \n",
    "    if n_conveyors != 0:\n",
    "        conveyor_cap = []\n",
    "        for i in range (n_conveyors):\n",
    "            conveyor_cap.append(q_conveyors[i].capacity)\n",
    "        q_conveyors[0].overall_capacity_calc(int(np.sum(conveyor_cap), n_conveyors, 'Quay'))\n",
    "\n",
    "    else:\n",
    "        q_conveyors[0].overall_capacity = 0\n",
    "                \n",
    "    # Decide whether to invest\n",
    "    current_cap = q_conveyors[0].overall_capacity\n",
    "    current_demand = int(cranes[0][0].peak_capacity * cranes[0][0].quantity +\\\n",
    "                         cranes[1][0].peak_capacity * cranes[1][0].quantity +\\\n",
    "                         cranes[2][0].peak_capacity * cranes[2][0].quantity +\\\n",
    "                         cranes[3][0].peak_capacity * cranes[3][0].quantity)\n",
    "    \n",
    "    if current_cap < current_demand:\n",
    "        return ['Invest in quay conveyors', q_conveyors]\n",
    "    else:\n",
    "        return ['Do not invest in quay conveyors', q_conveyors]"
   ]
  },
  {
   "cell_type": "code",
   "execution_count": null,
   "metadata": {},
   "outputs": [],
   "source": [
    "def quay_conveyor_expansion(q_conveyors, cranes):\n",
    "\n",
    "    # Demand in current timestep\n",
    "    current_demand = int(cranes[0][0].peak_capacity * cranes[0][0].quantity +\\\n",
    "                         cranes[1][0].peak_capacity * cranes[1][0].quantity +\\\n",
    "                         cranes[2][0].peak_capacity * cranes[2][0].quantity +\\\n",
    "                         cranes[3][0].peak_capacity * cranes[3][0].quantity)\n",
    "        \n",
    "    # Calculate required capacity expansion\n",
    "    current_capacity    = q_conveyors[0].overall_capacity\n",
    "    shortcoming         = current_demand - current_capacity\n",
    "    added_conveying_cap = int(np.ceil(shortcoming/modular_capacity_steps)*modular_capacity_steps)\n",
    "\n",
    "    # Assign purchase date and date on which asset comes online\n",
    "    n_conveyors = q_conveyors[0].quantity\n",
    "    q_conveyors[n_conveyors].capacity = added_conveying_cap\n",
    "    q_conveyors[n_conveyors].purchase_date = year\n",
    "    q_conveyors[n_conveyors].online_date = year + q_conveyors[0].delivery_time\n",
    "    q_conveyors[0].quantity_calc(n_conveyors + 1, 'Quay')\n",
    "    q_conveyors[0].overall_capacity_calc(q_conveyors[0].overall_capacity + added_conveying_cap, q_conveyors[0].quantity, 'Quay')\n",
    "        \n",
    "    return [q_conveyors, added_conveying_cap]"
   ]
  },
  {
   "cell_type": "code",
   "execution_count": null,
   "metadata": {},
   "outputs": [],
   "source": []
  },
  {
   "cell_type": "markdown",
   "metadata": {},
   "source": [
    "# Investment functions"
   ]
  },
  {
   "cell_type": "markdown",
   "metadata": {},
   "source": [
    "### Assign purchase date"
   ]
  },
  {
   "cell_type": "code",
   "execution_count": null,
   "metadata": {},
   "outputs": [],
   "source": [
    "# When assets are expanded, the new instances get branded with a purchase date and a date on which they come online\n",
    "def assign_purchase_date(asset, originial_quantity, added_quantity, delay_purchase):\n",
    "    for i in range (originial_quantity, originial_quantity + added_quantity):\n",
    "        asset[i].purchase_date = year + delay_purchase\n",
    "        asset[i].online_date   = asset[i].purchase_date + asset[i].delivery_time"
   ]
  }
 ],
 "metadata": {
  "kernelspec": {
   "display_name": "Python 3",
   "language": "python",
   "name": "python3"
  },
  "language_info": {
   "codemirror_mode": {
    "name": "ipython",
    "version": 3
   },
   "file_extension": ".py",
   "mimetype": "text/x-python",
   "name": "python",
   "nbconvert_exporter": "python",
   "pygments_lexer": "ipython3",
   "version": "3.6.5"
  }
 },
 "nbformat": 4,
 "nbformat_minor": 2
}
