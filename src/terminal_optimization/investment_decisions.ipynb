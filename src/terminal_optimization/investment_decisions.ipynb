{
 "cells": [
  {
   "cell_type": "code",
   "execution_count": null,
   "metadata": {},
   "outputs": [],
   "source": [
    "import numpy as np\n",
    "import pandas as pd"
   ]
  },
  {
   "cell_type": "markdown",
   "metadata": {},
   "source": [
    "# 1 Investment triggers\n",
    "### 1.1 Quay wall triggers"
   ]
  },
  {
   "cell_type": "code",
   "execution_count": null,
   "metadata": {},
   "outputs": [],
   "source": [
    "# Quay length is equal to sum of berth lengths"
   ]
  },
  {
   "cell_type": "markdown",
   "metadata": {},
   "source": [
    "### 1.2 Berth triggers"
   ]
  },
  {
   "cell_type": "code",
   "execution_count": null,
   "metadata": {},
   "outputs": [],
   "source": [
    "allowable_berth_occupancy = 0.40  # Occupancy percentage which triggers the investment in a new berth"
   ]
  },
  {
   "cell_type": "markdown",
   "metadata": {},
   "source": [
    "### 1.3 Crane triggers"
   ]
  },
  {
   "cell_type": "code",
   "execution_count": null,
   "metadata": {},
   "outputs": [],
   "source": [
    "# Number of cranes is always equal to sum of maximimum number of cranes per berth"
   ]
  },
  {
   "cell_type": "markdown",
   "metadata": {},
   "source": [
    "### 1.4 Storage triggers"
   ]
  },
  {
   "cell_type": "code",
   "execution_count": 2,
   "metadata": {},
   "outputs": [],
   "source": [
    "storage_type            = 'Silos'\n",
    "trigger_throughput_perc = 10            # Percentage of annual throughput which triggers the investment in a new storage unit\n",
    "aspired_throughput_perc = 20            # Aspired of annual throughput which is realised due to the new storage unit"
   ]
  },
  {
   "cell_type": "markdown",
   "metadata": {},
   "source": [
    "### 1.5 Loading station triggers"
   ]
  },
  {
   "cell_type": "code",
   "execution_count": null,
   "metadata": {},
   "outputs": [],
   "source": [
    "station_utilisation     = 0.60         # Loading station utilisation\n",
    "trigger_throughput_perc = 80           # Percentage of hourly peak demand which triggers the investment in a new loading unit\n",
    "aspired_throughput_perc = 120          # Aspired percentage of hourly peak demand which is realised due to the new loading unit"
   ]
  },
  {
   "cell_type": "markdown",
   "metadata": {},
   "source": [
    "### 1.6 Conveyor triggers"
   ]
  },
  {
   "cell_type": "code",
   "execution_count": null,
   "metadata": {},
   "outputs": [],
   "source": [
    "# Conveyor capacity always equals the sum of peak capacities of all the cranes on the quay"
   ]
  },
  {
   "cell_type": "markdown",
   "metadata": {},
   "source": [
    "# 2 Investment functions"
   ]
  },
  {
   "cell_type": "markdown",
   "metadata": {},
   "source": [
    "### 2.1 Quay wall investment functions\n",
    "Quay length is calculated as the sum of the berth lengths"
   ]
  },
  {
   "cell_type": "code",
   "execution_count": 5,
   "metadata": {},
   "outputs": [],
   "source": [
    "def initial_quay_setup(quays):\n",
    "    \n",
    "    online = quays[0].t0_length\n",
    "    pending = 0\n",
    "    \n",
    "    quays[0].online_length = online\n",
    "    quays[0].pending_length = pending\n",
    "    \n",
    "    return quays"
   ]
  },
  {
   "cell_type": "code",
   "execution_count": null,
   "metadata": {},
   "outputs": [],
   "source": [
    "def quay_online_transition(quays, year):\n",
    "    \n",
    "    online  = quays[0].online_length\n",
    "    pending = quays[0].pending_length\n",
    "    \n",
    "    if quays[0].pending_length != 0:\n",
    "        index = len(quays)-1\n",
    "        if quays[index].online_date == year:\n",
    "            for i in range (index):\n",
    "                quays[i].online_lenth = online + pending\n",
    "                quays[i].pending_lenth = 0\n",
    "            \n",
    "    return quays"
   ]
  },
  {
   "cell_type": "code",
   "execution_count": null,
   "metadata": {},
   "outputs": [],
   "source": [
    "def quay_invest_decision(berths, quays, year):\n",
    "    if berths[0].pending_quantity != 0:\n",
    "        index = len(berths)-1\n",
    "        if berths[index].online_date == year + quays[0].delivery_time:\n",
    "            return 'Invest in quay'\n",
    "        else:\n",
    "            return 'Do not invest in quay'\n",
    "    else:\n",
    "        return 'Do not invest in quay'"
   ]
  },
  {
   "cell_type": "code",
   "execution_count": null,
   "metadata": {},
   "outputs": [],
   "source": [
    "def quay_expansion(quays, quay_object, berths, year):\n",
    "    \n",
    "    # Calculate berth lengths\n",
    "    online  = berths[0].online_quantity\n",
    "    pending = berths[0].pending_quantity\n",
    "    berth_lengths    = []\n",
    "    \n",
    "    for i in range (online, online + pending):\n",
    "        berth_lengths.append(berths[i].length)\n",
    "    \n",
    "    # Add quay object\n",
    "    quays.append(quay_object)\n",
    "    quays[len(quays)-1].purchase_date = year\n",
    "    quays[len(quays)-1].online_date = year + quays[0].delivery_time\n",
    "    \n",
    "    # Refresh pending lengths\n",
    "    for i in range (len(quays)):\n",
    "        quays[i].pending_length = np.sum(berth_lengths)\n",
    "    \n",
    "    # Register quay length added this timestep\n",
    "    quays[0].delta = quays[0].pending_length\n",
    "    \n",
    "    return quays"
   ]
  },
  {
   "cell_type": "markdown",
   "metadata": {},
   "source": [
    "### 2.2 Berth investment functions\n",
    "The number of berths is initially set to one after which the berth occupancy is calculated. If the berth occupancy is higher than the allowable threshold, an extra berth is added"
   ]
  },
  {
   "cell_type": "code",
   "execution_count": 12,
   "metadata": {},
   "outputs": [],
   "source": [
    "def initial_berth_setup(berths, cranes, handysize, handymax, panamax, timestep):\n",
    "    \n",
    "    online = berths[0].t0_quantity\n",
    "    pending = 0\n",
    "    \n",
    "    for i in range (len(berths)):\n",
    "        berths[i].online_quantity = online\n",
    "        berths[i].pending_quantity = pending\n",
    "        berths[i].remaining_calcs(berths, cranes, handysize, handymax, panamax, timestep)\n",
    "    \n",
    "    return berths"
   ]
  },
  {
   "cell_type": "code",
   "execution_count": null,
   "metadata": {},
   "outputs": [],
   "source": [
    "def berth_online_transition(berths, year):\n",
    "    \n",
    "    online  = berths[0].online_quantity\n",
    "    pending = berths[0].pending_quantity\n",
    "    \n",
    "    for i in range (online, online + pending):\n",
    "        if berths[i].online_date == year:\n",
    "            for j in range (len(berths)):\n",
    "                berths[j].online_quantity = (online+1)\n",
    "                berths[j].pending_quantity = (pending-1)\n",
    "            \n",
    "    return berths"
   ]
  },
  {
   "cell_type": "code",
   "execution_count": 13,
   "metadata": {},
   "outputs": [],
   "source": [
    "def berth_invest_decision(berths, cranes, handysize, handymax, panamax, timestep, operational_hours):\n",
    "\n",
    "    number_of_berths = berths[0].online_quantity + berths[0].pending_quantity\n",
    "    \n",
    "    if number_of_berths == 0:\n",
    "        berths[0].current_occupancy = 100\n",
    "        berths[0].pending_occupancy = 100\n",
    "        return ['Invest in berths', berths]\n",
    "    \n",
    "    else:\n",
    "        current_occupancy = berths[0].occupancy_calc(berths[0].online_quantity, cranes, handysize, handymax, panamax, \n",
    "                                                     timestep, operational_hours)\n",
    "        pending_occupancy = berths[0].occupancy_calc(berths[0].online_quantity + berths[0].pending_quantity, cranes, handysize, \n",
    "                                                     handymax, panamax, timestep, operational_hours)\n",
    "        for i in range (len(berths)):\n",
    "            berths[i].current_occupancy = current_occupancy\n",
    "            berths[i].pending_occupancy = pending_occupancy\n",
    "    \n",
    "    if berths[0].pending_occupancy < allowable_berth_occupancy:\n",
    "        return ['Do not invest in berths', berths]\n",
    "    else:\n",
    "        return ['Invest in berths', berths]"
   ]
  },
  {
   "cell_type": "code",
   "execution_count": null,
   "metadata": {},
   "outputs": [],
   "source": [
    "def berth_expansion(berths, berth_object, cranes, handysize, handymax, panamax, year, timestep, operational_hours):\n",
    "    \n",
    "    n_berths = berths[0].online_quantity +  berths[0].pending_quantity\n",
    "    pending_occupancy = berths[0].pending_occupancy\n",
    "    \n",
    "    old_n_berths = n_berths\n",
    "    while pending_occupancy > allowable_berth_occupancy:\n",
    "        n_berths = n_berths + 1\n",
    "        pending_occupancy = berths[0].occupancy_calc(n_berths, cranes, handysize, handymax, panamax, timestep, operational_hours)\n",
    "        if pending_occupancy < allowable_berth_occupancy:\n",
    "            break\n",
    "    new_n_berths = n_berths\n",
    "            \n",
    "    for i in range (old_n_berths, new_n_berths):\n",
    "        if n_berths != 1:\n",
    "            berths.append(berth_object)\n",
    "        berths[i].purchase_date = year\n",
    "        berths[i].online_date = year + berths[i].delivery_time\n",
    "        berths[i].remaining_calcs(berths, cranes, handysize, handymax, panamax, timestep)\n",
    "        \n",
    "    for i in range (len(berths)):\n",
    "        berths[i].pending_quantity = berths[i].pending_quantity + new_n_berths - old_n_berths\n",
    "    \n",
    "    berths[0].delta = new_n_berths - old_n_berths\n",
    "    \n",
    "    return berths"
   ]
  },
  {
   "cell_type": "markdown",
   "metadata": {},
   "source": [
    "### 2.3 Crane investment functions\n",
    "In this setup, the number of cranes is solely goverened by the number of berths. The number of cranes per berth is equal to the number of cranes that can work simultaeously on the largest vessel that calls to port. E.g. two cranes per berth in years where handymax is the largest vessel and three cranes per berth in years where panamax is the largest vessel"
   ]
  },
  {
   "cell_type": "code",
   "execution_count": 6,
   "metadata": {},
   "outputs": [],
   "source": [
    "def initial_crane_setup(cranes):\n",
    "    \n",
    "    online = [int(cranes[0][0].t0_quantity), int(cranes[1][0].t0_quantity), \n",
    "              int(cranes[2][0].t0_quantity), int(cranes[3][0].t0_quantity)]\n",
    "    pending = [0,0,0,0]\n",
    "    \n",
    "    for i in range (4):\n",
    "        if online[i] != 0:\n",
    "            cranes[i].append((online[i]-1)*cranes[i])\n",
    "            for j in range (online[i]):\n",
    "                cranes[i][j].online_quantity  = online[i]\n",
    "                cranes[i][j].pending_quantity = pending[i]\n",
    "        else:\n",
    "            cranes[i][0].online_quantity  = 0\n",
    "            cranes[i][0].pending_quantity = 0\n",
    "    \n",
    "    return cranes"
   ]
  },
  {
   "cell_type": "code",
   "execution_count": null,
   "metadata": {},
   "outputs": [],
   "source": [
    "def crane_online_transition(cranes, year):\n",
    "    \n",
    "    online  = []\n",
    "    pending = []\n",
    "    \n",
    "    for i in range (4):\n",
    "        online.append(cranes[i][0].online_quantity)\n",
    "        pending.append(cranes[i][0].pending_quantity)\n",
    "    \n",
    "    for i in range (4):\n",
    "        coming_online = []\n",
    "        for j in range(online[i], online[i] + pending[i]):\n",
    "            if cranes[i][j].online_date == year:\n",
    "                cranes[i][j].berth = berths[0].online_quantity\n",
    "                coming_online.append(1)   \n",
    "        for j in range (len(cranes[i])):\n",
    "            cranes[i][j].online_quantity = int(np.sum(coming_online))\n",
    "            cranes[i][j].pending_quantity = int(cranes[i][j].pending_quantity - np.sum(coming_online))\n",
    "                \n",
    "    return cranes"
   ]
  },
  {
   "cell_type": "code",
   "execution_count": 1,
   "metadata": {},
   "outputs": [],
   "source": [
    "def crane_invest_decision(cranes, berths, year):\n",
    "    if berths[0].pending_quantity != 0:\n",
    "        if berths[len(berths)-1].online_date == year + cranes[0][0].delivery_time + 1:\n",
    "            return 'Invest in cranes'\n",
    "        else:\n",
    "            return 'Do not invest in cranes'\n",
    "    else:\n",
    "        return 'Do not invest in cranes'"
   ]
  },
  {
   "cell_type": "code",
   "execution_count": 2,
   "metadata": {},
   "outputs": [],
   "source": [
    "def crane_expansion(cranes, cranes_object, berths, year):\n",
    "    \n",
    "    # Determine original number of cranes\n",
    "    online  = []\n",
    "    pending = []\n",
    "    \n",
    "    for i in range (4):\n",
    "        online.append(cranes[i][0].online_quantity)\n",
    "        pending.append(cranes[i][0].pending_quantity)\n",
    "    \n",
    "    # Required cranes at the berths that are due to come online \n",
    "    berth_index = len(berths)-1\n",
    "    gantry_cranes_added   = []\n",
    "    harbour_cranes_added  = []\n",
    "    mobile_cranes_added   = []\n",
    "    screw_unloaders_added = []\n",
    "    \n",
    "    if berths[berth_index].crane_type == 'Gantry cranes':\n",
    "        gantry_cranes_added.append(berths[berth_index].n_cranes)\n",
    "    if berths[berth_index].crane_type == 'Harbour cranes':\n",
    "        harbour_cranes_added.append(berths[berth_index].n_cranes)\n",
    "    if berths[berth_index].crane_type == 'Mobile cranes':\n",
    "        mobile_cranes_added.append(berths[berth_index].n_cranes)            \n",
    "    if berths[berth_index].crane_type == 'Screw unloaders':\n",
    "        screw_unloaders_added.append(berths[berth_index].n_cranes)\n",
    "    \n",
    "    cranes_added = [int(np.sum(gantry_cranes_added)), int(np.sum(harbour_cranes_added)),\n",
    "                    int(np.sum(mobile_cranes_added)), int(np.sum(screw_unloaders_added))]\n",
    "    \n",
    "    # Assign purchase dates and dates on which assets come online\n",
    "    for i in range (4):\n",
    "        if cranes_added[i] != 0:\n",
    "            if len(cranes[i]) == 1:\n",
    "                for j in range (cranes_added[i]-1):\n",
    "                    cranes[i].append(cranes_object[i])\n",
    "            else:\n",
    "                for j in range (cranes_added[i]):\n",
    "                    cranes[i].append(cranes_object[i])\n",
    "            for j in range (online[i], online[i] + cranes_added[i]):\n",
    "                cranes[i][j].purchase_date = year\n",
    "                cranes[i][j].online_date = year + cranes[i][j].delivery_time\n",
    "            for j in range (len(cranes[i])):\n",
    "                cranes[i][j].pending_quantity = pending[i]+cranes_added[i]\n",
    "        \n",
    "        cranes[i][0].delta = cranes_added[i]\n",
    "    \n",
    "    return cranes"
   ]
  },
  {
   "cell_type": "markdown",
   "metadata": {},
   "source": [
    "### 2.4 Storage investment functions\n",
    "In this setup, the storage investment is triggered whenever the storage capacity equals 10% of yearly demand. Once triggered, the storage is expanded to accomodate 20% of yearly throughput"
   ]
  },
  {
   "cell_type": "code",
   "execution_count": 1,
   "metadata": {},
   "outputs": [],
   "source": [
    "def initial_storage_setup(storage):\n",
    "    \n",
    "    online  = [storage[0][0].t0_capacity, storage[1][0].t0_capacity]\n",
    "    pending = [0,0]\n",
    "    \n",
    "    for i in range (2):\n",
    "        if online[i] != 0:\n",
    "            storage[i][0].online_capacity  = online[i]\n",
    "            storage[i][0].pending_quantity = pending[i]\n",
    "        else:\n",
    "            storage[i][0].online_capacity  = 0\n",
    "            storage[i][0].pending_capacity = 0\n",
    "    \n",
    "    return storage"
   ]
  },
  {
   "cell_type": "code",
   "execution_count": null,
   "metadata": {},
   "outputs": [],
   "source": [
    "def storage_online_transition(storage, year):\n",
    "    \n",
    "    online   = []\n",
    "    pending  = []\n",
    "    \n",
    "    for i in range (2):\n",
    "        online.append(storage[i][0].online_capacity)\n",
    "        pending.append(storage[i][0].pending_capacity)\n",
    "    \n",
    "        if pending[i] == 0:\n",
    "            break\n",
    "        \n",
    "        else:\n",
    "            coming_online = []\n",
    "            for j in range(len(storage[i])):\n",
    "                if storage[i][j].online_date == year:\n",
    "                    coming_online.append(storage[i][j].pending_capacity)        \n",
    "\n",
    "            capacity_coming_online = np.sum(coming_online)\n",
    "\n",
    "            if capacity_coming_online != 0:\n",
    "                for j in range(len(storage[i])):\n",
    "                    storage[i][j].online_capacity  = online[i] + capacity_coming_online\n",
    "                    storage[i][j].pending_capacity = 0\n",
    "            \n",
    "    return storage"
   ]
  },
  {
   "cell_type": "code",
   "execution_count": null,
   "metadata": {},
   "outputs": [],
   "source": [
    "def storage_invest_decision(storage, maize, soybean, wheat, timestep):\n",
    "    \n",
    "    # Determine current capacity\n",
    "    online   = []\n",
    "    pending  = []\n",
    "    \n",
    "    for i in range (2):\n",
    "        online.append(storage[i][0].online_capacity)\n",
    "        pending.append(storage[i][0].pending_capacity)\n",
    "    \n",
    "    total_online_capacity  = np.sum(online)\n",
    "    total_pending_capacity = np.sum(pending)\n",
    "    current_demand         = maize.demand[timestep] + soybean.demand[timestep] + wheat.demand[timestep]\n",
    "    \n",
    "    for i in range (2):\n",
    "        for j in range(len(storage[i])):\n",
    "            storage[i][j].total_online_capacity = total_online_capacity\n",
    "            storage[i][j].total_pending_capacity = total_pending_capacity\n",
    "            storage[i][j].current_demand = current_demand\n",
    "            \n",
    "    # Decide whether current capacity requires further investment\n",
    "    if total_online_capacity + total_pending_capacity < current_demand * trigger_throughput_perc/100:\n",
    "        return ['Invest in storage', storage]\n",
    "    else:\n",
    "        return ['Do not invest in storage', storage]"
   ]
  },
  {
   "cell_type": "code",
   "execution_count": 7,
   "metadata": {},
   "outputs": [],
   "source": [
    "def storage_expansion(storage, year):\n",
    "    \n",
    "    # Calculate capacity shortcoming\n",
    "    current_capacity = storage[0][0].total_online_capacity + storage[1][0].total_online_capacity\n",
    "    shortcoming      = storage[0][0].current_demand * aspired_throughput_perc/100 - current_capacity\n",
    "    \n",
    "    # Silo expansion method\n",
    "    if storage_type == 'Silos':\n",
    "        \n",
    "        # Calculate requred capacity expansion\n",
    "        silo_size = storage[0][0].silo_capacity\n",
    "        added_silo_cap   = int(np.ceil(shortcoming/silo_size)*silo_size)\n",
    "        added_warehouse_cap = 0\n",
    "        \n",
    "        # Assign purchase date and date on which asset comes online\n",
    "        index = len(storage[0])-1\n",
    "        storage[0][index].purchase_date = year\n",
    "        storage[0][index].online_date   = year + storage[0][0].delivery_time\n",
    "        for i in range (len(storage[0])):\n",
    "            storage[0][i].pending_capacity = added_silo_cap\n",
    "            \n",
    "    # Warehouse expansion method\n",
    "    else:\n",
    "        \n",
    "        # Calculate requred capacity expansion\n",
    "        added_silo_cap = 0\n",
    "        added_warehouse_cap = int(shortcoming)\n",
    "        \n",
    "        # Assign purchase date and date on which asset comes online\n",
    "        index = len(storage[1])-1\n",
    "        storage[1][index].purchase_date = year\n",
    "        storage[1][index].online_date   = year + storage[1][0].delivery_time\n",
    "        for i in range (len(storage[1])):\n",
    "            storage[1][i].pending_capacity = added_warehouse_cap\n",
    "            \n",
    "    storage[0][0].delta = added_silo_cap\n",
    "    storage[1][0].delta = added_warehouse_cap\n",
    "    \n",
    "    return storage"
   ]
  },
  {
   "cell_type": "markdown",
   "metadata": {},
   "source": [
    "### 2.6 Loading station investment functions\n",
    "In this setup, it is assumed that the loading station has a utilisation rate of 60%. The loading station investment is triggered whenever the yearly loading capacity equals 80% of yearly demand, taking the utilisation rate into account. Once triggered, the loading rate is expanded to accomodate 120% of yearly throughput in steps of 300 t/h"
   ]
  },
  {
   "cell_type": "code",
   "execution_count": 2,
   "metadata": {},
   "outputs": [],
   "source": [
    "def initial_station_setup(stations):\n",
    "    \n",
    "    online  = stations[0].t0_capacity\n",
    "    pending = 0\n",
    "    \n",
    "    if online != 0:\n",
    "        stations[0].online_capacity  = online\n",
    "        stations[0].pending_capacity = pending\n",
    "    else:\n",
    "        stations[0].online_capacity  = 0\n",
    "        stations[0].pending_capacity = 0\n",
    "\n",
    "    return stations"
   ]
  },
  {
   "cell_type": "code",
   "execution_count": null,
   "metadata": {},
   "outputs": [],
   "source": [
    "def station_online_transition(stations, year):\n",
    "    \n",
    "    online   = stations[0].online_capacity\n",
    "    pending  = stations[0].pending_capacity\n",
    "    coming_online = []\n",
    "    \n",
    "    if pending == 0:\n",
    "        return stations\n",
    "    \n",
    "    else:\n",
    "        for i in range(len(stations)):\n",
    "            if stations[i].online_date == year:\n",
    "                coming_online.append(stations[i].pending_capacity)\n",
    "\n",
    "        capacity_coming_online = np.sum(coming_online)\n",
    "\n",
    "        for i in range(len(stations)):\n",
    "            stations[i].online_capacity  = online + capacity_coming_online\n",
    "            stations[i].pending_capacity = pending - capacity_coming_online\n",
    "        return stations"
   ]
  },
  {
   "cell_type": "code",
   "execution_count": 8,
   "metadata": {},
   "outputs": [],
   "source": [
    "def station_invest_decision(stations, maize, soybean, wheat, timestep, operational_hours):\n",
    "    \n",
    "    online   = stations[0].online_capacity\n",
    "    pending  = stations[0].pending_capacity\n",
    "\n",
    "    # Decide whether to invest\n",
    "    current_capacity = online + pending \n",
    "    current_demand   = maize.demand[timestep] + soybean.demand[timestep] + wheat.demand[timestep]\n",
    "    trigger_capacity = current_demand * trigger_throughput_perc/100/operational_hours/station_utilisation\n",
    "                   \n",
    "    if current_capacity < trigger_capacity:\n",
    "        return 'Invest in loading stations'\n",
    "    else:\n",
    "        return 'Do not invest in loading stations'"
   ]
  },
  {
   "cell_type": "code",
   "execution_count": 9,
   "metadata": {},
   "outputs": [],
   "source": [
    "def station_expansion(stations, maize, soybean, wheat, year, timestep, operational_hours):\n",
    "    \n",
    "    online   = stations[0].online_capacity\n",
    "    pending  = stations[0].pending_capacity\n",
    "    \n",
    "    # Calculate required capacity expansion\n",
    "    cap_steps         = stations[0].capacity_steps\n",
    "    current_capacity  = online + pending\n",
    "    current_demand    = maize.demand[timestep] + soybean.demand[timestep] + wheat.demand[timestep]\n",
    "    required_capacity = current_demand * aspired_throughput_perc/100/operational_hours/station_utilisation\n",
    "    shortcoming       = required_capacity - current_capacity\n",
    "    added_station_cap = int(np.ceil(shortcoming/cap_steps)*cap_steps)\n",
    "    \n",
    "    # Assign purchase date and date on which asset comes online\n",
    "    index = len(stations)-1\n",
    "    stations[index].purchase_date = year\n",
    "    stations[index].online_date   = year + stations[0].delivery_time\n",
    "    for i in range (len(stations)):\n",
    "        stations[i].pending_capacity = added_station_cap\n",
    "        \n",
    "    stations[0].delta = added_station_cap\n",
    "    \n",
    "    return stations"
   ]
  },
  {
   "cell_type": "markdown",
   "metadata": {},
   "source": [
    "### 2.7 Conveyor investment functions\n",
    "#### 2.7.1 Quay conveyor\n",
    "In this setup, the quay-side conveyor investment dicision is triggered whenever the the crane investment is triggered. The conveyor capacity is always sufficient to cope with the cranes' peak unloading capacity. "
   ]
  },
  {
   "cell_type": "code",
   "execution_count": 11,
   "metadata": {},
   "outputs": [],
   "source": [
    "def initial_conveyor_setup(conveyors):\n",
    "    \n",
    "    online  = conveyors[0].t0_capacity\n",
    "    pending = 0\n",
    "    \n",
    "    if online != 0:\n",
    "        conveyors[0].online_capacity  = online\n",
    "        conveyors[0].pending_capacity = pending\n",
    "    else:\n",
    "        conveyors[0].online_capacity  = 0\n",
    "        conveyors[0].pending_capacity = 0\n",
    "    \n",
    "    return conveyors"
   ]
  },
  {
   "cell_type": "code",
   "execution_count": null,
   "metadata": {},
   "outputs": [],
   "source": [
    "def conveyor_online_transition(conveyors, year):\n",
    "    \n",
    "    online   = conveyors[0].online_capacity\n",
    "    pending  = conveyors[0].pending_capacity\n",
    "    coming_online = []\n",
    "    \n",
    "    if pending == 0:\n",
    "        return conveyors\n",
    "    \n",
    "    else:\n",
    "        for i in range(len(conveyors)):\n",
    "            if conveyors[i].online_date == year:\n",
    "                coming_online.append(conveyors[i].pending_capacity)\n",
    "\n",
    "        capacity_coming_online = np.sum(coming_online)\n",
    "\n",
    "        for i in range(len(conveyors)):\n",
    "            conveyors[i].online_capacity  = online + capacity_coming_online\n",
    "            conveyors[i].pending_capacity = pending - capacity_coming_online\n",
    "        return conveyors"
   ]
  },
  {
   "cell_type": "code",
   "execution_count": null,
   "metadata": {},
   "outputs": [],
   "source": [
    "def quay_conveyor_invest_decision(q_conveyors, cranes):\n",
    "    \n",
    "    online   = q_conveyors[0].online_capacity\n",
    "    pending  = q_conveyors[0].pending_capacity\n",
    "\n",
    "    # Decide whether to invest\n",
    "    current_capacity = online + pending \n",
    "    current_demand   = int(cranes[0][0].peak_capacity * cranes[0][0].online_quantity +\\\n",
    "                           cranes[1][0].peak_capacity * cranes[1][0].online_quantity +\\\n",
    "                           cranes[2][0].peak_capacity * cranes[2][0].online_quantity +\\\n",
    "                           cranes[3][0].peak_capacity * cranes[3][0].online_quantity)\n",
    "    pending_demand   = int(cranes[0][0].peak_capacity * cranes[0][0].pending_quantity +\\\n",
    "                           cranes[1][0].peak_capacity * cranes[1][0].pending_quantity +\\\n",
    "                           cranes[2][0].peak_capacity * cranes[2][0].pending_quantity +\\\n",
    "                           cranes[3][0].peak_capacity * cranes[3][0].pending_quantity)\n",
    "    \n",
    "    for i in range (len(q_conveyors)):\n",
    "        q_conveyors[i].current_demand = current_demand\n",
    "        q_conveyors[i].pending_demand = pending_demand\n",
    "                   \n",
    "    if current_capacity < current_demand + pending_demand:\n",
    "        return ['Invest in quay conveyors', q_conveyors]\n",
    "    else:\n",
    "        return ['Do not invest in quay conveyors', q_conveyors]"
   ]
  },
  {
   "cell_type": "code",
   "execution_count": null,
   "metadata": {},
   "outputs": [],
   "source": [
    "def quay_conveyor_expansion(q_conveyors, cranes, year):\n",
    "    \n",
    "    online   = q_conveyors[0].online_capacity\n",
    "    pending  = q_conveyors[0].pending_capacity\n",
    "    \n",
    "    # Calculate required capacity expansion\n",
    "    capacity_steps      = q_conveyors[0].capacity_steps\n",
    "    current_capacity    = online + pending\n",
    "    current_demand      = q_conveyors[0].current_demand\n",
    "    pending_demand      = q_conveyors[0].pending_demand\n",
    "    shortcoming         = current_demand + pending_demand - current_capacity\n",
    "    added_conveying_cap = int(np.ceil(shortcoming/capacity_steps)*capacity_steps)\n",
    "    \n",
    "    # Assign purchase date and date on which asset comes online\n",
    "    index = len(q_conveyors)-1\n",
    "    q_conveyors[index].purchase_date = year\n",
    "    q_conveyors[index].online_date   = year + q_conveyors[0].delivery_time\n",
    "    for i in range (len(q_conveyors)):\n",
    "        q_conveyors[i].pending_capacity = added_conveying_cap\n",
    "        \n",
    "    q_conveyors[0].delta = added_conveying_cap\n",
    "    \n",
    "    return q_conveyors"
   ]
  },
  {
   "cell_type": "markdown",
   "metadata": {},
   "source": [
    "#### 2.7.2 Hinterland conveyor\n",
    "In this setup, the hinterland conveyor investment dicision is triggered in order always live up to loading station capacity."
   ]
  },
  {
   "cell_type": "code",
   "execution_count": null,
   "metadata": {},
   "outputs": [],
   "source": [
    "def hinterland_conveyor_invest_decision(h_conveyors, stations):\n",
    "    \n",
    "    online   = h_conveyors[0].online_capacity\n",
    "    pending  = h_conveyors[0].pending_capacity\n",
    "\n",
    "    # Decide whether to invest\n",
    "    current_capacity = online + pending \n",
    "    current_demand   = stations[0].online_capacity\n",
    "    pending_demand   = stations[0].pending_capacity\n",
    "    \n",
    "    for i in range (len(h_conveyors)):\n",
    "        h_conveyors[i].current_demand = current_demand\n",
    "        h_conveyors[i].pending_demand = pending_demand\n",
    "                   \n",
    "    if current_capacity <= current_demand + pending_demand:\n",
    "        return ['Invest in hinterland conveyors', h_conveyors]\n",
    "    else:\n",
    "        return ['Do not invest in hinterland conveyors', h_conveyors]"
   ]
  },
  {
   "cell_type": "code",
   "execution_count": 3,
   "metadata": {},
   "outputs": [],
   "source": [
    "def hinterland_conveyor_expansion(h_conveyors, stations, year):\n",
    "    \n",
    "    online   = h_conveyors[0].online_capacity\n",
    "    pending  = h_conveyors[0].pending_capacity\n",
    "    \n",
    "    # Calculate required capacity expansion\n",
    "    capacity_steps      = h_conveyors[0].capacity_steps\n",
    "    current_capacity    = online + pending\n",
    "    current_demand      = h_conveyors[0].current_demand\n",
    "    pending_demand      = h_conveyors[0].pending_demand\n",
    "    shortcoming         = current_demand + pending_demand - current_capacity\n",
    "    added_conveying_cap = int(np.ceil(shortcoming/capacity_steps)*capacity_steps)\n",
    "    \n",
    "    # Assign purchase date and date on which asset comes online\n",
    "    index = len(h_conveyors)-1\n",
    "    h_conveyors[index].purchase_date = year\n",
    "    h_conveyors[index].online_date   = year + h_conveyors[0].delivery_time\n",
    "    for i in range (len(h_conveyors)):\n",
    "        h_conveyors[i].pending_capacity = added_conveying_cap\n",
    "        \n",
    "    h_conveyors[0].delta = added_conveying_cap\n",
    "    \n",
    "    return h_conveyors"
   ]
  },
  {
   "cell_type": "markdown",
   "metadata": {},
   "source": [
    "# Throughput Calculations"
   ]
  },
  {
   "cell_type": "code",
   "execution_count": null,
   "metadata": {},
   "outputs": [],
   "source": [
    "def quay_throughput(berths, cranes):\n",
    "    \n",
    "    if berths[0].online_quantity == 0:\n",
    "        return 0\n",
    "    \n",
    "    quay_throughput = []\n",
    "    for i in range (len(berths)):\n",
    "        occupancy = berths[i].current_occupancy/berths[i].online_quantity\n",
    "        eff_unloading_rate = []\n",
    "        for j in range (4):\n",
    "            for k in range (len(cranes[j])):\n",
    "                if cranes[i][j].berth == i+1:\n",
    "                    eff_unloading_rate.append(crane[i][j].effective_capacity)\n",
    "        online_eff_unloading_rate = np.sum(eff_unloading_rate)\n",
    "        berth[i].throughput = online_eff_unloading_rate * occupancy\n",
    "        quay_throughput.append(berth[i].throughput)\n",
    "    return np.sum(quay_throughput)"
   ]
  },
  {
   "cell_type": "code",
   "execution_count": 5,
   "metadata": {},
   "outputs": [],
   "source": [
    "def quay_conveyor_throughput():\n",
    "    pass"
   ]
  },
  {
   "cell_type": "code",
   "execution_count": null,
   "metadata": {},
   "outputs": [],
   "source": [
    "def storage_throughput():\n",
    "    pass"
   ]
  },
  {
   "cell_type": "code",
   "execution_count": null,
   "metadata": {},
   "outputs": [],
   "source": [
    "def hinterland_conveyor_throughput():\n",
    "    pass"
   ]
  },
  {
   "cell_type": "code",
   "execution_count": null,
   "metadata": {},
   "outputs": [],
   "source": [
    "def loading_station_throughput():\n",
    "    pass"
   ]
  }
 ],
 "metadata": {
  "kernelspec": {
   "display_name": "Python 3",
   "language": "python",
   "name": "python3"
  },
  "language_info": {
   "codemirror_mode": {
    "name": "ipython",
    "version": 3
   },
   "file_extension": ".py",
   "mimetype": "text/x-python",
   "name": "python",
   "nbconvert_exporter": "python",
   "pygments_lexer": "ipython3",
   "version": "3.6.5"
  }
 },
 "nbformat": 4,
 "nbformat_minor": 2
}
