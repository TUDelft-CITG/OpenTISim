{
 "cells": [
  {
   "cell_type": "code",
   "execution_count": 1,
   "metadata": {},
   "outputs": [],
   "source": [
    "import numpy as np\n",
    "import pandas as pd\n",
    "import matplotlib.pyplot as plt"
   ]
  },
  {
   "cell_type": "code",
   "execution_count": 2,
   "metadata": {},
   "outputs": [],
   "source": [
    "def import_notebook():\n",
    "    year              = parameters.year\n",
    "    operational_hours = parameters.operational_hours"
   ]
  },
  {
   "cell_type": "markdown",
   "metadata": {},
   "source": [
    "# Terminal Infrastructure"
   ]
  },
  {
   "cell_type": "markdown",
   "metadata": {},
   "source": [
    "## Quay wall"
   ]
  },
  {
   "cell_type": "code",
   "execution_count": 3,
   "metadata": {},
   "outputs": [],
   "source": [
    "# create quay wall class **will ultimately be placed in package**\n",
    "class quay_wall_properties_mixin(object):\n",
    "    def __init__(self, ownership, lifespan, mobilisation_min, mobilisation_perc, maintenance_perc, insurance_perc, length, depth, *args, **kwargs):\n",
    "        super().__init__(*args, **kwargs)\n",
    "        \"initialize\"\n",
    "        self.ownership            = ownership\n",
    "        self.lifespan             = lifespan\n",
    "        self.mobilisation_min     = mobilisation_min\n",
    "        self.mobilisation_perc    = mobilisation_perc\n",
    "        self.maintenance_perc     = maintenance_perc\n",
    "        self.insurance_perc       = insurance_perc\n",
    "        self.length               = length\n",
    "        self.depth                = depth\n",
    "\n",
    "# Initial data set, data from Excel_input.xlsx\n",
    "quay_data = {\"ownership\": 'Port authority', \"lifespan\": 50, \"mobilisation_min\": 2500000,\n",
    "             \"mobilisation_perc\": 0.02, \"maintenance_perc\": 0.01, \"insurance_perc\": 0.01,\"length\": 400, \"depth\": 14} "
   ]
  },
  {
   "cell_type": "code",
   "execution_count": 4,
   "metadata": {},
   "outputs": [],
   "source": [
    "# define quay wall class functions **will ultimately be placed in package**\n",
    "class quay_wall(quay_wall_properties_mixin):\n",
    "    def __init__(self, *args, **kwargs):\n",
    "        super().__init__(*args, **kwargs)\n",
    "        \n",
    "    def unit_rate_calc(self):\n",
    "        self.unit_rate = 757.20 * (self.depth+5)**1.2878 # van Gijt (2010)\n",
    "    \n",
    "    def original_value_calc(self):\n",
    "        self.original_value = int(self.length * self.unit_rate)\n",
    "        \n",
    "    def mobilisation_calc(self):\n",
    "        self.mobilisation = int(max((self.delta * self.unit_rate * self.mobilisation_perc), self.mobilisation_min))\n",
    "        \n",
    "    def maintenance_calc(self):\n",
    "        self.maintenance = int(self.original_value * self.maintenance_perc)\n",
    "        \n",
    "    def insurance_calc(self):\n",
    "        self.insurance = int(self.original_value * self.insurance_perc)"
   ]
  },
  {
   "cell_type": "code",
   "execution_count": 5,
   "metadata": {},
   "outputs": [],
   "source": [
    "# create objects **will ultimately be placed in notebook**\n",
    "quay = quay_wall(**quay_data)"
   ]
  },
  {
   "cell_type": "markdown",
   "metadata": {},
   "source": [
    "## Berths"
   ]
  },
  {
   "cell_type": "code",
   "execution_count": 6,
   "metadata": {},
   "outputs": [],
   "source": [
    "# create berth class\n",
    "class berth_properties_mixin(object):\n",
    "    def __init__(self, *args, **kwargs):\n",
    "        super().__init__(*args, **kwargs)"
   ]
  },
  {
   "cell_type": "code",
   "execution_count": 7,
   "metadata": {},
   "outputs": [],
   "source": [
    "# define berth functions \n",
    "class berths(berth_properties_mixin):\n",
    "    def __init__(self, *args, **kwargs):\n",
    "        super().__init__(*args, **kwargs)"
   ]
  },
  {
   "cell_type": "markdown",
   "metadata": {},
   "source": [
    "## Cranes (cyclic)"
   ]
  },
  {
   "cell_type": "code",
   "execution_count": 8,
   "metadata": {},
   "outputs": [],
   "source": [
    "# create cyclic unloader class **will ultimately be placed in package**\n",
    "class cyclic_properties_mixin(object):\n",
    "    def __init__(self, ownership, lifespan, unit_rate, mobilisation_perc, maintenance_perc, insurance_perc, consumption, crew, unloader_type, lifting_capacity, hourly_cycles, eff_fact, utilisation, *args, **kwargs):\n",
    "        super().__init__(*args, **kwargs)\n",
    "        \"initialize\"\n",
    "        self.ownership            = ownership\n",
    "        self.lifespan             = lifespan\n",
    "        self.unit_rate            = unit_rate\n",
    "        self.mobilisation_perc    = mobilisation_perc\n",
    "        self.maintenance_perc     = maintenance_perc\n",
    "        self.insurance_perc       = insurance_perc\n",
    "        self.consumption          = consumption\n",
    "        self.crew                 = crew\n",
    "        self.unloader_type        = unloader_type\n",
    "        self.lifting_capacity     = lifting_capacity\n",
    "        self.hourly_cycles        = hourly_cycles\n",
    "        self.eff_fact             = eff_fact\n",
    "        self.utilisation          = utilisation\n",
    "        self.payload              = int(0.70 * self.lifting_capacity)      #Source: Nemag\n",
    "        self.peak_capacity        = int(self.payload * self.hourly_cycles) \n",
    "        self.effective_capacity   = int(eff_fact * self.peak_capacity)     #Source: TATA steel\n",
    "\n",
    "# Initial data set, data from Excel_input.xlsx\n",
    "gantry_data        = {\"ownership\": 'Terminal operator', \"lifespan\": 40, \"unit_rate\": 19500000,\"mobilisation_perc\": 0.15, \n",
    "                      \"maintenance_perc\": 0.02, \"insurance_perc\": 0.01,\"consumption\": 0, \"crew\": 3, \n",
    "                      \"unloader_type\": 'Gantry crane', \"lifting_capacity\": 70, \"hourly_cycles\": 60, \"eff_fact\": 0.55,\n",
    "                      \"utilisation\": 0.80}\n",
    "\n",
    "harbour_crane_data = {\"ownership\": 'Terminal operator', \"lifespan\": 40, \"unit_rate\": 14000000, \"mobilisation_perc\": 0.15, \n",
    "                      \"maintenance_perc\": 0.02, \"insurance_perc\": 0.01,\"consumption\": 0, \"crew\": 3, \n",
    "                      \"unloader_type\": 'Harbour crane crane', \"lifting_capacity\": 40, \"hourly_cycles\": 40, \"eff_fact\": 0.55,\n",
    "                      \"utilisation\": 0.80}\n",
    "\n",
    "mobile_crane_data  = {\"ownership\": 'Terminal operator', \"lifespan\": 20, \"unit_rate\": 3325000,\"mobilisation_perc\": 0.15, \n",
    "                      \"maintenance_perc\": 0.031,\"insurance_perc\": 0.01,\"consumption\": 485, \"crew\": 3, \n",
    "                      \"unloader_type\": 'Mobile crane',\"lifting_capacity\": 60, \"hourly_cycles\": 30, \"eff_fact\": 0.55,\n",
    "                      \"utilisation\": 0.80}"
   ]
  },
  {
   "cell_type": "code",
   "execution_count": 9,
   "metadata": {},
   "outputs": [],
   "source": [
    "# define cyclic unloader class functions **will ultimately be placed in package**\n",
    "class cyclic_unloader(cyclic_properties_mixin):\n",
    "    def __init__(self, *args, **kwargs):\n",
    "        super().__init__(*args, **kwargs)\n",
    "        \n",
    "    def total_capacity_calc(self):\n",
    "        self.total_peak_capacity = int(self.quantity * self.peak_capacity)\n",
    "        self.total_eff_capacity  = int(self.total_peak_capacity * self.eff_fact)\n",
    "    \n",
    "    def original_value_calc(self):\n",
    "        self.original_value = int(self.quantity * self.unit_rate) \n",
    "        \n",
    "    def lease_calc(self):\n",
    "        if self.unloader_type == 'Mobile crane':\n",
    "            self.lease = int(self.original_value * 0.10)\n",
    "        else:\n",
    "            return\n",
    "            \n",
    "    def mobilisation_calc(self):\n",
    "        self.mobilisation = int(self.delta * self.unit_rate * self.mobilisation_perc)\n",
    "        \n",
    "    def maintenance_calc(self):\n",
    "        self.maintenance = int(self.original_value * self.maintenance_perc)\n",
    "        \n",
    "    def insurance_calc(self):\n",
    "        self.insurance = int(self.original_value * self.insurance_perc)\n",
    "        \n",
    "    def consumption_calc(self):\n",
    "        if self.unloader_type != 'Mobile crane':\n",
    "            self.consumption = int(0.3 * operational_hours * self.utilisation * self.quantity * self.peak_capacity)\n",
    "        if self.unloader_type == 'Mobile crane':\n",
    "            self.consumption = int(485 * operational_hours * self.utilisation * self.quantity)\n",
    "        \n",
    "    def shifts_calc(self):\n",
    "        self.shifts = int(np.ceil(self.quantity * operational_hours * self.crew / labour.shift_length))"
   ]
  },
  {
   "cell_type": "code",
   "execution_count": 10,
   "metadata": {},
   "outputs": [],
   "source": [
    "# create objects **will ultimately be placed in notebook**\n",
    "gantry_cranes   = cyclic_unloader(**gantry_data)\n",
    "harbour_cranes  = cyclic_unloader(**harbour_crane_data)  \n",
    "mobile_cranes   = cyclic_unloader(**mobile_crane_data) "
   ]
  },
  {
   "cell_type": "markdown",
   "metadata": {},
   "source": [
    "## Cranes (continuous)"
   ]
  },
  {
   "cell_type": "code",
   "execution_count": 11,
   "metadata": {},
   "outputs": [],
   "source": [
    "# create continuous unloader class **will ultimately be placed in package**\n",
    "class continuous_properties_mixin(object):\n",
    "    def __init__(self, ownership, lifespan, unit_rate, mobilisation_perc, maintenance_perc, insurance_perc, crew, unloader_type, peak_capacity, eff_fact, utilisation, *args, **kwargs):\n",
    "        super().__init__(*args, **kwargs)\n",
    "        \"initialize\"\n",
    "        self.ownership            = ownership\n",
    "        self.lifespan             = lifespan\n",
    "        self.unit_rate            = unit_rate\n",
    "        self.mobilisation_perc    = mobilisation_perc\n",
    "        self.mobilisation         = int(mobilisation_perc * unit_rate)\n",
    "        self.maintenance_perc     = maintenance_perc\n",
    "        self.insurance_perc       = insurance_perc\n",
    "        self.crew                 = crew\n",
    "        self.unloader_type        = unloader_type\n",
    "        self.peak_capacity        = peak_capacity\n",
    "        self.eff_fact             = eff_fact \n",
    "        self.utilisation          = utilisation\n",
    "\n",
    "# Initial data set, data from Excel_input.xlsx\n",
    "continuous_screw_data = {\"ownership\": 'Terminal operator', \"lifespan\": 30, \"unit_rate\": 6900000, \"mobilisation_perc\": 0.15, \n",
    "                         \"maintenance_perc\": 0.02, \"insurance_perc\": 0.01, \"crew\": 2,\"unloader_type\": 'Screw unloader', \n",
    "                         \"peak_capacity\": 700, \"eff_fact\": 0.55, \"utilisation\": 0.80}"
   ]
  },
  {
   "cell_type": "code",
   "execution_count": 12,
   "metadata": {},
   "outputs": [],
   "source": [
    "# define continuous unloader class functions **will ultimately be placed in package**\n",
    "class continuous_unloader(continuous_properties_mixin):\n",
    "    \n",
    "    def __init__(self, *args, **kwargs):\n",
    "        super().__init__(*args, **kwargs)\n",
    "        \n",
    "    def total_capacity_calc(self):\n",
    "        self.total_peak_capacity = int(self.quantity * self.peak_capacity)\n",
    "        self.total_eff_capacity  = int(self.total_peak_capacity * self.eff_fact)\n",
    "    \n",
    "    def original_value_calc(self):\n",
    "        self.original_value = int(self.quantity * self.unit_rate) \n",
    "        \n",
    "    def mobilisation_calc(self):\n",
    "        self.mobilisation = int(self.delta * self.unit_rate * self.mobilisation_perc)\n",
    "        \n",
    "    def maintenance_calc(self):\n",
    "        self.maintenance = int(self.original_value * self.maintenance_perc)\n",
    "        \n",
    "    def insurance_calc(self):\n",
    "        self.insurance = int(self.original_value * self.insurance_perc)\n",
    "        \n",
    "    def consumption_calc(self):\n",
    "        self.consumption = int(0.52 * operational_hours * self.utilisation * self.quantity * self.peak_capacity)\n",
    "        \n",
    "    def shifts_calc(self):\n",
    "        self.shifts = int(np.ceil(self.quantity * operational_hours * self.crew / labour.shift_length))"
   ]
  },
  {
   "cell_type": "code",
   "execution_count": 13,
   "metadata": {},
   "outputs": [],
   "source": [
    "# create objects **will ultimately be placed in notebook**\n",
    "screw_unloaders = continuous_unloader(**continuous_screw_data)"
   ]
  },
  {
   "cell_type": "markdown",
   "metadata": {},
   "source": [
    "## Conveyors"
   ]
  },
  {
   "cell_type": "code",
   "execution_count": 14,
   "metadata": {},
   "outputs": [],
   "source": [
    "# create conveyor class **will ultimately be placed in package**\n",
    "class conveyor_properties_mixin(object):\n",
    "    def __init__(self, ownership, lifespan, mobilisation, maintenance_perc, insurance_perc, crew, utilisation, *args, **kwargs):\n",
    "        super().__init__(*args, **kwargs)\n",
    "        \"initialize\"\n",
    "        self.ownership            = ownership\n",
    "        self.lifespan             = lifespan\n",
    "        self.mobilisation         = mobilisation\n",
    "        self.maintenance_perc     = maintenance_perc\n",
    "        self.insurance_perc       = insurance_perc\n",
    "        self.crew                 = crew\n",
    "        self.utilisation          = utilisation\n",
    "\n",
    "# Initial data set, data from Excel_input.xlsx\n",
    "conveyor_data = {\"ownership\": 'Terminal operator', \"lifespan\": 10, \"mobilisation\": 30000, \n",
    "                 \"maintenance_perc\": 0.10, \"insurance_perc\": 0.01, \"crew\": 0.5, \"utilisation\": 0.80}"
   ]
  },
  {
   "cell_type": "code",
   "execution_count": 15,
   "metadata": {},
   "outputs": [],
   "source": [
    "# define conveyor class functions **will ultimately be placed in package**\n",
    "class conveyor(conveyor_properties_mixin):\n",
    "    def __init__(self, *args, **kwargs):\n",
    "        super().__init__(*args, **kwargs)\n",
    "        \n",
    "    def capacity_calc(self):\n",
    "        self.capacity = int(np.ceil((gantry_cranes.peak_capacity   * gantry_cranes.quantity +\\\n",
    "                                     harbour_cranes.peak_capacity  * harbour_cranes.quantity +\\\n",
    "                                     mobile_cranes.peak_capacity   * mobile_cranes.quantity +\\\n",
    "                                     screw_unloaders.peak_capacity * screw_unloaders.quantity)/400)*400)\n",
    "    \n",
    "    def unit_rate_calc(self):\n",
    "        self.unit_rate = int(6.0 * self.length)\n",
    "    \n",
    "    def original_value_calc(self):\n",
    "        self.original_value = int(self.capacity * self.unit_rate) \n",
    "        \n",
    "    def maintenance_calc(self):\n",
    "        self.maintenance = int(self.original_value * self.maintenance_perc)\n",
    "        \n",
    "    def insurance_calc(self):\n",
    "        self.insurance = int(self.original_value * self.insurance_perc)\n",
    "        \n",
    "    def consumption_calc(self):\n",
    "        self.consumption = int(0.08 * operational_hours * self.utilisation * self.capacity)\n",
    "        \n",
    "    def shifts_calc(self):\n",
    "        self.shifts = int(np.ceil(operational_hours * self.crew / labour.shift_length))\n",
    "        \n",
    "    def delta_calc(self):\n",
    "        self.delta = int(np.ceil((gantry_cranes.peak_capacity   * gantry_cranes.delta  +\\\n",
    "                                  harbour_cranes.peak_capacity  * harbour_cranes.delta +\\\n",
    "                                  mobile_cranes.peak_capacity   * mobile_cranes.delta  +\\\n",
    "                                  screw_unloaders.peak_capacity * screw_unloaders.delta)/400)*400)"
   ]
  },
  {
   "cell_type": "code",
   "execution_count": 16,
   "metadata": {},
   "outputs": [],
   "source": [
    "# create objects **will ultimately be placed in notebook**\n",
    "conveyor_quay       = conveyor(**conveyor_data)\n",
    "conveyor_hinterland = conveyor(**conveyor_data)\n",
    "\n",
    "conveyor_quay.length       = 500\n",
    "conveyor_hinterland.length = 500"
   ]
  },
  {
   "cell_type": "markdown",
   "metadata": {},
   "source": [
    "## Storage"
   ]
  },
  {
   "cell_type": "code",
   "execution_count": 17,
   "metadata": {},
   "outputs": [],
   "source": [
    "# create storage class **will ultimately be placed in package**\n",
    "class storage_properties_mixin(object):\n",
    "    def __init__(self, ownership, lifespan, unit_rate, mobilisation_min, mobilisation_perc, maintenance_perc, insurance_perc, storage_type, utilisation, *args, **kwargs):\n",
    "        super().__init__(*args, **kwargs)\n",
    "        \"initialize\"\n",
    "        self.ownership            = ownership\n",
    "        self.lifespan             = lifespan\n",
    "        self.unit_rate            = unit_rate\n",
    "        self.mobilisation_min     = mobilisation_min\n",
    "        self.mobilisation_perc    = mobilisation_perc\n",
    "        self.maintenance_perc     = maintenance_perc\n",
    "        self.insurance_perc       = insurance_perc\n",
    "        self.storage_type         = storage_type\n",
    "        self.utilisation          = utilisation\n",
    "        \n",
    "# Initial data set, data from Excel_input.xlsx\n",
    "silo_data      = {\"ownership\": 'Terminal operator', \"lifespan\": 30, \"unit_rate\": 60, \n",
    "                  \"mobilisation_min\": 200000, \"mobilisation_perc\": 0.02, \"maintenance_perc\": 0.02, \n",
    "                  \"insurance_perc\": 0.01, \"storage_type\": 'Silos', \"utilisation\": 0.80}\n",
    "warehouse_data = {\"ownership\": 'Terminal operator', \"lifespan\": 30, \"unit_rate\": 140,\n",
    "                  \"mobilisation_min\": 200000, \"mobilisation_perc\": 0.02, \"maintenance_perc\": 0.01, \n",
    "                  \"insurance_perc\": 0.01, \"storage_type\": 'Warehouse', \"utilisation\": 0.80}"
   ]
  },
  {
   "cell_type": "code",
   "execution_count": 18,
   "metadata": {},
   "outputs": [],
   "source": [
    "# define storage class functions **will ultimately be placed in package**\n",
    "class storage(storage_properties_mixin):\n",
    "    def __init__(self, *args, **kwargs):\n",
    "        super().__init__(*args, **kwargs)  \n",
    "    \n",
    "    def original_value_calc(self):\n",
    "        self.original_value = int(self.capacity * self.unit_rate) \n",
    "    \n",
    "    def mobilisation_calc(self):\n",
    "        self.mobilisation = int(max((self.delta * self.unit_rate * self.mobilisation_perc), self.mobilisation_min))\n",
    "        \n",
    "    def maintenance_calc(self):\n",
    "        self.maintenance = int(self.original_value * self.maintenance_perc)\n",
    "        \n",
    "    def insurance_calc(self):\n",
    "        self.insurance = int(self.original_value * self.insurance_perc)\n",
    "        \n",
    "    def consumption_calc(self):\n",
    "        if self.storage_type == 'Silos':\n",
    "            self.consumption = int(0.003 * self.capacity * operational_hours)\n",
    "        if self.storage_type == 'Warehouse':\n",
    "            self.consumption = int(0.001 * self.capacity * operational_hours)\n",
    "        \n",
    "    def shifts_calc(self):\n",
    "        if self.storage_type == 'Silos':\n",
    "            self.crew = 0.00002 * self.capacity  # 2 people per 100.000t of storage\n",
    "        if self.storage_type == 'Warehouse':\n",
    "            self.crew = 0.00004 * self.capacity  # 4 people per 100.000t of storage\n",
    "        self.shifts = int(np.ceil(operational_hours * self.crew / labour.shift_length))"
   ]
  },
  {
   "cell_type": "code",
   "execution_count": 19,
   "metadata": {},
   "outputs": [],
   "source": [
    "# create objects **will ultimately be placed in notebook**     \n",
    "silos     = storage(**silo_data)\n",
    "warehouse = storage(**warehouse_data)"
   ]
  },
  {
   "cell_type": "markdown",
   "metadata": {},
   "source": [
    "## Loading Station"
   ]
  },
  {
   "cell_type": "code",
   "execution_count": 20,
   "metadata": {},
   "outputs": [],
   "source": [
    "# create loading station class **will ultimately be placed in package**\n",
    "class hinterland_station_properties_mixin(object):\n",
    "    def __init__(self, ownership, lifespan, unit_rate, mobilisation, maintenance_perc, insurance_perc, crew, utilisation, *args, **kwargs):\n",
    "        super().__init__(*args, **kwargs)\n",
    "        \"initialize\"\n",
    "        self.ownership            = ownership\n",
    "        self.lifespan             = lifespan\n",
    "        self.unit_rate            = unit_rate\n",
    "        self.mobilisation         = mobilisation\n",
    "        self.maintenance_perc     = maintenance_perc\n",
    "        self.insurance_perc       = insurance_perc\n",
    "        self.crew                 = crew\n",
    "        self.utilisation          = utilisation\n",
    "        \n",
    "# Initial data set, data from Excel_input.xlsx\n",
    "hinterland_station_data = {\"ownership\": 'Terminal operator', \"lifespan\": 15, \"unit_rate\": 4000, \"mobilisation\": 100000, \n",
    "                           \"maintenance_perc\": 0.02, \"insurance_perc\": 0.01, \"crew\": 2, \"utilisation\": 0.80}"
   ]
  },
  {
   "cell_type": "code",
   "execution_count": 21,
   "metadata": {},
   "outputs": [],
   "source": [
    "# define loading station class functions **will ultimately be placed in package**\n",
    "class hinterland_station(hinterland_station_properties_mixin):\n",
    "    def __init__(self, *args, **kwargs):\n",
    "        super().__init__(*args, **kwargs)\n",
    "        \n",
    "    def capacity_calc(self):\n",
    "        self.capacity = 0    \n",
    "    \n",
    "    def original_value_calc(self):\n",
    "        self.original_value = int(self.capacity * self.unit_rate) \n",
    "        \n",
    "    def maintenance_calc(self):\n",
    "        self.maintenance = int(self.original_value * self.maintenance_perc)\n",
    "        \n",
    "    def insurance_calc(self):\n",
    "        self.insurance = int(self.original_value * self.insurance_perc)\n",
    "        \n",
    "    def consumption_calc(self):\n",
    "        self.consumption = int(0.75 * operational_hours * self.utilisation * self.capacity)\n",
    "        \n",
    "    def shifts_calc(self):\n",
    "        self.shifts = int(np.ceil(operational_hours * self.crew / labour.shift_length))"
   ]
  },
  {
   "cell_type": "code",
   "execution_count": 22,
   "metadata": {},
   "outputs": [],
   "source": [
    "# create objects **will ultimately be placed in notebook**\n",
    "loading_station = hinterland_station(**hinterland_station_data)"
   ]
  },
  {
   "cell_type": "markdown",
   "metadata": {},
   "source": [
    "# Business Logic"
   ]
  },
  {
   "cell_type": "markdown",
   "metadata": {},
   "source": [
    "## Revenue calc"
   ]
  },
  {
   "cell_type": "code",
   "execution_count": 23,
   "metadata": {},
   "outputs": [],
   "source": [
    "# create revenue class **will ultimately be placed in package**\n",
    "class revenue_properties_mixin(object):\n",
    "    def __init__(self, *args, **kwargs):\n",
    "        super().__init__(*args, **kwargs)\n",
    "        pass"
   ]
  },
  {
   "cell_type": "code",
   "execution_count": 24,
   "metadata": {},
   "outputs": [],
   "source": [
    "# define revenue class functions **will ultimately be placed in package**\n",
    "class revenue_class(revenue_properties_mixin):\n",
    "    def __init__(self, *args, **kwargs):\n",
    "        super().__init__(*args, **kwargs)\n",
    "    \n",
    "    def calc(self):\n",
    "        self.maize   = int(maize.throughput   * maize.handling_fee)\n",
    "        self.soybean = int(soybean.throughput * soybean.handling_fee)\n",
    "        self.wheat   = int(wheat.throughput   * wheat.handling_fee)\n",
    "        self.total   = int(self.maize + self.soybean + self.wheat)"
   ]
  },
  {
   "cell_type": "code",
   "execution_count": 25,
   "metadata": {},
   "outputs": [],
   "source": [
    "# create objects **will ultimately be placed in notebook**\n",
    "revenue = revenue_class()"
   ]
  },
  {
   "cell_type": "markdown",
   "metadata": {},
   "source": [
    "## Capex calc"
   ]
  },
  {
   "cell_type": "code",
   "execution_count": 26,
   "metadata": {},
   "outputs": [],
   "source": [
    "# create capex class **will ultimately be placed in package**\n",
    "class capex_properties_mixin(object):\n",
    "    def __init__(self, *args, **kwargs):\n",
    "        super().__init__(*args, **kwargs)"
   ]
  },
  {
   "cell_type": "code",
   "execution_count": 27,
   "metadata": {},
   "outputs": [],
   "source": [
    "# define capex class functions **will ultimately be placed in package**\n",
    "class capex_class(capex_properties_mixin):\n",
    "    def __init__(self, *args, **kwargs):\n",
    "        super().__init__(*args, **kwargs)    \n",
    "        \n",
    "    def individual_calc(self, asset):\n",
    "        if asset.delta != 0:\n",
    "            if \"unit_rate_calc\" in dir(asset) != False:\n",
    "                asset.unit_rate_calc()\n",
    "            if \"mobilisation_calc\" in dir(asset) != False:\n",
    "                asset.mobilisation_calc()\n",
    "            return int(asset.delta * asset.unit_rate + asset.mobilisation)\n",
    "        if asset.delta == 0: \n",
    "            return 0\n",
    "            \n",
    "    def calc(self):\n",
    "        self.quay                = self.individual_calc(quay)\n",
    "        self.gantry_cranes       = self.individual_calc(gantry_cranes)\n",
    "        self.harbour_cranes      = self.individual_calc(harbour_cranes)\n",
    "        self.mobile_cranes       = self.individual_calc(mobile_cranes)\n",
    "        self.screw_unloaders     = self.individual_calc(screw_unloaders)\n",
    "        self.conveyor_quay       = self.individual_calc(conveyor_quay)\n",
    "        self.conveyor_hinterland = self.individual_calc(conveyor_hinterland)\n",
    "        self.silos               = self.individual_calc(silos)\n",
    "        self.warehouse           = self.individual_calc(warehouse)\n",
    "        self.loading_station     = self.individual_calc(loading_station)\n",
    "        \n",
    "        self.total = int(self.quay + self.gantry_cranes + self.harbour_cranes + self.mobile_cranes + self.screw_unloaders +\\\n",
    "                     self.conveyor_quay + self.conveyor_hinterland + self.silos + self.warehouse + self.loading_station)"
   ]
  },
  {
   "cell_type": "code",
   "execution_count": 28,
   "metadata": {},
   "outputs": [],
   "source": [
    "# create objects **will ultimately be placed in notebook**\n",
    "capex = capex_class()"
   ]
  },
  {
   "cell_type": "markdown",
   "metadata": {},
   "source": [
    "## Labour calc"
   ]
  },
  {
   "cell_type": "code",
   "execution_count": 29,
   "metadata": {},
   "outputs": [],
   "source": [
    "# create labour class **will ultimately be placed in package**\n",
    "class labour_properties_mixin(object):\n",
    "    def __init__(self, international_salary, international_staff, local_salary, local_staff, operational_salary, \n",
    "                 shift_length, annual_shifts, *args, **kwargs):\n",
    "        super().__init__(*args, **kwargs)\n",
    "        self.international_salary = international_salary\n",
    "        self.international_staff = international_staff\n",
    "        self.local_salary = local_salary\n",
    "        self.local_staff = local_staff\n",
    "        self.operational_salary = operational_salary\n",
    "        self.shift_length = shift_length\n",
    "        self.annual_shifts = annual_shifts\n",
    "\n",
    "labour_data =  {\"international_salary\": 105000, \"international_staff\": 4, \"local_salary\": 18850, \"local_staff\": 10, \n",
    "                \"operational_salary\": 16750, \"shift_length\": 6.5, \"annual_shifts\": 200}"
   ]
  },
  {
   "cell_type": "code",
   "execution_count": 30,
   "metadata": {},
   "outputs": [],
   "source": [
    "# define labour class functions **will ultimately be placed in package**\n",
    "class labour_class(labour_properties_mixin):\n",
    "    def __init__(self, *args, **kwargs):\n",
    "        super().__init__(*args, **kwargs)\n",
    "    \n",
    "    def individual_calc(self, asset):\n",
    "        if \"shifts_calc\" in dir(asset) != False:\n",
    "            asset.shifts_calc()\n",
    "            return int(np.ceil(asset.shifts / self.annual_shifts))\n",
    "        else:\n",
    "            return 0\n",
    "            \n",
    "    def calc(self):\n",
    "        self.staff_quay                = self.individual_calc(quay)\n",
    "        self.staff_gantry_cranes       = self.individual_calc(gantry_cranes)\n",
    "        self.staff_harbour_cranes      = self.individual_calc(harbour_cranes)\n",
    "        self.staff_mobile_cranes       = self.individual_calc(mobile_cranes)\n",
    "        self.staff_screw_unloaders     = self.individual_calc(screw_unloaders)\n",
    "        self.staff_conveyor_quay       = self.individual_calc(conveyor_quay)\n",
    "        self.staff_conveyor_hinterland = self.individual_calc(conveyor_hinterland)\n",
    "        self.staff_silos               = self.individual_calc(silos)\n",
    "        self.staff_warehouse           = self.individual_calc(warehouse)\n",
    "        self.staff_loading_station     = self.individual_calc(loading_station)\n",
    "        \n",
    "        self.operational_staff = int(self.staff_quay + self.staff_gantry_cranes + self.staff_harbour_cranes + \n",
    "                                     self.staff_mobile_cranes + self.staff_screw_unloaders + self.staff_conveyor_quay +\\\n",
    "                                     self.staff_conveyor_hinterland + self.staff_silos + self.staff_warehouse +\\\n",
    "                                     self.staff_loading_station)\n",
    "        \n",
    "        self.total = self.international_salary * self.international_staff + self.local_salary * self.local_staff +\\\n",
    "                     self.operational_salary   * self.operational_staff"
   ]
  },
  {
   "cell_type": "code",
   "execution_count": 31,
   "metadata": {},
   "outputs": [],
   "source": [
    "# create objects **will ultimately be placed in notebook**\n",
    "labour = labour_class(**labour_data)"
   ]
  },
  {
   "cell_type": "markdown",
   "metadata": {},
   "source": [
    "## Maintenance calc"
   ]
  },
  {
   "cell_type": "code",
   "execution_count": 32,
   "metadata": {},
   "outputs": [],
   "source": [
    "# create maintenance class **will ultimately be placed in package**\n",
    "class maintenance_properties_mixin(object):\n",
    "    def __init__(self, *args, **kwargs):\n",
    "        super().__init__(*args, **kwargs)"
   ]
  },
  {
   "cell_type": "code",
   "execution_count": 33,
   "metadata": {},
   "outputs": [],
   "source": [
    "# define maintenance class functions **will ultimately be placed in package**\n",
    "class maintenance_class(maintenance_properties_mixin):\n",
    "    def __init__(self, *args, **kwargs):\n",
    "        super().__init__(*args, **kwargs)\n",
    "    \n",
    "    def individual_calc(self, asset):\n",
    "        if \"unit_rate_calc\" in dir(asset) != False:\n",
    "            asset.unit_rate_calc()\n",
    "        if \"original_value_calc\" in dir(asset) != False:\n",
    "            asset.original_value_calc()\n",
    "        if \"maintenance_calc\" in dir(asset) != False:\n",
    "            asset.maintenance_calc()\n",
    "            return asset.maintenance\n",
    "        else:\n",
    "            return 0\n",
    "            \n",
    "    def calc(self):\n",
    "        self.quay                = self.individual_calc(quay)\n",
    "        self.gantry_cranes       = self.individual_calc(gantry_cranes)\n",
    "        self.harbour_cranes      = self.individual_calc(harbour_cranes)\n",
    "        self.mobile_cranes       = self.individual_calc(mobile_cranes)\n",
    "        self.screw_unloaders     = self.individual_calc(screw_unloaders)\n",
    "        self.conveyor_quay       = self.individual_calc(conveyor_quay)\n",
    "        self.conveyor_hinterland = self.individual_calc(conveyor_hinterland)\n",
    "        self.silos               = self.individual_calc(silos)\n",
    "        self.warehouse           = self.individual_calc(warehouse)\n",
    "        self.loading_station     = self.individual_calc(loading_station)\n",
    "        \n",
    "        self.total = int(self.quay + self.gantry_cranes + self.harbour_cranes + self.mobile_cranes + self.screw_unloaders +\\\n",
    "                     self.conveyor_quay + self.conveyor_hinterland + self.silos + self.warehouse + self.loading_station)"
   ]
  },
  {
   "cell_type": "code",
   "execution_count": 34,
   "metadata": {},
   "outputs": [],
   "source": [
    "# create objects **will ultimately be placed in notebook**\n",
    "maintenance = maintenance_class()"
   ]
  },
  {
   "cell_type": "markdown",
   "metadata": {},
   "source": [
    "## Energy consumption calc"
   ]
  },
  {
   "cell_type": "code",
   "execution_count": 35,
   "metadata": {},
   "outputs": [],
   "source": [
    "# create energy consumption class **will ultimately be placed in package**\n",
    "class energy_properties_mixin(object):\n",
    "    def __init__(self, price, *args, **kwargs):\n",
    "        super().__init__(*args, **kwargs)\n",
    "        self.price = price\n",
    "\n",
    "# Initial data\n",
    "energy_data = {\"price\": 0.10}"
   ]
  },
  {
   "cell_type": "code",
   "execution_count": 36,
   "metadata": {},
   "outputs": [],
   "source": [
    "# define energy consumption class functions **will ultimately be placed in package**\n",
    "class energy_class(energy_properties_mixin):\n",
    "    def __init__(self, *args, **kwargs):\n",
    "        super().__init__(*args, **kwargs)\n",
    "    \n",
    "    def individual_calc(self, asset):\n",
    "        if \"consumption_calc\" in dir(asset) != False:\n",
    "            asset.consumption_calc()\n",
    "            return asset.consumption\n",
    "        else:\n",
    "            return 0\n",
    "            \n",
    "    def calc(self):\n",
    "        self.quay                = self.individual_calc(quay)\n",
    "        self.gantry_cranes       = self.individual_calc(gantry_cranes)\n",
    "        self.harbour_cranes      = self.individual_calc(harbour_cranes)\n",
    "        self.mobile_cranes       = self.individual_calc(mobile_cranes)\n",
    "        self.screw_unloaders     = self.individual_calc(screw_unloaders)\n",
    "        self.conveyor_quay       = self.individual_calc(conveyor_quay)\n",
    "        self.conveyor_hinterland = self.individual_calc(conveyor_hinterland)\n",
    "        self.silos               = self.individual_calc(silos)\n",
    "        self.warehouse           = self.individual_calc(warehouse)\n",
    "        self.loading_station     = self.individual_calc(loading_station)\n",
    "        \n",
    "        self.consumption = int(self.quay + self.gantry_cranes + self.harbour_cranes + self.mobile_cranes + self.screw_unloaders +\\\n",
    "                               self.conveyor_quay + self.conveyor_hinterland + self.silos + self.warehouse + self.loading_station)\n",
    "        self.total = int(self.consumption * self.price)"
   ]
  },
  {
   "cell_type": "code",
   "execution_count": 37,
   "metadata": {},
   "outputs": [],
   "source": [
    "# create objects **will ultimately be placed in notebook**\n",
    "energy = energy_class(**energy_data)"
   ]
  },
  {
   "cell_type": "markdown",
   "metadata": {},
   "source": [
    "## Demurrage calc"
   ]
  },
  {
   "cell_type": "code",
   "execution_count": 38,
   "metadata": {},
   "outputs": [],
   "source": [
    "# create demurrage class **will ultimately be placed in package**\n",
    "class demurrage_properties_mixin(object):\n",
    "    def __init__(self, *args, **kwargs):\n",
    "        super().__init__(*args, **kwargs)"
   ]
  },
  {
   "cell_type": "code",
   "execution_count": 39,
   "metadata": {},
   "outputs": [],
   "source": [
    "# define demurrage class functions **will ultimately be placed in package**\n",
    "class demurrage_class(demurrage_properties_mixin):\n",
    "    def __init__(self, *args, **kwargs):\n",
    "        super().__init__(*args, **kwargs)\n",
    "    \n",
    "    def individual_calc(self, vessel_type):\n",
    "        vessel_type.berth_time_calc()\n",
    "        return int(max(vessel_type.port_time - vessel_type.all_turn_time, 0) * vessel_type.demurrage_rate)\n",
    "       \n",
    "    def calc(self):\n",
    "        self.handysize = self.individual_calc(handysize)\n",
    "        self.handymax  = self.individual_calc(handymax)\n",
    "        self.panamax   = self.individual_calc(panamax)"
   ]
  },
  {
   "cell_type": "code",
   "execution_count": 40,
   "metadata": {},
   "outputs": [],
   "source": [
    "# create objects **will ultimately be placed in notebook**\n",
    "demurrage = demurrage_class()"
   ]
  },
  {
   "cell_type": "code",
   "execution_count": 41,
   "metadata": {},
   "outputs": [],
   "source": [
    "# [Test] demurrage \n",
    "\n",
    "#demurrage.calc()\n",
    "#demurrage.__dict__"
   ]
  },
  {
   "cell_type": "markdown",
   "metadata": {},
   "source": [
    "## Residual value calc"
   ]
  },
  {
   "cell_type": "code",
   "execution_count": null,
   "metadata": {},
   "outputs": [],
   "source": []
  },
  {
   "cell_type": "markdown",
   "metadata": {},
   "source": [
    "## Lease calc"
   ]
  },
  {
   "cell_type": "code",
   "execution_count": null,
   "metadata": {},
   "outputs": [],
   "source": []
  },
  {
   "cell_type": "markdown",
   "metadata": {},
   "source": [
    "## WACC calc"
   ]
  },
  {
   "cell_type": "code",
   "execution_count": null,
   "metadata": {},
   "outputs": [],
   "source": []
  },
  {
   "cell_type": "markdown",
   "metadata": {},
   "source": [
    "## Escalation calc"
   ]
  },
  {
   "cell_type": "code",
   "execution_count": null,
   "metadata": {},
   "outputs": [],
   "source": []
  },
  {
   "cell_type": "markdown",
   "metadata": {},
   "source": [
    "## Profit calc"
   ]
  },
  {
   "cell_type": "code",
   "execution_count": null,
   "metadata": {},
   "outputs": [],
   "source": []
  },
  {
   "cell_type": "markdown",
   "metadata": {},
   "source": [
    "## NPV calc"
   ]
  },
  {
   "cell_type": "code",
   "execution_count": null,
   "metadata": {},
   "outputs": [],
   "source": []
  },
  {
   "cell_type": "markdown",
   "metadata": {},
   "source": [
    "# Simulation"
   ]
  },
  {
   "cell_type": "code",
   "execution_count": null,
   "metadata": {},
   "outputs": [],
   "source": []
  }
 ],
 "metadata": {
  "kernelspec": {
   "display_name": "Python 3",
   "language": "python",
   "name": "python3"
  },
  "language_info": {
   "codemirror_mode": {
    "name": "ipython",
    "version": 3
   },
   "file_extension": ".py",
   "mimetype": "text/x-python",
   "name": "python",
   "nbconvert_exporter": "python",
   "pygments_lexer": "ipython3",
   "version": "3.6.5"
  }
 },
 "nbformat": 4,
 "nbformat_minor": 2
}
