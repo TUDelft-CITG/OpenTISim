{
 "cells": [
  {
   "cell_type": "code",
   "execution_count": 2,
   "metadata": {},
   "outputs": [],
   "source": [
    "import matplotlib.pyplot as plt"
   ]
  },
  {
   "cell_type": "markdown",
   "metadata": {},
   "source": [
    "# Scenario Trend"
   ]
  },
  {
   "cell_type": "code",
   "execution_count": null,
   "metadata": {},
   "outputs": [],
   "source": [
    "def trend(maize, soybean, wheat, width, height):\n",
    "    fig  = plt.figure(figsize=(width, height))\n",
    "    grid = plt.GridSpec(1, 1, wspace=0.4, hspace=0.5)\n",
    "    fig1 = fig.add_subplot(grid[0, 0])\n",
    "\n",
    "    fig1.plot(maize.years, maize.demand    , label='Maize demand')\n",
    "    fig1.plot(soybean.years, soybean.demand, label='Soybean demand')\n",
    "    fig1.plot(wheat.years, wheat.demand    , label='Wheat demand')\n",
    "    fig1.set_title ('Commodity demand')\n",
    "    fig1.set_xlabel('Year')\n",
    "    fig1.set_ylabel('Demand [t/y]')\n",
    "    fig1.legend()\n",
    "\n",
    "    return fig1"
   ]
  },
  {
   "cell_type": "markdown",
   "metadata": {},
   "source": [
    "# Business Logic\n",
    "### NPV"
   ]
  },
  {
   "cell_type": "code",
   "execution_count": null,
   "metadata": {},
   "outputs": [],
   "source": [
    "###"
   ]
  },
  {
   "cell_type": "markdown",
   "metadata": {},
   "source": [
    "### Capex"
   ]
  },
  {
   "cell_type": "code",
   "execution_count": null,
   "metadata": {},
   "outputs": [],
   "source": [
    "def profit_loss(profits, width, height):\n",
    "    \n",
    "    x = []\n",
    "    y1 = []\n",
    "    y_min = []\n",
    "    y_max = []\n",
    "    \n",
    "    for i in range (len(profits)):\n",
    "        x.append(profits[i].year)\n",
    "        y1.append(profits[i].total)\n",
    "        if y1[i] <= 0:\n",
    "            y_min.append(0)\n",
    "        else:\n",
    "            y_min.append(y1[i])\n",
    "        if y1[i] >= 0:\n",
    "            y_max.append(0)\n",
    "        else:\n",
    "            y_max.append(y1[i])\n",
    "    \n",
    "    fig  = plt.figure(figsize=(width, height))\n",
    "    grid = plt.GridSpec(1, 1, wspace=0.4, hspace=0.5)\n",
    "    fig1 = fig.add_subplot(grid[0, 0])\n",
    "\n",
    "    fig1.step(x, y1, where='post', label='Profit / loss')\n",
    "    fig1.fill_between(x, y1, y_min, step='post', facecolor='red', alpha=0.4)\n",
    "    fig1.fill_between(x, y1, y_max, step='post', facecolor='green', alpha=0.4)\n",
    "    fig1.set_title ('Annualised profits')\n",
    "    fig1.set_xlabel('Year')\n",
    "    fig1.set_ylabel('Profit / Loss [$]')\n",
    "    fig1.legend()\n",
    "\n",
    "    return fig1"
   ]
  },
  {
   "cell_type": "code",
   "execution_count": null,
   "metadata": {},
   "outputs": [],
   "source": [
    "def capex(capex, width, height):\n",
    "    \n",
    "    x = []\n",
    "    y = []\n",
    "    for i in range (len(capex)):\n",
    "        x.append(capex[i].year)\n",
    "        y.append(capex[i].total)\n",
    "    \n",
    "    fig  = plt.figure(figsize=(width, height))\n",
    "    grid = plt.GridSpec(1, 1, wspace=0.4, hspace=0.5)\n",
    "    fig1 = fig.add_subplot(grid[0, 0])\n",
    "\n",
    "    fig1.step(x, y, where='post', label='Capex')\n",
    "    fig1.set_title ('Capex')\n",
    "    fig1.set_xlabel('Year')\n",
    "    fig1.set_ylabel('Cost [$]')\n",
    "    fig1.legend()\n",
    "\n",
    "    return fig1"
   ]
  },
  {
   "cell_type": "markdown",
   "metadata": {},
   "source": [
    "### Overall"
   ]
  },
  {
   "cell_type": "code",
   "execution_count": null,
   "metadata": {},
   "outputs": [],
   "source": [
    "def cashflows(profits, revenues, capex, opex, width, height):\n",
    "    \n",
    "    x  = []\n",
    "    y1 = []\n",
    "    y2 = []\n",
    "    y3 = []\n",
    "    y4 = []\n",
    "    \n",
    "    for i in range (len(capex)):\n",
    "        x.append(capex[i].year)\n",
    "        y1.append(profits[i].total)\n",
    "        y2.append(revenues[i].total)\n",
    "        y3.append(capex[i].total)\n",
    "        y4.append(opex[i].total)\n",
    "        \n",
    "    fig  = plt.figure(figsize=(width, height))\n",
    "    grid = plt.GridSpec(1, 1, wspace=0.4, hspace=0.5)\n",
    "    fig1 = fig.add_subplot(grid[0, 0])\n",
    "\n",
    "    fig1.plot(x, y1, label='Profits')\n",
    "    fig1.plot(x, y2, label='Revenues')\n",
    "    fig1.plot(x, y3, label='Capex')\n",
    "    fig1.plot(x, y3, label='Opex')\n",
    "    fig1.set_title ('Cash flows')\n",
    "    fig1.set_xlabel('Year')\n",
    "    fig1.set_ylabel('Profit/loss [$]')\n",
    "    fig1.legend()\n",
    "    \n",
    "    return fig1"
   ]
  },
  {
   "cell_type": "code",
   "execution_count": null,
   "metadata": {},
   "outputs": [],
   "source": [
    "def all_cashflows(revenues, capex, labour, maintenance, energy, insurance, demurrage, residuals, width, height):\n",
    "    \n",
    "    x  = []\n",
    "    y1 = []\n",
    "    y2 = []\n",
    "    y3 = []\n",
    "    y4 = []\n",
    "    y5 = []\n",
    "    y6 = []\n",
    "    y7 = []\n",
    "    y8 = []\n",
    "    \n",
    "    for i in range (len(capex)):\n",
    "        x.append(revenues[i].year)\n",
    "        y1.append(revenues[i].total)\n",
    "        y2.append(capex[i].total)\n",
    "        y3.append(labour[i].total)\n",
    "        y4.append(maintenance[i].total)\n",
    "        y5.append(energy[i].total)\n",
    "        y6.append(insurance[i].total)\n",
    "        y7.append(demurrage[i].total)\n",
    "        y8.append(residuals[i].total)\n",
    "        \n",
    "    fig  = plt.figure(figsize=(width, height))\n",
    "    grid = plt.GridSpec(1, 1, wspace=0.4, hspace=0.5)\n",
    "    fig1 = fig.add_subplot(grid[0, 0])\n",
    "    \n",
    "    fig1.step(x, y1, where='post', label='Revenues')\n",
    "    fig1.step(x, y2, where='post', label='Capex')\n",
    "    fig1.step(x, y3, where='post', label='Labour')\n",
    "    fig1.step(x, y4, where='post', label='Maintenance')\n",
    "    fig1.step(x, y5, where='post', label='Energy')\n",
    "    fig1.step(x, y6, where='post', label='Insurance')\n",
    "    fig1.step(x, y7, where='post', label='Demurrage')\n",
    "    fig1.step(x, y8, where='post', label='Residual value')\n",
    "    fig1.set_title ('Cash flows')\n",
    "    fig1.set_xlabel('Year')\n",
    "    fig1.set_ylabel('Profit/loss [$]')\n",
    "    fig1.legend()\n",
    "    \n",
    "    return fig1"
   ]
  },
  {
   "cell_type": "markdown",
   "metadata": {},
   "source": [
    "### Demand vs Capacity"
   ]
  },
  {
   "cell_type": "code",
   "execution_count": null,
   "metadata": {},
   "outputs": [],
   "source": [
    "def throughput(commodities, throughputs, width, height):\n",
    "    \n",
    "    maize   = commodities[0]\n",
    "    soybean = commodities[1]\n",
    "    wheat   = commodities[2]\n",
    "    \n",
    "    x  = []\n",
    "    y1 = []\n",
    "    y2 = []\n",
    "    y3 = []\n",
    "    \n",
    "    for i in range (len(throughputs)):\n",
    "        demand = maize.demand[i] + soybean.demand[i] + wheat.demand[i]\n",
    "        x.append(throughputs[i].year)\n",
    "        y1.append(throughputs[i].current_total)\n",
    "        y2.append(throughputs[i].max_total)\n",
    "        y3.append(demand)\n",
    "        \n",
    "    fig  = plt.figure(figsize=(width, height))\n",
    "    grid = plt.GridSpec(1, 1, wspace=0.4, hspace=0.5)\n",
    "    fig1 = fig.add_subplot(grid[0, 0])\n",
    "\n",
    "    fig1.step(x, y1, where='post', label='Current throughput')\n",
    "    fig1.step(x, y2, where='post', label='Maximum terminal capacity')\n",
    "    fig1.step(x, y3, where='post', label='Demand')\n",
    "    fig1.set_title ('Demand vs. capacity')\n",
    "    fig1.set_xlabel('Year')\n",
    "    fig1.set_ylabel('Annual throughput [t/y]')\n",
    "    fig1.legend()\n",
    "    \n",
    "    return fig1"
   ]
  }
 ],
 "metadata": {
  "kernelspec": {
   "display_name": "Python 3",
   "language": "python",
   "name": "python3"
  },
  "language_info": {
   "codemirror_mode": {
    "name": "ipython",
    "version": 3
   },
   "file_extension": ".py",
   "mimetype": "text/x-python",
   "name": "python",
   "nbconvert_exporter": "python",
   "pygments_lexer": "ipython3",
   "version": "3.6.5"
  }
 },
 "nbformat": 4,
 "nbformat_minor": 2
}
